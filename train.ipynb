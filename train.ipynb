{
  "cells": [
    {
      "cell_type": "markdown",
      "metadata": {
        "id": "SwkFEsEgCCyl"
      },
      "source": [
        "# Foursquare dataset next-POI Recommendation System"
      ]
    },
    {
      "cell_type": "markdown",
      "metadata": {
        "id": "MZnW-ffHCCym"
      },
      "source": [
        "First off we import all the necessary libraries:"
      ]
    },
    {
      "cell_type": "code",
      "execution_count": 4,
      "metadata": {
        "colab": {
          "base_uri": "https://localhost:8080/"
        },
        "execution": {
          "iopub.execute_input": "2024-05-12T17:16:39.908606Z",
          "iopub.status.busy": "2024-05-12T17:16:39.908174Z",
          "iopub.status.idle": "2024-05-12T17:16:55.475004Z",
          "shell.execute_reply": "2024-05-12T17:16:55.473782Z",
          "shell.execute_reply.started": "2024-05-12T17:16:39.908577Z"
        },
        "id": "7ML-ffMMCCyn",
        "outputId": "bfeeed1d-3ea8-4dae-d219-6756c264828f",
        "trusted": true
      },
      "outputs": [
        {
          "output_type": "stream",
          "name": "stdout",
          "text": [
            "Requirement already satisfied: lightning in /usr/local/lib/python3.10/dist-packages (2.2.4)\n",
            "Requirement already satisfied: geohash2 in /usr/local/lib/python3.10/dist-packages (1.1)\n",
            "Requirement already satisfied: wandb in /usr/local/lib/python3.10/dist-packages (0.17.0)\n",
            "Requirement already satisfied: polars==0.20.25 in /usr/local/lib/python3.10/dist-packages (0.20.25)\n",
            "Requirement already satisfied: PyYAML<8.0,>=5.4 in /usr/local/lib/python3.10/dist-packages (from lightning) (6.0.1)\n",
            "Requirement already satisfied: fsspec[http]<2025.0,>=2022.5.0 in /usr/local/lib/python3.10/dist-packages (from lightning) (2023.6.0)\n",
            "Requirement already satisfied: lightning-utilities<2.0,>=0.8.0 in /usr/local/lib/python3.10/dist-packages (from lightning) (0.11.2)\n",
            "Requirement already satisfied: numpy<3.0,>=1.17.2 in /usr/local/lib/python3.10/dist-packages (from lightning) (1.25.2)\n",
            "Requirement already satisfied: packaging<25.0,>=20.0 in /usr/local/lib/python3.10/dist-packages (from lightning) (24.0)\n",
            "Requirement already satisfied: torch<4.0,>=1.13.0 in /usr/local/lib/python3.10/dist-packages (from lightning) (2.2.1+cu121)\n",
            "Requirement already satisfied: torchmetrics<3.0,>=0.7.0 in /usr/local/lib/python3.10/dist-packages (from lightning) (1.4.0.post0)\n",
            "Requirement already satisfied: tqdm<6.0,>=4.57.0 in /usr/local/lib/python3.10/dist-packages (from lightning) (4.66.4)\n",
            "Requirement already satisfied: typing-extensions<6.0,>=4.4.0 in /usr/local/lib/python3.10/dist-packages (from lightning) (4.11.0)\n",
            "Requirement already satisfied: pytorch-lightning in /usr/local/lib/python3.10/dist-packages (from lightning) (2.2.4)\n",
            "Requirement already satisfied: docutils>=0.3 in /usr/local/lib/python3.10/dist-packages (from geohash2) (0.18.1)\n",
            "Requirement already satisfied: click!=8.0.0,>=7.1 in /usr/local/lib/python3.10/dist-packages (from wandb) (8.1.7)\n",
            "Requirement already satisfied: docker-pycreds>=0.4.0 in /usr/local/lib/python3.10/dist-packages (from wandb) (0.4.0)\n",
            "Requirement already satisfied: gitpython!=3.1.29,>=1.0.0 in /usr/local/lib/python3.10/dist-packages (from wandb) (3.1.43)\n",
            "Requirement already satisfied: platformdirs in /usr/local/lib/python3.10/dist-packages (from wandb) (4.2.1)\n",
            "Requirement already satisfied: protobuf!=4.21.0,<5,>=3.19.0 in /usr/local/lib/python3.10/dist-packages (from wandb) (3.20.3)\n",
            "Requirement already satisfied: psutil>=5.0.0 in /usr/local/lib/python3.10/dist-packages (from wandb) (5.9.5)\n",
            "Requirement already satisfied: requests<3,>=2.0.0 in /usr/local/lib/python3.10/dist-packages (from wandb) (2.31.0)\n",
            "Requirement already satisfied: sentry-sdk>=1.0.0 in /usr/local/lib/python3.10/dist-packages (from wandb) (2.2.0)\n",
            "Requirement already satisfied: setproctitle in /usr/local/lib/python3.10/dist-packages (from wandb) (1.3.3)\n",
            "Requirement already satisfied: setuptools in /usr/local/lib/python3.10/dist-packages (from wandb) (67.7.2)\n",
            "Requirement already satisfied: six>=1.4.0 in /usr/local/lib/python3.10/dist-packages (from docker-pycreds>=0.4.0->wandb) (1.16.0)\n",
            "Requirement already satisfied: aiohttp!=4.0.0a0,!=4.0.0a1 in /usr/local/lib/python3.10/dist-packages (from fsspec[http]<2025.0,>=2022.5.0->lightning) (3.9.5)\n",
            "Requirement already satisfied: gitdb<5,>=4.0.1 in /usr/local/lib/python3.10/dist-packages (from gitpython!=3.1.29,>=1.0.0->wandb) (4.0.11)\n",
            "Requirement already satisfied: charset-normalizer<4,>=2 in /usr/local/lib/python3.10/dist-packages (from requests<3,>=2.0.0->wandb) (3.3.2)\n",
            "Requirement already satisfied: idna<4,>=2.5 in /usr/local/lib/python3.10/dist-packages (from requests<3,>=2.0.0->wandb) (3.7)\n",
            "Requirement already satisfied: urllib3<3,>=1.21.1 in /usr/local/lib/python3.10/dist-packages (from requests<3,>=2.0.0->wandb) (2.0.7)\n",
            "Requirement already satisfied: certifi>=2017.4.17 in /usr/local/lib/python3.10/dist-packages (from requests<3,>=2.0.0->wandb) (2024.2.2)\n",
            "Requirement already satisfied: filelock in /usr/local/lib/python3.10/dist-packages (from torch<4.0,>=1.13.0->lightning) (3.14.0)\n",
            "Requirement already satisfied: sympy in /usr/local/lib/python3.10/dist-packages (from torch<4.0,>=1.13.0->lightning) (1.12)\n",
            "Requirement already satisfied: networkx in /usr/local/lib/python3.10/dist-packages (from torch<4.0,>=1.13.0->lightning) (3.3)\n",
            "Requirement already satisfied: jinja2 in /usr/local/lib/python3.10/dist-packages (from torch<4.0,>=1.13.0->lightning) (3.1.4)\n",
            "Requirement already satisfied: nvidia-cuda-nvrtc-cu12==12.1.105 in /usr/local/lib/python3.10/dist-packages (from torch<4.0,>=1.13.0->lightning) (12.1.105)\n",
            "Requirement already satisfied: nvidia-cuda-runtime-cu12==12.1.105 in /usr/local/lib/python3.10/dist-packages (from torch<4.0,>=1.13.0->lightning) (12.1.105)\n",
            "Requirement already satisfied: nvidia-cuda-cupti-cu12==12.1.105 in /usr/local/lib/python3.10/dist-packages (from torch<4.0,>=1.13.0->lightning) (12.1.105)\n",
            "Requirement already satisfied: nvidia-cudnn-cu12==8.9.2.26 in /usr/local/lib/python3.10/dist-packages (from torch<4.0,>=1.13.0->lightning) (8.9.2.26)\n",
            "Requirement already satisfied: nvidia-cublas-cu12==12.1.3.1 in /usr/local/lib/python3.10/dist-packages (from torch<4.0,>=1.13.0->lightning) (12.1.3.1)\n",
            "Requirement already satisfied: nvidia-cufft-cu12==11.0.2.54 in /usr/local/lib/python3.10/dist-packages (from torch<4.0,>=1.13.0->lightning) (11.0.2.54)\n",
            "Requirement already satisfied: nvidia-curand-cu12==10.3.2.106 in /usr/local/lib/python3.10/dist-packages (from torch<4.0,>=1.13.0->lightning) (10.3.2.106)\n",
            "Requirement already satisfied: nvidia-cusolver-cu12==11.4.5.107 in /usr/local/lib/python3.10/dist-packages (from torch<4.0,>=1.13.0->lightning) (11.4.5.107)\n",
            "Requirement already satisfied: nvidia-cusparse-cu12==12.1.0.106 in /usr/local/lib/python3.10/dist-packages (from torch<4.0,>=1.13.0->lightning) (12.1.0.106)\n",
            "Requirement already satisfied: nvidia-nccl-cu12==2.19.3 in /usr/local/lib/python3.10/dist-packages (from torch<4.0,>=1.13.0->lightning) (2.19.3)\n",
            "Requirement already satisfied: nvidia-nvtx-cu12==12.1.105 in /usr/local/lib/python3.10/dist-packages (from torch<4.0,>=1.13.0->lightning) (12.1.105)\n",
            "Requirement already satisfied: triton==2.2.0 in /usr/local/lib/python3.10/dist-packages (from torch<4.0,>=1.13.0->lightning) (2.2.0)\n",
            "Requirement already satisfied: nvidia-nvjitlink-cu12 in /usr/local/lib/python3.10/dist-packages (from nvidia-cusolver-cu12==11.4.5.107->torch<4.0,>=1.13.0->lightning) (12.4.127)\n",
            "Requirement already satisfied: aiosignal>=1.1.2 in /usr/local/lib/python3.10/dist-packages (from aiohttp!=4.0.0a0,!=4.0.0a1->fsspec[http]<2025.0,>=2022.5.0->lightning) (1.3.1)\n",
            "Requirement already satisfied: attrs>=17.3.0 in /usr/local/lib/python3.10/dist-packages (from aiohttp!=4.0.0a0,!=4.0.0a1->fsspec[http]<2025.0,>=2022.5.0->lightning) (23.2.0)\n",
            "Requirement already satisfied: frozenlist>=1.1.1 in /usr/local/lib/python3.10/dist-packages (from aiohttp!=4.0.0a0,!=4.0.0a1->fsspec[http]<2025.0,>=2022.5.0->lightning) (1.4.1)\n",
            "Requirement already satisfied: multidict<7.0,>=4.5 in /usr/local/lib/python3.10/dist-packages (from aiohttp!=4.0.0a0,!=4.0.0a1->fsspec[http]<2025.0,>=2022.5.0->lightning) (6.0.5)\n",
            "Requirement already satisfied: yarl<2.0,>=1.0 in /usr/local/lib/python3.10/dist-packages (from aiohttp!=4.0.0a0,!=4.0.0a1->fsspec[http]<2025.0,>=2022.5.0->lightning) (1.9.4)\n",
            "Requirement already satisfied: async-timeout<5.0,>=4.0 in /usr/local/lib/python3.10/dist-packages (from aiohttp!=4.0.0a0,!=4.0.0a1->fsspec[http]<2025.0,>=2022.5.0->lightning) (4.0.3)\n",
            "Requirement already satisfied: smmap<6,>=3.0.1 in /usr/local/lib/python3.10/dist-packages (from gitdb<5,>=4.0.1->gitpython!=3.1.29,>=1.0.0->wandb) (5.0.1)\n",
            "Requirement already satisfied: MarkupSafe>=2.0 in /usr/local/lib/python3.10/dist-packages (from jinja2->torch<4.0,>=1.13.0->lightning) (2.1.5)\n",
            "Requirement already satisfied: mpmath>=0.19 in /usr/local/lib/python3.10/dist-packages (from sympy->torch<4.0,>=1.13.0->lightning) (1.3.0)\n"
          ]
        }
      ],
      "source": [
        " %pip install lightning geohash2 wandb polars==0.20.25"
      ]
    },
    {
      "cell_type": "code",
      "execution_count": 5,
      "metadata": {
        "colab": {
          "base_uri": "https://localhost:8080/"
        },
        "id": "e7nPgeM4CLmX",
        "outputId": "cec02e0b-3c14-4d0a-da1e-9a9bbcd67c11"
      },
      "outputs": [
        {
          "output_type": "stream",
          "name": "stdout",
          "text": [
            "Drive already mounted at /content/drive; to attempt to forcibly remount, call drive.mount(\"/content/drive\", force_remount=True).\n"
          ]
        }
      ],
      "source": [
        " from google.colab import drive\n",
        "\n",
        " drive.mount(\"/content/drive\")"
      ]
    },
    {
      "cell_type": "code",
      "execution_count": 6,
      "metadata": {
        "execution": {
          "iopub.execute_input": "2024-05-12T17:11:52.593531Z",
          "iopub.status.busy": "2024-05-12T17:11:52.593146Z",
          "iopub.status.idle": "2024-05-12T17:12:00.776943Z",
          "shell.execute_reply": "2024-05-12T17:12:00.775973Z",
          "shell.execute_reply.started": "2024-05-12T17:11:52.593495Z"
        },
        "id": "Z8xK-4YqCCyn",
        "trusted": true
      },
      "outputs": [],
      "source": [
        "import polars as rs\n",
        "import torch\n",
        "import torch.nn as nn\n",
        "import torch.nn.functional as F\n",
        "import lightning as pl\n",
        "import lightning.pytorch as torchpl\n",
        "from tqdm import tqdm\n",
        "import numpy as np\n",
        "from sklearn.preprocessing import LabelEncoder\n",
        "from dataclasses import dataclass\n",
        "import wandb"
      ]
    },
    {
      "cell_type": "code",
      "execution_count": 7,
      "metadata": {
        "execution": {
          "iopub.execute_input": "2024-05-12T17:12:00.778505Z",
          "iopub.status.busy": "2024-05-12T17:12:00.778167Z",
          "iopub.status.idle": "2024-05-12T17:12:00.783184Z",
          "shell.execute_reply": "2024-05-12T17:12:00.782051Z",
          "shell.execute_reply.started": "2024-05-12T17:12:00.778481Z"
        },
        "id": "FoCozR1YCCyo",
        "trusted": true
      },
      "outputs": [],
      "source": [
        "import os\n",
        "\n",
        "# define WANDB_NOTEBOOK_NAME\n",
        "os.environ[\"WANDB_NOTEBOOK_NAME\"] = \"train.ipynb\""
      ]
    },
    {
      "cell_type": "code",
      "execution_count": 8,
      "metadata": {
        "execution": {
          "iopub.execute_input": "2024-05-12T17:12:00.785872Z",
          "iopub.status.busy": "2024-05-12T17:12:00.785546Z",
          "iopub.status.idle": "2024-05-12T17:12:00.948990Z",
          "shell.execute_reply": "2024-05-12T17:12:00.948059Z",
          "shell.execute_reply.started": "2024-05-12T17:12:00.785839Z"
        },
        "id": "Yq1AScVfCCyo",
        "trusted": true
      },
      "outputs": [],
      "source": [
        "import gc\n",
        "\n",
        "gc.collect()\n",
        "# clean CUDA memory\n",
        "torch.cuda.empty_cache()\n",
        "\n",
        "# sometimes jupyter notebook does not release memory, we leave this here so a run-all\n",
        "# can *sometimes* fix leaks"
      ]
    },
    {
      "cell_type": "markdown",
      "metadata": {
        "id": "Z402h6bPCCyo"
      },
      "source": [
        "Next, we load the data, we utilize `polars` since it is much more efficient than `pandas` and can handle large datasets with ease."
      ]
    },
    {
      "cell_type": "code",
      "execution_count": 9,
      "metadata": {
        "execution": {
          "iopub.execute_input": "2024-05-12T17:12:00.950556Z",
          "iopub.status.busy": "2024-05-12T17:12:00.950226Z",
          "iopub.status.idle": "2024-05-12T17:12:12.364264Z",
          "shell.execute_reply": "2024-05-12T17:12:12.363300Z",
          "shell.execute_reply.started": "2024-05-12T17:12:00.950533Z"
        },
        "id": "1F7L_QPkCCyo",
        "trusted": true
      },
      "outputs": [],
      "source": [
        "columns = [\"user\", \"poi\", \"date\", \"TZ\"]\n",
        "data = rs.read_csv(\n",
        "    \"/content/drive/MyDrive/dataset_TIST2015/dataset_TIST2015_Checkins.txt\",\n",
        "    has_header=False,\n",
        "    low_memory=True,\n",
        "    separator=\"\\t\",\n",
        ")\n",
        "data.columns = columns"
      ]
    },
    {
      "cell_type": "code",
      "execution_count": 10,
      "metadata": {
        "colab": {
          "base_uri": "https://localhost:8080/",
          "height": 443
        },
        "execution": {
          "iopub.execute_input": "2024-05-12T17:12:12.365861Z",
          "iopub.status.busy": "2024-05-12T17:12:12.365564Z",
          "iopub.status.idle": "2024-05-12T17:12:12.383574Z",
          "shell.execute_reply": "2024-05-12T17:12:12.382591Z",
          "shell.execute_reply.started": "2024-05-12T17:12:12.365837Z"
        },
        "id": "LmYprUhOCCyo",
        "outputId": "7a3a80db-7237-43b0-8a7a-e306cd80c4bb",
        "trusted": true
      },
      "outputs": [
        {
          "output_type": "execute_result",
          "data": {
            "text/plain": [
              "shape: (33_263_633, 4)\n",
              "┌────────┬──────────────────────────┬────────────────────────────────┬──────┐\n",
              "│ user   ┆ poi                      ┆ date                           ┆ TZ   │\n",
              "│ ---    ┆ ---                      ┆ ---                            ┆ ---  │\n",
              "│ i64    ┆ str                      ┆ str                            ┆ i64  │\n",
              "╞════════╪══════════════════════════╪════════════════════════════════╪══════╡\n",
              "│ 50756  ┆ 4f5e3a72e4b053fd6a4313f6 ┆ Tue Apr 03 18:00:06 +0000 2012 ┆ 240  │\n",
              "│ 190571 ┆ 4b4b87b5f964a5204a9f26e3 ┆ Tue Apr 03 18:00:07 +0000 2012 ┆ 180  │\n",
              "│ 221021 ┆ 4a85b1b3f964a520eefe1fe3 ┆ Tue Apr 03 18:00:08 +0000 2012 ┆ -240 │\n",
              "│ 66981  ┆ 4b4606f2f964a520751426e3 ┆ Tue Apr 03 18:00:08 +0000 2012 ┆ -300 │\n",
              "│ 21010  ┆ 4c2b4e8a9a559c74832f0de2 ┆ Tue Apr 03 18:00:09 +0000 2012 ┆ 240  │\n",
              "│ …      ┆ …                        ┆ …                              ┆ …    │\n",
              "│ 16349  ┆ 4c957755c8a1bfb7e89024f3 ┆ Mon Sep 16 23:24:11 +0000 2013 ┆ -240 │\n",
              "│ 256757 ┆ 4c8bbb6d9ef0224bd2d6667b ┆ Mon Sep 16 23:24:13 +0000 2013 ┆ -180 │\n",
              "│ 66425  ┆ 513e82a5e4b0ed4f0f3bcf2d ┆ Mon Sep 16 23:24:14 +0000 2013 ┆ -180 │\n",
              "│ 1830   ┆ 4b447865f964a5204cf525e3 ┆ Mon Sep 16 23:24:14 +0000 2013 ┆ 120  │\n",
              "│ 22704  ┆ 50df4ee5e4b0c48b5a1c2968 ┆ Mon Sep 16 23:24:15 +0000 2013 ┆ 180  │\n",
              "└────────┴──────────────────────────┴────────────────────────────────┴──────┘"
            ],
            "text/html": [
              "<div><style>\n",
              ".dataframe > thead > tr,\n",
              ".dataframe > tbody > tr {\n",
              "  text-align: right;\n",
              "  white-space: pre-wrap;\n",
              "}\n",
              "</style>\n",
              "<small>shape: (33_263_633, 4)</small><table border=\"1\" class=\"dataframe\"><thead><tr><th>user</th><th>poi</th><th>date</th><th>TZ</th></tr><tr><td>i64</td><td>str</td><td>str</td><td>i64</td></tr></thead><tbody><tr><td>50756</td><td>&quot;4f5e3a72e4b053fd6a4313f6&quot;</td><td>&quot;Tue Apr 03 18:00:06 +0000 2012&quot;</td><td>240</td></tr><tr><td>190571</td><td>&quot;4b4b87b5f964a5204a9f26e3&quot;</td><td>&quot;Tue Apr 03 18:00:07 +0000 2012&quot;</td><td>180</td></tr><tr><td>221021</td><td>&quot;4a85b1b3f964a520eefe1fe3&quot;</td><td>&quot;Tue Apr 03 18:00:08 +0000 2012&quot;</td><td>-240</td></tr><tr><td>66981</td><td>&quot;4b4606f2f964a520751426e3&quot;</td><td>&quot;Tue Apr 03 18:00:08 +0000 2012&quot;</td><td>-300</td></tr><tr><td>21010</td><td>&quot;4c2b4e8a9a559c74832f0de2&quot;</td><td>&quot;Tue Apr 03 18:00:09 +0000 2012&quot;</td><td>240</td></tr><tr><td>&hellip;</td><td>&hellip;</td><td>&hellip;</td><td>&hellip;</td></tr><tr><td>16349</td><td>&quot;4c957755c8a1bfb7e89024f3&quot;</td><td>&quot;Mon Sep 16 23:24:11 +0000 2013&quot;</td><td>-240</td></tr><tr><td>256757</td><td>&quot;4c8bbb6d9ef0224bd2d6667b&quot;</td><td>&quot;Mon Sep 16 23:24:13 +0000 2013&quot;</td><td>-180</td></tr><tr><td>66425</td><td>&quot;513e82a5e4b0ed4f0f3bcf2d&quot;</td><td>&quot;Mon Sep 16 23:24:14 +0000 2013&quot;</td><td>-180</td></tr><tr><td>1830</td><td>&quot;4b447865f964a5204cf525e3&quot;</td><td>&quot;Mon Sep 16 23:24:14 +0000 2013&quot;</td><td>120</td></tr><tr><td>22704</td><td>&quot;50df4ee5e4b0c48b5a1c2968&quot;</td><td>&quot;Mon Sep 16 23:24:15 +0000 2013&quot;</td><td>180</td></tr></tbody></table></div>"
            ]
          },
          "metadata": {},
          "execution_count": 10
        }
      ],
      "source": [
        "data"
      ]
    },
    {
      "cell_type": "markdown",
      "metadata": {
        "id": "AE8Cxd2PCCyo"
      },
      "source": [
        "Differently from what suggested by the professor, we utilize the full TIST2015 dataset, which has a far greater scale compared to the reduced NY one. However, by following the pruning steps detailed in the paper (http://dx.doi.org/10.1145/3477495.3531989, section 5.1), we obtain sequences that are much smaller in size, resulting in a dataset that is usable on Google Colab's free tier (as required by the assignment)."
      ]
    },
    {
      "cell_type": "code",
      "execution_count": 11,
      "metadata": {
        "execution": {
          "iopub.execute_input": "2024-05-12T17:12:12.384777Z",
          "iopub.status.busy": "2024-05-12T17:12:12.384542Z",
          "iopub.status.idle": "2024-05-12T17:12:21.993080Z",
          "shell.execute_reply": "2024-05-12T17:12:21.992092Z",
          "shell.execute_reply.started": "2024-05-12T17:12:12.384757Z"
        },
        "id": "YqLUIt0cCCyo",
        "trusted": true
      },
      "outputs": [],
      "source": [
        "data_users = (\n",
        "    data.lazy()\n",
        "    .group_by(\"user\")\n",
        "    .agg(\n",
        "        [\n",
        "            rs.col(\"poi\").n_unique().alias(\"n_pois\"),\n",
        "            rs.col(\"poi\").count().alias(\"n_checkins\"),\n",
        "            # turn the rest into a list\n",
        "            rs.col(\"poi\").alias(\"pois\"),\n",
        "            rs.col(\"date\").alias(\"dates\"),\n",
        "            rs.col(\"TZ\").alias(\"TZs\"),\n",
        "        ]\n",
        "    )\n",
        ").collect()"
      ]
    },
    {
      "cell_type": "code",
      "execution_count": 12,
      "metadata": {
        "colab": {
          "base_uri": "https://localhost:8080/",
          "height": 380
        },
        "execution": {
          "iopub.execute_input": "2024-05-12T17:12:21.994756Z",
          "iopub.status.busy": "2024-05-12T17:12:21.994369Z",
          "iopub.status.idle": "2024-05-12T17:12:22.038877Z",
          "shell.execute_reply": "2024-05-12T17:12:22.037873Z",
          "shell.execute_reply.started": "2024-05-12T17:12:21.994720Z"
        },
        "id": "HptthFauCCyo",
        "outputId": "8e1b1aec-e5f2-4210-dc34-10d5f89ee9c5",
        "trusted": true
      },
      "outputs": [
        {
          "output_type": "execute_result",
          "data": {
            "text/plain": [
              "shape: (9, 7)\n",
              "┌────────────┬──────────────┬───────────┬────────────┬──────────┬──────────┬──────────┐\n",
              "│ statistic  ┆ user         ┆ n_pois    ┆ n_checkins ┆ pois     ┆ dates    ┆ TZs      │\n",
              "│ ---        ┆ ---          ┆ ---       ┆ ---        ┆ ---      ┆ ---      ┆ ---      │\n",
              "│ str        ┆ f64          ┆ f64       ┆ f64        ┆ f64      ┆ f64      ┆ f64      │\n",
              "╞════════════╪══════════════╪═══════════╪════════════╪══════════╪══════════╪══════════╡\n",
              "│ count      ┆ 266909.0     ┆ 266909.0  ┆ 266909.0   ┆ 266909.0 ┆ 266909.0 ┆ 266909.0 │\n",
              "│ null_count ┆ 0.0          ┆ 0.0       ┆ 0.0        ┆ 0.0      ┆ 0.0      ┆ 0.0      │\n",
              "│ mean       ┆ 133455.0     ┆ 56.477459 ┆ 124.62537  ┆ null     ┆ null     ┆ null     │\n",
              "│ std        ┆ 77050.135837 ┆ 45.968603 ┆ 140.692138 ┆ null     ┆ null     ┆ null     │\n",
              "│ min        ┆ 1.0          ┆ 1.0       ┆ 1.0        ┆ null     ┆ null     ┆ null     │\n",
              "│ 25%        ┆ 66728.0      ┆ 30.0      ┆ 61.0       ┆ null     ┆ null     ┆ null     │\n",
              "│ 50%        ┆ 133455.0     ┆ 49.0      ┆ 93.0       ┆ null     ┆ null     ┆ null     │\n",
              "│ 75%        ┆ 200182.0     ┆ 71.0      ┆ 148.0      ┆ null     ┆ null     ┆ null     │\n",
              "│ max        ┆ 266909.0     ┆ 1246.0    ┆ 5430.0     ┆ null     ┆ null     ┆ null     │\n",
              "└────────────┴──────────────┴───────────┴────────────┴──────────┴──────────┴──────────┘"
            ],
            "text/html": [
              "<div><style>\n",
              ".dataframe > thead > tr,\n",
              ".dataframe > tbody > tr {\n",
              "  text-align: right;\n",
              "  white-space: pre-wrap;\n",
              "}\n",
              "</style>\n",
              "<small>shape: (9, 7)</small><table border=\"1\" class=\"dataframe\"><thead><tr><th>statistic</th><th>user</th><th>n_pois</th><th>n_checkins</th><th>pois</th><th>dates</th><th>TZs</th></tr><tr><td>str</td><td>f64</td><td>f64</td><td>f64</td><td>f64</td><td>f64</td><td>f64</td></tr></thead><tbody><tr><td>&quot;count&quot;</td><td>266909.0</td><td>266909.0</td><td>266909.0</td><td>266909.0</td><td>266909.0</td><td>266909.0</td></tr><tr><td>&quot;null_count&quot;</td><td>0.0</td><td>0.0</td><td>0.0</td><td>0.0</td><td>0.0</td><td>0.0</td></tr><tr><td>&quot;mean&quot;</td><td>133455.0</td><td>56.477459</td><td>124.62537</td><td>null</td><td>null</td><td>null</td></tr><tr><td>&quot;std&quot;</td><td>77050.135837</td><td>45.968603</td><td>140.692138</td><td>null</td><td>null</td><td>null</td></tr><tr><td>&quot;min&quot;</td><td>1.0</td><td>1.0</td><td>1.0</td><td>null</td><td>null</td><td>null</td></tr><tr><td>&quot;25%&quot;</td><td>66728.0</td><td>30.0</td><td>61.0</td><td>null</td><td>null</td><td>null</td></tr><tr><td>&quot;50%&quot;</td><td>133455.0</td><td>49.0</td><td>93.0</td><td>null</td><td>null</td><td>null</td></tr><tr><td>&quot;75%&quot;</td><td>200182.0</td><td>71.0</td><td>148.0</td><td>null</td><td>null</td><td>null</td></tr><tr><td>&quot;max&quot;</td><td>266909.0</td><td>1246.0</td><td>5430.0</td><td>null</td><td>null</td><td>null</td></tr></tbody></table></div>"
            ]
          },
          "metadata": {},
          "execution_count": 12
        }
      ],
      "source": [
        "data_users.describe()"
      ]
    },
    {
      "cell_type": "markdown",
      "metadata": {
        "id": "VqJjYuF1CCyp"
      },
      "source": [
        "## Data Preprocessing"
      ]
    },
    {
      "cell_type": "code",
      "execution_count": 13,
      "metadata": {
        "execution": {
          "iopub.execute_input": "2024-05-12T17:12:22.040735Z",
          "iopub.status.busy": "2024-05-12T17:12:22.040352Z",
          "iopub.status.idle": "2024-05-12T17:12:22.137751Z",
          "shell.execute_reply": "2024-05-12T17:12:22.136974Z",
          "shell.execute_reply.started": "2024-05-12T17:12:22.040704Z"
        },
        "id": "SxCtvTymCCyp",
        "trusted": true
      },
      "outputs": [],
      "source": [
        "data_culled = data_users.filter(\n",
        "    (rs.col(\"n_checkins\") > 20) & (rs.col(\"n_checkins\") < 50)\n",
        ").drop_nulls()"
      ]
    },
    {
      "cell_type": "markdown",
      "metadata": {
        "id": "rAqugUVTCCyp"
      },
      "source": [
        "Since the original dataset is huge, we delete it and call the python garbage collector to free up memory. We then proceed with the second pruning step (frequency-based pruning) as detailed in the paper."
      ]
    },
    {
      "cell_type": "code",
      "execution_count": 14,
      "metadata": {
        "colab": {
          "base_uri": "https://localhost:8080/"
        },
        "execution": {
          "iopub.execute_input": "2024-05-12T17:12:22.142656Z",
          "iopub.status.busy": "2024-05-12T17:12:22.142357Z",
          "iopub.status.idle": "2024-05-12T17:12:22.509441Z",
          "shell.execute_reply": "2024-05-12T17:12:22.508321Z",
          "shell.execute_reply.started": "2024-05-12T17:12:22.142632Z"
        },
        "id": "Vc26KLj7CCyp",
        "outputId": "0d12d0dd-7ad7-4010-d04b-4df701440f5c",
        "trusted": true
      },
      "outputs": [
        {
          "output_type": "execute_result",
          "data": {
            "text/plain": [
              "0"
            ]
          },
          "metadata": {},
          "execution_count": 14
        }
      ],
      "source": [
        "del data\n",
        "del data_users\n",
        "\n",
        "import gc\n",
        "\n",
        "gc.collect()"
      ]
    },
    {
      "cell_type": "code",
      "execution_count": 15,
      "metadata": {
        "colab": {
          "base_uri": "https://localhost:8080/"
        },
        "id": "mcWNAa-HaItt",
        "outputId": "61256139-18d3-4d5a-c797-a8c1deb037c7"
      },
      "outputs": [
        {
          "output_type": "stream",
          "name": "stdout",
          "text": [
            "21 49\n"
          ]
        }
      ],
      "source": [
        "# print lengths\n",
        "\n",
        "print(data_culled[\"pois\"].list.len().min(), data_culled[\"pois\"].list.len().max())"
      ]
    },
    {
      "cell_type": "code",
      "execution_count": 16,
      "metadata": {
        "execution": {
          "iopub.execute_input": "2024-05-12T17:12:22.511463Z",
          "iopub.status.busy": "2024-05-12T17:12:22.510796Z",
          "iopub.status.idle": "2024-05-12T17:12:22.602419Z",
          "shell.execute_reply": "2024-05-12T17:12:22.601642Z",
          "shell.execute_reply.started": "2024-05-12T17:12:22.511426Z"
        },
        "id": "t9jLArwDCCyp",
        "trusted": true
      },
      "outputs": [],
      "source": [
        "# extract unique elements from each lists in data_culled[\"pois\"]\n",
        "out = data_culled.with_columns(\n",
        "    [\n",
        "        rs.col(\"pois\").list.unique(),\n",
        "        rs.col(\"pois\").list.unique().list.len().alias(\"n_unique_pois\"),\n",
        "    ]\n",
        ")"
      ]
    },
    {
      "cell_type": "code",
      "execution_count": 17,
      "metadata": {
        "colab": {
          "base_uri": "https://localhost:8080/",
          "height": 617
        },
        "execution": {
          "iopub.execute_input": "2024-05-12T17:12:22.603839Z",
          "iopub.status.busy": "2024-05-12T17:12:22.603543Z",
          "iopub.status.idle": "2024-05-12T17:12:22.612956Z",
          "shell.execute_reply": "2024-05-12T17:12:22.611794Z",
          "shell.execute_reply.started": "2024-05-12T17:12:22.603814Z"
        },
        "id": "xmWP2h6uCCyp",
        "outputId": "a1e60b9b-bb85-41d3-f8f6-f56d05a909d3",
        "trusted": true
      },
      "outputs": [
        {
          "output_type": "execute_result",
          "data": {
            "text/plain": [
              "shape: (21_697, 7)\n",
              "┌────────┬────────┬────────────┬─────────────────┬────────────────┬────────────────┬───────────────┐\n",
              "│ user   ┆ n_pois ┆ n_checkins ┆ pois            ┆ dates          ┆ TZs            ┆ n_unique_pois │\n",
              "│ ---    ┆ ---    ┆ ---        ┆ ---             ┆ ---            ┆ ---            ┆ ---           │\n",
              "│ i64    ┆ u32    ┆ u32        ┆ list[str]       ┆ list[str]      ┆ list[i64]      ┆ u32           │\n",
              "╞════════╪════════╪════════════╪═════════════════╪════════════════╪════════════════╪═══════════════╡\n",
              "│ 98328  ┆ 21     ┆ 26         ┆ [\"4f9167dbe4b08 ┆ [\"Wed Oct 31   ┆ [-240, -240, … ┆ 21            │\n",
              "│        ┆        ┆            ┆ d590747fea6\",   ┆ 13:11:14 +0000 ┆ -240]          ┆               │\n",
              "│        ┆        ┆            ┆ \"…              ┆ 20…            ┆                ┆               │\n",
              "│ 264666 ┆ 34     ┆ 44         ┆ [\"4e411f0a62e17 ┆ [\"Sun May 27   ┆ [540, 540, …   ┆ 34            │\n",
              "│        ┆        ┆            ┆ b948c23a757\",   ┆ 12:22:45 +0000 ┆ 540]           ┆               │\n",
              "│        ┆        ┆            ┆ \"…              ┆ 20…            ┆                ┆               │\n",
              "│ 221671 ┆ 30     ┆ 33         ┆ [\"4e50440445ddf ┆ [\"Tue Jun 12   ┆ [-300, -300, … ┆ 30            │\n",
              "│        ┆        ┆            ┆ f0031cce4d3\",   ┆ 23:05:54 +0000 ┆ -300]          ┆               │\n",
              "│        ┆        ┆            ┆ \"…              ┆ 20…            ┆                ┆               │\n",
              "│ 176589 ┆ 19     ┆ 27         ┆ [\"4ff60179e4b05 ┆ [\"Mon Apr 23   ┆ [-180, -180, … ┆ 19            │\n",
              "│        ┆        ┆            ┆ 5f896988a44\",   ┆ 16:01:01 +0000 ┆ -180]          ┆               │\n",
              "│        ┆        ┆            ┆ \"…              ┆ 20…            ┆                ┆               │\n",
              "│ 239374 ┆ 34     ┆ 42         ┆ [\"4b74fe05f964a ┆ [\"Fri Aug 10   ┆ [180, 180, …   ┆ 34            │\n",
              "│        ┆        ┆            ┆ 52066fa2de3\",   ┆ 19:12:25 +0000 ┆ 180]           ┆               │\n",
              "│        ┆        ┆            ┆ \"…              ┆ 20…            ┆                ┆               │\n",
              "│ …      ┆ …      ┆ …          ┆ …               ┆ …              ┆ …              ┆ …             │\n",
              "│ 97512  ┆ 22     ┆ 30         ┆ [\"4b83685cf964a ┆ [\"Sun Jan 06   ┆ [540, 540, …   ┆ 22            │\n",
              "│        ┆        ┆            ┆ 520880531e3\",   ┆ 00:37:10 +0000 ┆ 540]           ┆               │\n",
              "│        ┆        ┆            ┆ \"…              ┆ 20…            ┆                ┆               │\n",
              "│ 73655  ┆ 25     ┆ 47         ┆ [\"4c668d5de75ac ┆ [\"Fri Apr 06   ┆ [-240, -240, … ┆ 25            │\n",
              "│        ┆        ┆            ┆ 928a4c0f7da\",   ┆ 16:38:29 +0000 ┆ -240]          ┆               │\n",
              "│        ┆        ┆            ┆ \"…              ┆ 20…            ┆                ┆               │\n",
              "│ 113244 ┆ 15     ┆ 23         ┆ [\"4baa65f2f964a ┆ [\"Sat Apr 21   ┆ [-240, -240, … ┆ 15            │\n",
              "│        ┆        ┆            ┆ 5205a663ae3\",   ┆ 23:47:09 +0000 ┆ -240]          ┆               │\n",
              "│        ┆        ┆            ┆ \"…              ┆ 20…            ┆                ┆               │\n",
              "│ 144178 ┆ 34     ┆ 44         ┆ [\"509b658ce4b03 ┆ [\"Mon Jul 02   ┆ [180, 180, …   ┆ 34            │\n",
              "│        ┆        ┆            ┆ 97ad7075fa7\",   ┆ 14:19:22 +0000 ┆ 180]           ┆               │\n",
              "│        ┆        ┆            ┆ \"…              ┆ 20…            ┆                ┆               │\n",
              "│ 217720 ┆ 21     ┆ 25         ┆ [\"4c3f50ffe2692 ┆ [\"Thu Feb 07   ┆ [480, 480, …   ┆ 21            │\n",
              "│        ┆        ┆            ┆ 0a1b5435be7\",   ┆ 07:42:44 +0000 ┆ 480]           ┆               │\n",
              "│        ┆        ┆            ┆ \"…              ┆ 20…            ┆                ┆               │\n",
              "└────────┴────────┴────────────┴─────────────────┴────────────────┴────────────────┴───────────────┘"
            ],
            "text/html": [
              "<div><style>\n",
              ".dataframe > thead > tr,\n",
              ".dataframe > tbody > tr {\n",
              "  text-align: right;\n",
              "  white-space: pre-wrap;\n",
              "}\n",
              "</style>\n",
              "<small>shape: (21_697, 7)</small><table border=\"1\" class=\"dataframe\"><thead><tr><th>user</th><th>n_pois</th><th>n_checkins</th><th>pois</th><th>dates</th><th>TZs</th><th>n_unique_pois</th></tr><tr><td>i64</td><td>u32</td><td>u32</td><td>list[str]</td><td>list[str]</td><td>list[i64]</td><td>u32</td></tr></thead><tbody><tr><td>98328</td><td>21</td><td>26</td><td>[&quot;4f9167dbe4b08d590747fea6&quot;, &quot;4f9362f9e4b0cd2d539f6228&quot;, … &quot;5001e67de4b023056d98fa66&quot;]</td><td>[&quot;Wed Oct 31 13:11:14 +0000 2012&quot;, &quot;Sat Nov 17 17:48:38 +0000 2012&quot;, … &quot;Tue Aug 20 15:07:05 +0000 2013&quot;]</td><td>[-240, -240, … -240]</td><td>21</td></tr><tr><td>264666</td><td>34</td><td>44</td><td>[&quot;4e411f0a62e17b948c23a757&quot;, &quot;4bcadc5468f976b000196083&quot;, … &quot;4b55670ff964a52071e327e3&quot;]</td><td>[&quot;Sun May 27 12:22:45 +0000 2012&quot;, &quot;Tue May 29 06:05:50 +0000 2012&quot;, … &quot;Mon May 27 11:48:18 +0000 2013&quot;]</td><td>[540, 540, … 540]</td><td>34</td></tr><tr><td>221671</td><td>30</td><td>33</td><td>[&quot;4e50440445ddff0031cce4d3&quot;, &quot;4aa7a6c1f964a520e74c20e3&quot;, … &quot;4b5c9ad1f964a520623929e3&quot;]</td><td>[&quot;Tue Jun 12 23:05:54 +0000 2012&quot;, &quot;Tue Jun 12 23:07:11 +0000 2012&quot;, … &quot;Mon Aug 12 22:20:28 +0000 2013&quot;]</td><td>[-300, -300, … -300]</td><td>30</td></tr><tr><td>176589</td><td>19</td><td>27</td><td>[&quot;4ff60179e4b055f896988a44&quot;, &quot;4d6799c7052ea1cd44f49b49&quot;, … &quot;4efa47720e013b2128976189&quot;]</td><td>[&quot;Mon Apr 23 16:01:01 +0000 2012&quot;, &quot;Mon Apr 23 20:09:08 +0000 2012&quot;, … &quot;Tue Aug 27 22:54:15 +0000 2013&quot;]</td><td>[-180, -180, … -180]</td><td>19</td></tr><tr><td>239374</td><td>34</td><td>42</td><td>[&quot;4b74fe05f964a52066fa2de3&quot;, &quot;50d02692e4b0a6c92577c9a4&quot;, … &quot;4b50d7dbf964a520dd3427e3&quot;]</td><td>[&quot;Fri Aug 10 19:12:25 +0000 2012&quot;, &quot;Sat Sep 15 13:23:31 +0000 2012&quot;, … &quot;Tue Aug 06 10:56:02 +0000 2013&quot;]</td><td>[180, 180, … 180]</td><td>34</td></tr><tr><td>&hellip;</td><td>&hellip;</td><td>&hellip;</td><td>&hellip;</td><td>&hellip;</td><td>&hellip;</td><td>&hellip;</td></tr><tr><td>97512</td><td>22</td><td>30</td><td>[&quot;4b83685cf964a520880531e3&quot;, &quot;4d4e127d5fb0b1f7cd1c7791&quot;, … &quot;50b99c90e4b0f99bbe09991b&quot;]</td><td>[&quot;Sun Jan 06 00:37:10 +0000 2013&quot;, &quot;Sun Jan 06 03:55:06 +0000 2013&quot;, … &quot;Sat Sep 14 11:59:04 +0000 2013&quot;]</td><td>[540, 540, … 540]</td><td>22</td></tr><tr><td>73655</td><td>25</td><td>47</td><td>[&quot;4c668d5de75ac928a4c0f7da&quot;, &quot;4d9203f15f33b1f722517a7e&quot;, … &quot;4e83d05de5e877f1e1751aa9&quot;]</td><td>[&quot;Fri Apr 06 16:38:29 +0000 2012&quot;, &quot;Sun Apr 08 20:58:30 +0000 2012&quot;, … &quot;Sun Sep 15 00:00:07 +0000 2013&quot;]</td><td>[-240, -240, … -240]</td><td>25</td></tr><tr><td>113244</td><td>15</td><td>23</td><td>[&quot;4baa65f2f964a5205a663ae3&quot;, &quot;4b5b4195f964a520dcee28e3&quot;, … &quot;4b525236f964a520127727e3&quot;]</td><td>[&quot;Sat Apr 21 23:47:09 +0000 2012&quot;, &quot;Sat Jun 16 23:38:50 +0000 2012&quot;, … &quot;Thu Jul 04 17:39:27 +0000 2013&quot;]</td><td>[-240, -240, … -240]</td><td>15</td></tr><tr><td>144178</td><td>34</td><td>44</td><td>[&quot;509b658ce4b0397ad7075fa7&quot;, &quot;4f5da931e4b0695cbc2b9d8c&quot;, … &quot;4cb1a6346c2695210887b8d9&quot;]</td><td>[&quot;Mon Jul 02 14:19:22 +0000 2012&quot;, &quot;Mon Jul 02 19:13:05 +0000 2012&quot;, … &quot;Fri Jun 07 21:53:50 +0000 2013&quot;]</td><td>[180, 180, … 180]</td><td>34</td></tr><tr><td>217720</td><td>21</td><td>25</td><td>[&quot;4c3f50ffe26920a1b5435be7&quot;, &quot;4f4ef33be4b0a99a7885864d&quot;, … &quot;50fff39de4b08a881d6b3433&quot;]</td><td>[&quot;Thu Feb 07 07:42:44 +0000 2013&quot;, &quot;Thu Feb 07 07:43:33 +0000 2013&quot;, … &quot;Tue Aug 06 11:42:32 +0000 2013&quot;]</td><td>[480, 480, … 480]</td><td>21</td></tr></tbody></table></div>"
            ]
          },
          "metadata": {},
          "execution_count": 17
        }
      ],
      "source": [
        "out"
      ]
    },
    {
      "cell_type": "code",
      "execution_count": 18,
      "metadata": {
        "colab": {
          "base_uri": "https://localhost:8080/"
        },
        "execution": {
          "iopub.execute_input": "2024-05-12T17:12:22.614367Z",
          "iopub.status.busy": "2024-05-12T17:12:22.614052Z",
          "iopub.status.idle": "2024-05-12T17:12:22.621169Z",
          "shell.execute_reply": "2024-05-12T17:12:22.620302Z",
          "shell.execute_reply.started": "2024-05-12T17:12:22.614335Z"
        },
        "id": "BTYdomCBCCyp",
        "outputId": "9b5dd933-9ef9-4427-bc0f-d1eb467f7b81",
        "trusted": true
      },
      "outputs": [
        {
          "output_type": "execute_result",
          "data": {
            "text/plain": [
              "21"
            ]
          },
          "metadata": {},
          "execution_count": 18
        }
      ],
      "source": [
        "l = out[\"pois\"][0].to_list()\n",
        "len(set(l))  # print number of unique POIs in first sequence"
      ]
    },
    {
      "cell_type": "code",
      "execution_count": 19,
      "metadata": {
        "colab": {
          "base_uri": "https://localhost:8080/"
        },
        "execution": {
          "iopub.execute_input": "2024-05-12T17:12:22.622564Z",
          "iopub.status.busy": "2024-05-12T17:12:22.622287Z",
          "iopub.status.idle": "2024-05-12T17:12:22.630088Z",
          "shell.execute_reply": "2024-05-12T17:12:22.629290Z",
          "shell.execute_reply.started": "2024-05-12T17:12:22.622541Z"
        },
        "id": "3ZvejeoKCCyp",
        "outputId": "de5c870a-daa1-4544-d954-ddfa7c678ccb",
        "trusted": true
      },
      "outputs": [
        {
          "output_type": "execute_result",
          "data": {
            "text/plain": [
              "26"
            ]
          },
          "metadata": {},
          "execution_count": 19
        }
      ],
      "source": [
        "l2 = data_culled[\"pois\"][0].to_list()\n",
        "len(l2)  # print sequence length of first user"
      ]
    },
    {
      "cell_type": "code",
      "execution_count": 20,
      "metadata": {
        "colab": {
          "base_uri": "https://localhost:8080/"
        },
        "execution": {
          "iopub.execute_input": "2024-05-12T17:12:22.631631Z",
          "iopub.status.busy": "2024-05-12T17:12:22.631284Z",
          "iopub.status.idle": "2024-05-12T17:12:22.639494Z",
          "shell.execute_reply": "2024-05-12T17:12:22.638585Z",
          "shell.execute_reply.started": "2024-05-12T17:12:22.631608Z"
        },
        "id": "8f24-SOxCCyp",
        "outputId": "cb111199-e2e5-437c-895e-b86afe9a3c3e",
        "trusted": true
      },
      "outputs": [
        {
          "output_type": "execute_result",
          "data": {
            "text/plain": [
              "21"
            ]
          },
          "metadata": {},
          "execution_count": 20
        }
      ],
      "source": [
        "len(set(l2))  # confirm that the two match"
      ]
    },
    {
      "cell_type": "code",
      "execution_count": 21,
      "metadata": {
        "execution": {
          "iopub.execute_input": "2024-05-12T17:12:22.641194Z",
          "iopub.status.busy": "2024-05-12T17:12:22.640570Z",
          "iopub.status.idle": "2024-05-12T17:12:22.773755Z",
          "shell.execute_reply": "2024-05-12T17:12:22.772767Z",
          "shell.execute_reply.started": "2024-05-12T17:12:22.641158Z"
        },
        "id": "i51vz46MCCyp",
        "trusted": true
      },
      "outputs": [],
      "source": [
        "# run a Polars query to obtain all the frequent POIs, the ones expected to survive the filtering\n",
        "unique_pois = out[\"pois\"]\n",
        "frequent_pois = unique_pois.list.explode().value_counts().filter(rs.col(\"count\") >= 10)"
      ]
    },
    {
      "cell_type": "code",
      "execution_count": 22,
      "metadata": {
        "colab": {
          "base_uri": "https://localhost:8080/",
          "height": 443
        },
        "execution": {
          "iopub.execute_input": "2024-05-12T17:12:22.776125Z",
          "iopub.status.busy": "2024-05-12T17:12:22.775281Z",
          "iopub.status.idle": "2024-05-12T17:12:22.784050Z",
          "shell.execute_reply": "2024-05-12T17:12:22.782959Z",
          "shell.execute_reply.started": "2024-05-12T17:12:22.776087Z"
        },
        "id": "7aHVCPtcCCyp",
        "outputId": "250a4d3e-9259-407d-a6d5-6bcf35c990fc",
        "trusted": true
      },
      "outputs": [
        {
          "output_type": "execute_result",
          "data": {
            "text/plain": [
              "shape: (4_455, 2)\n",
              "┌──────────────────────────┬───────┐\n",
              "│ pois                     ┆ count │\n",
              "│ ---                      ┆ ---   │\n",
              "│ str                      ┆ u32   │\n",
              "╞══════════════════════════╪═══════╡\n",
              "│ 4a367102f964a520869d1fe3 ┆ 16    │\n",
              "│ 4b505f21f964a520902127e3 ┆ 23    │\n",
              "│ 4b8bceedf964a52065ac32e3 ┆ 26    │\n",
              "│ 4df36e6d18a88611c6bc496e ┆ 10    │\n",
              "│ 4c42030caf052d7f1d447e79 ┆ 182   │\n",
              "│ …                        ┆ …     │\n",
              "│ 4b0ce6b2f964a5207e4223e3 ┆ 25    │\n",
              "│ 4d0a931c6aa05481f324e5aa ┆ 10    │\n",
              "│ 4d34236c2e56236a180a2cb4 ┆ 11    │\n",
              "│ 4c5e12552815c928b1dbb667 ┆ 10    │\n",
              "│ 4b081ff6f964a520500423e3 ┆ 23    │\n",
              "└──────────────────────────┴───────┘"
            ],
            "text/html": [
              "<div><style>\n",
              ".dataframe > thead > tr,\n",
              ".dataframe > tbody > tr {\n",
              "  text-align: right;\n",
              "  white-space: pre-wrap;\n",
              "}\n",
              "</style>\n",
              "<small>shape: (4_455, 2)</small><table border=\"1\" class=\"dataframe\"><thead><tr><th>pois</th><th>count</th></tr><tr><td>str</td><td>u32</td></tr></thead><tbody><tr><td>&quot;4a367102f964a520869d1fe3&quot;</td><td>16</td></tr><tr><td>&quot;4b505f21f964a520902127e3&quot;</td><td>23</td></tr><tr><td>&quot;4b8bceedf964a52065ac32e3&quot;</td><td>26</td></tr><tr><td>&quot;4df36e6d18a88611c6bc496e&quot;</td><td>10</td></tr><tr><td>&quot;4c42030caf052d7f1d447e79&quot;</td><td>182</td></tr><tr><td>&hellip;</td><td>&hellip;</td></tr><tr><td>&quot;4b0ce6b2f964a5207e4223e3&quot;</td><td>25</td></tr><tr><td>&quot;4d0a931c6aa05481f324e5aa&quot;</td><td>10</td></tr><tr><td>&quot;4d34236c2e56236a180a2cb4&quot;</td><td>11</td></tr><tr><td>&quot;4c5e12552815c928b1dbb667&quot;</td><td>10</td></tr><tr><td>&quot;4b081ff6f964a520500423e3&quot;</td><td>23</td></tr></tbody></table></div>"
            ]
          },
          "metadata": {},
          "execution_count": 22
        }
      ],
      "source": [
        "frequent_pois"
      ]
    },
    {
      "cell_type": "code",
      "execution_count": 23,
      "metadata": {
        "execution": {
          "iopub.execute_input": "2024-05-12T17:12:22.785752Z",
          "iopub.status.busy": "2024-05-12T17:12:22.785377Z",
          "iopub.status.idle": "2024-05-12T17:12:22.792338Z",
          "shell.execute_reply": "2024-05-12T17:12:22.791439Z",
          "shell.execute_reply.started": "2024-05-12T17:12:22.785720Z"
        },
        "id": "34H0_RIbCCyp",
        "trusted": true
      },
      "outputs": [],
      "source": [
        "frequent_pois = frequent_pois[\"pois\"]\n",
        "frequent_pois = set(frequent_pois.to_list())"
      ]
    },
    {
      "cell_type": "code",
      "execution_count": 24,
      "metadata": {
        "colab": {
          "base_uri": "https://localhost:8080/",
          "height": 443
        },
        "execution": {
          "iopub.execute_input": "2024-05-12T17:12:22.794221Z",
          "iopub.status.busy": "2024-05-12T17:12:22.793598Z",
          "iopub.status.idle": "2024-05-12T17:12:22.803753Z",
          "shell.execute_reply": "2024-05-12T17:12:22.802740Z",
          "shell.execute_reply.started": "2024-05-12T17:12:22.794188Z"
        },
        "id": "ib_qORq7CCyp",
        "outputId": "5c06ed9d-e5f8-4c7b-dc6f-10fe204335e2",
        "trusted": true
      },
      "outputs": [
        {
          "output_type": "execute_result",
          "data": {
            "text/plain": [
              "shape: (21_697, 6)\n",
              "┌────────┬────────┬────────────┬──────────────────────┬──────────────────────┬─────────────────────┐\n",
              "│ user   ┆ n_pois ┆ n_checkins ┆ pois                 ┆ dates                ┆ TZs                 │\n",
              "│ ---    ┆ ---    ┆ ---        ┆ ---                  ┆ ---                  ┆ ---                 │\n",
              "│ i64    ┆ u32    ┆ u32        ┆ list[str]            ┆ list[str]            ┆ list[i64]           │\n",
              "╞════════╪════════╪════════════╪══════════════════════╪══════════════════════╪═════════════════════╡\n",
              "│ 98328  ┆ 21     ┆ 26         ┆ [\"4fac332ce4b0346fb5 ┆ [\"Wed Oct 31         ┆ [-240, -240, …      │\n",
              "│        ┆        ┆            ┆ 71b34a\", \"…          ┆ 13:11:14 +0000 20…   ┆ -240]               │\n",
              "│ 264666 ┆ 34     ┆ 44         ┆ [\"4bcadc5468f976b000 ┆ [\"Sun May 27         ┆ [540, 540, … 540]   │\n",
              "│        ┆        ┆            ┆ 196083\", \"…          ┆ 12:22:45 +0000 20…   ┆                     │\n",
              "│ 221671 ┆ 30     ┆ 33         ┆ [\"4f246345e4b0476579 ┆ [\"Tue Jun 12         ┆ [-300, -300, …      │\n",
              "│        ┆        ┆            ┆ acdc9e\", \"…          ┆ 23:05:54 +0000 20…   ┆ -300]               │\n",
              "│ 176589 ┆ 19     ┆ 27         ┆ [\"4b50f6f7f964a520e1 ┆ [\"Mon Apr 23         ┆ [-180, -180, …      │\n",
              "│        ┆        ┆            ┆ 3a27e3\", \"…          ┆ 16:01:01 +0000 20…   ┆ -180]               │\n",
              "│ 239374 ┆ 34     ┆ 42         ┆ [\"4fcfae92e4b0ef7752 ┆ [\"Fri Aug 10         ┆ [180, 180, … 180]   │\n",
              "│        ┆        ┆            ┆ 7d5432\", \"…          ┆ 19:12:25 +0000 20…   ┆                     │\n",
              "│ …      ┆ …      ┆ …          ┆ …                    ┆ …                    ┆ …                   │\n",
              "│ 97512  ┆ 22     ┆ 30         ┆ [\"50b99c90e4b0f99bbe ┆ [\"Sun Jan 06         ┆ [540, 540, … 540]   │\n",
              "│        ┆        ┆            ┆ 09991b\", \"…          ┆ 00:37:10 +0000 20…   ┆                     │\n",
              "│ 73655  ┆ 25     ┆ 47         ┆ [\"4ca675e6ae1eef3b36 ┆ [\"Fri Apr 06         ┆ [-240, -240, …      │\n",
              "│        ┆        ┆            ┆ 013147\", \"…          ┆ 16:38:29 +0000 20…   ┆ -240]               │\n",
              "│ 113244 ┆ 15     ┆ 23         ┆ [\"40e0b100f964a5201b ┆ [\"Sat Apr 21         ┆ [-240, -240, …      │\n",
              "│        ┆        ┆            ┆ 051fe3\", \"…          ┆ 23:47:09 +0000 20…   ┆ -240]               │\n",
              "│ 144178 ┆ 34     ┆ 44         ┆ [\"4f5da931e4b0695cbc ┆ [\"Mon Jul 02         ┆ [180, 180, … 180]   │\n",
              "│        ┆        ┆            ┆ 2b9d8c\", \"…          ┆ 14:19:22 +0000 20…   ┆                     │\n",
              "│ 217720 ┆ 21     ┆ 25         ┆ [\"4df3269eb61cbd3ec0 ┆ [\"Thu Feb 07         ┆ [480, 480, … 480]   │\n",
              "│        ┆        ┆            ┆ 1a3394\", \"…          ┆ 07:42:44 +0000 20…   ┆                     │\n",
              "└────────┴────────┴────────────┴──────────────────────┴──────────────────────┴─────────────────────┘"
            ],
            "text/html": [
              "<div><style>\n",
              ".dataframe > thead > tr,\n",
              ".dataframe > tbody > tr {\n",
              "  text-align: right;\n",
              "  white-space: pre-wrap;\n",
              "}\n",
              "</style>\n",
              "<small>shape: (21_697, 6)</small><table border=\"1\" class=\"dataframe\"><thead><tr><th>user</th><th>n_pois</th><th>n_checkins</th><th>pois</th><th>dates</th><th>TZs</th></tr><tr><td>i64</td><td>u32</td><td>u32</td><td>list[str]</td><td>list[str]</td><td>list[i64]</td></tr></thead><tbody><tr><td>98328</td><td>21</td><td>26</td><td>[&quot;4fac332ce4b0346fb571b34a&quot;, &quot;4e5ff6fccc3f621d78b87c46&quot;, … &quot;4f9167dbe4b08d590747fea6&quot;]</td><td>[&quot;Wed Oct 31 13:11:14 +0000 2012&quot;, &quot;Sat Nov 17 17:48:38 +0000 2012&quot;, … &quot;Tue Aug 20 15:07:05 +0000 2013&quot;]</td><td>[-240, -240, … -240]</td></tr><tr><td>264666</td><td>34</td><td>44</td><td>[&quot;4bcadc5468f976b000196083&quot;, &quot;4b586711f964a520255628e3&quot;, … &quot;513059d8e4b054cc5dbbd425&quot;]</td><td>[&quot;Sun May 27 12:22:45 +0000 2012&quot;, &quot;Tue May 29 06:05:50 +0000 2012&quot;, … &quot;Mon May 27 11:48:18 +0000 2013&quot;]</td><td>[540, 540, … 540]</td></tr><tr><td>221671</td><td>30</td><td>33</td><td>[&quot;4f246345e4b0476579acdc9e&quot;, &quot;4f246345e4b0476579acdc9e&quot;, … &quot;4bd88ddc1671b7135afb765f&quot;]</td><td>[&quot;Tue Jun 12 23:05:54 +0000 2012&quot;, &quot;Tue Jun 12 23:07:11 +0000 2012&quot;, … &quot;Mon Aug 12 22:20:28 +0000 2013&quot;]</td><td>[-300, -300, … -300]</td></tr><tr><td>176589</td><td>19</td><td>27</td><td>[&quot;4b50f6f7f964a520e13a27e3&quot;, &quot;4bd099931f89ce7272b867ea&quot;, … &quot;4b50f6f7f964a520e13a27e3&quot;]</td><td>[&quot;Mon Apr 23 16:01:01 +0000 2012&quot;, &quot;Mon Apr 23 20:09:08 +0000 2012&quot;, … &quot;Tue Aug 27 22:54:15 +0000 2013&quot;]</td><td>[-180, -180, … -180]</td></tr><tr><td>239374</td><td>34</td><td>42</td><td>[&quot;4fcfae92e4b0ef77527d5432&quot;, &quot;4c45dd45429a0f47a8ba4a1e&quot;, … &quot;4d32fd806c7c721ee446b556&quot;]</td><td>[&quot;Fri Aug 10 19:12:25 +0000 2012&quot;, &quot;Sat Sep 15 13:23:31 +0000 2012&quot;, … &quot;Tue Aug 06 10:56:02 +0000 2013&quot;]</td><td>[180, 180, … 180]</td></tr><tr><td>&hellip;</td><td>&hellip;</td><td>&hellip;</td><td>&hellip;</td><td>&hellip;</td><td>&hellip;</td></tr><tr><td>97512</td><td>22</td><td>30</td><td>[&quot;50b99c90e4b0f99bbe09991b&quot;, &quot;4b80f2c7f964a520fd9230e3&quot;, … &quot;4b6fc43cf964a520f3fb2ce3&quot;]</td><td>[&quot;Sun Jan 06 00:37:10 +0000 2013&quot;, &quot;Sun Jan 06 03:55:06 +0000 2013&quot;, … &quot;Sat Sep 14 11:59:04 +0000 2013&quot;]</td><td>[540, 540, … 540]</td></tr><tr><td>73655</td><td>25</td><td>47</td><td>[&quot;4ca675e6ae1eef3b36013147&quot;, &quot;4ca675e6ae1eef3b36013147&quot;, … &quot;4c54645f728920a1be38af82&quot;]</td><td>[&quot;Fri Apr 06 16:38:29 +0000 2012&quot;, &quot;Sun Apr 08 20:58:30 +0000 2012&quot;, … &quot;Sun Sep 15 00:00:07 +0000 2013&quot;]</td><td>[-240, -240, … -240]</td></tr><tr><td>113244</td><td>15</td><td>23</td><td>[&quot;40e0b100f964a5201b051fe3&quot;, &quot;40e0b100f964a5201b051fe3&quot;, … &quot;4d69034c2acd6ea8888d34c0&quot;]</td><td>[&quot;Sat Apr 21 23:47:09 +0000 2012&quot;, &quot;Sat Jun 16 23:38:50 +0000 2012&quot;, … &quot;Thu Jul 04 17:39:27 +0000 2013&quot;]</td><td>[-240, -240, … -240]</td></tr><tr><td>144178</td><td>34</td><td>44</td><td>[&quot;4f5da931e4b0695cbc2b9d8c&quot;, &quot;4e44f25f2271bdbcf67a1ee7&quot;, … &quot;4e44f25f2271bdbcf67a1ee7&quot;]</td><td>[&quot;Mon Jul 02 14:19:22 +0000 2012&quot;, &quot;Mon Jul 02 19:13:05 +0000 2012&quot;, … &quot;Fri Jun 07 21:53:50 +0000 2013&quot;]</td><td>[180, 180, … 180]</td></tr><tr><td>217720</td><td>21</td><td>25</td><td>[&quot;4df3269eb61cbd3ec01a3394&quot;, &quot;4e5da8eafa768fe5f2bde1b6&quot;, … &quot;4ec3adcef5b9f024dfd93d37&quot;]</td><td>[&quot;Thu Feb 07 07:42:44 +0000 2013&quot;, &quot;Thu Feb 07 07:43:33 +0000 2013&quot;, … &quot;Tue Aug 06 11:42:32 +0000 2013&quot;]</td><td>[480, 480, … 480]</td></tr></tbody></table></div>"
            ]
          },
          "metadata": {},
          "execution_count": 24
        }
      ],
      "source": [
        "data_culled"
      ]
    },
    {
      "cell_type": "code",
      "execution_count": 25,
      "metadata": {
        "execution": {
          "iopub.execute_input": "2024-05-12T17:12:22.805093Z",
          "iopub.status.busy": "2024-05-12T17:12:22.804834Z",
          "iopub.status.idle": "2024-05-12T17:12:22.846817Z",
          "shell.execute_reply": "2024-05-12T17:12:22.846135Z",
          "shell.execute_reply.started": "2024-05-12T17:12:22.805071Z"
        },
        "id": "n5IdbHrNCCyp",
        "trusted": true
      },
      "outputs": [],
      "source": [
        "data_culled = data_culled.with_columns(\n",
        "    [\n",
        "        rs.col(\"pois\")\n",
        "        .list.eval(\n",
        "            rs.element().is_in(frequent_pois),\n",
        "        )\n",
        "        .alias(\"is_frequent\")\n",
        "    ]\n",
        ")  # prep mask"
      ]
    },
    {
      "cell_type": "code",
      "execution_count": 26,
      "metadata": {
        "execution": {
          "iopub.execute_input": "2024-05-12T17:12:22.847923Z",
          "iopub.status.busy": "2024-05-12T17:12:22.847680Z",
          "iopub.status.idle": "2024-05-12T17:12:22.934379Z",
          "shell.execute_reply": "2024-05-12T17:12:22.933537Z",
          "shell.execute_reply.started": "2024-05-12T17:12:22.847901Z"
        },
        "id": "rpFQCNJGCCyq",
        "trusted": true
      },
      "outputs": [],
      "source": [
        "final_data = (\n",
        "    data_culled.lazy()\n",
        "    .explode(\n",
        "        [\n",
        "            \"pois\",\n",
        "            \"dates\",\n",
        "            \"TZs\",\n",
        "            \"is_frequent\",\n",
        "        ]\n",
        "    )\n",
        "    .group_by(\"user\")\n",
        "    .agg(\n",
        "        [\n",
        "            rs.col(\"pois\").filter(rs.col(\"is_frequent\")).alias(\"pois\"),\n",
        "            rs.col(\"dates\").filter(rs.col(\"is_frequent\")).alias(\"dates\"),\n",
        "            rs.col(\"TZs\").filter(rs.col(\"is_frequent\")).alias(\"TZs\"),\n",
        "            rs.col(\"pois\").filter(rs.col(\"is_frequent\")).n_unique().alias(\"n_pois\"),\n",
        "            rs.col(\"pois\").filter(rs.col(\"is_frequent\")).count().alias(\"n_checkins\"),\n",
        "        ]\n",
        "    )\n",
        "    .filter(rs.col(\"n_checkins\") > 0)\n",
        "    .filter(rs.col(\"n_pois\") > 0)\n",
        "    .collect()\n",
        ")  # filter out infrequent pois and users with no pois"
      ]
    },
    {
      "cell_type": "code",
      "execution_count": 27,
      "metadata": {
        "colab": {
          "base_uri": "https://localhost:8080/",
          "height": 380
        },
        "execution": {
          "iopub.execute_input": "2024-05-12T17:12:22.935810Z",
          "iopub.status.busy": "2024-05-12T17:12:22.935511Z",
          "iopub.status.idle": "2024-05-12T17:12:22.946330Z",
          "shell.execute_reply": "2024-05-12T17:12:22.945303Z",
          "shell.execute_reply.started": "2024-05-12T17:12:22.935784Z"
        },
        "id": "CS0MglAhCCyq",
        "outputId": "e45c4ea5-e052-467f-bc9b-19c6c1b77a3b",
        "trusted": true
      },
      "outputs": [
        {
          "output_type": "execute_result",
          "data": {
            "text/plain": [
              "shape: (9, 7)\n",
              "┌────────────┬───────────────┬─────────┬─────────┬─────────┬──────────┬────────────┐\n",
              "│ statistic  ┆ user          ┆ pois    ┆ dates   ┆ TZs     ┆ n_pois   ┆ n_checkins │\n",
              "│ ---        ┆ ---           ┆ ---     ┆ ---     ┆ ---     ┆ ---      ┆ ---        │\n",
              "│ str        ┆ f64           ┆ f64     ┆ f64     ┆ f64     ┆ f64      ┆ f64        │\n",
              "╞════════════╪═══════════════╪═════════╪═════════╪═════════╪══════════╪════════════╡\n",
              "│ count      ┆ 19862.0       ┆ 19862.0 ┆ 19862.0 ┆ 19862.0 ┆ 19862.0  ┆ 19862.0    │\n",
              "│ null_count ┆ 0.0           ┆ 0.0     ┆ 0.0     ┆ 0.0     ┆ 0.0      ┆ 0.0        │\n",
              "│ mean       ┆ 156852.822274 ┆ null    ┆ null    ┆ null    ┆ 6.123452 ┆ 8.831437   │\n",
              "│ std        ┆ 76314.892884  ┆ null    ┆ null    ┆ null    ┆ 4.609024 ┆ 6.877662   │\n",
              "│ min        ┆ 49.0          ┆ null    ┆ null    ┆ null    ┆ 1.0      ┆ 1.0        │\n",
              "│ 25%        ┆ 95613.0       ┆ null    ┆ null    ┆ null    ┆ 3.0      ┆ 4.0        │\n",
              "│ 50%        ┆ 167846.0      ┆ null    ┆ null    ┆ null    ┆ 5.0      ┆ 7.0        │\n",
              "│ 75%        ┆ 224576.0      ┆ null    ┆ null    ┆ null    ┆ 8.0      ┆ 12.0       │\n",
              "│ max        ┆ 266909.0      ┆ null    ┆ null    ┆ null    ┆ 32.0     ┆ 46.0       │\n",
              "└────────────┴───────────────┴─────────┴─────────┴─────────┴──────────┴────────────┘"
            ],
            "text/html": [
              "<div><style>\n",
              ".dataframe > thead > tr,\n",
              ".dataframe > tbody > tr {\n",
              "  text-align: right;\n",
              "  white-space: pre-wrap;\n",
              "}\n",
              "</style>\n",
              "<small>shape: (9, 7)</small><table border=\"1\" class=\"dataframe\"><thead><tr><th>statistic</th><th>user</th><th>pois</th><th>dates</th><th>TZs</th><th>n_pois</th><th>n_checkins</th></tr><tr><td>str</td><td>f64</td><td>f64</td><td>f64</td><td>f64</td><td>f64</td><td>f64</td></tr></thead><tbody><tr><td>&quot;count&quot;</td><td>19862.0</td><td>19862.0</td><td>19862.0</td><td>19862.0</td><td>19862.0</td><td>19862.0</td></tr><tr><td>&quot;null_count&quot;</td><td>0.0</td><td>0.0</td><td>0.0</td><td>0.0</td><td>0.0</td><td>0.0</td></tr><tr><td>&quot;mean&quot;</td><td>156852.822274</td><td>null</td><td>null</td><td>null</td><td>6.123452</td><td>8.831437</td></tr><tr><td>&quot;std&quot;</td><td>76314.892884</td><td>null</td><td>null</td><td>null</td><td>4.609024</td><td>6.877662</td></tr><tr><td>&quot;min&quot;</td><td>49.0</td><td>null</td><td>null</td><td>null</td><td>1.0</td><td>1.0</td></tr><tr><td>&quot;25%&quot;</td><td>95613.0</td><td>null</td><td>null</td><td>null</td><td>3.0</td><td>4.0</td></tr><tr><td>&quot;50%&quot;</td><td>167846.0</td><td>null</td><td>null</td><td>null</td><td>5.0</td><td>7.0</td></tr><tr><td>&quot;75%&quot;</td><td>224576.0</td><td>null</td><td>null</td><td>null</td><td>8.0</td><td>12.0</td></tr><tr><td>&quot;max&quot;</td><td>266909.0</td><td>null</td><td>null</td><td>null</td><td>32.0</td><td>46.0</td></tr></tbody></table></div>"
            ]
          },
          "metadata": {},
          "execution_count": 27
        }
      ],
      "source": [
        "final_data.describe()"
      ]
    },
    {
      "cell_type": "markdown",
      "metadata": {
        "id": "ItBEF5DFCCyq"
      },
      "source": [
        "At this stage, culling is done, we can appreciate that `polars`'s SQL/functional-style API is different from Pandas, but it is very powerful and efficient."
      ]
    },
    {
      "cell_type": "markdown",
      "metadata": {
        "id": "HxS9E5bBCCyq"
      },
      "source": [
        "The next step is geohashing the POIs, that is, we want to convert the latitude-longitude positions of the POIs into a grid-based geohash representation, which will form the basis for our network's embeddings."
      ]
    },
    {
      "cell_type": "code",
      "execution_count": 28,
      "metadata": {
        "execution": {
          "iopub.execute_input": "2024-05-12T17:18:00.175077Z",
          "iopub.status.busy": "2024-05-12T17:18:00.174715Z",
          "iopub.status.idle": "2024-05-12T17:18:01.319600Z",
          "shell.execute_reply": "2024-05-12T17:18:01.318631Z",
          "shell.execute_reply.started": "2024-05-12T17:18:00.175050Z"
        },
        "id": "5tSt9gYqCCyq",
        "trusted": true
      },
      "outputs": [],
      "source": [
        "import geohash2 as gh\n",
        "\n",
        "pois = rs.read_csv(\n",
        "    \"/content/drive/MyDrive/dataset_TIST2015/dataset_TIST2015_POIs.txt\",\n",
        "    has_header=False,\n",
        "    low_memory=True,\n",
        "    separator=\"\\t\",\n",
        ")\n",
        "pois.columns = [\"poi\", \"lat\", \"long\", \"category\", \"country\"]\n",
        "pois = pois.drop(\"category\").drop(\"country\")"
      ]
    },
    {
      "cell_type": "code",
      "execution_count": 29,
      "metadata": {
        "execution": {
          "iopub.execute_input": "2024-05-12T17:18:01.322687Z",
          "iopub.status.busy": "2024-05-12T17:18:01.321836Z",
          "iopub.status.idle": "2024-05-12T17:18:01.597070Z",
          "shell.execute_reply": "2024-05-12T17:18:01.595862Z",
          "shell.execute_reply.started": "2024-05-12T17:18:01.322647Z"
        },
        "id": "fa3YSEGrCCyq",
        "trusted": true
      },
      "outputs": [],
      "source": [
        "pois = (\n",
        "    pois.lazy()\n",
        "    .filter(rs.col(\"poi\").is_in(frequent_pois))\n",
        "    .select(\n",
        "        [\n",
        "            rs.col(\"poi\"),\n",
        "            rs.struct(\n",
        "                [\n",
        "                    rs.col(\"lat\").cast(rs.Float32),\n",
        "                    rs.col(\"long\").cast(rs.Float32),\n",
        "                ]\n",
        "            )\n",
        "            .alias(\"location\")\n",
        "            .map_elements(\n",
        "                lambda s: gh.encode(s[\"lat\"], s[\"long\"], precision=6),\n",
        "                return_dtype=rs.String,\n",
        "            )\n",
        "            .alias(\"geohash\"),\n",
        "        ]\n",
        "    )\n",
        "    .collect()\n",
        ")\n",
        "poi_geo_dict = dict(zip(pois[\"poi\"], pois[\"geohash\"]))"
      ]
    },
    {
      "cell_type": "code",
      "execution_count": 30,
      "metadata": {
        "execution": {
          "iopub.execute_input": "2024-05-12T17:18:01.598983Z",
          "iopub.status.busy": "2024-05-12T17:18:01.598605Z",
          "iopub.status.idle": "2024-05-12T17:18:02.170923Z",
          "shell.execute_reply": "2024-05-12T17:18:02.169900Z",
          "shell.execute_reply.started": "2024-05-12T17:18:01.598957Z"
        },
        "id": "y1GevNOtCCyq",
        "trusted": true
      },
      "outputs": [],
      "source": [
        "# for each row in final_data, add the geohash of the pois by hitting the poi_geo_dict\n",
        "\n",
        "final_data = final_data.with_columns(\n",
        "    [\n",
        "        rs.col(\"pois\")\n",
        "        .map_elements(\n",
        "            lambda s: [poi_geo_dict[s] for s in s],\n",
        "            return_dtype=rs.List(rs.String),\n",
        "        )\n",
        "        .alias(\"geohashes\")\n",
        "    ]\n",
        ")"
      ]
    },
    {
      "cell_type": "code",
      "execution_count": 31,
      "metadata": {
        "colab": {
          "base_uri": "https://localhost:8080/"
        },
        "execution": {
          "iopub.execute_input": "2024-05-12T17:18:02.174390Z",
          "iopub.status.busy": "2024-05-12T17:18:02.173973Z",
          "iopub.status.idle": "2024-05-12T17:18:02.182127Z",
          "shell.execute_reply": "2024-05-12T17:18:02.180999Z",
          "shell.execute_reply.started": "2024-05-12T17:18:02.174356Z"
        },
        "id": "qaXNXfVfCCyq",
        "outputId": "934bea8b-3461-4eab-bff2-53b47de3c64b",
        "trusted": true
      },
      "outputs": [
        {
          "output_type": "execute_result",
          "data": {
            "text/plain": [
              "['Sat Apr 14 19:36:51 +0000 2012',\n",
              " 'Mon Apr 16 17:13:05 +0000 2012',\n",
              " 'Wed May 09 15:58:48 +0000 2012',\n",
              " 'Thu Nov 01 19:59:24 +0000 2012']"
            ]
          },
          "metadata": {},
          "execution_count": 31
        }
      ],
      "source": [
        "final_data[\"dates\"][79].to_list()  # check out a temporal sequence"
      ]
    },
    {
      "cell_type": "code",
      "execution_count": 32,
      "metadata": {
        "colab": {
          "base_uri": "https://localhost:8080/"
        },
        "execution": {
          "iopub.execute_input": "2024-05-12T17:18:02.184619Z",
          "iopub.status.busy": "2024-05-12T17:18:02.184032Z",
          "iopub.status.idle": "2024-05-12T17:18:02.191487Z",
          "shell.execute_reply": "2024-05-12T17:18:02.190500Z",
          "shell.execute_reply.started": "2024-05-12T17:18:02.184588Z"
        },
        "id": "BenJc82OCCyq",
        "outputId": "c2a83fdf-a067-4a53-b82b-726b6d56a3ef",
        "trusted": true
      },
      "outputs": [
        {
          "output_type": "execute_result",
          "data": {
            "text/plain": [
              "[-180, -180, -240, -180]"
            ]
          },
          "metadata": {},
          "execution_count": 32
        }
      ],
      "source": [
        "final_data[\"TZs\"][79].to_list()  # ... and the corresponding timezones"
      ]
    },
    {
      "cell_type": "markdown",
      "metadata": {
        "id": "Vkv4I9FhCCyq"
      },
      "source": [
        "The work *might* seem over, however, we still have timezones to account for, we want to normalize everything according to GMT, so we convert the timestamps accordingly."
      ]
    },
    {
      "cell_type": "code",
      "execution_count": 33,
      "metadata": {
        "execution": {
          "iopub.execute_input": "2024-05-12T17:18:02.193152Z",
          "iopub.status.busy": "2024-05-12T17:18:02.192847Z",
          "iopub.status.idle": "2024-05-12T17:18:02.204933Z",
          "shell.execute_reply": "2024-05-12T17:18:02.204002Z",
          "shell.execute_reply.started": "2024-05-12T17:18:02.193129Z"
        },
        "id": "ufyhRTJMCCyq",
        "trusted": true
      },
      "outputs": [],
      "source": [
        "import datetime\n",
        "\n",
        "\n",
        "def UTC_to_local(utc, tz):\n",
        "\n",
        "    date = datetime.datetime.strptime(utc, \"%a %b %d %H:%M:%S %z %Y\")\n",
        "    date = date.replace(tzinfo=datetime.timezone.utc)\n",
        "\n",
        "    # shift by tz offset\n",
        "    date = date.astimezone(datetime.timezone(datetime.timedelta(minutes=tz)))\n",
        "\n",
        "    date_s = datetime.datetime.strftime(date, \"%Y-%m-%d %H:%M:%S\")\n",
        "    return date_s\n",
        "\n",
        "\n",
        "def to_UNIX_time(date):\n",
        "    return datetime.datetime.strptime(\n",
        "        date, \"%Y-%m-%d %H:%M:%S\"\n",
        "    ).timestamp()  # we use UNIX time as a key for sorting the POIs in our polars query"
      ]
    },
    {
      "cell_type": "code",
      "execution_count": 34,
      "metadata": {
        "colab": {
          "base_uri": "https://localhost:8080/",
          "height": 35
        },
        "execution": {
          "iopub.execute_input": "2024-05-12T17:18:02.206754Z",
          "iopub.status.busy": "2024-05-12T17:18:02.206440Z",
          "iopub.status.idle": "2024-05-12T17:18:02.222110Z",
          "shell.execute_reply": "2024-05-12T17:18:02.221175Z",
          "shell.execute_reply.started": "2024-05-12T17:18:02.206727Z"
        },
        "id": "P1n-YGXLCCyq",
        "outputId": "22700dd0-8189-4e91-9caf-b78c15aa694c",
        "trusted": true
      },
      "outputs": [
        {
          "output_type": "execute_result",
          "data": {
            "text/plain": [
              "'2012-05-21 08:53:01'"
            ],
            "application/vnd.google.colaboratory.intrinsic+json": {
              "type": "string"
            }
          },
          "metadata": {},
          "execution_count": 34
        }
      ],
      "source": [
        "UTC_to_local(\"Mon May 21 15:53:01 +0000 2012\", -420)  # example of usage"
      ]
    },
    {
      "cell_type": "code",
      "execution_count": 35,
      "metadata": {
        "execution": {
          "iopub.execute_input": "2024-05-12T17:18:02.223852Z",
          "iopub.status.busy": "2024-05-12T17:18:02.223253Z",
          "iopub.status.idle": "2024-05-12T17:18:08.520959Z",
          "shell.execute_reply": "2024-05-12T17:18:08.519893Z",
          "shell.execute_reply.started": "2024-05-12T17:18:02.223821Z"
        },
        "id": "-QJbyPkeCCyq",
        "trusted": true
      },
      "outputs": [],
      "source": [
        "final_data = final_data.with_columns(\n",
        "    [\n",
        "        rs.struct([rs.col(\"dates\"), rs.col(\"TZs\")])\n",
        "        .alias(\"times\")\n",
        "        .map_elements(\n",
        "            lambda struct: [\n",
        "                UTC_to_local(date, tz)\n",
        "                for date, tz in zip(struct[\"dates\"], struct[\"TZs\"])\n",
        "            ],\n",
        "            return_dtype=rs.List(rs.String),\n",
        "        )\n",
        "    ]\n",
        ")  # This performs timezone conversion"
      ]
    },
    {
      "cell_type": "code",
      "execution_count": 36,
      "metadata": {
        "execution": {
          "iopub.execute_input": "2024-05-12T17:18:08.523541Z",
          "iopub.status.busy": "2024-05-12T17:18:08.522207Z",
          "iopub.status.idle": "2024-05-12T17:18:33.031224Z",
          "shell.execute_reply": "2024-05-12T17:18:33.030091Z",
          "shell.execute_reply.started": "2024-05-12T17:18:08.523508Z"
        },
        "id": "mI9bmD3UCCyt",
        "trusted": true
      },
      "outputs": [],
      "source": [
        "final_sorted = final_data.select(  # sort the times\n",
        "    [\n",
        "        rs.col(\"user\"),\n",
        "        rs.struct(\n",
        "            [\n",
        "                rs.col(\"pois\"),\n",
        "                rs.col(\"times\"),\n",
        "            ]\n",
        "        ).map_elements(\n",
        "            lambda struct: [\n",
        "                poi\n",
        "                for poi, _ in sorted(\n",
        "                    zip(  # here we sort the POIs struct by UNIX timestamps of the GMT times\n",
        "                        struct[\"pois\"], [to_UNIX_time(date) for date in struct[\"times\"]]\n",
        "                    ),\n",
        "                    key=lambda s: s[1],\n",
        "                )\n",
        "            ],\n",
        "            return_dtype=rs.List(rs.String),\n",
        "        ),\n",
        "        rs.struct(\n",
        "            [\n",
        "                rs.col(\"geohashes\"),\n",
        "                rs.col(\"times\"),\n",
        "            ]\n",
        "        ).map_elements(\n",
        "            lambda struct: [\n",
        "                geo\n",
        "                for geo, _ in sorted(\n",
        "                    zip(\n",
        "                        struct[\"geohashes\"],  # same thing goes on for geohashes\n",
        "                        [to_UNIX_time(date) for date in struct[\"times\"]],\n",
        "                    ),\n",
        "                    key=lambda s: s[1],\n",
        "                )\n",
        "            ],\n",
        "            return_dtype=rs.List(rs.String),\n",
        "        ),\n",
        "        rs.col(\"times\")\n",
        "        .map_elements(\n",
        "            lambda dates: sorted(dates, key=to_UNIX_time),\n",
        "            return_dtype=rs.List(rs.String),\n",
        "        )\n",
        "        .alias(\"times_sorted\"),\n",
        "        rs.col(\"n_checkins\"),\n",
        "    ]\n",
        ")\n",
        "\n",
        "# P.S, admittedly, it would have been more efficient to encode the geohashes *after* sorting the POIs,\n",
        "# so that we could save on the sorting of the geohashes. Tough luck, you can't win 'em all."
      ]
    },
    {
      "cell_type": "code",
      "execution_count": 37,
      "metadata": {
        "colab": {
          "base_uri": "https://localhost:8080/",
          "height": 443
        },
        "execution": {
          "iopub.execute_input": "2024-05-12T17:18:33.036029Z",
          "iopub.status.busy": "2024-05-12T17:18:33.035660Z",
          "iopub.status.idle": "2024-05-12T17:18:33.045341Z",
          "shell.execute_reply": "2024-05-12T17:18:33.044302Z",
          "shell.execute_reply.started": "2024-05-12T17:18:33.035999Z"
        },
        "id": "8I9t4dirCCyt",
        "outputId": "add753ef-2c27-4135-e875-6db0433af47e",
        "trusted": true
      },
      "outputs": [
        {
          "output_type": "execute_result",
          "data": {
            "text/plain": [
              "shape: (19_862, 5)\n",
              "┌────────┬──────────────────────────────┬────────────────────────┬────────────────────┬────────────┐\n",
              "│ user   ┆ pois                         ┆ geohashes              ┆ times_sorted       ┆ n_checkins │\n",
              "│ ---    ┆ ---                          ┆ ---                    ┆ ---                ┆ ---        │\n",
              "│ i64    ┆ list[str]                    ┆ list[str]              ┆ list[str]          ┆ u32        │\n",
              "╞════════╪══════════════════════════════╪════════════════════════╪════════════════════╪════════════╡\n",
              "│ 224937 ┆ [\"4bb8b56e98c7ef3be94e3102\", ┆ [\"7pkdtn\", \"7pkdtn\", … ┆ [\"2012-04-16       ┆ 7          │\n",
              "│        ┆ \"…                           ┆ \"6vjvtw…               ┆ 12:23:44\", \"2012-… ┆            │\n",
              "│ 153503 ┆ [\"4bec1e73f90e9c74999ae3ed\", ┆ [\"u1huxw\", \"u33db1\", … ┆ [\"2012-10-16       ┆ 5          │\n",
              "│        ┆ \"…                           ┆ \"gcpvhc…               ┆ 15:45:05\", \"2013-… ┆            │\n",
              "│ 102118 ┆ [\"4541114bf964a520433c1fe3\", ┆ [\"9mudjn\", \"9v1zzp\", … ┆ [\"2012-04-19       ┆ 12         │\n",
              "│        ┆ \"…                           ┆ \"87z9q7…               ┆ 08:17:27\", \"2012-… ┆            │\n",
              "│ 55062  ┆ [\"45b88de0f964a520ce411fe3\", ┆ [\"9q5ctr\", \"9q5cfj\", … ┆ [\"2012-04-20       ┆ 11         │\n",
              "│        ┆ \"…                           ┆ \"9q5ctr…               ┆ 12:52:37\", \"2012-… ┆            │\n",
              "│ 160202 ┆ [\"4b572472f964a5200b2828e3\", ┆ [\"xn77jj\", \"r3gwbn\"]   ┆ [\"2013-01-05       ┆ 2          │\n",
              "│        ┆ \"…                           ┆                        ┆ 07:32:58\", \"2013-… ┆            │\n",
              "│ …      ┆ …                            ┆ …                      ┆ …                  ┆ …          │\n",
              "│ 97652  ┆ [\"4bb5288a2ea19521a816aa2f\", ┆ [\"75cn8v\", \"6vjvtw\", … ┆ [\"2012-04-10       ┆ 10         │\n",
              "│        ┆ \"…                           ┆ \"75cnnj…               ┆ 05:00:21\", \"2012-… ┆            │\n",
              "│ 128440 ┆ [\"4d678903cba6a35df698cdc1\", ┆ [\"qqguf8\", \"qqgvp2\", … ┆ [\"2012-06-08       ┆ 7          │\n",
              "│        ┆ \"…                           ┆ \"qqguf8…               ┆ 19:46:06\", \"2012-… ┆            │\n",
              "│ 3522   ┆ [\"4b155081f964a520b4b023e3\", ┆ [\"dpz839\", \"dpz832\"]   ┆ [\"2013-03-14       ┆ 2          │\n",
              "│        ┆ \"…                           ┆                        ┆ 07:52:42\", \"2013-… ┆            │\n",
              "│ 122027 ┆ [\"4c34ecc53ffc9521e60791f5\", ┆ [\"ucftpy\", \"ucftpy\", … ┆ [\"2012-12-28       ┆ 9          │\n",
              "│        ┆ \"…                           ┆ \"ucfut5…               ┆ 13:30:23\", \"2012-… ┆            │\n",
              "│ 177589 ┆ [\"4bc02f01abf495218cfbbe93\", ┆ [\"wdw4d5\", \"wdw49z\", … ┆ [\"2012-05-29       ┆ 14         │\n",
              "│        ┆ \"…                           ┆ \"wdw4f9…               ┆ 22:47:04\", \"2012-… ┆            │\n",
              "└────────┴──────────────────────────────┴────────────────────────┴────────────────────┴────────────┘"
            ],
            "text/html": [
              "<div><style>\n",
              ".dataframe > thead > tr,\n",
              ".dataframe > tbody > tr {\n",
              "  text-align: right;\n",
              "  white-space: pre-wrap;\n",
              "}\n",
              "</style>\n",
              "<small>shape: (19_862, 5)</small><table border=\"1\" class=\"dataframe\"><thead><tr><th>user</th><th>pois</th><th>geohashes</th><th>times_sorted</th><th>n_checkins</th></tr><tr><td>i64</td><td>list[str]</td><td>list[str]</td><td>list[str]</td><td>u32</td></tr></thead><tbody><tr><td>224937</td><td>[&quot;4bb8b56e98c7ef3be94e3102&quot;, &quot;4bb8b56e98c7ef3be94e3102&quot;, … &quot;4b4dbb3ff964a52074d626e3&quot;]</td><td>[&quot;7pkdtn&quot;, &quot;7pkdtn&quot;, … &quot;6vjvtw&quot;]</td><td>[&quot;2012-04-16 12:23:44&quot;, &quot;2012-04-19 16:05:53&quot;, … &quot;2013-04-16 04:23:09&quot;]</td><td>7</td></tr><tr><td>153503</td><td>[&quot;4bec1e73f90e9c74999ae3ed&quot;, &quot;4a1c8506f964a520457b1fe3&quot;, … &quot;4c9c6a059c48236a1cb14dee&quot;]</td><td>[&quot;u1huxw&quot;, &quot;u33db1&quot;, … &quot;gcpvhc&quot;]</td><td>[&quot;2012-10-16 15:45:05&quot;, &quot;2013-04-07 12:10:32&quot;, … &quot;2013-05-25 10:38:18&quot;]</td><td>5</td></tr><tr><td>102118</td><td>[&quot;4541114bf964a520433c1fe3&quot;, &quot;4aac1b4ef964a520475c20e3&quot;, … &quot;4aa18a65f964a520ea4020e3&quot;]</td><td>[&quot;9mudjn&quot;, &quot;9v1zzp&quot;, … &quot;87z9q7&quot;]</td><td>[&quot;2012-04-19 08:17:27&quot;, &quot;2012-04-19 14:24:03&quot;, … &quot;2012-09-05 14:12:13&quot;]</td><td>12</td></tr><tr><td>55062</td><td>[&quot;45b88de0f964a520ce411fe3&quot;, &quot;41269080f964a520520c1fe3&quot;, … &quot;45b88de0f964a520ce411fe3&quot;]</td><td>[&quot;9q5ctr&quot;, &quot;9q5cfj&quot;, … &quot;9q5ctr&quot;]</td><td>[&quot;2012-04-20 12:52:37&quot;, &quot;2012-04-29 00:26:17&quot;, … &quot;2012-11-24 21:21:23&quot;]</td><td>11</td></tr><tr><td>160202</td><td>[&quot;4b572472f964a5200b2828e3&quot;, &quot;4f1b29eae4b0d1a65569e663&quot;]</td><td>[&quot;xn77jj&quot;, &quot;r3gwbn&quot;]</td><td>[&quot;2013-01-05 07:32:58&quot;, &quot;2013-08-07 07:13:51&quot;]</td><td>2</td></tr><tr><td>&hellip;</td><td>&hellip;</td><td>&hellip;</td><td>&hellip;</td><td>&hellip;</td></tr><tr><td>97652</td><td>[&quot;4bb5288a2ea19521a816aa2f&quot;, &quot;4b4dbb3ff964a52074d626e3&quot;, … &quot;4d8c9978ca75b60c0e4bd5a8&quot;]</td><td>[&quot;75cn8v&quot;, &quot;6vjvtw&quot;, … &quot;75cnnj&quot;]</td><td>[&quot;2012-04-10 05:00:21&quot;, &quot;2012-04-24 15:07:27&quot;, … &quot;2012-12-16 14:30:44&quot;]</td><td>10</td></tr><tr><td>128440</td><td>[&quot;4d678903cba6a35df698cdc1&quot;, &quot;4bf269b79f93952137b03098&quot;, … &quot;4d678903cba6a35df698cdc1&quot;]</td><td>[&quot;qqguf8&quot;, &quot;qqgvp2&quot;, … &quot;qqguf8&quot;]</td><td>[&quot;2012-06-08 19:46:06&quot;, &quot;2012-07-07 17:31:11&quot;, … &quot;2013-04-21 14:53:42&quot;]</td><td>7</td></tr><tr><td>3522</td><td>[&quot;4b155081f964a520b4b023e3&quot;, &quot;4ad4c061f964a520adf720e3&quot;]</td><td>[&quot;dpz839&quot;, &quot;dpz832&quot;]</td><td>[&quot;2013-03-14 07:52:42&quot;, &quot;2013-04-19 19:27:48&quot;]</td><td>2</td></tr><tr><td>122027</td><td>[&quot;4c34ecc53ffc9521e60791f5&quot;, &quot;4be82d4488ed2d7fde85cb1d&quot;, … &quot;4bb8469a1261d13a5586e898&quot;]</td><td>[&quot;ucftpy&quot;, &quot;ucftpy&quot;, … &quot;ucfut5&quot;]</td><td>[&quot;2012-12-28 13:30:23&quot;, &quot;2012-12-28 14:08:34&quot;, … &quot;2013-09-02 18:37:35&quot;]</td><td>9</td></tr><tr><td>177589</td><td>[&quot;4bc02f01abf495218cfbbe93&quot;, &quot;4bf25575a09076b0d7042ad4&quot;, … &quot;4ba8895af964a52002df39e3&quot;]</td><td>[&quot;wdw4d5&quot;, &quot;wdw49z&quot;, … &quot;wdw4f9&quot;]</td><td>[&quot;2012-05-29 22:47:04&quot;, &quot;2012-05-30 11:33:09&quot;, … &quot;2012-12-07 09:57:21&quot;]</td><td>14</td></tr></tbody></table></div>"
            ]
          },
          "metadata": {},
          "execution_count": 37
        }
      ],
      "source": [
        "final_sorted"
      ]
    },
    {
      "cell_type": "markdown",
      "metadata": {
        "id": "w-uFPvXPCCyt"
      },
      "source": [
        "we now need to obtain a dataframe containing: each POI, it's geohash, and a set of all the check-ins it appears in\n",
        "this is just one `polars` query away!"
      ]
    },
    {
      "cell_type": "code",
      "execution_count": 38,
      "metadata": {
        "execution": {
          "iopub.execute_input": "2024-05-12T17:18:33.047616Z",
          "iopub.status.busy": "2024-05-12T17:18:33.046986Z",
          "iopub.status.idle": "2024-05-12T17:18:33.678728Z",
          "shell.execute_reply": "2024-05-12T17:18:33.677717Z",
          "shell.execute_reply.started": "2024-05-12T17:18:33.047583Z"
        },
        "id": "_nS1s8GECCyt",
        "trusted": true
      },
      "outputs": [],
      "source": [
        "pois_checkins = final_sorted.explode([\"pois\", \"geohashes\"]).drop(\"n_checkins\")\n",
        "\n",
        "pois_checkins = (\n",
        "    pois_checkins.with_columns(\n",
        "        [\n",
        "            rs.col(\"geohashes\").map_elements(lambda s: s[:4], rs.String).alias(\"g4\"),\n",
        "        ]\n",
        "    )\n",
        "    .drop(\"geohashes\")\n",
        "    .group_by([\"pois\", \"g4\"])\n",
        "    .agg([rs.col(\"times_sorted\").flatten().alias(\"checkin_times\")])\n",
        ")"
      ]
    },
    {
      "cell_type": "code",
      "execution_count": 39,
      "metadata": {
        "colab": {
          "base_uri": "https://localhost:8080/",
          "height": 443
        },
        "execution": {
          "iopub.execute_input": "2024-05-12T17:18:33.681250Z",
          "iopub.status.busy": "2024-05-12T17:18:33.680539Z",
          "iopub.status.idle": "2024-05-12T17:18:33.689142Z",
          "shell.execute_reply": "2024-05-12T17:18:33.688082Z",
          "shell.execute_reply.started": "2024-05-12T17:18:33.681201Z"
        },
        "id": "U-2qN1sPCCyt",
        "outputId": "48e18483-9512-4c9e-eb80-b980c81f18db",
        "trusted": true
      },
      "outputs": [
        {
          "output_type": "execute_result",
          "data": {
            "text/plain": [
              "shape: (4_455, 3)\n",
              "┌──────────────────────────┬──────┬─────────────────────────────────┐\n",
              "│ pois                     ┆ g4   ┆ checkin_times                   │\n",
              "│ ---                      ┆ ---  ┆ ---                             │\n",
              "│ str                      ┆ str  ┆ list[str]                       │\n",
              "╞══════════════════════════╪══════╪═════════════════════════════════╡\n",
              "│ 4c65af8c7abde21eff6e6168 ┆ sxk9 ┆ [\"2012-04-23 00:31:38\", \"2012-… │\n",
              "│ 4d160cd685fc6dcb5649a44e ┆ w0zf ┆ [\"2012-11-18 16:50:13\", \"2012-… │\n",
              "│ 4a64ac42f964a52072c61fe3 ┆ 9vg4 ┆ [\"2012-04-13 19:05:48\", \"2012-… │\n",
              "│ 4c62ba497c9def3ba775d41c ┆ 66j8 ┆ [\"2012-11-17 06:20:19\", \"2013-… │\n",
              "│ 4db435b31e7248d1359c7e13 ┆ sxk8 ┆ [\"2012-12-21 14:35:34\", \"2012-… │\n",
              "│ …                        ┆ …    ┆ …                               │\n",
              "│ 4b0a269df964a5200a2223e3 ┆ r1r0 ┆ [\"2012-10-13 14:09:50\", \"2012-… │\n",
              "│ 4b4305d1f964a520b8db25e3 ┆ qqgu ┆ [\"2012-04-15 11:13:43\", \"2012-… │\n",
              "│ 4ba337d7f964a5205c3038e3 ┆ qqy8 ┆ [\"2012-12-27 18:15:19\", \"2012-… │\n",
              "│ 4e318eeba809ef7b4ece9dcb ┆ sxhs ┆ [\"2012-04-29 20:48:06\", \"2012-… │\n",
              "│ 4dc4690fe4cd169dc6328bd3 ┆ sxk9 ┆ [\"2012-04-15 00:19:34\", \"2012-… │\n",
              "└──────────────────────────┴──────┴─────────────────────────────────┘"
            ],
            "text/html": [
              "<div><style>\n",
              ".dataframe > thead > tr,\n",
              ".dataframe > tbody > tr {\n",
              "  text-align: right;\n",
              "  white-space: pre-wrap;\n",
              "}\n",
              "</style>\n",
              "<small>shape: (4_455, 3)</small><table border=\"1\" class=\"dataframe\"><thead><tr><th>pois</th><th>g4</th><th>checkin_times</th></tr><tr><td>str</td><td>str</td><td>list[str]</td></tr></thead><tbody><tr><td>&quot;4c65af8c7abde21eff6e6168&quot;</td><td>&quot;sxk9&quot;</td><td>[&quot;2012-04-23 00:31:38&quot;, &quot;2012-04-24 16:23:51&quot;, … &quot;2013-07-08 20:03:25&quot;]</td></tr><tr><td>&quot;4d160cd685fc6dcb5649a44e&quot;</td><td>&quot;w0zf&quot;</td><td>[&quot;2012-11-18 16:50:13&quot;, &quot;2012-11-25 18:29:55&quot;, … &quot;2013-08-22 14:23:43&quot;]</td></tr><tr><td>&quot;4a64ac42f964a52072c61fe3&quot;</td><td>&quot;9vg4&quot;</td><td>[&quot;2012-04-13 19:05:48&quot;, &quot;2012-04-14 11:56:58&quot;, … &quot;2012-12-02 15:14:04&quot;]</td></tr><tr><td>&quot;4c62ba497c9def3ba775d41c&quot;</td><td>&quot;66j8&quot;</td><td>[&quot;2012-11-17 06:20:19&quot;, &quot;2013-01-26 11:11:16&quot;, … &quot;2012-07-03 19:11:18&quot;]</td></tr><tr><td>&quot;4db435b31e7248d1359c7e13&quot;</td><td>&quot;sxk8&quot;</td><td>[&quot;2012-12-21 14:35:34&quot;, &quot;2012-12-21 17:04:09&quot;, … &quot;2013-07-28 08:49:15&quot;]</td></tr><tr><td>&hellip;</td><td>&hellip;</td><td>&hellip;</td></tr><tr><td>&quot;4b0a269df964a5200a2223e3&quot;</td><td>&quot;r1r0&quot;</td><td>[&quot;2012-10-13 14:09:50&quot;, &quot;2012-10-13 16:49:43&quot;, … &quot;2013-03-14 19:39:52&quot;]</td></tr><tr><td>&quot;4b4305d1f964a520b8db25e3&quot;</td><td>&quot;qqgu&quot;</td><td>[&quot;2012-04-15 11:13:43&quot;, &quot;2012-05-13 12:18:22&quot;, … &quot;2013-02-07 17:36:47&quot;]</td></tr><tr><td>&quot;4ba337d7f964a5205c3038e3&quot;</td><td>&quot;qqy8&quot;</td><td>[&quot;2012-12-27 18:15:19&quot;, &quot;2012-12-28 14:36:50&quot;, … &quot;2012-06-21 22:20:44&quot;]</td></tr><tr><td>&quot;4e318eeba809ef7b4ece9dcb&quot;</td><td>&quot;sxhs&quot;</td><td>[&quot;2012-04-29 20:48:06&quot;, &quot;2012-05-19 21:41:18&quot;, … &quot;2013-09-14 23:08:17&quot;]</td></tr><tr><td>&quot;4dc4690fe4cd169dc6328bd3&quot;</td><td>&quot;sxk9&quot;</td><td>[&quot;2012-04-15 00:19:34&quot;, &quot;2012-05-14 04:59:01&quot;, … &quot;2013-07-13 13:29:48&quot;]</td></tr></tbody></table></div>"
            ]
          },
          "metadata": {},
          "execution_count": 39
        }
      ],
      "source": [
        "pois_checkins  # with this we can *efficiently* build our POI-POI spatial-temporal graphs"
      ]
    },
    {
      "cell_type": "code",
      "execution_count": 40,
      "metadata": {
        "execution": {
          "iopub.execute_input": "2024-05-12T17:18:33.691028Z",
          "iopub.status.busy": "2024-05-12T17:18:33.690305Z",
          "iopub.status.idle": "2024-05-12T17:18:33.702976Z",
          "shell.execute_reply": "2024-05-12T17:18:33.701995Z",
          "shell.execute_reply.started": "2024-05-12T17:18:33.691004Z"
        },
        "id": "XY2TcDbXCCyt",
        "trusted": true
      },
      "outputs": [],
      "source": [
        "def UTC_to_weekslot(utc: str) -> int:\n",
        "    \"\"\"UTC_to_weekslot converts a UTC timestamp to a weekslot.\n",
        "\n",
        "    Parameters\n",
        "    ----------\n",
        "    utc : str\n",
        "        A string representing a UTC timestamp.\n",
        "\n",
        "    Returns\n",
        "    -------\n",
        "    int\n",
        "        A weekslot in the range [0, 56).\n",
        "    \"\"\"\n",
        "\n",
        "    date = datetime.datetime.strptime(utc, \"%Y-%m-%d %H:%M:%S\")\n",
        "    week = date.weekday()\n",
        "    hour = date.hour\n",
        "\n",
        "    return week * 8 + hour // 3"
      ]
    },
    {
      "cell_type": "markdown",
      "metadata": {
        "id": "8fkRkLFgCCyt"
      },
      "source": [
        "Next, we want to encode all of our inputs for our neural networks, this could *probably* be done\n",
        "with polars magic, but it's too delicate and we prefer classic for-looping."
      ]
    },
    {
      "cell_type": "code",
      "execution_count": 41,
      "metadata": {
        "execution": {
          "iopub.execute_input": "2024-05-12T17:18:33.704998Z",
          "iopub.status.busy": "2024-05-12T17:18:33.704221Z",
          "iopub.status.idle": "2024-05-12T17:18:34.088484Z",
          "shell.execute_reply": "2024-05-12T17:18:34.087664Z",
          "shell.execute_reply.started": "2024-05-12T17:18:33.704965Z"
        },
        "id": "ItDfQyVUCCyt",
        "trusted": true
      },
      "outputs": [],
      "source": [
        "encoder_dict = {\n",
        "    \"users\": LabelEncoder(),\n",
        "    \"pois\": LabelEncoder(),\n",
        "    \"g2\": LabelEncoder(),\n",
        "    \"g3\": LabelEncoder(),\n",
        "    \"g4\": LabelEncoder(),\n",
        "    \"g5\": LabelEncoder(),\n",
        "    \"g6\": LabelEncoder(),\n",
        "}\n",
        "\n",
        "encoded_data = {\n",
        "    \"users\": [],\n",
        "    \"pois\": [],\n",
        "    \"g2\": [],\n",
        "    \"g3\": [],\n",
        "    \"g4\": [],\n",
        "    \"g5\": [],\n",
        "    \"g6\": [],\n",
        "}\n",
        "\n",
        "unique_data = {\n",
        "    \"users\": set(),\n",
        "    \"pois\": set(),\n",
        "    \"g2\": set(),\n",
        "    \"g3\": set(),\n",
        "    \"g4\": set(),\n",
        "    \"g5\": set(),\n",
        "    \"g6\": set(),\n",
        "}\n",
        "\n",
        "# quick and dirty encoding:\n",
        "# 1. put every unique symbol in a list\n",
        "# 2. fit the respective encoder\n",
        "# 3. transform the lists\n",
        "\n",
        "for i, row in enumerate(final_sorted.iter_rows()):\n",
        "\n",
        "    user, pois, geohashes, times_sorted, n_checkins = row\n",
        "\n",
        "    g2 = [geo[:2] for geo in geohashes]\n",
        "    g3 = [geo[:3] for geo in geohashes]\n",
        "    g4 = [geo[:4] for geo in geohashes]\n",
        "    g5 = [geo[:5] for geo in geohashes]\n",
        "    g6 = [geo[:6] for geo in geohashes]  # redundant, but I like symmetry\n",
        "\n",
        "    unique_data[\"users\"].add(user)\n",
        "    unique_data[\"pois\"].update(pois)\n",
        "    unique_data[\"g2\"].update(g2)\n",
        "    unique_data[\"g3\"].update(g3)\n",
        "    unique_data[\"g4\"].update(g4)\n",
        "    unique_data[\"g5\"].update(g5)\n",
        "    unique_data[\"g6\"].update(g6)\n",
        "\n",
        "for property, enc, data in zip(\n",
        "    encoder_dict.keys(), encoder_dict.values(), unique_data.values()\n",
        "):\n",
        "    enc.fit(list(data))\n",
        "    encoder_dict[property] = enc"
      ]
    },
    {
      "cell_type": "code",
      "execution_count": 42,
      "metadata": {
        "colab": {
          "base_uri": "https://localhost:8080/"
        },
        "execution": {
          "iopub.execute_input": "2024-05-12T17:18:34.089994Z",
          "iopub.status.busy": "2024-05-12T17:18:34.089730Z",
          "iopub.status.idle": "2024-05-12T17:22:58.097446Z",
          "shell.execute_reply": "2024-05-12T17:22:58.096536Z",
          "shell.execute_reply.started": "2024-05-12T17:18:34.089972Z"
        },
        "id": "Il4AnsMUCCyt",
        "outputId": "c27d33db-3727-4531-a579-e233f88c4414",
        "trusted": true
      },
      "outputs": [
        {
          "output_type": "stream",
          "name": "stderr",
          "text": [
            "100%|██████████| 19862/19862 [02:44<00:00, 121.08it/s]\n"
          ]
        }
      ],
      "source": [
        "# this could be optimized, right now it takes a while, at least we have a nice progress bar to look at\n",
        "\n",
        "ds_size = len(final_sorted)\n",
        "\n",
        "for i, row in tqdm(enumerate(final_sorted.iter_rows()), total=ds_size):\n",
        "\n",
        "    user, pois, geohashes, times_sorted, n_checkins = row\n",
        "\n",
        "    g2 = [geo[:2] for geo in geohashes]\n",
        "    g3 = [geo[:3] for geo in geohashes]\n",
        "    g4 = [geo[:4] for geo in geohashes]\n",
        "    g5 = [geo[:5] for geo in geohashes]\n",
        "    g6 = [geo[:6] for geo in geohashes]\n",
        "\n",
        "    encoded_data[\"users\"].append(encoder_dict[\"users\"].transform([user])[0])\n",
        "    encoded_data[\"pois\"].append(encoder_dict[\"pois\"].transform(pois))\n",
        "    encoded_data[\"g2\"].append(encoder_dict[\"g2\"].transform(g2))\n",
        "    encoded_data[\"g3\"].append(encoder_dict[\"g3\"].transform(g3))\n",
        "    encoded_data[\"g4\"].append(encoder_dict[\"g4\"].transform(g4))\n",
        "    encoded_data[\"g5\"].append(encoder_dict[\"g5\"].transform(g5))\n",
        "    encoded_data[\"g6\"].append(encoder_dict[\"g6\"].transform(g6))\n",
        "\n",
        "    # sum 1 to all values to avoid 0s\n",
        "    encoded_data[\"users\"][-1] += 1\n",
        "    encoded_data[\"pois\"][-1] += 1\n",
        "    encoded_data[\"g2\"][-1] += 1\n",
        "    encoded_data[\"g3\"][-1] += 1\n",
        "    encoded_data[\"g4\"][-1] += 1\n",
        "    encoded_data[\"g5\"][-1] += 1\n",
        "    encoded_data[\"g6\"][-1] += 1"
      ]
    },
    {
      "cell_type": "code",
      "execution_count": 43,
      "metadata": {
        "colab": {
          "base_uri": "https://localhost:8080/"
        },
        "execution": {
          "iopub.execute_input": "2024-05-12T17:22:58.098951Z",
          "iopub.status.busy": "2024-05-12T17:22:58.098663Z",
          "iopub.status.idle": "2024-05-12T17:22:58.158205Z",
          "shell.execute_reply": "2024-05-12T17:22:58.157305Z",
          "shell.execute_reply.started": "2024-05-12T17:22:58.098927Z"
        },
        "id": "nN6GpNCFCCyu",
        "outputId": "34e0c917-2548-46a4-9bea-91bccc0eefc7",
        "trusted": true
      },
      "outputs": [
        {
          "output_type": "execute_result",
          "data": {
            "text/plain": [
              "1"
            ]
          },
          "metadata": {},
          "execution_count": 43
        }
      ],
      "source": [
        "# check that we left space for the padding token\n",
        "min((arr.min() for arr in encoded_data[\"pois\"]))"
      ]
    },
    {
      "cell_type": "code",
      "execution_count": 44,
      "metadata": {
        "colab": {
          "base_uri": "https://localhost:8080/",
          "height": 443
        },
        "execution": {
          "iopub.execute_input": "2024-05-12T17:22:58.159644Z",
          "iopub.status.busy": "2024-05-12T17:22:58.159379Z",
          "iopub.status.idle": "2024-05-12T17:22:58.172245Z",
          "shell.execute_reply": "2024-05-12T17:22:58.170940Z",
          "shell.execute_reply.started": "2024-05-12T17:22:58.159621Z"
        },
        "id": "enab_ljUCCyu",
        "outputId": "57be1c3e-3eaf-4cae-bb69-4bf55da0b0e3",
        "trusted": true
      },
      "outputs": [
        {
          "output_type": "execute_result",
          "data": {
            "text/plain": [
              "shape: (4_455, 3)\n",
              "┌──────────────────────────┬──────┬─────────────────────────────────┐\n",
              "│ pois                     ┆ g4   ┆ checkin_times                   │\n",
              "│ ---                      ┆ ---  ┆ ---                             │\n",
              "│ str                      ┆ str  ┆ list[str]                       │\n",
              "╞══════════════════════════╪══════╪═════════════════════════════════╡\n",
              "│ 4c65af8c7abde21eff6e6168 ┆ sxk9 ┆ [\"2012-04-23 00:31:38\", \"2012-… │\n",
              "│ 4d160cd685fc6dcb5649a44e ┆ w0zf ┆ [\"2012-11-18 16:50:13\", \"2012-… │\n",
              "│ 4a64ac42f964a52072c61fe3 ┆ 9vg4 ┆ [\"2012-04-13 19:05:48\", \"2012-… │\n",
              "│ 4c62ba497c9def3ba775d41c ┆ 66j8 ┆ [\"2012-11-17 06:20:19\", \"2013-… │\n",
              "│ 4db435b31e7248d1359c7e13 ┆ sxk8 ┆ [\"2012-12-21 14:35:34\", \"2012-… │\n",
              "│ …                        ┆ …    ┆ …                               │\n",
              "│ 4b0a269df964a5200a2223e3 ┆ r1r0 ┆ [\"2012-10-13 14:09:50\", \"2012-… │\n",
              "│ 4b4305d1f964a520b8db25e3 ┆ qqgu ┆ [\"2012-04-15 11:13:43\", \"2012-… │\n",
              "│ 4ba337d7f964a5205c3038e3 ┆ qqy8 ┆ [\"2012-12-27 18:15:19\", \"2012-… │\n",
              "│ 4e318eeba809ef7b4ece9dcb ┆ sxhs ┆ [\"2012-04-29 20:48:06\", \"2012-… │\n",
              "│ 4dc4690fe4cd169dc6328bd3 ┆ sxk9 ┆ [\"2012-04-15 00:19:34\", \"2012-… │\n",
              "└──────────────────────────┴──────┴─────────────────────────────────┘"
            ],
            "text/html": [
              "<div><style>\n",
              ".dataframe > thead > tr,\n",
              ".dataframe > tbody > tr {\n",
              "  text-align: right;\n",
              "  white-space: pre-wrap;\n",
              "}\n",
              "</style>\n",
              "<small>shape: (4_455, 3)</small><table border=\"1\" class=\"dataframe\"><thead><tr><th>pois</th><th>g4</th><th>checkin_times</th></tr><tr><td>str</td><td>str</td><td>list[str]</td></tr></thead><tbody><tr><td>&quot;4c65af8c7abde21eff6e6168&quot;</td><td>&quot;sxk9&quot;</td><td>[&quot;2012-04-23 00:31:38&quot;, &quot;2012-04-24 16:23:51&quot;, … &quot;2013-07-08 20:03:25&quot;]</td></tr><tr><td>&quot;4d160cd685fc6dcb5649a44e&quot;</td><td>&quot;w0zf&quot;</td><td>[&quot;2012-11-18 16:50:13&quot;, &quot;2012-11-25 18:29:55&quot;, … &quot;2013-08-22 14:23:43&quot;]</td></tr><tr><td>&quot;4a64ac42f964a52072c61fe3&quot;</td><td>&quot;9vg4&quot;</td><td>[&quot;2012-04-13 19:05:48&quot;, &quot;2012-04-14 11:56:58&quot;, … &quot;2012-12-02 15:14:04&quot;]</td></tr><tr><td>&quot;4c62ba497c9def3ba775d41c&quot;</td><td>&quot;66j8&quot;</td><td>[&quot;2012-11-17 06:20:19&quot;, &quot;2013-01-26 11:11:16&quot;, … &quot;2012-07-03 19:11:18&quot;]</td></tr><tr><td>&quot;4db435b31e7248d1359c7e13&quot;</td><td>&quot;sxk8&quot;</td><td>[&quot;2012-12-21 14:35:34&quot;, &quot;2012-12-21 17:04:09&quot;, … &quot;2013-07-28 08:49:15&quot;]</td></tr><tr><td>&hellip;</td><td>&hellip;</td><td>&hellip;</td></tr><tr><td>&quot;4b0a269df964a5200a2223e3&quot;</td><td>&quot;r1r0&quot;</td><td>[&quot;2012-10-13 14:09:50&quot;, &quot;2012-10-13 16:49:43&quot;, … &quot;2013-03-14 19:39:52&quot;]</td></tr><tr><td>&quot;4b4305d1f964a520b8db25e3&quot;</td><td>&quot;qqgu&quot;</td><td>[&quot;2012-04-15 11:13:43&quot;, &quot;2012-05-13 12:18:22&quot;, … &quot;2013-02-07 17:36:47&quot;]</td></tr><tr><td>&quot;4ba337d7f964a5205c3038e3&quot;</td><td>&quot;qqy8&quot;</td><td>[&quot;2012-12-27 18:15:19&quot;, &quot;2012-12-28 14:36:50&quot;, … &quot;2012-06-21 22:20:44&quot;]</td></tr><tr><td>&quot;4e318eeba809ef7b4ece9dcb&quot;</td><td>&quot;sxhs&quot;</td><td>[&quot;2012-04-29 20:48:06&quot;, &quot;2012-05-19 21:41:18&quot;, … &quot;2013-09-14 23:08:17&quot;]</td></tr><tr><td>&quot;4dc4690fe4cd169dc6328bd3&quot;</td><td>&quot;sxk9&quot;</td><td>[&quot;2012-04-15 00:19:34&quot;, &quot;2012-05-14 04:59:01&quot;, … &quot;2013-07-13 13:29:48&quot;]</td></tr></tbody></table></div>"
            ]
          },
          "metadata": {},
          "execution_count": 44
        }
      ],
      "source": [
        "pois_checkins"
      ]
    },
    {
      "cell_type": "code",
      "execution_count": 45,
      "metadata": {
        "execution": {
          "iopub.execute_input": "2024-05-12T17:22:58.175390Z",
          "iopub.status.busy": "2024-05-12T17:22:58.175049Z",
          "iopub.status.idle": "2024-05-12T17:24:05.319129Z",
          "shell.execute_reply": "2024-05-12T17:24:05.318286Z",
          "shell.execute_reply.started": "2024-05-12T17:22:58.175357Z"
        },
        "id": "qyEXUwAcCCyu",
        "trusted": true
      },
      "outputs": [],
      "source": [
        "# we also encode the graph dataframe so we can build the graphs\n",
        "\n",
        "pois_checkins = (\n",
        "    pois_checkins.lazy()\n",
        "    .with_columns(\n",
        "        [\n",
        "            rs.col(\"pois\").map_elements(\n",
        "                lambda s: encoder_dict[\"pois\"].transform([s])[0] + 1, rs.Int64\n",
        "            ),\n",
        "            rs.col(\"g4\").map_elements(\n",
        "                lambda s: encoder_dict[\"g4\"].transform([s])[0] + 1, rs.Int64\n",
        "            ),  # apply utc_to_weekslot to each timestamp in the list\n",
        "            rs.col(\"checkin_times\").map_elements(\n",
        "                lambda s: [UTC_to_weekslot(date) for date in s], rs.List(rs.Int64)\n",
        "            ),\n",
        "        ]\n",
        "    )\n",
        "    .sort(\"pois\")\n",
        "    .collect()\n",
        ")"
      ]
    },
    {
      "cell_type": "code",
      "execution_count": 46,
      "metadata": {
        "execution": {
          "iopub.execute_input": "2024-05-12T17:24:05.320557Z",
          "iopub.status.busy": "2024-05-12T17:24:05.320204Z",
          "iopub.status.idle": "2024-05-12T17:24:05.942800Z",
          "shell.execute_reply": "2024-05-12T17:24:05.940593Z",
          "shell.execute_reply.started": "2024-05-12T17:24:05.320531Z"
        },
        "id": "w1-P4fDgCCyu",
        "trusted": true
      },
      "outputs": [],
      "source": [
        "# add fictitious POI 0 to the graph, with nonexistent geohash and no timeslot, so we get a 0 row and column for the padding token\n",
        "fake_datapoint = rs.DataFrame(\n",
        "    {\n",
        "        \"pois\": [0],\n",
        "        \"g4\": [pois_checkins[\"g4\"].max() + 42],\n",
        "        \"checkin_times\": [[43]],\n",
        "    }\n",
        ")\n",
        "# this is a lot of work since polars dataframes are immutable by default, we have to run a query to change the 43 into an empty list\n",
        "# we NEED the 43 otherwise polars won't infer the datatype of the list\n",
        "\n",
        "fake_datapoint = fake_datapoint.with_columns(\n",
        "    [rs.col(\"checkin_times\").map_elements(lambda s: [], rs.List(rs.Int64))]\n",
        ")\n",
        "\n",
        "pois_checkins = fake_datapoint.vstack(pois_checkins)"
      ]
    },
    {
      "cell_type": "code",
      "execution_count": 47,
      "metadata": {
        "execution": {
          "iopub.status.busy": "2024-05-12T17:24:05.943611Z",
          "iopub.status.idle": "2024-05-12T17:24:05.943968Z",
          "shell.execute_reply": "2024-05-12T17:24:05.943808Z",
          "shell.execute_reply.started": "2024-05-12T17:24:05.943793Z"
        },
        "id": "i4zaRXGPCCyu",
        "trusted": true
      },
      "outputs": [],
      "source": [
        "spatial_row = np.array(pois_checkins[\"g4\"].to_list()).reshape(-1, 1)"
      ]
    },
    {
      "cell_type": "code",
      "execution_count": 48,
      "metadata": {
        "execution": {
          "iopub.status.busy": "2024-05-12T17:24:05.945592Z",
          "iopub.status.idle": "2024-05-12T17:24:05.945908Z",
          "shell.execute_reply": "2024-05-12T17:24:05.945767Z",
          "shell.execute_reply.started": "2024-05-12T17:24:05.945754Z"
        },
        "id": "rAL2xYaSCCyu",
        "trusted": true
      },
      "outputs": [],
      "source": [
        "# outer product using equality\n",
        "spatial_graph = (spatial_row == spatial_row.T).astype(np.int32)\n",
        "spatial_graph[0, 0] = (\n",
        "    0  # the fake g4 is still equal to itself, we suppress this equality\n",
        ")\n",
        "spatial_graph = torch.tensor(spatial_graph)"
      ]
    },
    {
      "cell_type": "code",
      "execution_count": 49,
      "metadata": {
        "execution": {
          "iopub.status.busy": "2024-05-12T17:24:05.947573Z",
          "iopub.status.idle": "2024-05-12T17:24:05.947885Z",
          "shell.execute_reply": "2024-05-12T17:24:05.947745Z",
          "shell.execute_reply.started": "2024-05-12T17:24:05.947733Z"
        },
        "id": "O5Glb5TaCCyu",
        "trusted": true
      },
      "outputs": [],
      "source": [
        "temporal_row = pois_checkins[\"checkin_times\"].to_list()"
      ]
    },
    {
      "cell_type": "code",
      "execution_count": 50,
      "metadata": {
        "execution": {
          "iopub.status.busy": "2024-05-12T17:24:05.948862Z",
          "iopub.status.idle": "2024-05-12T17:24:05.949163Z",
          "shell.execute_reply": "2024-05-12T17:24:05.949023Z",
          "shell.execute_reply.started": "2024-05-12T17:24:05.949010Z"
        },
        "id": "EKaTa7VNCCyu",
        "trusted": true
      },
      "outputs": [],
      "source": [
        "temporal_graph = np.zeros((spatial_row.shape[0], spatial_row.shape[0]))"
      ]
    },
    {
      "cell_type": "code",
      "execution_count": 51,
      "metadata": {
        "execution": {
          "iopub.status.busy": "2024-05-12T17:24:05.950134Z",
          "iopub.status.idle": "2024-05-12T17:24:05.950472Z",
          "shell.execute_reply": "2024-05-12T17:24:05.950318Z",
          "shell.execute_reply.started": "2024-05-12T17:24:05.950304Z"
        },
        "id": "sWGavlW5CCyu",
        "trusted": true
      },
      "outputs": [],
      "source": [
        "temporal_sets = [np.array(list(set(row))) for row in temporal_row]"
      ]
    },
    {
      "cell_type": "code",
      "execution_count": 52,
      "metadata": {
        "execution": {
          "iopub.status.busy": "2024-05-12T17:24:05.951598Z",
          "iopub.status.idle": "2024-05-12T17:24:05.951933Z",
          "shell.execute_reply": "2024-05-12T17:24:05.951783Z",
          "shell.execute_reply.started": "2024-05-12T17:24:05.951769Z"
        },
        "id": "IAWEvt1mCCyu",
        "trusted": true
      },
      "outputs": [],
      "source": [
        "time_sets = torch.zeros((len(temporal_sets), 56), dtype=torch.int8)\n",
        "\n",
        "for i, r in enumerate(temporal_row):\n",
        "    indices = torch.tensor(r, dtype=torch.long)\n",
        "    time_sets[i, indices] = 1"
      ]
    },
    {
      "cell_type": "code",
      "execution_count": 53,
      "metadata": {
        "colab": {
          "base_uri": "https://localhost:8080/"
        },
        "execution": {
          "iopub.status.busy": "2024-05-12T17:24:05.953273Z",
          "iopub.status.idle": "2024-05-12T17:24:05.953611Z",
          "shell.execute_reply": "2024-05-12T17:24:05.953464Z",
          "shell.execute_reply.started": "2024-05-12T17:24:05.953450Z"
        },
        "id": "wGjJgRWaCCyu",
        "outputId": "df782200-c4fd-417d-e32a-ab3a10b56029",
        "trusted": true
      },
      "outputs": [
        {
          "output_type": "execute_result",
          "data": {
            "text/plain": [
              "torch.Size([4456, 56])"
            ]
          },
          "metadata": {},
          "execution_count": 53
        }
      ],
      "source": [
        "time_sets.shape"
      ]
    },
    {
      "cell_type": "code",
      "execution_count": 54,
      "metadata": {
        "execution": {
          "iopub.status.busy": "2024-05-12T17:24:05.954704Z",
          "iopub.status.idle": "2024-05-12T17:24:05.955047Z",
          "shell.execute_reply": "2024-05-12T17:24:05.954893Z",
          "shell.execute_reply.started": "2024-05-12T17:24:05.954878Z"
        },
        "id": "Ym-XXavSCCyu",
        "trusted": true
      },
      "outputs": [],
      "source": [
        "# AND outer product\n",
        "\n",
        "intersection = time_sets @ time_sets.T\n",
        "union = time_sets.unsqueeze(1) | time_sets.unsqueeze(0)\n",
        "union = union.sum(dim=2)\n",
        "iou = intersection / union"
      ]
    },
    {
      "cell_type": "code",
      "execution_count": 55,
      "metadata": {
        "execution": {
          "iopub.status.busy": "2024-05-12T17:24:05.956260Z",
          "iopub.status.idle": "2024-05-12T17:24:05.956602Z",
          "shell.execute_reply": "2024-05-12T17:24:05.956454Z",
          "shell.execute_reply.started": "2024-05-12T17:24:05.956440Z"
        },
        "id": "uXE6xSDoCCyu",
        "trusted": true
      },
      "outputs": [],
      "source": [
        "temporal_graph = iou >= 0.9\n",
        "# cast to int\n",
        "temporal_graph = temporal_graph.int()"
      ]
    },
    {
      "cell_type": "code",
      "execution_count": 56,
      "metadata": {
        "colab": {
          "base_uri": "https://localhost:8080/"
        },
        "execution": {
          "iopub.status.busy": "2024-05-12T17:24:05.958162Z",
          "iopub.status.idle": "2024-05-12T17:24:05.958505Z",
          "shell.execute_reply": "2024-05-12T17:24:05.958359Z",
          "shell.execute_reply.started": "2024-05-12T17:24:05.958345Z"
        },
        "id": "F_e6VXbgCCyu",
        "outputId": "877be998-f2dd-4c47-e7fa-712779fd621c",
        "trusted": true
      },
      "outputs": [
        {
          "output_type": "execute_result",
          "data": {
            "text/plain": [
              "tensor(0)"
            ]
          },
          "metadata": {},
          "execution_count": 56
        }
      ],
      "source": [
        "temporal_graph[0, :].sum()"
      ]
    },
    {
      "cell_type": "markdown",
      "metadata": {
        "id": "NeCUaMGtCCyu"
      },
      "source": [
        "We print information about the sparsity of the graphs, we note that\n",
        "the sparsity of the graphs is similar to that of the paper."
      ]
    },
    {
      "cell_type": "code",
      "execution_count": 57,
      "metadata": {
        "colab": {
          "base_uri": "https://localhost:8080/"
        },
        "execution": {
          "iopub.status.busy": "2024-05-12T17:24:05.960356Z",
          "iopub.status.idle": "2024-05-12T17:24:05.960817Z",
          "shell.execute_reply": "2024-05-12T17:24:05.960589Z",
          "shell.execute_reply.started": "2024-05-12T17:24:05.960570Z"
        },
        "id": "-xX2oUeoCCyu",
        "outputId": "0f9cc885-5fca-48a0-e61f-db0ec49c2f53",
        "trusted": true
      },
      "outputs": [
        {
          "output_type": "stream",
          "name": "stdout",
          "text": [
            "Temporal sparsity: 97.05%\n",
            "Spatial sparsity: 96.99%\n"
          ]
        }
      ],
      "source": [
        "temporal_density = (\n",
        "    temporal_graph.sum() / (temporal_graph.shape[0] * temporal_graph.shape[1])\n",
        ").item()\n",
        "spatial_density = (\n",
        "    spatial_graph.sum() / (spatial_graph.shape[0] * spatial_graph.shape[1])\n",
        ").item()\n",
        "\n",
        "print(f\"Temporal sparsity: {(1 - temporal_density) * 100:.2f}%\")\n",
        "\n",
        "print(f\"Spatial sparsity: {(1 - spatial_density) * 100:.2f}%\")"
      ]
    },
    {
      "cell_type": "markdown",
      "metadata": {
        "id": "6iiU7c42aItw"
      },
      "source": [
        "## Train Test Split\n",
        "\n",
        "We now generate two dataframes from the `encoded_data` dataframe, one for training and one for testing.\n",
        "\n",
        "First, we have to drop every sequence that has less than 4 timestamps, as we wouldn't be able to get the minimum of two samples for each of the sets,\n",
        "we then calculate the 80% of the sequences and split the data accordingly."
      ]
    },
    {
      "cell_type": "code",
      "execution_count": 58,
      "metadata": {
        "colab": {
          "base_uri": "https://localhost:8080/"
        },
        "id": "nNlKXjXbaItw",
        "outputId": "699d67f7-34e4-486e-b360-309a9c7c674c"
      },
      "outputs": [
        {
          "output_type": "execute_result",
          "data": {
            "text/plain": [
              "19862"
            ]
          },
          "metadata": {},
          "execution_count": 58
        }
      ],
      "source": [
        "len(encoded_data[\"pois\"])"
      ]
    },
    {
      "cell_type": "code",
      "execution_count": 59,
      "metadata": {
        "id": "_tyiaen0aItw"
      },
      "outputs": [],
      "source": [
        "total_data = rs.DataFrame(encoded_data)"
      ]
    },
    {
      "cell_type": "code",
      "execution_count": 60,
      "metadata": {
        "id": "K67_I3DwaItw"
      },
      "outputs": [],
      "source": [
        "total_data = total_data.with_columns(\n",
        "    [\n",
        "        rs.col(\"pois\").list.len().alias(\"length\"),\n",
        "    ]\n",
        ")"
      ]
    },
    {
      "cell_type": "code",
      "execution_count": 61,
      "metadata": {
        "id": "Vzaok7ZSaItw"
      },
      "outputs": [],
      "source": [
        "total_data = total_data.with_columns(\n",
        "    rs.col(\"length\")\n",
        "    .map_elements(lambda s: int(0.8 * s) - 1, rs.Int64)\n",
        "    .alias(\"train_end\")\n",
        ")"
      ]
    },
    {
      "cell_type": "code",
      "execution_count": 62,
      "metadata": {
        "colab": {
          "base_uri": "https://localhost:8080/"
        },
        "id": "hNmcZlX2aItw",
        "outputId": "f1bf07d3-2f85-4749-8145-c12885fd9525"
      },
      "outputs": [
        {
          "output_type": "stream",
          "name": "stdout",
          "text": [
            "12.629353233830846\n",
            "shape: (1, 9)\n",
            "┌───────┬───────┬───────┬───────┬───┬───────┬───────┬────────┬───────────┐\n",
            "│ users ┆ pois  ┆ g2    ┆ g3    ┆ … ┆ g5    ┆ g6    ┆ length ┆ train_end │\n",
            "│ ---   ┆ ---   ┆ ---   ┆ ---   ┆   ┆ ---   ┆ ---   ┆ ---    ┆ ---       │\n",
            "│ u32   ┆ u32   ┆ u32   ┆ u32   ┆   ┆ u32   ┆ u32   ┆ u32    ┆ u32       │\n",
            "╞═══════╪═══════╪═══════╪═══════╪═══╪═══════╪═══════╪════════╪═══════════╡\n",
            "│ 12060 ┆ 12060 ┆ 12060 ┆ 12060 ┆ … ┆ 12060 ┆ 12060 ┆ 12060  ┆ 12060     │\n",
            "└───────┴───────┴───────┴───────┴───┴───────┴───────┴────────┴───────────┘\n"
          ]
        }
      ],
      "source": [
        "# drop sequences that are too short\n",
        "total_data = total_data.filter(\n",
        "    (\n",
        "        rs.col(\"train_end\") >= 1\n",
        "    )  # at least 2 elements in the training set (1 is the index)\n",
        "    & (\n",
        "        rs.col(\"length\") - (rs.col(\"train_end\") + 1) >= 2\n",
        "    )  # at least 2 elements in the validation set\n",
        ")\n",
        "print(total_data[\"length\"].mean())\n",
        "print(total_data.count())"
      ]
    },
    {
      "cell_type": "code",
      "execution_count": 63,
      "metadata": {
        "colab": {
          "base_uri": "https://localhost:8080/",
          "height": 443
        },
        "id": "Mbl9-lbgaItx",
        "outputId": "56e2b1b7-014c-411a-f292-8dfdbfeaccc1"
      },
      "outputs": [
        {
          "output_type": "execute_result",
          "data": {
            "text/plain": [
              "shape: (12_060, 9)\n",
              "┌───────┬─────────────┬────────────┬────────────┬───┬────────────┬────────────┬────────┬───────────┐\n",
              "│ users ┆ pois        ┆ g2         ┆ g3         ┆ … ┆ g5         ┆ g6         ┆ length ┆ train_end │\n",
              "│ ---   ┆ ---         ┆ ---        ┆ ---        ┆   ┆ ---        ┆ ---        ┆ ---    ┆ ---       │\n",
              "│ i64   ┆ list[i64]   ┆ list[i64]  ┆ list[i64]  ┆   ┆ list[i64]  ┆ list[i64]  ┆ u32    ┆ i64       │\n",
              "╞═══════╪═════════════╪════════════╪════════════╪═══╪════════════╪════════════╪════════╪═══════════╡\n",
              "│ 3518  ┆ [3143,      ┆ [101, 101, ┆ [261, 261, ┆ … ┆ [1218,     ┆ [2475,     ┆ 6      ┆ 3         │\n",
              "│       ┆ 2681, …     ┆ … 101]     ┆ … 261]     ┆   ┆ 1221, …    ┆ 2487, …    ┆        ┆           │\n",
              "│       ┆ 3165]       ┆            ┆            ┆   ┆ 1214]      ┆ 2448]      ┆        ┆           │\n",
              "│ 13014 ┆ [618, 745,  ┆ [77, 77, … ┆ [205, 205, ┆ … ┆ [906, 905, ┆ [1919,     ┆ 6      ┆ 3         │\n",
              "│       ┆ … 745]      ┆ 77]        ┆ … 205]     ┆   ┆ … 905]     ┆ 1910, …    ┆        ┆           │\n",
              "│       ┆             ┆            ┆            ┆   ┆            ┆ 1910]      ┆        ┆           │\n",
              "│ 9035  ┆ [1395,      ┆ [86, 86, … ┆ [232, 232, ┆ … ┆ [1043,     ┆ [2130,     ┆ 6      ┆ 3         │\n",
              "│       ┆ 1395, …     ┆ 86]        ┆ … 232]     ┆   ┆ 1043, …    ┆ 2130, …    ┆        ┆           │\n",
              "│       ┆ 1395]       ┆            ┆            ┆   ┆ 1043]      ┆ 2130]      ┆        ┆           │\n",
              "│ 5174  ┆ [3249,      ┆ [92, 92, … ┆ [245, 245, ┆ … ┆ [1120,     ┆ [2255,     ┆ 6      ┆ 3         │\n",
              "│       ┆ 2072, …     ┆ 90]        ┆ … 239]     ┆   ┆ 1124, …    ┆ 2266, …    ┆        ┆           │\n",
              "│       ┆ 2398]       ┆            ┆            ┆   ┆ 1064]      ┆ 2156]      ┆        ┆           │\n",
              "│ 11509 ┆ [1849, 179, ┆ [31, 27, … ┆ [63, 51, … ┆ … ┆ [284, 244, ┆ [524, 450, ┆ 6      ┆ 3         │\n",
              "│       ┆ … 119]      ┆ 26]        ┆ 49]        ┆   ┆ … 237]     ┆ … 441]     ┆        ┆           │\n",
              "│ …     ┆ …           ┆ …          ┆ …          ┆ … ┆ …          ┆ …          ┆ …      ┆ …         │\n",
              "│ 18788 ┆ [1561,      ┆ [106, 106, ┆ [266, 266, ┆ … ┆ [1236,     ┆ [2517,     ┆ 44     ┆ 34        │\n",
              "│       ┆ 1561, …     ┆ … 109]     ┆ … 277]     ┆   ┆ 1236, …    ┆ 2517, …    ┆        ┆           │\n",
              "│       ┆ 1255]       ┆            ┆            ┆   ┆ 1344]      ┆ 2746]      ┆        ┆           │\n",
              "│ 9814  ┆ [1542,      ┆ [109, 109, ┆ [277, 277, ┆ … ┆ [1319,     ┆ [2671,     ┆ 44     ┆ 34        │\n",
              "│       ┆ 1542, …     ┆ … 109]     ┆ … 277]     ┆   ┆ 1319, …    ┆ 2671, …    ┆        ┆           │\n",
              "│       ┆ 793]        ┆            ┆            ┆   ┆ 1322]      ┆ 2685]      ┆        ┆           │\n",
              "│ 10822 ┆ [1280,      ┆ [68, 68, … ┆ [181, 181, ┆ … ┆ [807, 795, ┆ [1637,     ┆ 45     ┆ 35        │\n",
              "│       ┆ 3441, …     ┆ 68]        ┆ … 181]     ┆   ┆ … 802]     ┆ 1536, …    ┆        ┆           │\n",
              "│       ┆ 3915]       ┆            ┆            ┆   ┆            ┆ 1585]      ┆        ┆           │\n",
              "│ 16188 ┆ [599, 3122, ┆ [68, 68, … ┆ [181, 181, ┆ … ┆ [795, 806, ┆ [1537,     ┆ 46     ┆ 35        │\n",
              "│       ┆ … 1773]     ┆ 68]        ┆ … 181]     ┆   ┆ … 812]     ┆ 1614, …    ┆        ┆           │\n",
              "│       ┆             ┆            ┆            ┆   ┆            ┆ 1672]      ┆        ┆           │\n",
              "│ 7325  ┆ [3048,      ┆ [68, 68, … ┆ [181, 181, ┆ … ┆ [801, 801, ┆ [1569,     ┆ 46     ┆ 35        │\n",
              "│       ┆ 1266, …     ┆ 68]        ┆ … 181]     ┆   ┆ … 813]     ┆ 1573, …    ┆        ┆           │\n",
              "│       ┆ 1695]       ┆            ┆            ┆   ┆            ┆ 1682]      ┆        ┆           │\n",
              "└───────┴─────────────┴────────────┴────────────┴───┴────────────┴────────────┴────────┴───────────┘"
            ],
            "text/html": [
              "<div><style>\n",
              ".dataframe > thead > tr,\n",
              ".dataframe > tbody > tr {\n",
              "  text-align: right;\n",
              "  white-space: pre-wrap;\n",
              "}\n",
              "</style>\n",
              "<small>shape: (12_060, 9)</small><table border=\"1\" class=\"dataframe\"><thead><tr><th>users</th><th>pois</th><th>g2</th><th>g3</th><th>g4</th><th>g5</th><th>g6</th><th>length</th><th>train_end</th></tr><tr><td>i64</td><td>list[i64]</td><td>list[i64]</td><td>list[i64]</td><td>list[i64]</td><td>list[i64]</td><td>list[i64]</td><td>u32</td><td>i64</td></tr></thead><tbody><tr><td>3518</td><td>[3143, 2681, … 3165]</td><td>[101, 101, … 101]</td><td>[261, 261, … 261]</td><td>[502, 503, … 502]</td><td>[1218, 1221, … 1214]</td><td>[2475, 2487, … 2448]</td><td>6</td><td>3</td></tr><tr><td>13014</td><td>[618, 745, … 745]</td><td>[77, 77, … 77]</td><td>[205, 205, … 205]</td><td>[368, 368, … 368]</td><td>[906, 905, … 905]</td><td>[1919, 1910, … 1910]</td><td>6</td><td>3</td></tr><tr><td>9035</td><td>[1395, 1395, … 1395]</td><td>[86, 86, … 86]</td><td>[232, 232, … 232]</td><td>[439, 439, … 439]</td><td>[1043, 1043, … 1043]</td><td>[2130, 2130, … 2130]</td><td>6</td><td>3</td></tr><tr><td>5174</td><td>[3249, 2072, … 2398]</td><td>[92, 92, … 90]</td><td>[245, 245, … 239]</td><td>[469, 469, … 452]</td><td>[1120, 1124, … 1064]</td><td>[2255, 2266, … 2156]</td><td>6</td><td>3</td></tr><tr><td>11509</td><td>[1849, 179, … 119]</td><td>[31, 27, … 26]</td><td>[63, 51, … 49]</td><td>[111, 93, … 88]</td><td>[284, 244, … 237]</td><td>[524, 450, … 441]</td><td>6</td><td>3</td></tr><tr><td>&hellip;</td><td>&hellip;</td><td>&hellip;</td><td>&hellip;</td><td>&hellip;</td><td>&hellip;</td><td>&hellip;</td><td>&hellip;</td><td>&hellip;</td></tr><tr><td>18788</td><td>[1561, 1561, … 1255]</td><td>[106, 106, … 109]</td><td>[266, 266, … 277]</td><td>[509, 509, … 541]</td><td>[1236, 1236, … 1344]</td><td>[2517, 2517, … 2746]</td><td>44</td><td>34</td></tr><tr><td>9814</td><td>[1542, 1542, … 793]</td><td>[109, 109, … 109]</td><td>[277, 277, … 277]</td><td>[538, 538, … 538]</td><td>[1319, 1319, … 1322]</td><td>[2671, 2671, … 2685]</td><td>44</td><td>34</td></tr><tr><td>10822</td><td>[1280, 3441, … 3915]</td><td>[68, 68, … 68]</td><td>[181, 181, … 181]</td><td>[334, 332, … 334]</td><td>[807, 795, … 802]</td><td>[1637, 1536, … 1585]</td><td>45</td><td>35</td></tr><tr><td>16188</td><td>[599, 3122, … 1773]</td><td>[68, 68, … 68]</td><td>[181, 181, … 181]</td><td>[332, 334, … 334]</td><td>[795, 806, … 812]</td><td>[1537, 1614, … 1672]</td><td>46</td><td>35</td></tr><tr><td>7325</td><td>[3048, 1266, … 1695]</td><td>[68, 68, … 68]</td><td>[181, 181, … 181]</td><td>[334, 334, … 334]</td><td>[801, 801, … 813]</td><td>[1569, 1573, … 1682]</td><td>46</td><td>35</td></tr></tbody></table></div>"
            ]
          },
          "metadata": {},
          "execution_count": 63
        }
      ],
      "source": [
        "total_data.sort(\"length\")  # check out the distribution of sequence lengths"
      ]
    },
    {
      "cell_type": "code",
      "execution_count": 64,
      "metadata": {
        "colab": {
          "base_uri": "https://localhost:8080/",
          "height": 269
        },
        "id": "-fdFTxtRaItx",
        "outputId": "57e273b2-6db5-494f-b55f-d268983308a4"
      },
      "outputs": [
        {
          "output_type": "execute_result",
          "data": {
            "text/plain": [
              "shape: (6,)\n",
              "Series: '' [i64]\n",
              "[\n",
              "\t3143\n",
              "\t2681\n",
              "\t2681\n",
              "\t4054\n",
              "\t2681\n",
              "\t3165\n",
              "]"
            ],
            "text/html": [
              "<div><style>\n",
              ".dataframe > thead > tr,\n",
              ".dataframe > tbody > tr {\n",
              "  text-align: right;\n",
              "  white-space: pre-wrap;\n",
              "}\n",
              "</style>\n",
              "<small>shape: (6,)</small><table border=\"1\" class=\"dataframe\"><thead><tr><th></th></tr><tr><td>i64</td></tr></thead><tbody><tr><td>3143</td></tr><tr><td>2681</td></tr><tr><td>2681</td></tr><tr><td>4054</td></tr><tr><td>2681</td></tr><tr><td>3165</td></tr></tbody></table></div>"
            ]
          },
          "metadata": {},
          "execution_count": 64
        }
      ],
      "source": [
        "# Check if the shortest sequence is long enough\n",
        "total_data.sort(\"length\")[\"pois\"][0]"
      ]
    },
    {
      "cell_type": "code",
      "execution_count": 65,
      "metadata": {
        "id": "bjuQpQN2aItx"
      },
      "outputs": [],
      "source": [
        "# slice the two dataframes\n",
        "train_data = total_data.select(\n",
        "    [\n",
        "        rs.col(\"users\"),\n",
        "        rs.struct(\n",
        "            [\n",
        "                rs.col(\"pois\"),\n",
        "                rs.col(\"g2\"),\n",
        "                rs.col(\"g3\"),\n",
        "                rs.col(\"g4\"),\n",
        "                rs.col(\"g5\"),\n",
        "                rs.col(\"g6\"),\n",
        "                rs.col(\"train_end\"),\n",
        "            ]\n",
        "        )\n",
        "        .map_elements(\n",
        "            lambda struct: [\n",
        "                struct[\"pois\"][: struct[\"train_end\"]],\n",
        "                struct[\"g2\"][: struct[\"train_end\"]],\n",
        "                struct[\"g3\"][: struct[\"train_end\"]],\n",
        "                struct[\"g4\"][: struct[\"train_end\"]],\n",
        "                struct[\"g5\"][: struct[\"train_end\"]],\n",
        "                struct[\"g6\"][: struct[\"train_end\"]],\n",
        "            ],\n",
        "            return_dtype=rs.List(rs.List(rs.Int64)),\n",
        "        )\n",
        "        .alias(\"sequences\"),\n",
        "    ]\n",
        ")\n",
        "\n",
        "\n",
        "test_data = total_data.select(\n",
        "    [\n",
        "        rs.col(\"users\"),\n",
        "        rs.struct(\n",
        "            [\n",
        "                rs.col(\"pois\"),\n",
        "                rs.col(\"g2\"),\n",
        "                rs.col(\"g3\"),\n",
        "                rs.col(\"g4\"),\n",
        "                rs.col(\"g5\"),\n",
        "                rs.col(\"g6\"),\n",
        "                rs.col(\"train_end\"),\n",
        "            ]\n",
        "        )\n",
        "        .map_elements(\n",
        "            lambda struct: [\n",
        "                struct[\"pois\"][struct[\"train_end\"] :],\n",
        "                struct[\"g2\"][struct[\"train_end\"] :],\n",
        "                struct[\"g3\"][struct[\"train_end\"] :],\n",
        "                struct[\"g4\"][struct[\"train_end\"] :],\n",
        "                struct[\"g5\"][struct[\"train_end\"] :],\n",
        "                struct[\"g6\"][struct[\"train_end\"] :],\n",
        "            ],\n",
        "            return_dtype=rs.List(rs.List(rs.Int64)),\n",
        "        )\n",
        "        .alias(\"sequences\"),\n",
        "    ]\n",
        ")"
      ]
    },
    {
      "cell_type": "code",
      "execution_count": 66,
      "metadata": {
        "id": "zuqr6FDiaItx"
      },
      "outputs": [],
      "source": [
        "def explode_dict(d):\n",
        "    \"\"\"explode_dict Convert packed polars dataframe into a neat python dict\n",
        "\n",
        "    Parameters\n",
        "    ----------\n",
        "    d : Polars.DataFrame\n",
        "        A polars dataframe with a struct column\n",
        "\n",
        "    Returns\n",
        "    -------\n",
        "    dict\n",
        "        A python dict with the same structure as the struct column\n",
        "    \"\"\"\n",
        "    ret = {\n",
        "        \"users\": d[\"users\"].to_list(),\n",
        "        \"pois\": [],\n",
        "        \"g2\": [],\n",
        "        \"g3\": [],\n",
        "        \"g4\": [],\n",
        "        \"g5\": [],\n",
        "        \"g6\": [],\n",
        "    }\n",
        "\n",
        "    columns = [\"pois\", \"g2\", \"g3\", \"g4\", \"g5\", \"g6\"]\n",
        "\n",
        "    for sample in d[\"sequences\"]:\n",
        "        pois, g2, g3, g4, g5, g6 = sample\n",
        "        ret[\"pois\"].append(pois.to_list())\n",
        "        ret[\"g2\"].append(g2.to_list())\n",
        "        ret[\"g3\"].append(g3.to_list())\n",
        "        ret[\"g4\"].append(g4.to_list())\n",
        "        ret[\"g5\"].append(g5.to_list())\n",
        "        ret[\"g6\"].append(g6.to_list())\n",
        "\n",
        "    return ret"
      ]
    },
    {
      "cell_type": "code",
      "execution_count": 67,
      "metadata": {
        "id": "HJYSRKeJaItx"
      },
      "outputs": [],
      "source": [
        "encoded_data_train = explode_dict(train_data.to_dict())\n",
        "encoded_data_test = explode_dict(test_data.to_dict())"
      ]
    },
    {
      "cell_type": "markdown",
      "metadata": {
        "id": "-PEXknqyCCyu"
      },
      "source": [
        "## Metrics\n"
      ]
    },
    {
      "cell_type": "markdown",
      "metadata": {
        "id": "KxUt4jMGCCyu"
      },
      "source": [
        "The paper utilizes metrics that check if the target is in the top-k recommendations, we implement them here."
      ]
    },
    {
      "cell_type": "code",
      "execution_count": 76,
      "metadata": {
        "execution": {
          "iopub.status.busy": "2024-05-12T17:24:05.962191Z",
          "iopub.status.idle": "2024-05-12T17:24:05.962666Z",
          "shell.execute_reply": "2024-05-12T17:24:05.962456Z",
          "shell.execute_reply.started": "2024-05-12T17:24:05.962437Z"
        },
        "id": "4lW2sibnCCyv",
        "trusted": true
      },
      "outputs": [],
      "source": [
        "class AccuracyAtK(nn.Module):\n",
        "    def __init__(self, k: int):\n",
        "        \"\"\"__init__ initializes the AccuracyAtK module.\n",
        "\n",
        "        Accuracy@k is the proportion of correct predictions in the top-k elements.\n",
        "\n",
        "        Parameters\n",
        "        ----------\n",
        "        k : int\n",
        "            The number of top-k elements to consider.\n",
        "\n",
        "        \"\"\"\n",
        "        super().__init__()\n",
        "        self.k = k\n",
        "\n",
        "    def forward(self, logits: torch.Tensor, targets: torch.Tensor) -> torch.Tensor:\n",
        "        \"\"\"forward computes the accuracy at k between logits and targets.\n",
        "\n",
        "        Parameters\n",
        "        ----------\n",
        "        logits : torch.Tensor\n",
        "            Class probability, either (B, C) or (B, T, C)\n",
        "        targets : torch.Tensor\n",
        "            Ground truth class indices, either (B,) or (B, T)\n",
        "\n",
        "        Returns\n",
        "        -------\n",
        "        torch.Tensor\n",
        "            The accuracy at k, a scalar-tensor.\n",
        "        \"\"\"\n",
        "\n",
        "        # Gotta have at least one nasty python one-liner, in memory of the old\n",
        "        # programming lab 1 bachelor course\n",
        "        return (\n",
        "            (logits.topk(self.k, dim=-1)[1] == targets.unsqueeze(-1))\n",
        "            .any(dim=-1)\n",
        "            .float()\n",
        "            .mean()\n",
        "        )\n",
        "class AccuracyAt1(nn.Module):\n",
        "      def __init__(self):\n",
        "          super().__init__()\n",
        "\n",
        "      def forward(self, logits: torch.Tensor, targets: torch.Tensor) -> torch.Tensor:\n",
        "            predicted = logits.argmax(dim=-1)\n",
        "            correct = (predicted == targets).float()\n",
        "            accuracy = correct.mean()\n",
        "            return accuracy\n",
        "\n",
        "class MeanReciprocalRank(nn.Module):\n",
        "\n",
        "    def __init__(self):\n",
        "        \"\"\"__init__ initializes the MeanReciprocalRank module.\n",
        "\n",
        "        Mean reciprocal rank is the average of the reciprocal ranks of the top-k elements.\n",
        "\n",
        "        \"\"\"\n",
        "        super().__init__()\n",
        "\n",
        "    def forward(self, logits: torch.Tensor, targets: torch.Tensor) -> torch.Tensor:\n",
        "        \"\"\"forward computes the mean reciprocal rank between logits and targets.\n",
        "\n",
        "        Parameters\n",
        "        ----------\n",
        "        logits : torch.Tensor\n",
        "            Class probability\n",
        "        targets : torch.Tensor\n",
        "            Ground truth class indices\n",
        "\n",
        "        Returns\n",
        "        -------\n",
        "        torch.Tensor\n",
        "            The mean reciprocal rank, a scalar-tensor.\n",
        "        \"\"\"\n",
        "\n",
        "        _, indices = logits.topk(logits.shape[-1], dim=-1)\n",
        "        ranks = (indices == targets.unsqueeze(-1)).nonzero()[:, -1].float() + 1\n",
        "        return (1.0 / ranks).mean()"
      ]
    },
    {
      "cell_type": "markdown",
      "metadata": {
        "id": "y5gC9yrsCCyv"
      },
      "source": [
        "## Dataset and Datamodule\n",
        "\n",
        "We then define a pytorch dataset and a custom collation function that allows us to dynamically\n",
        "pad sequences to the longest one in the batch (as opposed to the longest one in the dataset)\n",
        "as they are loaded during training, this gives us an edge in performance by dramatically reducing the\n",
        "sparsity of our inputs."
      ]
    },
    {
      "cell_type": "code",
      "execution_count": 77,
      "metadata": {
        "execution": {
          "iopub.status.busy": "2024-05-12T17:24:05.963957Z",
          "iopub.status.idle": "2024-05-12T17:24:05.964417Z",
          "shell.execute_reply": "2024-05-12T17:24:05.964187Z",
          "shell.execute_reply.started": "2024-05-12T17:24:05.964169Z"
        },
        "id": "J0Q9II4HCCyv",
        "trusted": true
      },
      "outputs": [],
      "source": [
        "from torch.utils.data import Dataset\n",
        "from torch.nn.utils.rnn import pad_sequence\n",
        "\n",
        "\n",
        "def rnn_collation_fn(batch):\n",
        "\n",
        "    users = []\n",
        "    pois = []\n",
        "    g2 = []\n",
        "    g3 = []\n",
        "    g4 = []\n",
        "    g5 = []\n",
        "    g6 = []\n",
        "\n",
        "    for user, poi, geo2, geo3, geo4, geo5, geo6 in batch:\n",
        "        users.append(user)\n",
        "        pois.append(poi)\n",
        "        g2.append(geo2)\n",
        "        g3.append(geo3)\n",
        "        g4.append(geo4)\n",
        "        g5.append(geo5)\n",
        "        g6.append(geo6)\n",
        "    seq = (\n",
        "        torch.tensor(users, dtype=torch.long),\n",
        "        pad_sequence(pois, batch_first=True, padding_value=0),\n",
        "        pad_sequence(g2, batch_first=True, padding_value=0),\n",
        "        pad_sequence(g3, batch_first=True, padding_value=0),\n",
        "        pad_sequence(g4, batch_first=True, padding_value=0),\n",
        "        pad_sequence(g5, batch_first=True, padding_value=0),\n",
        "        pad_sequence(g6, batch_first=True, padding_value=0),\n",
        "    )  # build a sequence\n",
        "\n",
        "    x = (\n",
        "        seq[0],\n",
        "        seq[1][:, :-1],\n",
        "        seq[2][:, :-1],\n",
        "        seq[3][:, :-1],\n",
        "        seq[4][:, :-1],\n",
        "        seq[5][:, :-1],\n",
        "        seq[6][:, :-1],\n",
        "    )  # omit the last one for sample\n",
        "\n",
        "    y = (\n",
        "        seq[0],\n",
        "        seq[1][:, 1:],\n",
        "        seq[2][:, 1:],\n",
        "        seq[3][:, 1:],\n",
        "        seq[4][:, 1:],\n",
        "        seq[5][:, 1:],\n",
        "        seq[6][:, 1:],\n",
        "    )  # omit the first one for ground truth\n",
        "\n",
        "    return x, y\n",
        "\n",
        "\n",
        "class CheckinDataset(Dataset):\n",
        "    def __init__(self, data):\n",
        "        self.data = data\n",
        "\n",
        "    def __len__(self):\n",
        "        return len(self.data[\"users\"])\n",
        "\n",
        "    def __getitem__(self, idx):\n",
        "\n",
        "        x = (\n",
        "            torch.tensor(encoded_data[\"users\"][idx], dtype=torch.long),\n",
        "            torch.tensor(encoded_data[\"pois\"][idx], dtype=torch.long),\n",
        "            torch.tensor(encoded_data[\"g2\"][idx], dtype=torch.long),\n",
        "            torch.tensor(encoded_data[\"g3\"][idx], dtype=torch.long),\n",
        "            torch.tensor(encoded_data[\"g4\"][idx], dtype=torch.long),\n",
        "            torch.tensor(encoded_data[\"g5\"][idx], dtype=torch.long),\n",
        "            torch.tensor(encoded_data[\"g6\"][idx], dtype=torch.long),\n",
        "        )\n",
        "\n",
        "        return x"
      ]
    },
    {
      "cell_type": "code",
      "execution_count": 78,
      "metadata": {
        "execution": {
          "iopub.status.busy": "2024-05-12T17:24:05.966199Z",
          "iopub.status.idle": "2024-05-12T17:24:05.966662Z",
          "shell.execute_reply": "2024-05-12T17:24:05.966453Z",
          "shell.execute_reply.started": "2024-05-12T17:24:05.966434Z"
        },
        "id": "ncOgD2VxCCyv",
        "trusted": true
      },
      "outputs": [],
      "source": [
        "class CheckinModule(pl.LightningDataModule):\n",
        "    def __init__(self, encoded_data_train, encoded_data_test, batch_size=32, workers=4):\n",
        "        \"\"\"__init__ initializes the CheckinModule.\n",
        "\n",
        "        Parameters\n",
        "        ----------\n",
        "        encoded_data_train : Union[dict, rs.DataFrame]\n",
        "            The training data.\n",
        "        encoded_data_test : Union[dict, rs.DataFrame]\n",
        "            The testing data.\n",
        "        batch_size : int, optional\n",
        "            Size of the batches, by default 32\n",
        "        workers : int, optional\n",
        "            Number of worker processes, by default 4\n",
        "        \"\"\"\n",
        "        super().__init__()\n",
        "        self.encoded_data_train = encoded_data_train\n",
        "        self.encoded_data_test = encoded_data_test\n",
        "        self.batch_size = batch_size\n",
        "        self.workers = workers\n",
        "\n",
        "        assert isinstance(self.encoded_data_train, dict) or isinstance(\n",
        "            self.encoded_data_train, rs.DataFrame\n",
        "        ), \"encoded_data_train must be a dict or a polars DataFrame\"\n",
        "        assert isinstance(self.encoded_data_test, dict) or isinstance(\n",
        "            self.encoded_data_test, rs.DataFrame\n",
        "        ), \"encoded_data_test must be a dict or a polars DataFrame\"\n",
        "\n",
        "        assert batch_size > 0, \"batch_size must be a positive integer\"\n",
        "        assert workers >= 0, \"workers must be a non-negative integer\"\n",
        "\n",
        "    def setup(self, stage=None):\n",
        "\n",
        "        if (\n",
        "            isinstance(self.encoded_data_train, dict)\n",
        "            or isinstance(self.encoded_data_train, rs.DataFrame)\n",
        "        ) and (\n",
        "            isinstance(self.encoded_data_test, dict)\n",
        "            or isinstance(self.encoded_data_test, rs.DataFrame)\n",
        "        ):\n",
        "            print(\"Loading data from dict/dataframe\")\n",
        "            self.train_dataset = CheckinDataset(self.encoded_data_train)\n",
        "            self.test_dataset = CheckinDataset(self.encoded_data_test)\n",
        "            print(len(self.encoded_data_train[\"users\"]))\n",
        "        elif isinstance(self.encoded_data_train, CheckinDataset) and isinstance(\n",
        "            self.encoded_data_test, CheckinDataset\n",
        "        ):\n",
        "            print(\"Loading data from pre-instantiated datasets\")\n",
        "            self.train_dataset = self.encoded_data_train\n",
        "            self.test_dataset = self.encoded_data_test\n",
        "        else:\n",
        "            raise ValueError(\"Invalid data type\")\n",
        "\n",
        "    def train_dataloader(self):\n",
        "        return torch.utils.data.DataLoader(\n",
        "            self.train_dataset,\n",
        "            batch_size=self.batch_size,\n",
        "            shuffle=True,\n",
        "            num_workers=self.workers,\n",
        "            collate_fn=rnn_collation_fn,\n",
        "        )\n",
        "\n",
        "    def val_dataloader(self):\n",
        "        return torch.utils.data.DataLoader(\n",
        "            self.test_dataset,\n",
        "            batch_size=self.batch_size,\n",
        "            shuffle=False,\n",
        "            num_workers=self.workers,\n",
        "            collate_fn=rnn_collation_fn,\n",
        "        )\n",
        "\n",
        "    def test_dataloader(self):\n",
        "        return torch.utils.data.DataLoader(\n",
        "            self.test_dataset,\n",
        "            batch_size=self.batch_size,\n",
        "            shuffle=False,\n",
        "            num_workers=self.workers,\n",
        "            collate_fn=rnn_collation_fn,\n",
        "        )\n",
        "\n",
        "    def save(self, whole_path, train_path, test_path):\n",
        "\n",
        "        torch.save(self.train_dataset, train_path)\n",
        "        torch.save(self.test_dataset, test_path)\n",
        "\n",
        "    @staticmethod  # load without instantiating\n",
        "    def load(train_path, test_path):\n",
        "\n",
        "        train_dataset = torch.load(train_path)\n",
        "        test_dataset = torch.load(test_path)\n",
        "\n",
        "        return CheckinModule(train_dataset, test_dataset)"
      ]
    },
    {
      "cell_type": "markdown",
      "metadata": {
        "id": "G_STfUGVCCyv"
      },
      "source": [
        "## Baseline model: LSTM"
      ]
    },
    {
      "cell_type": "code",
      "execution_count": 84,
      "metadata": {
        "execution": {
          "iopub.status.busy": "2024-05-12T17:24:05.967942Z",
          "iopub.status.idle": "2024-05-12T17:24:05.968403Z",
          "shell.execute_reply": "2024-05-12T17:24:05.968172Z",
          "shell.execute_reply.started": "2024-05-12T17:24:05.968154Z"
        },
        "id": "RcjMtxnFCCyv",
        "trusted": true
      },
      "outputs": [],
      "source": [
        "@dataclass\n",
        "class BaselineDimensions:\n",
        "    nuser: int\n",
        "    npoi: int\n",
        "    g2len: int\n",
        "    g3len: int\n",
        "    g4len: int\n",
        "    g5len: int\n",
        "    g6len: int\n",
        "\n",
        "\n",
        "# HMT_RN (Hierarchical Multi-Task Recurrent Network)\n",
        "class HMT_RN(pl.LightningModule):\n",
        "    def __init__(\n",
        "        self,\n",
        "        dimensions: BaselineDimensions,\n",
        "        embedding_dim,\n",
        "        lstm_hidden_dim,\n",
        "        dropout_rate=0.9,  # 0.9 is a lot, but the paper says so.\n",
        "    ):\n",
        "        super(HMT_RN, self).__init__()\n",
        "        self.embedding_dim = embedding_dim\n",
        "        self.hidden_dim = lstm_hidden_dim\n",
        "        self.dims = dimensions\n",
        "\n",
        "        # Embedding layers one for user, one for poi and one for each G@P\n",
        "        self.user_embedding = nn.Embedding(\n",
        "            dimensions.nuser, embedding_dim, padding_idx=0\n",
        "        )\n",
        "        self.poi_embedding = nn.Embedding(dimensions.npoi, embedding_dim, padding_idx=0)\n",
        "        self.g2_embed = nn.Embedding(dimensions.g2len, embedding_dim, padding_idx=0)\n",
        "        self.g3_embed = nn.Embedding(dimensions.g3len, embedding_dim, padding_idx=0)\n",
        "        self.g4_embed = nn.Embedding(dimensions.g4len, embedding_dim, padding_idx=0)\n",
        "        self.g5_embed = nn.Embedding(dimensions.g5len, embedding_dim, padding_idx=0)\n",
        "        self.g6_embed = nn.Embedding(dimensions.g6len, embedding_dim, padding_idx=0)\n",
        "\n",
        "        # Dropout layer for embeddings\n",
        "        self.e_drop = nn.Dropout(p=dropout_rate)\n",
        "\n",
        "        # LSTM layer\n",
        "        self.lstm = nn.LSTM(\n",
        "            input_size=embedding_dim, hidden_size=lstm_hidden_dim, batch_first=True\n",
        "        )\n",
        "\n",
        "        # Linear layers for prediction tasks\n",
        "        self.linear_poi = nn.Linear(lstm_hidden_dim + embedding_dim, dimensions.npoi)\n",
        "        self.linear_g2 = nn.Linear(lstm_hidden_dim + embedding_dim, dimensions.g2len)\n",
        "        self.linear_g3 = nn.Linear(lstm_hidden_dim + embedding_dim, dimensions.g3len)\n",
        "        self.linear_g4 = nn.Linear(lstm_hidden_dim + embedding_dim, dimensions.g4len)\n",
        "        self.linear_g5 = nn.Linear(lstm_hidden_dim + embedding_dim, dimensions.g5len)\n",
        "        self.linear_g6 = nn.Linear(lstm_hidden_dim + embedding_dim, dimensions.g6len)\n",
        "\n",
        "        self.criterion = nn.CrossEntropyLoss()\n",
        "\n",
        "        self.top1_argmax = AccuracyAt1()\n",
        "        self.top1 = AccuracyAtK(1)\n",
        "        self.top5 = AccuracyAtK(5)\n",
        "        self.top10 = AccuracyAtK(10)\n",
        "        self.top20 = AccuracyAtK(20)\n",
        "        self.mrr = MeanReciprocalRank()\n",
        "\n",
        "        self.apply(self.init_weights)\n",
        "\n",
        "    def init_weights(self, w):\n",
        "\n",
        "        if type(w) == nn.Linear:\n",
        "            nn.init.kaiming_normal_(w.weight)\n",
        "            nn.init.constant_(w.bias, 0)\n",
        "        elif type(w) == nn.LSTM:\n",
        "            for name, param in w.named_parameters():\n",
        "                if \"bias\" in name:\n",
        "                    nn.init.constant_(param, 0)\n",
        "                elif \"weight\" in name:\n",
        "                    nn.init.kaiming_normal_(param)\n",
        "        elif type(w) == nn.Embedding:\n",
        "            nn.init.kaiming_normal_(w.weight)\n",
        "            nn.init.constant_(w.weight[0], 0)\n",
        "\n",
        "    def forward(self, batch):\n",
        "        \"\"\"forward passes the batch through the model.\n",
        "\n",
        "        Parameters\n",
        "        ----------\n",
        "        batch : `tuple[torch.Tensor]`\n",
        "            A tuple of tensors ordered as follows:\n",
        "            (users, poi, x_geoHash2, x_geoHash3, x_geoHash4, x_geoHash5, x_geoHash6)\n",
        "        \"\"\"\n",
        "\n",
        "        users, poi, x_geoHash2, x_geoHash3, x_geoHash4, x_geoHash5, x_geoHash6 = batch\n",
        "\n",
        "        B, T = poi.shape\n",
        "\n",
        "        # make it so  that users are tiled T times\n",
        "        users = users.repeat(T, 1).T\n",
        "\n",
        "        e_user = self.e_drop(self.user_embedding(users))\n",
        "        e_poi = self.e_drop(self.poi_embedding(poi))\n",
        "        e_gap2 = self.e_drop(self.g2_embed(x_geoHash2))\n",
        "        e_gap3 = self.e_drop(self.g3_embed(x_geoHash3))\n",
        "        e_gap4 = self.e_drop(self.g4_embed(x_geoHash4))\n",
        "        e_gap5 = self.e_drop(self.g5_embed(x_geoHash5))\n",
        "        e_gap6 = self.e_drop(self.g6_embed(x_geoHash6))\n",
        "\n",
        "        h_t, c_t = self.lstm(e_poi)\n",
        "\n",
        "        # dense layers\n",
        "        next_poi = self.linear_poi(torch.cat((h_t, e_user), dim=2))\n",
        "        next_g2 = self.linear_g2(torch.cat((h_t, e_gap2), dim=2))\n",
        "        next_g3 = self.linear_g3(torch.cat((h_t, e_gap3), dim=2))\n",
        "        next_g4 = self.linear_g4(torch.cat((h_t, e_gap4), dim=2))\n",
        "        next_g5 = self.linear_g5(torch.cat((h_t, e_gap5), dim=2))\n",
        "        next_g6 = self.linear_g6(torch.cat((h_t, e_gap6), dim=2))\n",
        "\n",
        "        return next_poi, next_g2, next_g3, next_g4, next_g5, next_g6\n",
        "\n",
        "    def training_step(self, batch, batch_idx):\n",
        "        x, y = batch\n",
        "        (\n",
        "            poi_pred,\n",
        "            gap2_pred,\n",
        "            gap3_pred,\n",
        "            gap4_pred,\n",
        "            gap5_pred,\n",
        "            gap6_pred,\n",
        "        ) = self(x)\n",
        "\n",
        "        loss_poi = self.criterion(\n",
        "            poi_pred.reshape(-1, self.dims.npoi), y[1].reshape(-1)\n",
        "        )\n",
        "        loss_gap2 = self.criterion(\n",
        "            gap2_pred.reshape(-1, self.dims.g2len), y[2].reshape(-1)\n",
        "        )\n",
        "        loss_gap3 = self.criterion(\n",
        "            gap3_pred.reshape(-1, self.dims.g3len), y[3].reshape(-1)\n",
        "        )\n",
        "        loss_gap4 = self.criterion(\n",
        "            gap4_pred.reshape(-1, self.dims.g4len), y[4].reshape(-1)\n",
        "        )\n",
        "        loss_gap5 = self.criterion(\n",
        "            gap5_pred.reshape(-1, self.dims.g5len), y[5].reshape(-1)\n",
        "        )\n",
        "        loss_gap6 = self.criterion(\n",
        "            gap6_pred.reshape(-1, self.dims.g6len), y[6].reshape(-1)\n",
        "        )\n",
        "\n",
        "        loss = (\n",
        "            loss_poi + loss_gap2 + loss_gap3 + loss_gap4 + loss_gap5 + loss_gap6\n",
        "        ) / 6\n",
        "        self.log(\"train/loss\", loss)\n",
        "        self.log(\"train/loss_gap2\", loss_gap2)\n",
        "        self.log(\"train/loss_gap3\", loss_gap3)\n",
        "        self.log(\"train/loss_gap4\", loss_gap4)\n",
        "        self.log(\"train/loss_gap5\", loss_gap5)\n",
        "        self.log(\"train/loss_gap6\", loss_gap6)\n",
        "        self.log(\"train/loss_poi\", loss_poi)\n",
        "\n",
        "        return {\"loss\": loss}\n",
        "\n",
        "    def validation_step(self, batch, batch_idx):\n",
        "        x, y = batch\n",
        "        (\n",
        "            poi_pred,\n",
        "            gap2_pred,\n",
        "            gap3_pred,\n",
        "            gap4_pred,\n",
        "            gap5_pred,\n",
        "            gap6_pred,\n",
        "        ) = self(x)\n",
        "\n",
        "        loss_poi = self.criterion(\n",
        "            poi_pred.reshape(-1, self.dims.npoi), y[1].reshape(-1)\n",
        "        )\n",
        "        loss_gap2 = self.criterion(\n",
        "            gap2_pred.reshape(-1, self.dims.g2len), y[2].reshape(-1)\n",
        "        )\n",
        "        loss_gap3 = self.criterion(\n",
        "            gap3_pred.reshape(-1, self.dims.g3len), y[3].reshape(-1)\n",
        "        )\n",
        "        loss_gap4 = self.criterion(\n",
        "            gap4_pred.reshape(-1, self.dims.g4len), y[4].reshape(-1)\n",
        "        )\n",
        "        loss_gap5 = self.criterion(\n",
        "            gap5_pred.reshape(-1, self.dims.g5len), y[5].reshape(-1)\n",
        "        )\n",
        "        loss_gap6 = self.criterion(\n",
        "            gap6_pred.reshape(-1, self.dims.g6len), y[6].reshape(-1)\n",
        "        )\n",
        "\n",
        "        loss = (\n",
        "            loss_poi + loss_gap2 + loss_gap3 + loss_gap4 + loss_gap5 + loss_gap6\n",
        "        ) / 6\n",
        "\n",
        "        top1_argmax=self.top1_argmax(poi_pred,y[1])\n",
        "        top1_acc = self.top1(poi_pred,y[1])\n",
        "        top5_acc = self.top5(poi_pred, y[1])\n",
        "        top10_acc = self.top10(poi_pred, y[1])\n",
        "        top20_acc = self.top20(poi_pred, y[1])\n",
        "        mrr = self.mrr(poi_pred, y[1])\n",
        "\n",
        "        self.log(\"val/loss\", loss)\n",
        "        self.log(\"val/loss_gap2\", loss_gap2)\n",
        "        self.log(\"val/loss_gap3\", loss_gap3)\n",
        "        self.log(\"val/loss_gap4\", loss_gap4)\n",
        "        self.log(\"val/loss_gap5\", loss_gap5)\n",
        "        self.log(\"val/loss_gap6\", loss_gap6)\n",
        "        self.log(\"val/loss_poi\", loss_poi)\n",
        "\n",
        "        # log \"leaderboard\" metrics\n",
        "        self.log(\"val/top1_argmax\", top1_argmax)\n",
        "        self.log(\"val/top1\", top1_acc)\n",
        "        self.log(\"val/top5\", top5_acc)\n",
        "        self.log(\"val/top10\", top10_acc)\n",
        "        self.log(\"val/top20\", top20_acc)\n",
        "        self.log(\"val/mrr\", mrr)\n",
        "\n",
        "        return loss\n",
        "\n",
        "    def test_step(self, batch, batch_idx):\n",
        "        x, y = batch\n",
        "        (\n",
        "            poi_pred,\n",
        "            gap2_pred,\n",
        "            gap3_pred,\n",
        "            gap4_pred,\n",
        "            gap5_pred,\n",
        "            gap6_pred,\n",
        "        ) = self(x)\n",
        "\n",
        "        loss_poi = self.criterion(\n",
        "            poi_pred.reshape(-1, self.dims.npoi), y[1].reshape(-1)\n",
        "        )\n",
        "        loss_gap2 = self.criterion(\n",
        "            gap2_pred.reshape(-1, self.dims.g2len), y[2].reshape(-1)\n",
        "        )\n",
        "        loss_gap3 = self.criterion(\n",
        "            gap3_pred.reshape(-1, self.dims.g3len), y[3].reshape(-1)\n",
        "        )\n",
        "        loss_gap4 = self.criterion(\n",
        "            gap4_pred.reshape(-1, self.dims.g4len), y[4].reshape(-1)\n",
        "        )\n",
        "        loss_gap5 = self.criterion(\n",
        "            gap5_pred.reshape(-1, self.dims.g5len), y[5].reshape(-1)\n",
        "        )\n",
        "        loss_gap6 = self.criterion(\n",
        "            gap6_pred.reshape(-1, self.dims.g6len), y[6].reshape(-1)\n",
        "        )\n",
        "\n",
        "        loss = (\n",
        "            loss_poi + loss_gap2 + loss_gap3 + loss_gap4 + loss_gap5 + loss_gap6\n",
        "        ) / 6\n",
        "\n",
        "        self.log(\"test/loss\", loss)\n",
        "        self.log(\"test/loss_gap2\", loss_gap2)\n",
        "        self.log(\"test/loss_gap3\", loss_gap3)\n",
        "        self.log(\"test/loss_gap4\", loss_gap4)\n",
        "        self.log(\"test/loss_gap5\", loss_gap5)\n",
        "        self.log(\"test/loss_gap6\", loss_gap6)\n",
        "        self.log(\"test/loss_poi\", loss_poi)\n",
        "\n",
        "        top1_acc = self.top1(poi_pred.reshape(-1, self.dims.npoi), y[1].reshape(-1))\n",
        "        top5_acc = self.top5(poi_pred.reshape(-1, self.dims.npoi), y[1].reshape(-1))\n",
        "        top10_acc = self.top10(poi_pred.reshape(-1, self.dims.npoi), y[1].reshape(-1))\n",
        "        top20_acc = self.top20(poi_pred.reshape(-1, self.dims.npoi), y[1].reshape(-1))\n",
        "        mrr = self.mrr(poi_pred.reshape(-1, self.dims.npoi), y[1].reshape(-1))\n",
        "\n",
        "        # log \"leaderboard\" metrics\n",
        "        self.log(\"test/top1\", top1_acc)\n",
        "        self.log(\"test/top5\", top5_acc)\n",
        "        self.log(\"test/top10\", top10_acc)\n",
        "        self.log(\"test/top20\", top20_acc)\n",
        "        self.log(\"test/mrr\", mrr)\n",
        "\n",
        "        return {\"loss\": loss}\n",
        "\n",
        "    def configure_optimizers(self):\n",
        "        # Define optimizer and scheduler\n",
        "        optimizer = torch.optim.AdamW(self.parameters(), lr=1e-4, amsgrad=True)\n",
        "        return optimizer"
      ]
    },
    {
      "cell_type": "markdown",
      "metadata": {
        "id": "aEkguqKVCCyv"
      },
      "source": [
        "## Graph Neural Network"
      ]
    },
    {
      "cell_type": "code",
      "execution_count": 85,
      "metadata": {
        "execution": {
          "iopub.status.busy": "2024-05-12T17:24:05.970176Z",
          "iopub.status.idle": "2024-05-12T17:24:05.970671Z",
          "shell.execute_reply": "2024-05-12T17:24:05.970447Z",
          "shell.execute_reply.started": "2024-05-12T17:24:05.970427Z"
        },
        "id": "BbiQDx04CCyv",
        "trusted": true
      },
      "outputs": [],
      "source": [
        "# GNN Components\n",
        "\n",
        "\n",
        "class attn_LSTM(pl.LightningModule):\n",
        "\n",
        "    def __init__(self, embedding_dim, hidden_dim):\n",
        "        super(attn_LSTM, self).__init__()\n",
        "        self.embedding_dim = embedding_dim\n",
        "        self.hidden_dim = hidden_dim\n",
        "        self.W = nn.Linear(embedding_dim, 4 * hidden_dim)\n",
        "        self.U = nn.Linear(hidden_dim, 4 * hidden_dim)\n",
        "\n",
        "        self.s_W = nn.Linear(embedding_dim, 4 * hidden_dim)\n",
        "        self.t_W = nn.Linear(embedding_dim, 4 * hidden_dim)\n",
        "\n",
        "    def forward(self, x, hidden, spatial, temporal, numTimeSteps):\n",
        "        h_t, c_t = hidden\n",
        "\n",
        "        previous_h_t = h_t\n",
        "        previous_c_t = c_t\n",
        "\n",
        "        allGates_preact = (\n",
        "            self.W(x) + self.U(previous_h_t) + self.s_W(spatial) + self.t_W(temporal)\n",
        "        )\n",
        "\n",
        "        input_g = allGates_preact[:, :, : self.hidden_dim].sigmoid()\n",
        "        forget_g = allGates_preact[\n",
        "            :, :, self.hidden_dim : 2 * self.hidden_dim\n",
        "        ].sigmoid()\n",
        "        output_g = allGates_preact[\n",
        "            :, :, 2 * self.hidden_dim : 3 * self.hidden_dim\n",
        "        ].sigmoid()\n",
        "        c_t_g = allGates_preact[:, :, 3 * self.hidden_dim :].tanh()\n",
        "\n",
        "        c_t = forget_g * previous_c_t + input_g * c_t_g\n",
        "        h_t = output_g * c_t.tanh()\n",
        "\n",
        "        batchSize = x.shape[0]\n",
        "        h_t = h_t.view(batchSize, numTimeSteps, self.hidden_dim)\n",
        "        c_t = c_t.view(batchSize, numTimeSteps, self.hidden_dim)\n",
        "\n",
        "        return h_t, c_t\n",
        "\n",
        "\n",
        "def get_neighbours(adj_matrix, poi):\n",
        "    neigh_indices_list = []\n",
        "    max_length = 0\n",
        "\n",
        "    for batch_poi in poi:\n",
        "        batch_indices = []\n",
        "        for single_poi in batch_poi:\n",
        "            poi_row = adj_matrix[single_poi]\n",
        "            neigh_indices = torch.where(poi_row == 1)[0]\n",
        "            batch_indices.append(neigh_indices)\n",
        "            max_length = max(max_length, len(neigh_indices))\n",
        "\n",
        "        neigh_indices_list.append(batch_indices)\n",
        "\n",
        "    padded_neigh_indices_list = []\n",
        "    for batch_indices in neigh_indices_list:\n",
        "        padded_batch_indices = pad_sequence(\n",
        "            batch_indices, batch_first=True, padding_value=0\n",
        "        )\n",
        "        padded_neigh_indices_list.append(padded_batch_indices)\n",
        "\n",
        "    padded_tensor = torch.stack(padded_neigh_indices_list)\n",
        "\n",
        "    return padded_tensor\n",
        "\n",
        "\n",
        "class GRNSelfAttention(torch.nn.Module):\n",
        "\n",
        "    def __init__(self, hidden_dim, n_heads):\n",
        "\n",
        "        super(GRNSelfAttention, self).__init__()\n",
        "\n",
        "        self.hidden_dim = hidden_dim\n",
        "        self.n_heads = n_heads\n",
        "\n",
        "        self.Wp = nn.Linear(hidden_dim, hidden_dim)  # embeddings to pre-concat\n",
        "        self.Wa = nn.Linear(2 * hidden_dim, hidden_dim)  # concatenation to pre-softmax\n",
        "\n",
        "        # total size = 3 * (hidden_dim) ** 2, quadratic in embedding size\n",
        "\n",
        "    def forward(self, poi, neighbors):\n",
        "        \"\"\"forward\n",
        "\n",
        "        Parameters\n",
        "        ----------\n",
        "        poi: torch.Tensor\n",
        "            A batched tensor of embedded POI vectors, (B x H) where H is the\n",
        "            embedding dimension\n",
        "        neighbors: torch.Tensor\n",
        "            A batched tensor of sequences of embedded POI vectors that are extracted\n",
        "            from an adjacency matrix (temporal or spatial neighbors of POI),\n",
        "            (B x N x H), where N is the number of neighbours of POI, B is the\n",
        "            batch size, H is the embedding dimension, and must be the same as POI\n",
        "\n",
        "        Returns\n",
        "        -------\n",
        "        tuple[torch.Tensor, torch.Tensor]\n",
        "          A tuple containing the self-attention weighted hadamard product of neighbour activations\n",
        "          in the first index, the attention weights in the second index.\n",
        "        \"\"\"\n",
        "        # assert len(poi.shape) == 2, f\"POI tensor must be 2D, got {poi.shape} instead\"\n",
        "        assert (\n",
        "            len(neighbors.shape) == 3\n",
        "        ), f\"Neighbour tensor must be 3D, got {neighbors.shape} instead\"\n",
        "\n",
        "        B, N, H = neighbors.shape\n",
        "\n",
        "        h_poi = self.Wp(poi)\n",
        "        h_n = self.Wp(neighbors)\n",
        "        h_cat = torch.cat([h_poi.expand(B, N, -1), h_n], dim=2)\n",
        "        h_att = F.leaky_relu(self.Wa(h_cat))\n",
        "\n",
        "        alpha = torch.nn.functional.softmax(h_att, dim=1)\n",
        "\n",
        "        p = torch.sum(alpha * h_n, dim=1)\n",
        "        return p, alpha"
      ]
    },
    {
      "cell_type": "code",
      "execution_count": 94,
      "metadata": {
        "execution": {
          "iopub.status.busy": "2024-05-12T17:24:05.972508Z",
          "iopub.status.idle": "2024-05-12T17:24:05.972959Z",
          "shell.execute_reply": "2024-05-12T17:24:05.972741Z",
          "shell.execute_reply.started": "2024-05-12T17:24:05.972722Z"
        },
        "id": "lpnLqpOSCCyv",
        "trusted": true
      },
      "outputs": [],
      "source": [
        "# GRN (Graph Recurrent Network)\n",
        "class GRN(pl.LightningModule):\n",
        "\n",
        "    def __init__(\n",
        "        self,\n",
        "        dims: BaselineDimensions,\n",
        "        spatial_graph,\n",
        "        temporal_graph,\n",
        "        hidden_dim,\n",
        "        n_heads,\n",
        "        dropout_rate=0.9,\n",
        "        device=\"cpu\",\n",
        "    ):\n",
        "        super(GRN, self).__init__()\n",
        "        self.hidden_dim = hidden_dim\n",
        "        self.n_heads = n_heads\n",
        "        self.dims = dims\n",
        "\n",
        "        self.spatial_graph = spatial_graph.to(device)\n",
        "        self.temporal_graph = temporal_graph.to(device)\n",
        "\n",
        "        self.spatial_attn = GRNSelfAttention(hidden_dim, n_heads)\n",
        "        self.temporal_attn = GRNSelfAttention(hidden_dim, n_heads)\n",
        "\n",
        "        self.lstm = attn_LSTM(hidden_dim, hidden_dim)\n",
        "\n",
        "        self.dropout = nn.Dropout(dropout_rate)\n",
        "\n",
        "        self.user_embedding = nn.Embedding(dims.nuser, hidden_dim, padding_idx=0)\n",
        "        self.poi_embedding = nn.Embedding(dims.npoi, hidden_dim, padding_idx=0)\n",
        "        self.g2_embed = nn.Embedding(dims.g2len, hidden_dim, padding_idx=0)\n",
        "        self.g3_embed = nn.Embedding(dims.g3len, hidden_dim, padding_idx=0)\n",
        "        self.g4_embed = nn.Embedding(dims.g4len, hidden_dim, padding_idx=0)\n",
        "        self.g5_embed = nn.Embedding(dims.g5len, hidden_dim, padding_idx=0)\n",
        "        self.g6_embed = nn.Embedding(dims.g6len, hidden_dim, padding_idx=0)\n",
        "\n",
        "        self.linear_poi = nn.Linear(2 * hidden_dim, dims.npoi)\n",
        "        self.linear_g2 = nn.Linear(2 * hidden_dim, dims.g2len)\n",
        "        self.linear_g3 = nn.Linear(2 * hidden_dim, dims.g3len)\n",
        "        self.linear_g4 = nn.Linear(2 * hidden_dim, dims.g4len)\n",
        "        self.linear_g5 = nn.Linear(2 * hidden_dim, dims.g5len)\n",
        "        self.linear_g6 = nn.Linear(2 * hidden_dim, dims.g6len)\n",
        "\n",
        "        self.top1_argmax=AccuracyAt1()\n",
        "        self.top1 = AccuracyAtK(1)\n",
        "        self.top5 = AccuracyAtK(5)\n",
        "        self.top10 = AccuracyAtK(10)\n",
        "        self.top20 = AccuracyAtK(20)\n",
        "        self.mrr = MeanReciprocalRank()\n",
        "\n",
        "        # extract indices from one-hot neighbor list\n",
        "        self.iota = torch.arange(self.dims.npoi, requires_grad=False, device=device)\n",
        "\n",
        "        self.criterion = nn.CrossEntropyLoss()\n",
        "\n",
        "        self.apply(self.init_weights)\n",
        "\n",
        "    def init_weights(self, w):\n",
        "        if type(w) == nn.Linear:\n",
        "            nn.init.kaiming_normal_(w.weight)\n",
        "            nn.init.constant_(w.bias, 0)\n",
        "        elif type(w) == nn.LSTM:\n",
        "            for name, param in w.named_parameters():\n",
        "                if \"bias\" in name:\n",
        "                    nn.init.constant_(param, 0)\n",
        "                elif \"weight\" in name:\n",
        "                    nn.init.kaiming_normal_(param)\n",
        "        elif type(w) == nn.Embedding:\n",
        "            nn.init.kaiming_normal_(w.weight)\n",
        "            nn.init.constant_(w.weight[0], 0)\n",
        "\n",
        "    def forward(self, x):\n",
        "\n",
        "        users, poi, x_geoHash2, x_geoHash3, x_geoHash4, x_geoHash5, x_geoHash6 = x\n",
        "\n",
        "        B, T = poi.shape\n",
        "\n",
        "        users = users.repeat(T, 1).T\n",
        "\n",
        "        neighbors_spatial = self.spatial_graph[poi]\n",
        "        neighbors_temporal = self.temporal_graph[poi]\n",
        "\n",
        "        e_user = self.dropout(self.user_embedding(users))\n",
        "        e_poi = self.dropout(self.poi_embedding(poi))\n",
        "        e_gap2 = self.dropout(self.g2_embed(x_geoHash2))\n",
        "        e_gap3 = self.dropout(self.g3_embed(x_geoHash3))\n",
        "        e_gap4 = self.dropout(self.g4_embed(x_geoHash4))\n",
        "        e_gap5 = self.dropout(self.g5_embed(x_geoHash5))\n",
        "        e_gap6 = self.dropout(self.g6_embed(x_geoHash6))\n",
        "\n",
        "        spatial_atts = torch.empty((B, T, self.hidden_dim), device=self.device)\n",
        "        temporal_atts = torch.empty((B, T, self.hidden_dim), device=self.device)\n",
        "\n",
        "        for b in range(B):\n",
        "            for t in range(T):\n",
        "\n",
        "                spatial_neigh = neighbors_spatial[b, t] * self.iota\n",
        "                temporal_neigh = neighbors_temporal[b, t] * self.iota\n",
        "\n",
        "                spatial_neigh = spatial_neigh[spatial_neigh != 0]\n",
        "                temporal_neigh = temporal_neigh[temporal_neigh != 0]\n",
        "\n",
        "                spatial_neigh = spatial_neigh.unsqueeze(0)\n",
        "                temporal_neigh = temporal_neigh.unsqueeze(0)\n",
        "\n",
        "                e_spatial = self.dropout(self.poi_embedding(spatial_neigh))\n",
        "                e_temporal = self.dropout(self.poi_embedding(temporal_neigh))\n",
        "\n",
        "                curr_poi = e_poi[b, t].unsqueeze(0)\n",
        "\n",
        "                spatial_p, _ = self.spatial_attn(curr_poi, e_spatial)\n",
        "                temporal_p, _ = self.temporal_attn(curr_poi, e_temporal)\n",
        "\n",
        "                # we are not using the batch dimension, so we squeeze it\n",
        "                spatial_atts[b, t] = spatial_p.squeeze()\n",
        "                temporal_atts[b, t] = temporal_p.squeeze()\n",
        "\n",
        "        # zero-init LSTM states\n",
        "        h_t = torch.zeros(B, T, self.hidden_dim, device=self.device)\n",
        "        c_t = torch.zeros(B, T, self.hidden_dim, device=self.device)\n",
        "\n",
        "        h_t, c_t = self.lstm(e_poi, (h_t, c_t), spatial_atts, temporal_atts, T)\n",
        "\n",
        "        # Note:the prediction of the poi depends on the embedding o the user\n",
        "        next_poi = self.linear_poi(torch.cat((h_t, e_user), dim=2))\n",
        "        next_g2 = self.linear_g2(torch.cat((h_t, e_gap2), dim=2))\n",
        "        next_g3 = self.linear_g3(torch.cat((h_t, e_gap3), dim=2))\n",
        "        next_g4 = self.linear_g4(torch.cat((h_t, e_gap4), dim=2))\n",
        "        next_g5 = self.linear_g5(torch.cat((h_t, e_gap5), dim=2))\n",
        "        next_g6 = self.linear_g6(torch.cat((h_t, e_gap6), dim=2))\n",
        "\n",
        "        return next_poi, next_g2, next_g3, next_g4, next_g5, next_g6\n",
        "\n",
        "    def training_step(self, batch, batch_idx):\n",
        "        x, y = batch\n",
        "        (\n",
        "            poi_pred,\n",
        "            gap2_pred,\n",
        "            gap3_pred,\n",
        "            gap4_pred,\n",
        "            gap5_pred,\n",
        "            gap6_pred,\n",
        "        ) = self(x)\n",
        "\n",
        "        loss_poi = self.criterion(\n",
        "            poi_pred.reshape(-1, self.dims.npoi), y[1].reshape(-1)\n",
        "        )\n",
        "        loss_gap2 = self.criterion(\n",
        "            gap2_pred.reshape(-1, self.dims.g2len), y[2].reshape(-1)\n",
        "        )\n",
        "        loss_gap3 = self.criterion(\n",
        "            gap3_pred.reshape(-1, self.dims.g3len), y[3].reshape(-1)\n",
        "        )\n",
        "        loss_gap4 = self.criterion(\n",
        "            gap4_pred.reshape(-1, self.dims.g4len), y[4].reshape(-1)\n",
        "        )\n",
        "        loss_gap5 = self.criterion(\n",
        "            gap5_pred.reshape(-1, self.dims.g5len), y[5].reshape(-1)\n",
        "        )\n",
        "        loss_gap6 = self.criterion(\n",
        "            gap6_pred.reshape(-1, self.dims.g6len), y[6].reshape(-1)\n",
        "        )\n",
        "\n",
        "        loss = (\n",
        "            loss_poi + loss_gap2 + loss_gap3 + loss_gap4 + loss_gap5 + loss_gap6\n",
        "        ) / 6\n",
        "        self.log(\"train/loss\", loss)\n",
        "        self.log(\"train/loss_gap2\", loss_gap2)\n",
        "        self.log(\"train/loss_gap3\", loss_gap3)\n",
        "        self.log(\"train/loss_gap4\", loss_gap4)\n",
        "        self.log(\"train/loss_gap5\", loss_gap5)\n",
        "        self.log(\"train/loss_gap6\", loss_gap6)\n",
        "        self.log(\"train/loss_poi\", loss_poi)\n",
        "\n",
        "        return {\"loss\": loss}\n",
        "\n",
        "    def validation_step(self, batch, batch_idx):\n",
        "        x, y = batch\n",
        "        (\n",
        "            poi_pred,\n",
        "            gap2_pred,\n",
        "            gap3_pred,\n",
        "            gap4_pred,\n",
        "            gap5_pred,\n",
        "            gap6_pred,\n",
        "        ) = self(x)\n",
        "\n",
        "        loss_poi = self.criterion(\n",
        "            poi_pred.reshape(-1, self.dims.npoi), y[1].reshape(-1)\n",
        "        )\n",
        "        loss_gap2 = self.criterion(\n",
        "            gap2_pred.reshape(-1, self.dims.g2len), y[2].reshape(-1)\n",
        "        )\n",
        "        loss_gap3 = self.criterion(\n",
        "            gap3_pred.reshape(-1, self.dims.g3len), y[3].reshape(-1)\n",
        "        )\n",
        "        loss_gap4 = self.criterion(\n",
        "            gap4_pred.reshape(-1, self.dims.g4len), y[4].reshape(-1)\n",
        "        )\n",
        "        loss_gap5 = self.criterion(\n",
        "            gap5_pred.reshape(-1, self.dims.g5len), y[5].reshape(-1)\n",
        "        )\n",
        "        loss_gap6 = self.criterion(\n",
        "            gap6_pred.reshape(-1, self.dims.g6len), y[6].reshape(-1)\n",
        "        )\n",
        "\n",
        "        loss = (\n",
        "            loss_poi + loss_gap2 + loss_gap3 + loss_gap4 + loss_gap5 + loss_gap6\n",
        "        ) / 6\n",
        "\n",
        "        self.log(\"val/loss\", loss)\n",
        "        self.log(\"val/loss_gap2\", loss_gap2)\n",
        "        self.log(\"val/loss_gap3\", loss_gap3)\n",
        "        self.log(\"val/loss_gap4\", loss_gap4)\n",
        "        self.log(\"val/loss_gap5\", loss_gap5)\n",
        "        self.log(\"val/loss_gap6\", loss_gap6)\n",
        "        self.log(\"val/loss_poi\", loss_poi)\n",
        "\n",
        "        top1_argmax=self.top1_argmax(poi_pred.reshape(-1, self.dims.npoi), y[1].reshape(-1))\n",
        "        top1_acc =self.top1(poi_pred.reshape(-1, self.dims.npoi), y[1].reshape(-1))\n",
        "        top5_acc = self.top5(poi_pred.reshape(-1, self.dims.npoi), y[1].reshape(-1))\n",
        "        top10_acc = self.top10(poi_pred.reshape(-1, self.dims.npoi), y[1].reshape(-1))\n",
        "        top20_acc = self.top20(poi_pred.reshape(-1, self.dims.npoi), y[1].reshape(-1))\n",
        "        mrr = self.mrr(poi_pred.reshape(-1, self.dims.npoi), y[1].reshape(-1))\n",
        "\n",
        "        # log \"leaderboard\" metrics\n",
        "        self.log(\"val/top1_argmax\", top1_argmax)\n",
        "        self.log(\"val/top1\", top1_acc)\n",
        "        self.log(\"val/top5\", top5_acc)\n",
        "        self.log(\"val/top10\", top10_acc)\n",
        "        self.log(\"val/top20\", top20_acc)\n",
        "        self.log(\"val/mrr\", mrr)\n",
        "\n",
        "        return loss\n",
        "\n",
        "    def test_step(self, batch, batch_idx):\n",
        "        x, y = batch\n",
        "        (\n",
        "            poi_pred,\n",
        "            gap2_pred,\n",
        "            gap3_pred,\n",
        "            gap4_pred,\n",
        "            gap5_pred,\n",
        "            gap6_pred,\n",
        "        ) = self(x)\n",
        "\n",
        "        loss_poi = self.criterion(\n",
        "            poi_pred.reshape(-1, self.dims.npoi), y[1].reshape(-1)\n",
        "        )\n",
        "        loss_gap2 = self.criterion(\n",
        "            gap2_pred.reshape(-1, self.dims.g2len), y[2].reshape(-1)\n",
        "        )\n",
        "        loss_gap3 = self.criterion(\n",
        "            gap3_pred.reshape(-1, self.dims.g3len), y[3].reshape(-1)\n",
        "        )\n",
        "        loss_gap4 = self.criterion(\n",
        "            gap4_pred.reshape(-1, self.dims.g4len), y[4].reshape(-1)\n",
        "        )\n",
        "        loss_gap5 = self.criterion(\n",
        "            gap5_pred.reshape(-1, self.dims.g5len), y[5].reshape(-1)\n",
        "        )\n",
        "        loss_gap6 = self.criterion(\n",
        "            gap6_pred.reshape(-1, self.dims.g6len), y[6].reshape(-1)\n",
        "        )\n",
        "\n",
        "        loss = (\n",
        "            loss_poi + loss_gap2 + loss_gap3 + loss_gap4 + loss_gap5 + loss_gap6\n",
        "        ) / 6\n",
        "\n",
        "        self.log(\"test/loss\", loss)\n",
        "        self.log(\"test/loss_gap2\", loss_gap2)\n",
        "        self.log(\"test/loss_gap3\", loss_gap3)\n",
        "        self.log(\"test/loss_gap4\", loss_gap4)\n",
        "        self.log(\"test/loss_gap5\", loss_gap5)\n",
        "        self.log(\"test/loss_gap6\", loss_gap6)\n",
        "        self.log(\"test/loss_poi\", loss_poi)\n",
        "\n",
        "        top1_acc = self.top1(poi_pred, y[1])\n",
        "        top5_acc = self.top5(poi_pred, y[1])\n",
        "        top10_acc = self.top10(poi_pred, y[1])\n",
        "        top20_acc = self.top20(poi_pred, y[1])\n",
        "        mrr = self.mrr(poi_pred, y[1])\n",
        "\n",
        "        # log \"leaderboard\" metrics\n",
        "        self.log(\"test/top1\", top1_acc)\n",
        "        self.log(\"test/top5\", top5_acc)\n",
        "        self.log(\"test/top10\", top10_acc)\n",
        "        self.log(\"test/top20\", top20_acc)\n",
        "        self.log(\"test/mrr\", mrr)\n",
        "\n",
        "        return {\"loss\": loss}\n",
        "\n",
        "    def configure_optimizers(self):\n",
        "        # Define optimizer and scheduler\n",
        "        optimizer = torch.optim.AdamW(self.parameters(), lr=1e-4, amsgrad=True)\n",
        "        return optimizer"
      ]
    },
    {
      "cell_type": "markdown",
      "metadata": {
        "id": "kRG9Fg0sCCyw"
      },
      "source": [
        "## Training Loops"
      ]
    },
    {
      "cell_type": "code",
      "execution_count": 87,
      "metadata": {
        "execution": {
          "iopub.status.busy": "2024-05-12T17:24:05.974293Z",
          "iopub.status.idle": "2024-05-12T17:24:05.974729Z",
          "shell.execute_reply": "2024-05-12T17:24:05.974523Z",
          "shell.execute_reply.started": "2024-05-12T17:24:05.974505Z"
        },
        "id": "4B3gEpRhCCyw",
        "trusted": true
      },
      "outputs": [],
      "source": [
        "n_users = encoder_dict[\"users\"].classes_.shape[0]\n",
        "n_pois = encoder_dict[\"pois\"].classes_.shape[0]\n",
        "n_g2 = encoder_dict[\"g2\"].classes_.shape[0]\n",
        "n_g3 = encoder_dict[\"g3\"].classes_.shape[0]\n",
        "n_g4 = encoder_dict[\"g4\"].classes_.shape[0]\n",
        "n_g5 = encoder_dict[\"g5\"].classes_.shape[0]\n",
        "n_g6 = encoder_dict[\"g6\"].classes_.shape[0]\n",
        "\n",
        "\n",
        "# account for the padding token\n",
        "dims = BaselineDimensions(\n",
        "    n_users + 1, n_pois + 1, n_g2 + 1, n_g3 + 1, n_g4 + 1, n_g5 + 1, n_g6 + 1\n",
        ")\n",
        "\n",
        "device = torch.device(\"cuda\" if torch.cuda.is_available() else \"cpu\")"
      ]
    },
    {
      "cell_type": "code",
      "execution_count": 88,
      "metadata": {
        "colab": {
          "base_uri": "https://localhost:8080/",
          "height": 1000,
          "referenced_widgets": [
            "a5862298f67c46128ef9f31662a86117",
            "3a5b8168c42b40c886ae29bbccf3839b",
            "d6684388acc2426c9ffcd20744923d59",
            "daf9b5282d7847739cdf4dcd28fac31b",
            "3576f9297aa541ae9e19885a4dba50c9",
            "59bb8c6f18844efd88c2dbe164202df8",
            "b47cb7bfa5554e7ab594ca408cc49b56",
            "3a98dba41e174ac9914657fe58e57c29",
            "d6c28318b963465c919df38a1bc54b1b",
            "906468e403284d9fa0b26489ad79a55d",
            "5f7ee1b08aa548bc89413d98af3613ab",
            "cb414bbbacaa4afc9efce333f1195481",
            "b13aba3bfbd5488abed6b1ff428ec27a",
            "8e22576e09ed4d38815a0fa6dd53234f",
            "b696aa78c88a492ebe7b75ad1e61ac65",
            "a6f6edd383614dffa26c0ce6f1acbad2",
            "1906922e79ac4963a1bd8e2d3fee2f9c",
            "28df7044e1154be788bce42806cb7112",
            "829ae26b3d40476abfe6dd3a0dd53a00",
            "8ea12a23ffa342e7ae06b3fffb9b7fc6",
            "b4d5c74e18e04bd2a2de40c1bffe4a8d",
            "7f0a6555e3c449c8a92f55f62a9307a4",
            "ef4a63c97d41476997a0c6ada35318a2",
            "b53b3b4871ae4ca7a2c51d723a6a0b41",
            "3f96b97227c6490f8a571457892ba532",
            "dee1c7a0026049f4982d8b3beef575ca",
            "50c315fe535c4f2b9d579bf727b7b439",
            "aec0cb7948724d2e9b5ee2ad70805472",
            "2884968b4e4c4574a9c7caae0d220aaf",
            "01cbe8ddbe574086ad00bb212af2ceb0",
            "556700f5b34142df8a9c948ff9689981",
            "76bf04b4622648e0bf01b8e9269d3120",
            "23d3d2172a79472786163af36e7410df",
            "b2da2b3aef5a4dbea84e3f34bfa569cb",
            "1ae5edb390fd41cba20c12fa98781051",
            "8bf4d7c5616d4946873898fd3f598c6b",
            "872e3b5a27714d64a97fdb57ee9f0b12",
            "6351e89262ce42239d36e29e4ef06a25",
            "bf00fac1893a4731b8e4598c92512473",
            "4b86a5cbb2e443fcbfc79048fb05e0fe",
            "63c83a8f34fa4eeba55dbfd4ab7fa3e3",
            "b6f4f87c67db4cf48c676939c113614a",
            "825fa3aa6bb14d2a9584816b70d2062f",
            "b3bb0061936c4bdbbf196341d9516e1a",
            "6631593faac745079a704475af9e0cd9",
            "89ec065f686b463a960a780ecdf14a42",
            "f54da5c46f4c4664b7d275300105f0a7",
            "9a208d2e2f4c46f086246bf0a51f0dd5",
            "33a3f67f80e34b7a9598b4be2a327d9b",
            "092afd150ad44e49be66f3130bf21ab5",
            "ada58dce8c2f4d5a8e3b2e734c60ae74",
            "0b8c5e1c303942c9b93a16f617050036",
            "110bd5e9208d4241a81c5cf361595b70",
            "07de2988ac1a4afb9fbce430307c85ea",
            "207ef2806ca2415b862bc0005a0bb891",
            "45bdc6a54ddd4811a5064e8e389e876c",
            "7891ca426c4447f094e0e669da8111d9",
            "043abb27427e4de18556e34f90a93a50",
            "ccf6142ef5fc45ad8e7e7e494ac626d4",
            "f9d834eb05144ba49540773f27ea27df",
            "ba088c61fa43458182549325abf1b4b0",
            "274bdfc4103e4d9c9d2250c449bd0aab",
            "98e7d3dcdb0b4fd5b53623cb528e5b99",
            "0430969f37514e5c95a8f0006562f95f",
            "fc7b196b87ee487ca962c50f8e095afa",
            "7a3e467dd1ec41b7bba275dd1c7adf37",
            "7832aa2416894b5fabfc32f620481a33",
            "a46856d63f934a2fa2c506b5b5d50233",
            "343eef5aab48485b8222a6b85632f731",
            "8e1eebe2825d4f238d7efdac786de3eb",
            "8019ded5452b4de696725dc2c91d6243",
            "98cf9adef1d34d91b7bd33107babff3c",
            "32070e2789da4280b62fa40595549974",
            "9ae5678446b54583b833c567dbf5f49f",
            "e3f22ba05917497fb608eddf7c8b0f92",
            "7fe9adb8a1634078b10497b850c5ca3e",
            "e0bc148b4f9f4caebc4afd53df52d73f",
            "6b22b2b76f994af99eee7527660f73c8",
            "a403eef32ceb436db682b11035e8df33",
            "b44588fc778045caa2ab96b7cd72401e",
            "08529093a22c4407b3c819f994ef0fe5",
            "761fd3424f354923ad3365a08dc8643b",
            "12e7de3d9a0f41d8b721200e994991cb",
            "6eb3862be05a479f8e85916bb37489b5",
            "9bcd9de9b184482c83ab72ebeaa4ba87",
            "9603c75bcd0243d0ad3d2dd61bf08afc",
            "30ecd0ba87e0485abea748e07e8a2772",
            "6c978870e6e742719e715ea862bd9f74",
            "11afc1e71d574d6492ca781957199b0a",
            "d0a32b32257b453ca3b2322d03143296",
            "ebbb2393c6aa41bbb0cfad55553f6a4c",
            "4fb53909aac74d67bc5bbb881cd7c684",
            "0346342082b445abac712bd0ffd1c96c",
            "644fc6c3de774946a8e078a26c336a67",
            "9f7526a44d95415ca095eea6a6f2f121",
            "1f3d89cee5134691b456cfb06264338e",
            "e429b7a5448847a6a9b8650abd76de3c",
            "5bf912a8b2e943a59da4e9fbdee00bc6",
            "deb5d5d1d8ac48d3bb2163487c0f42d8",
            "edcf5a35287d4703b8d1ed1a66c0dc2a",
            "e1b8d991034d436d9b46ac3eef5d8b2f",
            "9ea0be4a56b6430bb602439ef80a64a6",
            "fdfc085444dd4f69b6408d7353361484",
            "7fc01c1ca9e949359c0f681f4b77ed89",
            "6c4de47d15d2462c885e9b00af4b7103",
            "827114cae61345858bee65ea96caa36f",
            "d90904ecba4f46229d65336e9f81be6f",
            "851b69d3da0e45669cbe809b7e45de45",
            "c2899b0a8c154448b9c5bfbdd158af6c",
            "956ccaa54723421092b1bba08597a5af",
            "a82d5f88192045b89d02c3acf374df81",
            "0bad9158de2b41cca0f47fe4a77667f2",
            "5f28b89c09e1466bbc6284aee179f090",
            "768f770b37254709a6926c47baf90801",
            "d24635256dc74d458fd8fed0fa411217",
            "2df23dd5eeee4f82a7c45348043bc6a4",
            "cfd235fbc03b464ea461540ff8e0f652",
            "8617bdfedf0c4a68ac1918688483619e",
            "395e6704397f4d0e864a29afd7e4d6c2",
            "423bafd69dde48528ddffb6b4ac52ccd",
            "73dc09e462dd4cf7a73445e73537e47e",
            "9e3cc8f2da8a463296a01a2479bf388b",
            "2399012ff503477386cf9bc49ad96a60",
            "14a62e5b65bc4123a7b14f1e6882d19f",
            "64bed76c89024b04911299ea09411588",
            "e23da434a02641bcbf3b2f439c1d573b",
            "86a1f9aaca9e40cdbb9404ff7d27d5e5",
            "8f0a96edcae1495db1534d123b21b8f3",
            "ad8ceca6a10749b9a6ecb41413e865bd",
            "1c1820a3f94241d68097697023e268ea",
            "dd7d5b8977b6492bb35dd90ab15d6c8a",
            "f853c40830e44741966a17546b83ab30",
            "628834b673544470b94e7547e8c92237",
            "3fb505e523384eaf8c91a62a31db09b2",
            "be15ba2c5c5f41309d3c4726c3658a56",
            "77c5730fdc0148a5b067134dd527319f",
            "6a00a356454b4dd6870edd13178ce26a",
            "d287f967e0c745b3a5d862749ac58585",
            "cc87aec1a6e14d558e9e58bd343d1019",
            "b8f8734212834df09080086f519bfb26",
            "930b1774225b4a26a74f188ae08dd849",
            "3dc35ad5efb248e5a94e775e4b7d94e1",
            "9a823feb578640bfa72e2afb67225c59",
            "65770bb4e42b45bc9b52b000956e716d",
            "b9aeff511de847dc9244dff38919a4bd",
            "0cff3562384d4ccb9e395bcda41f6b48",
            "f2e9ce8bc86847a49ce5aa452f6ea129",
            "8c0b0749bae546b7b1ebba55be6bc0b2"
          ]
        },
        "execution": {
          "iopub.status.busy": "2024-05-12T17:24:05.976446Z",
          "iopub.status.idle": "2024-05-12T17:24:05.976757Z",
          "shell.execute_reply": "2024-05-12T17:24:05.976617Z",
          "shell.execute_reply.started": "2024-05-12T17:24:05.976604Z"
        },
        "id": "ZJsxdOY5CCyw",
        "outputId": "25714663-854e-4eb6-d588-452d98e8aa90",
        "trusted": true
      },
      "outputs": [
        {
          "output_type": "display_data",
          "data": {
            "text/plain": [
              "VBox(children=(Label(value='0.002 MB of 0.002 MB uploaded\\r'), FloatProgress(value=1.0, max=1.0)))"
            ],
            "application/vnd.jupyter.widget-view+json": {
              "version_major": 2,
              "version_minor": 0,
              "model_id": "a5862298f67c46128ef9f31662a86117"
            }
          },
          "metadata": {}
        },
        {
          "output_type": "display_data",
          "data": {
            "text/plain": [
              "<IPython.core.display.HTML object>"
            ],
            "text/html": [
              " View run <strong style=\"color:#cdcd00\">wandering-vortex-218</strong> at: <a href='https://wandb.ai/poi-dl-airo/trovailpoi/runs/av13r3hr' target=\"_blank\">https://wandb.ai/poi-dl-airo/trovailpoi/runs/av13r3hr</a><br/> View project at: <a href='https://wandb.ai/poi-dl-airo/trovailpoi' target=\"_blank\">https://wandb.ai/poi-dl-airo/trovailpoi</a><br/>Synced 5 W&B file(s), 0 media file(s), 0 artifact file(s) and 0 other file(s)"
            ]
          },
          "metadata": {}
        },
        {
          "output_type": "display_data",
          "data": {
            "text/plain": [
              "<IPython.core.display.HTML object>"
            ],
            "text/html": [
              "Find logs at: <code>./wandb/run-20240516_125447-av13r3hr/logs</code>"
            ]
          },
          "metadata": {}
        },
        {
          "output_type": "stream",
          "name": "stderr",
          "text": [
            "\u001b[34m\u001b[1mwandb\u001b[0m: Currently logged in as: \u001b[33mmartinadoku\u001b[0m (\u001b[33mpoi-dl-airo\u001b[0m). Use \u001b[1m`wandb login --relogin`\u001b[0m to force relogin\n"
          ]
        },
        {
          "output_type": "display_data",
          "data": {
            "text/plain": [
              "<IPython.core.display.HTML object>"
            ],
            "text/html": [
              "Tracking run with wandb version 0.17.0"
            ]
          },
          "metadata": {}
        },
        {
          "output_type": "display_data",
          "data": {
            "text/plain": [
              "<IPython.core.display.HTML object>"
            ],
            "text/html": [
              "Run data is saved locally in <code>/content/wandb/run-20240516_125555-oqvwx4bj</code>"
            ]
          },
          "metadata": {}
        },
        {
          "output_type": "display_data",
          "data": {
            "text/plain": [
              "<IPython.core.display.HTML object>"
            ],
            "text/html": [
              "Syncing run <strong><a href='https://wandb.ai/poi-dl-airo/trovailpoi/runs/oqvwx4bj' target=\"_blank\">bright-sound-219</a></strong> to <a href='https://wandb.ai/poi-dl-airo/trovailpoi' target=\"_blank\">Weights & Biases</a> (<a href='https://wandb.me/run' target=\"_blank\">docs</a>)<br/>"
            ]
          },
          "metadata": {}
        },
        {
          "output_type": "display_data",
          "data": {
            "text/plain": [
              "<IPython.core.display.HTML object>"
            ],
            "text/html": [
              " View project at <a href='https://wandb.ai/poi-dl-airo/trovailpoi' target=\"_blank\">https://wandb.ai/poi-dl-airo/trovailpoi</a>"
            ]
          },
          "metadata": {}
        },
        {
          "output_type": "display_data",
          "data": {
            "text/plain": [
              "<IPython.core.display.HTML object>"
            ],
            "text/html": [
              " View run at <a href='https://wandb.ai/poi-dl-airo/trovailpoi/runs/oqvwx4bj' target=\"_blank\">https://wandb.ai/poi-dl-airo/trovailpoi/runs/oqvwx4bj</a>"
            ]
          },
          "metadata": {}
        },
        {
          "output_type": "stream",
          "name": "stderr",
          "text": [
            "INFO: GPU available: True (cuda), used: True\n",
            "INFO:lightning.pytorch.utilities.rank_zero:GPU available: True (cuda), used: True\n",
            "INFO: TPU available: False, using: 0 TPU cores\n",
            "INFO:lightning.pytorch.utilities.rank_zero:TPU available: False, using: 0 TPU cores\n",
            "INFO: IPU available: False, using: 0 IPUs\n",
            "INFO:lightning.pytorch.utilities.rank_zero:IPU available: False, using: 0 IPUs\n",
            "INFO: HPU available: False, using: 0 HPUs\n",
            "INFO:lightning.pytorch.utilities.rank_zero:HPU available: False, using: 0 HPUs\n",
            "INFO: LOCAL_RANK: 0 - CUDA_VISIBLE_DEVICES: [0]\n",
            "INFO:lightning.pytorch.accelerators.cuda:LOCAL_RANK: 0 - CUDA_VISIBLE_DEVICES: [0]\n",
            "INFO: \n",
            "   | Name           | Type               | Params\n",
            "-------------------------------------------------------\n",
            "0  | user_embedding | Embedding          | 20.3 M\n",
            "1  | poi_embedding  | Embedding          | 4.6 M \n",
            "2  | g2_embed       | Embedding          | 114 K \n",
            "3  | g3_embed       | Embedding          | 287 K \n",
            "4  | g4_embed       | Embedding          | 561 K \n",
            "5  | g5_embed       | Embedding          | 1.4 M \n",
            "6  | g6_embed       | Embedding          | 2.8 M \n",
            "7  | e_drop         | Dropout            | 0     \n",
            "8  | lstm           | LSTM               | 8.4 M \n",
            "9  | linear_poi     | Linear             | 9.1 M \n",
            "10 | linear_g2      | Linear             | 229 K \n",
            "11 | linear_g3      | Linear             | 575 K \n",
            "12 | linear_g4      | Linear             | 1.1 M \n",
            "13 | linear_g5      | Linear             | 2.8 M \n",
            "14 | linear_g6      | Linear             | 5.7 M \n",
            "15 | criterion      | CrossEntropyLoss   | 0     \n",
            "16 | top1_argmax    | AccuracyAt1        | 0     \n",
            "17 | top1           | AccuracyAtK        | 0     \n",
            "18 | top5           | AccuracyAtK        | 0     \n",
            "19 | top10          | AccuracyAtK        | 0     \n",
            "20 | top20          | AccuracyAtK        | 0     \n",
            "21 | mrr            | MeanReciprocalRank | 0     \n",
            "-------------------------------------------------------\n",
            "58.0 M    Trainable params\n",
            "0         Non-trainable params\n",
            "58.0 M    Total params\n",
            "231.868   Total estimated model params size (MB)\n",
            "INFO:lightning.pytorch.callbacks.model_summary:\n",
            "   | Name           | Type               | Params\n",
            "-------------------------------------------------------\n",
            "0  | user_embedding | Embedding          | 20.3 M\n",
            "1  | poi_embedding  | Embedding          | 4.6 M \n",
            "2  | g2_embed       | Embedding          | 114 K \n",
            "3  | g3_embed       | Embedding          | 287 K \n",
            "4  | g4_embed       | Embedding          | 561 K \n",
            "5  | g5_embed       | Embedding          | 1.4 M \n",
            "6  | g6_embed       | Embedding          | 2.8 M \n",
            "7  | e_drop         | Dropout            | 0     \n",
            "8  | lstm           | LSTM               | 8.4 M \n",
            "9  | linear_poi     | Linear             | 9.1 M \n",
            "10 | linear_g2      | Linear             | 229 K \n",
            "11 | linear_g3      | Linear             | 575 K \n",
            "12 | linear_g4      | Linear             | 1.1 M \n",
            "13 | linear_g5      | Linear             | 2.8 M \n",
            "14 | linear_g6      | Linear             | 5.7 M \n",
            "15 | criterion      | CrossEntropyLoss   | 0     \n",
            "16 | top1_argmax    | AccuracyAt1        | 0     \n",
            "17 | top1           | AccuracyAtK        | 0     \n",
            "18 | top5           | AccuracyAtK        | 0     \n",
            "19 | top10          | AccuracyAtK        | 0     \n",
            "20 | top20          | AccuracyAtK        | 0     \n",
            "21 | mrr            | MeanReciprocalRank | 0     \n",
            "-------------------------------------------------------\n",
            "58.0 M    Trainable params\n",
            "0         Non-trainable params\n",
            "58.0 M    Total params\n",
            "231.868   Total estimated model params size (MB)\n"
          ]
        },
        {
          "output_type": "stream",
          "name": "stdout",
          "text": [
            "Loading data from dict/dataframe\n",
            "12060\n"
          ]
        },
        {
          "output_type": "display_data",
          "data": {
            "text/plain": [
              "Sanity Checking: |          | 0/? [00:00<?, ?it/s]"
            ],
            "application/vnd.jupyter.widget-view+json": {
              "version_major": 2,
              "version_minor": 0,
              "model_id": "d6c28318b963465c919df38a1bc54b1b"
            }
          },
          "metadata": {}
        },
        {
          "output_type": "display_data",
          "data": {
            "text/plain": [
              "Training: |          | 0/? [00:00<?, ?it/s]"
            ],
            "application/vnd.jupyter.widget-view+json": {
              "version_major": 2,
              "version_minor": 0,
              "model_id": "8ea12a23ffa342e7ae06b3fffb9b7fc6"
            }
          },
          "metadata": {}
        },
        {
          "output_type": "display_data",
          "data": {
            "text/plain": [
              "Validation: |          | 0/? [00:00<?, ?it/s]"
            ],
            "application/vnd.jupyter.widget-view+json": {
              "version_major": 2,
              "version_minor": 0,
              "model_id": "556700f5b34142df8a9c948ff9689981"
            }
          },
          "metadata": {}
        },
        {
          "output_type": "display_data",
          "data": {
            "text/plain": [
              "Validation: |          | 0/? [00:00<?, ?it/s]"
            ],
            "application/vnd.jupyter.widget-view+json": {
              "version_major": 2,
              "version_minor": 0,
              "model_id": "b6f4f87c67db4cf48c676939c113614a"
            }
          },
          "metadata": {}
        },
        {
          "output_type": "display_data",
          "data": {
            "text/plain": [
              "Validation: |          | 0/? [00:00<?, ?it/s]"
            ],
            "application/vnd.jupyter.widget-view+json": {
              "version_major": 2,
              "version_minor": 0,
              "model_id": "110bd5e9208d4241a81c5cf361595b70"
            }
          },
          "metadata": {}
        },
        {
          "output_type": "display_data",
          "data": {
            "text/plain": [
              "Validation: |          | 0/? [00:00<?, ?it/s]"
            ],
            "application/vnd.jupyter.widget-view+json": {
              "version_major": 2,
              "version_minor": 0,
              "model_id": "0430969f37514e5c95a8f0006562f95f"
            }
          },
          "metadata": {}
        },
        {
          "output_type": "display_data",
          "data": {
            "text/plain": [
              "Validation: |          | 0/? [00:00<?, ?it/s]"
            ],
            "application/vnd.jupyter.widget-view+json": {
              "version_major": 2,
              "version_minor": 0,
              "model_id": "e3f22ba05917497fb608eddf7c8b0f92"
            }
          },
          "metadata": {}
        },
        {
          "output_type": "display_data",
          "data": {
            "text/plain": [
              "Validation: |          | 0/? [00:00<?, ?it/s]"
            ],
            "application/vnd.jupyter.widget-view+json": {
              "version_major": 2,
              "version_minor": 0,
              "model_id": "9603c75bcd0243d0ad3d2dd61bf08afc"
            }
          },
          "metadata": {}
        },
        {
          "output_type": "display_data",
          "data": {
            "text/plain": [
              "Validation: |          | 0/? [00:00<?, ?it/s]"
            ],
            "application/vnd.jupyter.widget-view+json": {
              "version_major": 2,
              "version_minor": 0,
              "model_id": "e429b7a5448847a6a9b8650abd76de3c"
            }
          },
          "metadata": {}
        },
        {
          "output_type": "display_data",
          "data": {
            "text/plain": [
              "Validation: |          | 0/? [00:00<?, ?it/s]"
            ],
            "application/vnd.jupyter.widget-view+json": {
              "version_major": 2,
              "version_minor": 0,
              "model_id": "851b69d3da0e45669cbe809b7e45de45"
            }
          },
          "metadata": {}
        },
        {
          "output_type": "display_data",
          "data": {
            "text/plain": [
              "Validation: |          | 0/? [00:00<?, ?it/s]"
            ],
            "application/vnd.jupyter.widget-view+json": {
              "version_major": 2,
              "version_minor": 0,
              "model_id": "395e6704397f4d0e864a29afd7e4d6c2"
            }
          },
          "metadata": {}
        },
        {
          "output_type": "display_data",
          "data": {
            "text/plain": [
              "Validation: |          | 0/? [00:00<?, ?it/s]"
            ],
            "application/vnd.jupyter.widget-view+json": {
              "version_major": 2,
              "version_minor": 0,
              "model_id": "1c1820a3f94241d68097697023e268ea"
            }
          },
          "metadata": {}
        },
        {
          "output_type": "stream",
          "name": "stderr",
          "text": [
            "INFO: `Trainer.fit` stopped: `max_epochs=10` reached.\n",
            "INFO:lightning.pytorch.utilities.rank_zero:`Trainer.fit` stopped: `max_epochs=10` reached.\n"
          ]
        },
        {
          "output_type": "display_data",
          "data": {
            "text/plain": [
              "VBox(children=(Label(value='0.002 MB of 0.002 MB uploaded\\r'), FloatProgress(value=1.0, max=1.0)))"
            ],
            "application/vnd.jupyter.widget-view+json": {
              "version_major": 2,
              "version_minor": 0,
              "model_id": "930b1774225b4a26a74f188ae08dd849"
            }
          },
          "metadata": {}
        },
        {
          "output_type": "display_data",
          "data": {
            "text/plain": [
              "<IPython.core.display.HTML object>"
            ],
            "text/html": [
              "<style>\n",
              "    table.wandb td:nth-child(1) { padding: 0 10px; text-align: left ; width: auto;} td:nth-child(2) {text-align: left ; width: 100%}\n",
              "    .wandb-row { display: flex; flex-direction: row; flex-wrap: wrap; justify-content: flex-start; width: 100% }\n",
              "    .wandb-col { display: flex; flex-direction: column; flex-basis: 100%; flex: 1; padding: 10px; }\n",
              "    </style>\n",
              "<div class=\"wandb-row\"><div class=\"wandb-col\"><h3>Run history:</h3><br/><table class=\"wandb\"><tr><td>epoch</td><td>▁▁▁▁▂▂▂▂▃▃▃▃▃▃▃▃▄▄▄▄▅▅▅▅▆▆▆▆▆▆▆▆▇▇▇▇████</td></tr><tr><td>lr-AdamW</td><td>▁▁▁▁▁▁▁▁▁▁▁▁▁▁▁▁▁▁▁▁▁▁▁▁▁▁▁▁▁▁▁▁▁▁▁▁▁▁▁▁</td></tr><tr><td>train/loss</td><td>█▅▄▂▃▂▃▃▂▂▂▂▃▂▂▂▂▃▂▂▁▁▃▃▂▁▃▃▂▁▁▂▂▂▂▁▂▂▂▂</td></tr><tr><td>train/loss_gap2</td><td>█▅▄▃▃▂▂▃▂▂▂▂▂▁▂▂▂▂▁▂▁▁▂▂▁▁▂▂▁▁▁▂▂▁▂▂▁▁▁▂</td></tr><tr><td>train/loss_gap3</td><td>█▆▄▃▃▂▃▃▃▂▃▂▃▂▂▂▂▃▂▂▁▁▃▃▂▁▂▃▁▁▁▂▂▂▂▂▂▂▁▂</td></tr><tr><td>train/loss_gap4</td><td>█▅▄▃▃▂▃▃▃▂▃▂▃▂▂▂▂▄▂▂▁▁▃▃▂▁▂▃▂▁▁▂▂▂▂▁▂▂▂▂</td></tr><tr><td>train/loss_gap5</td><td>█▅▄▂▃▂▃▃▂▂▃▂▃▂▂▂▂▄▃▂▁▁▃▃▂▁▃▃▂▁▁▂▂▂▃▂▃▂▂▂</td></tr><tr><td>train/loss_gap6</td><td>█▅▄▂▃▂▃▃▂▂▂▂▃▂▂▃▂▄▃▂▁▁▃▃▂▁▄▃▃▁▁▂▂▂▃▂▃▂▂▂</td></tr><tr><td>train/loss_poi</td><td>█▅▄▂▃▂▃▃▂▂▂▂▃▂▂▃▂▄▃▂▁▁▃▃▂▁▄▃▃▁▂▂▂▂▃▂▃▂▂▂</td></tr><tr><td>trainer/global_step</td><td>▁▁▁▂▂▂▂▂▂▃▃▃▃▃▃▄▄▄▄▄▅▅▅▅▅▅▆▆▆▆▆▇▇▇▇▇▇███</td></tr><tr><td>val/loss</td><td>█▆▅▄▃▃▂▂▁▁</td></tr><tr><td>val/loss_gap2</td><td>█▅▃▂▂▂▁▁▁▁</td></tr><tr><td>val/loss_gap3</td><td>█▆▄▃▃▂▂▁▁▁</td></tr><tr><td>val/loss_gap4</td><td>█▆▅▄▃▃▂▂▁▁</td></tr><tr><td>val/loss_gap5</td><td>█▇▅▄▄▃▂▂▁▁</td></tr><tr><td>val/loss_gap6</td><td>█▇▅▄▄▃▃▂▂▁</td></tr><tr><td>val/loss_poi</td><td>█▇▅▄▄▃▃▂▂▁</td></tr><tr><td>val/mrr</td><td>▁▃▄▄▅▅▆▇██</td></tr><tr><td>val/top1</td><td>▁▆▇▇▇▇▇▇▇█</td></tr><tr><td>val/top10</td><td>▁▂▃▃▄▅▅▇██</td></tr><tr><td>val/top1_argmax</td><td>▁▆▇▇▇▇▇▇▇█</td></tr><tr><td>val/top20</td><td>▁▂▃▃▃▄▅▆▇█</td></tr><tr><td>val/top5</td><td>▁▃▃▃▄▅▆▇██</td></tr></table><br/></div><div class=\"wandb-col\"><h3>Run summary:</h3><br/><table class=\"wandb\"><tr><td>epoch</td><td>9</td></tr><tr><td>lr-AdamW</td><td>0.0001</td></tr><tr><td>train/loss</td><td>1.91603</td></tr><tr><td>train/loss_gap2</td><td>0.54152</td></tr><tr><td>train/loss_gap3</td><td>0.95938</td></tr><tr><td>train/loss_gap4</td><td>1.35265</td></tr><tr><td>train/loss_gap5</td><td>2.34223</td></tr><tr><td>train/loss_gap6</td><td>2.97279</td></tr><tr><td>train/loss_poi</td><td>3.32761</td></tr><tr><td>trainer/global_step</td><td>3769</td></tr><tr><td>val/loss</td><td>1.32863</td></tr><tr><td>val/loss_gap2</td><td>0.39796</td></tr><tr><td>val/loss_gap3</td><td>0.63567</td></tr><tr><td>val/loss_gap4</td><td>0.92404</td></tr><tr><td>val/loss_gap5</td><td>1.57411</td></tr><tr><td>val/loss_gap6</td><td>2.08204</td></tr><tr><td>val/loss_poi</td><td>2.35797</td></tr><tr><td>val/mrr</td><td>0.71252</td></tr><tr><td>val/top1</td><td>0.7024</td></tr><tr><td>val/top10</td><td>0.73087</td></tr><tr><td>val/top1_argmax</td><td>0.7024</td></tr><tr><td>val/top20</td><td>0.74793</td></tr><tr><td>val/top5</td><td>0.71916</td></tr></table><br/></div></div>"
            ]
          },
          "metadata": {}
        },
        {
          "output_type": "display_data",
          "data": {
            "text/plain": [
              "<IPython.core.display.HTML object>"
            ],
            "text/html": [
              " View run <strong style=\"color:#cdcd00\">bright-sound-219</strong> at: <a href='https://wandb.ai/poi-dl-airo/trovailpoi/runs/oqvwx4bj' target=\"_blank\">https://wandb.ai/poi-dl-airo/trovailpoi/runs/oqvwx4bj</a><br/> View project at: <a href='https://wandb.ai/poi-dl-airo/trovailpoi' target=\"_blank\">https://wandb.ai/poi-dl-airo/trovailpoi</a><br/>Synced 5 W&B file(s), 0 media file(s), 0 artifact file(s) and 0 other file(s)"
            ]
          },
          "metadata": {}
        },
        {
          "output_type": "display_data",
          "data": {
            "text/plain": [
              "<IPython.core.display.HTML object>"
            ],
            "text/html": [
              "Find logs at: <code>./wandb/run-20240516_125555-oqvwx4bj/logs</code>"
            ]
          },
          "metadata": {}
        }
      ],
      "source": [
        "from lightning.pytorch.loggers import WandbLogger\n",
        "from lightning.pytorch import Trainer\n",
        "\n",
        "TRAIN_BASELINE = True\n",
        "\n",
        "wandb.finish()\n",
        "torch.cuda.empty_cache()\n",
        "# cargo-cult like stuff that is supposed to make you faster\n",
        "torch.set_float32_matmul_precision(\"medium\")\n",
        "torch.backends.cudnn.benchmark = True\n",
        "\n",
        "ds = CheckinModule(encoded_data_train, encoded_data_test, batch_size=32, workers=4)\n",
        "\n",
        "wandb.init(project=\"trovailpoi\")\n",
        "\n",
        "classifier_baseline = HMT_RN(dims, embedding_dim=1024, lstm_hidden_dim=1024)\n",
        "wandb_logger = WandbLogger(project=\"trovailpoi\")\n",
        "trainer = Trainer(\n",
        "    max_epochs=10,\n",
        "    accelerator=\"auto\",\n",
        "    devices=[0],\n",
        "    log_every_n_steps=10,\n",
        "    logger=wandb_logger,\n",
        "    strategy=\"auto\",\n",
        "    callbacks=[\n",
        "        torchpl.callbacks.LearningRateMonitor(logging_interval=\"step\"),\n",
        "        torchpl.callbacks.ModelCheckpoint(\n",
        "            monitor=\"val/loss\",\n",
        "            mode=\"min\",\n",
        "            save_top_k=1,\n",
        "            save_last=True,\n",
        "            filename=\"best_model\",\n",
        "        ),\n",
        "        torchpl.callbacks.EarlyStopping(\n",
        "            monitor=\"val/loss\", patience=3, min_delta=0.0005, mode=\"min\"\n",
        "        ),\n",
        "    ],\n",
        ")\n",
        "\n",
        "if TRAIN_BASELINE:\n",
        "    trainer.fit(model=classifier_baseline, datamodule=ds)\n",
        "wandb.finish()"
      ]
    },
    {
      "cell_type": "code",
      "execution_count": null,
      "metadata": {
        "colab": {
          "base_uri": "https://localhost:8080/",
          "height": 81,
          "referenced_widgets": [
            "3ea1f883cd954818be9d986e801a564c",
            "f7a6c6f900a247179646d40f937e0ddd",
            "d63a82d2d96f4639846c4c026888b961",
            "f56025fde9124d0492023cd5c419732c",
            "3a59294fc1c542e8bf2945e8dc2ac0e1",
            "890262d62b874994ba5a116011342573",
            "bb5b0095006247df82f1a1c87d18ddc6",
            "34dbfeb2e1f94f8296916a5227682bc7"
          ]
        },
        "execution": {
          "iopub.status.busy": "2024-05-12T17:24:05.977696Z",
          "iopub.status.idle": "2024-05-12T17:24:05.978051Z",
          "shell.execute_reply": "2024-05-12T17:24:05.977893Z",
          "shell.execute_reply.started": "2024-05-12T17:24:05.977878Z"
        },
        "id": "ZltK8HPhCCyw",
        "outputId": "04aa15b5-8999-405d-9820-5608544b4728",
        "trusted": true
      },
      "outputs": [
        {
          "output_type": "display_data",
          "data": {
            "text/plain": [
              "VBox(children=(Label(value='Waiting for wandb.init()...\\r'), FloatProgress(value=0.01111259042222375, max=1.0)…"
            ],
            "application/vnd.jupyter.widget-view+json": {
              "version_major": 2,
              "version_minor": 0,
              "model_id": "3ea1f883cd954818be9d986e801a564c"
            }
          },
          "metadata": {}
        }
      ],
      "source": [
        "TRAIN_GNN = True\n",
        "\n",
        "batch_size = 60\n",
        "wandb.finish()\n",
        "torch.cuda.empty_cache()\n",
        "# cargo-cult like stuff that is supposed to make you faster\n",
        "torch.set_float32_matmul_precision(\"medium\")\n",
        "torch.backends.cudnn.benchmark = True\n",
        "\n",
        "wandb.init(project=\"trovailpoi\")\n",
        "\n",
        "classifier_gnn = GRN(\n",
        "    dims,\n",
        "    spatial_graph,\n",
        "    temporal_graph,\n",
        "    hidden_dim=1024,\n",
        "    n_heads=1,\n",
        "    dropout_rate=0.9,\n",
        "    device=device,\n",
        ")\n",
        "wandb_logger = WandbLogger(project=\"trovailpoi\")\n",
        "trainer = Trainer(\n",
        "    max_epochs=40,\n",
        "    accelerator=\"auto\",\n",
        "    devices=[0],\n",
        "    log_every_n_steps=10,\n",
        "    logger=wandb_logger,\n",
        "    strategy=\"auto\",\n",
        "    callbacks=[\n",
        "        torchpl.callbacks.LearningRateMonitor(logging_interval=\"step\"),\n",
        "        torchpl.callbacks.ModelCheckpoint(\n",
        "            monitor=\"val/loss\",\n",
        "            mode=\"min\",\n",
        "            save_top_k=1,\n",
        "            save_last=True,\n",
        "            filename=\"best_model\",\n",
        "        ),\n",
        "        torchpl.callbacks.EarlyStopping(\n",
        "            monitor=\"val/loss\", patience=3, min_delta=0.0005, mode=\"min\"\n",
        "        ),\n",
        "    ],\n",
        ")\n",
        "\n",
        "if TRAIN_GNN:\n",
        "    trainer.fit(model=classifier_gnn, datamodule=ds)\n",
        "wandb.finish()"
      ]
    },
    {
      "cell_type": "code",
      "execution_count": 90,
      "metadata": {
        "colab": {
          "base_uri": "https://localhost:8080/",
          "height": 356
        },
        "id": "abzS8kwAKPPu",
        "outputId": "c45dc7df-8975-4072-d88a-eee6e16cdc7a"
      },
      "outputs": [
        {
          "output_type": "error",
          "ename": "FileNotFoundError",
          "evalue": "[Errno 2] No such file or directory: '/content/trovailpoi/dnpotgxc/checkpoints/best_model.ckpt'",
          "traceback": [
            "\u001b[0;31m---------------------------------------------------------------------------\u001b[0m",
            "\u001b[0;31mFileNotFoundError\u001b[0m                         Traceback (most recent call last)",
            "\u001b[0;32m<ipython-input-90-1e64b705d20c>\u001b[0m in \u001b[0;36m<cell line: 3>\u001b[0;34m()\u001b[0m\n\u001b[1;32m      1\u001b[0m \u001b[0mcheckpoint_path\u001b[0m \u001b[0;34m=\u001b[0m \u001b[0;34m\"/content/trovailpoi/dnpotgxc/checkpoints/best_model.ckpt\"\u001b[0m\u001b[0;34m\u001b[0m\u001b[0;34m\u001b[0m\u001b[0m\n\u001b[1;32m      2\u001b[0m \u001b[0;31m# Load the trained model from the checkpoint\u001b[0m\u001b[0;34m\u001b[0m\u001b[0;34m\u001b[0m\u001b[0m\n\u001b[0;32m----> 3\u001b[0;31m trained_model = HMT_RN.load_from_checkpoint(\n\u001b[0m\u001b[1;32m      4\u001b[0m     \u001b[0mcheckpoint_path\u001b[0m\u001b[0;34m,\u001b[0m\u001b[0;34m\u001b[0m\u001b[0;34m\u001b[0m\u001b[0m\n\u001b[1;32m      5\u001b[0m     \u001b[0mdimensions\u001b[0m\u001b[0;34m=\u001b[0m\u001b[0mdims\u001b[0m\u001b[0;34m,\u001b[0m\u001b[0;34m\u001b[0m\u001b[0;34m\u001b[0m\u001b[0m\n",
            "\u001b[0;32m/usr/local/lib/python3.10/dist-packages/lightning/pytorch/utilities/model_helpers.py\u001b[0m in \u001b[0;36mwrapper\u001b[0;34m(*args, **kwargs)\u001b[0m\n\u001b[1;32m    123\u001b[0m                     \u001b[0;34m\" Please call it on the class type and make sure the return value is used.\"\u001b[0m\u001b[0;34m\u001b[0m\u001b[0;34m\u001b[0m\u001b[0m\n\u001b[1;32m    124\u001b[0m                 )\n\u001b[0;32m--> 125\u001b[0;31m             \u001b[0;32mreturn\u001b[0m \u001b[0mself\u001b[0m\u001b[0;34m.\u001b[0m\u001b[0mmethod\u001b[0m\u001b[0;34m(\u001b[0m\u001b[0mcls\u001b[0m\u001b[0;34m,\u001b[0m \u001b[0;34m*\u001b[0m\u001b[0margs\u001b[0m\u001b[0;34m,\u001b[0m \u001b[0;34m**\u001b[0m\u001b[0mkwargs\u001b[0m\u001b[0;34m)\u001b[0m\u001b[0;34m\u001b[0m\u001b[0;34m\u001b[0m\u001b[0m\n\u001b[0m\u001b[1;32m    126\u001b[0m \u001b[0;34m\u001b[0m\u001b[0m\n\u001b[1;32m    127\u001b[0m         \u001b[0;32mreturn\u001b[0m \u001b[0mwrapper\u001b[0m\u001b[0;34m\u001b[0m\u001b[0;34m\u001b[0m\u001b[0m\n",
            "\u001b[0;32m/usr/local/lib/python3.10/dist-packages/lightning/pytorch/core/module.py\u001b[0m in \u001b[0;36mload_from_checkpoint\u001b[0;34m(cls, checkpoint_path, map_location, hparams_file, strict, **kwargs)\u001b[0m\n\u001b[1;32m   1579\u001b[0m \u001b[0;34m\u001b[0m\u001b[0m\n\u001b[1;32m   1580\u001b[0m         \"\"\"\n\u001b[0;32m-> 1581\u001b[0;31m         loaded = _load_from_checkpoint(\n\u001b[0m\u001b[1;32m   1582\u001b[0m             \u001b[0mcls\u001b[0m\u001b[0;34m,\u001b[0m  \u001b[0;31m# type: ignore[arg-type]\u001b[0m\u001b[0;34m\u001b[0m\u001b[0;34m\u001b[0m\u001b[0m\n\u001b[1;32m   1583\u001b[0m             \u001b[0mcheckpoint_path\u001b[0m\u001b[0;34m,\u001b[0m\u001b[0;34m\u001b[0m\u001b[0;34m\u001b[0m\u001b[0m\n",
            "\u001b[0;32m/usr/local/lib/python3.10/dist-packages/lightning/pytorch/core/saving.py\u001b[0m in \u001b[0;36m_load_from_checkpoint\u001b[0;34m(cls, checkpoint_path, map_location, hparams_file, strict, **kwargs)\u001b[0m\n\u001b[1;32m     61\u001b[0m     \u001b[0mmap_location\u001b[0m \u001b[0;34m=\u001b[0m \u001b[0mmap_location\u001b[0m \u001b[0;32mor\u001b[0m \u001b[0m_default_map_location\u001b[0m\u001b[0;34m\u001b[0m\u001b[0;34m\u001b[0m\u001b[0m\n\u001b[1;32m     62\u001b[0m     \u001b[0;32mwith\u001b[0m \u001b[0mpl_legacy_patch\u001b[0m\u001b[0;34m(\u001b[0m\u001b[0;34m)\u001b[0m\u001b[0;34m:\u001b[0m\u001b[0;34m\u001b[0m\u001b[0;34m\u001b[0m\u001b[0m\n\u001b[0;32m---> 63\u001b[0;31m         \u001b[0mcheckpoint\u001b[0m \u001b[0;34m=\u001b[0m \u001b[0mpl_load\u001b[0m\u001b[0;34m(\u001b[0m\u001b[0mcheckpoint_path\u001b[0m\u001b[0;34m,\u001b[0m \u001b[0mmap_location\u001b[0m\u001b[0;34m=\u001b[0m\u001b[0mmap_location\u001b[0m\u001b[0;34m)\u001b[0m\u001b[0;34m\u001b[0m\u001b[0;34m\u001b[0m\u001b[0m\n\u001b[0m\u001b[1;32m     64\u001b[0m \u001b[0;34m\u001b[0m\u001b[0m\n\u001b[1;32m     65\u001b[0m     \u001b[0;31m# convert legacy checkpoints to the new format\u001b[0m\u001b[0;34m\u001b[0m\u001b[0;34m\u001b[0m\u001b[0m\n",
            "\u001b[0;32m/usr/local/lib/python3.10/dist-packages/lightning/fabric/utilities/cloud_io.py\u001b[0m in \u001b[0;36m_load\u001b[0;34m(path_or_url, map_location)\u001b[0m\n\u001b[1;32m     54\u001b[0m         )\n\u001b[1;32m     55\u001b[0m     \u001b[0mfs\u001b[0m \u001b[0;34m=\u001b[0m \u001b[0mget_filesystem\u001b[0m\u001b[0;34m(\u001b[0m\u001b[0mpath_or_url\u001b[0m\u001b[0;34m)\u001b[0m\u001b[0;34m\u001b[0m\u001b[0;34m\u001b[0m\u001b[0m\n\u001b[0;32m---> 56\u001b[0;31m     \u001b[0;32mwith\u001b[0m \u001b[0mfs\u001b[0m\u001b[0;34m.\u001b[0m\u001b[0mopen\u001b[0m\u001b[0;34m(\u001b[0m\u001b[0mpath_or_url\u001b[0m\u001b[0;34m,\u001b[0m \u001b[0;34m\"rb\"\u001b[0m\u001b[0;34m)\u001b[0m \u001b[0;32mas\u001b[0m \u001b[0mf\u001b[0m\u001b[0;34m:\u001b[0m\u001b[0;34m\u001b[0m\u001b[0;34m\u001b[0m\u001b[0m\n\u001b[0m\u001b[1;32m     57\u001b[0m         \u001b[0;32mreturn\u001b[0m \u001b[0mtorch\u001b[0m\u001b[0;34m.\u001b[0m\u001b[0mload\u001b[0m\u001b[0;34m(\u001b[0m\u001b[0mf\u001b[0m\u001b[0;34m,\u001b[0m \u001b[0mmap_location\u001b[0m\u001b[0;34m=\u001b[0m\u001b[0mmap_location\u001b[0m\u001b[0;34m)\u001b[0m  \u001b[0;31m# type: ignore[arg-type]\u001b[0m\u001b[0;34m\u001b[0m\u001b[0;34m\u001b[0m\u001b[0m\n\u001b[1;32m     58\u001b[0m \u001b[0;34m\u001b[0m\u001b[0m\n",
            "\u001b[0;32m/usr/local/lib/python3.10/dist-packages/fsspec/spec.py\u001b[0m in \u001b[0;36mopen\u001b[0;34m(self, path, mode, block_size, cache_options, compression, **kwargs)\u001b[0m\n\u001b[1;32m   1239\u001b[0m         \u001b[0;32melse\u001b[0m\u001b[0;34m:\u001b[0m\u001b[0;34m\u001b[0m\u001b[0;34m\u001b[0m\u001b[0m\n\u001b[1;32m   1240\u001b[0m             \u001b[0mac\u001b[0m \u001b[0;34m=\u001b[0m \u001b[0mkwargs\u001b[0m\u001b[0;34m.\u001b[0m\u001b[0mpop\u001b[0m\u001b[0;34m(\u001b[0m\u001b[0;34m\"autocommit\"\u001b[0m\u001b[0;34m,\u001b[0m \u001b[0;32mnot\u001b[0m \u001b[0mself\u001b[0m\u001b[0;34m.\u001b[0m\u001b[0m_intrans\u001b[0m\u001b[0;34m)\u001b[0m\u001b[0;34m\u001b[0m\u001b[0;34m\u001b[0m\u001b[0m\n\u001b[0;32m-> 1241\u001b[0;31m             f = self._open(\n\u001b[0m\u001b[1;32m   1242\u001b[0m                 \u001b[0mpath\u001b[0m\u001b[0;34m,\u001b[0m\u001b[0;34m\u001b[0m\u001b[0;34m\u001b[0m\u001b[0m\n\u001b[1;32m   1243\u001b[0m                 \u001b[0mmode\u001b[0m\u001b[0;34m=\u001b[0m\u001b[0mmode\u001b[0m\u001b[0;34m,\u001b[0m\u001b[0;34m\u001b[0m\u001b[0;34m\u001b[0m\u001b[0m\n",
            "\u001b[0;32m/usr/local/lib/python3.10/dist-packages/fsspec/implementations/local.py\u001b[0m in \u001b[0;36m_open\u001b[0;34m(self, path, mode, block_size, **kwargs)\u001b[0m\n\u001b[1;32m    182\u001b[0m         \u001b[0;32mif\u001b[0m \u001b[0mself\u001b[0m\u001b[0;34m.\u001b[0m\u001b[0mauto_mkdir\u001b[0m \u001b[0;32mand\u001b[0m \u001b[0;34m\"w\"\u001b[0m \u001b[0;32min\u001b[0m \u001b[0mmode\u001b[0m\u001b[0;34m:\u001b[0m\u001b[0;34m\u001b[0m\u001b[0;34m\u001b[0m\u001b[0m\n\u001b[1;32m    183\u001b[0m             \u001b[0mself\u001b[0m\u001b[0;34m.\u001b[0m\u001b[0mmakedirs\u001b[0m\u001b[0;34m(\u001b[0m\u001b[0mself\u001b[0m\u001b[0;34m.\u001b[0m\u001b[0m_parent\u001b[0m\u001b[0;34m(\u001b[0m\u001b[0mpath\u001b[0m\u001b[0;34m)\u001b[0m\u001b[0;34m,\u001b[0m \u001b[0mexist_ok\u001b[0m\u001b[0;34m=\u001b[0m\u001b[0;32mTrue\u001b[0m\u001b[0;34m)\u001b[0m\u001b[0;34m\u001b[0m\u001b[0;34m\u001b[0m\u001b[0m\n\u001b[0;32m--> 184\u001b[0;31m         \u001b[0;32mreturn\u001b[0m \u001b[0mLocalFileOpener\u001b[0m\u001b[0;34m(\u001b[0m\u001b[0mpath\u001b[0m\u001b[0;34m,\u001b[0m \u001b[0mmode\u001b[0m\u001b[0;34m,\u001b[0m \u001b[0mfs\u001b[0m\u001b[0;34m=\u001b[0m\u001b[0mself\u001b[0m\u001b[0;34m,\u001b[0m \u001b[0;34m**\u001b[0m\u001b[0mkwargs\u001b[0m\u001b[0;34m)\u001b[0m\u001b[0;34m\u001b[0m\u001b[0;34m\u001b[0m\u001b[0m\n\u001b[0m\u001b[1;32m    185\u001b[0m \u001b[0;34m\u001b[0m\u001b[0m\n\u001b[1;32m    186\u001b[0m     \u001b[0;32mdef\u001b[0m \u001b[0mtouch\u001b[0m\u001b[0;34m(\u001b[0m\u001b[0mself\u001b[0m\u001b[0;34m,\u001b[0m \u001b[0mpath\u001b[0m\u001b[0;34m,\u001b[0m \u001b[0mtruncate\u001b[0m\u001b[0;34m=\u001b[0m\u001b[0;32mTrue\u001b[0m\u001b[0;34m,\u001b[0m \u001b[0;34m**\u001b[0m\u001b[0mkwargs\u001b[0m\u001b[0;34m)\u001b[0m\u001b[0;34m:\u001b[0m\u001b[0;34m\u001b[0m\u001b[0;34m\u001b[0m\u001b[0m\n",
            "\u001b[0;32m/usr/local/lib/python3.10/dist-packages/fsspec/implementations/local.py\u001b[0m in \u001b[0;36m__init__\u001b[0;34m(self, path, mode, autocommit, fs, compression, **kwargs)\u001b[0m\n\u001b[1;32m    313\u001b[0m         \u001b[0mself\u001b[0m\u001b[0;34m.\u001b[0m\u001b[0mcompression\u001b[0m \u001b[0;34m=\u001b[0m \u001b[0mget_compression\u001b[0m\u001b[0;34m(\u001b[0m\u001b[0mpath\u001b[0m\u001b[0;34m,\u001b[0m \u001b[0mcompression\u001b[0m\u001b[0;34m)\u001b[0m\u001b[0;34m\u001b[0m\u001b[0;34m\u001b[0m\u001b[0m\n\u001b[1;32m    314\u001b[0m         \u001b[0mself\u001b[0m\u001b[0;34m.\u001b[0m\u001b[0mblocksize\u001b[0m \u001b[0;34m=\u001b[0m \u001b[0mio\u001b[0m\u001b[0;34m.\u001b[0m\u001b[0mDEFAULT_BUFFER_SIZE\u001b[0m\u001b[0;34m\u001b[0m\u001b[0;34m\u001b[0m\u001b[0m\n\u001b[0;32m--> 315\u001b[0;31m         \u001b[0mself\u001b[0m\u001b[0;34m.\u001b[0m\u001b[0m_open\u001b[0m\u001b[0;34m(\u001b[0m\u001b[0;34m)\u001b[0m\u001b[0;34m\u001b[0m\u001b[0;34m\u001b[0m\u001b[0m\n\u001b[0m\u001b[1;32m    316\u001b[0m \u001b[0;34m\u001b[0m\u001b[0m\n\u001b[1;32m    317\u001b[0m     \u001b[0;32mdef\u001b[0m \u001b[0m_open\u001b[0m\u001b[0;34m(\u001b[0m\u001b[0mself\u001b[0m\u001b[0;34m)\u001b[0m\u001b[0;34m:\u001b[0m\u001b[0;34m\u001b[0m\u001b[0;34m\u001b[0m\u001b[0m\n",
            "\u001b[0;32m/usr/local/lib/python3.10/dist-packages/fsspec/implementations/local.py\u001b[0m in \u001b[0;36m_open\u001b[0;34m(self)\u001b[0m\n\u001b[1;32m    318\u001b[0m         \u001b[0;32mif\u001b[0m \u001b[0mself\u001b[0m\u001b[0;34m.\u001b[0m\u001b[0mf\u001b[0m \u001b[0;32mis\u001b[0m \u001b[0;32mNone\u001b[0m \u001b[0;32mor\u001b[0m \u001b[0mself\u001b[0m\u001b[0;34m.\u001b[0m\u001b[0mf\u001b[0m\u001b[0;34m.\u001b[0m\u001b[0mclosed\u001b[0m\u001b[0;34m:\u001b[0m\u001b[0;34m\u001b[0m\u001b[0;34m\u001b[0m\u001b[0m\n\u001b[1;32m    319\u001b[0m             \u001b[0;32mif\u001b[0m \u001b[0mself\u001b[0m\u001b[0;34m.\u001b[0m\u001b[0mautocommit\u001b[0m \u001b[0;32mor\u001b[0m \u001b[0;34m\"w\"\u001b[0m \u001b[0;32mnot\u001b[0m \u001b[0;32min\u001b[0m \u001b[0mself\u001b[0m\u001b[0;34m.\u001b[0m\u001b[0mmode\u001b[0m\u001b[0;34m:\u001b[0m\u001b[0;34m\u001b[0m\u001b[0;34m\u001b[0m\u001b[0m\n\u001b[0;32m--> 320\u001b[0;31m                 \u001b[0mself\u001b[0m\u001b[0;34m.\u001b[0m\u001b[0mf\u001b[0m \u001b[0;34m=\u001b[0m \u001b[0mopen\u001b[0m\u001b[0;34m(\u001b[0m\u001b[0mself\u001b[0m\u001b[0;34m.\u001b[0m\u001b[0mpath\u001b[0m\u001b[0;34m,\u001b[0m \u001b[0mmode\u001b[0m\u001b[0;34m=\u001b[0m\u001b[0mself\u001b[0m\u001b[0;34m.\u001b[0m\u001b[0mmode\u001b[0m\u001b[0;34m)\u001b[0m\u001b[0;34m\u001b[0m\u001b[0;34m\u001b[0m\u001b[0m\n\u001b[0m\u001b[1;32m    321\u001b[0m                 \u001b[0;32mif\u001b[0m \u001b[0mself\u001b[0m\u001b[0;34m.\u001b[0m\u001b[0mcompression\u001b[0m\u001b[0;34m:\u001b[0m\u001b[0;34m\u001b[0m\u001b[0;34m\u001b[0m\u001b[0m\n\u001b[1;32m    322\u001b[0m                     \u001b[0mcompress\u001b[0m \u001b[0;34m=\u001b[0m \u001b[0mcompr\u001b[0m\u001b[0;34m[\u001b[0m\u001b[0mself\u001b[0m\u001b[0;34m.\u001b[0m\u001b[0mcompression\u001b[0m\u001b[0;34m]\u001b[0m\u001b[0;34m\u001b[0m\u001b[0;34m\u001b[0m\u001b[0m\n",
            "\u001b[0;31mFileNotFoundError\u001b[0m: [Errno 2] No such file or directory: '/content/trovailpoi/dnpotgxc/checkpoints/best_model.ckpt'"
          ]
        }
      ],
      "source": [
        "checkpoint_path = \"/content/trovailpoi/dnpotgxc/checkpoints/best_model.ckpt\"\n",
        "# Load the trained model from the checkpoint\n",
        "trained_model = HMT_RN.load_from_checkpoint(\n",
        "    checkpoint_path,\n",
        "    dimensions=dims,\n",
        "    embedding_dim=1024,  # Example embedding dimension\n",
        "    lstm_hidden_dim=1024,  # Example LSTM hidden dimension\n",
        "    dropout_rate=0.9,  # Example dropout rate\n",
        ")\n",
        "\n",
        "# Create a test dataloader\n",
        "# Assuming you have a method `test_dataloader` in your data module\n",
        "test_loader = ds.test_dataloader()  # Replace `ds` with your actual data module instance\n",
        "\n",
        "# Instantiate the trainer\n",
        "trainer = Trainer(accelerator=\"auto\", devices=[0])\n",
        "\n",
        "# Test the model\n",
        "results = trainer.test(trained_model, test_loader)\n",
        "\n",
        "# Print the test results\n",
        "print(results)"
      ]
    },
    {
      "cell_type": "markdown",
      "metadata": {
        "id": "ik7z0iyRCCyw"
      },
      "source": [
        "## Scrapbook for Experimentation\n",
        "\n",
        "Ignore all code below, it's just for quick prototyping"
      ]
    }
  ],
  "metadata": {
    "accelerator": "GPU",
    "colab": {
      "gpuType": "L4",
      "machine_shape": "hm",
      "provenance": []
    },
    "kaggle": {
      "accelerator": "nvidiaTeslaT4",
      "dataSources": [
        {
          "datasetId": 4985565,
          "sourceId": 8383172,
          "sourceType": "datasetVersion"
        }
      ],
      "dockerImageVersionId": 30699,
      "isGpuEnabled": true,
      "isInternetEnabled": true,
      "language": "python",
      "sourceType": "notebook"
    },
    "kernelspec": {
      "display_name": "Python 3",
      "name": "python3"
    },
    "language_info": {
      "codemirror_mode": {
        "name": "ipython",
        "version": 3
      },
      "file_extension": ".py",
      "mimetype": "text/x-python",
      "name": "python",
      "nbconvert_exporter": "python",
      "pygments_lexer": "ipython3",
      "version": "3.12.3"
    },
    "widgets": {
      "application/vnd.jupyter.widget-state+json": {
        "a5862298f67c46128ef9f31662a86117": {
          "model_module": "@jupyter-widgets/controls",
          "model_name": "VBoxModel",
          "model_module_version": "1.5.0",
          "state": {
            "_dom_classes": [],
            "_model_module": "@jupyter-widgets/controls",
            "_model_module_version": "1.5.0",
            "_model_name": "VBoxModel",
            "_view_count": null,
            "_view_module": "@jupyter-widgets/controls",
            "_view_module_version": "1.5.0",
            "_view_name": "VBoxView",
            "box_style": "",
            "children": [
              "IPY_MODEL_3a5b8168c42b40c886ae29bbccf3839b",
              "IPY_MODEL_d6684388acc2426c9ffcd20744923d59"
            ],
            "layout": "IPY_MODEL_daf9b5282d7847739cdf4dcd28fac31b"
          }
        },
        "3a5b8168c42b40c886ae29bbccf3839b": {
          "model_module": "@jupyter-widgets/controls",
          "model_name": "LabelModel",
          "model_module_version": "1.5.0",
          "state": {
            "_dom_classes": [],
            "_model_module": "@jupyter-widgets/controls",
            "_model_module_version": "1.5.0",
            "_model_name": "LabelModel",
            "_view_count": null,
            "_view_module": "@jupyter-widgets/controls",
            "_view_module_version": "1.5.0",
            "_view_name": "LabelView",
            "description": "",
            "description_tooltip": null,
            "layout": "IPY_MODEL_3576f9297aa541ae9e19885a4dba50c9",
            "placeholder": "​",
            "style": "IPY_MODEL_59bb8c6f18844efd88c2dbe164202df8",
            "value": "0.016 MB of 0.016 MB uploaded\r"
          }
        },
        "d6684388acc2426c9ffcd20744923d59": {
          "model_module": "@jupyter-widgets/controls",
          "model_name": "FloatProgressModel",
          "model_module_version": "1.5.0",
          "state": {
            "_dom_classes": [],
            "_model_module": "@jupyter-widgets/controls",
            "_model_module_version": "1.5.0",
            "_model_name": "FloatProgressModel",
            "_view_count": null,
            "_view_module": "@jupyter-widgets/controls",
            "_view_module_version": "1.5.0",
            "_view_name": "ProgressView",
            "bar_style": "",
            "description": "",
            "description_tooltip": null,
            "layout": "IPY_MODEL_b47cb7bfa5554e7ab594ca408cc49b56",
            "max": 1,
            "min": 0,
            "orientation": "horizontal",
            "style": "IPY_MODEL_3a98dba41e174ac9914657fe58e57c29",
            "value": 1
          }
        },
        "daf9b5282d7847739cdf4dcd28fac31b": {
          "model_module": "@jupyter-widgets/base",
          "model_name": "LayoutModel",
          "model_module_version": "1.2.0",
          "state": {
            "_model_module": "@jupyter-widgets/base",
            "_model_module_version": "1.2.0",
            "_model_name": "LayoutModel",
            "_view_count": null,
            "_view_module": "@jupyter-widgets/base",
            "_view_module_version": "1.2.0",
            "_view_name": "LayoutView",
            "align_content": null,
            "align_items": null,
            "align_self": null,
            "border": null,
            "bottom": null,
            "display": null,
            "flex": null,
            "flex_flow": null,
            "grid_area": null,
            "grid_auto_columns": null,
            "grid_auto_flow": null,
            "grid_auto_rows": null,
            "grid_column": null,
            "grid_gap": null,
            "grid_row": null,
            "grid_template_areas": null,
            "grid_template_columns": null,
            "grid_template_rows": null,
            "height": null,
            "justify_content": null,
            "justify_items": null,
            "left": null,
            "margin": null,
            "max_height": null,
            "max_width": null,
            "min_height": null,
            "min_width": null,
            "object_fit": null,
            "object_position": null,
            "order": null,
            "overflow": null,
            "overflow_x": null,
            "overflow_y": null,
            "padding": null,
            "right": null,
            "top": null,
            "visibility": null,
            "width": null
          }
        },
        "3576f9297aa541ae9e19885a4dba50c9": {
          "model_module": "@jupyter-widgets/base",
          "model_name": "LayoutModel",
          "model_module_version": "1.2.0",
          "state": {
            "_model_module": "@jupyter-widgets/base",
            "_model_module_version": "1.2.0",
            "_model_name": "LayoutModel",
            "_view_count": null,
            "_view_module": "@jupyter-widgets/base",
            "_view_module_version": "1.2.0",
            "_view_name": "LayoutView",
            "align_content": null,
            "align_items": null,
            "align_self": null,
            "border": null,
            "bottom": null,
            "display": null,
            "flex": null,
            "flex_flow": null,
            "grid_area": null,
            "grid_auto_columns": null,
            "grid_auto_flow": null,
            "grid_auto_rows": null,
            "grid_column": null,
            "grid_gap": null,
            "grid_row": null,
            "grid_template_areas": null,
            "grid_template_columns": null,
            "grid_template_rows": null,
            "height": null,
            "justify_content": null,
            "justify_items": null,
            "left": null,
            "margin": null,
            "max_height": null,
            "max_width": null,
            "min_height": null,
            "min_width": null,
            "object_fit": null,
            "object_position": null,
            "order": null,
            "overflow": null,
            "overflow_x": null,
            "overflow_y": null,
            "padding": null,
            "right": null,
            "top": null,
            "visibility": null,
            "width": null
          }
        },
        "59bb8c6f18844efd88c2dbe164202df8": {
          "model_module": "@jupyter-widgets/controls",
          "model_name": "DescriptionStyleModel",
          "model_module_version": "1.5.0",
          "state": {
            "_model_module": "@jupyter-widgets/controls",
            "_model_module_version": "1.5.0",
            "_model_name": "DescriptionStyleModel",
            "_view_count": null,
            "_view_module": "@jupyter-widgets/base",
            "_view_module_version": "1.2.0",
            "_view_name": "StyleView",
            "description_width": ""
          }
        },
        "b47cb7bfa5554e7ab594ca408cc49b56": {
          "model_module": "@jupyter-widgets/base",
          "model_name": "LayoutModel",
          "model_module_version": "1.2.0",
          "state": {
            "_model_module": "@jupyter-widgets/base",
            "_model_module_version": "1.2.0",
            "_model_name": "LayoutModel",
            "_view_count": null,
            "_view_module": "@jupyter-widgets/base",
            "_view_module_version": "1.2.0",
            "_view_name": "LayoutView",
            "align_content": null,
            "align_items": null,
            "align_self": null,
            "border": null,
            "bottom": null,
            "display": null,
            "flex": null,
            "flex_flow": null,
            "grid_area": null,
            "grid_auto_columns": null,
            "grid_auto_flow": null,
            "grid_auto_rows": null,
            "grid_column": null,
            "grid_gap": null,
            "grid_row": null,
            "grid_template_areas": null,
            "grid_template_columns": null,
            "grid_template_rows": null,
            "height": null,
            "justify_content": null,
            "justify_items": null,
            "left": null,
            "margin": null,
            "max_height": null,
            "max_width": null,
            "min_height": null,
            "min_width": null,
            "object_fit": null,
            "object_position": null,
            "order": null,
            "overflow": null,
            "overflow_x": null,
            "overflow_y": null,
            "padding": null,
            "right": null,
            "top": null,
            "visibility": null,
            "width": null
          }
        },
        "3a98dba41e174ac9914657fe58e57c29": {
          "model_module": "@jupyter-widgets/controls",
          "model_name": "ProgressStyleModel",
          "model_module_version": "1.5.0",
          "state": {
            "_model_module": "@jupyter-widgets/controls",
            "_model_module_version": "1.5.0",
            "_model_name": "ProgressStyleModel",
            "_view_count": null,
            "_view_module": "@jupyter-widgets/base",
            "_view_module_version": "1.2.0",
            "_view_name": "StyleView",
            "bar_color": null,
            "description_width": ""
          }
        },
        "d6c28318b963465c919df38a1bc54b1b": {
          "model_module": "@jupyter-widgets/controls",
          "model_name": "HBoxModel",
          "model_module_version": "1.5.0",
          "state": {
            "_dom_classes": [],
            "_model_module": "@jupyter-widgets/controls",
            "_model_module_version": "1.5.0",
            "_model_name": "HBoxModel",
            "_view_count": null,
            "_view_module": "@jupyter-widgets/controls",
            "_view_module_version": "1.5.0",
            "_view_name": "HBoxView",
            "box_style": "",
            "children": [
              "IPY_MODEL_906468e403284d9fa0b26489ad79a55d",
              "IPY_MODEL_5f7ee1b08aa548bc89413d98af3613ab",
              "IPY_MODEL_cb414bbbacaa4afc9efce333f1195481"
            ],
            "layout": "IPY_MODEL_b13aba3bfbd5488abed6b1ff428ec27a"
          }
        },
        "906468e403284d9fa0b26489ad79a55d": {
          "model_module": "@jupyter-widgets/controls",
          "model_name": "HTMLModel",
          "model_module_version": "1.5.0",
          "state": {
            "_dom_classes": [],
            "_model_module": "@jupyter-widgets/controls",
            "_model_module_version": "1.5.0",
            "_model_name": "HTMLModel",
            "_view_count": null,
            "_view_module": "@jupyter-widgets/controls",
            "_view_module_version": "1.5.0",
            "_view_name": "HTMLView",
            "description": "",
            "description_tooltip": null,
            "layout": "IPY_MODEL_8e22576e09ed4d38815a0fa6dd53234f",
            "placeholder": "​",
            "style": "IPY_MODEL_b696aa78c88a492ebe7b75ad1e61ac65",
            "value": "Sanity Checking DataLoader 0: 100%"
          }
        },
        "5f7ee1b08aa548bc89413d98af3613ab": {
          "model_module": "@jupyter-widgets/controls",
          "model_name": "FloatProgressModel",
          "model_module_version": "1.5.0",
          "state": {
            "_dom_classes": [],
            "_model_module": "@jupyter-widgets/controls",
            "_model_module_version": "1.5.0",
            "_model_name": "FloatProgressModel",
            "_view_count": null,
            "_view_module": "@jupyter-widgets/controls",
            "_view_module_version": "1.5.0",
            "_view_name": "ProgressView",
            "bar_style": "",
            "description": "",
            "description_tooltip": null,
            "layout": "IPY_MODEL_a6f6edd383614dffa26c0ce6f1acbad2",
            "max": 2,
            "min": 0,
            "orientation": "horizontal",
            "style": "IPY_MODEL_1906922e79ac4963a1bd8e2d3fee2f9c",
            "value": 2
          }
        },
        "cb414bbbacaa4afc9efce333f1195481": {
          "model_module": "@jupyter-widgets/controls",
          "model_name": "HTMLModel",
          "model_module_version": "1.5.0",
          "state": {
            "_dom_classes": [],
            "_model_module": "@jupyter-widgets/controls",
            "_model_module_version": "1.5.0",
            "_model_name": "HTMLModel",
            "_view_count": null,
            "_view_module": "@jupyter-widgets/controls",
            "_view_module_version": "1.5.0",
            "_view_name": "HTMLView",
            "description": "",
            "description_tooltip": null,
            "layout": "IPY_MODEL_28df7044e1154be788bce42806cb7112",
            "placeholder": "​",
            "style": "IPY_MODEL_829ae26b3d40476abfe6dd3a0dd53a00",
            "value": " 2/2 [00:00&lt;00:00,  5.22it/s]"
          }
        },
        "b13aba3bfbd5488abed6b1ff428ec27a": {
          "model_module": "@jupyter-widgets/base",
          "model_name": "LayoutModel",
          "model_module_version": "1.2.0",
          "state": {
            "_model_module": "@jupyter-widgets/base",
            "_model_module_version": "1.2.0",
            "_model_name": "LayoutModel",
            "_view_count": null,
            "_view_module": "@jupyter-widgets/base",
            "_view_module_version": "1.2.0",
            "_view_name": "LayoutView",
            "align_content": null,
            "align_items": null,
            "align_self": null,
            "border": null,
            "bottom": null,
            "display": "inline-flex",
            "flex": null,
            "flex_flow": "row wrap",
            "grid_area": null,
            "grid_auto_columns": null,
            "grid_auto_flow": null,
            "grid_auto_rows": null,
            "grid_column": null,
            "grid_gap": null,
            "grid_row": null,
            "grid_template_areas": null,
            "grid_template_columns": null,
            "grid_template_rows": null,
            "height": null,
            "justify_content": null,
            "justify_items": null,
            "left": null,
            "margin": null,
            "max_height": null,
            "max_width": null,
            "min_height": null,
            "min_width": null,
            "object_fit": null,
            "object_position": null,
            "order": null,
            "overflow": null,
            "overflow_x": null,
            "overflow_y": null,
            "padding": null,
            "right": null,
            "top": null,
            "visibility": "hidden",
            "width": "100%"
          }
        },
        "8e22576e09ed4d38815a0fa6dd53234f": {
          "model_module": "@jupyter-widgets/base",
          "model_name": "LayoutModel",
          "model_module_version": "1.2.0",
          "state": {
            "_model_module": "@jupyter-widgets/base",
            "_model_module_version": "1.2.0",
            "_model_name": "LayoutModel",
            "_view_count": null,
            "_view_module": "@jupyter-widgets/base",
            "_view_module_version": "1.2.0",
            "_view_name": "LayoutView",
            "align_content": null,
            "align_items": null,
            "align_self": null,
            "border": null,
            "bottom": null,
            "display": null,
            "flex": null,
            "flex_flow": null,
            "grid_area": null,
            "grid_auto_columns": null,
            "grid_auto_flow": null,
            "grid_auto_rows": null,
            "grid_column": null,
            "grid_gap": null,
            "grid_row": null,
            "grid_template_areas": null,
            "grid_template_columns": null,
            "grid_template_rows": null,
            "height": null,
            "justify_content": null,
            "justify_items": null,
            "left": null,
            "margin": null,
            "max_height": null,
            "max_width": null,
            "min_height": null,
            "min_width": null,
            "object_fit": null,
            "object_position": null,
            "order": null,
            "overflow": null,
            "overflow_x": null,
            "overflow_y": null,
            "padding": null,
            "right": null,
            "top": null,
            "visibility": null,
            "width": null
          }
        },
        "b696aa78c88a492ebe7b75ad1e61ac65": {
          "model_module": "@jupyter-widgets/controls",
          "model_name": "DescriptionStyleModel",
          "model_module_version": "1.5.0",
          "state": {
            "_model_module": "@jupyter-widgets/controls",
            "_model_module_version": "1.5.0",
            "_model_name": "DescriptionStyleModel",
            "_view_count": null,
            "_view_module": "@jupyter-widgets/base",
            "_view_module_version": "1.2.0",
            "_view_name": "StyleView",
            "description_width": ""
          }
        },
        "a6f6edd383614dffa26c0ce6f1acbad2": {
          "model_module": "@jupyter-widgets/base",
          "model_name": "LayoutModel",
          "model_module_version": "1.2.0",
          "state": {
            "_model_module": "@jupyter-widgets/base",
            "_model_module_version": "1.2.0",
            "_model_name": "LayoutModel",
            "_view_count": null,
            "_view_module": "@jupyter-widgets/base",
            "_view_module_version": "1.2.0",
            "_view_name": "LayoutView",
            "align_content": null,
            "align_items": null,
            "align_self": null,
            "border": null,
            "bottom": null,
            "display": null,
            "flex": "2",
            "flex_flow": null,
            "grid_area": null,
            "grid_auto_columns": null,
            "grid_auto_flow": null,
            "grid_auto_rows": null,
            "grid_column": null,
            "grid_gap": null,
            "grid_row": null,
            "grid_template_areas": null,
            "grid_template_columns": null,
            "grid_template_rows": null,
            "height": null,
            "justify_content": null,
            "justify_items": null,
            "left": null,
            "margin": null,
            "max_height": null,
            "max_width": null,
            "min_height": null,
            "min_width": null,
            "object_fit": null,
            "object_position": null,
            "order": null,
            "overflow": null,
            "overflow_x": null,
            "overflow_y": null,
            "padding": null,
            "right": null,
            "top": null,
            "visibility": null,
            "width": null
          }
        },
        "1906922e79ac4963a1bd8e2d3fee2f9c": {
          "model_module": "@jupyter-widgets/controls",
          "model_name": "ProgressStyleModel",
          "model_module_version": "1.5.0",
          "state": {
            "_model_module": "@jupyter-widgets/controls",
            "_model_module_version": "1.5.0",
            "_model_name": "ProgressStyleModel",
            "_view_count": null,
            "_view_module": "@jupyter-widgets/base",
            "_view_module_version": "1.2.0",
            "_view_name": "StyleView",
            "bar_color": null,
            "description_width": ""
          }
        },
        "28df7044e1154be788bce42806cb7112": {
          "model_module": "@jupyter-widgets/base",
          "model_name": "LayoutModel",
          "model_module_version": "1.2.0",
          "state": {
            "_model_module": "@jupyter-widgets/base",
            "_model_module_version": "1.2.0",
            "_model_name": "LayoutModel",
            "_view_count": null,
            "_view_module": "@jupyter-widgets/base",
            "_view_module_version": "1.2.0",
            "_view_name": "LayoutView",
            "align_content": null,
            "align_items": null,
            "align_self": null,
            "border": null,
            "bottom": null,
            "display": null,
            "flex": null,
            "flex_flow": null,
            "grid_area": null,
            "grid_auto_columns": null,
            "grid_auto_flow": null,
            "grid_auto_rows": null,
            "grid_column": null,
            "grid_gap": null,
            "grid_row": null,
            "grid_template_areas": null,
            "grid_template_columns": null,
            "grid_template_rows": null,
            "height": null,
            "justify_content": null,
            "justify_items": null,
            "left": null,
            "margin": null,
            "max_height": null,
            "max_width": null,
            "min_height": null,
            "min_width": null,
            "object_fit": null,
            "object_position": null,
            "order": null,
            "overflow": null,
            "overflow_x": null,
            "overflow_y": null,
            "padding": null,
            "right": null,
            "top": null,
            "visibility": null,
            "width": null
          }
        },
        "829ae26b3d40476abfe6dd3a0dd53a00": {
          "model_module": "@jupyter-widgets/controls",
          "model_name": "DescriptionStyleModel",
          "model_module_version": "1.5.0",
          "state": {
            "_model_module": "@jupyter-widgets/controls",
            "_model_module_version": "1.5.0",
            "_model_name": "DescriptionStyleModel",
            "_view_count": null,
            "_view_module": "@jupyter-widgets/base",
            "_view_module_version": "1.2.0",
            "_view_name": "StyleView",
            "description_width": ""
          }
        },
        "8ea12a23ffa342e7ae06b3fffb9b7fc6": {
          "model_module": "@jupyter-widgets/controls",
          "model_name": "HBoxModel",
          "model_module_version": "1.5.0",
          "state": {
            "_dom_classes": [],
            "_model_module": "@jupyter-widgets/controls",
            "_model_module_version": "1.5.0",
            "_model_name": "HBoxModel",
            "_view_count": null,
            "_view_module": "@jupyter-widgets/controls",
            "_view_module_version": "1.5.0",
            "_view_name": "HBoxView",
            "box_style": "",
            "children": [
              "IPY_MODEL_b4d5c74e18e04bd2a2de40c1bffe4a8d",
              "IPY_MODEL_7f0a6555e3c449c8a92f55f62a9307a4",
              "IPY_MODEL_ef4a63c97d41476997a0c6ada35318a2"
            ],
            "layout": "IPY_MODEL_b53b3b4871ae4ca7a2c51d723a6a0b41"
          }
        },
        "b4d5c74e18e04bd2a2de40c1bffe4a8d": {
          "model_module": "@jupyter-widgets/controls",
          "model_name": "HTMLModel",
          "model_module_version": "1.5.0",
          "state": {
            "_dom_classes": [],
            "_model_module": "@jupyter-widgets/controls",
            "_model_module_version": "1.5.0",
            "_model_name": "HTMLModel",
            "_view_count": null,
            "_view_module": "@jupyter-widgets/controls",
            "_view_module_version": "1.5.0",
            "_view_name": "HTMLView",
            "description": "",
            "description_tooltip": null,
            "layout": "IPY_MODEL_3f96b97227c6490f8a571457892ba532",
            "placeholder": "​",
            "style": "IPY_MODEL_dee1c7a0026049f4982d8b3beef575ca",
            "value": "Epoch 9: 100%"
          }
        },
        "7f0a6555e3c449c8a92f55f62a9307a4": {
          "model_module": "@jupyter-widgets/controls",
          "model_name": "FloatProgressModel",
          "model_module_version": "1.5.0",
          "state": {
            "_dom_classes": [],
            "_model_module": "@jupyter-widgets/controls",
            "_model_module_version": "1.5.0",
            "_model_name": "FloatProgressModel",
            "_view_count": null,
            "_view_module": "@jupyter-widgets/controls",
            "_view_module_version": "1.5.0",
            "_view_name": "ProgressView",
            "bar_style": "success",
            "description": "",
            "description_tooltip": null,
            "layout": "IPY_MODEL_50c315fe535c4f2b9d579bf727b7b439",
            "max": 377,
            "min": 0,
            "orientation": "horizontal",
            "style": "IPY_MODEL_aec0cb7948724d2e9b5ee2ad70805472",
            "value": 377
          }
        },
        "ef4a63c97d41476997a0c6ada35318a2": {
          "model_module": "@jupyter-widgets/controls",
          "model_name": "HTMLModel",
          "model_module_version": "1.5.0",
          "state": {
            "_dom_classes": [],
            "_model_module": "@jupyter-widgets/controls",
            "_model_module_version": "1.5.0",
            "_model_name": "HTMLModel",
            "_view_count": null,
            "_view_module": "@jupyter-widgets/controls",
            "_view_module_version": "1.5.0",
            "_view_name": "HTMLView",
            "description": "",
            "description_tooltip": null,
            "layout": "IPY_MODEL_2884968b4e4c4574a9c7caae0d220aaf",
            "placeholder": "​",
            "style": "IPY_MODEL_01cbe8ddbe574086ad00bb212af2ceb0",
            "value": " 377/377 [00:24&lt;00:00, 15.18it/s, v_num=x4bj]"
          }
        },
        "b53b3b4871ae4ca7a2c51d723a6a0b41": {
          "model_module": "@jupyter-widgets/base",
          "model_name": "LayoutModel",
          "model_module_version": "1.2.0",
          "state": {
            "_model_module": "@jupyter-widgets/base",
            "_model_module_version": "1.2.0",
            "_model_name": "LayoutModel",
            "_view_count": null,
            "_view_module": "@jupyter-widgets/base",
            "_view_module_version": "1.2.0",
            "_view_name": "LayoutView",
            "align_content": null,
            "align_items": null,
            "align_self": null,
            "border": null,
            "bottom": null,
            "display": "inline-flex",
            "flex": null,
            "flex_flow": "row wrap",
            "grid_area": null,
            "grid_auto_columns": null,
            "grid_auto_flow": null,
            "grid_auto_rows": null,
            "grid_column": null,
            "grid_gap": null,
            "grid_row": null,
            "grid_template_areas": null,
            "grid_template_columns": null,
            "grid_template_rows": null,
            "height": null,
            "justify_content": null,
            "justify_items": null,
            "left": null,
            "margin": null,
            "max_height": null,
            "max_width": null,
            "min_height": null,
            "min_width": null,
            "object_fit": null,
            "object_position": null,
            "order": null,
            "overflow": null,
            "overflow_x": null,
            "overflow_y": null,
            "padding": null,
            "right": null,
            "top": null,
            "visibility": null,
            "width": "100%"
          }
        },
        "3f96b97227c6490f8a571457892ba532": {
          "model_module": "@jupyter-widgets/base",
          "model_name": "LayoutModel",
          "model_module_version": "1.2.0",
          "state": {
            "_model_module": "@jupyter-widgets/base",
            "_model_module_version": "1.2.0",
            "_model_name": "LayoutModel",
            "_view_count": null,
            "_view_module": "@jupyter-widgets/base",
            "_view_module_version": "1.2.0",
            "_view_name": "LayoutView",
            "align_content": null,
            "align_items": null,
            "align_self": null,
            "border": null,
            "bottom": null,
            "display": null,
            "flex": null,
            "flex_flow": null,
            "grid_area": null,
            "grid_auto_columns": null,
            "grid_auto_flow": null,
            "grid_auto_rows": null,
            "grid_column": null,
            "grid_gap": null,
            "grid_row": null,
            "grid_template_areas": null,
            "grid_template_columns": null,
            "grid_template_rows": null,
            "height": null,
            "justify_content": null,
            "justify_items": null,
            "left": null,
            "margin": null,
            "max_height": null,
            "max_width": null,
            "min_height": null,
            "min_width": null,
            "object_fit": null,
            "object_position": null,
            "order": null,
            "overflow": null,
            "overflow_x": null,
            "overflow_y": null,
            "padding": null,
            "right": null,
            "top": null,
            "visibility": null,
            "width": null
          }
        },
        "dee1c7a0026049f4982d8b3beef575ca": {
          "model_module": "@jupyter-widgets/controls",
          "model_name": "DescriptionStyleModel",
          "model_module_version": "1.5.0",
          "state": {
            "_model_module": "@jupyter-widgets/controls",
            "_model_module_version": "1.5.0",
            "_model_name": "DescriptionStyleModel",
            "_view_count": null,
            "_view_module": "@jupyter-widgets/base",
            "_view_module_version": "1.2.0",
            "_view_name": "StyleView",
            "description_width": ""
          }
        },
        "50c315fe535c4f2b9d579bf727b7b439": {
          "model_module": "@jupyter-widgets/base",
          "model_name": "LayoutModel",
          "model_module_version": "1.2.0",
          "state": {
            "_model_module": "@jupyter-widgets/base",
            "_model_module_version": "1.2.0",
            "_model_name": "LayoutModel",
            "_view_count": null,
            "_view_module": "@jupyter-widgets/base",
            "_view_module_version": "1.2.0",
            "_view_name": "LayoutView",
            "align_content": null,
            "align_items": null,
            "align_self": null,
            "border": null,
            "bottom": null,
            "display": null,
            "flex": "2",
            "flex_flow": null,
            "grid_area": null,
            "grid_auto_columns": null,
            "grid_auto_flow": null,
            "grid_auto_rows": null,
            "grid_column": null,
            "grid_gap": null,
            "grid_row": null,
            "grid_template_areas": null,
            "grid_template_columns": null,
            "grid_template_rows": null,
            "height": null,
            "justify_content": null,
            "justify_items": null,
            "left": null,
            "margin": null,
            "max_height": null,
            "max_width": null,
            "min_height": null,
            "min_width": null,
            "object_fit": null,
            "object_position": null,
            "order": null,
            "overflow": null,
            "overflow_x": null,
            "overflow_y": null,
            "padding": null,
            "right": null,
            "top": null,
            "visibility": null,
            "width": null
          }
        },
        "aec0cb7948724d2e9b5ee2ad70805472": {
          "model_module": "@jupyter-widgets/controls",
          "model_name": "ProgressStyleModel",
          "model_module_version": "1.5.0",
          "state": {
            "_model_module": "@jupyter-widgets/controls",
            "_model_module_version": "1.5.0",
            "_model_name": "ProgressStyleModel",
            "_view_count": null,
            "_view_module": "@jupyter-widgets/base",
            "_view_module_version": "1.2.0",
            "_view_name": "StyleView",
            "bar_color": null,
            "description_width": ""
          }
        },
        "2884968b4e4c4574a9c7caae0d220aaf": {
          "model_module": "@jupyter-widgets/base",
          "model_name": "LayoutModel",
          "model_module_version": "1.2.0",
          "state": {
            "_model_module": "@jupyter-widgets/base",
            "_model_module_version": "1.2.0",
            "_model_name": "LayoutModel",
            "_view_count": null,
            "_view_module": "@jupyter-widgets/base",
            "_view_module_version": "1.2.0",
            "_view_name": "LayoutView",
            "align_content": null,
            "align_items": null,
            "align_self": null,
            "border": null,
            "bottom": null,
            "display": null,
            "flex": null,
            "flex_flow": null,
            "grid_area": null,
            "grid_auto_columns": null,
            "grid_auto_flow": null,
            "grid_auto_rows": null,
            "grid_column": null,
            "grid_gap": null,
            "grid_row": null,
            "grid_template_areas": null,
            "grid_template_columns": null,
            "grid_template_rows": null,
            "height": null,
            "justify_content": null,
            "justify_items": null,
            "left": null,
            "margin": null,
            "max_height": null,
            "max_width": null,
            "min_height": null,
            "min_width": null,
            "object_fit": null,
            "object_position": null,
            "order": null,
            "overflow": null,
            "overflow_x": null,
            "overflow_y": null,
            "padding": null,
            "right": null,
            "top": null,
            "visibility": null,
            "width": null
          }
        },
        "01cbe8ddbe574086ad00bb212af2ceb0": {
          "model_module": "@jupyter-widgets/controls",
          "model_name": "DescriptionStyleModel",
          "model_module_version": "1.5.0",
          "state": {
            "_model_module": "@jupyter-widgets/controls",
            "_model_module_version": "1.5.0",
            "_model_name": "DescriptionStyleModel",
            "_view_count": null,
            "_view_module": "@jupyter-widgets/base",
            "_view_module_version": "1.2.0",
            "_view_name": "StyleView",
            "description_width": ""
          }
        },
        "556700f5b34142df8a9c948ff9689981": {
          "model_module": "@jupyter-widgets/controls",
          "model_name": "HBoxModel",
          "model_module_version": "1.5.0",
          "state": {
            "_dom_classes": [],
            "_model_module": "@jupyter-widgets/controls",
            "_model_module_version": "1.5.0",
            "_model_name": "HBoxModel",
            "_view_count": null,
            "_view_module": "@jupyter-widgets/controls",
            "_view_module_version": "1.5.0",
            "_view_name": "HBoxView",
            "box_style": "",
            "children": [
              "IPY_MODEL_76bf04b4622648e0bf01b8e9269d3120",
              "IPY_MODEL_23d3d2172a79472786163af36e7410df",
              "IPY_MODEL_b2da2b3aef5a4dbea84e3f34bfa569cb"
            ],
            "layout": "IPY_MODEL_1ae5edb390fd41cba20c12fa98781051"
          }
        },
        "76bf04b4622648e0bf01b8e9269d3120": {
          "model_module": "@jupyter-widgets/controls",
          "model_name": "HTMLModel",
          "model_module_version": "1.5.0",
          "state": {
            "_dom_classes": [],
            "_model_module": "@jupyter-widgets/controls",
            "_model_module_version": "1.5.0",
            "_model_name": "HTMLModel",
            "_view_count": null,
            "_view_module": "@jupyter-widgets/controls",
            "_view_module_version": "1.5.0",
            "_view_name": "HTMLView",
            "description": "",
            "description_tooltip": null,
            "layout": "IPY_MODEL_8bf4d7c5616d4946873898fd3f598c6b",
            "placeholder": "​",
            "style": "IPY_MODEL_872e3b5a27714d64a97fdb57ee9f0b12",
            "value": "Validation DataLoader 0: 100%"
          }
        },
        "23d3d2172a79472786163af36e7410df": {
          "model_module": "@jupyter-widgets/controls",
          "model_name": "FloatProgressModel",
          "model_module_version": "1.5.0",
          "state": {
            "_dom_classes": [],
            "_model_module": "@jupyter-widgets/controls",
            "_model_module_version": "1.5.0",
            "_model_name": "FloatProgressModel",
            "_view_count": null,
            "_view_module": "@jupyter-widgets/controls",
            "_view_module_version": "1.5.0",
            "_view_name": "ProgressView",
            "bar_style": "",
            "description": "",
            "description_tooltip": null,
            "layout": "IPY_MODEL_6351e89262ce42239d36e29e4ef06a25",
            "max": 377,
            "min": 0,
            "orientation": "horizontal",
            "style": "IPY_MODEL_bf00fac1893a4731b8e4598c92512473",
            "value": 377
          }
        },
        "b2da2b3aef5a4dbea84e3f34bfa569cb": {
          "model_module": "@jupyter-widgets/controls",
          "model_name": "HTMLModel",
          "model_module_version": "1.5.0",
          "state": {
            "_dom_classes": [],
            "_model_module": "@jupyter-widgets/controls",
            "_model_module_version": "1.5.0",
            "_model_name": "HTMLModel",
            "_view_count": null,
            "_view_module": "@jupyter-widgets/controls",
            "_view_module_version": "1.5.0",
            "_view_name": "HTMLView",
            "description": "",
            "description_tooltip": null,
            "layout": "IPY_MODEL_4b86a5cbb2e443fcbfc79048fb05e0fe",
            "placeholder": "​",
            "style": "IPY_MODEL_63c83a8f34fa4eeba55dbfd4ab7fa3e3",
            "value": " 377/377 [00:05&lt;00:00, 74.23it/s]"
          }
        },
        "1ae5edb390fd41cba20c12fa98781051": {
          "model_module": "@jupyter-widgets/base",
          "model_name": "LayoutModel",
          "model_module_version": "1.2.0",
          "state": {
            "_model_module": "@jupyter-widgets/base",
            "_model_module_version": "1.2.0",
            "_model_name": "LayoutModel",
            "_view_count": null,
            "_view_module": "@jupyter-widgets/base",
            "_view_module_version": "1.2.0",
            "_view_name": "LayoutView",
            "align_content": null,
            "align_items": null,
            "align_self": null,
            "border": null,
            "bottom": null,
            "display": "inline-flex",
            "flex": null,
            "flex_flow": "row wrap",
            "grid_area": null,
            "grid_auto_columns": null,
            "grid_auto_flow": null,
            "grid_auto_rows": null,
            "grid_column": null,
            "grid_gap": null,
            "grid_row": null,
            "grid_template_areas": null,
            "grid_template_columns": null,
            "grid_template_rows": null,
            "height": null,
            "justify_content": null,
            "justify_items": null,
            "left": null,
            "margin": null,
            "max_height": null,
            "max_width": null,
            "min_height": null,
            "min_width": null,
            "object_fit": null,
            "object_position": null,
            "order": null,
            "overflow": null,
            "overflow_x": null,
            "overflow_y": null,
            "padding": null,
            "right": null,
            "top": null,
            "visibility": "hidden",
            "width": "100%"
          }
        },
        "8bf4d7c5616d4946873898fd3f598c6b": {
          "model_module": "@jupyter-widgets/base",
          "model_name": "LayoutModel",
          "model_module_version": "1.2.0",
          "state": {
            "_model_module": "@jupyter-widgets/base",
            "_model_module_version": "1.2.0",
            "_model_name": "LayoutModel",
            "_view_count": null,
            "_view_module": "@jupyter-widgets/base",
            "_view_module_version": "1.2.0",
            "_view_name": "LayoutView",
            "align_content": null,
            "align_items": null,
            "align_self": null,
            "border": null,
            "bottom": null,
            "display": null,
            "flex": null,
            "flex_flow": null,
            "grid_area": null,
            "grid_auto_columns": null,
            "grid_auto_flow": null,
            "grid_auto_rows": null,
            "grid_column": null,
            "grid_gap": null,
            "grid_row": null,
            "grid_template_areas": null,
            "grid_template_columns": null,
            "grid_template_rows": null,
            "height": null,
            "justify_content": null,
            "justify_items": null,
            "left": null,
            "margin": null,
            "max_height": null,
            "max_width": null,
            "min_height": null,
            "min_width": null,
            "object_fit": null,
            "object_position": null,
            "order": null,
            "overflow": null,
            "overflow_x": null,
            "overflow_y": null,
            "padding": null,
            "right": null,
            "top": null,
            "visibility": null,
            "width": null
          }
        },
        "872e3b5a27714d64a97fdb57ee9f0b12": {
          "model_module": "@jupyter-widgets/controls",
          "model_name": "DescriptionStyleModel",
          "model_module_version": "1.5.0",
          "state": {
            "_model_module": "@jupyter-widgets/controls",
            "_model_module_version": "1.5.0",
            "_model_name": "DescriptionStyleModel",
            "_view_count": null,
            "_view_module": "@jupyter-widgets/base",
            "_view_module_version": "1.2.0",
            "_view_name": "StyleView",
            "description_width": ""
          }
        },
        "6351e89262ce42239d36e29e4ef06a25": {
          "model_module": "@jupyter-widgets/base",
          "model_name": "LayoutModel",
          "model_module_version": "1.2.0",
          "state": {
            "_model_module": "@jupyter-widgets/base",
            "_model_module_version": "1.2.0",
            "_model_name": "LayoutModel",
            "_view_count": null,
            "_view_module": "@jupyter-widgets/base",
            "_view_module_version": "1.2.0",
            "_view_name": "LayoutView",
            "align_content": null,
            "align_items": null,
            "align_self": null,
            "border": null,
            "bottom": null,
            "display": null,
            "flex": "2",
            "flex_flow": null,
            "grid_area": null,
            "grid_auto_columns": null,
            "grid_auto_flow": null,
            "grid_auto_rows": null,
            "grid_column": null,
            "grid_gap": null,
            "grid_row": null,
            "grid_template_areas": null,
            "grid_template_columns": null,
            "grid_template_rows": null,
            "height": null,
            "justify_content": null,
            "justify_items": null,
            "left": null,
            "margin": null,
            "max_height": null,
            "max_width": null,
            "min_height": null,
            "min_width": null,
            "object_fit": null,
            "object_position": null,
            "order": null,
            "overflow": null,
            "overflow_x": null,
            "overflow_y": null,
            "padding": null,
            "right": null,
            "top": null,
            "visibility": null,
            "width": null
          }
        },
        "bf00fac1893a4731b8e4598c92512473": {
          "model_module": "@jupyter-widgets/controls",
          "model_name": "ProgressStyleModel",
          "model_module_version": "1.5.0",
          "state": {
            "_model_module": "@jupyter-widgets/controls",
            "_model_module_version": "1.5.0",
            "_model_name": "ProgressStyleModel",
            "_view_count": null,
            "_view_module": "@jupyter-widgets/base",
            "_view_module_version": "1.2.0",
            "_view_name": "StyleView",
            "bar_color": null,
            "description_width": ""
          }
        },
        "4b86a5cbb2e443fcbfc79048fb05e0fe": {
          "model_module": "@jupyter-widgets/base",
          "model_name": "LayoutModel",
          "model_module_version": "1.2.0",
          "state": {
            "_model_module": "@jupyter-widgets/base",
            "_model_module_version": "1.2.0",
            "_model_name": "LayoutModel",
            "_view_count": null,
            "_view_module": "@jupyter-widgets/base",
            "_view_module_version": "1.2.0",
            "_view_name": "LayoutView",
            "align_content": null,
            "align_items": null,
            "align_self": null,
            "border": null,
            "bottom": null,
            "display": null,
            "flex": null,
            "flex_flow": null,
            "grid_area": null,
            "grid_auto_columns": null,
            "grid_auto_flow": null,
            "grid_auto_rows": null,
            "grid_column": null,
            "grid_gap": null,
            "grid_row": null,
            "grid_template_areas": null,
            "grid_template_columns": null,
            "grid_template_rows": null,
            "height": null,
            "justify_content": null,
            "justify_items": null,
            "left": null,
            "margin": null,
            "max_height": null,
            "max_width": null,
            "min_height": null,
            "min_width": null,
            "object_fit": null,
            "object_position": null,
            "order": null,
            "overflow": null,
            "overflow_x": null,
            "overflow_y": null,
            "padding": null,
            "right": null,
            "top": null,
            "visibility": null,
            "width": null
          }
        },
        "63c83a8f34fa4eeba55dbfd4ab7fa3e3": {
          "model_module": "@jupyter-widgets/controls",
          "model_name": "DescriptionStyleModel",
          "model_module_version": "1.5.0",
          "state": {
            "_model_module": "@jupyter-widgets/controls",
            "_model_module_version": "1.5.0",
            "_model_name": "DescriptionStyleModel",
            "_view_count": null,
            "_view_module": "@jupyter-widgets/base",
            "_view_module_version": "1.2.0",
            "_view_name": "StyleView",
            "description_width": ""
          }
        },
        "b6f4f87c67db4cf48c676939c113614a": {
          "model_module": "@jupyter-widgets/controls",
          "model_name": "HBoxModel",
          "model_module_version": "1.5.0",
          "state": {
            "_dom_classes": [],
            "_model_module": "@jupyter-widgets/controls",
            "_model_module_version": "1.5.0",
            "_model_name": "HBoxModel",
            "_view_count": null,
            "_view_module": "@jupyter-widgets/controls",
            "_view_module_version": "1.5.0",
            "_view_name": "HBoxView",
            "box_style": "",
            "children": [
              "IPY_MODEL_825fa3aa6bb14d2a9584816b70d2062f",
              "IPY_MODEL_b3bb0061936c4bdbbf196341d9516e1a",
              "IPY_MODEL_6631593faac745079a704475af9e0cd9"
            ],
            "layout": "IPY_MODEL_89ec065f686b463a960a780ecdf14a42"
          }
        },
        "825fa3aa6bb14d2a9584816b70d2062f": {
          "model_module": "@jupyter-widgets/controls",
          "model_name": "HTMLModel",
          "model_module_version": "1.5.0",
          "state": {
            "_dom_classes": [],
            "_model_module": "@jupyter-widgets/controls",
            "_model_module_version": "1.5.0",
            "_model_name": "HTMLModel",
            "_view_count": null,
            "_view_module": "@jupyter-widgets/controls",
            "_view_module_version": "1.5.0",
            "_view_name": "HTMLView",
            "description": "",
            "description_tooltip": null,
            "layout": "IPY_MODEL_f54da5c46f4c4664b7d275300105f0a7",
            "placeholder": "​",
            "style": "IPY_MODEL_9a208d2e2f4c46f086246bf0a51f0dd5",
            "value": "Validation DataLoader 0: 100%"
          }
        },
        "b3bb0061936c4bdbbf196341d9516e1a": {
          "model_module": "@jupyter-widgets/controls",
          "model_name": "FloatProgressModel",
          "model_module_version": "1.5.0",
          "state": {
            "_dom_classes": [],
            "_model_module": "@jupyter-widgets/controls",
            "_model_module_version": "1.5.0",
            "_model_name": "FloatProgressModel",
            "_view_count": null,
            "_view_module": "@jupyter-widgets/controls",
            "_view_module_version": "1.5.0",
            "_view_name": "ProgressView",
            "bar_style": "",
            "description": "",
            "description_tooltip": null,
            "layout": "IPY_MODEL_33a3f67f80e34b7a9598b4be2a327d9b",
            "max": 377,
            "min": 0,
            "orientation": "horizontal",
            "style": "IPY_MODEL_092afd150ad44e49be66f3130bf21ab5",
            "value": 377
          }
        },
        "6631593faac745079a704475af9e0cd9": {
          "model_module": "@jupyter-widgets/controls",
          "model_name": "HTMLModel",
          "model_module_version": "1.5.0",
          "state": {
            "_dom_classes": [],
            "_model_module": "@jupyter-widgets/controls",
            "_model_module_version": "1.5.0",
            "_model_name": "HTMLModel",
            "_view_count": null,
            "_view_module": "@jupyter-widgets/controls",
            "_view_module_version": "1.5.0",
            "_view_name": "HTMLView",
            "description": "",
            "description_tooltip": null,
            "layout": "IPY_MODEL_ada58dce8c2f4d5a8e3b2e734c60ae74",
            "placeholder": "​",
            "style": "IPY_MODEL_0b8c5e1c303942c9b93a16f617050036",
            "value": " 377/377 [00:05&lt;00:00, 73.44it/s]"
          }
        },
        "89ec065f686b463a960a780ecdf14a42": {
          "model_module": "@jupyter-widgets/base",
          "model_name": "LayoutModel",
          "model_module_version": "1.2.0",
          "state": {
            "_model_module": "@jupyter-widgets/base",
            "_model_module_version": "1.2.0",
            "_model_name": "LayoutModel",
            "_view_count": null,
            "_view_module": "@jupyter-widgets/base",
            "_view_module_version": "1.2.0",
            "_view_name": "LayoutView",
            "align_content": null,
            "align_items": null,
            "align_self": null,
            "border": null,
            "bottom": null,
            "display": "inline-flex",
            "flex": null,
            "flex_flow": "row wrap",
            "grid_area": null,
            "grid_auto_columns": null,
            "grid_auto_flow": null,
            "grid_auto_rows": null,
            "grid_column": null,
            "grid_gap": null,
            "grid_row": null,
            "grid_template_areas": null,
            "grid_template_columns": null,
            "grid_template_rows": null,
            "height": null,
            "justify_content": null,
            "justify_items": null,
            "left": null,
            "margin": null,
            "max_height": null,
            "max_width": null,
            "min_height": null,
            "min_width": null,
            "object_fit": null,
            "object_position": null,
            "order": null,
            "overflow": null,
            "overflow_x": null,
            "overflow_y": null,
            "padding": null,
            "right": null,
            "top": null,
            "visibility": "hidden",
            "width": "100%"
          }
        },
        "f54da5c46f4c4664b7d275300105f0a7": {
          "model_module": "@jupyter-widgets/base",
          "model_name": "LayoutModel",
          "model_module_version": "1.2.0",
          "state": {
            "_model_module": "@jupyter-widgets/base",
            "_model_module_version": "1.2.0",
            "_model_name": "LayoutModel",
            "_view_count": null,
            "_view_module": "@jupyter-widgets/base",
            "_view_module_version": "1.2.0",
            "_view_name": "LayoutView",
            "align_content": null,
            "align_items": null,
            "align_self": null,
            "border": null,
            "bottom": null,
            "display": null,
            "flex": null,
            "flex_flow": null,
            "grid_area": null,
            "grid_auto_columns": null,
            "grid_auto_flow": null,
            "grid_auto_rows": null,
            "grid_column": null,
            "grid_gap": null,
            "grid_row": null,
            "grid_template_areas": null,
            "grid_template_columns": null,
            "grid_template_rows": null,
            "height": null,
            "justify_content": null,
            "justify_items": null,
            "left": null,
            "margin": null,
            "max_height": null,
            "max_width": null,
            "min_height": null,
            "min_width": null,
            "object_fit": null,
            "object_position": null,
            "order": null,
            "overflow": null,
            "overflow_x": null,
            "overflow_y": null,
            "padding": null,
            "right": null,
            "top": null,
            "visibility": null,
            "width": null
          }
        },
        "9a208d2e2f4c46f086246bf0a51f0dd5": {
          "model_module": "@jupyter-widgets/controls",
          "model_name": "DescriptionStyleModel",
          "model_module_version": "1.5.0",
          "state": {
            "_model_module": "@jupyter-widgets/controls",
            "_model_module_version": "1.5.0",
            "_model_name": "DescriptionStyleModel",
            "_view_count": null,
            "_view_module": "@jupyter-widgets/base",
            "_view_module_version": "1.2.0",
            "_view_name": "StyleView",
            "description_width": ""
          }
        },
        "33a3f67f80e34b7a9598b4be2a327d9b": {
          "model_module": "@jupyter-widgets/base",
          "model_name": "LayoutModel",
          "model_module_version": "1.2.0",
          "state": {
            "_model_module": "@jupyter-widgets/base",
            "_model_module_version": "1.2.0",
            "_model_name": "LayoutModel",
            "_view_count": null,
            "_view_module": "@jupyter-widgets/base",
            "_view_module_version": "1.2.0",
            "_view_name": "LayoutView",
            "align_content": null,
            "align_items": null,
            "align_self": null,
            "border": null,
            "bottom": null,
            "display": null,
            "flex": "2",
            "flex_flow": null,
            "grid_area": null,
            "grid_auto_columns": null,
            "grid_auto_flow": null,
            "grid_auto_rows": null,
            "grid_column": null,
            "grid_gap": null,
            "grid_row": null,
            "grid_template_areas": null,
            "grid_template_columns": null,
            "grid_template_rows": null,
            "height": null,
            "justify_content": null,
            "justify_items": null,
            "left": null,
            "margin": null,
            "max_height": null,
            "max_width": null,
            "min_height": null,
            "min_width": null,
            "object_fit": null,
            "object_position": null,
            "order": null,
            "overflow": null,
            "overflow_x": null,
            "overflow_y": null,
            "padding": null,
            "right": null,
            "top": null,
            "visibility": null,
            "width": null
          }
        },
        "092afd150ad44e49be66f3130bf21ab5": {
          "model_module": "@jupyter-widgets/controls",
          "model_name": "ProgressStyleModel",
          "model_module_version": "1.5.0",
          "state": {
            "_model_module": "@jupyter-widgets/controls",
            "_model_module_version": "1.5.0",
            "_model_name": "ProgressStyleModel",
            "_view_count": null,
            "_view_module": "@jupyter-widgets/base",
            "_view_module_version": "1.2.0",
            "_view_name": "StyleView",
            "bar_color": null,
            "description_width": ""
          }
        },
        "ada58dce8c2f4d5a8e3b2e734c60ae74": {
          "model_module": "@jupyter-widgets/base",
          "model_name": "LayoutModel",
          "model_module_version": "1.2.0",
          "state": {
            "_model_module": "@jupyter-widgets/base",
            "_model_module_version": "1.2.0",
            "_model_name": "LayoutModel",
            "_view_count": null,
            "_view_module": "@jupyter-widgets/base",
            "_view_module_version": "1.2.0",
            "_view_name": "LayoutView",
            "align_content": null,
            "align_items": null,
            "align_self": null,
            "border": null,
            "bottom": null,
            "display": null,
            "flex": null,
            "flex_flow": null,
            "grid_area": null,
            "grid_auto_columns": null,
            "grid_auto_flow": null,
            "grid_auto_rows": null,
            "grid_column": null,
            "grid_gap": null,
            "grid_row": null,
            "grid_template_areas": null,
            "grid_template_columns": null,
            "grid_template_rows": null,
            "height": null,
            "justify_content": null,
            "justify_items": null,
            "left": null,
            "margin": null,
            "max_height": null,
            "max_width": null,
            "min_height": null,
            "min_width": null,
            "object_fit": null,
            "object_position": null,
            "order": null,
            "overflow": null,
            "overflow_x": null,
            "overflow_y": null,
            "padding": null,
            "right": null,
            "top": null,
            "visibility": null,
            "width": null
          }
        },
        "0b8c5e1c303942c9b93a16f617050036": {
          "model_module": "@jupyter-widgets/controls",
          "model_name": "DescriptionStyleModel",
          "model_module_version": "1.5.0",
          "state": {
            "_model_module": "@jupyter-widgets/controls",
            "_model_module_version": "1.5.0",
            "_model_name": "DescriptionStyleModel",
            "_view_count": null,
            "_view_module": "@jupyter-widgets/base",
            "_view_module_version": "1.2.0",
            "_view_name": "StyleView",
            "description_width": ""
          }
        },
        "110bd5e9208d4241a81c5cf361595b70": {
          "model_module": "@jupyter-widgets/controls",
          "model_name": "HBoxModel",
          "model_module_version": "1.5.0",
          "state": {
            "_dom_classes": [],
            "_model_module": "@jupyter-widgets/controls",
            "_model_module_version": "1.5.0",
            "_model_name": "HBoxModel",
            "_view_count": null,
            "_view_module": "@jupyter-widgets/controls",
            "_view_module_version": "1.5.0",
            "_view_name": "HBoxView",
            "box_style": "",
            "children": [
              "IPY_MODEL_07de2988ac1a4afb9fbce430307c85ea",
              "IPY_MODEL_207ef2806ca2415b862bc0005a0bb891",
              "IPY_MODEL_45bdc6a54ddd4811a5064e8e389e876c"
            ],
            "layout": "IPY_MODEL_7891ca426c4447f094e0e669da8111d9"
          }
        },
        "07de2988ac1a4afb9fbce430307c85ea": {
          "model_module": "@jupyter-widgets/controls",
          "model_name": "HTMLModel",
          "model_module_version": "1.5.0",
          "state": {
            "_dom_classes": [],
            "_model_module": "@jupyter-widgets/controls",
            "_model_module_version": "1.5.0",
            "_model_name": "HTMLModel",
            "_view_count": null,
            "_view_module": "@jupyter-widgets/controls",
            "_view_module_version": "1.5.0",
            "_view_name": "HTMLView",
            "description": "",
            "description_tooltip": null,
            "layout": "IPY_MODEL_043abb27427e4de18556e34f90a93a50",
            "placeholder": "​",
            "style": "IPY_MODEL_ccf6142ef5fc45ad8e7e7e494ac626d4",
            "value": "Validation DataLoader 0: 100%"
          }
        },
        "207ef2806ca2415b862bc0005a0bb891": {
          "model_module": "@jupyter-widgets/controls",
          "model_name": "FloatProgressModel",
          "model_module_version": "1.5.0",
          "state": {
            "_dom_classes": [],
            "_model_module": "@jupyter-widgets/controls",
            "_model_module_version": "1.5.0",
            "_model_name": "FloatProgressModel",
            "_view_count": null,
            "_view_module": "@jupyter-widgets/controls",
            "_view_module_version": "1.5.0",
            "_view_name": "ProgressView",
            "bar_style": "",
            "description": "",
            "description_tooltip": null,
            "layout": "IPY_MODEL_f9d834eb05144ba49540773f27ea27df",
            "max": 377,
            "min": 0,
            "orientation": "horizontal",
            "style": "IPY_MODEL_ba088c61fa43458182549325abf1b4b0",
            "value": 377
          }
        },
        "45bdc6a54ddd4811a5064e8e389e876c": {
          "model_module": "@jupyter-widgets/controls",
          "model_name": "HTMLModel",
          "model_module_version": "1.5.0",
          "state": {
            "_dom_classes": [],
            "_model_module": "@jupyter-widgets/controls",
            "_model_module_version": "1.5.0",
            "_model_name": "HTMLModel",
            "_view_count": null,
            "_view_module": "@jupyter-widgets/controls",
            "_view_module_version": "1.5.0",
            "_view_name": "HTMLView",
            "description": "",
            "description_tooltip": null,
            "layout": "IPY_MODEL_274bdfc4103e4d9c9d2250c449bd0aab",
            "placeholder": "​",
            "style": "IPY_MODEL_98e7d3dcdb0b4fd5b53623cb528e5b99",
            "value": " 377/377 [00:05&lt;00:00, 73.65it/s]"
          }
        },
        "7891ca426c4447f094e0e669da8111d9": {
          "model_module": "@jupyter-widgets/base",
          "model_name": "LayoutModel",
          "model_module_version": "1.2.0",
          "state": {
            "_model_module": "@jupyter-widgets/base",
            "_model_module_version": "1.2.0",
            "_model_name": "LayoutModel",
            "_view_count": null,
            "_view_module": "@jupyter-widgets/base",
            "_view_module_version": "1.2.0",
            "_view_name": "LayoutView",
            "align_content": null,
            "align_items": null,
            "align_self": null,
            "border": null,
            "bottom": null,
            "display": "inline-flex",
            "flex": null,
            "flex_flow": "row wrap",
            "grid_area": null,
            "grid_auto_columns": null,
            "grid_auto_flow": null,
            "grid_auto_rows": null,
            "grid_column": null,
            "grid_gap": null,
            "grid_row": null,
            "grid_template_areas": null,
            "grid_template_columns": null,
            "grid_template_rows": null,
            "height": null,
            "justify_content": null,
            "justify_items": null,
            "left": null,
            "margin": null,
            "max_height": null,
            "max_width": null,
            "min_height": null,
            "min_width": null,
            "object_fit": null,
            "object_position": null,
            "order": null,
            "overflow": null,
            "overflow_x": null,
            "overflow_y": null,
            "padding": null,
            "right": null,
            "top": null,
            "visibility": "hidden",
            "width": "100%"
          }
        },
        "043abb27427e4de18556e34f90a93a50": {
          "model_module": "@jupyter-widgets/base",
          "model_name": "LayoutModel",
          "model_module_version": "1.2.0",
          "state": {
            "_model_module": "@jupyter-widgets/base",
            "_model_module_version": "1.2.0",
            "_model_name": "LayoutModel",
            "_view_count": null,
            "_view_module": "@jupyter-widgets/base",
            "_view_module_version": "1.2.0",
            "_view_name": "LayoutView",
            "align_content": null,
            "align_items": null,
            "align_self": null,
            "border": null,
            "bottom": null,
            "display": null,
            "flex": null,
            "flex_flow": null,
            "grid_area": null,
            "grid_auto_columns": null,
            "grid_auto_flow": null,
            "grid_auto_rows": null,
            "grid_column": null,
            "grid_gap": null,
            "grid_row": null,
            "grid_template_areas": null,
            "grid_template_columns": null,
            "grid_template_rows": null,
            "height": null,
            "justify_content": null,
            "justify_items": null,
            "left": null,
            "margin": null,
            "max_height": null,
            "max_width": null,
            "min_height": null,
            "min_width": null,
            "object_fit": null,
            "object_position": null,
            "order": null,
            "overflow": null,
            "overflow_x": null,
            "overflow_y": null,
            "padding": null,
            "right": null,
            "top": null,
            "visibility": null,
            "width": null
          }
        },
        "ccf6142ef5fc45ad8e7e7e494ac626d4": {
          "model_module": "@jupyter-widgets/controls",
          "model_name": "DescriptionStyleModel",
          "model_module_version": "1.5.0",
          "state": {
            "_model_module": "@jupyter-widgets/controls",
            "_model_module_version": "1.5.0",
            "_model_name": "DescriptionStyleModel",
            "_view_count": null,
            "_view_module": "@jupyter-widgets/base",
            "_view_module_version": "1.2.0",
            "_view_name": "StyleView",
            "description_width": ""
          }
        },
        "f9d834eb05144ba49540773f27ea27df": {
          "model_module": "@jupyter-widgets/base",
          "model_name": "LayoutModel",
          "model_module_version": "1.2.0",
          "state": {
            "_model_module": "@jupyter-widgets/base",
            "_model_module_version": "1.2.0",
            "_model_name": "LayoutModel",
            "_view_count": null,
            "_view_module": "@jupyter-widgets/base",
            "_view_module_version": "1.2.0",
            "_view_name": "LayoutView",
            "align_content": null,
            "align_items": null,
            "align_self": null,
            "border": null,
            "bottom": null,
            "display": null,
            "flex": "2",
            "flex_flow": null,
            "grid_area": null,
            "grid_auto_columns": null,
            "grid_auto_flow": null,
            "grid_auto_rows": null,
            "grid_column": null,
            "grid_gap": null,
            "grid_row": null,
            "grid_template_areas": null,
            "grid_template_columns": null,
            "grid_template_rows": null,
            "height": null,
            "justify_content": null,
            "justify_items": null,
            "left": null,
            "margin": null,
            "max_height": null,
            "max_width": null,
            "min_height": null,
            "min_width": null,
            "object_fit": null,
            "object_position": null,
            "order": null,
            "overflow": null,
            "overflow_x": null,
            "overflow_y": null,
            "padding": null,
            "right": null,
            "top": null,
            "visibility": null,
            "width": null
          }
        },
        "ba088c61fa43458182549325abf1b4b0": {
          "model_module": "@jupyter-widgets/controls",
          "model_name": "ProgressStyleModel",
          "model_module_version": "1.5.0",
          "state": {
            "_model_module": "@jupyter-widgets/controls",
            "_model_module_version": "1.5.0",
            "_model_name": "ProgressStyleModel",
            "_view_count": null,
            "_view_module": "@jupyter-widgets/base",
            "_view_module_version": "1.2.0",
            "_view_name": "StyleView",
            "bar_color": null,
            "description_width": ""
          }
        },
        "274bdfc4103e4d9c9d2250c449bd0aab": {
          "model_module": "@jupyter-widgets/base",
          "model_name": "LayoutModel",
          "model_module_version": "1.2.0",
          "state": {
            "_model_module": "@jupyter-widgets/base",
            "_model_module_version": "1.2.0",
            "_model_name": "LayoutModel",
            "_view_count": null,
            "_view_module": "@jupyter-widgets/base",
            "_view_module_version": "1.2.0",
            "_view_name": "LayoutView",
            "align_content": null,
            "align_items": null,
            "align_self": null,
            "border": null,
            "bottom": null,
            "display": null,
            "flex": null,
            "flex_flow": null,
            "grid_area": null,
            "grid_auto_columns": null,
            "grid_auto_flow": null,
            "grid_auto_rows": null,
            "grid_column": null,
            "grid_gap": null,
            "grid_row": null,
            "grid_template_areas": null,
            "grid_template_columns": null,
            "grid_template_rows": null,
            "height": null,
            "justify_content": null,
            "justify_items": null,
            "left": null,
            "margin": null,
            "max_height": null,
            "max_width": null,
            "min_height": null,
            "min_width": null,
            "object_fit": null,
            "object_position": null,
            "order": null,
            "overflow": null,
            "overflow_x": null,
            "overflow_y": null,
            "padding": null,
            "right": null,
            "top": null,
            "visibility": null,
            "width": null
          }
        },
        "98e7d3dcdb0b4fd5b53623cb528e5b99": {
          "model_module": "@jupyter-widgets/controls",
          "model_name": "DescriptionStyleModel",
          "model_module_version": "1.5.0",
          "state": {
            "_model_module": "@jupyter-widgets/controls",
            "_model_module_version": "1.5.0",
            "_model_name": "DescriptionStyleModel",
            "_view_count": null,
            "_view_module": "@jupyter-widgets/base",
            "_view_module_version": "1.2.0",
            "_view_name": "StyleView",
            "description_width": ""
          }
        },
        "0430969f37514e5c95a8f0006562f95f": {
          "model_module": "@jupyter-widgets/controls",
          "model_name": "HBoxModel",
          "model_module_version": "1.5.0",
          "state": {
            "_dom_classes": [],
            "_model_module": "@jupyter-widgets/controls",
            "_model_module_version": "1.5.0",
            "_model_name": "HBoxModel",
            "_view_count": null,
            "_view_module": "@jupyter-widgets/controls",
            "_view_module_version": "1.5.0",
            "_view_name": "HBoxView",
            "box_style": "",
            "children": [
              "IPY_MODEL_fc7b196b87ee487ca962c50f8e095afa",
              "IPY_MODEL_7a3e467dd1ec41b7bba275dd1c7adf37",
              "IPY_MODEL_7832aa2416894b5fabfc32f620481a33"
            ],
            "layout": "IPY_MODEL_a46856d63f934a2fa2c506b5b5d50233"
          }
        },
        "fc7b196b87ee487ca962c50f8e095afa": {
          "model_module": "@jupyter-widgets/controls",
          "model_name": "HTMLModel",
          "model_module_version": "1.5.0",
          "state": {
            "_dom_classes": [],
            "_model_module": "@jupyter-widgets/controls",
            "_model_module_version": "1.5.0",
            "_model_name": "HTMLModel",
            "_view_count": null,
            "_view_module": "@jupyter-widgets/controls",
            "_view_module_version": "1.5.0",
            "_view_name": "HTMLView",
            "description": "",
            "description_tooltip": null,
            "layout": "IPY_MODEL_343eef5aab48485b8222a6b85632f731",
            "placeholder": "​",
            "style": "IPY_MODEL_8e1eebe2825d4f238d7efdac786de3eb",
            "value": "Validation DataLoader 0: 100%"
          }
        },
        "7a3e467dd1ec41b7bba275dd1c7adf37": {
          "model_module": "@jupyter-widgets/controls",
          "model_name": "FloatProgressModel",
          "model_module_version": "1.5.0",
          "state": {
            "_dom_classes": [],
            "_model_module": "@jupyter-widgets/controls",
            "_model_module_version": "1.5.0",
            "_model_name": "FloatProgressModel",
            "_view_count": null,
            "_view_module": "@jupyter-widgets/controls",
            "_view_module_version": "1.5.0",
            "_view_name": "ProgressView",
            "bar_style": "",
            "description": "",
            "description_tooltip": null,
            "layout": "IPY_MODEL_8019ded5452b4de696725dc2c91d6243",
            "max": 377,
            "min": 0,
            "orientation": "horizontal",
            "style": "IPY_MODEL_98cf9adef1d34d91b7bd33107babff3c",
            "value": 377
          }
        },
        "7832aa2416894b5fabfc32f620481a33": {
          "model_module": "@jupyter-widgets/controls",
          "model_name": "HTMLModel",
          "model_module_version": "1.5.0",
          "state": {
            "_dom_classes": [],
            "_model_module": "@jupyter-widgets/controls",
            "_model_module_version": "1.5.0",
            "_model_name": "HTMLModel",
            "_view_count": null,
            "_view_module": "@jupyter-widgets/controls",
            "_view_module_version": "1.5.0",
            "_view_name": "HTMLView",
            "description": "",
            "description_tooltip": null,
            "layout": "IPY_MODEL_32070e2789da4280b62fa40595549974",
            "placeholder": "​",
            "style": "IPY_MODEL_9ae5678446b54583b833c567dbf5f49f",
            "value": " 377/377 [00:05&lt;00:00, 72.91it/s]"
          }
        },
        "a46856d63f934a2fa2c506b5b5d50233": {
          "model_module": "@jupyter-widgets/base",
          "model_name": "LayoutModel",
          "model_module_version": "1.2.0",
          "state": {
            "_model_module": "@jupyter-widgets/base",
            "_model_module_version": "1.2.0",
            "_model_name": "LayoutModel",
            "_view_count": null,
            "_view_module": "@jupyter-widgets/base",
            "_view_module_version": "1.2.0",
            "_view_name": "LayoutView",
            "align_content": null,
            "align_items": null,
            "align_self": null,
            "border": null,
            "bottom": null,
            "display": "inline-flex",
            "flex": null,
            "flex_flow": "row wrap",
            "grid_area": null,
            "grid_auto_columns": null,
            "grid_auto_flow": null,
            "grid_auto_rows": null,
            "grid_column": null,
            "grid_gap": null,
            "grid_row": null,
            "grid_template_areas": null,
            "grid_template_columns": null,
            "grid_template_rows": null,
            "height": null,
            "justify_content": null,
            "justify_items": null,
            "left": null,
            "margin": null,
            "max_height": null,
            "max_width": null,
            "min_height": null,
            "min_width": null,
            "object_fit": null,
            "object_position": null,
            "order": null,
            "overflow": null,
            "overflow_x": null,
            "overflow_y": null,
            "padding": null,
            "right": null,
            "top": null,
            "visibility": "hidden",
            "width": "100%"
          }
        },
        "343eef5aab48485b8222a6b85632f731": {
          "model_module": "@jupyter-widgets/base",
          "model_name": "LayoutModel",
          "model_module_version": "1.2.0",
          "state": {
            "_model_module": "@jupyter-widgets/base",
            "_model_module_version": "1.2.0",
            "_model_name": "LayoutModel",
            "_view_count": null,
            "_view_module": "@jupyter-widgets/base",
            "_view_module_version": "1.2.0",
            "_view_name": "LayoutView",
            "align_content": null,
            "align_items": null,
            "align_self": null,
            "border": null,
            "bottom": null,
            "display": null,
            "flex": null,
            "flex_flow": null,
            "grid_area": null,
            "grid_auto_columns": null,
            "grid_auto_flow": null,
            "grid_auto_rows": null,
            "grid_column": null,
            "grid_gap": null,
            "grid_row": null,
            "grid_template_areas": null,
            "grid_template_columns": null,
            "grid_template_rows": null,
            "height": null,
            "justify_content": null,
            "justify_items": null,
            "left": null,
            "margin": null,
            "max_height": null,
            "max_width": null,
            "min_height": null,
            "min_width": null,
            "object_fit": null,
            "object_position": null,
            "order": null,
            "overflow": null,
            "overflow_x": null,
            "overflow_y": null,
            "padding": null,
            "right": null,
            "top": null,
            "visibility": null,
            "width": null
          }
        },
        "8e1eebe2825d4f238d7efdac786de3eb": {
          "model_module": "@jupyter-widgets/controls",
          "model_name": "DescriptionStyleModel",
          "model_module_version": "1.5.0",
          "state": {
            "_model_module": "@jupyter-widgets/controls",
            "_model_module_version": "1.5.0",
            "_model_name": "DescriptionStyleModel",
            "_view_count": null,
            "_view_module": "@jupyter-widgets/base",
            "_view_module_version": "1.2.0",
            "_view_name": "StyleView",
            "description_width": ""
          }
        },
        "8019ded5452b4de696725dc2c91d6243": {
          "model_module": "@jupyter-widgets/base",
          "model_name": "LayoutModel",
          "model_module_version": "1.2.0",
          "state": {
            "_model_module": "@jupyter-widgets/base",
            "_model_module_version": "1.2.0",
            "_model_name": "LayoutModel",
            "_view_count": null,
            "_view_module": "@jupyter-widgets/base",
            "_view_module_version": "1.2.0",
            "_view_name": "LayoutView",
            "align_content": null,
            "align_items": null,
            "align_self": null,
            "border": null,
            "bottom": null,
            "display": null,
            "flex": "2",
            "flex_flow": null,
            "grid_area": null,
            "grid_auto_columns": null,
            "grid_auto_flow": null,
            "grid_auto_rows": null,
            "grid_column": null,
            "grid_gap": null,
            "grid_row": null,
            "grid_template_areas": null,
            "grid_template_columns": null,
            "grid_template_rows": null,
            "height": null,
            "justify_content": null,
            "justify_items": null,
            "left": null,
            "margin": null,
            "max_height": null,
            "max_width": null,
            "min_height": null,
            "min_width": null,
            "object_fit": null,
            "object_position": null,
            "order": null,
            "overflow": null,
            "overflow_x": null,
            "overflow_y": null,
            "padding": null,
            "right": null,
            "top": null,
            "visibility": null,
            "width": null
          }
        },
        "98cf9adef1d34d91b7bd33107babff3c": {
          "model_module": "@jupyter-widgets/controls",
          "model_name": "ProgressStyleModel",
          "model_module_version": "1.5.0",
          "state": {
            "_model_module": "@jupyter-widgets/controls",
            "_model_module_version": "1.5.0",
            "_model_name": "ProgressStyleModel",
            "_view_count": null,
            "_view_module": "@jupyter-widgets/base",
            "_view_module_version": "1.2.0",
            "_view_name": "StyleView",
            "bar_color": null,
            "description_width": ""
          }
        },
        "32070e2789da4280b62fa40595549974": {
          "model_module": "@jupyter-widgets/base",
          "model_name": "LayoutModel",
          "model_module_version": "1.2.0",
          "state": {
            "_model_module": "@jupyter-widgets/base",
            "_model_module_version": "1.2.0",
            "_model_name": "LayoutModel",
            "_view_count": null,
            "_view_module": "@jupyter-widgets/base",
            "_view_module_version": "1.2.0",
            "_view_name": "LayoutView",
            "align_content": null,
            "align_items": null,
            "align_self": null,
            "border": null,
            "bottom": null,
            "display": null,
            "flex": null,
            "flex_flow": null,
            "grid_area": null,
            "grid_auto_columns": null,
            "grid_auto_flow": null,
            "grid_auto_rows": null,
            "grid_column": null,
            "grid_gap": null,
            "grid_row": null,
            "grid_template_areas": null,
            "grid_template_columns": null,
            "grid_template_rows": null,
            "height": null,
            "justify_content": null,
            "justify_items": null,
            "left": null,
            "margin": null,
            "max_height": null,
            "max_width": null,
            "min_height": null,
            "min_width": null,
            "object_fit": null,
            "object_position": null,
            "order": null,
            "overflow": null,
            "overflow_x": null,
            "overflow_y": null,
            "padding": null,
            "right": null,
            "top": null,
            "visibility": null,
            "width": null
          }
        },
        "9ae5678446b54583b833c567dbf5f49f": {
          "model_module": "@jupyter-widgets/controls",
          "model_name": "DescriptionStyleModel",
          "model_module_version": "1.5.0",
          "state": {
            "_model_module": "@jupyter-widgets/controls",
            "_model_module_version": "1.5.0",
            "_model_name": "DescriptionStyleModel",
            "_view_count": null,
            "_view_module": "@jupyter-widgets/base",
            "_view_module_version": "1.2.0",
            "_view_name": "StyleView",
            "description_width": ""
          }
        },
        "e3f22ba05917497fb608eddf7c8b0f92": {
          "model_module": "@jupyter-widgets/controls",
          "model_name": "HBoxModel",
          "model_module_version": "1.5.0",
          "state": {
            "_dom_classes": [],
            "_model_module": "@jupyter-widgets/controls",
            "_model_module_version": "1.5.0",
            "_model_name": "HBoxModel",
            "_view_count": null,
            "_view_module": "@jupyter-widgets/controls",
            "_view_module_version": "1.5.0",
            "_view_name": "HBoxView",
            "box_style": "",
            "children": [
              "IPY_MODEL_7fe9adb8a1634078b10497b850c5ca3e",
              "IPY_MODEL_e0bc148b4f9f4caebc4afd53df52d73f",
              "IPY_MODEL_6b22b2b76f994af99eee7527660f73c8"
            ],
            "layout": "IPY_MODEL_a403eef32ceb436db682b11035e8df33"
          }
        },
        "7fe9adb8a1634078b10497b850c5ca3e": {
          "model_module": "@jupyter-widgets/controls",
          "model_name": "HTMLModel",
          "model_module_version": "1.5.0",
          "state": {
            "_dom_classes": [],
            "_model_module": "@jupyter-widgets/controls",
            "_model_module_version": "1.5.0",
            "_model_name": "HTMLModel",
            "_view_count": null,
            "_view_module": "@jupyter-widgets/controls",
            "_view_module_version": "1.5.0",
            "_view_name": "HTMLView",
            "description": "",
            "description_tooltip": null,
            "layout": "IPY_MODEL_b44588fc778045caa2ab96b7cd72401e",
            "placeholder": "​",
            "style": "IPY_MODEL_08529093a22c4407b3c819f994ef0fe5",
            "value": "Validation DataLoader 0: 100%"
          }
        },
        "e0bc148b4f9f4caebc4afd53df52d73f": {
          "model_module": "@jupyter-widgets/controls",
          "model_name": "FloatProgressModel",
          "model_module_version": "1.5.0",
          "state": {
            "_dom_classes": [],
            "_model_module": "@jupyter-widgets/controls",
            "_model_module_version": "1.5.0",
            "_model_name": "FloatProgressModel",
            "_view_count": null,
            "_view_module": "@jupyter-widgets/controls",
            "_view_module_version": "1.5.0",
            "_view_name": "ProgressView",
            "bar_style": "",
            "description": "",
            "description_tooltip": null,
            "layout": "IPY_MODEL_761fd3424f354923ad3365a08dc8643b",
            "max": 377,
            "min": 0,
            "orientation": "horizontal",
            "style": "IPY_MODEL_12e7de3d9a0f41d8b721200e994991cb",
            "value": 377
          }
        },
        "6b22b2b76f994af99eee7527660f73c8": {
          "model_module": "@jupyter-widgets/controls",
          "model_name": "HTMLModel",
          "model_module_version": "1.5.0",
          "state": {
            "_dom_classes": [],
            "_model_module": "@jupyter-widgets/controls",
            "_model_module_version": "1.5.0",
            "_model_name": "HTMLModel",
            "_view_count": null,
            "_view_module": "@jupyter-widgets/controls",
            "_view_module_version": "1.5.0",
            "_view_name": "HTMLView",
            "description": "",
            "description_tooltip": null,
            "layout": "IPY_MODEL_6eb3862be05a479f8e85916bb37489b5",
            "placeholder": "​",
            "style": "IPY_MODEL_9bcd9de9b184482c83ab72ebeaa4ba87",
            "value": " 377/377 [00:05&lt;00:00, 74.03it/s]"
          }
        },
        "a403eef32ceb436db682b11035e8df33": {
          "model_module": "@jupyter-widgets/base",
          "model_name": "LayoutModel",
          "model_module_version": "1.2.0",
          "state": {
            "_model_module": "@jupyter-widgets/base",
            "_model_module_version": "1.2.0",
            "_model_name": "LayoutModel",
            "_view_count": null,
            "_view_module": "@jupyter-widgets/base",
            "_view_module_version": "1.2.0",
            "_view_name": "LayoutView",
            "align_content": null,
            "align_items": null,
            "align_self": null,
            "border": null,
            "bottom": null,
            "display": "inline-flex",
            "flex": null,
            "flex_flow": "row wrap",
            "grid_area": null,
            "grid_auto_columns": null,
            "grid_auto_flow": null,
            "grid_auto_rows": null,
            "grid_column": null,
            "grid_gap": null,
            "grid_row": null,
            "grid_template_areas": null,
            "grid_template_columns": null,
            "grid_template_rows": null,
            "height": null,
            "justify_content": null,
            "justify_items": null,
            "left": null,
            "margin": null,
            "max_height": null,
            "max_width": null,
            "min_height": null,
            "min_width": null,
            "object_fit": null,
            "object_position": null,
            "order": null,
            "overflow": null,
            "overflow_x": null,
            "overflow_y": null,
            "padding": null,
            "right": null,
            "top": null,
            "visibility": "hidden",
            "width": "100%"
          }
        },
        "b44588fc778045caa2ab96b7cd72401e": {
          "model_module": "@jupyter-widgets/base",
          "model_name": "LayoutModel",
          "model_module_version": "1.2.0",
          "state": {
            "_model_module": "@jupyter-widgets/base",
            "_model_module_version": "1.2.0",
            "_model_name": "LayoutModel",
            "_view_count": null,
            "_view_module": "@jupyter-widgets/base",
            "_view_module_version": "1.2.0",
            "_view_name": "LayoutView",
            "align_content": null,
            "align_items": null,
            "align_self": null,
            "border": null,
            "bottom": null,
            "display": null,
            "flex": null,
            "flex_flow": null,
            "grid_area": null,
            "grid_auto_columns": null,
            "grid_auto_flow": null,
            "grid_auto_rows": null,
            "grid_column": null,
            "grid_gap": null,
            "grid_row": null,
            "grid_template_areas": null,
            "grid_template_columns": null,
            "grid_template_rows": null,
            "height": null,
            "justify_content": null,
            "justify_items": null,
            "left": null,
            "margin": null,
            "max_height": null,
            "max_width": null,
            "min_height": null,
            "min_width": null,
            "object_fit": null,
            "object_position": null,
            "order": null,
            "overflow": null,
            "overflow_x": null,
            "overflow_y": null,
            "padding": null,
            "right": null,
            "top": null,
            "visibility": null,
            "width": null
          }
        },
        "08529093a22c4407b3c819f994ef0fe5": {
          "model_module": "@jupyter-widgets/controls",
          "model_name": "DescriptionStyleModel",
          "model_module_version": "1.5.0",
          "state": {
            "_model_module": "@jupyter-widgets/controls",
            "_model_module_version": "1.5.0",
            "_model_name": "DescriptionStyleModel",
            "_view_count": null,
            "_view_module": "@jupyter-widgets/base",
            "_view_module_version": "1.2.0",
            "_view_name": "StyleView",
            "description_width": ""
          }
        },
        "761fd3424f354923ad3365a08dc8643b": {
          "model_module": "@jupyter-widgets/base",
          "model_name": "LayoutModel",
          "model_module_version": "1.2.0",
          "state": {
            "_model_module": "@jupyter-widgets/base",
            "_model_module_version": "1.2.0",
            "_model_name": "LayoutModel",
            "_view_count": null,
            "_view_module": "@jupyter-widgets/base",
            "_view_module_version": "1.2.0",
            "_view_name": "LayoutView",
            "align_content": null,
            "align_items": null,
            "align_self": null,
            "border": null,
            "bottom": null,
            "display": null,
            "flex": "2",
            "flex_flow": null,
            "grid_area": null,
            "grid_auto_columns": null,
            "grid_auto_flow": null,
            "grid_auto_rows": null,
            "grid_column": null,
            "grid_gap": null,
            "grid_row": null,
            "grid_template_areas": null,
            "grid_template_columns": null,
            "grid_template_rows": null,
            "height": null,
            "justify_content": null,
            "justify_items": null,
            "left": null,
            "margin": null,
            "max_height": null,
            "max_width": null,
            "min_height": null,
            "min_width": null,
            "object_fit": null,
            "object_position": null,
            "order": null,
            "overflow": null,
            "overflow_x": null,
            "overflow_y": null,
            "padding": null,
            "right": null,
            "top": null,
            "visibility": null,
            "width": null
          }
        },
        "12e7de3d9a0f41d8b721200e994991cb": {
          "model_module": "@jupyter-widgets/controls",
          "model_name": "ProgressStyleModel",
          "model_module_version": "1.5.0",
          "state": {
            "_model_module": "@jupyter-widgets/controls",
            "_model_module_version": "1.5.0",
            "_model_name": "ProgressStyleModel",
            "_view_count": null,
            "_view_module": "@jupyter-widgets/base",
            "_view_module_version": "1.2.0",
            "_view_name": "StyleView",
            "bar_color": null,
            "description_width": ""
          }
        },
        "6eb3862be05a479f8e85916bb37489b5": {
          "model_module": "@jupyter-widgets/base",
          "model_name": "LayoutModel",
          "model_module_version": "1.2.0",
          "state": {
            "_model_module": "@jupyter-widgets/base",
            "_model_module_version": "1.2.0",
            "_model_name": "LayoutModel",
            "_view_count": null,
            "_view_module": "@jupyter-widgets/base",
            "_view_module_version": "1.2.0",
            "_view_name": "LayoutView",
            "align_content": null,
            "align_items": null,
            "align_self": null,
            "border": null,
            "bottom": null,
            "display": null,
            "flex": null,
            "flex_flow": null,
            "grid_area": null,
            "grid_auto_columns": null,
            "grid_auto_flow": null,
            "grid_auto_rows": null,
            "grid_column": null,
            "grid_gap": null,
            "grid_row": null,
            "grid_template_areas": null,
            "grid_template_columns": null,
            "grid_template_rows": null,
            "height": null,
            "justify_content": null,
            "justify_items": null,
            "left": null,
            "margin": null,
            "max_height": null,
            "max_width": null,
            "min_height": null,
            "min_width": null,
            "object_fit": null,
            "object_position": null,
            "order": null,
            "overflow": null,
            "overflow_x": null,
            "overflow_y": null,
            "padding": null,
            "right": null,
            "top": null,
            "visibility": null,
            "width": null
          }
        },
        "9bcd9de9b184482c83ab72ebeaa4ba87": {
          "model_module": "@jupyter-widgets/controls",
          "model_name": "DescriptionStyleModel",
          "model_module_version": "1.5.0",
          "state": {
            "_model_module": "@jupyter-widgets/controls",
            "_model_module_version": "1.5.0",
            "_model_name": "DescriptionStyleModel",
            "_view_count": null,
            "_view_module": "@jupyter-widgets/base",
            "_view_module_version": "1.2.0",
            "_view_name": "StyleView",
            "description_width": ""
          }
        },
        "9603c75bcd0243d0ad3d2dd61bf08afc": {
          "model_module": "@jupyter-widgets/controls",
          "model_name": "HBoxModel",
          "model_module_version": "1.5.0",
          "state": {
            "_dom_classes": [],
            "_model_module": "@jupyter-widgets/controls",
            "_model_module_version": "1.5.0",
            "_model_name": "HBoxModel",
            "_view_count": null,
            "_view_module": "@jupyter-widgets/controls",
            "_view_module_version": "1.5.0",
            "_view_name": "HBoxView",
            "box_style": "",
            "children": [
              "IPY_MODEL_30ecd0ba87e0485abea748e07e8a2772",
              "IPY_MODEL_6c978870e6e742719e715ea862bd9f74",
              "IPY_MODEL_11afc1e71d574d6492ca781957199b0a"
            ],
            "layout": "IPY_MODEL_d0a32b32257b453ca3b2322d03143296"
          }
        },
        "30ecd0ba87e0485abea748e07e8a2772": {
          "model_module": "@jupyter-widgets/controls",
          "model_name": "HTMLModel",
          "model_module_version": "1.5.0",
          "state": {
            "_dom_classes": [],
            "_model_module": "@jupyter-widgets/controls",
            "_model_module_version": "1.5.0",
            "_model_name": "HTMLModel",
            "_view_count": null,
            "_view_module": "@jupyter-widgets/controls",
            "_view_module_version": "1.5.0",
            "_view_name": "HTMLView",
            "description": "",
            "description_tooltip": null,
            "layout": "IPY_MODEL_ebbb2393c6aa41bbb0cfad55553f6a4c",
            "placeholder": "​",
            "style": "IPY_MODEL_4fb53909aac74d67bc5bbb881cd7c684",
            "value": "Validation DataLoader 0: 100%"
          }
        },
        "6c978870e6e742719e715ea862bd9f74": {
          "model_module": "@jupyter-widgets/controls",
          "model_name": "FloatProgressModel",
          "model_module_version": "1.5.0",
          "state": {
            "_dom_classes": [],
            "_model_module": "@jupyter-widgets/controls",
            "_model_module_version": "1.5.0",
            "_model_name": "FloatProgressModel",
            "_view_count": null,
            "_view_module": "@jupyter-widgets/controls",
            "_view_module_version": "1.5.0",
            "_view_name": "ProgressView",
            "bar_style": "",
            "description": "",
            "description_tooltip": null,
            "layout": "IPY_MODEL_0346342082b445abac712bd0ffd1c96c",
            "max": 377,
            "min": 0,
            "orientation": "horizontal",
            "style": "IPY_MODEL_644fc6c3de774946a8e078a26c336a67",
            "value": 377
          }
        },
        "11afc1e71d574d6492ca781957199b0a": {
          "model_module": "@jupyter-widgets/controls",
          "model_name": "HTMLModel",
          "model_module_version": "1.5.0",
          "state": {
            "_dom_classes": [],
            "_model_module": "@jupyter-widgets/controls",
            "_model_module_version": "1.5.0",
            "_model_name": "HTMLModel",
            "_view_count": null,
            "_view_module": "@jupyter-widgets/controls",
            "_view_module_version": "1.5.0",
            "_view_name": "HTMLView",
            "description": "",
            "description_tooltip": null,
            "layout": "IPY_MODEL_9f7526a44d95415ca095eea6a6f2f121",
            "placeholder": "​",
            "style": "IPY_MODEL_1f3d89cee5134691b456cfb06264338e",
            "value": " 377/377 [00:05&lt;00:00, 73.01it/s]"
          }
        },
        "d0a32b32257b453ca3b2322d03143296": {
          "model_module": "@jupyter-widgets/base",
          "model_name": "LayoutModel",
          "model_module_version": "1.2.0",
          "state": {
            "_model_module": "@jupyter-widgets/base",
            "_model_module_version": "1.2.0",
            "_model_name": "LayoutModel",
            "_view_count": null,
            "_view_module": "@jupyter-widgets/base",
            "_view_module_version": "1.2.0",
            "_view_name": "LayoutView",
            "align_content": null,
            "align_items": null,
            "align_self": null,
            "border": null,
            "bottom": null,
            "display": "inline-flex",
            "flex": null,
            "flex_flow": "row wrap",
            "grid_area": null,
            "grid_auto_columns": null,
            "grid_auto_flow": null,
            "grid_auto_rows": null,
            "grid_column": null,
            "grid_gap": null,
            "grid_row": null,
            "grid_template_areas": null,
            "grid_template_columns": null,
            "grid_template_rows": null,
            "height": null,
            "justify_content": null,
            "justify_items": null,
            "left": null,
            "margin": null,
            "max_height": null,
            "max_width": null,
            "min_height": null,
            "min_width": null,
            "object_fit": null,
            "object_position": null,
            "order": null,
            "overflow": null,
            "overflow_x": null,
            "overflow_y": null,
            "padding": null,
            "right": null,
            "top": null,
            "visibility": "hidden",
            "width": "100%"
          }
        },
        "ebbb2393c6aa41bbb0cfad55553f6a4c": {
          "model_module": "@jupyter-widgets/base",
          "model_name": "LayoutModel",
          "model_module_version": "1.2.0",
          "state": {
            "_model_module": "@jupyter-widgets/base",
            "_model_module_version": "1.2.0",
            "_model_name": "LayoutModel",
            "_view_count": null,
            "_view_module": "@jupyter-widgets/base",
            "_view_module_version": "1.2.0",
            "_view_name": "LayoutView",
            "align_content": null,
            "align_items": null,
            "align_self": null,
            "border": null,
            "bottom": null,
            "display": null,
            "flex": null,
            "flex_flow": null,
            "grid_area": null,
            "grid_auto_columns": null,
            "grid_auto_flow": null,
            "grid_auto_rows": null,
            "grid_column": null,
            "grid_gap": null,
            "grid_row": null,
            "grid_template_areas": null,
            "grid_template_columns": null,
            "grid_template_rows": null,
            "height": null,
            "justify_content": null,
            "justify_items": null,
            "left": null,
            "margin": null,
            "max_height": null,
            "max_width": null,
            "min_height": null,
            "min_width": null,
            "object_fit": null,
            "object_position": null,
            "order": null,
            "overflow": null,
            "overflow_x": null,
            "overflow_y": null,
            "padding": null,
            "right": null,
            "top": null,
            "visibility": null,
            "width": null
          }
        },
        "4fb53909aac74d67bc5bbb881cd7c684": {
          "model_module": "@jupyter-widgets/controls",
          "model_name": "DescriptionStyleModel",
          "model_module_version": "1.5.0",
          "state": {
            "_model_module": "@jupyter-widgets/controls",
            "_model_module_version": "1.5.0",
            "_model_name": "DescriptionStyleModel",
            "_view_count": null,
            "_view_module": "@jupyter-widgets/base",
            "_view_module_version": "1.2.0",
            "_view_name": "StyleView",
            "description_width": ""
          }
        },
        "0346342082b445abac712bd0ffd1c96c": {
          "model_module": "@jupyter-widgets/base",
          "model_name": "LayoutModel",
          "model_module_version": "1.2.0",
          "state": {
            "_model_module": "@jupyter-widgets/base",
            "_model_module_version": "1.2.0",
            "_model_name": "LayoutModel",
            "_view_count": null,
            "_view_module": "@jupyter-widgets/base",
            "_view_module_version": "1.2.0",
            "_view_name": "LayoutView",
            "align_content": null,
            "align_items": null,
            "align_self": null,
            "border": null,
            "bottom": null,
            "display": null,
            "flex": "2",
            "flex_flow": null,
            "grid_area": null,
            "grid_auto_columns": null,
            "grid_auto_flow": null,
            "grid_auto_rows": null,
            "grid_column": null,
            "grid_gap": null,
            "grid_row": null,
            "grid_template_areas": null,
            "grid_template_columns": null,
            "grid_template_rows": null,
            "height": null,
            "justify_content": null,
            "justify_items": null,
            "left": null,
            "margin": null,
            "max_height": null,
            "max_width": null,
            "min_height": null,
            "min_width": null,
            "object_fit": null,
            "object_position": null,
            "order": null,
            "overflow": null,
            "overflow_x": null,
            "overflow_y": null,
            "padding": null,
            "right": null,
            "top": null,
            "visibility": null,
            "width": null
          }
        },
        "644fc6c3de774946a8e078a26c336a67": {
          "model_module": "@jupyter-widgets/controls",
          "model_name": "ProgressStyleModel",
          "model_module_version": "1.5.0",
          "state": {
            "_model_module": "@jupyter-widgets/controls",
            "_model_module_version": "1.5.0",
            "_model_name": "ProgressStyleModel",
            "_view_count": null,
            "_view_module": "@jupyter-widgets/base",
            "_view_module_version": "1.2.0",
            "_view_name": "StyleView",
            "bar_color": null,
            "description_width": ""
          }
        },
        "9f7526a44d95415ca095eea6a6f2f121": {
          "model_module": "@jupyter-widgets/base",
          "model_name": "LayoutModel",
          "model_module_version": "1.2.0",
          "state": {
            "_model_module": "@jupyter-widgets/base",
            "_model_module_version": "1.2.0",
            "_model_name": "LayoutModel",
            "_view_count": null,
            "_view_module": "@jupyter-widgets/base",
            "_view_module_version": "1.2.0",
            "_view_name": "LayoutView",
            "align_content": null,
            "align_items": null,
            "align_self": null,
            "border": null,
            "bottom": null,
            "display": null,
            "flex": null,
            "flex_flow": null,
            "grid_area": null,
            "grid_auto_columns": null,
            "grid_auto_flow": null,
            "grid_auto_rows": null,
            "grid_column": null,
            "grid_gap": null,
            "grid_row": null,
            "grid_template_areas": null,
            "grid_template_columns": null,
            "grid_template_rows": null,
            "height": null,
            "justify_content": null,
            "justify_items": null,
            "left": null,
            "margin": null,
            "max_height": null,
            "max_width": null,
            "min_height": null,
            "min_width": null,
            "object_fit": null,
            "object_position": null,
            "order": null,
            "overflow": null,
            "overflow_x": null,
            "overflow_y": null,
            "padding": null,
            "right": null,
            "top": null,
            "visibility": null,
            "width": null
          }
        },
        "1f3d89cee5134691b456cfb06264338e": {
          "model_module": "@jupyter-widgets/controls",
          "model_name": "DescriptionStyleModel",
          "model_module_version": "1.5.0",
          "state": {
            "_model_module": "@jupyter-widgets/controls",
            "_model_module_version": "1.5.0",
            "_model_name": "DescriptionStyleModel",
            "_view_count": null,
            "_view_module": "@jupyter-widgets/base",
            "_view_module_version": "1.2.0",
            "_view_name": "StyleView",
            "description_width": ""
          }
        },
        "e429b7a5448847a6a9b8650abd76de3c": {
          "model_module": "@jupyter-widgets/controls",
          "model_name": "HBoxModel",
          "model_module_version": "1.5.0",
          "state": {
            "_dom_classes": [],
            "_model_module": "@jupyter-widgets/controls",
            "_model_module_version": "1.5.0",
            "_model_name": "HBoxModel",
            "_view_count": null,
            "_view_module": "@jupyter-widgets/controls",
            "_view_module_version": "1.5.0",
            "_view_name": "HBoxView",
            "box_style": "",
            "children": [
              "IPY_MODEL_5bf912a8b2e943a59da4e9fbdee00bc6",
              "IPY_MODEL_deb5d5d1d8ac48d3bb2163487c0f42d8",
              "IPY_MODEL_edcf5a35287d4703b8d1ed1a66c0dc2a"
            ],
            "layout": "IPY_MODEL_e1b8d991034d436d9b46ac3eef5d8b2f"
          }
        },
        "5bf912a8b2e943a59da4e9fbdee00bc6": {
          "model_module": "@jupyter-widgets/controls",
          "model_name": "HTMLModel",
          "model_module_version": "1.5.0",
          "state": {
            "_dom_classes": [],
            "_model_module": "@jupyter-widgets/controls",
            "_model_module_version": "1.5.0",
            "_model_name": "HTMLModel",
            "_view_count": null,
            "_view_module": "@jupyter-widgets/controls",
            "_view_module_version": "1.5.0",
            "_view_name": "HTMLView",
            "description": "",
            "description_tooltip": null,
            "layout": "IPY_MODEL_9ea0be4a56b6430bb602439ef80a64a6",
            "placeholder": "​",
            "style": "IPY_MODEL_fdfc085444dd4f69b6408d7353361484",
            "value": "Validation DataLoader 0: 100%"
          }
        },
        "deb5d5d1d8ac48d3bb2163487c0f42d8": {
          "model_module": "@jupyter-widgets/controls",
          "model_name": "FloatProgressModel",
          "model_module_version": "1.5.0",
          "state": {
            "_dom_classes": [],
            "_model_module": "@jupyter-widgets/controls",
            "_model_module_version": "1.5.0",
            "_model_name": "FloatProgressModel",
            "_view_count": null,
            "_view_module": "@jupyter-widgets/controls",
            "_view_module_version": "1.5.0",
            "_view_name": "ProgressView",
            "bar_style": "",
            "description": "",
            "description_tooltip": null,
            "layout": "IPY_MODEL_7fc01c1ca9e949359c0f681f4b77ed89",
            "max": 377,
            "min": 0,
            "orientation": "horizontal",
            "style": "IPY_MODEL_6c4de47d15d2462c885e9b00af4b7103",
            "value": 377
          }
        },
        "edcf5a35287d4703b8d1ed1a66c0dc2a": {
          "model_module": "@jupyter-widgets/controls",
          "model_name": "HTMLModel",
          "model_module_version": "1.5.0",
          "state": {
            "_dom_classes": [],
            "_model_module": "@jupyter-widgets/controls",
            "_model_module_version": "1.5.0",
            "_model_name": "HTMLModel",
            "_view_count": null,
            "_view_module": "@jupyter-widgets/controls",
            "_view_module_version": "1.5.0",
            "_view_name": "HTMLView",
            "description": "",
            "description_tooltip": null,
            "layout": "IPY_MODEL_827114cae61345858bee65ea96caa36f",
            "placeholder": "​",
            "style": "IPY_MODEL_d90904ecba4f46229d65336e9f81be6f",
            "value": " 377/377 [00:05&lt;00:00, 72.54it/s]"
          }
        },
        "e1b8d991034d436d9b46ac3eef5d8b2f": {
          "model_module": "@jupyter-widgets/base",
          "model_name": "LayoutModel",
          "model_module_version": "1.2.0",
          "state": {
            "_model_module": "@jupyter-widgets/base",
            "_model_module_version": "1.2.0",
            "_model_name": "LayoutModel",
            "_view_count": null,
            "_view_module": "@jupyter-widgets/base",
            "_view_module_version": "1.2.0",
            "_view_name": "LayoutView",
            "align_content": null,
            "align_items": null,
            "align_self": null,
            "border": null,
            "bottom": null,
            "display": "inline-flex",
            "flex": null,
            "flex_flow": "row wrap",
            "grid_area": null,
            "grid_auto_columns": null,
            "grid_auto_flow": null,
            "grid_auto_rows": null,
            "grid_column": null,
            "grid_gap": null,
            "grid_row": null,
            "grid_template_areas": null,
            "grid_template_columns": null,
            "grid_template_rows": null,
            "height": null,
            "justify_content": null,
            "justify_items": null,
            "left": null,
            "margin": null,
            "max_height": null,
            "max_width": null,
            "min_height": null,
            "min_width": null,
            "object_fit": null,
            "object_position": null,
            "order": null,
            "overflow": null,
            "overflow_x": null,
            "overflow_y": null,
            "padding": null,
            "right": null,
            "top": null,
            "visibility": "hidden",
            "width": "100%"
          }
        },
        "9ea0be4a56b6430bb602439ef80a64a6": {
          "model_module": "@jupyter-widgets/base",
          "model_name": "LayoutModel",
          "model_module_version": "1.2.0",
          "state": {
            "_model_module": "@jupyter-widgets/base",
            "_model_module_version": "1.2.0",
            "_model_name": "LayoutModel",
            "_view_count": null,
            "_view_module": "@jupyter-widgets/base",
            "_view_module_version": "1.2.0",
            "_view_name": "LayoutView",
            "align_content": null,
            "align_items": null,
            "align_self": null,
            "border": null,
            "bottom": null,
            "display": null,
            "flex": null,
            "flex_flow": null,
            "grid_area": null,
            "grid_auto_columns": null,
            "grid_auto_flow": null,
            "grid_auto_rows": null,
            "grid_column": null,
            "grid_gap": null,
            "grid_row": null,
            "grid_template_areas": null,
            "grid_template_columns": null,
            "grid_template_rows": null,
            "height": null,
            "justify_content": null,
            "justify_items": null,
            "left": null,
            "margin": null,
            "max_height": null,
            "max_width": null,
            "min_height": null,
            "min_width": null,
            "object_fit": null,
            "object_position": null,
            "order": null,
            "overflow": null,
            "overflow_x": null,
            "overflow_y": null,
            "padding": null,
            "right": null,
            "top": null,
            "visibility": null,
            "width": null
          }
        },
        "fdfc085444dd4f69b6408d7353361484": {
          "model_module": "@jupyter-widgets/controls",
          "model_name": "DescriptionStyleModel",
          "model_module_version": "1.5.0",
          "state": {
            "_model_module": "@jupyter-widgets/controls",
            "_model_module_version": "1.5.0",
            "_model_name": "DescriptionStyleModel",
            "_view_count": null,
            "_view_module": "@jupyter-widgets/base",
            "_view_module_version": "1.2.0",
            "_view_name": "StyleView",
            "description_width": ""
          }
        },
        "7fc01c1ca9e949359c0f681f4b77ed89": {
          "model_module": "@jupyter-widgets/base",
          "model_name": "LayoutModel",
          "model_module_version": "1.2.0",
          "state": {
            "_model_module": "@jupyter-widgets/base",
            "_model_module_version": "1.2.0",
            "_model_name": "LayoutModel",
            "_view_count": null,
            "_view_module": "@jupyter-widgets/base",
            "_view_module_version": "1.2.0",
            "_view_name": "LayoutView",
            "align_content": null,
            "align_items": null,
            "align_self": null,
            "border": null,
            "bottom": null,
            "display": null,
            "flex": "2",
            "flex_flow": null,
            "grid_area": null,
            "grid_auto_columns": null,
            "grid_auto_flow": null,
            "grid_auto_rows": null,
            "grid_column": null,
            "grid_gap": null,
            "grid_row": null,
            "grid_template_areas": null,
            "grid_template_columns": null,
            "grid_template_rows": null,
            "height": null,
            "justify_content": null,
            "justify_items": null,
            "left": null,
            "margin": null,
            "max_height": null,
            "max_width": null,
            "min_height": null,
            "min_width": null,
            "object_fit": null,
            "object_position": null,
            "order": null,
            "overflow": null,
            "overflow_x": null,
            "overflow_y": null,
            "padding": null,
            "right": null,
            "top": null,
            "visibility": null,
            "width": null
          }
        },
        "6c4de47d15d2462c885e9b00af4b7103": {
          "model_module": "@jupyter-widgets/controls",
          "model_name": "ProgressStyleModel",
          "model_module_version": "1.5.0",
          "state": {
            "_model_module": "@jupyter-widgets/controls",
            "_model_module_version": "1.5.0",
            "_model_name": "ProgressStyleModel",
            "_view_count": null,
            "_view_module": "@jupyter-widgets/base",
            "_view_module_version": "1.2.0",
            "_view_name": "StyleView",
            "bar_color": null,
            "description_width": ""
          }
        },
        "827114cae61345858bee65ea96caa36f": {
          "model_module": "@jupyter-widgets/base",
          "model_name": "LayoutModel",
          "model_module_version": "1.2.0",
          "state": {
            "_model_module": "@jupyter-widgets/base",
            "_model_module_version": "1.2.0",
            "_model_name": "LayoutModel",
            "_view_count": null,
            "_view_module": "@jupyter-widgets/base",
            "_view_module_version": "1.2.0",
            "_view_name": "LayoutView",
            "align_content": null,
            "align_items": null,
            "align_self": null,
            "border": null,
            "bottom": null,
            "display": null,
            "flex": null,
            "flex_flow": null,
            "grid_area": null,
            "grid_auto_columns": null,
            "grid_auto_flow": null,
            "grid_auto_rows": null,
            "grid_column": null,
            "grid_gap": null,
            "grid_row": null,
            "grid_template_areas": null,
            "grid_template_columns": null,
            "grid_template_rows": null,
            "height": null,
            "justify_content": null,
            "justify_items": null,
            "left": null,
            "margin": null,
            "max_height": null,
            "max_width": null,
            "min_height": null,
            "min_width": null,
            "object_fit": null,
            "object_position": null,
            "order": null,
            "overflow": null,
            "overflow_x": null,
            "overflow_y": null,
            "padding": null,
            "right": null,
            "top": null,
            "visibility": null,
            "width": null
          }
        },
        "d90904ecba4f46229d65336e9f81be6f": {
          "model_module": "@jupyter-widgets/controls",
          "model_name": "DescriptionStyleModel",
          "model_module_version": "1.5.0",
          "state": {
            "_model_module": "@jupyter-widgets/controls",
            "_model_module_version": "1.5.0",
            "_model_name": "DescriptionStyleModel",
            "_view_count": null,
            "_view_module": "@jupyter-widgets/base",
            "_view_module_version": "1.2.0",
            "_view_name": "StyleView",
            "description_width": ""
          }
        },
        "851b69d3da0e45669cbe809b7e45de45": {
          "model_module": "@jupyter-widgets/controls",
          "model_name": "HBoxModel",
          "model_module_version": "1.5.0",
          "state": {
            "_dom_classes": [],
            "_model_module": "@jupyter-widgets/controls",
            "_model_module_version": "1.5.0",
            "_model_name": "HBoxModel",
            "_view_count": null,
            "_view_module": "@jupyter-widgets/controls",
            "_view_module_version": "1.5.0",
            "_view_name": "HBoxView",
            "box_style": "",
            "children": [
              "IPY_MODEL_c2899b0a8c154448b9c5bfbdd158af6c",
              "IPY_MODEL_956ccaa54723421092b1bba08597a5af",
              "IPY_MODEL_a82d5f88192045b89d02c3acf374df81"
            ],
            "layout": "IPY_MODEL_0bad9158de2b41cca0f47fe4a77667f2"
          }
        },
        "c2899b0a8c154448b9c5bfbdd158af6c": {
          "model_module": "@jupyter-widgets/controls",
          "model_name": "HTMLModel",
          "model_module_version": "1.5.0",
          "state": {
            "_dom_classes": [],
            "_model_module": "@jupyter-widgets/controls",
            "_model_module_version": "1.5.0",
            "_model_name": "HTMLModel",
            "_view_count": null,
            "_view_module": "@jupyter-widgets/controls",
            "_view_module_version": "1.5.0",
            "_view_name": "HTMLView",
            "description": "",
            "description_tooltip": null,
            "layout": "IPY_MODEL_5f28b89c09e1466bbc6284aee179f090",
            "placeholder": "​",
            "style": "IPY_MODEL_768f770b37254709a6926c47baf90801",
            "value": "Validation DataLoader 0: 100%"
          }
        },
        "956ccaa54723421092b1bba08597a5af": {
          "model_module": "@jupyter-widgets/controls",
          "model_name": "FloatProgressModel",
          "model_module_version": "1.5.0",
          "state": {
            "_dom_classes": [],
            "_model_module": "@jupyter-widgets/controls",
            "_model_module_version": "1.5.0",
            "_model_name": "FloatProgressModel",
            "_view_count": null,
            "_view_module": "@jupyter-widgets/controls",
            "_view_module_version": "1.5.0",
            "_view_name": "ProgressView",
            "bar_style": "",
            "description": "",
            "description_tooltip": null,
            "layout": "IPY_MODEL_d24635256dc74d458fd8fed0fa411217",
            "max": 377,
            "min": 0,
            "orientation": "horizontal",
            "style": "IPY_MODEL_2df23dd5eeee4f82a7c45348043bc6a4",
            "value": 377
          }
        },
        "a82d5f88192045b89d02c3acf374df81": {
          "model_module": "@jupyter-widgets/controls",
          "model_name": "HTMLModel",
          "model_module_version": "1.5.0",
          "state": {
            "_dom_classes": [],
            "_model_module": "@jupyter-widgets/controls",
            "_model_module_version": "1.5.0",
            "_model_name": "HTMLModel",
            "_view_count": null,
            "_view_module": "@jupyter-widgets/controls",
            "_view_module_version": "1.5.0",
            "_view_name": "HTMLView",
            "description": "",
            "description_tooltip": null,
            "layout": "IPY_MODEL_cfd235fbc03b464ea461540ff8e0f652",
            "placeholder": "​",
            "style": "IPY_MODEL_8617bdfedf0c4a68ac1918688483619e",
            "value": " 377/377 [00:05&lt;00:00, 71.49it/s]"
          }
        },
        "0bad9158de2b41cca0f47fe4a77667f2": {
          "model_module": "@jupyter-widgets/base",
          "model_name": "LayoutModel",
          "model_module_version": "1.2.0",
          "state": {
            "_model_module": "@jupyter-widgets/base",
            "_model_module_version": "1.2.0",
            "_model_name": "LayoutModel",
            "_view_count": null,
            "_view_module": "@jupyter-widgets/base",
            "_view_module_version": "1.2.0",
            "_view_name": "LayoutView",
            "align_content": null,
            "align_items": null,
            "align_self": null,
            "border": null,
            "bottom": null,
            "display": "inline-flex",
            "flex": null,
            "flex_flow": "row wrap",
            "grid_area": null,
            "grid_auto_columns": null,
            "grid_auto_flow": null,
            "grid_auto_rows": null,
            "grid_column": null,
            "grid_gap": null,
            "grid_row": null,
            "grid_template_areas": null,
            "grid_template_columns": null,
            "grid_template_rows": null,
            "height": null,
            "justify_content": null,
            "justify_items": null,
            "left": null,
            "margin": null,
            "max_height": null,
            "max_width": null,
            "min_height": null,
            "min_width": null,
            "object_fit": null,
            "object_position": null,
            "order": null,
            "overflow": null,
            "overflow_x": null,
            "overflow_y": null,
            "padding": null,
            "right": null,
            "top": null,
            "visibility": "hidden",
            "width": "100%"
          }
        },
        "5f28b89c09e1466bbc6284aee179f090": {
          "model_module": "@jupyter-widgets/base",
          "model_name": "LayoutModel",
          "model_module_version": "1.2.0",
          "state": {
            "_model_module": "@jupyter-widgets/base",
            "_model_module_version": "1.2.0",
            "_model_name": "LayoutModel",
            "_view_count": null,
            "_view_module": "@jupyter-widgets/base",
            "_view_module_version": "1.2.0",
            "_view_name": "LayoutView",
            "align_content": null,
            "align_items": null,
            "align_self": null,
            "border": null,
            "bottom": null,
            "display": null,
            "flex": null,
            "flex_flow": null,
            "grid_area": null,
            "grid_auto_columns": null,
            "grid_auto_flow": null,
            "grid_auto_rows": null,
            "grid_column": null,
            "grid_gap": null,
            "grid_row": null,
            "grid_template_areas": null,
            "grid_template_columns": null,
            "grid_template_rows": null,
            "height": null,
            "justify_content": null,
            "justify_items": null,
            "left": null,
            "margin": null,
            "max_height": null,
            "max_width": null,
            "min_height": null,
            "min_width": null,
            "object_fit": null,
            "object_position": null,
            "order": null,
            "overflow": null,
            "overflow_x": null,
            "overflow_y": null,
            "padding": null,
            "right": null,
            "top": null,
            "visibility": null,
            "width": null
          }
        },
        "768f770b37254709a6926c47baf90801": {
          "model_module": "@jupyter-widgets/controls",
          "model_name": "DescriptionStyleModel",
          "model_module_version": "1.5.0",
          "state": {
            "_model_module": "@jupyter-widgets/controls",
            "_model_module_version": "1.5.0",
            "_model_name": "DescriptionStyleModel",
            "_view_count": null,
            "_view_module": "@jupyter-widgets/base",
            "_view_module_version": "1.2.0",
            "_view_name": "StyleView",
            "description_width": ""
          }
        },
        "d24635256dc74d458fd8fed0fa411217": {
          "model_module": "@jupyter-widgets/base",
          "model_name": "LayoutModel",
          "model_module_version": "1.2.0",
          "state": {
            "_model_module": "@jupyter-widgets/base",
            "_model_module_version": "1.2.0",
            "_model_name": "LayoutModel",
            "_view_count": null,
            "_view_module": "@jupyter-widgets/base",
            "_view_module_version": "1.2.0",
            "_view_name": "LayoutView",
            "align_content": null,
            "align_items": null,
            "align_self": null,
            "border": null,
            "bottom": null,
            "display": null,
            "flex": "2",
            "flex_flow": null,
            "grid_area": null,
            "grid_auto_columns": null,
            "grid_auto_flow": null,
            "grid_auto_rows": null,
            "grid_column": null,
            "grid_gap": null,
            "grid_row": null,
            "grid_template_areas": null,
            "grid_template_columns": null,
            "grid_template_rows": null,
            "height": null,
            "justify_content": null,
            "justify_items": null,
            "left": null,
            "margin": null,
            "max_height": null,
            "max_width": null,
            "min_height": null,
            "min_width": null,
            "object_fit": null,
            "object_position": null,
            "order": null,
            "overflow": null,
            "overflow_x": null,
            "overflow_y": null,
            "padding": null,
            "right": null,
            "top": null,
            "visibility": null,
            "width": null
          }
        },
        "2df23dd5eeee4f82a7c45348043bc6a4": {
          "model_module": "@jupyter-widgets/controls",
          "model_name": "ProgressStyleModel",
          "model_module_version": "1.5.0",
          "state": {
            "_model_module": "@jupyter-widgets/controls",
            "_model_module_version": "1.5.0",
            "_model_name": "ProgressStyleModel",
            "_view_count": null,
            "_view_module": "@jupyter-widgets/base",
            "_view_module_version": "1.2.0",
            "_view_name": "StyleView",
            "bar_color": null,
            "description_width": ""
          }
        },
        "cfd235fbc03b464ea461540ff8e0f652": {
          "model_module": "@jupyter-widgets/base",
          "model_name": "LayoutModel",
          "model_module_version": "1.2.0",
          "state": {
            "_model_module": "@jupyter-widgets/base",
            "_model_module_version": "1.2.0",
            "_model_name": "LayoutModel",
            "_view_count": null,
            "_view_module": "@jupyter-widgets/base",
            "_view_module_version": "1.2.0",
            "_view_name": "LayoutView",
            "align_content": null,
            "align_items": null,
            "align_self": null,
            "border": null,
            "bottom": null,
            "display": null,
            "flex": null,
            "flex_flow": null,
            "grid_area": null,
            "grid_auto_columns": null,
            "grid_auto_flow": null,
            "grid_auto_rows": null,
            "grid_column": null,
            "grid_gap": null,
            "grid_row": null,
            "grid_template_areas": null,
            "grid_template_columns": null,
            "grid_template_rows": null,
            "height": null,
            "justify_content": null,
            "justify_items": null,
            "left": null,
            "margin": null,
            "max_height": null,
            "max_width": null,
            "min_height": null,
            "min_width": null,
            "object_fit": null,
            "object_position": null,
            "order": null,
            "overflow": null,
            "overflow_x": null,
            "overflow_y": null,
            "padding": null,
            "right": null,
            "top": null,
            "visibility": null,
            "width": null
          }
        },
        "8617bdfedf0c4a68ac1918688483619e": {
          "model_module": "@jupyter-widgets/controls",
          "model_name": "DescriptionStyleModel",
          "model_module_version": "1.5.0",
          "state": {
            "_model_module": "@jupyter-widgets/controls",
            "_model_module_version": "1.5.0",
            "_model_name": "DescriptionStyleModel",
            "_view_count": null,
            "_view_module": "@jupyter-widgets/base",
            "_view_module_version": "1.2.0",
            "_view_name": "StyleView",
            "description_width": ""
          }
        },
        "395e6704397f4d0e864a29afd7e4d6c2": {
          "model_module": "@jupyter-widgets/controls",
          "model_name": "HBoxModel",
          "model_module_version": "1.5.0",
          "state": {
            "_dom_classes": [],
            "_model_module": "@jupyter-widgets/controls",
            "_model_module_version": "1.5.0",
            "_model_name": "HBoxModel",
            "_view_count": null,
            "_view_module": "@jupyter-widgets/controls",
            "_view_module_version": "1.5.0",
            "_view_name": "HBoxView",
            "box_style": "",
            "children": [
              "IPY_MODEL_423bafd69dde48528ddffb6b4ac52ccd",
              "IPY_MODEL_73dc09e462dd4cf7a73445e73537e47e",
              "IPY_MODEL_9e3cc8f2da8a463296a01a2479bf388b"
            ],
            "layout": "IPY_MODEL_2399012ff503477386cf9bc49ad96a60"
          }
        },
        "423bafd69dde48528ddffb6b4ac52ccd": {
          "model_module": "@jupyter-widgets/controls",
          "model_name": "HTMLModel",
          "model_module_version": "1.5.0",
          "state": {
            "_dom_classes": [],
            "_model_module": "@jupyter-widgets/controls",
            "_model_module_version": "1.5.0",
            "_model_name": "HTMLModel",
            "_view_count": null,
            "_view_module": "@jupyter-widgets/controls",
            "_view_module_version": "1.5.0",
            "_view_name": "HTMLView",
            "description": "",
            "description_tooltip": null,
            "layout": "IPY_MODEL_14a62e5b65bc4123a7b14f1e6882d19f",
            "placeholder": "​",
            "style": "IPY_MODEL_64bed76c89024b04911299ea09411588",
            "value": "Validation DataLoader 0: 100%"
          }
        },
        "73dc09e462dd4cf7a73445e73537e47e": {
          "model_module": "@jupyter-widgets/controls",
          "model_name": "FloatProgressModel",
          "model_module_version": "1.5.0",
          "state": {
            "_dom_classes": [],
            "_model_module": "@jupyter-widgets/controls",
            "_model_module_version": "1.5.0",
            "_model_name": "FloatProgressModel",
            "_view_count": null,
            "_view_module": "@jupyter-widgets/controls",
            "_view_module_version": "1.5.0",
            "_view_name": "ProgressView",
            "bar_style": "",
            "description": "",
            "description_tooltip": null,
            "layout": "IPY_MODEL_e23da434a02641bcbf3b2f439c1d573b",
            "max": 377,
            "min": 0,
            "orientation": "horizontal",
            "style": "IPY_MODEL_86a1f9aaca9e40cdbb9404ff7d27d5e5",
            "value": 377
          }
        },
        "9e3cc8f2da8a463296a01a2479bf388b": {
          "model_module": "@jupyter-widgets/controls",
          "model_name": "HTMLModel",
          "model_module_version": "1.5.0",
          "state": {
            "_dom_classes": [],
            "_model_module": "@jupyter-widgets/controls",
            "_model_module_version": "1.5.0",
            "_model_name": "HTMLModel",
            "_view_count": null,
            "_view_module": "@jupyter-widgets/controls",
            "_view_module_version": "1.5.0",
            "_view_name": "HTMLView",
            "description": "",
            "description_tooltip": null,
            "layout": "IPY_MODEL_8f0a96edcae1495db1534d123b21b8f3",
            "placeholder": "​",
            "style": "IPY_MODEL_ad8ceca6a10749b9a6ecb41413e865bd",
            "value": " 377/377 [00:05&lt;00:00, 73.37it/s]"
          }
        },
        "2399012ff503477386cf9bc49ad96a60": {
          "model_module": "@jupyter-widgets/base",
          "model_name": "LayoutModel",
          "model_module_version": "1.2.0",
          "state": {
            "_model_module": "@jupyter-widgets/base",
            "_model_module_version": "1.2.0",
            "_model_name": "LayoutModel",
            "_view_count": null,
            "_view_module": "@jupyter-widgets/base",
            "_view_module_version": "1.2.0",
            "_view_name": "LayoutView",
            "align_content": null,
            "align_items": null,
            "align_self": null,
            "border": null,
            "bottom": null,
            "display": "inline-flex",
            "flex": null,
            "flex_flow": "row wrap",
            "grid_area": null,
            "grid_auto_columns": null,
            "grid_auto_flow": null,
            "grid_auto_rows": null,
            "grid_column": null,
            "grid_gap": null,
            "grid_row": null,
            "grid_template_areas": null,
            "grid_template_columns": null,
            "grid_template_rows": null,
            "height": null,
            "justify_content": null,
            "justify_items": null,
            "left": null,
            "margin": null,
            "max_height": null,
            "max_width": null,
            "min_height": null,
            "min_width": null,
            "object_fit": null,
            "object_position": null,
            "order": null,
            "overflow": null,
            "overflow_x": null,
            "overflow_y": null,
            "padding": null,
            "right": null,
            "top": null,
            "visibility": "hidden",
            "width": "100%"
          }
        },
        "14a62e5b65bc4123a7b14f1e6882d19f": {
          "model_module": "@jupyter-widgets/base",
          "model_name": "LayoutModel",
          "model_module_version": "1.2.0",
          "state": {
            "_model_module": "@jupyter-widgets/base",
            "_model_module_version": "1.2.0",
            "_model_name": "LayoutModel",
            "_view_count": null,
            "_view_module": "@jupyter-widgets/base",
            "_view_module_version": "1.2.0",
            "_view_name": "LayoutView",
            "align_content": null,
            "align_items": null,
            "align_self": null,
            "border": null,
            "bottom": null,
            "display": null,
            "flex": null,
            "flex_flow": null,
            "grid_area": null,
            "grid_auto_columns": null,
            "grid_auto_flow": null,
            "grid_auto_rows": null,
            "grid_column": null,
            "grid_gap": null,
            "grid_row": null,
            "grid_template_areas": null,
            "grid_template_columns": null,
            "grid_template_rows": null,
            "height": null,
            "justify_content": null,
            "justify_items": null,
            "left": null,
            "margin": null,
            "max_height": null,
            "max_width": null,
            "min_height": null,
            "min_width": null,
            "object_fit": null,
            "object_position": null,
            "order": null,
            "overflow": null,
            "overflow_x": null,
            "overflow_y": null,
            "padding": null,
            "right": null,
            "top": null,
            "visibility": null,
            "width": null
          }
        },
        "64bed76c89024b04911299ea09411588": {
          "model_module": "@jupyter-widgets/controls",
          "model_name": "DescriptionStyleModel",
          "model_module_version": "1.5.0",
          "state": {
            "_model_module": "@jupyter-widgets/controls",
            "_model_module_version": "1.5.0",
            "_model_name": "DescriptionStyleModel",
            "_view_count": null,
            "_view_module": "@jupyter-widgets/base",
            "_view_module_version": "1.2.0",
            "_view_name": "StyleView",
            "description_width": ""
          }
        },
        "e23da434a02641bcbf3b2f439c1d573b": {
          "model_module": "@jupyter-widgets/base",
          "model_name": "LayoutModel",
          "model_module_version": "1.2.0",
          "state": {
            "_model_module": "@jupyter-widgets/base",
            "_model_module_version": "1.2.0",
            "_model_name": "LayoutModel",
            "_view_count": null,
            "_view_module": "@jupyter-widgets/base",
            "_view_module_version": "1.2.0",
            "_view_name": "LayoutView",
            "align_content": null,
            "align_items": null,
            "align_self": null,
            "border": null,
            "bottom": null,
            "display": null,
            "flex": "2",
            "flex_flow": null,
            "grid_area": null,
            "grid_auto_columns": null,
            "grid_auto_flow": null,
            "grid_auto_rows": null,
            "grid_column": null,
            "grid_gap": null,
            "grid_row": null,
            "grid_template_areas": null,
            "grid_template_columns": null,
            "grid_template_rows": null,
            "height": null,
            "justify_content": null,
            "justify_items": null,
            "left": null,
            "margin": null,
            "max_height": null,
            "max_width": null,
            "min_height": null,
            "min_width": null,
            "object_fit": null,
            "object_position": null,
            "order": null,
            "overflow": null,
            "overflow_x": null,
            "overflow_y": null,
            "padding": null,
            "right": null,
            "top": null,
            "visibility": null,
            "width": null
          }
        },
        "86a1f9aaca9e40cdbb9404ff7d27d5e5": {
          "model_module": "@jupyter-widgets/controls",
          "model_name": "ProgressStyleModel",
          "model_module_version": "1.5.0",
          "state": {
            "_model_module": "@jupyter-widgets/controls",
            "_model_module_version": "1.5.0",
            "_model_name": "ProgressStyleModel",
            "_view_count": null,
            "_view_module": "@jupyter-widgets/base",
            "_view_module_version": "1.2.0",
            "_view_name": "StyleView",
            "bar_color": null,
            "description_width": ""
          }
        },
        "8f0a96edcae1495db1534d123b21b8f3": {
          "model_module": "@jupyter-widgets/base",
          "model_name": "LayoutModel",
          "model_module_version": "1.2.0",
          "state": {
            "_model_module": "@jupyter-widgets/base",
            "_model_module_version": "1.2.0",
            "_model_name": "LayoutModel",
            "_view_count": null,
            "_view_module": "@jupyter-widgets/base",
            "_view_module_version": "1.2.0",
            "_view_name": "LayoutView",
            "align_content": null,
            "align_items": null,
            "align_self": null,
            "border": null,
            "bottom": null,
            "display": null,
            "flex": null,
            "flex_flow": null,
            "grid_area": null,
            "grid_auto_columns": null,
            "grid_auto_flow": null,
            "grid_auto_rows": null,
            "grid_column": null,
            "grid_gap": null,
            "grid_row": null,
            "grid_template_areas": null,
            "grid_template_columns": null,
            "grid_template_rows": null,
            "height": null,
            "justify_content": null,
            "justify_items": null,
            "left": null,
            "margin": null,
            "max_height": null,
            "max_width": null,
            "min_height": null,
            "min_width": null,
            "object_fit": null,
            "object_position": null,
            "order": null,
            "overflow": null,
            "overflow_x": null,
            "overflow_y": null,
            "padding": null,
            "right": null,
            "top": null,
            "visibility": null,
            "width": null
          }
        },
        "ad8ceca6a10749b9a6ecb41413e865bd": {
          "model_module": "@jupyter-widgets/controls",
          "model_name": "DescriptionStyleModel",
          "model_module_version": "1.5.0",
          "state": {
            "_model_module": "@jupyter-widgets/controls",
            "_model_module_version": "1.5.0",
            "_model_name": "DescriptionStyleModel",
            "_view_count": null,
            "_view_module": "@jupyter-widgets/base",
            "_view_module_version": "1.2.0",
            "_view_name": "StyleView",
            "description_width": ""
          }
        },
        "1c1820a3f94241d68097697023e268ea": {
          "model_module": "@jupyter-widgets/controls",
          "model_name": "HBoxModel",
          "model_module_version": "1.5.0",
          "state": {
            "_dom_classes": [],
            "_model_module": "@jupyter-widgets/controls",
            "_model_module_version": "1.5.0",
            "_model_name": "HBoxModel",
            "_view_count": null,
            "_view_module": "@jupyter-widgets/controls",
            "_view_module_version": "1.5.0",
            "_view_name": "HBoxView",
            "box_style": "",
            "children": [
              "IPY_MODEL_dd7d5b8977b6492bb35dd90ab15d6c8a",
              "IPY_MODEL_f853c40830e44741966a17546b83ab30",
              "IPY_MODEL_628834b673544470b94e7547e8c92237"
            ],
            "layout": "IPY_MODEL_3fb505e523384eaf8c91a62a31db09b2"
          }
        },
        "dd7d5b8977b6492bb35dd90ab15d6c8a": {
          "model_module": "@jupyter-widgets/controls",
          "model_name": "HTMLModel",
          "model_module_version": "1.5.0",
          "state": {
            "_dom_classes": [],
            "_model_module": "@jupyter-widgets/controls",
            "_model_module_version": "1.5.0",
            "_model_name": "HTMLModel",
            "_view_count": null,
            "_view_module": "@jupyter-widgets/controls",
            "_view_module_version": "1.5.0",
            "_view_name": "HTMLView",
            "description": "",
            "description_tooltip": null,
            "layout": "IPY_MODEL_be15ba2c5c5f41309d3c4726c3658a56",
            "placeholder": "​",
            "style": "IPY_MODEL_77c5730fdc0148a5b067134dd527319f",
            "value": "Validation DataLoader 0: 100%"
          }
        },
        "f853c40830e44741966a17546b83ab30": {
          "model_module": "@jupyter-widgets/controls",
          "model_name": "FloatProgressModel",
          "model_module_version": "1.5.0",
          "state": {
            "_dom_classes": [],
            "_model_module": "@jupyter-widgets/controls",
            "_model_module_version": "1.5.0",
            "_model_name": "FloatProgressModel",
            "_view_count": null,
            "_view_module": "@jupyter-widgets/controls",
            "_view_module_version": "1.5.0",
            "_view_name": "ProgressView",
            "bar_style": "",
            "description": "",
            "description_tooltip": null,
            "layout": "IPY_MODEL_6a00a356454b4dd6870edd13178ce26a",
            "max": 377,
            "min": 0,
            "orientation": "horizontal",
            "style": "IPY_MODEL_d287f967e0c745b3a5d862749ac58585",
            "value": 377
          }
        },
        "628834b673544470b94e7547e8c92237": {
          "model_module": "@jupyter-widgets/controls",
          "model_name": "HTMLModel",
          "model_module_version": "1.5.0",
          "state": {
            "_dom_classes": [],
            "_model_module": "@jupyter-widgets/controls",
            "_model_module_version": "1.5.0",
            "_model_name": "HTMLModel",
            "_view_count": null,
            "_view_module": "@jupyter-widgets/controls",
            "_view_module_version": "1.5.0",
            "_view_name": "HTMLView",
            "description": "",
            "description_tooltip": null,
            "layout": "IPY_MODEL_cc87aec1a6e14d558e9e58bd343d1019",
            "placeholder": "​",
            "style": "IPY_MODEL_b8f8734212834df09080086f519bfb26",
            "value": " 377/377 [00:05&lt;00:00, 73.13it/s]"
          }
        },
        "3fb505e523384eaf8c91a62a31db09b2": {
          "model_module": "@jupyter-widgets/base",
          "model_name": "LayoutModel",
          "model_module_version": "1.2.0",
          "state": {
            "_model_module": "@jupyter-widgets/base",
            "_model_module_version": "1.2.0",
            "_model_name": "LayoutModel",
            "_view_count": null,
            "_view_module": "@jupyter-widgets/base",
            "_view_module_version": "1.2.0",
            "_view_name": "LayoutView",
            "align_content": null,
            "align_items": null,
            "align_self": null,
            "border": null,
            "bottom": null,
            "display": "inline-flex",
            "flex": null,
            "flex_flow": "row wrap",
            "grid_area": null,
            "grid_auto_columns": null,
            "grid_auto_flow": null,
            "grid_auto_rows": null,
            "grid_column": null,
            "grid_gap": null,
            "grid_row": null,
            "grid_template_areas": null,
            "grid_template_columns": null,
            "grid_template_rows": null,
            "height": null,
            "justify_content": null,
            "justify_items": null,
            "left": null,
            "margin": null,
            "max_height": null,
            "max_width": null,
            "min_height": null,
            "min_width": null,
            "object_fit": null,
            "object_position": null,
            "order": null,
            "overflow": null,
            "overflow_x": null,
            "overflow_y": null,
            "padding": null,
            "right": null,
            "top": null,
            "visibility": "hidden",
            "width": "100%"
          }
        },
        "be15ba2c5c5f41309d3c4726c3658a56": {
          "model_module": "@jupyter-widgets/base",
          "model_name": "LayoutModel",
          "model_module_version": "1.2.0",
          "state": {
            "_model_module": "@jupyter-widgets/base",
            "_model_module_version": "1.2.0",
            "_model_name": "LayoutModel",
            "_view_count": null,
            "_view_module": "@jupyter-widgets/base",
            "_view_module_version": "1.2.0",
            "_view_name": "LayoutView",
            "align_content": null,
            "align_items": null,
            "align_self": null,
            "border": null,
            "bottom": null,
            "display": null,
            "flex": null,
            "flex_flow": null,
            "grid_area": null,
            "grid_auto_columns": null,
            "grid_auto_flow": null,
            "grid_auto_rows": null,
            "grid_column": null,
            "grid_gap": null,
            "grid_row": null,
            "grid_template_areas": null,
            "grid_template_columns": null,
            "grid_template_rows": null,
            "height": null,
            "justify_content": null,
            "justify_items": null,
            "left": null,
            "margin": null,
            "max_height": null,
            "max_width": null,
            "min_height": null,
            "min_width": null,
            "object_fit": null,
            "object_position": null,
            "order": null,
            "overflow": null,
            "overflow_x": null,
            "overflow_y": null,
            "padding": null,
            "right": null,
            "top": null,
            "visibility": null,
            "width": null
          }
        },
        "77c5730fdc0148a5b067134dd527319f": {
          "model_module": "@jupyter-widgets/controls",
          "model_name": "DescriptionStyleModel",
          "model_module_version": "1.5.0",
          "state": {
            "_model_module": "@jupyter-widgets/controls",
            "_model_module_version": "1.5.0",
            "_model_name": "DescriptionStyleModel",
            "_view_count": null,
            "_view_module": "@jupyter-widgets/base",
            "_view_module_version": "1.2.0",
            "_view_name": "StyleView",
            "description_width": ""
          }
        },
        "6a00a356454b4dd6870edd13178ce26a": {
          "model_module": "@jupyter-widgets/base",
          "model_name": "LayoutModel",
          "model_module_version": "1.2.0",
          "state": {
            "_model_module": "@jupyter-widgets/base",
            "_model_module_version": "1.2.0",
            "_model_name": "LayoutModel",
            "_view_count": null,
            "_view_module": "@jupyter-widgets/base",
            "_view_module_version": "1.2.0",
            "_view_name": "LayoutView",
            "align_content": null,
            "align_items": null,
            "align_self": null,
            "border": null,
            "bottom": null,
            "display": null,
            "flex": "2",
            "flex_flow": null,
            "grid_area": null,
            "grid_auto_columns": null,
            "grid_auto_flow": null,
            "grid_auto_rows": null,
            "grid_column": null,
            "grid_gap": null,
            "grid_row": null,
            "grid_template_areas": null,
            "grid_template_columns": null,
            "grid_template_rows": null,
            "height": null,
            "justify_content": null,
            "justify_items": null,
            "left": null,
            "margin": null,
            "max_height": null,
            "max_width": null,
            "min_height": null,
            "min_width": null,
            "object_fit": null,
            "object_position": null,
            "order": null,
            "overflow": null,
            "overflow_x": null,
            "overflow_y": null,
            "padding": null,
            "right": null,
            "top": null,
            "visibility": null,
            "width": null
          }
        },
        "d287f967e0c745b3a5d862749ac58585": {
          "model_module": "@jupyter-widgets/controls",
          "model_name": "ProgressStyleModel",
          "model_module_version": "1.5.0",
          "state": {
            "_model_module": "@jupyter-widgets/controls",
            "_model_module_version": "1.5.0",
            "_model_name": "ProgressStyleModel",
            "_view_count": null,
            "_view_module": "@jupyter-widgets/base",
            "_view_module_version": "1.2.0",
            "_view_name": "StyleView",
            "bar_color": null,
            "description_width": ""
          }
        },
        "cc87aec1a6e14d558e9e58bd343d1019": {
          "model_module": "@jupyter-widgets/base",
          "model_name": "LayoutModel",
          "model_module_version": "1.2.0",
          "state": {
            "_model_module": "@jupyter-widgets/base",
            "_model_module_version": "1.2.0",
            "_model_name": "LayoutModel",
            "_view_count": null,
            "_view_module": "@jupyter-widgets/base",
            "_view_module_version": "1.2.0",
            "_view_name": "LayoutView",
            "align_content": null,
            "align_items": null,
            "align_self": null,
            "border": null,
            "bottom": null,
            "display": null,
            "flex": null,
            "flex_flow": null,
            "grid_area": null,
            "grid_auto_columns": null,
            "grid_auto_flow": null,
            "grid_auto_rows": null,
            "grid_column": null,
            "grid_gap": null,
            "grid_row": null,
            "grid_template_areas": null,
            "grid_template_columns": null,
            "grid_template_rows": null,
            "height": null,
            "justify_content": null,
            "justify_items": null,
            "left": null,
            "margin": null,
            "max_height": null,
            "max_width": null,
            "min_height": null,
            "min_width": null,
            "object_fit": null,
            "object_position": null,
            "order": null,
            "overflow": null,
            "overflow_x": null,
            "overflow_y": null,
            "padding": null,
            "right": null,
            "top": null,
            "visibility": null,
            "width": null
          }
        },
        "b8f8734212834df09080086f519bfb26": {
          "model_module": "@jupyter-widgets/controls",
          "model_name": "DescriptionStyleModel",
          "model_module_version": "1.5.0",
          "state": {
            "_model_module": "@jupyter-widgets/controls",
            "_model_module_version": "1.5.0",
            "_model_name": "DescriptionStyleModel",
            "_view_count": null,
            "_view_module": "@jupyter-widgets/base",
            "_view_module_version": "1.2.0",
            "_view_name": "StyleView",
            "description_width": ""
          }
        },
        "930b1774225b4a26a74f188ae08dd849": {
          "model_module": "@jupyter-widgets/controls",
          "model_name": "VBoxModel",
          "model_module_version": "1.5.0",
          "state": {
            "_dom_classes": [],
            "_model_module": "@jupyter-widgets/controls",
            "_model_module_version": "1.5.0",
            "_model_name": "VBoxModel",
            "_view_count": null,
            "_view_module": "@jupyter-widgets/controls",
            "_view_module_version": "1.5.0",
            "_view_name": "VBoxView",
            "box_style": "",
            "children": [
              "IPY_MODEL_3dc35ad5efb248e5a94e775e4b7d94e1",
              "IPY_MODEL_9a823feb578640bfa72e2afb67225c59"
            ],
            "layout": "IPY_MODEL_65770bb4e42b45bc9b52b000956e716d"
          }
        },
        "3dc35ad5efb248e5a94e775e4b7d94e1": {
          "model_module": "@jupyter-widgets/controls",
          "model_name": "LabelModel",
          "model_module_version": "1.5.0",
          "state": {
            "_dom_classes": [],
            "_model_module": "@jupyter-widgets/controls",
            "_model_module_version": "1.5.0",
            "_model_name": "LabelModel",
            "_view_count": null,
            "_view_module": "@jupyter-widgets/controls",
            "_view_module_version": "1.5.0",
            "_view_name": "LabelView",
            "description": "",
            "description_tooltip": null,
            "layout": "IPY_MODEL_b9aeff511de847dc9244dff38919a4bd",
            "placeholder": "​",
            "style": "IPY_MODEL_0cff3562384d4ccb9e395bcda41f6b48",
            "value": "0.016 MB of 0.016 MB uploaded\r"
          }
        },
        "9a823feb578640bfa72e2afb67225c59": {
          "model_module": "@jupyter-widgets/controls",
          "model_name": "FloatProgressModel",
          "model_module_version": "1.5.0",
          "state": {
            "_dom_classes": [],
            "_model_module": "@jupyter-widgets/controls",
            "_model_module_version": "1.5.0",
            "_model_name": "FloatProgressModel",
            "_view_count": null,
            "_view_module": "@jupyter-widgets/controls",
            "_view_module_version": "1.5.0",
            "_view_name": "ProgressView",
            "bar_style": "",
            "description": "",
            "description_tooltip": null,
            "layout": "IPY_MODEL_f2e9ce8bc86847a49ce5aa452f6ea129",
            "max": 1,
            "min": 0,
            "orientation": "horizontal",
            "style": "IPY_MODEL_8c0b0749bae546b7b1ebba55be6bc0b2",
            "value": 1
          }
        },
        "65770bb4e42b45bc9b52b000956e716d": {
          "model_module": "@jupyter-widgets/base",
          "model_name": "LayoutModel",
          "model_module_version": "1.2.0",
          "state": {
            "_model_module": "@jupyter-widgets/base",
            "_model_module_version": "1.2.0",
            "_model_name": "LayoutModel",
            "_view_count": null,
            "_view_module": "@jupyter-widgets/base",
            "_view_module_version": "1.2.0",
            "_view_name": "LayoutView",
            "align_content": null,
            "align_items": null,
            "align_self": null,
            "border": null,
            "bottom": null,
            "display": null,
            "flex": null,
            "flex_flow": null,
            "grid_area": null,
            "grid_auto_columns": null,
            "grid_auto_flow": null,
            "grid_auto_rows": null,
            "grid_column": null,
            "grid_gap": null,
            "grid_row": null,
            "grid_template_areas": null,
            "grid_template_columns": null,
            "grid_template_rows": null,
            "height": null,
            "justify_content": null,
            "justify_items": null,
            "left": null,
            "margin": null,
            "max_height": null,
            "max_width": null,
            "min_height": null,
            "min_width": null,
            "object_fit": null,
            "object_position": null,
            "order": null,
            "overflow": null,
            "overflow_x": null,
            "overflow_y": null,
            "padding": null,
            "right": null,
            "top": null,
            "visibility": null,
            "width": null
          }
        },
        "b9aeff511de847dc9244dff38919a4bd": {
          "model_module": "@jupyter-widgets/base",
          "model_name": "LayoutModel",
          "model_module_version": "1.2.0",
          "state": {
            "_model_module": "@jupyter-widgets/base",
            "_model_module_version": "1.2.0",
            "_model_name": "LayoutModel",
            "_view_count": null,
            "_view_module": "@jupyter-widgets/base",
            "_view_module_version": "1.2.0",
            "_view_name": "LayoutView",
            "align_content": null,
            "align_items": null,
            "align_self": null,
            "border": null,
            "bottom": null,
            "display": null,
            "flex": null,
            "flex_flow": null,
            "grid_area": null,
            "grid_auto_columns": null,
            "grid_auto_flow": null,
            "grid_auto_rows": null,
            "grid_column": null,
            "grid_gap": null,
            "grid_row": null,
            "grid_template_areas": null,
            "grid_template_columns": null,
            "grid_template_rows": null,
            "height": null,
            "justify_content": null,
            "justify_items": null,
            "left": null,
            "margin": null,
            "max_height": null,
            "max_width": null,
            "min_height": null,
            "min_width": null,
            "object_fit": null,
            "object_position": null,
            "order": null,
            "overflow": null,
            "overflow_x": null,
            "overflow_y": null,
            "padding": null,
            "right": null,
            "top": null,
            "visibility": null,
            "width": null
          }
        },
        "0cff3562384d4ccb9e395bcda41f6b48": {
          "model_module": "@jupyter-widgets/controls",
          "model_name": "DescriptionStyleModel",
          "model_module_version": "1.5.0",
          "state": {
            "_model_module": "@jupyter-widgets/controls",
            "_model_module_version": "1.5.0",
            "_model_name": "DescriptionStyleModel",
            "_view_count": null,
            "_view_module": "@jupyter-widgets/base",
            "_view_module_version": "1.2.0",
            "_view_name": "StyleView",
            "description_width": ""
          }
        },
        "f2e9ce8bc86847a49ce5aa452f6ea129": {
          "model_module": "@jupyter-widgets/base",
          "model_name": "LayoutModel",
          "model_module_version": "1.2.0",
          "state": {
            "_model_module": "@jupyter-widgets/base",
            "_model_module_version": "1.2.0",
            "_model_name": "LayoutModel",
            "_view_count": null,
            "_view_module": "@jupyter-widgets/base",
            "_view_module_version": "1.2.0",
            "_view_name": "LayoutView",
            "align_content": null,
            "align_items": null,
            "align_self": null,
            "border": null,
            "bottom": null,
            "display": null,
            "flex": null,
            "flex_flow": null,
            "grid_area": null,
            "grid_auto_columns": null,
            "grid_auto_flow": null,
            "grid_auto_rows": null,
            "grid_column": null,
            "grid_gap": null,
            "grid_row": null,
            "grid_template_areas": null,
            "grid_template_columns": null,
            "grid_template_rows": null,
            "height": null,
            "justify_content": null,
            "justify_items": null,
            "left": null,
            "margin": null,
            "max_height": null,
            "max_width": null,
            "min_height": null,
            "min_width": null,
            "object_fit": null,
            "object_position": null,
            "order": null,
            "overflow": null,
            "overflow_x": null,
            "overflow_y": null,
            "padding": null,
            "right": null,
            "top": null,
            "visibility": null,
            "width": null
          }
        },
        "8c0b0749bae546b7b1ebba55be6bc0b2": {
          "model_module": "@jupyter-widgets/controls",
          "model_name": "ProgressStyleModel",
          "model_module_version": "1.5.0",
          "state": {
            "_model_module": "@jupyter-widgets/controls",
            "_model_module_version": "1.5.0",
            "_model_name": "ProgressStyleModel",
            "_view_count": null,
            "_view_module": "@jupyter-widgets/base",
            "_view_module_version": "1.2.0",
            "_view_name": "StyleView",
            "bar_color": null,
            "description_width": ""
          }
        },
        "3ea1f883cd954818be9d986e801a564c": {
          "model_module": "@jupyter-widgets/controls",
          "model_name": "VBoxModel",
          "model_module_version": "1.5.0",
          "state": {
            "_dom_classes": [],
            "_model_module": "@jupyter-widgets/controls",
            "_model_module_version": "1.5.0",
            "_model_name": "VBoxModel",
            "_view_count": null,
            "_view_module": "@jupyter-widgets/controls",
            "_view_module_version": "1.5.0",
            "_view_name": "VBoxView",
            "box_style": "",
            "children": [
              "IPY_MODEL_f7a6c6f900a247179646d40f937e0ddd",
              "IPY_MODEL_d63a82d2d96f4639846c4c026888b961"
            ],
            "layout": "IPY_MODEL_f56025fde9124d0492023cd5c419732c"
          }
        },
        "f7a6c6f900a247179646d40f937e0ddd": {
          "model_module": "@jupyter-widgets/controls",
          "model_name": "LabelModel",
          "model_module_version": "1.5.0",
          "state": {
            "_dom_classes": [],
            "_model_module": "@jupyter-widgets/controls",
            "_model_module_version": "1.5.0",
            "_model_name": "LabelModel",
            "_view_count": null,
            "_view_module": "@jupyter-widgets/controls",
            "_view_module_version": "1.5.0",
            "_view_name": "LabelView",
            "description": "",
            "description_tooltip": null,
            "layout": "IPY_MODEL_3a59294fc1c542e8bf2945e8dc2ac0e1",
            "placeholder": "​",
            "style": "IPY_MODEL_890262d62b874994ba5a116011342573",
            "value": "Waiting for wandb.init()...\r"
          }
        },
        "d63a82d2d96f4639846c4c026888b961": {
          "model_module": "@jupyter-widgets/controls",
          "model_name": "FloatProgressModel",
          "model_module_version": "1.5.0",
          "state": {
            "_dom_classes": [],
            "_model_module": "@jupyter-widgets/controls",
            "_model_module_version": "1.5.0",
            "_model_name": "FloatProgressModel",
            "_view_count": null,
            "_view_module": "@jupyter-widgets/controls",
            "_view_module_version": "1.5.0",
            "_view_name": "ProgressView",
            "bar_style": "",
            "description": "",
            "description_tooltip": null,
            "layout": "IPY_MODEL_bb5b0095006247df82f1a1c87d18ddc6",
            "max": 1,
            "min": 0,
            "orientation": "horizontal",
            "style": "IPY_MODEL_34dbfeb2e1f94f8296916a5227682bc7",
            "value": 0.46698973169999997
          }
        },
        "f56025fde9124d0492023cd5c419732c": {
          "model_module": "@jupyter-widgets/base",
          "model_name": "LayoutModel",
          "model_module_version": "1.2.0",
          "state": {
            "_model_module": "@jupyter-widgets/base",
            "_model_module_version": "1.2.0",
            "_model_name": "LayoutModel",
            "_view_count": null,
            "_view_module": "@jupyter-widgets/base",
            "_view_module_version": "1.2.0",
            "_view_name": "LayoutView",
            "align_content": null,
            "align_items": null,
            "align_self": null,
            "border": null,
            "bottom": null,
            "display": null,
            "flex": null,
            "flex_flow": null,
            "grid_area": null,
            "grid_auto_columns": null,
            "grid_auto_flow": null,
            "grid_auto_rows": null,
            "grid_column": null,
            "grid_gap": null,
            "grid_row": null,
            "grid_template_areas": null,
            "grid_template_columns": null,
            "grid_template_rows": null,
            "height": null,
            "justify_content": null,
            "justify_items": null,
            "left": null,
            "margin": null,
            "max_height": null,
            "max_width": null,
            "min_height": null,
            "min_width": null,
            "object_fit": null,
            "object_position": null,
            "order": null,
            "overflow": null,
            "overflow_x": null,
            "overflow_y": null,
            "padding": null,
            "right": null,
            "top": null,
            "visibility": null,
            "width": null
          }
        },
        "3a59294fc1c542e8bf2945e8dc2ac0e1": {
          "model_module": "@jupyter-widgets/base",
          "model_name": "LayoutModel",
          "model_module_version": "1.2.0",
          "state": {
            "_model_module": "@jupyter-widgets/base",
            "_model_module_version": "1.2.0",
            "_model_name": "LayoutModel",
            "_view_count": null,
            "_view_module": "@jupyter-widgets/base",
            "_view_module_version": "1.2.0",
            "_view_name": "LayoutView",
            "align_content": null,
            "align_items": null,
            "align_self": null,
            "border": null,
            "bottom": null,
            "display": null,
            "flex": null,
            "flex_flow": null,
            "grid_area": null,
            "grid_auto_columns": null,
            "grid_auto_flow": null,
            "grid_auto_rows": null,
            "grid_column": null,
            "grid_gap": null,
            "grid_row": null,
            "grid_template_areas": null,
            "grid_template_columns": null,
            "grid_template_rows": null,
            "height": null,
            "justify_content": null,
            "justify_items": null,
            "left": null,
            "margin": null,
            "max_height": null,
            "max_width": null,
            "min_height": null,
            "min_width": null,
            "object_fit": null,
            "object_position": null,
            "order": null,
            "overflow": null,
            "overflow_x": null,
            "overflow_y": null,
            "padding": null,
            "right": null,
            "top": null,
            "visibility": null,
            "width": null
          }
        },
        "890262d62b874994ba5a116011342573": {
          "model_module": "@jupyter-widgets/controls",
          "model_name": "DescriptionStyleModel",
          "model_module_version": "1.5.0",
          "state": {
            "_model_module": "@jupyter-widgets/controls",
            "_model_module_version": "1.5.0",
            "_model_name": "DescriptionStyleModel",
            "_view_count": null,
            "_view_module": "@jupyter-widgets/base",
            "_view_module_version": "1.2.0",
            "_view_name": "StyleView",
            "description_width": ""
          }
        },
        "bb5b0095006247df82f1a1c87d18ddc6": {
          "model_module": "@jupyter-widgets/base",
          "model_name": "LayoutModel",
          "model_module_version": "1.2.0",
          "state": {
            "_model_module": "@jupyter-widgets/base",
            "_model_module_version": "1.2.0",
            "_model_name": "LayoutModel",
            "_view_count": null,
            "_view_module": "@jupyter-widgets/base",
            "_view_module_version": "1.2.0",
            "_view_name": "LayoutView",
            "align_content": null,
            "align_items": null,
            "align_self": null,
            "border": null,
            "bottom": null,
            "display": null,
            "flex": null,
            "flex_flow": null,
            "grid_area": null,
            "grid_auto_columns": null,
            "grid_auto_flow": null,
            "grid_auto_rows": null,
            "grid_column": null,
            "grid_gap": null,
            "grid_row": null,
            "grid_template_areas": null,
            "grid_template_columns": null,
            "grid_template_rows": null,
            "height": null,
            "justify_content": null,
            "justify_items": null,
            "left": null,
            "margin": null,
            "max_height": null,
            "max_width": null,
            "min_height": null,
            "min_width": null,
            "object_fit": null,
            "object_position": null,
            "order": null,
            "overflow": null,
            "overflow_x": null,
            "overflow_y": null,
            "padding": null,
            "right": null,
            "top": null,
            "visibility": null,
            "width": null
          }
        },
        "34dbfeb2e1f94f8296916a5227682bc7": {
          "model_module": "@jupyter-widgets/controls",
          "model_name": "ProgressStyleModel",
          "model_module_version": "1.5.0",
          "state": {
            "_model_module": "@jupyter-widgets/controls",
            "_model_module_version": "1.5.0",
            "_model_name": "ProgressStyleModel",
            "_view_count": null,
            "_view_module": "@jupyter-widgets/base",
            "_view_module_version": "1.2.0",
            "_view_name": "StyleView",
            "bar_color": null,
            "description_width": ""
          }
        }
      }
    }
  },
  "nbformat": 4,
  "nbformat_minor": 0
}