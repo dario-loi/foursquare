{
  "metadata": {
    "kernelspec": {
      "name": "python3",
      "display_name": "Python 3"
    },
    "language_info": {
      "name": "python",
      "version": "3.10.13",
      "mimetype": "text/x-python",
      "codemirror_mode": {
        "name": "ipython",
        "version": 3
      },
      "pygments_lexer": "ipython3",
      "nbconvert_exporter": "python",
      "file_extension": ".py"
    },
    "kaggle": {
      "accelerator": "nvidiaTeslaT4",
      "dataSources": [
        {
          "sourceId": 8383172,
          "sourceType": "datasetVersion",
          "datasetId": 4985565
        }
      ],
      "dockerImageVersionId": 30699,
      "isInternetEnabled": true,
      "language": "python",
      "sourceType": "notebook",
      "isGpuEnabled": true
    },
    "colab": {
      "provenance": [],
      "machine_shape": "hm",
      "gpuType": "L4"
    },
    "accelerator": "GPU",
    "widgets": {
      "application/vnd.jupyter.widget-state+json": {
        "fb646ce9b1a349f6b4ad8a2a3af5bd1e": {
          "model_module": "@jupyter-widgets/controls",
          "model_name": "HBoxModel",
          "model_module_version": "1.5.0",
          "state": {
            "_dom_classes": [],
            "_model_module": "@jupyter-widgets/controls",
            "_model_module_version": "1.5.0",
            "_model_name": "HBoxModel",
            "_view_count": null,
            "_view_module": "@jupyter-widgets/controls",
            "_view_module_version": "1.5.0",
            "_view_name": "HBoxView",
            "box_style": "",
            "children": [
              "IPY_MODEL_23c9017b099a43e99ce10d26fd9f54d0",
              "IPY_MODEL_849ab56b5ed441009e955aa896b6ce22",
              "IPY_MODEL_39ee39836c244d6cab7db53bb9faea62"
            ],
            "layout": "IPY_MODEL_ba7deaa122a048dcafc3b0a48c23bb1e"
          }
        },
        "23c9017b099a43e99ce10d26fd9f54d0": {
          "model_module": "@jupyter-widgets/controls",
          "model_name": "HTMLModel",
          "model_module_version": "1.5.0",
          "state": {
            "_dom_classes": [],
            "_model_module": "@jupyter-widgets/controls",
            "_model_module_version": "1.5.0",
            "_model_name": "HTMLModel",
            "_view_count": null,
            "_view_module": "@jupyter-widgets/controls",
            "_view_module_version": "1.5.0",
            "_view_name": "HTMLView",
            "description": "",
            "description_tooltip": null,
            "layout": "IPY_MODEL_ffaa7bb42bde464e93537d3d260e0edc",
            "placeholder": "​",
            "style": "IPY_MODEL_4540e73ec9ab4a46b649cae0d5c9afca",
            "value": "Sanity Checking DataLoader 0: 100%"
          }
        },
        "849ab56b5ed441009e955aa896b6ce22": {
          "model_module": "@jupyter-widgets/controls",
          "model_name": "FloatProgressModel",
          "model_module_version": "1.5.0",
          "state": {
            "_dom_classes": [],
            "_model_module": "@jupyter-widgets/controls",
            "_model_module_version": "1.5.0",
            "_model_name": "FloatProgressModel",
            "_view_count": null,
            "_view_module": "@jupyter-widgets/controls",
            "_view_module_version": "1.5.0",
            "_view_name": "ProgressView",
            "bar_style": "",
            "description": "",
            "description_tooltip": null,
            "layout": "IPY_MODEL_c5bdaf2fcc8349998ea77ab1ce80001e",
            "max": 2,
            "min": 0,
            "orientation": "horizontal",
            "style": "IPY_MODEL_b202e4f8dc844ae282b297113fd17edf",
            "value": 2
          }
        },
        "39ee39836c244d6cab7db53bb9faea62": {
          "model_module": "@jupyter-widgets/controls",
          "model_name": "HTMLModel",
          "model_module_version": "1.5.0",
          "state": {
            "_dom_classes": [],
            "_model_module": "@jupyter-widgets/controls",
            "_model_module_version": "1.5.0",
            "_model_name": "HTMLModel",
            "_view_count": null,
            "_view_module": "@jupyter-widgets/controls",
            "_view_module_version": "1.5.0",
            "_view_name": "HTMLView",
            "description": "",
            "description_tooltip": null,
            "layout": "IPY_MODEL_6656c807ac6d4585beec91cd3f6d9624",
            "placeholder": "​",
            "style": "IPY_MODEL_fc4d7c3653cc471aaa44892aa3a59802",
            "value": " 2/2 [00:00&lt;00:00, 44.80it/s]"
          }
        },
        "ba7deaa122a048dcafc3b0a48c23bb1e": {
          "model_module": "@jupyter-widgets/base",
          "model_name": "LayoutModel",
          "model_module_version": "1.2.0",
          "state": {
            "_model_module": "@jupyter-widgets/base",
            "_model_module_version": "1.2.0",
            "_model_name": "LayoutModel",
            "_view_count": null,
            "_view_module": "@jupyter-widgets/base",
            "_view_module_version": "1.2.0",
            "_view_name": "LayoutView",
            "align_content": null,
            "align_items": null,
            "align_self": null,
            "border": null,
            "bottom": null,
            "display": "inline-flex",
            "flex": null,
            "flex_flow": "row wrap",
            "grid_area": null,
            "grid_auto_columns": null,
            "grid_auto_flow": null,
            "grid_auto_rows": null,
            "grid_column": null,
            "grid_gap": null,
            "grid_row": null,
            "grid_template_areas": null,
            "grid_template_columns": null,
            "grid_template_rows": null,
            "height": null,
            "justify_content": null,
            "justify_items": null,
            "left": null,
            "margin": null,
            "max_height": null,
            "max_width": null,
            "min_height": null,
            "min_width": null,
            "object_fit": null,
            "object_position": null,
            "order": null,
            "overflow": null,
            "overflow_x": null,
            "overflow_y": null,
            "padding": null,
            "right": null,
            "top": null,
            "visibility": "hidden",
            "width": "100%"
          }
        },
        "ffaa7bb42bde464e93537d3d260e0edc": {
          "model_module": "@jupyter-widgets/base",
          "model_name": "LayoutModel",
          "model_module_version": "1.2.0",
          "state": {
            "_model_module": "@jupyter-widgets/base",
            "_model_module_version": "1.2.0",
            "_model_name": "LayoutModel",
            "_view_count": null,
            "_view_module": "@jupyter-widgets/base",
            "_view_module_version": "1.2.0",
            "_view_name": "LayoutView",
            "align_content": null,
            "align_items": null,
            "align_self": null,
            "border": null,
            "bottom": null,
            "display": null,
            "flex": null,
            "flex_flow": null,
            "grid_area": null,
            "grid_auto_columns": null,
            "grid_auto_flow": null,
            "grid_auto_rows": null,
            "grid_column": null,
            "grid_gap": null,
            "grid_row": null,
            "grid_template_areas": null,
            "grid_template_columns": null,
            "grid_template_rows": null,
            "height": null,
            "justify_content": null,
            "justify_items": null,
            "left": null,
            "margin": null,
            "max_height": null,
            "max_width": null,
            "min_height": null,
            "min_width": null,
            "object_fit": null,
            "object_position": null,
            "order": null,
            "overflow": null,
            "overflow_x": null,
            "overflow_y": null,
            "padding": null,
            "right": null,
            "top": null,
            "visibility": null,
            "width": null
          }
        },
        "4540e73ec9ab4a46b649cae0d5c9afca": {
          "model_module": "@jupyter-widgets/controls",
          "model_name": "DescriptionStyleModel",
          "model_module_version": "1.5.0",
          "state": {
            "_model_module": "@jupyter-widgets/controls",
            "_model_module_version": "1.5.0",
            "_model_name": "DescriptionStyleModel",
            "_view_count": null,
            "_view_module": "@jupyter-widgets/base",
            "_view_module_version": "1.2.0",
            "_view_name": "StyleView",
            "description_width": ""
          }
        },
        "c5bdaf2fcc8349998ea77ab1ce80001e": {
          "model_module": "@jupyter-widgets/base",
          "model_name": "LayoutModel",
          "model_module_version": "1.2.0",
          "state": {
            "_model_module": "@jupyter-widgets/base",
            "_model_module_version": "1.2.0",
            "_model_name": "LayoutModel",
            "_view_count": null,
            "_view_module": "@jupyter-widgets/base",
            "_view_module_version": "1.2.0",
            "_view_name": "LayoutView",
            "align_content": null,
            "align_items": null,
            "align_self": null,
            "border": null,
            "bottom": null,
            "display": null,
            "flex": "2",
            "flex_flow": null,
            "grid_area": null,
            "grid_auto_columns": null,
            "grid_auto_flow": null,
            "grid_auto_rows": null,
            "grid_column": null,
            "grid_gap": null,
            "grid_row": null,
            "grid_template_areas": null,
            "grid_template_columns": null,
            "grid_template_rows": null,
            "height": null,
            "justify_content": null,
            "justify_items": null,
            "left": null,
            "margin": null,
            "max_height": null,
            "max_width": null,
            "min_height": null,
            "min_width": null,
            "object_fit": null,
            "object_position": null,
            "order": null,
            "overflow": null,
            "overflow_x": null,
            "overflow_y": null,
            "padding": null,
            "right": null,
            "top": null,
            "visibility": null,
            "width": null
          }
        },
        "b202e4f8dc844ae282b297113fd17edf": {
          "model_module": "@jupyter-widgets/controls",
          "model_name": "ProgressStyleModel",
          "model_module_version": "1.5.0",
          "state": {
            "_model_module": "@jupyter-widgets/controls",
            "_model_module_version": "1.5.0",
            "_model_name": "ProgressStyleModel",
            "_view_count": null,
            "_view_module": "@jupyter-widgets/base",
            "_view_module_version": "1.2.0",
            "_view_name": "StyleView",
            "bar_color": null,
            "description_width": ""
          }
        },
        "6656c807ac6d4585beec91cd3f6d9624": {
          "model_module": "@jupyter-widgets/base",
          "model_name": "LayoutModel",
          "model_module_version": "1.2.0",
          "state": {
            "_model_module": "@jupyter-widgets/base",
            "_model_module_version": "1.2.0",
            "_model_name": "LayoutModel",
            "_view_count": null,
            "_view_module": "@jupyter-widgets/base",
            "_view_module_version": "1.2.0",
            "_view_name": "LayoutView",
            "align_content": null,
            "align_items": null,
            "align_self": null,
            "border": null,
            "bottom": null,
            "display": null,
            "flex": null,
            "flex_flow": null,
            "grid_area": null,
            "grid_auto_columns": null,
            "grid_auto_flow": null,
            "grid_auto_rows": null,
            "grid_column": null,
            "grid_gap": null,
            "grid_row": null,
            "grid_template_areas": null,
            "grid_template_columns": null,
            "grid_template_rows": null,
            "height": null,
            "justify_content": null,
            "justify_items": null,
            "left": null,
            "margin": null,
            "max_height": null,
            "max_width": null,
            "min_height": null,
            "min_width": null,
            "object_fit": null,
            "object_position": null,
            "order": null,
            "overflow": null,
            "overflow_x": null,
            "overflow_y": null,
            "padding": null,
            "right": null,
            "top": null,
            "visibility": null,
            "width": null
          }
        },
        "fc4d7c3653cc471aaa44892aa3a59802": {
          "model_module": "@jupyter-widgets/controls",
          "model_name": "DescriptionStyleModel",
          "model_module_version": "1.5.0",
          "state": {
            "_model_module": "@jupyter-widgets/controls",
            "_model_module_version": "1.5.0",
            "_model_name": "DescriptionStyleModel",
            "_view_count": null,
            "_view_module": "@jupyter-widgets/base",
            "_view_module_version": "1.2.0",
            "_view_name": "StyleView",
            "description_width": ""
          }
        },
        "a4ab209f2463426fa998cee2a1e40e7f": {
          "model_module": "@jupyter-widgets/controls",
          "model_name": "HBoxModel",
          "model_module_version": "1.5.0",
          "state": {
            "_dom_classes": [],
            "_model_module": "@jupyter-widgets/controls",
            "_model_module_version": "1.5.0",
            "_model_name": "HBoxModel",
            "_view_count": null,
            "_view_module": "@jupyter-widgets/controls",
            "_view_module_version": "1.5.0",
            "_view_name": "HBoxView",
            "box_style": "",
            "children": [
              "IPY_MODEL_ae42c3b0f3404b67bd0f8cd72ab525ec",
              "IPY_MODEL_299bdfcf70f04eb58c2b52c5ef5e84e3",
              "IPY_MODEL_5922b45a308c4ddc9eda7541d54b97b4"
            ],
            "layout": "IPY_MODEL_c8165d1ddf5b4540973760c577c91a58"
          }
        },
        "ae42c3b0f3404b67bd0f8cd72ab525ec": {
          "model_module": "@jupyter-widgets/controls",
          "model_name": "HTMLModel",
          "model_module_version": "1.5.0",
          "state": {
            "_dom_classes": [],
            "_model_module": "@jupyter-widgets/controls",
            "_model_module_version": "1.5.0",
            "_model_name": "HTMLModel",
            "_view_count": null,
            "_view_module": "@jupyter-widgets/controls",
            "_view_module_version": "1.5.0",
            "_view_name": "HTMLView",
            "description": "",
            "description_tooltip": null,
            "layout": "IPY_MODEL_5a310faf587f4a93b62129c55ee30a5c",
            "placeholder": "​",
            "style": "IPY_MODEL_dcc559fb7cb84892836e4133b21d018e",
            "value": "Epoch 9: 100%"
          }
        },
        "299bdfcf70f04eb58c2b52c5ef5e84e3": {
          "model_module": "@jupyter-widgets/controls",
          "model_name": "FloatProgressModel",
          "model_module_version": "1.5.0",
          "state": {
            "_dom_classes": [],
            "_model_module": "@jupyter-widgets/controls",
            "_model_module_version": "1.5.0",
            "_model_name": "FloatProgressModel",
            "_view_count": null,
            "_view_module": "@jupyter-widgets/controls",
            "_view_module_version": "1.5.0",
            "_view_name": "ProgressView",
            "bar_style": "success",
            "description": "",
            "description_tooltip": null,
            "layout": "IPY_MODEL_c8179094b684483aa855df1acb06fb54",
            "max": 497,
            "min": 0,
            "orientation": "horizontal",
            "style": "IPY_MODEL_4694b8ce86374a16bb966518b57d1111",
            "value": 497
          }
        },
        "5922b45a308c4ddc9eda7541d54b97b4": {
          "model_module": "@jupyter-widgets/controls",
          "model_name": "HTMLModel",
          "model_module_version": "1.5.0",
          "state": {
            "_dom_classes": [],
            "_model_module": "@jupyter-widgets/controls",
            "_model_module_version": "1.5.0",
            "_model_name": "HTMLModel",
            "_view_count": null,
            "_view_module": "@jupyter-widgets/controls",
            "_view_module_version": "1.5.0",
            "_view_name": "HTMLView",
            "description": "",
            "description_tooltip": null,
            "layout": "IPY_MODEL_f8e7bd4868a84aa99b3ae0943b9e2043",
            "placeholder": "​",
            "style": "IPY_MODEL_d5e2e463fbb84417ace2c7e415c70159",
            "value": " 497/497 [00:23&lt;00:00, 21.24it/s, v_num=tgxc]"
          }
        },
        "c8165d1ddf5b4540973760c577c91a58": {
          "model_module": "@jupyter-widgets/base",
          "model_name": "LayoutModel",
          "model_module_version": "1.2.0",
          "state": {
            "_model_module": "@jupyter-widgets/base",
            "_model_module_version": "1.2.0",
            "_model_name": "LayoutModel",
            "_view_count": null,
            "_view_module": "@jupyter-widgets/base",
            "_view_module_version": "1.2.0",
            "_view_name": "LayoutView",
            "align_content": null,
            "align_items": null,
            "align_self": null,
            "border": null,
            "bottom": null,
            "display": "inline-flex",
            "flex": null,
            "flex_flow": "row wrap",
            "grid_area": null,
            "grid_auto_columns": null,
            "grid_auto_flow": null,
            "grid_auto_rows": null,
            "grid_column": null,
            "grid_gap": null,
            "grid_row": null,
            "grid_template_areas": null,
            "grid_template_columns": null,
            "grid_template_rows": null,
            "height": null,
            "justify_content": null,
            "justify_items": null,
            "left": null,
            "margin": null,
            "max_height": null,
            "max_width": null,
            "min_height": null,
            "min_width": null,
            "object_fit": null,
            "object_position": null,
            "order": null,
            "overflow": null,
            "overflow_x": null,
            "overflow_y": null,
            "padding": null,
            "right": null,
            "top": null,
            "visibility": null,
            "width": "100%"
          }
        },
        "5a310faf587f4a93b62129c55ee30a5c": {
          "model_module": "@jupyter-widgets/base",
          "model_name": "LayoutModel",
          "model_module_version": "1.2.0",
          "state": {
            "_model_module": "@jupyter-widgets/base",
            "_model_module_version": "1.2.0",
            "_model_name": "LayoutModel",
            "_view_count": null,
            "_view_module": "@jupyter-widgets/base",
            "_view_module_version": "1.2.0",
            "_view_name": "LayoutView",
            "align_content": null,
            "align_items": null,
            "align_self": null,
            "border": null,
            "bottom": null,
            "display": null,
            "flex": null,
            "flex_flow": null,
            "grid_area": null,
            "grid_auto_columns": null,
            "grid_auto_flow": null,
            "grid_auto_rows": null,
            "grid_column": null,
            "grid_gap": null,
            "grid_row": null,
            "grid_template_areas": null,
            "grid_template_columns": null,
            "grid_template_rows": null,
            "height": null,
            "justify_content": null,
            "justify_items": null,
            "left": null,
            "margin": null,
            "max_height": null,
            "max_width": null,
            "min_height": null,
            "min_width": null,
            "object_fit": null,
            "object_position": null,
            "order": null,
            "overflow": null,
            "overflow_x": null,
            "overflow_y": null,
            "padding": null,
            "right": null,
            "top": null,
            "visibility": null,
            "width": null
          }
        },
        "dcc559fb7cb84892836e4133b21d018e": {
          "model_module": "@jupyter-widgets/controls",
          "model_name": "DescriptionStyleModel",
          "model_module_version": "1.5.0",
          "state": {
            "_model_module": "@jupyter-widgets/controls",
            "_model_module_version": "1.5.0",
            "_model_name": "DescriptionStyleModel",
            "_view_count": null,
            "_view_module": "@jupyter-widgets/base",
            "_view_module_version": "1.2.0",
            "_view_name": "StyleView",
            "description_width": ""
          }
        },
        "c8179094b684483aa855df1acb06fb54": {
          "model_module": "@jupyter-widgets/base",
          "model_name": "LayoutModel",
          "model_module_version": "1.2.0",
          "state": {
            "_model_module": "@jupyter-widgets/base",
            "_model_module_version": "1.2.0",
            "_model_name": "LayoutModel",
            "_view_count": null,
            "_view_module": "@jupyter-widgets/base",
            "_view_module_version": "1.2.0",
            "_view_name": "LayoutView",
            "align_content": null,
            "align_items": null,
            "align_self": null,
            "border": null,
            "bottom": null,
            "display": null,
            "flex": "2",
            "flex_flow": null,
            "grid_area": null,
            "grid_auto_columns": null,
            "grid_auto_flow": null,
            "grid_auto_rows": null,
            "grid_column": null,
            "grid_gap": null,
            "grid_row": null,
            "grid_template_areas": null,
            "grid_template_columns": null,
            "grid_template_rows": null,
            "height": null,
            "justify_content": null,
            "justify_items": null,
            "left": null,
            "margin": null,
            "max_height": null,
            "max_width": null,
            "min_height": null,
            "min_width": null,
            "object_fit": null,
            "object_position": null,
            "order": null,
            "overflow": null,
            "overflow_x": null,
            "overflow_y": null,
            "padding": null,
            "right": null,
            "top": null,
            "visibility": null,
            "width": null
          }
        },
        "4694b8ce86374a16bb966518b57d1111": {
          "model_module": "@jupyter-widgets/controls",
          "model_name": "ProgressStyleModel",
          "model_module_version": "1.5.0",
          "state": {
            "_model_module": "@jupyter-widgets/controls",
            "_model_module_version": "1.5.0",
            "_model_name": "ProgressStyleModel",
            "_view_count": null,
            "_view_module": "@jupyter-widgets/base",
            "_view_module_version": "1.2.0",
            "_view_name": "StyleView",
            "bar_color": null,
            "description_width": ""
          }
        },
        "f8e7bd4868a84aa99b3ae0943b9e2043": {
          "model_module": "@jupyter-widgets/base",
          "model_name": "LayoutModel",
          "model_module_version": "1.2.0",
          "state": {
            "_model_module": "@jupyter-widgets/base",
            "_model_module_version": "1.2.0",
            "_model_name": "LayoutModel",
            "_view_count": null,
            "_view_module": "@jupyter-widgets/base",
            "_view_module_version": "1.2.0",
            "_view_name": "LayoutView",
            "align_content": null,
            "align_items": null,
            "align_self": null,
            "border": null,
            "bottom": null,
            "display": null,
            "flex": null,
            "flex_flow": null,
            "grid_area": null,
            "grid_auto_columns": null,
            "grid_auto_flow": null,
            "grid_auto_rows": null,
            "grid_column": null,
            "grid_gap": null,
            "grid_row": null,
            "grid_template_areas": null,
            "grid_template_columns": null,
            "grid_template_rows": null,
            "height": null,
            "justify_content": null,
            "justify_items": null,
            "left": null,
            "margin": null,
            "max_height": null,
            "max_width": null,
            "min_height": null,
            "min_width": null,
            "object_fit": null,
            "object_position": null,
            "order": null,
            "overflow": null,
            "overflow_x": null,
            "overflow_y": null,
            "padding": null,
            "right": null,
            "top": null,
            "visibility": null,
            "width": null
          }
        },
        "d5e2e463fbb84417ace2c7e415c70159": {
          "model_module": "@jupyter-widgets/controls",
          "model_name": "DescriptionStyleModel",
          "model_module_version": "1.5.0",
          "state": {
            "_model_module": "@jupyter-widgets/controls",
            "_model_module_version": "1.5.0",
            "_model_name": "DescriptionStyleModel",
            "_view_count": null,
            "_view_module": "@jupyter-widgets/base",
            "_view_module_version": "1.2.0",
            "_view_name": "StyleView",
            "description_width": ""
          }
        },
        "03d356af8db547deaacbedb4461d53dc": {
          "model_module": "@jupyter-widgets/controls",
          "model_name": "HBoxModel",
          "model_module_version": "1.5.0",
          "state": {
            "_dom_classes": [],
            "_model_module": "@jupyter-widgets/controls",
            "_model_module_version": "1.5.0",
            "_model_name": "HBoxModel",
            "_view_count": null,
            "_view_module": "@jupyter-widgets/controls",
            "_view_module_version": "1.5.0",
            "_view_name": "HBoxView",
            "box_style": "",
            "children": [
              "IPY_MODEL_275683ebe91d418b9c3b0bcb29ca7dfa",
              "IPY_MODEL_9a208e522c8c4407ab946f01ae54fa81",
              "IPY_MODEL_57b61781948246dfb790184e075df669"
            ],
            "layout": "IPY_MODEL_ee2d504578e847578d08b89ef57cadc2"
          }
        },
        "275683ebe91d418b9c3b0bcb29ca7dfa": {
          "model_module": "@jupyter-widgets/controls",
          "model_name": "HTMLModel",
          "model_module_version": "1.5.0",
          "state": {
            "_dom_classes": [],
            "_model_module": "@jupyter-widgets/controls",
            "_model_module_version": "1.5.0",
            "_model_name": "HTMLModel",
            "_view_count": null,
            "_view_module": "@jupyter-widgets/controls",
            "_view_module_version": "1.5.0",
            "_view_name": "HTMLView",
            "description": "",
            "description_tooltip": null,
            "layout": "IPY_MODEL_684963c545174069a58faa42fd4776c7",
            "placeholder": "​",
            "style": "IPY_MODEL_06d27894aa19484296c2519c5772fa9f",
            "value": "Validation DataLoader 0: 100%"
          }
        },
        "9a208e522c8c4407ab946f01ae54fa81": {
          "model_module": "@jupyter-widgets/controls",
          "model_name": "FloatProgressModel",
          "model_module_version": "1.5.0",
          "state": {
            "_dom_classes": [],
            "_model_module": "@jupyter-widgets/controls",
            "_model_module_version": "1.5.0",
            "_model_name": "FloatProgressModel",
            "_view_count": null,
            "_view_module": "@jupyter-widgets/controls",
            "_view_module_version": "1.5.0",
            "_view_name": "ProgressView",
            "bar_style": "",
            "description": "",
            "description_tooltip": null,
            "layout": "IPY_MODEL_c7f0e4a99471452fa4955c721d7d072c",
            "max": 63,
            "min": 0,
            "orientation": "horizontal",
            "style": "IPY_MODEL_c9e289074d2d4a878f4b2e654f29fbe0",
            "value": 63
          }
        },
        "57b61781948246dfb790184e075df669": {
          "model_module": "@jupyter-widgets/controls",
          "model_name": "HTMLModel",
          "model_module_version": "1.5.0",
          "state": {
            "_dom_classes": [],
            "_model_module": "@jupyter-widgets/controls",
            "_model_module_version": "1.5.0",
            "_model_name": "HTMLModel",
            "_view_count": null,
            "_view_module": "@jupyter-widgets/controls",
            "_view_module_version": "1.5.0",
            "_view_name": "HTMLView",
            "description": "",
            "description_tooltip": null,
            "layout": "IPY_MODEL_e355d3b2685544adb111820354f1d898",
            "placeholder": "​",
            "style": "IPY_MODEL_035c7b7d6d3f4f2ba18bb105cbf75f83",
            "value": " 63/63 [00:00&lt;00:00, 69.10it/s]"
          }
        },
        "ee2d504578e847578d08b89ef57cadc2": {
          "model_module": "@jupyter-widgets/base",
          "model_name": "LayoutModel",
          "model_module_version": "1.2.0",
          "state": {
            "_model_module": "@jupyter-widgets/base",
            "_model_module_version": "1.2.0",
            "_model_name": "LayoutModel",
            "_view_count": null,
            "_view_module": "@jupyter-widgets/base",
            "_view_module_version": "1.2.0",
            "_view_name": "LayoutView",
            "align_content": null,
            "align_items": null,
            "align_self": null,
            "border": null,
            "bottom": null,
            "display": "inline-flex",
            "flex": null,
            "flex_flow": "row wrap",
            "grid_area": null,
            "grid_auto_columns": null,
            "grid_auto_flow": null,
            "grid_auto_rows": null,
            "grid_column": null,
            "grid_gap": null,
            "grid_row": null,
            "grid_template_areas": null,
            "grid_template_columns": null,
            "grid_template_rows": null,
            "height": null,
            "justify_content": null,
            "justify_items": null,
            "left": null,
            "margin": null,
            "max_height": null,
            "max_width": null,
            "min_height": null,
            "min_width": null,
            "object_fit": null,
            "object_position": null,
            "order": null,
            "overflow": null,
            "overflow_x": null,
            "overflow_y": null,
            "padding": null,
            "right": null,
            "top": null,
            "visibility": "hidden",
            "width": "100%"
          }
        },
        "684963c545174069a58faa42fd4776c7": {
          "model_module": "@jupyter-widgets/base",
          "model_name": "LayoutModel",
          "model_module_version": "1.2.0",
          "state": {
            "_model_module": "@jupyter-widgets/base",
            "_model_module_version": "1.2.0",
            "_model_name": "LayoutModel",
            "_view_count": null,
            "_view_module": "@jupyter-widgets/base",
            "_view_module_version": "1.2.0",
            "_view_name": "LayoutView",
            "align_content": null,
            "align_items": null,
            "align_self": null,
            "border": null,
            "bottom": null,
            "display": null,
            "flex": null,
            "flex_flow": null,
            "grid_area": null,
            "grid_auto_columns": null,
            "grid_auto_flow": null,
            "grid_auto_rows": null,
            "grid_column": null,
            "grid_gap": null,
            "grid_row": null,
            "grid_template_areas": null,
            "grid_template_columns": null,
            "grid_template_rows": null,
            "height": null,
            "justify_content": null,
            "justify_items": null,
            "left": null,
            "margin": null,
            "max_height": null,
            "max_width": null,
            "min_height": null,
            "min_width": null,
            "object_fit": null,
            "object_position": null,
            "order": null,
            "overflow": null,
            "overflow_x": null,
            "overflow_y": null,
            "padding": null,
            "right": null,
            "top": null,
            "visibility": null,
            "width": null
          }
        },
        "06d27894aa19484296c2519c5772fa9f": {
          "model_module": "@jupyter-widgets/controls",
          "model_name": "DescriptionStyleModel",
          "model_module_version": "1.5.0",
          "state": {
            "_model_module": "@jupyter-widgets/controls",
            "_model_module_version": "1.5.0",
            "_model_name": "DescriptionStyleModel",
            "_view_count": null,
            "_view_module": "@jupyter-widgets/base",
            "_view_module_version": "1.2.0",
            "_view_name": "StyleView",
            "description_width": ""
          }
        },
        "c7f0e4a99471452fa4955c721d7d072c": {
          "model_module": "@jupyter-widgets/base",
          "model_name": "LayoutModel",
          "model_module_version": "1.2.0",
          "state": {
            "_model_module": "@jupyter-widgets/base",
            "_model_module_version": "1.2.0",
            "_model_name": "LayoutModel",
            "_view_count": null,
            "_view_module": "@jupyter-widgets/base",
            "_view_module_version": "1.2.0",
            "_view_name": "LayoutView",
            "align_content": null,
            "align_items": null,
            "align_self": null,
            "border": null,
            "bottom": null,
            "display": null,
            "flex": "2",
            "flex_flow": null,
            "grid_area": null,
            "grid_auto_columns": null,
            "grid_auto_flow": null,
            "grid_auto_rows": null,
            "grid_column": null,
            "grid_gap": null,
            "grid_row": null,
            "grid_template_areas": null,
            "grid_template_columns": null,
            "grid_template_rows": null,
            "height": null,
            "justify_content": null,
            "justify_items": null,
            "left": null,
            "margin": null,
            "max_height": null,
            "max_width": null,
            "min_height": null,
            "min_width": null,
            "object_fit": null,
            "object_position": null,
            "order": null,
            "overflow": null,
            "overflow_x": null,
            "overflow_y": null,
            "padding": null,
            "right": null,
            "top": null,
            "visibility": null,
            "width": null
          }
        },
        "c9e289074d2d4a878f4b2e654f29fbe0": {
          "model_module": "@jupyter-widgets/controls",
          "model_name": "ProgressStyleModel",
          "model_module_version": "1.5.0",
          "state": {
            "_model_module": "@jupyter-widgets/controls",
            "_model_module_version": "1.5.0",
            "_model_name": "ProgressStyleModel",
            "_view_count": null,
            "_view_module": "@jupyter-widgets/base",
            "_view_module_version": "1.2.0",
            "_view_name": "StyleView",
            "bar_color": null,
            "description_width": ""
          }
        },
        "e355d3b2685544adb111820354f1d898": {
          "model_module": "@jupyter-widgets/base",
          "model_name": "LayoutModel",
          "model_module_version": "1.2.0",
          "state": {
            "_model_module": "@jupyter-widgets/base",
            "_model_module_version": "1.2.0",
            "_model_name": "LayoutModel",
            "_view_count": null,
            "_view_module": "@jupyter-widgets/base",
            "_view_module_version": "1.2.0",
            "_view_name": "LayoutView",
            "align_content": null,
            "align_items": null,
            "align_self": null,
            "border": null,
            "bottom": null,
            "display": null,
            "flex": null,
            "flex_flow": null,
            "grid_area": null,
            "grid_auto_columns": null,
            "grid_auto_flow": null,
            "grid_auto_rows": null,
            "grid_column": null,
            "grid_gap": null,
            "grid_row": null,
            "grid_template_areas": null,
            "grid_template_columns": null,
            "grid_template_rows": null,
            "height": null,
            "justify_content": null,
            "justify_items": null,
            "left": null,
            "margin": null,
            "max_height": null,
            "max_width": null,
            "min_height": null,
            "min_width": null,
            "object_fit": null,
            "object_position": null,
            "order": null,
            "overflow": null,
            "overflow_x": null,
            "overflow_y": null,
            "padding": null,
            "right": null,
            "top": null,
            "visibility": null,
            "width": null
          }
        },
        "035c7b7d6d3f4f2ba18bb105cbf75f83": {
          "model_module": "@jupyter-widgets/controls",
          "model_name": "DescriptionStyleModel",
          "model_module_version": "1.5.0",
          "state": {
            "_model_module": "@jupyter-widgets/controls",
            "_model_module_version": "1.5.0",
            "_model_name": "DescriptionStyleModel",
            "_view_count": null,
            "_view_module": "@jupyter-widgets/base",
            "_view_module_version": "1.2.0",
            "_view_name": "StyleView",
            "description_width": ""
          }
        },
        "587565a96d93491484fa72066bbe34dc": {
          "model_module": "@jupyter-widgets/controls",
          "model_name": "HBoxModel",
          "model_module_version": "1.5.0",
          "state": {
            "_dom_classes": [],
            "_model_module": "@jupyter-widgets/controls",
            "_model_module_version": "1.5.0",
            "_model_name": "HBoxModel",
            "_view_count": null,
            "_view_module": "@jupyter-widgets/controls",
            "_view_module_version": "1.5.0",
            "_view_name": "HBoxView",
            "box_style": "",
            "children": [
              "IPY_MODEL_03465e11e8d14479b76144af6a031a4f",
              "IPY_MODEL_b38fd9b0cefc4a42b9a6a94dc7b4bfbe",
              "IPY_MODEL_9db698082a1a475caa9a21b8022a4721"
            ],
            "layout": "IPY_MODEL_df4b4876a8714116b3882287a63ffad9"
          }
        },
        "03465e11e8d14479b76144af6a031a4f": {
          "model_module": "@jupyter-widgets/controls",
          "model_name": "HTMLModel",
          "model_module_version": "1.5.0",
          "state": {
            "_dom_classes": [],
            "_model_module": "@jupyter-widgets/controls",
            "_model_module_version": "1.5.0",
            "_model_name": "HTMLModel",
            "_view_count": null,
            "_view_module": "@jupyter-widgets/controls",
            "_view_module_version": "1.5.0",
            "_view_name": "HTMLView",
            "description": "",
            "description_tooltip": null,
            "layout": "IPY_MODEL_60557390e5564ea0b3eeaed48ea045cb",
            "placeholder": "​",
            "style": "IPY_MODEL_bd38cf1416d94729a69ecdda437afd43",
            "value": "Validation DataLoader 0: 100%"
          }
        },
        "b38fd9b0cefc4a42b9a6a94dc7b4bfbe": {
          "model_module": "@jupyter-widgets/controls",
          "model_name": "FloatProgressModel",
          "model_module_version": "1.5.0",
          "state": {
            "_dom_classes": [],
            "_model_module": "@jupyter-widgets/controls",
            "_model_module_version": "1.5.0",
            "_model_name": "FloatProgressModel",
            "_view_count": null,
            "_view_module": "@jupyter-widgets/controls",
            "_view_module_version": "1.5.0",
            "_view_name": "ProgressView",
            "bar_style": "",
            "description": "",
            "description_tooltip": null,
            "layout": "IPY_MODEL_d6a426663d4441f482bc7c6f7eb94395",
            "max": 63,
            "min": 0,
            "orientation": "horizontal",
            "style": "IPY_MODEL_11155393c4af4cd88055d54aedd02b3c",
            "value": 63
          }
        },
        "9db698082a1a475caa9a21b8022a4721": {
          "model_module": "@jupyter-widgets/controls",
          "model_name": "HTMLModel",
          "model_module_version": "1.5.0",
          "state": {
            "_dom_classes": [],
            "_model_module": "@jupyter-widgets/controls",
            "_model_module_version": "1.5.0",
            "_model_name": "HTMLModel",
            "_view_count": null,
            "_view_module": "@jupyter-widgets/controls",
            "_view_module_version": "1.5.0",
            "_view_name": "HTMLView",
            "description": "",
            "description_tooltip": null,
            "layout": "IPY_MODEL_c2d7945a654347f0bdae1fb9d0bc8c8b",
            "placeholder": "​",
            "style": "IPY_MODEL_cb75c276e4f44c86abd0a1252f9dd70a",
            "value": " 63/63 [00:00&lt;00:00, 72.76it/s]"
          }
        },
        "df4b4876a8714116b3882287a63ffad9": {
          "model_module": "@jupyter-widgets/base",
          "model_name": "LayoutModel",
          "model_module_version": "1.2.0",
          "state": {
            "_model_module": "@jupyter-widgets/base",
            "_model_module_version": "1.2.0",
            "_model_name": "LayoutModel",
            "_view_count": null,
            "_view_module": "@jupyter-widgets/base",
            "_view_module_version": "1.2.0",
            "_view_name": "LayoutView",
            "align_content": null,
            "align_items": null,
            "align_self": null,
            "border": null,
            "bottom": null,
            "display": "inline-flex",
            "flex": null,
            "flex_flow": "row wrap",
            "grid_area": null,
            "grid_auto_columns": null,
            "grid_auto_flow": null,
            "grid_auto_rows": null,
            "grid_column": null,
            "grid_gap": null,
            "grid_row": null,
            "grid_template_areas": null,
            "grid_template_columns": null,
            "grid_template_rows": null,
            "height": null,
            "justify_content": null,
            "justify_items": null,
            "left": null,
            "margin": null,
            "max_height": null,
            "max_width": null,
            "min_height": null,
            "min_width": null,
            "object_fit": null,
            "object_position": null,
            "order": null,
            "overflow": null,
            "overflow_x": null,
            "overflow_y": null,
            "padding": null,
            "right": null,
            "top": null,
            "visibility": "hidden",
            "width": "100%"
          }
        },
        "60557390e5564ea0b3eeaed48ea045cb": {
          "model_module": "@jupyter-widgets/base",
          "model_name": "LayoutModel",
          "model_module_version": "1.2.0",
          "state": {
            "_model_module": "@jupyter-widgets/base",
            "_model_module_version": "1.2.0",
            "_model_name": "LayoutModel",
            "_view_count": null,
            "_view_module": "@jupyter-widgets/base",
            "_view_module_version": "1.2.0",
            "_view_name": "LayoutView",
            "align_content": null,
            "align_items": null,
            "align_self": null,
            "border": null,
            "bottom": null,
            "display": null,
            "flex": null,
            "flex_flow": null,
            "grid_area": null,
            "grid_auto_columns": null,
            "grid_auto_flow": null,
            "grid_auto_rows": null,
            "grid_column": null,
            "grid_gap": null,
            "grid_row": null,
            "grid_template_areas": null,
            "grid_template_columns": null,
            "grid_template_rows": null,
            "height": null,
            "justify_content": null,
            "justify_items": null,
            "left": null,
            "margin": null,
            "max_height": null,
            "max_width": null,
            "min_height": null,
            "min_width": null,
            "object_fit": null,
            "object_position": null,
            "order": null,
            "overflow": null,
            "overflow_x": null,
            "overflow_y": null,
            "padding": null,
            "right": null,
            "top": null,
            "visibility": null,
            "width": null
          }
        },
        "bd38cf1416d94729a69ecdda437afd43": {
          "model_module": "@jupyter-widgets/controls",
          "model_name": "DescriptionStyleModel",
          "model_module_version": "1.5.0",
          "state": {
            "_model_module": "@jupyter-widgets/controls",
            "_model_module_version": "1.5.0",
            "_model_name": "DescriptionStyleModel",
            "_view_count": null,
            "_view_module": "@jupyter-widgets/base",
            "_view_module_version": "1.2.0",
            "_view_name": "StyleView",
            "description_width": ""
          }
        },
        "d6a426663d4441f482bc7c6f7eb94395": {
          "model_module": "@jupyter-widgets/base",
          "model_name": "LayoutModel",
          "model_module_version": "1.2.0",
          "state": {
            "_model_module": "@jupyter-widgets/base",
            "_model_module_version": "1.2.0",
            "_model_name": "LayoutModel",
            "_view_count": null,
            "_view_module": "@jupyter-widgets/base",
            "_view_module_version": "1.2.0",
            "_view_name": "LayoutView",
            "align_content": null,
            "align_items": null,
            "align_self": null,
            "border": null,
            "bottom": null,
            "display": null,
            "flex": "2",
            "flex_flow": null,
            "grid_area": null,
            "grid_auto_columns": null,
            "grid_auto_flow": null,
            "grid_auto_rows": null,
            "grid_column": null,
            "grid_gap": null,
            "grid_row": null,
            "grid_template_areas": null,
            "grid_template_columns": null,
            "grid_template_rows": null,
            "height": null,
            "justify_content": null,
            "justify_items": null,
            "left": null,
            "margin": null,
            "max_height": null,
            "max_width": null,
            "min_height": null,
            "min_width": null,
            "object_fit": null,
            "object_position": null,
            "order": null,
            "overflow": null,
            "overflow_x": null,
            "overflow_y": null,
            "padding": null,
            "right": null,
            "top": null,
            "visibility": null,
            "width": null
          }
        },
        "11155393c4af4cd88055d54aedd02b3c": {
          "model_module": "@jupyter-widgets/controls",
          "model_name": "ProgressStyleModel",
          "model_module_version": "1.5.0",
          "state": {
            "_model_module": "@jupyter-widgets/controls",
            "_model_module_version": "1.5.0",
            "_model_name": "ProgressStyleModel",
            "_view_count": null,
            "_view_module": "@jupyter-widgets/base",
            "_view_module_version": "1.2.0",
            "_view_name": "StyleView",
            "bar_color": null,
            "description_width": ""
          }
        },
        "c2d7945a654347f0bdae1fb9d0bc8c8b": {
          "model_module": "@jupyter-widgets/base",
          "model_name": "LayoutModel",
          "model_module_version": "1.2.0",
          "state": {
            "_model_module": "@jupyter-widgets/base",
            "_model_module_version": "1.2.0",
            "_model_name": "LayoutModel",
            "_view_count": null,
            "_view_module": "@jupyter-widgets/base",
            "_view_module_version": "1.2.0",
            "_view_name": "LayoutView",
            "align_content": null,
            "align_items": null,
            "align_self": null,
            "border": null,
            "bottom": null,
            "display": null,
            "flex": null,
            "flex_flow": null,
            "grid_area": null,
            "grid_auto_columns": null,
            "grid_auto_flow": null,
            "grid_auto_rows": null,
            "grid_column": null,
            "grid_gap": null,
            "grid_row": null,
            "grid_template_areas": null,
            "grid_template_columns": null,
            "grid_template_rows": null,
            "height": null,
            "justify_content": null,
            "justify_items": null,
            "left": null,
            "margin": null,
            "max_height": null,
            "max_width": null,
            "min_height": null,
            "min_width": null,
            "object_fit": null,
            "object_position": null,
            "order": null,
            "overflow": null,
            "overflow_x": null,
            "overflow_y": null,
            "padding": null,
            "right": null,
            "top": null,
            "visibility": null,
            "width": null
          }
        },
        "cb75c276e4f44c86abd0a1252f9dd70a": {
          "model_module": "@jupyter-widgets/controls",
          "model_name": "DescriptionStyleModel",
          "model_module_version": "1.5.0",
          "state": {
            "_model_module": "@jupyter-widgets/controls",
            "_model_module_version": "1.5.0",
            "_model_name": "DescriptionStyleModel",
            "_view_count": null,
            "_view_module": "@jupyter-widgets/base",
            "_view_module_version": "1.2.0",
            "_view_name": "StyleView",
            "description_width": ""
          }
        },
        "a20481d9ef464ee7ab810aaa2e7b2813": {
          "model_module": "@jupyter-widgets/controls",
          "model_name": "HBoxModel",
          "model_module_version": "1.5.0",
          "state": {
            "_dom_classes": [],
            "_model_module": "@jupyter-widgets/controls",
            "_model_module_version": "1.5.0",
            "_model_name": "HBoxModel",
            "_view_count": null,
            "_view_module": "@jupyter-widgets/controls",
            "_view_module_version": "1.5.0",
            "_view_name": "HBoxView",
            "box_style": "",
            "children": [
              "IPY_MODEL_572bb74e2f454c34b3179d40cac9d87d",
              "IPY_MODEL_0aa799f5f9ec46b795b7271ad7756d19",
              "IPY_MODEL_f58adf598d4f439aa01df23a2e42f7f7"
            ],
            "layout": "IPY_MODEL_b8347227362c43dba258cbf2aa4f6114"
          }
        },
        "572bb74e2f454c34b3179d40cac9d87d": {
          "model_module": "@jupyter-widgets/controls",
          "model_name": "HTMLModel",
          "model_module_version": "1.5.0",
          "state": {
            "_dom_classes": [],
            "_model_module": "@jupyter-widgets/controls",
            "_model_module_version": "1.5.0",
            "_model_name": "HTMLModel",
            "_view_count": null,
            "_view_module": "@jupyter-widgets/controls",
            "_view_module_version": "1.5.0",
            "_view_name": "HTMLView",
            "description": "",
            "description_tooltip": null,
            "layout": "IPY_MODEL_b4e6a94e632f4e319777175ff203e38f",
            "placeholder": "​",
            "style": "IPY_MODEL_cc6f96383edb4fd3bf6ed23374079750",
            "value": "Validation DataLoader 0: 100%"
          }
        },
        "0aa799f5f9ec46b795b7271ad7756d19": {
          "model_module": "@jupyter-widgets/controls",
          "model_name": "FloatProgressModel",
          "model_module_version": "1.5.0",
          "state": {
            "_dom_classes": [],
            "_model_module": "@jupyter-widgets/controls",
            "_model_module_version": "1.5.0",
            "_model_name": "FloatProgressModel",
            "_view_count": null,
            "_view_module": "@jupyter-widgets/controls",
            "_view_module_version": "1.5.0",
            "_view_name": "ProgressView",
            "bar_style": "",
            "description": "",
            "description_tooltip": null,
            "layout": "IPY_MODEL_c73421cc979e4ddcac839b4b05aba5ee",
            "max": 63,
            "min": 0,
            "orientation": "horizontal",
            "style": "IPY_MODEL_03759999793c49a3aa59de38ea5e2d73",
            "value": 63
          }
        },
        "f58adf598d4f439aa01df23a2e42f7f7": {
          "model_module": "@jupyter-widgets/controls",
          "model_name": "HTMLModel",
          "model_module_version": "1.5.0",
          "state": {
            "_dom_classes": [],
            "_model_module": "@jupyter-widgets/controls",
            "_model_module_version": "1.5.0",
            "_model_name": "HTMLModel",
            "_view_count": null,
            "_view_module": "@jupyter-widgets/controls",
            "_view_module_version": "1.5.0",
            "_view_name": "HTMLView",
            "description": "",
            "description_tooltip": null,
            "layout": "IPY_MODEL_df6c7ba21c414ad0811a8b8fca8bc6a1",
            "placeholder": "​",
            "style": "IPY_MODEL_72051a2fb3eb472287758412f59f19ec",
            "value": " 63/63 [00:00&lt;00:00, 73.44it/s]"
          }
        },
        "b8347227362c43dba258cbf2aa4f6114": {
          "model_module": "@jupyter-widgets/base",
          "model_name": "LayoutModel",
          "model_module_version": "1.2.0",
          "state": {
            "_model_module": "@jupyter-widgets/base",
            "_model_module_version": "1.2.0",
            "_model_name": "LayoutModel",
            "_view_count": null,
            "_view_module": "@jupyter-widgets/base",
            "_view_module_version": "1.2.0",
            "_view_name": "LayoutView",
            "align_content": null,
            "align_items": null,
            "align_self": null,
            "border": null,
            "bottom": null,
            "display": "inline-flex",
            "flex": null,
            "flex_flow": "row wrap",
            "grid_area": null,
            "grid_auto_columns": null,
            "grid_auto_flow": null,
            "grid_auto_rows": null,
            "grid_column": null,
            "grid_gap": null,
            "grid_row": null,
            "grid_template_areas": null,
            "grid_template_columns": null,
            "grid_template_rows": null,
            "height": null,
            "justify_content": null,
            "justify_items": null,
            "left": null,
            "margin": null,
            "max_height": null,
            "max_width": null,
            "min_height": null,
            "min_width": null,
            "object_fit": null,
            "object_position": null,
            "order": null,
            "overflow": null,
            "overflow_x": null,
            "overflow_y": null,
            "padding": null,
            "right": null,
            "top": null,
            "visibility": "hidden",
            "width": "100%"
          }
        },
        "b4e6a94e632f4e319777175ff203e38f": {
          "model_module": "@jupyter-widgets/base",
          "model_name": "LayoutModel",
          "model_module_version": "1.2.0",
          "state": {
            "_model_module": "@jupyter-widgets/base",
            "_model_module_version": "1.2.0",
            "_model_name": "LayoutModel",
            "_view_count": null,
            "_view_module": "@jupyter-widgets/base",
            "_view_module_version": "1.2.0",
            "_view_name": "LayoutView",
            "align_content": null,
            "align_items": null,
            "align_self": null,
            "border": null,
            "bottom": null,
            "display": null,
            "flex": null,
            "flex_flow": null,
            "grid_area": null,
            "grid_auto_columns": null,
            "grid_auto_flow": null,
            "grid_auto_rows": null,
            "grid_column": null,
            "grid_gap": null,
            "grid_row": null,
            "grid_template_areas": null,
            "grid_template_columns": null,
            "grid_template_rows": null,
            "height": null,
            "justify_content": null,
            "justify_items": null,
            "left": null,
            "margin": null,
            "max_height": null,
            "max_width": null,
            "min_height": null,
            "min_width": null,
            "object_fit": null,
            "object_position": null,
            "order": null,
            "overflow": null,
            "overflow_x": null,
            "overflow_y": null,
            "padding": null,
            "right": null,
            "top": null,
            "visibility": null,
            "width": null
          }
        },
        "cc6f96383edb4fd3bf6ed23374079750": {
          "model_module": "@jupyter-widgets/controls",
          "model_name": "DescriptionStyleModel",
          "model_module_version": "1.5.0",
          "state": {
            "_model_module": "@jupyter-widgets/controls",
            "_model_module_version": "1.5.0",
            "_model_name": "DescriptionStyleModel",
            "_view_count": null,
            "_view_module": "@jupyter-widgets/base",
            "_view_module_version": "1.2.0",
            "_view_name": "StyleView",
            "description_width": ""
          }
        },
        "c73421cc979e4ddcac839b4b05aba5ee": {
          "model_module": "@jupyter-widgets/base",
          "model_name": "LayoutModel",
          "model_module_version": "1.2.0",
          "state": {
            "_model_module": "@jupyter-widgets/base",
            "_model_module_version": "1.2.0",
            "_model_name": "LayoutModel",
            "_view_count": null,
            "_view_module": "@jupyter-widgets/base",
            "_view_module_version": "1.2.0",
            "_view_name": "LayoutView",
            "align_content": null,
            "align_items": null,
            "align_self": null,
            "border": null,
            "bottom": null,
            "display": null,
            "flex": "2",
            "flex_flow": null,
            "grid_area": null,
            "grid_auto_columns": null,
            "grid_auto_flow": null,
            "grid_auto_rows": null,
            "grid_column": null,
            "grid_gap": null,
            "grid_row": null,
            "grid_template_areas": null,
            "grid_template_columns": null,
            "grid_template_rows": null,
            "height": null,
            "justify_content": null,
            "justify_items": null,
            "left": null,
            "margin": null,
            "max_height": null,
            "max_width": null,
            "min_height": null,
            "min_width": null,
            "object_fit": null,
            "object_position": null,
            "order": null,
            "overflow": null,
            "overflow_x": null,
            "overflow_y": null,
            "padding": null,
            "right": null,
            "top": null,
            "visibility": null,
            "width": null
          }
        },
        "03759999793c49a3aa59de38ea5e2d73": {
          "model_module": "@jupyter-widgets/controls",
          "model_name": "ProgressStyleModel",
          "model_module_version": "1.5.0",
          "state": {
            "_model_module": "@jupyter-widgets/controls",
            "_model_module_version": "1.5.0",
            "_model_name": "ProgressStyleModel",
            "_view_count": null,
            "_view_module": "@jupyter-widgets/base",
            "_view_module_version": "1.2.0",
            "_view_name": "StyleView",
            "bar_color": null,
            "description_width": ""
          }
        },
        "df6c7ba21c414ad0811a8b8fca8bc6a1": {
          "model_module": "@jupyter-widgets/base",
          "model_name": "LayoutModel",
          "model_module_version": "1.2.0",
          "state": {
            "_model_module": "@jupyter-widgets/base",
            "_model_module_version": "1.2.0",
            "_model_name": "LayoutModel",
            "_view_count": null,
            "_view_module": "@jupyter-widgets/base",
            "_view_module_version": "1.2.0",
            "_view_name": "LayoutView",
            "align_content": null,
            "align_items": null,
            "align_self": null,
            "border": null,
            "bottom": null,
            "display": null,
            "flex": null,
            "flex_flow": null,
            "grid_area": null,
            "grid_auto_columns": null,
            "grid_auto_flow": null,
            "grid_auto_rows": null,
            "grid_column": null,
            "grid_gap": null,
            "grid_row": null,
            "grid_template_areas": null,
            "grid_template_columns": null,
            "grid_template_rows": null,
            "height": null,
            "justify_content": null,
            "justify_items": null,
            "left": null,
            "margin": null,
            "max_height": null,
            "max_width": null,
            "min_height": null,
            "min_width": null,
            "object_fit": null,
            "object_position": null,
            "order": null,
            "overflow": null,
            "overflow_x": null,
            "overflow_y": null,
            "padding": null,
            "right": null,
            "top": null,
            "visibility": null,
            "width": null
          }
        },
        "72051a2fb3eb472287758412f59f19ec": {
          "model_module": "@jupyter-widgets/controls",
          "model_name": "DescriptionStyleModel",
          "model_module_version": "1.5.0",
          "state": {
            "_model_module": "@jupyter-widgets/controls",
            "_model_module_version": "1.5.0",
            "_model_name": "DescriptionStyleModel",
            "_view_count": null,
            "_view_module": "@jupyter-widgets/base",
            "_view_module_version": "1.2.0",
            "_view_name": "StyleView",
            "description_width": ""
          }
        },
        "cb095fe679ce4e5dafdf2e3966a6f93b": {
          "model_module": "@jupyter-widgets/controls",
          "model_name": "HBoxModel",
          "model_module_version": "1.5.0",
          "state": {
            "_dom_classes": [],
            "_model_module": "@jupyter-widgets/controls",
            "_model_module_version": "1.5.0",
            "_model_name": "HBoxModel",
            "_view_count": null,
            "_view_module": "@jupyter-widgets/controls",
            "_view_module_version": "1.5.0",
            "_view_name": "HBoxView",
            "box_style": "",
            "children": [
              "IPY_MODEL_e130c3d76c194b4d9e94c45cb9a839c8",
              "IPY_MODEL_1be78034b7594d43b9b15569a8aa4ab1",
              "IPY_MODEL_6b3d5ddde12947579d12463fbe7e70f9"
            ],
            "layout": "IPY_MODEL_67ddd24949ab4dab923c45f3a2e9d907"
          }
        },
        "e130c3d76c194b4d9e94c45cb9a839c8": {
          "model_module": "@jupyter-widgets/controls",
          "model_name": "HTMLModel",
          "model_module_version": "1.5.0",
          "state": {
            "_dom_classes": [],
            "_model_module": "@jupyter-widgets/controls",
            "_model_module_version": "1.5.0",
            "_model_name": "HTMLModel",
            "_view_count": null,
            "_view_module": "@jupyter-widgets/controls",
            "_view_module_version": "1.5.0",
            "_view_name": "HTMLView",
            "description": "",
            "description_tooltip": null,
            "layout": "IPY_MODEL_2819a06e9cd840a3ac7defdae50e120d",
            "placeholder": "​",
            "style": "IPY_MODEL_59deb841409f4ddc9a66ff32b197f911",
            "value": "Validation DataLoader 0: 100%"
          }
        },
        "1be78034b7594d43b9b15569a8aa4ab1": {
          "model_module": "@jupyter-widgets/controls",
          "model_name": "FloatProgressModel",
          "model_module_version": "1.5.0",
          "state": {
            "_dom_classes": [],
            "_model_module": "@jupyter-widgets/controls",
            "_model_module_version": "1.5.0",
            "_model_name": "FloatProgressModel",
            "_view_count": null,
            "_view_module": "@jupyter-widgets/controls",
            "_view_module_version": "1.5.0",
            "_view_name": "ProgressView",
            "bar_style": "",
            "description": "",
            "description_tooltip": null,
            "layout": "IPY_MODEL_3186f387ac1440ff890b42c50cf0be03",
            "max": 63,
            "min": 0,
            "orientation": "horizontal",
            "style": "IPY_MODEL_fdd7abedfca44d7ea8f1cd542774a28b",
            "value": 63
          }
        },
        "6b3d5ddde12947579d12463fbe7e70f9": {
          "model_module": "@jupyter-widgets/controls",
          "model_name": "HTMLModel",
          "model_module_version": "1.5.0",
          "state": {
            "_dom_classes": [],
            "_model_module": "@jupyter-widgets/controls",
            "_model_module_version": "1.5.0",
            "_model_name": "HTMLModel",
            "_view_count": null,
            "_view_module": "@jupyter-widgets/controls",
            "_view_module_version": "1.5.0",
            "_view_name": "HTMLView",
            "description": "",
            "description_tooltip": null,
            "layout": "IPY_MODEL_9f957877f24b4b56a5a0be07bb86c050",
            "placeholder": "​",
            "style": "IPY_MODEL_eaebfce755fc4c2d9cf1ec4b4af8e691",
            "value": " 63/63 [00:00&lt;00:00, 71.49it/s]"
          }
        },
        "67ddd24949ab4dab923c45f3a2e9d907": {
          "model_module": "@jupyter-widgets/base",
          "model_name": "LayoutModel",
          "model_module_version": "1.2.0",
          "state": {
            "_model_module": "@jupyter-widgets/base",
            "_model_module_version": "1.2.0",
            "_model_name": "LayoutModel",
            "_view_count": null,
            "_view_module": "@jupyter-widgets/base",
            "_view_module_version": "1.2.0",
            "_view_name": "LayoutView",
            "align_content": null,
            "align_items": null,
            "align_self": null,
            "border": null,
            "bottom": null,
            "display": "inline-flex",
            "flex": null,
            "flex_flow": "row wrap",
            "grid_area": null,
            "grid_auto_columns": null,
            "grid_auto_flow": null,
            "grid_auto_rows": null,
            "grid_column": null,
            "grid_gap": null,
            "grid_row": null,
            "grid_template_areas": null,
            "grid_template_columns": null,
            "grid_template_rows": null,
            "height": null,
            "justify_content": null,
            "justify_items": null,
            "left": null,
            "margin": null,
            "max_height": null,
            "max_width": null,
            "min_height": null,
            "min_width": null,
            "object_fit": null,
            "object_position": null,
            "order": null,
            "overflow": null,
            "overflow_x": null,
            "overflow_y": null,
            "padding": null,
            "right": null,
            "top": null,
            "visibility": "hidden",
            "width": "100%"
          }
        },
        "2819a06e9cd840a3ac7defdae50e120d": {
          "model_module": "@jupyter-widgets/base",
          "model_name": "LayoutModel",
          "model_module_version": "1.2.0",
          "state": {
            "_model_module": "@jupyter-widgets/base",
            "_model_module_version": "1.2.0",
            "_model_name": "LayoutModel",
            "_view_count": null,
            "_view_module": "@jupyter-widgets/base",
            "_view_module_version": "1.2.0",
            "_view_name": "LayoutView",
            "align_content": null,
            "align_items": null,
            "align_self": null,
            "border": null,
            "bottom": null,
            "display": null,
            "flex": null,
            "flex_flow": null,
            "grid_area": null,
            "grid_auto_columns": null,
            "grid_auto_flow": null,
            "grid_auto_rows": null,
            "grid_column": null,
            "grid_gap": null,
            "grid_row": null,
            "grid_template_areas": null,
            "grid_template_columns": null,
            "grid_template_rows": null,
            "height": null,
            "justify_content": null,
            "justify_items": null,
            "left": null,
            "margin": null,
            "max_height": null,
            "max_width": null,
            "min_height": null,
            "min_width": null,
            "object_fit": null,
            "object_position": null,
            "order": null,
            "overflow": null,
            "overflow_x": null,
            "overflow_y": null,
            "padding": null,
            "right": null,
            "top": null,
            "visibility": null,
            "width": null
          }
        },
        "59deb841409f4ddc9a66ff32b197f911": {
          "model_module": "@jupyter-widgets/controls",
          "model_name": "DescriptionStyleModel",
          "model_module_version": "1.5.0",
          "state": {
            "_model_module": "@jupyter-widgets/controls",
            "_model_module_version": "1.5.0",
            "_model_name": "DescriptionStyleModel",
            "_view_count": null,
            "_view_module": "@jupyter-widgets/base",
            "_view_module_version": "1.2.0",
            "_view_name": "StyleView",
            "description_width": ""
          }
        },
        "3186f387ac1440ff890b42c50cf0be03": {
          "model_module": "@jupyter-widgets/base",
          "model_name": "LayoutModel",
          "model_module_version": "1.2.0",
          "state": {
            "_model_module": "@jupyter-widgets/base",
            "_model_module_version": "1.2.0",
            "_model_name": "LayoutModel",
            "_view_count": null,
            "_view_module": "@jupyter-widgets/base",
            "_view_module_version": "1.2.0",
            "_view_name": "LayoutView",
            "align_content": null,
            "align_items": null,
            "align_self": null,
            "border": null,
            "bottom": null,
            "display": null,
            "flex": "2",
            "flex_flow": null,
            "grid_area": null,
            "grid_auto_columns": null,
            "grid_auto_flow": null,
            "grid_auto_rows": null,
            "grid_column": null,
            "grid_gap": null,
            "grid_row": null,
            "grid_template_areas": null,
            "grid_template_columns": null,
            "grid_template_rows": null,
            "height": null,
            "justify_content": null,
            "justify_items": null,
            "left": null,
            "margin": null,
            "max_height": null,
            "max_width": null,
            "min_height": null,
            "min_width": null,
            "object_fit": null,
            "object_position": null,
            "order": null,
            "overflow": null,
            "overflow_x": null,
            "overflow_y": null,
            "padding": null,
            "right": null,
            "top": null,
            "visibility": null,
            "width": null
          }
        },
        "fdd7abedfca44d7ea8f1cd542774a28b": {
          "model_module": "@jupyter-widgets/controls",
          "model_name": "ProgressStyleModel",
          "model_module_version": "1.5.0",
          "state": {
            "_model_module": "@jupyter-widgets/controls",
            "_model_module_version": "1.5.0",
            "_model_name": "ProgressStyleModel",
            "_view_count": null,
            "_view_module": "@jupyter-widgets/base",
            "_view_module_version": "1.2.0",
            "_view_name": "StyleView",
            "bar_color": null,
            "description_width": ""
          }
        },
        "9f957877f24b4b56a5a0be07bb86c050": {
          "model_module": "@jupyter-widgets/base",
          "model_name": "LayoutModel",
          "model_module_version": "1.2.0",
          "state": {
            "_model_module": "@jupyter-widgets/base",
            "_model_module_version": "1.2.0",
            "_model_name": "LayoutModel",
            "_view_count": null,
            "_view_module": "@jupyter-widgets/base",
            "_view_module_version": "1.2.0",
            "_view_name": "LayoutView",
            "align_content": null,
            "align_items": null,
            "align_self": null,
            "border": null,
            "bottom": null,
            "display": null,
            "flex": null,
            "flex_flow": null,
            "grid_area": null,
            "grid_auto_columns": null,
            "grid_auto_flow": null,
            "grid_auto_rows": null,
            "grid_column": null,
            "grid_gap": null,
            "grid_row": null,
            "grid_template_areas": null,
            "grid_template_columns": null,
            "grid_template_rows": null,
            "height": null,
            "justify_content": null,
            "justify_items": null,
            "left": null,
            "margin": null,
            "max_height": null,
            "max_width": null,
            "min_height": null,
            "min_width": null,
            "object_fit": null,
            "object_position": null,
            "order": null,
            "overflow": null,
            "overflow_x": null,
            "overflow_y": null,
            "padding": null,
            "right": null,
            "top": null,
            "visibility": null,
            "width": null
          }
        },
        "eaebfce755fc4c2d9cf1ec4b4af8e691": {
          "model_module": "@jupyter-widgets/controls",
          "model_name": "DescriptionStyleModel",
          "model_module_version": "1.5.0",
          "state": {
            "_model_module": "@jupyter-widgets/controls",
            "_model_module_version": "1.5.0",
            "_model_name": "DescriptionStyleModel",
            "_view_count": null,
            "_view_module": "@jupyter-widgets/base",
            "_view_module_version": "1.2.0",
            "_view_name": "StyleView",
            "description_width": ""
          }
        },
        "c2fccea032bc4c09a422498ad9369f7b": {
          "model_module": "@jupyter-widgets/controls",
          "model_name": "HBoxModel",
          "model_module_version": "1.5.0",
          "state": {
            "_dom_classes": [],
            "_model_module": "@jupyter-widgets/controls",
            "_model_module_version": "1.5.0",
            "_model_name": "HBoxModel",
            "_view_count": null,
            "_view_module": "@jupyter-widgets/controls",
            "_view_module_version": "1.5.0",
            "_view_name": "HBoxView",
            "box_style": "",
            "children": [
              "IPY_MODEL_cc19acd1ade34a23b00811b8093d6d49",
              "IPY_MODEL_68327419e08240daa56f2c6e50cca133",
              "IPY_MODEL_679f86dd3bc84bd981534dc8b26b073a"
            ],
            "layout": "IPY_MODEL_8e62d628f1864501846527b0e9519814"
          }
        },
        "cc19acd1ade34a23b00811b8093d6d49": {
          "model_module": "@jupyter-widgets/controls",
          "model_name": "HTMLModel",
          "model_module_version": "1.5.0",
          "state": {
            "_dom_classes": [],
            "_model_module": "@jupyter-widgets/controls",
            "_model_module_version": "1.5.0",
            "_model_name": "HTMLModel",
            "_view_count": null,
            "_view_module": "@jupyter-widgets/controls",
            "_view_module_version": "1.5.0",
            "_view_name": "HTMLView",
            "description": "",
            "description_tooltip": null,
            "layout": "IPY_MODEL_12a4b5a6868e41099bd437aa8d7aab08",
            "placeholder": "​",
            "style": "IPY_MODEL_93aff04e6a83495cb72b000994e333cf",
            "value": "Validation DataLoader 0: 100%"
          }
        },
        "68327419e08240daa56f2c6e50cca133": {
          "model_module": "@jupyter-widgets/controls",
          "model_name": "FloatProgressModel",
          "model_module_version": "1.5.0",
          "state": {
            "_dom_classes": [],
            "_model_module": "@jupyter-widgets/controls",
            "_model_module_version": "1.5.0",
            "_model_name": "FloatProgressModel",
            "_view_count": null,
            "_view_module": "@jupyter-widgets/controls",
            "_view_module_version": "1.5.0",
            "_view_name": "ProgressView",
            "bar_style": "",
            "description": "",
            "description_tooltip": null,
            "layout": "IPY_MODEL_865a27b009f44c7382cdd4b4830a71a8",
            "max": 63,
            "min": 0,
            "orientation": "horizontal",
            "style": "IPY_MODEL_f599d8eea0944cb88523942da0ebaf1b",
            "value": 63
          }
        },
        "679f86dd3bc84bd981534dc8b26b073a": {
          "model_module": "@jupyter-widgets/controls",
          "model_name": "HTMLModel",
          "model_module_version": "1.5.0",
          "state": {
            "_dom_classes": [],
            "_model_module": "@jupyter-widgets/controls",
            "_model_module_version": "1.5.0",
            "_model_name": "HTMLModel",
            "_view_count": null,
            "_view_module": "@jupyter-widgets/controls",
            "_view_module_version": "1.5.0",
            "_view_name": "HTMLView",
            "description": "",
            "description_tooltip": null,
            "layout": "IPY_MODEL_2425e83ebad54c7b8291e37577aa9113",
            "placeholder": "​",
            "style": "IPY_MODEL_51e5687abb344df6b23fb24f0a156726",
            "value": " 63/63 [00:00&lt;00:00, 70.80it/s]"
          }
        },
        "8e62d628f1864501846527b0e9519814": {
          "model_module": "@jupyter-widgets/base",
          "model_name": "LayoutModel",
          "model_module_version": "1.2.0",
          "state": {
            "_model_module": "@jupyter-widgets/base",
            "_model_module_version": "1.2.0",
            "_model_name": "LayoutModel",
            "_view_count": null,
            "_view_module": "@jupyter-widgets/base",
            "_view_module_version": "1.2.0",
            "_view_name": "LayoutView",
            "align_content": null,
            "align_items": null,
            "align_self": null,
            "border": null,
            "bottom": null,
            "display": "inline-flex",
            "flex": null,
            "flex_flow": "row wrap",
            "grid_area": null,
            "grid_auto_columns": null,
            "grid_auto_flow": null,
            "grid_auto_rows": null,
            "grid_column": null,
            "grid_gap": null,
            "grid_row": null,
            "grid_template_areas": null,
            "grid_template_columns": null,
            "grid_template_rows": null,
            "height": null,
            "justify_content": null,
            "justify_items": null,
            "left": null,
            "margin": null,
            "max_height": null,
            "max_width": null,
            "min_height": null,
            "min_width": null,
            "object_fit": null,
            "object_position": null,
            "order": null,
            "overflow": null,
            "overflow_x": null,
            "overflow_y": null,
            "padding": null,
            "right": null,
            "top": null,
            "visibility": "hidden",
            "width": "100%"
          }
        },
        "12a4b5a6868e41099bd437aa8d7aab08": {
          "model_module": "@jupyter-widgets/base",
          "model_name": "LayoutModel",
          "model_module_version": "1.2.0",
          "state": {
            "_model_module": "@jupyter-widgets/base",
            "_model_module_version": "1.2.0",
            "_model_name": "LayoutModel",
            "_view_count": null,
            "_view_module": "@jupyter-widgets/base",
            "_view_module_version": "1.2.0",
            "_view_name": "LayoutView",
            "align_content": null,
            "align_items": null,
            "align_self": null,
            "border": null,
            "bottom": null,
            "display": null,
            "flex": null,
            "flex_flow": null,
            "grid_area": null,
            "grid_auto_columns": null,
            "grid_auto_flow": null,
            "grid_auto_rows": null,
            "grid_column": null,
            "grid_gap": null,
            "grid_row": null,
            "grid_template_areas": null,
            "grid_template_columns": null,
            "grid_template_rows": null,
            "height": null,
            "justify_content": null,
            "justify_items": null,
            "left": null,
            "margin": null,
            "max_height": null,
            "max_width": null,
            "min_height": null,
            "min_width": null,
            "object_fit": null,
            "object_position": null,
            "order": null,
            "overflow": null,
            "overflow_x": null,
            "overflow_y": null,
            "padding": null,
            "right": null,
            "top": null,
            "visibility": null,
            "width": null
          }
        },
        "93aff04e6a83495cb72b000994e333cf": {
          "model_module": "@jupyter-widgets/controls",
          "model_name": "DescriptionStyleModel",
          "model_module_version": "1.5.0",
          "state": {
            "_model_module": "@jupyter-widgets/controls",
            "_model_module_version": "1.5.0",
            "_model_name": "DescriptionStyleModel",
            "_view_count": null,
            "_view_module": "@jupyter-widgets/base",
            "_view_module_version": "1.2.0",
            "_view_name": "StyleView",
            "description_width": ""
          }
        },
        "865a27b009f44c7382cdd4b4830a71a8": {
          "model_module": "@jupyter-widgets/base",
          "model_name": "LayoutModel",
          "model_module_version": "1.2.0",
          "state": {
            "_model_module": "@jupyter-widgets/base",
            "_model_module_version": "1.2.0",
            "_model_name": "LayoutModel",
            "_view_count": null,
            "_view_module": "@jupyter-widgets/base",
            "_view_module_version": "1.2.0",
            "_view_name": "LayoutView",
            "align_content": null,
            "align_items": null,
            "align_self": null,
            "border": null,
            "bottom": null,
            "display": null,
            "flex": "2",
            "flex_flow": null,
            "grid_area": null,
            "grid_auto_columns": null,
            "grid_auto_flow": null,
            "grid_auto_rows": null,
            "grid_column": null,
            "grid_gap": null,
            "grid_row": null,
            "grid_template_areas": null,
            "grid_template_columns": null,
            "grid_template_rows": null,
            "height": null,
            "justify_content": null,
            "justify_items": null,
            "left": null,
            "margin": null,
            "max_height": null,
            "max_width": null,
            "min_height": null,
            "min_width": null,
            "object_fit": null,
            "object_position": null,
            "order": null,
            "overflow": null,
            "overflow_x": null,
            "overflow_y": null,
            "padding": null,
            "right": null,
            "top": null,
            "visibility": null,
            "width": null
          }
        },
        "f599d8eea0944cb88523942da0ebaf1b": {
          "model_module": "@jupyter-widgets/controls",
          "model_name": "ProgressStyleModel",
          "model_module_version": "1.5.0",
          "state": {
            "_model_module": "@jupyter-widgets/controls",
            "_model_module_version": "1.5.0",
            "_model_name": "ProgressStyleModel",
            "_view_count": null,
            "_view_module": "@jupyter-widgets/base",
            "_view_module_version": "1.2.0",
            "_view_name": "StyleView",
            "bar_color": null,
            "description_width": ""
          }
        },
        "2425e83ebad54c7b8291e37577aa9113": {
          "model_module": "@jupyter-widgets/base",
          "model_name": "LayoutModel",
          "model_module_version": "1.2.0",
          "state": {
            "_model_module": "@jupyter-widgets/base",
            "_model_module_version": "1.2.0",
            "_model_name": "LayoutModel",
            "_view_count": null,
            "_view_module": "@jupyter-widgets/base",
            "_view_module_version": "1.2.0",
            "_view_name": "LayoutView",
            "align_content": null,
            "align_items": null,
            "align_self": null,
            "border": null,
            "bottom": null,
            "display": null,
            "flex": null,
            "flex_flow": null,
            "grid_area": null,
            "grid_auto_columns": null,
            "grid_auto_flow": null,
            "grid_auto_rows": null,
            "grid_column": null,
            "grid_gap": null,
            "grid_row": null,
            "grid_template_areas": null,
            "grid_template_columns": null,
            "grid_template_rows": null,
            "height": null,
            "justify_content": null,
            "justify_items": null,
            "left": null,
            "margin": null,
            "max_height": null,
            "max_width": null,
            "min_height": null,
            "min_width": null,
            "object_fit": null,
            "object_position": null,
            "order": null,
            "overflow": null,
            "overflow_x": null,
            "overflow_y": null,
            "padding": null,
            "right": null,
            "top": null,
            "visibility": null,
            "width": null
          }
        },
        "51e5687abb344df6b23fb24f0a156726": {
          "model_module": "@jupyter-widgets/controls",
          "model_name": "DescriptionStyleModel",
          "model_module_version": "1.5.0",
          "state": {
            "_model_module": "@jupyter-widgets/controls",
            "_model_module_version": "1.5.0",
            "_model_name": "DescriptionStyleModel",
            "_view_count": null,
            "_view_module": "@jupyter-widgets/base",
            "_view_module_version": "1.2.0",
            "_view_name": "StyleView",
            "description_width": ""
          }
        },
        "6ae9bdb6c6f74690a587a5623a8c3a3b": {
          "model_module": "@jupyter-widgets/controls",
          "model_name": "HBoxModel",
          "model_module_version": "1.5.0",
          "state": {
            "_dom_classes": [],
            "_model_module": "@jupyter-widgets/controls",
            "_model_module_version": "1.5.0",
            "_model_name": "HBoxModel",
            "_view_count": null,
            "_view_module": "@jupyter-widgets/controls",
            "_view_module_version": "1.5.0",
            "_view_name": "HBoxView",
            "box_style": "",
            "children": [
              "IPY_MODEL_3bcc000f7f48489aaf6efa03a93acff1",
              "IPY_MODEL_baffb046be0b4905803094a835c57c58",
              "IPY_MODEL_441c665127064879a5f7184a9a7d3769"
            ],
            "layout": "IPY_MODEL_86f7b9c993d8410bb3562ce252e7470c"
          }
        },
        "3bcc000f7f48489aaf6efa03a93acff1": {
          "model_module": "@jupyter-widgets/controls",
          "model_name": "HTMLModel",
          "model_module_version": "1.5.0",
          "state": {
            "_dom_classes": [],
            "_model_module": "@jupyter-widgets/controls",
            "_model_module_version": "1.5.0",
            "_model_name": "HTMLModel",
            "_view_count": null,
            "_view_module": "@jupyter-widgets/controls",
            "_view_module_version": "1.5.0",
            "_view_name": "HTMLView",
            "description": "",
            "description_tooltip": null,
            "layout": "IPY_MODEL_d680d68d69c748fb8d4f83861ddb7bc1",
            "placeholder": "​",
            "style": "IPY_MODEL_65dbf2b386484a36abe87f2bd4f426d7",
            "value": "Validation DataLoader 0: 100%"
          }
        },
        "baffb046be0b4905803094a835c57c58": {
          "model_module": "@jupyter-widgets/controls",
          "model_name": "FloatProgressModel",
          "model_module_version": "1.5.0",
          "state": {
            "_dom_classes": [],
            "_model_module": "@jupyter-widgets/controls",
            "_model_module_version": "1.5.0",
            "_model_name": "FloatProgressModel",
            "_view_count": null,
            "_view_module": "@jupyter-widgets/controls",
            "_view_module_version": "1.5.0",
            "_view_name": "ProgressView",
            "bar_style": "",
            "description": "",
            "description_tooltip": null,
            "layout": "IPY_MODEL_238a9ddc399c4e90b10e97de15873ca4",
            "max": 63,
            "min": 0,
            "orientation": "horizontal",
            "style": "IPY_MODEL_49fce3730adc4cd5835de19293aa892d",
            "value": 63
          }
        },
        "441c665127064879a5f7184a9a7d3769": {
          "model_module": "@jupyter-widgets/controls",
          "model_name": "HTMLModel",
          "model_module_version": "1.5.0",
          "state": {
            "_dom_classes": [],
            "_model_module": "@jupyter-widgets/controls",
            "_model_module_version": "1.5.0",
            "_model_name": "HTMLModel",
            "_view_count": null,
            "_view_module": "@jupyter-widgets/controls",
            "_view_module_version": "1.5.0",
            "_view_name": "HTMLView",
            "description": "",
            "description_tooltip": null,
            "layout": "IPY_MODEL_2a6818f1fd44490391ae6d52c6ec22b5",
            "placeholder": "​",
            "style": "IPY_MODEL_83cb87477d0c455bb778f8689a49e737",
            "value": " 63/63 [00:00&lt;00:00, 72.97it/s]"
          }
        },
        "86f7b9c993d8410bb3562ce252e7470c": {
          "model_module": "@jupyter-widgets/base",
          "model_name": "LayoutModel",
          "model_module_version": "1.2.0",
          "state": {
            "_model_module": "@jupyter-widgets/base",
            "_model_module_version": "1.2.0",
            "_model_name": "LayoutModel",
            "_view_count": null,
            "_view_module": "@jupyter-widgets/base",
            "_view_module_version": "1.2.0",
            "_view_name": "LayoutView",
            "align_content": null,
            "align_items": null,
            "align_self": null,
            "border": null,
            "bottom": null,
            "display": "inline-flex",
            "flex": null,
            "flex_flow": "row wrap",
            "grid_area": null,
            "grid_auto_columns": null,
            "grid_auto_flow": null,
            "grid_auto_rows": null,
            "grid_column": null,
            "grid_gap": null,
            "grid_row": null,
            "grid_template_areas": null,
            "grid_template_columns": null,
            "grid_template_rows": null,
            "height": null,
            "justify_content": null,
            "justify_items": null,
            "left": null,
            "margin": null,
            "max_height": null,
            "max_width": null,
            "min_height": null,
            "min_width": null,
            "object_fit": null,
            "object_position": null,
            "order": null,
            "overflow": null,
            "overflow_x": null,
            "overflow_y": null,
            "padding": null,
            "right": null,
            "top": null,
            "visibility": "hidden",
            "width": "100%"
          }
        },
        "d680d68d69c748fb8d4f83861ddb7bc1": {
          "model_module": "@jupyter-widgets/base",
          "model_name": "LayoutModel",
          "model_module_version": "1.2.0",
          "state": {
            "_model_module": "@jupyter-widgets/base",
            "_model_module_version": "1.2.0",
            "_model_name": "LayoutModel",
            "_view_count": null,
            "_view_module": "@jupyter-widgets/base",
            "_view_module_version": "1.2.0",
            "_view_name": "LayoutView",
            "align_content": null,
            "align_items": null,
            "align_self": null,
            "border": null,
            "bottom": null,
            "display": null,
            "flex": null,
            "flex_flow": null,
            "grid_area": null,
            "grid_auto_columns": null,
            "grid_auto_flow": null,
            "grid_auto_rows": null,
            "grid_column": null,
            "grid_gap": null,
            "grid_row": null,
            "grid_template_areas": null,
            "grid_template_columns": null,
            "grid_template_rows": null,
            "height": null,
            "justify_content": null,
            "justify_items": null,
            "left": null,
            "margin": null,
            "max_height": null,
            "max_width": null,
            "min_height": null,
            "min_width": null,
            "object_fit": null,
            "object_position": null,
            "order": null,
            "overflow": null,
            "overflow_x": null,
            "overflow_y": null,
            "padding": null,
            "right": null,
            "top": null,
            "visibility": null,
            "width": null
          }
        },
        "65dbf2b386484a36abe87f2bd4f426d7": {
          "model_module": "@jupyter-widgets/controls",
          "model_name": "DescriptionStyleModel",
          "model_module_version": "1.5.0",
          "state": {
            "_model_module": "@jupyter-widgets/controls",
            "_model_module_version": "1.5.0",
            "_model_name": "DescriptionStyleModel",
            "_view_count": null,
            "_view_module": "@jupyter-widgets/base",
            "_view_module_version": "1.2.0",
            "_view_name": "StyleView",
            "description_width": ""
          }
        },
        "238a9ddc399c4e90b10e97de15873ca4": {
          "model_module": "@jupyter-widgets/base",
          "model_name": "LayoutModel",
          "model_module_version": "1.2.0",
          "state": {
            "_model_module": "@jupyter-widgets/base",
            "_model_module_version": "1.2.0",
            "_model_name": "LayoutModel",
            "_view_count": null,
            "_view_module": "@jupyter-widgets/base",
            "_view_module_version": "1.2.0",
            "_view_name": "LayoutView",
            "align_content": null,
            "align_items": null,
            "align_self": null,
            "border": null,
            "bottom": null,
            "display": null,
            "flex": "2",
            "flex_flow": null,
            "grid_area": null,
            "grid_auto_columns": null,
            "grid_auto_flow": null,
            "grid_auto_rows": null,
            "grid_column": null,
            "grid_gap": null,
            "grid_row": null,
            "grid_template_areas": null,
            "grid_template_columns": null,
            "grid_template_rows": null,
            "height": null,
            "justify_content": null,
            "justify_items": null,
            "left": null,
            "margin": null,
            "max_height": null,
            "max_width": null,
            "min_height": null,
            "min_width": null,
            "object_fit": null,
            "object_position": null,
            "order": null,
            "overflow": null,
            "overflow_x": null,
            "overflow_y": null,
            "padding": null,
            "right": null,
            "top": null,
            "visibility": null,
            "width": null
          }
        },
        "49fce3730adc4cd5835de19293aa892d": {
          "model_module": "@jupyter-widgets/controls",
          "model_name": "ProgressStyleModel",
          "model_module_version": "1.5.0",
          "state": {
            "_model_module": "@jupyter-widgets/controls",
            "_model_module_version": "1.5.0",
            "_model_name": "ProgressStyleModel",
            "_view_count": null,
            "_view_module": "@jupyter-widgets/base",
            "_view_module_version": "1.2.0",
            "_view_name": "StyleView",
            "bar_color": null,
            "description_width": ""
          }
        },
        "2a6818f1fd44490391ae6d52c6ec22b5": {
          "model_module": "@jupyter-widgets/base",
          "model_name": "LayoutModel",
          "model_module_version": "1.2.0",
          "state": {
            "_model_module": "@jupyter-widgets/base",
            "_model_module_version": "1.2.0",
            "_model_name": "LayoutModel",
            "_view_count": null,
            "_view_module": "@jupyter-widgets/base",
            "_view_module_version": "1.2.0",
            "_view_name": "LayoutView",
            "align_content": null,
            "align_items": null,
            "align_self": null,
            "border": null,
            "bottom": null,
            "display": null,
            "flex": null,
            "flex_flow": null,
            "grid_area": null,
            "grid_auto_columns": null,
            "grid_auto_flow": null,
            "grid_auto_rows": null,
            "grid_column": null,
            "grid_gap": null,
            "grid_row": null,
            "grid_template_areas": null,
            "grid_template_columns": null,
            "grid_template_rows": null,
            "height": null,
            "justify_content": null,
            "justify_items": null,
            "left": null,
            "margin": null,
            "max_height": null,
            "max_width": null,
            "min_height": null,
            "min_width": null,
            "object_fit": null,
            "object_position": null,
            "order": null,
            "overflow": null,
            "overflow_x": null,
            "overflow_y": null,
            "padding": null,
            "right": null,
            "top": null,
            "visibility": null,
            "width": null
          }
        },
        "83cb87477d0c455bb778f8689a49e737": {
          "model_module": "@jupyter-widgets/controls",
          "model_name": "DescriptionStyleModel",
          "model_module_version": "1.5.0",
          "state": {
            "_model_module": "@jupyter-widgets/controls",
            "_model_module_version": "1.5.0",
            "_model_name": "DescriptionStyleModel",
            "_view_count": null,
            "_view_module": "@jupyter-widgets/base",
            "_view_module_version": "1.2.0",
            "_view_name": "StyleView",
            "description_width": ""
          }
        },
        "13dc45dbc9c04d5288295e4f4070157e": {
          "model_module": "@jupyter-widgets/controls",
          "model_name": "HBoxModel",
          "model_module_version": "1.5.0",
          "state": {
            "_dom_classes": [],
            "_model_module": "@jupyter-widgets/controls",
            "_model_module_version": "1.5.0",
            "_model_name": "HBoxModel",
            "_view_count": null,
            "_view_module": "@jupyter-widgets/controls",
            "_view_module_version": "1.5.0",
            "_view_name": "HBoxView",
            "box_style": "",
            "children": [
              "IPY_MODEL_a328ebf2b4dc4ca69e4d96b967cc7642",
              "IPY_MODEL_f979ad2ce61e4167a450243a3aab3c21",
              "IPY_MODEL_9cca967eec784c03b0cfd93e1132a982"
            ],
            "layout": "IPY_MODEL_2c054315a1c54c12a3cb036b2822f5b0"
          }
        },
        "a328ebf2b4dc4ca69e4d96b967cc7642": {
          "model_module": "@jupyter-widgets/controls",
          "model_name": "HTMLModel",
          "model_module_version": "1.5.0",
          "state": {
            "_dom_classes": [],
            "_model_module": "@jupyter-widgets/controls",
            "_model_module_version": "1.5.0",
            "_model_name": "HTMLModel",
            "_view_count": null,
            "_view_module": "@jupyter-widgets/controls",
            "_view_module_version": "1.5.0",
            "_view_name": "HTMLView",
            "description": "",
            "description_tooltip": null,
            "layout": "IPY_MODEL_6ca363ea33d34c928010a1f7b7de5504",
            "placeholder": "​",
            "style": "IPY_MODEL_f0d8b3aebe8a48468c5cab818ac7f0ea",
            "value": "Validation DataLoader 0: 100%"
          }
        },
        "f979ad2ce61e4167a450243a3aab3c21": {
          "model_module": "@jupyter-widgets/controls",
          "model_name": "FloatProgressModel",
          "model_module_version": "1.5.0",
          "state": {
            "_dom_classes": [],
            "_model_module": "@jupyter-widgets/controls",
            "_model_module_version": "1.5.0",
            "_model_name": "FloatProgressModel",
            "_view_count": null,
            "_view_module": "@jupyter-widgets/controls",
            "_view_module_version": "1.5.0",
            "_view_name": "ProgressView",
            "bar_style": "",
            "description": "",
            "description_tooltip": null,
            "layout": "IPY_MODEL_6731898aa84540b8808ac97925039da2",
            "max": 63,
            "min": 0,
            "orientation": "horizontal",
            "style": "IPY_MODEL_a6a749ce14cc46eaa8ec372eb4fe5a5e",
            "value": 63
          }
        },
        "9cca967eec784c03b0cfd93e1132a982": {
          "model_module": "@jupyter-widgets/controls",
          "model_name": "HTMLModel",
          "model_module_version": "1.5.0",
          "state": {
            "_dom_classes": [],
            "_model_module": "@jupyter-widgets/controls",
            "_model_module_version": "1.5.0",
            "_model_name": "HTMLModel",
            "_view_count": null,
            "_view_module": "@jupyter-widgets/controls",
            "_view_module_version": "1.5.0",
            "_view_name": "HTMLView",
            "description": "",
            "description_tooltip": null,
            "layout": "IPY_MODEL_9680c33ce0fd45a1879635d75a94df75",
            "placeholder": "​",
            "style": "IPY_MODEL_0e254043461c480594d4992093b05670",
            "value": " 63/63 [00:00&lt;00:00, 73.61it/s]"
          }
        },
        "2c054315a1c54c12a3cb036b2822f5b0": {
          "model_module": "@jupyter-widgets/base",
          "model_name": "LayoutModel",
          "model_module_version": "1.2.0",
          "state": {
            "_model_module": "@jupyter-widgets/base",
            "_model_module_version": "1.2.0",
            "_model_name": "LayoutModel",
            "_view_count": null,
            "_view_module": "@jupyter-widgets/base",
            "_view_module_version": "1.2.0",
            "_view_name": "LayoutView",
            "align_content": null,
            "align_items": null,
            "align_self": null,
            "border": null,
            "bottom": null,
            "display": "inline-flex",
            "flex": null,
            "flex_flow": "row wrap",
            "grid_area": null,
            "grid_auto_columns": null,
            "grid_auto_flow": null,
            "grid_auto_rows": null,
            "grid_column": null,
            "grid_gap": null,
            "grid_row": null,
            "grid_template_areas": null,
            "grid_template_columns": null,
            "grid_template_rows": null,
            "height": null,
            "justify_content": null,
            "justify_items": null,
            "left": null,
            "margin": null,
            "max_height": null,
            "max_width": null,
            "min_height": null,
            "min_width": null,
            "object_fit": null,
            "object_position": null,
            "order": null,
            "overflow": null,
            "overflow_x": null,
            "overflow_y": null,
            "padding": null,
            "right": null,
            "top": null,
            "visibility": "hidden",
            "width": "100%"
          }
        },
        "6ca363ea33d34c928010a1f7b7de5504": {
          "model_module": "@jupyter-widgets/base",
          "model_name": "LayoutModel",
          "model_module_version": "1.2.0",
          "state": {
            "_model_module": "@jupyter-widgets/base",
            "_model_module_version": "1.2.0",
            "_model_name": "LayoutModel",
            "_view_count": null,
            "_view_module": "@jupyter-widgets/base",
            "_view_module_version": "1.2.0",
            "_view_name": "LayoutView",
            "align_content": null,
            "align_items": null,
            "align_self": null,
            "border": null,
            "bottom": null,
            "display": null,
            "flex": null,
            "flex_flow": null,
            "grid_area": null,
            "grid_auto_columns": null,
            "grid_auto_flow": null,
            "grid_auto_rows": null,
            "grid_column": null,
            "grid_gap": null,
            "grid_row": null,
            "grid_template_areas": null,
            "grid_template_columns": null,
            "grid_template_rows": null,
            "height": null,
            "justify_content": null,
            "justify_items": null,
            "left": null,
            "margin": null,
            "max_height": null,
            "max_width": null,
            "min_height": null,
            "min_width": null,
            "object_fit": null,
            "object_position": null,
            "order": null,
            "overflow": null,
            "overflow_x": null,
            "overflow_y": null,
            "padding": null,
            "right": null,
            "top": null,
            "visibility": null,
            "width": null
          }
        },
        "f0d8b3aebe8a48468c5cab818ac7f0ea": {
          "model_module": "@jupyter-widgets/controls",
          "model_name": "DescriptionStyleModel",
          "model_module_version": "1.5.0",
          "state": {
            "_model_module": "@jupyter-widgets/controls",
            "_model_module_version": "1.5.0",
            "_model_name": "DescriptionStyleModel",
            "_view_count": null,
            "_view_module": "@jupyter-widgets/base",
            "_view_module_version": "1.2.0",
            "_view_name": "StyleView",
            "description_width": ""
          }
        },
        "6731898aa84540b8808ac97925039da2": {
          "model_module": "@jupyter-widgets/base",
          "model_name": "LayoutModel",
          "model_module_version": "1.2.0",
          "state": {
            "_model_module": "@jupyter-widgets/base",
            "_model_module_version": "1.2.0",
            "_model_name": "LayoutModel",
            "_view_count": null,
            "_view_module": "@jupyter-widgets/base",
            "_view_module_version": "1.2.0",
            "_view_name": "LayoutView",
            "align_content": null,
            "align_items": null,
            "align_self": null,
            "border": null,
            "bottom": null,
            "display": null,
            "flex": "2",
            "flex_flow": null,
            "grid_area": null,
            "grid_auto_columns": null,
            "grid_auto_flow": null,
            "grid_auto_rows": null,
            "grid_column": null,
            "grid_gap": null,
            "grid_row": null,
            "grid_template_areas": null,
            "grid_template_columns": null,
            "grid_template_rows": null,
            "height": null,
            "justify_content": null,
            "justify_items": null,
            "left": null,
            "margin": null,
            "max_height": null,
            "max_width": null,
            "min_height": null,
            "min_width": null,
            "object_fit": null,
            "object_position": null,
            "order": null,
            "overflow": null,
            "overflow_x": null,
            "overflow_y": null,
            "padding": null,
            "right": null,
            "top": null,
            "visibility": null,
            "width": null
          }
        },
        "a6a749ce14cc46eaa8ec372eb4fe5a5e": {
          "model_module": "@jupyter-widgets/controls",
          "model_name": "ProgressStyleModel",
          "model_module_version": "1.5.0",
          "state": {
            "_model_module": "@jupyter-widgets/controls",
            "_model_module_version": "1.5.0",
            "_model_name": "ProgressStyleModel",
            "_view_count": null,
            "_view_module": "@jupyter-widgets/base",
            "_view_module_version": "1.2.0",
            "_view_name": "StyleView",
            "bar_color": null,
            "description_width": ""
          }
        },
        "9680c33ce0fd45a1879635d75a94df75": {
          "model_module": "@jupyter-widgets/base",
          "model_name": "LayoutModel",
          "model_module_version": "1.2.0",
          "state": {
            "_model_module": "@jupyter-widgets/base",
            "_model_module_version": "1.2.0",
            "_model_name": "LayoutModel",
            "_view_count": null,
            "_view_module": "@jupyter-widgets/base",
            "_view_module_version": "1.2.0",
            "_view_name": "LayoutView",
            "align_content": null,
            "align_items": null,
            "align_self": null,
            "border": null,
            "bottom": null,
            "display": null,
            "flex": null,
            "flex_flow": null,
            "grid_area": null,
            "grid_auto_columns": null,
            "grid_auto_flow": null,
            "grid_auto_rows": null,
            "grid_column": null,
            "grid_gap": null,
            "grid_row": null,
            "grid_template_areas": null,
            "grid_template_columns": null,
            "grid_template_rows": null,
            "height": null,
            "justify_content": null,
            "justify_items": null,
            "left": null,
            "margin": null,
            "max_height": null,
            "max_width": null,
            "min_height": null,
            "min_width": null,
            "object_fit": null,
            "object_position": null,
            "order": null,
            "overflow": null,
            "overflow_x": null,
            "overflow_y": null,
            "padding": null,
            "right": null,
            "top": null,
            "visibility": null,
            "width": null
          }
        },
        "0e254043461c480594d4992093b05670": {
          "model_module": "@jupyter-widgets/controls",
          "model_name": "DescriptionStyleModel",
          "model_module_version": "1.5.0",
          "state": {
            "_model_module": "@jupyter-widgets/controls",
            "_model_module_version": "1.5.0",
            "_model_name": "DescriptionStyleModel",
            "_view_count": null,
            "_view_module": "@jupyter-widgets/base",
            "_view_module_version": "1.2.0",
            "_view_name": "StyleView",
            "description_width": ""
          }
        },
        "94a4425919f34e988c94aa18dd3ee8c8": {
          "model_module": "@jupyter-widgets/controls",
          "model_name": "HBoxModel",
          "model_module_version": "1.5.0",
          "state": {
            "_dom_classes": [],
            "_model_module": "@jupyter-widgets/controls",
            "_model_module_version": "1.5.0",
            "_model_name": "HBoxModel",
            "_view_count": null,
            "_view_module": "@jupyter-widgets/controls",
            "_view_module_version": "1.5.0",
            "_view_name": "HBoxView",
            "box_style": "",
            "children": [
              "IPY_MODEL_170984fe055f4de39b897d3829bc4bfe",
              "IPY_MODEL_212a38a92b0b483f8ad90da86f922a1e",
              "IPY_MODEL_2d905db3741d4c1285e2dac9d24446c2"
            ],
            "layout": "IPY_MODEL_411bc1c926104e42be2e23f9ccf216d9"
          }
        },
        "170984fe055f4de39b897d3829bc4bfe": {
          "model_module": "@jupyter-widgets/controls",
          "model_name": "HTMLModel",
          "model_module_version": "1.5.0",
          "state": {
            "_dom_classes": [],
            "_model_module": "@jupyter-widgets/controls",
            "_model_module_version": "1.5.0",
            "_model_name": "HTMLModel",
            "_view_count": null,
            "_view_module": "@jupyter-widgets/controls",
            "_view_module_version": "1.5.0",
            "_view_name": "HTMLView",
            "description": "",
            "description_tooltip": null,
            "layout": "IPY_MODEL_38b4a5e40eb546bd9d2006acaa303c34",
            "placeholder": "​",
            "style": "IPY_MODEL_ab4f339d592f415ab5da4f6bc1c3d5be",
            "value": "Validation DataLoader 0: 100%"
          }
        },
        "212a38a92b0b483f8ad90da86f922a1e": {
          "model_module": "@jupyter-widgets/controls",
          "model_name": "FloatProgressModel",
          "model_module_version": "1.5.0",
          "state": {
            "_dom_classes": [],
            "_model_module": "@jupyter-widgets/controls",
            "_model_module_version": "1.5.0",
            "_model_name": "FloatProgressModel",
            "_view_count": null,
            "_view_module": "@jupyter-widgets/controls",
            "_view_module_version": "1.5.0",
            "_view_name": "ProgressView",
            "bar_style": "",
            "description": "",
            "description_tooltip": null,
            "layout": "IPY_MODEL_6278f1c2cd444326836a90f3ef3de52d",
            "max": 63,
            "min": 0,
            "orientation": "horizontal",
            "style": "IPY_MODEL_adff96449ffe4358995420ac03c9cabf",
            "value": 63
          }
        },
        "2d905db3741d4c1285e2dac9d24446c2": {
          "model_module": "@jupyter-widgets/controls",
          "model_name": "HTMLModel",
          "model_module_version": "1.5.0",
          "state": {
            "_dom_classes": [],
            "_model_module": "@jupyter-widgets/controls",
            "_model_module_version": "1.5.0",
            "_model_name": "HTMLModel",
            "_view_count": null,
            "_view_module": "@jupyter-widgets/controls",
            "_view_module_version": "1.5.0",
            "_view_name": "HTMLView",
            "description": "",
            "description_tooltip": null,
            "layout": "IPY_MODEL_a0310ed76ea54a198befc9100c5b9915",
            "placeholder": "​",
            "style": "IPY_MODEL_7054fd959413408cb141454188caa2db",
            "value": " 63/63 [00:00&lt;00:00, 72.46it/s]"
          }
        },
        "411bc1c926104e42be2e23f9ccf216d9": {
          "model_module": "@jupyter-widgets/base",
          "model_name": "LayoutModel",
          "model_module_version": "1.2.0",
          "state": {
            "_model_module": "@jupyter-widgets/base",
            "_model_module_version": "1.2.0",
            "_model_name": "LayoutModel",
            "_view_count": null,
            "_view_module": "@jupyter-widgets/base",
            "_view_module_version": "1.2.0",
            "_view_name": "LayoutView",
            "align_content": null,
            "align_items": null,
            "align_self": null,
            "border": null,
            "bottom": null,
            "display": "inline-flex",
            "flex": null,
            "flex_flow": "row wrap",
            "grid_area": null,
            "grid_auto_columns": null,
            "grid_auto_flow": null,
            "grid_auto_rows": null,
            "grid_column": null,
            "grid_gap": null,
            "grid_row": null,
            "grid_template_areas": null,
            "grid_template_columns": null,
            "grid_template_rows": null,
            "height": null,
            "justify_content": null,
            "justify_items": null,
            "left": null,
            "margin": null,
            "max_height": null,
            "max_width": null,
            "min_height": null,
            "min_width": null,
            "object_fit": null,
            "object_position": null,
            "order": null,
            "overflow": null,
            "overflow_x": null,
            "overflow_y": null,
            "padding": null,
            "right": null,
            "top": null,
            "visibility": "hidden",
            "width": "100%"
          }
        },
        "38b4a5e40eb546bd9d2006acaa303c34": {
          "model_module": "@jupyter-widgets/base",
          "model_name": "LayoutModel",
          "model_module_version": "1.2.0",
          "state": {
            "_model_module": "@jupyter-widgets/base",
            "_model_module_version": "1.2.0",
            "_model_name": "LayoutModel",
            "_view_count": null,
            "_view_module": "@jupyter-widgets/base",
            "_view_module_version": "1.2.0",
            "_view_name": "LayoutView",
            "align_content": null,
            "align_items": null,
            "align_self": null,
            "border": null,
            "bottom": null,
            "display": null,
            "flex": null,
            "flex_flow": null,
            "grid_area": null,
            "grid_auto_columns": null,
            "grid_auto_flow": null,
            "grid_auto_rows": null,
            "grid_column": null,
            "grid_gap": null,
            "grid_row": null,
            "grid_template_areas": null,
            "grid_template_columns": null,
            "grid_template_rows": null,
            "height": null,
            "justify_content": null,
            "justify_items": null,
            "left": null,
            "margin": null,
            "max_height": null,
            "max_width": null,
            "min_height": null,
            "min_width": null,
            "object_fit": null,
            "object_position": null,
            "order": null,
            "overflow": null,
            "overflow_x": null,
            "overflow_y": null,
            "padding": null,
            "right": null,
            "top": null,
            "visibility": null,
            "width": null
          }
        },
        "ab4f339d592f415ab5da4f6bc1c3d5be": {
          "model_module": "@jupyter-widgets/controls",
          "model_name": "DescriptionStyleModel",
          "model_module_version": "1.5.0",
          "state": {
            "_model_module": "@jupyter-widgets/controls",
            "_model_module_version": "1.5.0",
            "_model_name": "DescriptionStyleModel",
            "_view_count": null,
            "_view_module": "@jupyter-widgets/base",
            "_view_module_version": "1.2.0",
            "_view_name": "StyleView",
            "description_width": ""
          }
        },
        "6278f1c2cd444326836a90f3ef3de52d": {
          "model_module": "@jupyter-widgets/base",
          "model_name": "LayoutModel",
          "model_module_version": "1.2.0",
          "state": {
            "_model_module": "@jupyter-widgets/base",
            "_model_module_version": "1.2.0",
            "_model_name": "LayoutModel",
            "_view_count": null,
            "_view_module": "@jupyter-widgets/base",
            "_view_module_version": "1.2.0",
            "_view_name": "LayoutView",
            "align_content": null,
            "align_items": null,
            "align_self": null,
            "border": null,
            "bottom": null,
            "display": null,
            "flex": "2",
            "flex_flow": null,
            "grid_area": null,
            "grid_auto_columns": null,
            "grid_auto_flow": null,
            "grid_auto_rows": null,
            "grid_column": null,
            "grid_gap": null,
            "grid_row": null,
            "grid_template_areas": null,
            "grid_template_columns": null,
            "grid_template_rows": null,
            "height": null,
            "justify_content": null,
            "justify_items": null,
            "left": null,
            "margin": null,
            "max_height": null,
            "max_width": null,
            "min_height": null,
            "min_width": null,
            "object_fit": null,
            "object_position": null,
            "order": null,
            "overflow": null,
            "overflow_x": null,
            "overflow_y": null,
            "padding": null,
            "right": null,
            "top": null,
            "visibility": null,
            "width": null
          }
        },
        "adff96449ffe4358995420ac03c9cabf": {
          "model_module": "@jupyter-widgets/controls",
          "model_name": "ProgressStyleModel",
          "model_module_version": "1.5.0",
          "state": {
            "_model_module": "@jupyter-widgets/controls",
            "_model_module_version": "1.5.0",
            "_model_name": "ProgressStyleModel",
            "_view_count": null,
            "_view_module": "@jupyter-widgets/base",
            "_view_module_version": "1.2.0",
            "_view_name": "StyleView",
            "bar_color": null,
            "description_width": ""
          }
        },
        "a0310ed76ea54a198befc9100c5b9915": {
          "model_module": "@jupyter-widgets/base",
          "model_name": "LayoutModel",
          "model_module_version": "1.2.0",
          "state": {
            "_model_module": "@jupyter-widgets/base",
            "_model_module_version": "1.2.0",
            "_model_name": "LayoutModel",
            "_view_count": null,
            "_view_module": "@jupyter-widgets/base",
            "_view_module_version": "1.2.0",
            "_view_name": "LayoutView",
            "align_content": null,
            "align_items": null,
            "align_self": null,
            "border": null,
            "bottom": null,
            "display": null,
            "flex": null,
            "flex_flow": null,
            "grid_area": null,
            "grid_auto_columns": null,
            "grid_auto_flow": null,
            "grid_auto_rows": null,
            "grid_column": null,
            "grid_gap": null,
            "grid_row": null,
            "grid_template_areas": null,
            "grid_template_columns": null,
            "grid_template_rows": null,
            "height": null,
            "justify_content": null,
            "justify_items": null,
            "left": null,
            "margin": null,
            "max_height": null,
            "max_width": null,
            "min_height": null,
            "min_width": null,
            "object_fit": null,
            "object_position": null,
            "order": null,
            "overflow": null,
            "overflow_x": null,
            "overflow_y": null,
            "padding": null,
            "right": null,
            "top": null,
            "visibility": null,
            "width": null
          }
        },
        "7054fd959413408cb141454188caa2db": {
          "model_module": "@jupyter-widgets/controls",
          "model_name": "DescriptionStyleModel",
          "model_module_version": "1.5.0",
          "state": {
            "_model_module": "@jupyter-widgets/controls",
            "_model_module_version": "1.5.0",
            "_model_name": "DescriptionStyleModel",
            "_view_count": null,
            "_view_module": "@jupyter-widgets/base",
            "_view_module_version": "1.2.0",
            "_view_name": "StyleView",
            "description_width": ""
          }
        },
        "a8a0cab694ff4f3195261cac1c6dea29": {
          "model_module": "@jupyter-widgets/controls",
          "model_name": "HBoxModel",
          "model_module_version": "1.5.0",
          "state": {
            "_dom_classes": [],
            "_model_module": "@jupyter-widgets/controls",
            "_model_module_version": "1.5.0",
            "_model_name": "HBoxModel",
            "_view_count": null,
            "_view_module": "@jupyter-widgets/controls",
            "_view_module_version": "1.5.0",
            "_view_name": "HBoxView",
            "box_style": "",
            "children": [
              "IPY_MODEL_df3e2e3e4b0b46069a4c27a9ed1c7836",
              "IPY_MODEL_c0851da8db8c4eb9a3ed1e0dbab6fa64",
              "IPY_MODEL_12fb7fffc99e453db5f3acc3837fb938"
            ],
            "layout": "IPY_MODEL_4acc29df03f94fb9ad6c35a29270bde5"
          }
        },
        "df3e2e3e4b0b46069a4c27a9ed1c7836": {
          "model_module": "@jupyter-widgets/controls",
          "model_name": "HTMLModel",
          "model_module_version": "1.5.0",
          "state": {
            "_dom_classes": [],
            "_model_module": "@jupyter-widgets/controls",
            "_model_module_version": "1.5.0",
            "_model_name": "HTMLModel",
            "_view_count": null,
            "_view_module": "@jupyter-widgets/controls",
            "_view_module_version": "1.5.0",
            "_view_name": "HTMLView",
            "description": "",
            "description_tooltip": null,
            "layout": "IPY_MODEL_6d3611a2f6cd4038b7b4d4e406a49362",
            "placeholder": "​",
            "style": "IPY_MODEL_a6c252f41aa84d3db45ae5ad51519497",
            "value": "Validation DataLoader 0: 100%"
          }
        },
        "c0851da8db8c4eb9a3ed1e0dbab6fa64": {
          "model_module": "@jupyter-widgets/controls",
          "model_name": "FloatProgressModel",
          "model_module_version": "1.5.0",
          "state": {
            "_dom_classes": [],
            "_model_module": "@jupyter-widgets/controls",
            "_model_module_version": "1.5.0",
            "_model_name": "FloatProgressModel",
            "_view_count": null,
            "_view_module": "@jupyter-widgets/controls",
            "_view_module_version": "1.5.0",
            "_view_name": "ProgressView",
            "bar_style": "",
            "description": "",
            "description_tooltip": null,
            "layout": "IPY_MODEL_1c443ab37d1d4069a6375de946c96361",
            "max": 63,
            "min": 0,
            "orientation": "horizontal",
            "style": "IPY_MODEL_88ce9030d97a4458b7acab2ebfc2aa23",
            "value": 63
          }
        },
        "12fb7fffc99e453db5f3acc3837fb938": {
          "model_module": "@jupyter-widgets/controls",
          "model_name": "HTMLModel",
          "model_module_version": "1.5.0",
          "state": {
            "_dom_classes": [],
            "_model_module": "@jupyter-widgets/controls",
            "_model_module_version": "1.5.0",
            "_model_name": "HTMLModel",
            "_view_count": null,
            "_view_module": "@jupyter-widgets/controls",
            "_view_module_version": "1.5.0",
            "_view_name": "HTMLView",
            "description": "",
            "description_tooltip": null,
            "layout": "IPY_MODEL_d23d44a4246f440e984fba58e7afd73a",
            "placeholder": "​",
            "style": "IPY_MODEL_b6be2518b855446d99775748b8683cd9",
            "value": " 63/63 [00:00&lt;00:00, 71.23it/s]"
          }
        },
        "4acc29df03f94fb9ad6c35a29270bde5": {
          "model_module": "@jupyter-widgets/base",
          "model_name": "LayoutModel",
          "model_module_version": "1.2.0",
          "state": {
            "_model_module": "@jupyter-widgets/base",
            "_model_module_version": "1.2.0",
            "_model_name": "LayoutModel",
            "_view_count": null,
            "_view_module": "@jupyter-widgets/base",
            "_view_module_version": "1.2.0",
            "_view_name": "LayoutView",
            "align_content": null,
            "align_items": null,
            "align_self": null,
            "border": null,
            "bottom": null,
            "display": "inline-flex",
            "flex": null,
            "flex_flow": "row wrap",
            "grid_area": null,
            "grid_auto_columns": null,
            "grid_auto_flow": null,
            "grid_auto_rows": null,
            "grid_column": null,
            "grid_gap": null,
            "grid_row": null,
            "grid_template_areas": null,
            "grid_template_columns": null,
            "grid_template_rows": null,
            "height": null,
            "justify_content": null,
            "justify_items": null,
            "left": null,
            "margin": null,
            "max_height": null,
            "max_width": null,
            "min_height": null,
            "min_width": null,
            "object_fit": null,
            "object_position": null,
            "order": null,
            "overflow": null,
            "overflow_x": null,
            "overflow_y": null,
            "padding": null,
            "right": null,
            "top": null,
            "visibility": "hidden",
            "width": "100%"
          }
        },
        "6d3611a2f6cd4038b7b4d4e406a49362": {
          "model_module": "@jupyter-widgets/base",
          "model_name": "LayoutModel",
          "model_module_version": "1.2.0",
          "state": {
            "_model_module": "@jupyter-widgets/base",
            "_model_module_version": "1.2.0",
            "_model_name": "LayoutModel",
            "_view_count": null,
            "_view_module": "@jupyter-widgets/base",
            "_view_module_version": "1.2.0",
            "_view_name": "LayoutView",
            "align_content": null,
            "align_items": null,
            "align_self": null,
            "border": null,
            "bottom": null,
            "display": null,
            "flex": null,
            "flex_flow": null,
            "grid_area": null,
            "grid_auto_columns": null,
            "grid_auto_flow": null,
            "grid_auto_rows": null,
            "grid_column": null,
            "grid_gap": null,
            "grid_row": null,
            "grid_template_areas": null,
            "grid_template_columns": null,
            "grid_template_rows": null,
            "height": null,
            "justify_content": null,
            "justify_items": null,
            "left": null,
            "margin": null,
            "max_height": null,
            "max_width": null,
            "min_height": null,
            "min_width": null,
            "object_fit": null,
            "object_position": null,
            "order": null,
            "overflow": null,
            "overflow_x": null,
            "overflow_y": null,
            "padding": null,
            "right": null,
            "top": null,
            "visibility": null,
            "width": null
          }
        },
        "a6c252f41aa84d3db45ae5ad51519497": {
          "model_module": "@jupyter-widgets/controls",
          "model_name": "DescriptionStyleModel",
          "model_module_version": "1.5.0",
          "state": {
            "_model_module": "@jupyter-widgets/controls",
            "_model_module_version": "1.5.0",
            "_model_name": "DescriptionStyleModel",
            "_view_count": null,
            "_view_module": "@jupyter-widgets/base",
            "_view_module_version": "1.2.0",
            "_view_name": "StyleView",
            "description_width": ""
          }
        },
        "1c443ab37d1d4069a6375de946c96361": {
          "model_module": "@jupyter-widgets/base",
          "model_name": "LayoutModel",
          "model_module_version": "1.2.0",
          "state": {
            "_model_module": "@jupyter-widgets/base",
            "_model_module_version": "1.2.0",
            "_model_name": "LayoutModel",
            "_view_count": null,
            "_view_module": "@jupyter-widgets/base",
            "_view_module_version": "1.2.0",
            "_view_name": "LayoutView",
            "align_content": null,
            "align_items": null,
            "align_self": null,
            "border": null,
            "bottom": null,
            "display": null,
            "flex": "2",
            "flex_flow": null,
            "grid_area": null,
            "grid_auto_columns": null,
            "grid_auto_flow": null,
            "grid_auto_rows": null,
            "grid_column": null,
            "grid_gap": null,
            "grid_row": null,
            "grid_template_areas": null,
            "grid_template_columns": null,
            "grid_template_rows": null,
            "height": null,
            "justify_content": null,
            "justify_items": null,
            "left": null,
            "margin": null,
            "max_height": null,
            "max_width": null,
            "min_height": null,
            "min_width": null,
            "object_fit": null,
            "object_position": null,
            "order": null,
            "overflow": null,
            "overflow_x": null,
            "overflow_y": null,
            "padding": null,
            "right": null,
            "top": null,
            "visibility": null,
            "width": null
          }
        },
        "88ce9030d97a4458b7acab2ebfc2aa23": {
          "model_module": "@jupyter-widgets/controls",
          "model_name": "ProgressStyleModel",
          "model_module_version": "1.5.0",
          "state": {
            "_model_module": "@jupyter-widgets/controls",
            "_model_module_version": "1.5.0",
            "_model_name": "ProgressStyleModel",
            "_view_count": null,
            "_view_module": "@jupyter-widgets/base",
            "_view_module_version": "1.2.0",
            "_view_name": "StyleView",
            "bar_color": null,
            "description_width": ""
          }
        },
        "d23d44a4246f440e984fba58e7afd73a": {
          "model_module": "@jupyter-widgets/base",
          "model_name": "LayoutModel",
          "model_module_version": "1.2.0",
          "state": {
            "_model_module": "@jupyter-widgets/base",
            "_model_module_version": "1.2.0",
            "_model_name": "LayoutModel",
            "_view_count": null,
            "_view_module": "@jupyter-widgets/base",
            "_view_module_version": "1.2.0",
            "_view_name": "LayoutView",
            "align_content": null,
            "align_items": null,
            "align_self": null,
            "border": null,
            "bottom": null,
            "display": null,
            "flex": null,
            "flex_flow": null,
            "grid_area": null,
            "grid_auto_columns": null,
            "grid_auto_flow": null,
            "grid_auto_rows": null,
            "grid_column": null,
            "grid_gap": null,
            "grid_row": null,
            "grid_template_areas": null,
            "grid_template_columns": null,
            "grid_template_rows": null,
            "height": null,
            "justify_content": null,
            "justify_items": null,
            "left": null,
            "margin": null,
            "max_height": null,
            "max_width": null,
            "min_height": null,
            "min_width": null,
            "object_fit": null,
            "object_position": null,
            "order": null,
            "overflow": null,
            "overflow_x": null,
            "overflow_y": null,
            "padding": null,
            "right": null,
            "top": null,
            "visibility": null,
            "width": null
          }
        },
        "b6be2518b855446d99775748b8683cd9": {
          "model_module": "@jupyter-widgets/controls",
          "model_name": "DescriptionStyleModel",
          "model_module_version": "1.5.0",
          "state": {
            "_model_module": "@jupyter-widgets/controls",
            "_model_module_version": "1.5.0",
            "_model_name": "DescriptionStyleModel",
            "_view_count": null,
            "_view_module": "@jupyter-widgets/base",
            "_view_module_version": "1.2.0",
            "_view_name": "StyleView",
            "description_width": ""
          }
        },
        "d8bf72888be348e08d335b8b7bd67033": {
          "model_module": "@jupyter-widgets/controls",
          "model_name": "HBoxModel",
          "model_module_version": "1.5.0",
          "state": {
            "_dom_classes": [],
            "_model_module": "@jupyter-widgets/controls",
            "_model_module_version": "1.5.0",
            "_model_name": "HBoxModel",
            "_view_count": null,
            "_view_module": "@jupyter-widgets/controls",
            "_view_module_version": "1.5.0",
            "_view_name": "HBoxView",
            "box_style": "",
            "children": [
              "IPY_MODEL_d582fdef653f48c0a4a9b101e523ef84",
              "IPY_MODEL_71a88542745c40cca56316fac6e824f0",
              "IPY_MODEL_922feb7c13a1482c82d37b0c2ed9acd7"
            ],
            "layout": "IPY_MODEL_29f59a77e76a446eb9a436c5b417666a"
          }
        },
        "d582fdef653f48c0a4a9b101e523ef84": {
          "model_module": "@jupyter-widgets/controls",
          "model_name": "HTMLModel",
          "model_module_version": "1.5.0",
          "state": {
            "_dom_classes": [],
            "_model_module": "@jupyter-widgets/controls",
            "_model_module_version": "1.5.0",
            "_model_name": "HTMLModel",
            "_view_count": null,
            "_view_module": "@jupyter-widgets/controls",
            "_view_module_version": "1.5.0",
            "_view_name": "HTMLView",
            "description": "",
            "description_tooltip": null,
            "layout": "IPY_MODEL_c8ff862bbc57429d95428f17b3196e07",
            "placeholder": "​",
            "style": "IPY_MODEL_ab436497788943bda5d8d5f5cc68d3a5",
            "value": "Validation DataLoader 0: 100%"
          }
        },
        "71a88542745c40cca56316fac6e824f0": {
          "model_module": "@jupyter-widgets/controls",
          "model_name": "FloatProgressModel",
          "model_module_version": "1.5.0",
          "state": {
            "_dom_classes": [],
            "_model_module": "@jupyter-widgets/controls",
            "_model_module_version": "1.5.0",
            "_model_name": "FloatProgressModel",
            "_view_count": null,
            "_view_module": "@jupyter-widgets/controls",
            "_view_module_version": "1.5.0",
            "_view_name": "ProgressView",
            "bar_style": "",
            "description": "",
            "description_tooltip": null,
            "layout": "IPY_MODEL_e0413811794f4271bc0ef3d78c99d49e",
            "max": 63,
            "min": 0,
            "orientation": "horizontal",
            "style": "IPY_MODEL_784fad221a9e4f9e86527a242cb1c5bf",
            "value": 63
          }
        },
        "922feb7c13a1482c82d37b0c2ed9acd7": {
          "model_module": "@jupyter-widgets/controls",
          "model_name": "HTMLModel",
          "model_module_version": "1.5.0",
          "state": {
            "_dom_classes": [],
            "_model_module": "@jupyter-widgets/controls",
            "_model_module_version": "1.5.0",
            "_model_name": "HTMLModel",
            "_view_count": null,
            "_view_module": "@jupyter-widgets/controls",
            "_view_module_version": "1.5.0",
            "_view_name": "HTMLView",
            "description": "",
            "description_tooltip": null,
            "layout": "IPY_MODEL_75ea5d9e559c4a58adcece6b6c2da05d",
            "placeholder": "​",
            "style": "IPY_MODEL_6332fd87f1154724946b29dd06e0aef9",
            "value": " 63/63 [00:00&lt;00:00, 72.40it/s]"
          }
        },
        "29f59a77e76a446eb9a436c5b417666a": {
          "model_module": "@jupyter-widgets/base",
          "model_name": "LayoutModel",
          "model_module_version": "1.2.0",
          "state": {
            "_model_module": "@jupyter-widgets/base",
            "_model_module_version": "1.2.0",
            "_model_name": "LayoutModel",
            "_view_count": null,
            "_view_module": "@jupyter-widgets/base",
            "_view_module_version": "1.2.0",
            "_view_name": "LayoutView",
            "align_content": null,
            "align_items": null,
            "align_self": null,
            "border": null,
            "bottom": null,
            "display": "inline-flex",
            "flex": null,
            "flex_flow": "row wrap",
            "grid_area": null,
            "grid_auto_columns": null,
            "grid_auto_flow": null,
            "grid_auto_rows": null,
            "grid_column": null,
            "grid_gap": null,
            "grid_row": null,
            "grid_template_areas": null,
            "grid_template_columns": null,
            "grid_template_rows": null,
            "height": null,
            "justify_content": null,
            "justify_items": null,
            "left": null,
            "margin": null,
            "max_height": null,
            "max_width": null,
            "min_height": null,
            "min_width": null,
            "object_fit": null,
            "object_position": null,
            "order": null,
            "overflow": null,
            "overflow_x": null,
            "overflow_y": null,
            "padding": null,
            "right": null,
            "top": null,
            "visibility": "hidden",
            "width": "100%"
          }
        },
        "c8ff862bbc57429d95428f17b3196e07": {
          "model_module": "@jupyter-widgets/base",
          "model_name": "LayoutModel",
          "model_module_version": "1.2.0",
          "state": {
            "_model_module": "@jupyter-widgets/base",
            "_model_module_version": "1.2.0",
            "_model_name": "LayoutModel",
            "_view_count": null,
            "_view_module": "@jupyter-widgets/base",
            "_view_module_version": "1.2.0",
            "_view_name": "LayoutView",
            "align_content": null,
            "align_items": null,
            "align_self": null,
            "border": null,
            "bottom": null,
            "display": null,
            "flex": null,
            "flex_flow": null,
            "grid_area": null,
            "grid_auto_columns": null,
            "grid_auto_flow": null,
            "grid_auto_rows": null,
            "grid_column": null,
            "grid_gap": null,
            "grid_row": null,
            "grid_template_areas": null,
            "grid_template_columns": null,
            "grid_template_rows": null,
            "height": null,
            "justify_content": null,
            "justify_items": null,
            "left": null,
            "margin": null,
            "max_height": null,
            "max_width": null,
            "min_height": null,
            "min_width": null,
            "object_fit": null,
            "object_position": null,
            "order": null,
            "overflow": null,
            "overflow_x": null,
            "overflow_y": null,
            "padding": null,
            "right": null,
            "top": null,
            "visibility": null,
            "width": null
          }
        },
        "ab436497788943bda5d8d5f5cc68d3a5": {
          "model_module": "@jupyter-widgets/controls",
          "model_name": "DescriptionStyleModel",
          "model_module_version": "1.5.0",
          "state": {
            "_model_module": "@jupyter-widgets/controls",
            "_model_module_version": "1.5.0",
            "_model_name": "DescriptionStyleModel",
            "_view_count": null,
            "_view_module": "@jupyter-widgets/base",
            "_view_module_version": "1.2.0",
            "_view_name": "StyleView",
            "description_width": ""
          }
        },
        "e0413811794f4271bc0ef3d78c99d49e": {
          "model_module": "@jupyter-widgets/base",
          "model_name": "LayoutModel",
          "model_module_version": "1.2.0",
          "state": {
            "_model_module": "@jupyter-widgets/base",
            "_model_module_version": "1.2.0",
            "_model_name": "LayoutModel",
            "_view_count": null,
            "_view_module": "@jupyter-widgets/base",
            "_view_module_version": "1.2.0",
            "_view_name": "LayoutView",
            "align_content": null,
            "align_items": null,
            "align_self": null,
            "border": null,
            "bottom": null,
            "display": null,
            "flex": "2",
            "flex_flow": null,
            "grid_area": null,
            "grid_auto_columns": null,
            "grid_auto_flow": null,
            "grid_auto_rows": null,
            "grid_column": null,
            "grid_gap": null,
            "grid_row": null,
            "grid_template_areas": null,
            "grid_template_columns": null,
            "grid_template_rows": null,
            "height": null,
            "justify_content": null,
            "justify_items": null,
            "left": null,
            "margin": null,
            "max_height": null,
            "max_width": null,
            "min_height": null,
            "min_width": null,
            "object_fit": null,
            "object_position": null,
            "order": null,
            "overflow": null,
            "overflow_x": null,
            "overflow_y": null,
            "padding": null,
            "right": null,
            "top": null,
            "visibility": null,
            "width": null
          }
        },
        "784fad221a9e4f9e86527a242cb1c5bf": {
          "model_module": "@jupyter-widgets/controls",
          "model_name": "ProgressStyleModel",
          "model_module_version": "1.5.0",
          "state": {
            "_model_module": "@jupyter-widgets/controls",
            "_model_module_version": "1.5.0",
            "_model_name": "ProgressStyleModel",
            "_view_count": null,
            "_view_module": "@jupyter-widgets/base",
            "_view_module_version": "1.2.0",
            "_view_name": "StyleView",
            "bar_color": null,
            "description_width": ""
          }
        },
        "75ea5d9e559c4a58adcece6b6c2da05d": {
          "model_module": "@jupyter-widgets/base",
          "model_name": "LayoutModel",
          "model_module_version": "1.2.0",
          "state": {
            "_model_module": "@jupyter-widgets/base",
            "_model_module_version": "1.2.0",
            "_model_name": "LayoutModel",
            "_view_count": null,
            "_view_module": "@jupyter-widgets/base",
            "_view_module_version": "1.2.0",
            "_view_name": "LayoutView",
            "align_content": null,
            "align_items": null,
            "align_self": null,
            "border": null,
            "bottom": null,
            "display": null,
            "flex": null,
            "flex_flow": null,
            "grid_area": null,
            "grid_auto_columns": null,
            "grid_auto_flow": null,
            "grid_auto_rows": null,
            "grid_column": null,
            "grid_gap": null,
            "grid_row": null,
            "grid_template_areas": null,
            "grid_template_columns": null,
            "grid_template_rows": null,
            "height": null,
            "justify_content": null,
            "justify_items": null,
            "left": null,
            "margin": null,
            "max_height": null,
            "max_width": null,
            "min_height": null,
            "min_width": null,
            "object_fit": null,
            "object_position": null,
            "order": null,
            "overflow": null,
            "overflow_x": null,
            "overflow_y": null,
            "padding": null,
            "right": null,
            "top": null,
            "visibility": null,
            "width": null
          }
        },
        "6332fd87f1154724946b29dd06e0aef9": {
          "model_module": "@jupyter-widgets/controls",
          "model_name": "DescriptionStyleModel",
          "model_module_version": "1.5.0",
          "state": {
            "_model_module": "@jupyter-widgets/controls",
            "_model_module_version": "1.5.0",
            "_model_name": "DescriptionStyleModel",
            "_view_count": null,
            "_view_module": "@jupyter-widgets/base",
            "_view_module_version": "1.2.0",
            "_view_name": "StyleView",
            "description_width": ""
          }
        },
        "9974a975dc8a4f029b5623296ecc603d": {
          "model_module": "@jupyter-widgets/controls",
          "model_name": "VBoxModel",
          "model_module_version": "1.5.0",
          "state": {
            "_dom_classes": [],
            "_model_module": "@jupyter-widgets/controls",
            "_model_module_version": "1.5.0",
            "_model_name": "VBoxModel",
            "_view_count": null,
            "_view_module": "@jupyter-widgets/controls",
            "_view_module_version": "1.5.0",
            "_view_name": "VBoxView",
            "box_style": "",
            "children": [
              "IPY_MODEL_3c02898e3bc84c4097640bac915732ab",
              "IPY_MODEL_3dbea929ac36440b8486703bab3447a8"
            ],
            "layout": "IPY_MODEL_5b796f57523f46b78d52e066634595b6"
          }
        },
        "3c02898e3bc84c4097640bac915732ab": {
          "model_module": "@jupyter-widgets/controls",
          "model_name": "LabelModel",
          "model_module_version": "1.5.0",
          "state": {
            "_dom_classes": [],
            "_model_module": "@jupyter-widgets/controls",
            "_model_module_version": "1.5.0",
            "_model_name": "LabelModel",
            "_view_count": null,
            "_view_module": "@jupyter-widgets/controls",
            "_view_module_version": "1.5.0",
            "_view_name": "LabelView",
            "description": "",
            "description_tooltip": null,
            "layout": "IPY_MODEL_e27b7a8ef9ee4b1c95bc5d53dc4be8d9",
            "placeholder": "​",
            "style": "IPY_MODEL_dd557cabe5b64b728f2d24c339268254",
            "value": "0.013 MB of 0.013 MB uploaded\r"
          }
        },
        "3dbea929ac36440b8486703bab3447a8": {
          "model_module": "@jupyter-widgets/controls",
          "model_name": "FloatProgressModel",
          "model_module_version": "1.5.0",
          "state": {
            "_dom_classes": [],
            "_model_module": "@jupyter-widgets/controls",
            "_model_module_version": "1.5.0",
            "_model_name": "FloatProgressModel",
            "_view_count": null,
            "_view_module": "@jupyter-widgets/controls",
            "_view_module_version": "1.5.0",
            "_view_name": "ProgressView",
            "bar_style": "",
            "description": "",
            "description_tooltip": null,
            "layout": "IPY_MODEL_4a708e1d9499492692a8040bef21d930",
            "max": 1,
            "min": 0,
            "orientation": "horizontal",
            "style": "IPY_MODEL_b97a7e42b5c44400aea38b047972265b",
            "value": 1
          }
        },
        "5b796f57523f46b78d52e066634595b6": {
          "model_module": "@jupyter-widgets/base",
          "model_name": "LayoutModel",
          "model_module_version": "1.2.0",
          "state": {
            "_model_module": "@jupyter-widgets/base",
            "_model_module_version": "1.2.0",
            "_model_name": "LayoutModel",
            "_view_count": null,
            "_view_module": "@jupyter-widgets/base",
            "_view_module_version": "1.2.0",
            "_view_name": "LayoutView",
            "align_content": null,
            "align_items": null,
            "align_self": null,
            "border": null,
            "bottom": null,
            "display": null,
            "flex": null,
            "flex_flow": null,
            "grid_area": null,
            "grid_auto_columns": null,
            "grid_auto_flow": null,
            "grid_auto_rows": null,
            "grid_column": null,
            "grid_gap": null,
            "grid_row": null,
            "grid_template_areas": null,
            "grid_template_columns": null,
            "grid_template_rows": null,
            "height": null,
            "justify_content": null,
            "justify_items": null,
            "left": null,
            "margin": null,
            "max_height": null,
            "max_width": null,
            "min_height": null,
            "min_width": null,
            "object_fit": null,
            "object_position": null,
            "order": null,
            "overflow": null,
            "overflow_x": null,
            "overflow_y": null,
            "padding": null,
            "right": null,
            "top": null,
            "visibility": null,
            "width": null
          }
        },
        "e27b7a8ef9ee4b1c95bc5d53dc4be8d9": {
          "model_module": "@jupyter-widgets/base",
          "model_name": "LayoutModel",
          "model_module_version": "1.2.0",
          "state": {
            "_model_module": "@jupyter-widgets/base",
            "_model_module_version": "1.2.0",
            "_model_name": "LayoutModel",
            "_view_count": null,
            "_view_module": "@jupyter-widgets/base",
            "_view_module_version": "1.2.0",
            "_view_name": "LayoutView",
            "align_content": null,
            "align_items": null,
            "align_self": null,
            "border": null,
            "bottom": null,
            "display": null,
            "flex": null,
            "flex_flow": null,
            "grid_area": null,
            "grid_auto_columns": null,
            "grid_auto_flow": null,
            "grid_auto_rows": null,
            "grid_column": null,
            "grid_gap": null,
            "grid_row": null,
            "grid_template_areas": null,
            "grid_template_columns": null,
            "grid_template_rows": null,
            "height": null,
            "justify_content": null,
            "justify_items": null,
            "left": null,
            "margin": null,
            "max_height": null,
            "max_width": null,
            "min_height": null,
            "min_width": null,
            "object_fit": null,
            "object_position": null,
            "order": null,
            "overflow": null,
            "overflow_x": null,
            "overflow_y": null,
            "padding": null,
            "right": null,
            "top": null,
            "visibility": null,
            "width": null
          }
        },
        "dd557cabe5b64b728f2d24c339268254": {
          "model_module": "@jupyter-widgets/controls",
          "model_name": "DescriptionStyleModel",
          "model_module_version": "1.5.0",
          "state": {
            "_model_module": "@jupyter-widgets/controls",
            "_model_module_version": "1.5.0",
            "_model_name": "DescriptionStyleModel",
            "_view_count": null,
            "_view_module": "@jupyter-widgets/base",
            "_view_module_version": "1.2.0",
            "_view_name": "StyleView",
            "description_width": ""
          }
        },
        "4a708e1d9499492692a8040bef21d930": {
          "model_module": "@jupyter-widgets/base",
          "model_name": "LayoutModel",
          "model_module_version": "1.2.0",
          "state": {
            "_model_module": "@jupyter-widgets/base",
            "_model_module_version": "1.2.0",
            "_model_name": "LayoutModel",
            "_view_count": null,
            "_view_module": "@jupyter-widgets/base",
            "_view_module_version": "1.2.0",
            "_view_name": "LayoutView",
            "align_content": null,
            "align_items": null,
            "align_self": null,
            "border": null,
            "bottom": null,
            "display": null,
            "flex": null,
            "flex_flow": null,
            "grid_area": null,
            "grid_auto_columns": null,
            "grid_auto_flow": null,
            "grid_auto_rows": null,
            "grid_column": null,
            "grid_gap": null,
            "grid_row": null,
            "grid_template_areas": null,
            "grid_template_columns": null,
            "grid_template_rows": null,
            "height": null,
            "justify_content": null,
            "justify_items": null,
            "left": null,
            "margin": null,
            "max_height": null,
            "max_width": null,
            "min_height": null,
            "min_width": null,
            "object_fit": null,
            "object_position": null,
            "order": null,
            "overflow": null,
            "overflow_x": null,
            "overflow_y": null,
            "padding": null,
            "right": null,
            "top": null,
            "visibility": null,
            "width": null
          }
        },
        "b97a7e42b5c44400aea38b047972265b": {
          "model_module": "@jupyter-widgets/controls",
          "model_name": "ProgressStyleModel",
          "model_module_version": "1.5.0",
          "state": {
            "_model_module": "@jupyter-widgets/controls",
            "_model_module_version": "1.5.0",
            "_model_name": "ProgressStyleModel",
            "_view_count": null,
            "_view_module": "@jupyter-widgets/base",
            "_view_module_version": "1.2.0",
            "_view_name": "StyleView",
            "bar_color": null,
            "description_width": ""
          }
        },
        "6826e33995e445d890d87e00f9afe01b": {
          "model_module": "@jupyter-widgets/controls",
          "model_name": "VBoxModel",
          "model_module_version": "1.5.0",
          "state": {
            "_dom_classes": [],
            "_model_module": "@jupyter-widgets/controls",
            "_model_module_version": "1.5.0",
            "_model_name": "VBoxModel",
            "_view_count": null,
            "_view_module": "@jupyter-widgets/controls",
            "_view_module_version": "1.5.0",
            "_view_name": "VBoxView",
            "box_style": "",
            "children": [
              "IPY_MODEL_ecc225ac58544c4693470a44cc6a31b8",
              "IPY_MODEL_d2070870e4a1447fbd60cec033432da4"
            ],
            "layout": "IPY_MODEL_d203553967d54151b65cdfee727d0e8d"
          }
        },
        "ecc225ac58544c4693470a44cc6a31b8": {
          "model_module": "@jupyter-widgets/controls",
          "model_name": "LabelModel",
          "model_module_version": "1.5.0",
          "state": {
            "_dom_classes": [],
            "_model_module": "@jupyter-widgets/controls",
            "_model_module_version": "1.5.0",
            "_model_name": "LabelModel",
            "_view_count": null,
            "_view_module": "@jupyter-widgets/controls",
            "_view_module_version": "1.5.0",
            "_view_name": "LabelView",
            "description": "",
            "description_tooltip": null,
            "layout": "IPY_MODEL_a6f3b28ada4b4549be1ba3f27e7848dd",
            "placeholder": "​",
            "style": "IPY_MODEL_2bd61cf304b841449e417c8067409141",
            "value": "0.012 MB of 0.012 MB uploaded\r"
          }
        },
        "d2070870e4a1447fbd60cec033432da4": {
          "model_module": "@jupyter-widgets/controls",
          "model_name": "FloatProgressModel",
          "model_module_version": "1.5.0",
          "state": {
            "_dom_classes": [],
            "_model_module": "@jupyter-widgets/controls",
            "_model_module_version": "1.5.0",
            "_model_name": "FloatProgressModel",
            "_view_count": null,
            "_view_module": "@jupyter-widgets/controls",
            "_view_module_version": "1.5.0",
            "_view_name": "ProgressView",
            "bar_style": "",
            "description": "",
            "description_tooltip": null,
            "layout": "IPY_MODEL_26864c49980c41b7ba6a83f9e241fde6",
            "max": 1,
            "min": 0,
            "orientation": "horizontal",
            "style": "IPY_MODEL_f644b17561e54cdc98c97e26e66b64be",
            "value": 1
          }
        },
        "d203553967d54151b65cdfee727d0e8d": {
          "model_module": "@jupyter-widgets/base",
          "model_name": "LayoutModel",
          "model_module_version": "1.2.0",
          "state": {
            "_model_module": "@jupyter-widgets/base",
            "_model_module_version": "1.2.0",
            "_model_name": "LayoutModel",
            "_view_count": null,
            "_view_module": "@jupyter-widgets/base",
            "_view_module_version": "1.2.0",
            "_view_name": "LayoutView",
            "align_content": null,
            "align_items": null,
            "align_self": null,
            "border": null,
            "bottom": null,
            "display": null,
            "flex": null,
            "flex_flow": null,
            "grid_area": null,
            "grid_auto_columns": null,
            "grid_auto_flow": null,
            "grid_auto_rows": null,
            "grid_column": null,
            "grid_gap": null,
            "grid_row": null,
            "grid_template_areas": null,
            "grid_template_columns": null,
            "grid_template_rows": null,
            "height": null,
            "justify_content": null,
            "justify_items": null,
            "left": null,
            "margin": null,
            "max_height": null,
            "max_width": null,
            "min_height": null,
            "min_width": null,
            "object_fit": null,
            "object_position": null,
            "order": null,
            "overflow": null,
            "overflow_x": null,
            "overflow_y": null,
            "padding": null,
            "right": null,
            "top": null,
            "visibility": null,
            "width": null
          }
        },
        "a6f3b28ada4b4549be1ba3f27e7848dd": {
          "model_module": "@jupyter-widgets/base",
          "model_name": "LayoutModel",
          "model_module_version": "1.2.0",
          "state": {
            "_model_module": "@jupyter-widgets/base",
            "_model_module_version": "1.2.0",
            "_model_name": "LayoutModel",
            "_view_count": null,
            "_view_module": "@jupyter-widgets/base",
            "_view_module_version": "1.2.0",
            "_view_name": "LayoutView",
            "align_content": null,
            "align_items": null,
            "align_self": null,
            "border": null,
            "bottom": null,
            "display": null,
            "flex": null,
            "flex_flow": null,
            "grid_area": null,
            "grid_auto_columns": null,
            "grid_auto_flow": null,
            "grid_auto_rows": null,
            "grid_column": null,
            "grid_gap": null,
            "grid_row": null,
            "grid_template_areas": null,
            "grid_template_columns": null,
            "grid_template_rows": null,
            "height": null,
            "justify_content": null,
            "justify_items": null,
            "left": null,
            "margin": null,
            "max_height": null,
            "max_width": null,
            "min_height": null,
            "min_width": null,
            "object_fit": null,
            "object_position": null,
            "order": null,
            "overflow": null,
            "overflow_x": null,
            "overflow_y": null,
            "padding": null,
            "right": null,
            "top": null,
            "visibility": null,
            "width": null
          }
        },
        "2bd61cf304b841449e417c8067409141": {
          "model_module": "@jupyter-widgets/controls",
          "model_name": "DescriptionStyleModel",
          "model_module_version": "1.5.0",
          "state": {
            "_model_module": "@jupyter-widgets/controls",
            "_model_module_version": "1.5.0",
            "_model_name": "DescriptionStyleModel",
            "_view_count": null,
            "_view_module": "@jupyter-widgets/base",
            "_view_module_version": "1.2.0",
            "_view_name": "StyleView",
            "description_width": ""
          }
        },
        "26864c49980c41b7ba6a83f9e241fde6": {
          "model_module": "@jupyter-widgets/base",
          "model_name": "LayoutModel",
          "model_module_version": "1.2.0",
          "state": {
            "_model_module": "@jupyter-widgets/base",
            "_model_module_version": "1.2.0",
            "_model_name": "LayoutModel",
            "_view_count": null,
            "_view_module": "@jupyter-widgets/base",
            "_view_module_version": "1.2.0",
            "_view_name": "LayoutView",
            "align_content": null,
            "align_items": null,
            "align_self": null,
            "border": null,
            "bottom": null,
            "display": null,
            "flex": null,
            "flex_flow": null,
            "grid_area": null,
            "grid_auto_columns": null,
            "grid_auto_flow": null,
            "grid_auto_rows": null,
            "grid_column": null,
            "grid_gap": null,
            "grid_row": null,
            "grid_template_areas": null,
            "grid_template_columns": null,
            "grid_template_rows": null,
            "height": null,
            "justify_content": null,
            "justify_items": null,
            "left": null,
            "margin": null,
            "max_height": null,
            "max_width": null,
            "min_height": null,
            "min_width": null,
            "object_fit": null,
            "object_position": null,
            "order": null,
            "overflow": null,
            "overflow_x": null,
            "overflow_y": null,
            "padding": null,
            "right": null,
            "top": null,
            "visibility": null,
            "width": null
          }
        },
        "f644b17561e54cdc98c97e26e66b64be": {
          "model_module": "@jupyter-widgets/controls",
          "model_name": "ProgressStyleModel",
          "model_module_version": "1.5.0",
          "state": {
            "_model_module": "@jupyter-widgets/controls",
            "_model_module_version": "1.5.0",
            "_model_name": "ProgressStyleModel",
            "_view_count": null,
            "_view_module": "@jupyter-widgets/base",
            "_view_module_version": "1.2.0",
            "_view_name": "StyleView",
            "bar_color": null,
            "description_width": ""
          }
        },
        "ba37f8d6eeb64774ab6ae0a15d96da4e": {
          "model_module": "@jupyter-widgets/controls",
          "model_name": "HBoxModel",
          "model_module_version": "1.5.0",
          "state": {
            "_dom_classes": [],
            "_model_module": "@jupyter-widgets/controls",
            "_model_module_version": "1.5.0",
            "_model_name": "HBoxModel",
            "_view_count": null,
            "_view_module": "@jupyter-widgets/controls",
            "_view_module_version": "1.5.0",
            "_view_name": "HBoxView",
            "box_style": "",
            "children": [
              "IPY_MODEL_5858154d8ecc4b87bd10dbfd4f30728a",
              "IPY_MODEL_d095dd19794d4cfabd86b9f0e2bbb72c",
              "IPY_MODEL_12d0389891394aa9b00c8582d36a1ed0"
            ],
            "layout": "IPY_MODEL_95c612873e1f47039f401bb323d4794f"
          }
        },
        "5858154d8ecc4b87bd10dbfd4f30728a": {
          "model_module": "@jupyter-widgets/controls",
          "model_name": "HTMLModel",
          "model_module_version": "1.5.0",
          "state": {
            "_dom_classes": [],
            "_model_module": "@jupyter-widgets/controls",
            "_model_module_version": "1.5.0",
            "_model_name": "HTMLModel",
            "_view_count": null,
            "_view_module": "@jupyter-widgets/controls",
            "_view_module_version": "1.5.0",
            "_view_name": "HTMLView",
            "description": "",
            "description_tooltip": null,
            "layout": "IPY_MODEL_fbb91fd5ae834375890a46c7f44b2b76",
            "placeholder": "​",
            "style": "IPY_MODEL_53434ca655ab4985a05d2b324b0e2f1b",
            "value": "Testing DataLoader 0: 100%"
          }
        },
        "d095dd19794d4cfabd86b9f0e2bbb72c": {
          "model_module": "@jupyter-widgets/controls",
          "model_name": "FloatProgressModel",
          "model_module_version": "1.5.0",
          "state": {
            "_dom_classes": [],
            "_model_module": "@jupyter-widgets/controls",
            "_model_module_version": "1.5.0",
            "_model_name": "FloatProgressModel",
            "_view_count": null,
            "_view_module": "@jupyter-widgets/controls",
            "_view_module_version": "1.5.0",
            "_view_name": "ProgressView",
            "bar_style": "success",
            "description": "",
            "description_tooltip": null,
            "layout": "IPY_MODEL_29929fe904b44a9682ee3a614f3fda23",
            "max": 63,
            "min": 0,
            "orientation": "horizontal",
            "style": "IPY_MODEL_6385da398013454dbcb22f429e9ef17b",
            "value": 63
          }
        },
        "12d0389891394aa9b00c8582d36a1ed0": {
          "model_module": "@jupyter-widgets/controls",
          "model_name": "HTMLModel",
          "model_module_version": "1.5.0",
          "state": {
            "_dom_classes": [],
            "_model_module": "@jupyter-widgets/controls",
            "_model_module_version": "1.5.0",
            "_model_name": "HTMLModel",
            "_view_count": null,
            "_view_module": "@jupyter-widgets/controls",
            "_view_module_version": "1.5.0",
            "_view_name": "HTMLView",
            "description": "",
            "description_tooltip": null,
            "layout": "IPY_MODEL_485016baeaa3406e9d64041b84715bd9",
            "placeholder": "​",
            "style": "IPY_MODEL_777d841131c14b2fbc973517aea107d7",
            "value": " 63/63 [00:00&lt;00:00, 76.39it/s]"
          }
        },
        "95c612873e1f47039f401bb323d4794f": {
          "model_module": "@jupyter-widgets/base",
          "model_name": "LayoutModel",
          "model_module_version": "1.2.0",
          "state": {
            "_model_module": "@jupyter-widgets/base",
            "_model_module_version": "1.2.0",
            "_model_name": "LayoutModel",
            "_view_count": null,
            "_view_module": "@jupyter-widgets/base",
            "_view_module_version": "1.2.0",
            "_view_name": "LayoutView",
            "align_content": null,
            "align_items": null,
            "align_self": null,
            "border": null,
            "bottom": null,
            "display": "inline-flex",
            "flex": null,
            "flex_flow": "row wrap",
            "grid_area": null,
            "grid_auto_columns": null,
            "grid_auto_flow": null,
            "grid_auto_rows": null,
            "grid_column": null,
            "grid_gap": null,
            "grid_row": null,
            "grid_template_areas": null,
            "grid_template_columns": null,
            "grid_template_rows": null,
            "height": null,
            "justify_content": null,
            "justify_items": null,
            "left": null,
            "margin": null,
            "max_height": null,
            "max_width": null,
            "min_height": null,
            "min_width": null,
            "object_fit": null,
            "object_position": null,
            "order": null,
            "overflow": null,
            "overflow_x": null,
            "overflow_y": null,
            "padding": null,
            "right": null,
            "top": null,
            "visibility": null,
            "width": "100%"
          }
        },
        "fbb91fd5ae834375890a46c7f44b2b76": {
          "model_module": "@jupyter-widgets/base",
          "model_name": "LayoutModel",
          "model_module_version": "1.2.0",
          "state": {
            "_model_module": "@jupyter-widgets/base",
            "_model_module_version": "1.2.0",
            "_model_name": "LayoutModel",
            "_view_count": null,
            "_view_module": "@jupyter-widgets/base",
            "_view_module_version": "1.2.0",
            "_view_name": "LayoutView",
            "align_content": null,
            "align_items": null,
            "align_self": null,
            "border": null,
            "bottom": null,
            "display": null,
            "flex": null,
            "flex_flow": null,
            "grid_area": null,
            "grid_auto_columns": null,
            "grid_auto_flow": null,
            "grid_auto_rows": null,
            "grid_column": null,
            "grid_gap": null,
            "grid_row": null,
            "grid_template_areas": null,
            "grid_template_columns": null,
            "grid_template_rows": null,
            "height": null,
            "justify_content": null,
            "justify_items": null,
            "left": null,
            "margin": null,
            "max_height": null,
            "max_width": null,
            "min_height": null,
            "min_width": null,
            "object_fit": null,
            "object_position": null,
            "order": null,
            "overflow": null,
            "overflow_x": null,
            "overflow_y": null,
            "padding": null,
            "right": null,
            "top": null,
            "visibility": null,
            "width": null
          }
        },
        "53434ca655ab4985a05d2b324b0e2f1b": {
          "model_module": "@jupyter-widgets/controls",
          "model_name": "DescriptionStyleModel",
          "model_module_version": "1.5.0",
          "state": {
            "_model_module": "@jupyter-widgets/controls",
            "_model_module_version": "1.5.0",
            "_model_name": "DescriptionStyleModel",
            "_view_count": null,
            "_view_module": "@jupyter-widgets/base",
            "_view_module_version": "1.2.0",
            "_view_name": "StyleView",
            "description_width": ""
          }
        },
        "29929fe904b44a9682ee3a614f3fda23": {
          "model_module": "@jupyter-widgets/base",
          "model_name": "LayoutModel",
          "model_module_version": "1.2.0",
          "state": {
            "_model_module": "@jupyter-widgets/base",
            "_model_module_version": "1.2.0",
            "_model_name": "LayoutModel",
            "_view_count": null,
            "_view_module": "@jupyter-widgets/base",
            "_view_module_version": "1.2.0",
            "_view_name": "LayoutView",
            "align_content": null,
            "align_items": null,
            "align_self": null,
            "border": null,
            "bottom": null,
            "display": null,
            "flex": "2",
            "flex_flow": null,
            "grid_area": null,
            "grid_auto_columns": null,
            "grid_auto_flow": null,
            "grid_auto_rows": null,
            "grid_column": null,
            "grid_gap": null,
            "grid_row": null,
            "grid_template_areas": null,
            "grid_template_columns": null,
            "grid_template_rows": null,
            "height": null,
            "justify_content": null,
            "justify_items": null,
            "left": null,
            "margin": null,
            "max_height": null,
            "max_width": null,
            "min_height": null,
            "min_width": null,
            "object_fit": null,
            "object_position": null,
            "order": null,
            "overflow": null,
            "overflow_x": null,
            "overflow_y": null,
            "padding": null,
            "right": null,
            "top": null,
            "visibility": null,
            "width": null
          }
        },
        "6385da398013454dbcb22f429e9ef17b": {
          "model_module": "@jupyter-widgets/controls",
          "model_name": "ProgressStyleModel",
          "model_module_version": "1.5.0",
          "state": {
            "_model_module": "@jupyter-widgets/controls",
            "_model_module_version": "1.5.0",
            "_model_name": "ProgressStyleModel",
            "_view_count": null,
            "_view_module": "@jupyter-widgets/base",
            "_view_module_version": "1.2.0",
            "_view_name": "StyleView",
            "bar_color": null,
            "description_width": ""
          }
        },
        "485016baeaa3406e9d64041b84715bd9": {
          "model_module": "@jupyter-widgets/base",
          "model_name": "LayoutModel",
          "model_module_version": "1.2.0",
          "state": {
            "_model_module": "@jupyter-widgets/base",
            "_model_module_version": "1.2.0",
            "_model_name": "LayoutModel",
            "_view_count": null,
            "_view_module": "@jupyter-widgets/base",
            "_view_module_version": "1.2.0",
            "_view_name": "LayoutView",
            "align_content": null,
            "align_items": null,
            "align_self": null,
            "border": null,
            "bottom": null,
            "display": null,
            "flex": null,
            "flex_flow": null,
            "grid_area": null,
            "grid_auto_columns": null,
            "grid_auto_flow": null,
            "grid_auto_rows": null,
            "grid_column": null,
            "grid_gap": null,
            "grid_row": null,
            "grid_template_areas": null,
            "grid_template_columns": null,
            "grid_template_rows": null,
            "height": null,
            "justify_content": null,
            "justify_items": null,
            "left": null,
            "margin": null,
            "max_height": null,
            "max_width": null,
            "min_height": null,
            "min_width": null,
            "object_fit": null,
            "object_position": null,
            "order": null,
            "overflow": null,
            "overflow_x": null,
            "overflow_y": null,
            "padding": null,
            "right": null,
            "top": null,
            "visibility": null,
            "width": null
          }
        },
        "777d841131c14b2fbc973517aea107d7": {
          "model_module": "@jupyter-widgets/controls",
          "model_name": "DescriptionStyleModel",
          "model_module_version": "1.5.0",
          "state": {
            "_model_module": "@jupyter-widgets/controls",
            "_model_module_version": "1.5.0",
            "_model_name": "DescriptionStyleModel",
            "_view_count": null,
            "_view_module": "@jupyter-widgets/base",
            "_view_module_version": "1.2.0",
            "_view_name": "StyleView",
            "description_width": ""
          }
        }
      }
    }
  },
  "nbformat_minor": 0,
  "nbformat": 4,
  "cells": [
    {
      "cell_type": "markdown",
      "source": [
        "# Foursquare dataset next-POI Recommendation System"
      ],
      "metadata": {
        "id": "SwkFEsEgCCyl"
      }
    },
    {
      "cell_type": "markdown",
      "source": [
        "First off we import all the necessary libraries:"
      ],
      "metadata": {
        "id": "MZnW-ffHCCym"
      }
    },
    {
      "cell_type": "code",
      "source": [
        "%pip install lightning geohash2  wandb"
      ],
      "metadata": {
        "execution": {
          "iopub.status.busy": "2024-05-12T17:16:39.908174Z",
          "iopub.execute_input": "2024-05-12T17:16:39.908606Z",
          "iopub.status.idle": "2024-05-12T17:16:55.475004Z",
          "shell.execute_reply.started": "2024-05-12T17:16:39.908577Z",
          "shell.execute_reply": "2024-05-12T17:16:55.473782Z"
        },
        "trusted": true,
        "colab": {
          "base_uri": "https://localhost:8080/"
        },
        "id": "7ML-ffMMCCyn",
        "outputId": "aa03fde4-bc49-4229-e69c-22d7473d4ff2"
      },
      "execution_count": 1,
      "outputs": [
        {
          "output_type": "stream",
          "name": "stdout",
          "text": [
            "Collecting lightning\n",
            "  Downloading lightning-2.2.4-py3-none-any.whl (2.0 MB)\n",
            "\u001b[?25l     \u001b[90m━━━━━━━━━━━━━━━━━━━━━━━━━━━━━━━━━━━━━━━━\u001b[0m \u001b[32m0.0/2.0 MB\u001b[0m \u001b[31m?\u001b[0m eta \u001b[36m-:--:--\u001b[0m\r\u001b[2K     \u001b[91m━━━━\u001b[0m\u001b[91m╸\u001b[0m\u001b[90m━━━━━━━━━━━━━━━━━━━━━━━━━━━━━━━━━━━\u001b[0m \u001b[32m0.2/2.0 MB\u001b[0m \u001b[31m7.1 MB/s\u001b[0m eta \u001b[36m0:00:01\u001b[0m\r\u001b[2K     \u001b[90m━━━━━━━━━━━━━━━━━━━━━━━━━━━━━━━━━━━━━━━━\u001b[0m \u001b[32m2.0/2.0 MB\u001b[0m \u001b[31m31.5 MB/s\u001b[0m eta \u001b[36m0:00:00\u001b[0m\n",
            "\u001b[?25hCollecting geohash2\n",
            "  Downloading geohash2-1.1.tar.gz (15 kB)\n",
            "  Preparing metadata (setup.py) ... \u001b[?25l\u001b[?25hdone\n",
            "Collecting wandb\n",
            "  Downloading wandb-0.17.0-py3-none-manylinux_2_5_x86_64.manylinux1_x86_64.manylinux_2_17_x86_64.manylinux2014_x86_64.whl (6.7 MB)\n",
            "\u001b[2K     \u001b[90m━━━━━━━━━━━━━━━━━━━━━━━━━━━━━━━━━━━━━━━━\u001b[0m \u001b[32m6.7/6.7 MB\u001b[0m \u001b[31m98.8 MB/s\u001b[0m eta \u001b[36m0:00:00\u001b[0m\n",
            "\u001b[?25hRequirement already satisfied: PyYAML<8.0,>=5.4 in /usr/local/lib/python3.10/dist-packages (from lightning) (6.0.1)\n",
            "Requirement already satisfied: fsspec[http]<2025.0,>=2022.5.0 in /usr/local/lib/python3.10/dist-packages (from lightning) (2023.6.0)\n",
            "Collecting lightning-utilities<2.0,>=0.8.0 (from lightning)\n",
            "  Downloading lightning_utilities-0.11.2-py3-none-any.whl (26 kB)\n",
            "Requirement already satisfied: numpy<3.0,>=1.17.2 in /usr/local/lib/python3.10/dist-packages (from lightning) (1.25.2)\n",
            "Requirement already satisfied: packaging<25.0,>=20.0 in /usr/local/lib/python3.10/dist-packages (from lightning) (24.0)\n",
            "Requirement already satisfied: torch<4.0,>=1.13.0 in /usr/local/lib/python3.10/dist-packages (from lightning) (2.2.1+cu121)\n",
            "Collecting torchmetrics<3.0,>=0.7.0 (from lightning)\n",
            "  Downloading torchmetrics-1.4.0-py3-none-any.whl (868 kB)\n",
            "\u001b[2K     \u001b[90m━━━━━━━━━━━━━━━━━━━━━━━━━━━━━━━━━━━━━━━━\u001b[0m \u001b[32m868.8/868.8 kB\u001b[0m \u001b[31m68.8 MB/s\u001b[0m eta \u001b[36m0:00:00\u001b[0m\n",
            "\u001b[?25hRequirement already satisfied: tqdm<6.0,>=4.57.0 in /usr/local/lib/python3.10/dist-packages (from lightning) (4.66.4)\n",
            "Requirement already satisfied: typing-extensions<6.0,>=4.4.0 in /usr/local/lib/python3.10/dist-packages (from lightning) (4.11.0)\n",
            "Collecting pytorch-lightning (from lightning)\n",
            "  Downloading pytorch_lightning-2.2.4-py3-none-any.whl (802 kB)\n",
            "\u001b[2K     \u001b[90m━━━━━━━━━━━━━━━━━━━━━━━━━━━━━━━━━━━━━━━━\u001b[0m \u001b[32m802.2/802.2 kB\u001b[0m \u001b[31m72.7 MB/s\u001b[0m eta \u001b[36m0:00:00\u001b[0m\n",
            "\u001b[?25hRequirement already satisfied: docutils>=0.3 in /usr/local/lib/python3.10/dist-packages (from geohash2) (0.18.1)\n",
            "Requirement already satisfied: click!=8.0.0,>=7.1 in /usr/local/lib/python3.10/dist-packages (from wandb) (8.1.7)\n",
            "Collecting docker-pycreds>=0.4.0 (from wandb)\n",
            "  Downloading docker_pycreds-0.4.0-py2.py3-none-any.whl (9.0 kB)\n",
            "Collecting gitpython!=3.1.29,>=1.0.0 (from wandb)\n",
            "  Downloading GitPython-3.1.43-py3-none-any.whl (207 kB)\n",
            "\u001b[2K     \u001b[90m━━━━━━━━━━━━━━━━━━━━━━━━━━━━━━━━━━━━━━━━\u001b[0m \u001b[32m207.3/207.3 kB\u001b[0m \u001b[31m31.8 MB/s\u001b[0m eta \u001b[36m0:00:00\u001b[0m\n",
            "\u001b[?25hRequirement already satisfied: platformdirs in /usr/local/lib/python3.10/dist-packages (from wandb) (4.2.1)\n",
            "Requirement already satisfied: protobuf!=4.21.0,<5,>=3.19.0 in /usr/local/lib/python3.10/dist-packages (from wandb) (3.20.3)\n",
            "Requirement already satisfied: psutil>=5.0.0 in /usr/local/lib/python3.10/dist-packages (from wandb) (5.9.5)\n",
            "Requirement already satisfied: requests<3,>=2.0.0 in /usr/local/lib/python3.10/dist-packages (from wandb) (2.31.0)\n",
            "Collecting sentry-sdk>=1.0.0 (from wandb)\n",
            "  Downloading sentry_sdk-2.1.1-py2.py3-none-any.whl (277 kB)\n",
            "\u001b[2K     \u001b[90m━━━━━━━━━━━━━━━━━━━━━━━━━━━━━━━━━━━━━━━━\u001b[0m \u001b[32m277.3/277.3 kB\u001b[0m \u001b[31m39.6 MB/s\u001b[0m eta \u001b[36m0:00:00\u001b[0m\n",
            "\u001b[?25hCollecting setproctitle (from wandb)\n",
            "  Downloading setproctitle-1.3.3-cp310-cp310-manylinux_2_5_x86_64.manylinux1_x86_64.manylinux_2_17_x86_64.manylinux2014_x86_64.whl (30 kB)\n",
            "Requirement already satisfied: setuptools in /usr/local/lib/python3.10/dist-packages (from wandb) (67.7.2)\n",
            "Requirement already satisfied: six>=1.4.0 in /usr/local/lib/python3.10/dist-packages (from docker-pycreds>=0.4.0->wandb) (1.16.0)\n",
            "Requirement already satisfied: aiohttp!=4.0.0a0,!=4.0.0a1 in /usr/local/lib/python3.10/dist-packages (from fsspec[http]<2025.0,>=2022.5.0->lightning) (3.9.5)\n",
            "Collecting gitdb<5,>=4.0.1 (from gitpython!=3.1.29,>=1.0.0->wandb)\n",
            "  Downloading gitdb-4.0.11-py3-none-any.whl (62 kB)\n",
            "\u001b[2K     \u001b[90m━━━━━━━━━━━━━━━━━━━━━━━━━━━━━━━━━━━━━━━━\u001b[0m \u001b[32m62.7/62.7 kB\u001b[0m \u001b[31m10.3 MB/s\u001b[0m eta \u001b[36m0:00:00\u001b[0m\n",
            "\u001b[?25hRequirement already satisfied: charset-normalizer<4,>=2 in /usr/local/lib/python3.10/dist-packages (from requests<3,>=2.0.0->wandb) (3.3.2)\n",
            "Requirement already satisfied: idna<4,>=2.5 in /usr/local/lib/python3.10/dist-packages (from requests<3,>=2.0.0->wandb) (3.7)\n",
            "Requirement already satisfied: urllib3<3,>=1.21.1 in /usr/local/lib/python3.10/dist-packages (from requests<3,>=2.0.0->wandb) (2.0.7)\n",
            "Requirement already satisfied: certifi>=2017.4.17 in /usr/local/lib/python3.10/dist-packages (from requests<3,>=2.0.0->wandb) (2024.2.2)\n",
            "Requirement already satisfied: filelock in /usr/local/lib/python3.10/dist-packages (from torch<4.0,>=1.13.0->lightning) (3.14.0)\n",
            "Requirement already satisfied: sympy in /usr/local/lib/python3.10/dist-packages (from torch<4.0,>=1.13.0->lightning) (1.12)\n",
            "Requirement already satisfied: networkx in /usr/local/lib/python3.10/dist-packages (from torch<4.0,>=1.13.0->lightning) (3.3)\n",
            "Requirement already satisfied: jinja2 in /usr/local/lib/python3.10/dist-packages (from torch<4.0,>=1.13.0->lightning) (3.1.4)\n",
            "Collecting nvidia-cuda-nvrtc-cu12==12.1.105 (from torch<4.0,>=1.13.0->lightning)\n",
            "  Using cached nvidia_cuda_nvrtc_cu12-12.1.105-py3-none-manylinux1_x86_64.whl (23.7 MB)\n",
            "Collecting nvidia-cuda-runtime-cu12==12.1.105 (from torch<4.0,>=1.13.0->lightning)\n",
            "  Using cached nvidia_cuda_runtime_cu12-12.1.105-py3-none-manylinux1_x86_64.whl (823 kB)\n",
            "Collecting nvidia-cuda-cupti-cu12==12.1.105 (from torch<4.0,>=1.13.0->lightning)\n",
            "  Using cached nvidia_cuda_cupti_cu12-12.1.105-py3-none-manylinux1_x86_64.whl (14.1 MB)\n",
            "Collecting nvidia-cudnn-cu12==8.9.2.26 (from torch<4.0,>=1.13.0->lightning)\n",
            "  Using cached nvidia_cudnn_cu12-8.9.2.26-py3-none-manylinux1_x86_64.whl (731.7 MB)\n",
            "Collecting nvidia-cublas-cu12==12.1.3.1 (from torch<4.0,>=1.13.0->lightning)\n",
            "  Using cached nvidia_cublas_cu12-12.1.3.1-py3-none-manylinux1_x86_64.whl (410.6 MB)\n",
            "Collecting nvidia-cufft-cu12==11.0.2.54 (from torch<4.0,>=1.13.0->lightning)\n",
            "  Using cached nvidia_cufft_cu12-11.0.2.54-py3-none-manylinux1_x86_64.whl (121.6 MB)\n",
            "Collecting nvidia-curand-cu12==10.3.2.106 (from torch<4.0,>=1.13.0->lightning)\n",
            "  Using cached nvidia_curand_cu12-10.3.2.106-py3-none-manylinux1_x86_64.whl (56.5 MB)\n",
            "Collecting nvidia-cusolver-cu12==11.4.5.107 (from torch<4.0,>=1.13.0->lightning)\n",
            "  Using cached nvidia_cusolver_cu12-11.4.5.107-py3-none-manylinux1_x86_64.whl (124.2 MB)\n",
            "Collecting nvidia-cusparse-cu12==12.1.0.106 (from torch<4.0,>=1.13.0->lightning)\n",
            "  Using cached nvidia_cusparse_cu12-12.1.0.106-py3-none-manylinux1_x86_64.whl (196.0 MB)\n",
            "Collecting nvidia-nccl-cu12==2.19.3 (from torch<4.0,>=1.13.0->lightning)\n",
            "  Using cached nvidia_nccl_cu12-2.19.3-py3-none-manylinux1_x86_64.whl (166.0 MB)\n",
            "Collecting nvidia-nvtx-cu12==12.1.105 (from torch<4.0,>=1.13.0->lightning)\n",
            "  Using cached nvidia_nvtx_cu12-12.1.105-py3-none-manylinux1_x86_64.whl (99 kB)\n",
            "Requirement already satisfied: triton==2.2.0 in /usr/local/lib/python3.10/dist-packages (from torch<4.0,>=1.13.0->lightning) (2.2.0)\n",
            "Collecting nvidia-nvjitlink-cu12 (from nvidia-cusolver-cu12==11.4.5.107->torch<4.0,>=1.13.0->lightning)\n",
            "  Using cached nvidia_nvjitlink_cu12-12.4.127-py3-none-manylinux2014_x86_64.whl (21.1 MB)\n",
            "Collecting pretty-errors==1.2.25 (from torchmetrics<3.0,>=0.7.0->lightning)\n",
            "  Downloading pretty_errors-1.2.25-py3-none-any.whl (17 kB)\n",
            "Collecting colorama (from pretty-errors==1.2.25->torchmetrics<3.0,>=0.7.0->lightning)\n",
            "  Downloading colorama-0.4.6-py2.py3-none-any.whl (25 kB)\n",
            "Requirement already satisfied: aiosignal>=1.1.2 in /usr/local/lib/python3.10/dist-packages (from aiohttp!=4.0.0a0,!=4.0.0a1->fsspec[http]<2025.0,>=2022.5.0->lightning) (1.3.1)\n",
            "Requirement already satisfied: attrs>=17.3.0 in /usr/local/lib/python3.10/dist-packages (from aiohttp!=4.0.0a0,!=4.0.0a1->fsspec[http]<2025.0,>=2022.5.0->lightning) (23.2.0)\n",
            "Requirement already satisfied: frozenlist>=1.1.1 in /usr/local/lib/python3.10/dist-packages (from aiohttp!=4.0.0a0,!=4.0.0a1->fsspec[http]<2025.0,>=2022.5.0->lightning) (1.4.1)\n",
            "Requirement already satisfied: multidict<7.0,>=4.5 in /usr/local/lib/python3.10/dist-packages (from aiohttp!=4.0.0a0,!=4.0.0a1->fsspec[http]<2025.0,>=2022.5.0->lightning) (6.0.5)\n",
            "Requirement already satisfied: yarl<2.0,>=1.0 in /usr/local/lib/python3.10/dist-packages (from aiohttp!=4.0.0a0,!=4.0.0a1->fsspec[http]<2025.0,>=2022.5.0->lightning) (1.9.4)\n",
            "Requirement already satisfied: async-timeout<5.0,>=4.0 in /usr/local/lib/python3.10/dist-packages (from aiohttp!=4.0.0a0,!=4.0.0a1->fsspec[http]<2025.0,>=2022.5.0->lightning) (4.0.3)\n",
            "Collecting smmap<6,>=3.0.1 (from gitdb<5,>=4.0.1->gitpython!=3.1.29,>=1.0.0->wandb)\n",
            "  Downloading smmap-5.0.1-py3-none-any.whl (24 kB)\n",
            "Requirement already satisfied: MarkupSafe>=2.0 in /usr/local/lib/python3.10/dist-packages (from jinja2->torch<4.0,>=1.13.0->lightning) (2.1.5)\n",
            "Requirement already satisfied: mpmath>=0.19 in /usr/local/lib/python3.10/dist-packages (from sympy->torch<4.0,>=1.13.0->lightning) (1.3.0)\n",
            "Building wheels for collected packages: geohash2\n",
            "  Building wheel for geohash2 (setup.py) ... \u001b[?25l\u001b[?25hdone\n",
            "  Created wheel for geohash2: filename=geohash2-1.1-py3-none-any.whl size=15544 sha256=47ea123868e2f5264ff6772072549a180bae3ee6eb1530092a4e421b8c85017c\n",
            "  Stored in directory: /root/.cache/pip/wheels/c0/21/8d/fe65503f4f439aef35193e5ec10a14adc945e20ff87eb35895\n",
            "Successfully built geohash2\n",
            "Installing collected packages: smmap, setproctitle, sentry-sdk, nvidia-nvtx-cu12, nvidia-nvjitlink-cu12, nvidia-nccl-cu12, nvidia-curand-cu12, nvidia-cufft-cu12, nvidia-cuda-runtime-cu12, nvidia-cuda-nvrtc-cu12, nvidia-cuda-cupti-cu12, nvidia-cublas-cu12, lightning-utilities, geohash2, docker-pycreds, colorama, pretty-errors, nvidia-cusparse-cu12, nvidia-cudnn-cu12, gitdb, nvidia-cusolver-cu12, gitpython, wandb, torchmetrics, pytorch-lightning, lightning\n",
            "Successfully installed colorama-0.4.6 docker-pycreds-0.4.0 geohash2-1.1 gitdb-4.0.11 gitpython-3.1.43 lightning-2.2.4 lightning-utilities-0.11.2 nvidia-cublas-cu12-12.1.3.1 nvidia-cuda-cupti-cu12-12.1.105 nvidia-cuda-nvrtc-cu12-12.1.105 nvidia-cuda-runtime-cu12-12.1.105 nvidia-cudnn-cu12-8.9.2.26 nvidia-cufft-cu12-11.0.2.54 nvidia-curand-cu12-10.3.2.106 nvidia-cusolver-cu12-11.4.5.107 nvidia-cusparse-cu12-12.1.0.106 nvidia-nccl-cu12-2.19.3 nvidia-nvjitlink-cu12-12.4.127 nvidia-nvtx-cu12-12.1.105 pretty-errors-1.2.25 pytorch-lightning-2.2.4 sentry-sdk-2.1.1 setproctitle-1.3.3 smmap-5.0.1 torchmetrics-1.4.0 wandb-0.17.0\n"
          ]
        }
      ]
    },
    {
      "cell_type": "code",
      "source": [
        "%pip install polars==0.20.25"
      ],
      "metadata": {
        "colab": {
          "base_uri": "https://localhost:8080/"
        },
        "id": "guvFlRUDCGgd",
        "outputId": "dcd20336-6062-4a4e-ddeb-0ee7a4c53290"
      },
      "execution_count": 2,
      "outputs": [
        {
          "output_type": "stream",
          "name": "stdout",
          "text": [
            "Collecting polars==0.20.25\n",
            "  Downloading polars-0.20.25-cp38-abi3-manylinux_2_17_x86_64.manylinux2014_x86_64.whl (27.2 MB)\n",
            "\u001b[2K     \u001b[90m━━━━━━━━━━━━━━━━━━━━━━━━━━━━━━━━━━━━━━━━\u001b[0m \u001b[32m27.2/27.2 MB\u001b[0m \u001b[31m62.1 MB/s\u001b[0m eta \u001b[36m0:00:00\u001b[0m\n",
            "\u001b[?25hInstalling collected packages: polars\n",
            "  Attempting uninstall: polars\n",
            "    Found existing installation: polars 0.20.2\n",
            "    Uninstalling polars-0.20.2:\n",
            "      Successfully uninstalled polars-0.20.2\n",
            "Successfully installed polars-0.20.25\n"
          ]
        }
      ]
    },
    {
      "cell_type": "code",
      "source": [
        "from google.colab import drive\n",
        "drive.mount('/content/drive')"
      ],
      "metadata": {
        "colab": {
          "base_uri": "https://localhost:8080/"
        },
        "id": "e7nPgeM4CLmX",
        "outputId": "9b4578c3-a9af-451e-bdeb-4cb049047740"
      },
      "execution_count": 3,
      "outputs": [
        {
          "output_type": "stream",
          "name": "stdout",
          "text": [
            "Mounted at /content/drive\n"
          ]
        }
      ]
    },
    {
      "cell_type": "code",
      "source": [
        "import polars as rs\n",
        "import torch\n",
        "import torch.nn as nn\n",
        "import torch.nn.functional as F\n",
        "import lightning as pl\n",
        "import lightning.pytorch as torchpl\n",
        "from tqdm import tqdm\n",
        "import numpy as np\n",
        "from sklearn.preprocessing import LabelEncoder\n",
        "from dataclasses import dataclass\n",
        "import wandb"
      ],
      "metadata": {
        "execution": {
          "iopub.status.busy": "2024-05-12T17:11:52.593146Z",
          "iopub.execute_input": "2024-05-12T17:11:52.593531Z",
          "iopub.status.idle": "2024-05-12T17:12:00.776943Z",
          "shell.execute_reply.started": "2024-05-12T17:11:52.593495Z",
          "shell.execute_reply": "2024-05-12T17:12:00.775973Z"
        },
        "trusted": true,
        "id": "Z8xK-4YqCCyn"
      },
      "execution_count": 4,
      "outputs": []
    },
    {
      "cell_type": "code",
      "source": [
        "import os\n",
        "\n",
        "# define WANDB_NOTEBOOK_NAME\n",
        "os.environ[\"WANDB_NOTEBOOK_NAME\"] = \"train.ipynb\""
      ],
      "metadata": {
        "execution": {
          "iopub.status.busy": "2024-05-12T17:12:00.778167Z",
          "iopub.execute_input": "2024-05-12T17:12:00.778505Z",
          "iopub.status.idle": "2024-05-12T17:12:00.783184Z",
          "shell.execute_reply.started": "2024-05-12T17:12:00.778481Z",
          "shell.execute_reply": "2024-05-12T17:12:00.782051Z"
        },
        "trusted": true,
        "id": "FoCozR1YCCyo"
      },
      "execution_count": 5,
      "outputs": []
    },
    {
      "cell_type": "code",
      "source": [
        "import gc\n",
        "\n",
        "gc.collect()\n",
        "# clean CUDA memory\n",
        "torch.cuda.empty_cache()\n",
        "\n",
        "# sometimes jupyter notebook does not release memory, we leave this here so a run-all\n",
        "# can *sometimes* fix leaks"
      ],
      "metadata": {
        "execution": {
          "iopub.status.busy": "2024-05-12T17:12:00.785546Z",
          "iopub.execute_input": "2024-05-12T17:12:00.785872Z",
          "iopub.status.idle": "2024-05-12T17:12:00.948990Z",
          "shell.execute_reply.started": "2024-05-12T17:12:00.785839Z",
          "shell.execute_reply": "2024-05-12T17:12:00.948059Z"
        },
        "trusted": true,
        "id": "Yq1AScVfCCyo"
      },
      "execution_count": 6,
      "outputs": []
    },
    {
      "cell_type": "markdown",
      "source": [
        "Next, we load the data, we utilize `polars` since it is much more efficient than `pandas` and can handle large datasets with ease."
      ],
      "metadata": {
        "id": "Z402h6bPCCyo"
      }
    },
    {
      "cell_type": "code",
      "source": [
        "columns = [\"user\", \"poi\", \"date\", \"TZ\"]\n",
        "data = rs.read_csv(\n",
        "    \"/content/drive/MyDrive/dataset_TIST2015/dataset_TIST2015_Checkins.txt\",\n",
        "    has_header=False,\n",
        "    low_memory=True,\n",
        "    separator=\"\\t\",\n",
        ")\n",
        "data.columns = columns"
      ],
      "metadata": {
        "execution": {
          "iopub.status.busy": "2024-05-12T17:12:00.950226Z",
          "iopub.execute_input": "2024-05-12T17:12:00.950556Z",
          "iopub.status.idle": "2024-05-12T17:12:12.364264Z",
          "shell.execute_reply.started": "2024-05-12T17:12:00.950533Z",
          "shell.execute_reply": "2024-05-12T17:12:12.363300Z"
        },
        "trusted": true,
        "id": "1F7L_QPkCCyo"
      },
      "execution_count": 7,
      "outputs": []
    },
    {
      "cell_type": "code",
      "source": [
        "data"
      ],
      "metadata": {
        "execution": {
          "iopub.status.busy": "2024-05-12T17:12:12.365564Z",
          "iopub.execute_input": "2024-05-12T17:12:12.365861Z",
          "iopub.status.idle": "2024-05-12T17:12:12.383574Z",
          "shell.execute_reply.started": "2024-05-12T17:12:12.365837Z",
          "shell.execute_reply": "2024-05-12T17:12:12.382591Z"
        },
        "trusted": true,
        "colab": {
          "base_uri": "https://localhost:8080/",
          "height": 443
        },
        "id": "LmYprUhOCCyo",
        "outputId": "cf29fc3f-c3aa-482f-c963-8b35b1871325"
      },
      "execution_count": 8,
      "outputs": [
        {
          "output_type": "execute_result",
          "data": {
            "text/plain": [
              "shape: (33_263_633, 4)\n",
              "┌────────┬──────────────────────────┬────────────────────────────────┬──────┐\n",
              "│ user   ┆ poi                      ┆ date                           ┆ TZ   │\n",
              "│ ---    ┆ ---                      ┆ ---                            ┆ ---  │\n",
              "│ i64    ┆ str                      ┆ str                            ┆ i64  │\n",
              "╞════════╪══════════════════════════╪════════════════════════════════╪══════╡\n",
              "│ 50756  ┆ 4f5e3a72e4b053fd6a4313f6 ┆ Tue Apr 03 18:00:06 +0000 2012 ┆ 240  │\n",
              "│ 190571 ┆ 4b4b87b5f964a5204a9f26e3 ┆ Tue Apr 03 18:00:07 +0000 2012 ┆ 180  │\n",
              "│ 221021 ┆ 4a85b1b3f964a520eefe1fe3 ┆ Tue Apr 03 18:00:08 +0000 2012 ┆ -240 │\n",
              "│ 66981  ┆ 4b4606f2f964a520751426e3 ┆ Tue Apr 03 18:00:08 +0000 2012 ┆ -300 │\n",
              "│ 21010  ┆ 4c2b4e8a9a559c74832f0de2 ┆ Tue Apr 03 18:00:09 +0000 2012 ┆ 240  │\n",
              "│ …      ┆ …                        ┆ …                              ┆ …    │\n",
              "│ 16349  ┆ 4c957755c8a1bfb7e89024f3 ┆ Mon Sep 16 23:24:11 +0000 2013 ┆ -240 │\n",
              "│ 256757 ┆ 4c8bbb6d9ef0224bd2d6667b ┆ Mon Sep 16 23:24:13 +0000 2013 ┆ -180 │\n",
              "│ 66425  ┆ 513e82a5e4b0ed4f0f3bcf2d ┆ Mon Sep 16 23:24:14 +0000 2013 ┆ -180 │\n",
              "│ 1830   ┆ 4b447865f964a5204cf525e3 ┆ Mon Sep 16 23:24:14 +0000 2013 ┆ 120  │\n",
              "│ 22704  ┆ 50df4ee5e4b0c48b5a1c2968 ┆ Mon Sep 16 23:24:15 +0000 2013 ┆ 180  │\n",
              "└────────┴──────────────────────────┴────────────────────────────────┴──────┘"
            ],
            "text/html": [
              "<div><style>\n",
              ".dataframe > thead > tr,\n",
              ".dataframe > tbody > tr {\n",
              "  text-align: right;\n",
              "  white-space: pre-wrap;\n",
              "}\n",
              "</style>\n",
              "<small>shape: (33_263_633, 4)</small><table border=\"1\" class=\"dataframe\"><thead><tr><th>user</th><th>poi</th><th>date</th><th>TZ</th></tr><tr><td>i64</td><td>str</td><td>str</td><td>i64</td></tr></thead><tbody><tr><td>50756</td><td>&quot;4f5e3a72e4b053fd6a4313f6&quot;</td><td>&quot;Tue Apr 03 18:00:06 +0000 2012&quot;</td><td>240</td></tr><tr><td>190571</td><td>&quot;4b4b87b5f964a5204a9f26e3&quot;</td><td>&quot;Tue Apr 03 18:00:07 +0000 2012&quot;</td><td>180</td></tr><tr><td>221021</td><td>&quot;4a85b1b3f964a520eefe1fe3&quot;</td><td>&quot;Tue Apr 03 18:00:08 +0000 2012&quot;</td><td>-240</td></tr><tr><td>66981</td><td>&quot;4b4606f2f964a520751426e3&quot;</td><td>&quot;Tue Apr 03 18:00:08 +0000 2012&quot;</td><td>-300</td></tr><tr><td>21010</td><td>&quot;4c2b4e8a9a559c74832f0de2&quot;</td><td>&quot;Tue Apr 03 18:00:09 +0000 2012&quot;</td><td>240</td></tr><tr><td>&hellip;</td><td>&hellip;</td><td>&hellip;</td><td>&hellip;</td></tr><tr><td>16349</td><td>&quot;4c957755c8a1bfb7e89024f3&quot;</td><td>&quot;Mon Sep 16 23:24:11 +0000 2013&quot;</td><td>-240</td></tr><tr><td>256757</td><td>&quot;4c8bbb6d9ef0224bd2d6667b&quot;</td><td>&quot;Mon Sep 16 23:24:13 +0000 2013&quot;</td><td>-180</td></tr><tr><td>66425</td><td>&quot;513e82a5e4b0ed4f0f3bcf2d&quot;</td><td>&quot;Mon Sep 16 23:24:14 +0000 2013&quot;</td><td>-180</td></tr><tr><td>1830</td><td>&quot;4b447865f964a5204cf525e3&quot;</td><td>&quot;Mon Sep 16 23:24:14 +0000 2013&quot;</td><td>120</td></tr><tr><td>22704</td><td>&quot;50df4ee5e4b0c48b5a1c2968&quot;</td><td>&quot;Mon Sep 16 23:24:15 +0000 2013&quot;</td><td>180</td></tr></tbody></table></div>"
            ]
          },
          "metadata": {},
          "execution_count": 8
        }
      ]
    },
    {
      "cell_type": "markdown",
      "source": [
        "Differently from what suggested by the professor, we utilize the full TIST2015 dataset, which has a far greater scale compared to the reduced NY one. However, by following the pruning steps detailed in the paper (http://dx.doi.org/10.1145/3477495.3531989, section 5.1), we obtain sequences that are much smaller in size, resulting in a dataset that is usable on Google Colab's free tier (as required by the assignment)."
      ],
      "metadata": {
        "id": "AE8Cxd2PCCyo"
      }
    },
    {
      "cell_type": "code",
      "source": [
        "data_users = (\n",
        "    data.lazy()\n",
        "    .group_by(\"user\")\n",
        "    .agg(\n",
        "        [\n",
        "            rs.col(\"poi\").n_unique().alias(\"n_pois\"),\n",
        "            rs.col(\"poi\").count().alias(\"n_checkins\"),\n",
        "            # turn the rest into a list\n",
        "            rs.col(\"poi\").alias(\"pois\"),\n",
        "            rs.col(\"date\").alias(\"dates\"),\n",
        "            rs.col(\"TZ\").alias(\"TZs\"),\n",
        "        ]\n",
        "    )\n",
        ").collect()"
      ],
      "metadata": {
        "execution": {
          "iopub.status.busy": "2024-05-12T17:12:12.384542Z",
          "iopub.execute_input": "2024-05-12T17:12:12.384777Z",
          "iopub.status.idle": "2024-05-12T17:12:21.993080Z",
          "shell.execute_reply.started": "2024-05-12T17:12:12.384757Z",
          "shell.execute_reply": "2024-05-12T17:12:21.992092Z"
        },
        "trusted": true,
        "id": "YqLUIt0cCCyo"
      },
      "execution_count": 9,
      "outputs": []
    },
    {
      "cell_type": "code",
      "source": [
        "data_users.describe()"
      ],
      "metadata": {
        "execution": {
          "iopub.status.busy": "2024-05-12T17:12:21.994369Z",
          "iopub.execute_input": "2024-05-12T17:12:21.994756Z",
          "iopub.status.idle": "2024-05-12T17:12:22.038877Z",
          "shell.execute_reply.started": "2024-05-12T17:12:21.994720Z",
          "shell.execute_reply": "2024-05-12T17:12:22.037873Z"
        },
        "trusted": true,
        "colab": {
          "base_uri": "https://localhost:8080/",
          "height": 380
        },
        "id": "HptthFauCCyo",
        "outputId": "2f99f1a9-122d-40de-9d40-f3db286b3038"
      },
      "execution_count": 10,
      "outputs": [
        {
          "output_type": "execute_result",
          "data": {
            "text/plain": [
              "shape: (9, 7)\n",
              "┌────────────┬──────────────┬───────────┬────────────┬──────────┬──────────┬──────────┐\n",
              "│ statistic  ┆ user         ┆ n_pois    ┆ n_checkins ┆ pois     ┆ dates    ┆ TZs      │\n",
              "│ ---        ┆ ---          ┆ ---       ┆ ---        ┆ ---      ┆ ---      ┆ ---      │\n",
              "│ str        ┆ f64          ┆ f64       ┆ f64        ┆ f64      ┆ f64      ┆ f64      │\n",
              "╞════════════╪══════════════╪═══════════╪════════════╪══════════╪══════════╪══════════╡\n",
              "│ count      ┆ 266909.0     ┆ 266909.0  ┆ 266909.0   ┆ 266909.0 ┆ 266909.0 ┆ 266909.0 │\n",
              "│ null_count ┆ 0.0          ┆ 0.0       ┆ 0.0        ┆ 0.0      ┆ 0.0      ┆ 0.0      │\n",
              "│ mean       ┆ 133455.0     ┆ 56.477459 ┆ 124.62537  ┆ null     ┆ null     ┆ null     │\n",
              "│ std        ┆ 77050.135837 ┆ 45.968603 ┆ 140.692138 ┆ null     ┆ null     ┆ null     │\n",
              "│ min        ┆ 1.0          ┆ 1.0       ┆ 1.0        ┆ null     ┆ null     ┆ null     │\n",
              "│ 25%        ┆ 66728.0      ┆ 30.0      ┆ 61.0       ┆ null     ┆ null     ┆ null     │\n",
              "│ 50%        ┆ 133455.0     ┆ 49.0      ┆ 93.0       ┆ null     ┆ null     ┆ null     │\n",
              "│ 75%        ┆ 200182.0     ┆ 71.0      ┆ 148.0      ┆ null     ┆ null     ┆ null     │\n",
              "│ max        ┆ 266909.0     ┆ 1246.0    ┆ 5430.0     ┆ null     ┆ null     ┆ null     │\n",
              "└────────────┴──────────────┴───────────┴────────────┴──────────┴──────────┴──────────┘"
            ],
            "text/html": [
              "<div><style>\n",
              ".dataframe > thead > tr,\n",
              ".dataframe > tbody > tr {\n",
              "  text-align: right;\n",
              "  white-space: pre-wrap;\n",
              "}\n",
              "</style>\n",
              "<small>shape: (9, 7)</small><table border=\"1\" class=\"dataframe\"><thead><tr><th>statistic</th><th>user</th><th>n_pois</th><th>n_checkins</th><th>pois</th><th>dates</th><th>TZs</th></tr><tr><td>str</td><td>f64</td><td>f64</td><td>f64</td><td>f64</td><td>f64</td><td>f64</td></tr></thead><tbody><tr><td>&quot;count&quot;</td><td>266909.0</td><td>266909.0</td><td>266909.0</td><td>266909.0</td><td>266909.0</td><td>266909.0</td></tr><tr><td>&quot;null_count&quot;</td><td>0.0</td><td>0.0</td><td>0.0</td><td>0.0</td><td>0.0</td><td>0.0</td></tr><tr><td>&quot;mean&quot;</td><td>133455.0</td><td>56.477459</td><td>124.62537</td><td>null</td><td>null</td><td>null</td></tr><tr><td>&quot;std&quot;</td><td>77050.135837</td><td>45.968603</td><td>140.692138</td><td>null</td><td>null</td><td>null</td></tr><tr><td>&quot;min&quot;</td><td>1.0</td><td>1.0</td><td>1.0</td><td>null</td><td>null</td><td>null</td></tr><tr><td>&quot;25%&quot;</td><td>66728.0</td><td>30.0</td><td>61.0</td><td>null</td><td>null</td><td>null</td></tr><tr><td>&quot;50%&quot;</td><td>133455.0</td><td>49.0</td><td>93.0</td><td>null</td><td>null</td><td>null</td></tr><tr><td>&quot;75%&quot;</td><td>200182.0</td><td>71.0</td><td>148.0</td><td>null</td><td>null</td><td>null</td></tr><tr><td>&quot;max&quot;</td><td>266909.0</td><td>1246.0</td><td>5430.0</td><td>null</td><td>null</td><td>null</td></tr></tbody></table></div>"
            ]
          },
          "metadata": {},
          "execution_count": 10
        }
      ]
    },
    {
      "cell_type": "markdown",
      "source": [
        "## Data Preprocessing"
      ],
      "metadata": {
        "id": "VqJjYuF1CCyp"
      }
    },
    {
      "cell_type": "code",
      "source": [
        "data_culled = data_users.filter(\n",
        "    (rs.col(\"n_checkins\") > 20) & (rs.col(\"n_checkins\") < 50)\n",
        ").drop_nulls()"
      ],
      "metadata": {
        "execution": {
          "iopub.status.busy": "2024-05-12T17:12:22.040352Z",
          "iopub.execute_input": "2024-05-12T17:12:22.040735Z",
          "iopub.status.idle": "2024-05-12T17:12:22.137751Z",
          "shell.execute_reply.started": "2024-05-12T17:12:22.040704Z",
          "shell.execute_reply": "2024-05-12T17:12:22.136974Z"
        },
        "trusted": true,
        "id": "SxCtvTymCCyp"
      },
      "execution_count": 11,
      "outputs": []
    },
    {
      "cell_type": "markdown",
      "source": [
        "Since the original dataset is huge, we delete it and call the python garbage collector to free up memory. We then proceed with the second pruning step (frequency-based pruning) as detailed in the paper."
      ],
      "metadata": {
        "id": "rAqugUVTCCyp"
      }
    },
    {
      "cell_type": "code",
      "source": [
        "del data\n",
        "del data_users\n",
        "\n",
        "import gc\n",
        "\n",
        "gc.collect()"
      ],
      "metadata": {
        "execution": {
          "iopub.status.busy": "2024-05-12T17:12:22.142357Z",
          "iopub.execute_input": "2024-05-12T17:12:22.142656Z",
          "iopub.status.idle": "2024-05-12T17:12:22.509441Z",
          "shell.execute_reply.started": "2024-05-12T17:12:22.142632Z",
          "shell.execute_reply": "2024-05-12T17:12:22.508321Z"
        },
        "trusted": true,
        "colab": {
          "base_uri": "https://localhost:8080/"
        },
        "id": "Vc26KLj7CCyp",
        "outputId": "e74cd1a2-0e0e-43bf-a980-a40371e35fdf"
      },
      "execution_count": 12,
      "outputs": [
        {
          "output_type": "execute_result",
          "data": {
            "text/plain": [
              "0"
            ]
          },
          "metadata": {},
          "execution_count": 12
        }
      ]
    },
    {
      "cell_type": "code",
      "source": [
        "# extract unique elements from each lists in data_culled[\"pois\"]\n",
        "out = data_culled.with_columns(\n",
        "    [\n",
        "        rs.col(\"pois\").list.unique(),\n",
        "        rs.col(\"pois\").list.unique().list.len().alias(\"n_unique_pois\"),\n",
        "    ]\n",
        ")"
      ],
      "metadata": {
        "execution": {
          "iopub.status.busy": "2024-05-12T17:12:22.510796Z",
          "iopub.execute_input": "2024-05-12T17:12:22.511463Z",
          "iopub.status.idle": "2024-05-12T17:12:22.602419Z",
          "shell.execute_reply.started": "2024-05-12T17:12:22.511426Z",
          "shell.execute_reply": "2024-05-12T17:12:22.601642Z"
        },
        "trusted": true,
        "id": "t9jLArwDCCyp"
      },
      "execution_count": 13,
      "outputs": []
    },
    {
      "cell_type": "code",
      "source": [
        "out"
      ],
      "metadata": {
        "execution": {
          "iopub.status.busy": "2024-05-12T17:12:22.603543Z",
          "iopub.execute_input": "2024-05-12T17:12:22.603839Z",
          "iopub.status.idle": "2024-05-12T17:12:22.612956Z",
          "shell.execute_reply.started": "2024-05-12T17:12:22.603814Z",
          "shell.execute_reply": "2024-05-12T17:12:22.611794Z"
        },
        "trusted": true,
        "colab": {
          "base_uri": "https://localhost:8080/",
          "height": 617
        },
        "id": "xmWP2h6uCCyp",
        "outputId": "02aff4d0-0303-40ba-da34-36f47a0b29f6"
      },
      "execution_count": 14,
      "outputs": [
        {
          "output_type": "execute_result",
          "data": {
            "text/plain": [
              "shape: (21_697, 7)\n",
              "┌────────┬────────┬────────────┬─────────────────┬────────────────┬────────────────┬───────────────┐\n",
              "│ user   ┆ n_pois ┆ n_checkins ┆ pois            ┆ dates          ┆ TZs            ┆ n_unique_pois │\n",
              "│ ---    ┆ ---    ┆ ---        ┆ ---             ┆ ---            ┆ ---            ┆ ---           │\n",
              "│ i64    ┆ u32    ┆ u32        ┆ list[str]       ┆ list[str]      ┆ list[i64]      ┆ u32           │\n",
              "╞════════╪════════╪════════════╪═════════════════╪════════════════╪════════════════╪═══════════════╡\n",
              "│ 67784  ┆ 42     ┆ 45         ┆ [\"4d981620e07ea ┆ [\"Thu Apr 12   ┆ [480, 480, …   ┆ 42            │\n",
              "│        ┆        ┆            ┆ 35d6191ea02\",   ┆ 01:42:50 +0000 ┆ 480]           ┆               │\n",
              "│        ┆        ┆            ┆ \"…              ┆ 20…            ┆                ┆               │\n",
              "│ 130968 ┆ 20     ┆ 21         ┆ [\"4b583455f964a ┆ [\"Sat Oct 27   ┆ [540, 540, …   ┆ 20            │\n",
              "│        ┆        ┆            ┆ 520ec4d28e3\",   ┆ 08:00:07 +0000 ┆ 540]           ┆               │\n",
              "│        ┆        ┆            ┆ \"…              ┆ 20…            ┆                ┆               │\n",
              "│ 238195 ┆ 20     ┆ 22         ┆ [\"4adb6119f964a ┆ [\"Sun Apr 15   ┆ [-240, -240, … ┆ 20            │\n",
              "│        ┆        ┆            ┆ 520a72621e3\",   ┆ 19:57:15 +0000 ┆ -240]          ┆               │\n",
              "│        ┆        ┆            ┆ \"…              ┆ 20…            ┆                ┆               │\n",
              "│ 258366 ┆ 22     ┆ 22         ┆ [\"49de8185f964a ┆ [\"Sat Dec 22   ┆ [-300, -300, … ┆ 22            │\n",
              "│        ┆        ┆            ┆ 5205b601fe3\",   ┆ 18:46:19 +0000 ┆ -300]          ┆               │\n",
              "│        ┆        ┆            ┆ \"…              ┆ 20…            ┆                ┆               │\n",
              "│ 228739 ┆ 22     ┆ 35         ┆ [\"4b5c4d0cf964a ┆ [\"Wed Apr 25   ┆ [-300, -300, … ┆ 22            │\n",
              "│        ┆        ┆            ┆ 520302a29e3\",   ┆ 11:44:26 +0000 ┆ -300]          ┆               │\n",
              "│        ┆        ┆            ┆ \"…              ┆ 20…            ┆                ┆               │\n",
              "│ …      ┆ …      ┆ …          ┆ …               ┆ …              ┆ …              ┆ …             │\n",
              "│ 179179 ┆ 38     ┆ 41         ┆ [\"4d4ebafa5fb0b ┆ [\"Thu Apr 05   ┆ [60, 60, … 60] ┆ 38            │\n",
              "│        ┆        ┆            ┆ 1f739ea7d91\",   ┆ 12:04:19 +0000 ┆                ┆               │\n",
              "│        ┆        ┆            ┆ \"…              ┆ 20…            ┆                ┆               │\n",
              "│ 127797 ┆ 10     ┆ 31         ┆ [\"4b05884ff964a ┆ [\"Mon Mar 18   ┆ [60, 60, …     ┆ 10            │\n",
              "│        ┆        ┆            ┆ 520adbd22e3\",   ┆ 06:10:45 +0000 ┆ 120]           ┆               │\n",
              "│        ┆        ┆            ┆ \"…              ┆ 20…            ┆                ┆               │\n",
              "│ 76397  ┆ 15     ┆ 27         ┆ [\"4c7409708d70b ┆ [\"Thu Jul 12   ┆ [180, 180, …   ┆ 15            │\n",
              "│        ┆        ┆            ┆ 713b79ccead\",   ┆ 11:50:22 +0000 ┆ 180]           ┆               │\n",
              "│        ┆        ┆            ┆ \"…              ┆ 20…            ┆                ┆               │\n",
              "│ 200023 ┆ 23     ┆ 26         ┆ [\"4bd0ff5fcaff9 ┆ [\"Mon Jul 16   ┆ [540, 540, …   ┆ 23            │\n",
              "│        ┆        ┆            ┆ 521c813d0f0\",   ┆ 00:58:31 +0000 ┆ 540]           ┆               │\n",
              "│        ┆        ┆            ┆ \"…              ┆ 20…            ┆                ┆               │\n",
              "│ 174853 ┆ 22     ┆ 40         ┆ [\"4a36fbcbf964a ┆ [\"Sun Apr 22   ┆ [-300, -240, … ┆ 22            │\n",
              "│        ┆        ┆            ┆ 5201b9e1fe3\",   ┆ 01:11:34 +0000 ┆ -300]          ┆               │\n",
              "│        ┆        ┆            ┆ \"…              ┆ 20…            ┆                ┆               │\n",
              "└────────┴────────┴────────────┴─────────────────┴────────────────┴────────────────┴───────────────┘"
            ],
            "text/html": [
              "<div><style>\n",
              ".dataframe > thead > tr,\n",
              ".dataframe > tbody > tr {\n",
              "  text-align: right;\n",
              "  white-space: pre-wrap;\n",
              "}\n",
              "</style>\n",
              "<small>shape: (21_697, 7)</small><table border=\"1\" class=\"dataframe\"><thead><tr><th>user</th><th>n_pois</th><th>n_checkins</th><th>pois</th><th>dates</th><th>TZs</th><th>n_unique_pois</th></tr><tr><td>i64</td><td>u32</td><td>u32</td><td>list[str]</td><td>list[str]</td><td>list[i64]</td><td>u32</td></tr></thead><tbody><tr><td>67784</td><td>42</td><td>45</td><td>[&quot;4d981620e07ea35d6191ea02&quot;, &quot;4dc103951f6e7441cf440fa6&quot;, … &quot;4b3880c9f964a520564e25e3&quot;]</td><td>[&quot;Thu Apr 12 01:42:50 +0000 2012&quot;, &quot;Sat Apr 28 13:49:50 +0000 2012&quot;, … &quot;Mon Sep 02 05:14:50 +0000 2013&quot;]</td><td>[480, 480, … 480]</td><td>42</td></tr><tr><td>130968</td><td>20</td><td>21</td><td>[&quot;4b583455f964a520ec4d28e3&quot;, &quot;4b57c2d6f964a520b83f28e3&quot;, … &quot;4bde6dcd0ee3a593f2f730b0&quot;]</td><td>[&quot;Sat Oct 27 08:00:07 +0000 2012&quot;, &quot;Sun Oct 28 02:24:48 +0000 2012&quot;, … &quot;Sun Aug 25 06:16:31 +0000 2013&quot;]</td><td>[540, 540, … 540]</td><td>20</td></tr><tr><td>238195</td><td>20</td><td>22</td><td>[&quot;4adb6119f964a520a72621e3&quot;, &quot;4acbf927f964a5207dc820e3&quot;, … &quot;4ccd8dd054f0b1f71d3a1dca&quot;]</td><td>[&quot;Sun Apr 15 19:57:15 +0000 2012&quot;, &quot;Sat Apr 21 16:50:09 +0000 2012&quot;, … &quot;Wed May 15 09:44:34 +0000 2013&quot;]</td><td>[-240, -240, … -240]</td><td>20</td></tr><tr><td>258366</td><td>22</td><td>22</td><td>[&quot;49de8185f964a5205b601fe3&quot;, &quot;4a02038bf964a52023711fe3&quot;, … &quot;4d35cc2a2c76a143c47292c7&quot;]</td><td>[&quot;Sat Dec 22 18:46:19 +0000 2012&quot;, &quot;Sat Dec 22 23:33:53 +0000 2012&quot;, … &quot;Tue Aug 13 11:04:15 +0000 2013&quot;]</td><td>[-300, -300, … -300]</td><td>22</td></tr><tr><td>228739</td><td>22</td><td>35</td><td>[&quot;4b5c4d0cf964a520302a29e3&quot;, &quot;4b61e34df964a52048292ae3&quot;, … &quot;4df16a091f6e818dadf7f786&quot;]</td><td>[&quot;Wed Apr 25 11:44:26 +0000 2012&quot;, &quot;Sat May 05 01:56:31 +0000 2012&quot;, … &quot;Thu May 16 18:13:07 +0000 2013&quot;]</td><td>[-300, -300, … -300]</td><td>22</td></tr><tr><td>&hellip;</td><td>&hellip;</td><td>&hellip;</td><td>&hellip;</td><td>&hellip;</td><td>&hellip;</td><td>&hellip;</td></tr><tr><td>179179</td><td>38</td><td>41</td><td>[&quot;4d4ebafa5fb0b1f739ea7d91&quot;, &quot;4af47862f964a520d6f221e3&quot;, … &quot;4ac518e7f964a52053ab20e3&quot;]</td><td>[&quot;Thu Apr 05 12:04:19 +0000 2012&quot;, &quot;Mon Apr 09 20:04:11 +0000 2012&quot;, … &quot;Fri Aug 23 17:52:07 +0000 2013&quot;]</td><td>[60, 60, … 60]</td><td>38</td></tr><tr><td>127797</td><td>10</td><td>31</td><td>[&quot;4b05884ff964a520adbd22e3&quot;, &quot;50bf8b99e4b01cbac58161aa&quot;, … &quot;4b018d53f964a520574322e3&quot;]</td><td>[&quot;Mon Mar 18 06:10:45 +0000 2013&quot;, &quot;Mon Mar 18 06:23:52 +0000 2013&quot;, … &quot;Fri Sep 06 11:09:47 +0000 2013&quot;]</td><td>[60, 60, … 120]</td><td>10</td></tr><tr><td>76397</td><td>15</td><td>27</td><td>[&quot;4c7409708d70b713b79ccead&quot;, &quot;4ca64bd214c337049f3fbe3b&quot;, … &quot;4ce406d8ef2db60c27d3c35b&quot;]</td><td>[&quot;Thu Jul 12 11:50:22 +0000 2012&quot;, &quot;Thu Jul 12 11:57:30 +0000 2012&quot;, … &quot;Fri Aug 09 17:46:35 +0000 2013&quot;]</td><td>[180, 180, … 180]</td><td>15</td></tr><tr><td>200023</td><td>23</td><td>26</td><td>[&quot;4bd0ff5fcaff9521c813d0f0&quot;, &quot;4b57c906f964a520ff4028e3&quot;, … &quot;4b5a6041f964a52011c128e3&quot;]</td><td>[&quot;Mon Jul 16 00:58:31 +0000 2012&quot;, &quot;Mon Jul 16 03:33:32 +0000 2012&quot;, … &quot;Fri Mar 29 01:10:07 +0000 2013&quot;]</td><td>[540, 540, … 540]</td><td>23</td></tr><tr><td>174853</td><td>22</td><td>40</td><td>[&quot;4a36fbcbf964a5201b9e1fe3&quot;, &quot;4b2efb0df964a520e8e824e3&quot;, … &quot;4af65728f964a520250322e3&quot;]</td><td>[&quot;Sun Apr 22 01:11:34 +0000 2012&quot;, &quot;Mon Apr 23 17:43:21 +0000 2012&quot;, … &quot;Wed Aug 21 13:30:48 +0000 2013&quot;]</td><td>[-300, -240, … -300]</td><td>22</td></tr></tbody></table></div>"
            ]
          },
          "metadata": {},
          "execution_count": 14
        }
      ]
    },
    {
      "cell_type": "code",
      "source": [
        "l = out[\"pois\"][0].to_list()\n",
        "len(set(l))  # print number of unique POIs in first sequence"
      ],
      "metadata": {
        "execution": {
          "iopub.status.busy": "2024-05-12T17:12:22.614052Z",
          "iopub.execute_input": "2024-05-12T17:12:22.614367Z",
          "iopub.status.idle": "2024-05-12T17:12:22.621169Z",
          "shell.execute_reply.started": "2024-05-12T17:12:22.614335Z",
          "shell.execute_reply": "2024-05-12T17:12:22.620302Z"
        },
        "trusted": true,
        "colab": {
          "base_uri": "https://localhost:8080/"
        },
        "id": "BTYdomCBCCyp",
        "outputId": "369d06dd-799b-48d0-9dd7-841b384b7b75"
      },
      "execution_count": 15,
      "outputs": [
        {
          "output_type": "execute_result",
          "data": {
            "text/plain": [
              "42"
            ]
          },
          "metadata": {},
          "execution_count": 15
        }
      ]
    },
    {
      "cell_type": "code",
      "source": [
        "l2 = data_culled[\"pois\"][0].to_list()\n",
        "len(l2)  # print sequence length of first user"
      ],
      "metadata": {
        "execution": {
          "iopub.status.busy": "2024-05-12T17:12:22.622287Z",
          "iopub.execute_input": "2024-05-12T17:12:22.622564Z",
          "iopub.status.idle": "2024-05-12T17:12:22.630088Z",
          "shell.execute_reply.started": "2024-05-12T17:12:22.622541Z",
          "shell.execute_reply": "2024-05-12T17:12:22.629290Z"
        },
        "trusted": true,
        "colab": {
          "base_uri": "https://localhost:8080/"
        },
        "id": "3ZvejeoKCCyp",
        "outputId": "33085b93-864c-4c1c-e684-466be0229bed"
      },
      "execution_count": 16,
      "outputs": [
        {
          "output_type": "execute_result",
          "data": {
            "text/plain": [
              "45"
            ]
          },
          "metadata": {},
          "execution_count": 16
        }
      ]
    },
    {
      "cell_type": "code",
      "source": [
        "len(set(l2))  # confirm that the two match"
      ],
      "metadata": {
        "execution": {
          "iopub.status.busy": "2024-05-12T17:12:22.631284Z",
          "iopub.execute_input": "2024-05-12T17:12:22.631631Z",
          "iopub.status.idle": "2024-05-12T17:12:22.639494Z",
          "shell.execute_reply.started": "2024-05-12T17:12:22.631608Z",
          "shell.execute_reply": "2024-05-12T17:12:22.638585Z"
        },
        "trusted": true,
        "colab": {
          "base_uri": "https://localhost:8080/"
        },
        "id": "8f24-SOxCCyp",
        "outputId": "6ecfca80-f9e0-41bd-da97-0bf254bc6fa8"
      },
      "execution_count": 17,
      "outputs": [
        {
          "output_type": "execute_result",
          "data": {
            "text/plain": [
              "42"
            ]
          },
          "metadata": {},
          "execution_count": 17
        }
      ]
    },
    {
      "cell_type": "code",
      "source": [
        "# run a Polars query to obtain all the frequent POIs, the ones expected to survive the filtering\n",
        "unique_pois = out[\"pois\"]\n",
        "frequent_pois = unique_pois.list.explode().value_counts().filter(rs.col(\"count\") >= 10)"
      ],
      "metadata": {
        "execution": {
          "iopub.status.busy": "2024-05-12T17:12:22.640570Z",
          "iopub.execute_input": "2024-05-12T17:12:22.641194Z",
          "iopub.status.idle": "2024-05-12T17:12:22.773755Z",
          "shell.execute_reply.started": "2024-05-12T17:12:22.641158Z",
          "shell.execute_reply": "2024-05-12T17:12:22.772767Z"
        },
        "trusted": true,
        "id": "i51vz46MCCyp"
      },
      "execution_count": 18,
      "outputs": []
    },
    {
      "cell_type": "code",
      "source": [
        "frequent_pois"
      ],
      "metadata": {
        "execution": {
          "iopub.status.busy": "2024-05-12T17:12:22.775281Z",
          "iopub.execute_input": "2024-05-12T17:12:22.776125Z",
          "iopub.status.idle": "2024-05-12T17:12:22.784050Z",
          "shell.execute_reply.started": "2024-05-12T17:12:22.776087Z",
          "shell.execute_reply": "2024-05-12T17:12:22.782959Z"
        },
        "trusted": true,
        "colab": {
          "base_uri": "https://localhost:8080/",
          "height": 443
        },
        "id": "7aHVCPtcCCyp",
        "outputId": "20cfe07d-c8b4-4b3c-ab74-c57da20d6129"
      },
      "execution_count": 19,
      "outputs": [
        {
          "output_type": "execute_result",
          "data": {
            "text/plain": [
              "shape: (4_455, 2)\n",
              "┌──────────────────────────┬───────┐\n",
              "│ pois                     ┆ count │\n",
              "│ ---                      ┆ ---   │\n",
              "│ str                      ┆ u32   │\n",
              "╞══════════════════════════╪═══════╡\n",
              "│ 4bc85ee78b7c9c7401f237cf ┆ 37    │\n",
              "│ 4d2ee44b79dd6ea8d1b98cd3 ┆ 12    │\n",
              "│ 4b8a3e0ff964a520636532e3 ┆ 12    │\n",
              "│ 4bd2177d046076b055357371 ┆ 51    │\n",
              "│ 45f555cef964a5200e441fe3 ┆ 239   │\n",
              "│ …                        ┆ …     │\n",
              "│ 4e140da1c65bedaeefb9e69e ┆ 36    │\n",
              "│ 4a9db449f964a520ff3820e3 ┆ 11    │\n",
              "│ 4c5a568467ac0f47f99c064c ┆ 126   │\n",
              "│ 4a826446f964a52026f91fe3 ┆ 12    │\n",
              "│ 4a369f12f964a520c19d1fe3 ┆ 28    │\n",
              "└──────────────────────────┴───────┘"
            ],
            "text/html": [
              "<div><style>\n",
              ".dataframe > thead > tr,\n",
              ".dataframe > tbody > tr {\n",
              "  text-align: right;\n",
              "  white-space: pre-wrap;\n",
              "}\n",
              "</style>\n",
              "<small>shape: (4_455, 2)</small><table border=\"1\" class=\"dataframe\"><thead><tr><th>pois</th><th>count</th></tr><tr><td>str</td><td>u32</td></tr></thead><tbody><tr><td>&quot;4bc85ee78b7c9c7401f237cf&quot;</td><td>37</td></tr><tr><td>&quot;4d2ee44b79dd6ea8d1b98cd3&quot;</td><td>12</td></tr><tr><td>&quot;4b8a3e0ff964a520636532e3&quot;</td><td>12</td></tr><tr><td>&quot;4bd2177d046076b055357371&quot;</td><td>51</td></tr><tr><td>&quot;45f555cef964a5200e441fe3&quot;</td><td>239</td></tr><tr><td>&hellip;</td><td>&hellip;</td></tr><tr><td>&quot;4e140da1c65bedaeefb9e69e&quot;</td><td>36</td></tr><tr><td>&quot;4a9db449f964a520ff3820e3&quot;</td><td>11</td></tr><tr><td>&quot;4c5a568467ac0f47f99c064c&quot;</td><td>126</td></tr><tr><td>&quot;4a826446f964a52026f91fe3&quot;</td><td>12</td></tr><tr><td>&quot;4a369f12f964a520c19d1fe3&quot;</td><td>28</td></tr></tbody></table></div>"
            ]
          },
          "metadata": {},
          "execution_count": 19
        }
      ]
    },
    {
      "cell_type": "code",
      "source": [
        "frequent_pois = frequent_pois[\"pois\"]\n",
        "frequent_pois = set(frequent_pois.to_list())"
      ],
      "metadata": {
        "execution": {
          "iopub.status.busy": "2024-05-12T17:12:22.785377Z",
          "iopub.execute_input": "2024-05-12T17:12:22.785752Z",
          "iopub.status.idle": "2024-05-12T17:12:22.792338Z",
          "shell.execute_reply.started": "2024-05-12T17:12:22.785720Z",
          "shell.execute_reply": "2024-05-12T17:12:22.791439Z"
        },
        "trusted": true,
        "id": "34H0_RIbCCyp"
      },
      "execution_count": 20,
      "outputs": []
    },
    {
      "cell_type": "code",
      "source": [
        "data_culled"
      ],
      "metadata": {
        "execution": {
          "iopub.status.busy": "2024-05-12T17:12:22.793598Z",
          "iopub.execute_input": "2024-05-12T17:12:22.794221Z",
          "iopub.status.idle": "2024-05-12T17:12:22.803753Z",
          "shell.execute_reply.started": "2024-05-12T17:12:22.794188Z",
          "shell.execute_reply": "2024-05-12T17:12:22.802740Z"
        },
        "trusted": true,
        "colab": {
          "base_uri": "https://localhost:8080/",
          "height": 617
        },
        "id": "ib_qORq7CCyp",
        "outputId": "bbc392c6-fd7a-4209-a457-20498bf21512"
      },
      "execution_count": 21,
      "outputs": [
        {
          "output_type": "execute_result",
          "data": {
            "text/plain": [
              "shape: (21_697, 6)\n",
              "┌────────┬────────┬────────────┬──────────────────────┬──────────────────────┬─────────────────────┐\n",
              "│ user   ┆ n_pois ┆ n_checkins ┆ pois                 ┆ dates                ┆ TZs                 │\n",
              "│ ---    ┆ ---    ┆ ---        ┆ ---                  ┆ ---                  ┆ ---                 │\n",
              "│ i64    ┆ u32    ┆ u32        ┆ list[str]            ┆ list[str]            ┆ list[i64]           │\n",
              "╞════════╪════════╪════════════╪══════════════════════╪══════════════════════╪═════════════════════╡\n",
              "│ 67784  ┆ 42     ┆ 45         ┆ [\"4f0d045de4b0e45bdd ┆ [\"Thu Apr 12         ┆ [480, 480, … 480]   │\n",
              "│        ┆        ┆            ┆ 46b60f\", \"…          ┆ 01:42:50 +0000 20…   ┆                     │\n",
              "│ 130968 ┆ 20     ┆ 21         ┆ [\"4d3ec80f44f5a093b3 ┆ [\"Sat Oct 27         ┆ [540, 540, … 540]   │\n",
              "│        ┆        ┆            ┆ 9de0bb\", \"…          ┆ 08:00:07 +0000 20…   ┆                     │\n",
              "│ 238195 ┆ 20     ┆ 22         ┆ [\"4ae60577f964a52024 ┆ [\"Sun Apr 15         ┆ [-240, -240, …      │\n",
              "│        ┆        ┆            ┆ a421e3\", \"…          ┆ 19:57:15 +0000 20…   ┆ -240]               │\n",
              "│ 258366 ┆ 22     ┆ 22         ┆ [\"49de8185f964a5205b ┆ [\"Sat Dec 22         ┆ [-300, -300, …      │\n",
              "│        ┆        ┆            ┆ 601fe3\", \"…          ┆ 18:46:19 +0000 20…   ┆ -300]               │\n",
              "│ 228739 ┆ 22     ┆ 35         ┆ [\"4bb2826a35f0c9b602 ┆ [\"Wed Apr 25         ┆ [-300, -300, …      │\n",
              "│        ┆        ┆            ┆ 62bb83\", \"…          ┆ 11:44:26 +0000 20…   ┆ -300]               │\n",
              "│ …      ┆ …      ┆ …          ┆ …                    ┆ …                    ┆ …                   │\n",
              "│ 179179 ┆ 38     ┆ 41         ┆ [\"4c3db29a933b0f47f0 ┆ [\"Thu Apr 05         ┆ [60, 60, … 60]      │\n",
              "│        ┆        ┆            ┆ b1e521\", \"…          ┆ 12:04:19 +0000 20…   ┆                     │\n",
              "│ 127797 ┆ 10     ┆ 31         ┆ [\"50bf8b99e4b01cbac5 ┆ [\"Mon Mar 18         ┆ [60, 60, … 120]     │\n",
              "│        ┆        ┆            ┆ 8161aa\", \"…          ┆ 06:10:45 +0000 20…   ┆                     │\n",
              "│ 76397  ┆ 15     ┆ 27         ┆ [\"4dd667c8ae60680f14 ┆ [\"Thu Jul 12         ┆ [180, 180, … 180]   │\n",
              "│        ┆        ┆            ┆ ec3f41\", \"…          ┆ 11:50:22 +0000 20…   ┆                     │\n",
              "│ 200023 ┆ 23     ┆ 26         ┆ [\"4b5ba708f964a520d1 ┆ [\"Mon Jul 16         ┆ [540, 540, … 540]   │\n",
              "│        ┆        ┆            ┆ 0d29e3\", \"…          ┆ 00:58:31 +0000 20…   ┆                     │\n",
              "│ 174853 ┆ 22     ┆ 40         ┆ [\"4a9342a1f964a5205b ┆ [\"Sun Apr 22         ┆ [-300, -240, …      │\n",
              "│        ┆        ┆            ┆ 1f20e3\", \"…          ┆ 01:11:34 +0000 20…   ┆ -300]               │\n",
              "└────────┴────────┴────────────┴──────────────────────┴──────────────────────┴─────────────────────┘"
            ],
            "text/html": [
              "<div><style>\n",
              ".dataframe > thead > tr,\n",
              ".dataframe > tbody > tr {\n",
              "  text-align: right;\n",
              "  white-space: pre-wrap;\n",
              "}\n",
              "</style>\n",
              "<small>shape: (21_697, 6)</small><table border=\"1\" class=\"dataframe\"><thead><tr><th>user</th><th>n_pois</th><th>n_checkins</th><th>pois</th><th>dates</th><th>TZs</th></tr><tr><td>i64</td><td>u32</td><td>u32</td><td>list[str]</td><td>list[str]</td><td>list[i64]</td></tr></thead><tbody><tr><td>67784</td><td>42</td><td>45</td><td>[&quot;4f0d045de4b0e45bdd46b60f&quot;, &quot;4b80ea9ff964a520c49130e3&quot;, … &quot;52241eb511d2d7f6cc93e670&quot;]</td><td>[&quot;Thu Apr 12 01:42:50 +0000 2012&quot;, &quot;Sat Apr 28 13:49:50 +0000 2012&quot;, … &quot;Mon Sep 02 05:14:50 +0000 2013&quot;]</td><td>[480, 480, … 480]</td></tr><tr><td>130968</td><td>20</td><td>21</td><td>[&quot;4d3ec80f44f5a093b39de0bb&quot;, &quot;4b5e5354f964a520b38929e3&quot;, … &quot;4b569274f964a5208a1528e3&quot;]</td><td>[&quot;Sat Oct 27 08:00:07 +0000 2012&quot;, &quot;Sun Oct 28 02:24:48 +0000 2012&quot;, … &quot;Sun Aug 25 06:16:31 +0000 2013&quot;]</td><td>[540, 540, … 540]</td></tr><tr><td>238195</td><td>20</td><td>22</td><td>[&quot;4ae60577f964a52024a421e3&quot;, &quot;4c13c3d6a9c220a1d14f569d&quot;, … &quot;4ace6c89f964a52078d020e3&quot;]</td><td>[&quot;Sun Apr 15 19:57:15 +0000 2012&quot;, &quot;Sat Apr 21 16:50:09 +0000 2012&quot;, … &quot;Wed May 15 09:44:34 +0000 2013&quot;]</td><td>[-240, -240, … -240]</td></tr><tr><td>258366</td><td>22</td><td>22</td><td>[&quot;49de8185f964a5205b601fe3&quot;, &quot;4acbdd2ef964a52016c820e3&quot;, … &quot;4f739cd7e4b0f06c03cefe7f&quot;]</td><td>[&quot;Sat Dec 22 18:46:19 +0000 2012&quot;, &quot;Sat Dec 22 23:33:53 +0000 2012&quot;, … &quot;Tue Aug 13 11:04:15 +0000 2013&quot;]</td><td>[-300, -300, … -300]</td></tr><tr><td>228739</td><td>22</td><td>35</td><td>[&quot;4bb2826a35f0c9b60262bb83&quot;, &quot;4d096a3ce023224b63d95ad2&quot;, … &quot;4d1a810feab1224b92c2cae2&quot;]</td><td>[&quot;Wed Apr 25 11:44:26 +0000 2012&quot;, &quot;Sat May 05 01:56:31 +0000 2012&quot;, … &quot;Thu May 16 18:13:07 +0000 2013&quot;]</td><td>[-300, -300, … -300]</td></tr><tr><td>&hellip;</td><td>&hellip;</td><td>&hellip;</td><td>&hellip;</td><td>&hellip;</td><td>&hellip;</td></tr><tr><td>179179</td><td>38</td><td>41</td><td>[&quot;4c3db29a933b0f47f0b1e521&quot;, &quot;4ac518f7f964a520c6af20e3&quot;, … &quot;4c18fe2d6a21c9b670d6c997&quot;]</td><td>[&quot;Thu Apr 05 12:04:19 +0000 2012&quot;, &quot;Mon Apr 09 20:04:11 +0000 2012&quot;, … &quot;Fri Aug 23 17:52:07 +0000 2013&quot;]</td><td>[60, 60, … 60]</td></tr><tr><td>127797</td><td>10</td><td>31</td><td>[&quot;50bf8b99e4b01cbac58161aa&quot;, &quot;4cdcdaf24006a14351c2e1b2&quot;, … &quot;4e7f2c4f6c253723ab30405d&quot;]</td><td>[&quot;Mon Mar 18 06:10:45 +0000 2013&quot;, &quot;Mon Mar 18 06:23:52 +0000 2013&quot;, … &quot;Fri Sep 06 11:09:47 +0000 2013&quot;]</td><td>[60, 60, … 120]</td></tr><tr><td>76397</td><td>15</td><td>27</td><td>[&quot;4dd667c8ae60680f14ec3f41&quot;, &quot;4f97f4a9e4b0c56b6fb1a9b4&quot;, … &quot;4fa2b3eae4b05d822483b142&quot;]</td><td>[&quot;Thu Jul 12 11:50:22 +0000 2012&quot;, &quot;Thu Jul 12 11:57:30 +0000 2012&quot;, … &quot;Fri Aug 09 17:46:35 +0000 2013&quot;]</td><td>[180, 180, … 180]</td></tr><tr><td>200023</td><td>23</td><td>26</td><td>[&quot;4b5ba708f964a520d10d29e3&quot;, &quot;4be8cf1f88ed2d7f9661cc1d&quot;, … &quot;4b57c906f964a520ff4028e3&quot;]</td><td>[&quot;Mon Jul 16 00:58:31 +0000 2012&quot;, &quot;Mon Jul 16 03:33:32 +0000 2012&quot;, … &quot;Fri Mar 29 01:10:07 +0000 2013&quot;]</td><td>[540, 540, … 540]</td></tr><tr><td>174853</td><td>22</td><td>40</td><td>[&quot;4a9342a1f964a5205b1f20e3&quot;, &quot;4aa6a083f964a5206c4a20e3&quot;, … &quot;4bd70d617b1876b0d67c8d86&quot;]</td><td>[&quot;Sun Apr 22 01:11:34 +0000 2012&quot;, &quot;Mon Apr 23 17:43:21 +0000 2012&quot;, … &quot;Wed Aug 21 13:30:48 +0000 2013&quot;]</td><td>[-300, -240, … -300]</td></tr></tbody></table></div>"
            ]
          },
          "metadata": {},
          "execution_count": 21
        }
      ]
    },
    {
      "cell_type": "code",
      "source": [
        "data_culled = data_culled.with_columns(\n",
        "    [\n",
        "        rs.col(\"pois\")\n",
        "        .list.eval(\n",
        "            rs.element().is_in(frequent_pois),\n",
        "        )\n",
        "        .alias(\"is_frequent\")\n",
        "    ]\n",
        ")  # prep mask"
      ],
      "metadata": {
        "execution": {
          "iopub.status.busy": "2024-05-12T17:12:22.804834Z",
          "iopub.execute_input": "2024-05-12T17:12:22.805093Z",
          "iopub.status.idle": "2024-05-12T17:12:22.846817Z",
          "shell.execute_reply.started": "2024-05-12T17:12:22.805071Z",
          "shell.execute_reply": "2024-05-12T17:12:22.846135Z"
        },
        "trusted": true,
        "id": "n5IdbHrNCCyp"
      },
      "execution_count": 22,
      "outputs": []
    },
    {
      "cell_type": "code",
      "source": [
        "final_data = (\n",
        "    data_culled.lazy()\n",
        "    .explode(\n",
        "        [\n",
        "            \"pois\",\n",
        "            \"dates\",\n",
        "            \"TZs\",\n",
        "            \"is_frequent\",\n",
        "        ]\n",
        "    )\n",
        "    .group_by(\"user\")\n",
        "    .agg(\n",
        "        [\n",
        "            rs.col(\"pois\").filter(rs.col(\"is_frequent\")).alias(\"pois\"),\n",
        "            rs.col(\"dates\").filter(rs.col(\"is_frequent\")).alias(\"dates\"),\n",
        "            rs.col(\"TZs\").filter(rs.col(\"is_frequent\")).alias(\"TZs\"),\n",
        "            rs.col(\"pois\").filter(rs.col(\"is_frequent\")).n_unique().alias(\"n_pois\"),\n",
        "            rs.col(\"pois\").filter(rs.col(\"is_frequent\")).count().alias(\"n_checkins\"),\n",
        "        ]\n",
        "    )\n",
        "    .filter(rs.col(\"n_checkins\") > 0)\n",
        "    .filter(rs.col(\"n_pois\") > 0)\n",
        "    .collect()\n",
        ")  # filter out infrequent pois and users with no pois\n"
      ],
      "metadata": {
        "execution": {
          "iopub.status.busy": "2024-05-12T17:12:22.847680Z",
          "iopub.execute_input": "2024-05-12T17:12:22.847923Z",
          "iopub.status.idle": "2024-05-12T17:12:22.934379Z",
          "shell.execute_reply.started": "2024-05-12T17:12:22.847901Z",
          "shell.execute_reply": "2024-05-12T17:12:22.933537Z"
        },
        "trusted": true,
        "id": "rpFQCNJGCCyq"
      },
      "execution_count": 23,
      "outputs": []
    },
    {
      "cell_type": "code",
      "source": [
        "final_data.describe()"
      ],
      "metadata": {
        "execution": {
          "iopub.status.busy": "2024-05-12T17:12:22.935511Z",
          "iopub.execute_input": "2024-05-12T17:12:22.935810Z",
          "iopub.status.idle": "2024-05-12T17:12:22.946330Z",
          "shell.execute_reply.started": "2024-05-12T17:12:22.935784Z",
          "shell.execute_reply": "2024-05-12T17:12:22.945303Z"
        },
        "trusted": true,
        "colab": {
          "base_uri": "https://localhost:8080/",
          "height": 380
        },
        "id": "CS0MglAhCCyq",
        "outputId": "0ca2a788-2be2-438f-c241-16a49c38e4c7"
      },
      "execution_count": 24,
      "outputs": [
        {
          "output_type": "execute_result",
          "data": {
            "text/plain": [
              "shape: (9, 7)\n",
              "┌────────────┬───────────────┬─────────┬─────────┬─────────┬──────────┬────────────┐\n",
              "│ statistic  ┆ user          ┆ pois    ┆ dates   ┆ TZs     ┆ n_pois   ┆ n_checkins │\n",
              "│ ---        ┆ ---           ┆ ---     ┆ ---     ┆ ---     ┆ ---      ┆ ---        │\n",
              "│ str        ┆ f64           ┆ f64     ┆ f64     ┆ f64     ┆ f64      ┆ f64        │\n",
              "╞════════════╪═══════════════╪═════════╪═════════╪═════════╪══════════╪════════════╡\n",
              "│ count      ┆ 19862.0       ┆ 19862.0 ┆ 19862.0 ┆ 19862.0 ┆ 19862.0  ┆ 19862.0    │\n",
              "│ null_count ┆ 0.0           ┆ 0.0     ┆ 0.0     ┆ 0.0     ┆ 0.0      ┆ 0.0        │\n",
              "│ mean       ┆ 156852.822274 ┆ null    ┆ null    ┆ null    ┆ 6.123452 ┆ 8.831437   │\n",
              "│ std        ┆ 76314.892884  ┆ null    ┆ null    ┆ null    ┆ 4.609024 ┆ 6.877662   │\n",
              "│ min        ┆ 49.0          ┆ null    ┆ null    ┆ null    ┆ 1.0      ┆ 1.0        │\n",
              "│ 25%        ┆ 95613.0       ┆ null    ┆ null    ┆ null    ┆ 3.0      ┆ 4.0        │\n",
              "│ 50%        ┆ 167846.0      ┆ null    ┆ null    ┆ null    ┆ 5.0      ┆ 7.0        │\n",
              "│ 75%        ┆ 224576.0      ┆ null    ┆ null    ┆ null    ┆ 8.0      ┆ 12.0       │\n",
              "│ max        ┆ 266909.0      ┆ null    ┆ null    ┆ null    ┆ 32.0     ┆ 46.0       │\n",
              "└────────────┴───────────────┴─────────┴─────────┴─────────┴──────────┴────────────┘"
            ],
            "text/html": [
              "<div><style>\n",
              ".dataframe > thead > tr,\n",
              ".dataframe > tbody > tr {\n",
              "  text-align: right;\n",
              "  white-space: pre-wrap;\n",
              "}\n",
              "</style>\n",
              "<small>shape: (9, 7)</small><table border=\"1\" class=\"dataframe\"><thead><tr><th>statistic</th><th>user</th><th>pois</th><th>dates</th><th>TZs</th><th>n_pois</th><th>n_checkins</th></tr><tr><td>str</td><td>f64</td><td>f64</td><td>f64</td><td>f64</td><td>f64</td><td>f64</td></tr></thead><tbody><tr><td>&quot;count&quot;</td><td>19862.0</td><td>19862.0</td><td>19862.0</td><td>19862.0</td><td>19862.0</td><td>19862.0</td></tr><tr><td>&quot;null_count&quot;</td><td>0.0</td><td>0.0</td><td>0.0</td><td>0.0</td><td>0.0</td><td>0.0</td></tr><tr><td>&quot;mean&quot;</td><td>156852.822274</td><td>null</td><td>null</td><td>null</td><td>6.123452</td><td>8.831437</td></tr><tr><td>&quot;std&quot;</td><td>76314.892884</td><td>null</td><td>null</td><td>null</td><td>4.609024</td><td>6.877662</td></tr><tr><td>&quot;min&quot;</td><td>49.0</td><td>null</td><td>null</td><td>null</td><td>1.0</td><td>1.0</td></tr><tr><td>&quot;25%&quot;</td><td>95613.0</td><td>null</td><td>null</td><td>null</td><td>3.0</td><td>4.0</td></tr><tr><td>&quot;50%&quot;</td><td>167846.0</td><td>null</td><td>null</td><td>null</td><td>5.0</td><td>7.0</td></tr><tr><td>&quot;75%&quot;</td><td>224576.0</td><td>null</td><td>null</td><td>null</td><td>8.0</td><td>12.0</td></tr><tr><td>&quot;max&quot;</td><td>266909.0</td><td>null</td><td>null</td><td>null</td><td>32.0</td><td>46.0</td></tr></tbody></table></div>"
            ]
          },
          "metadata": {},
          "execution_count": 24
        }
      ]
    },
    {
      "cell_type": "markdown",
      "source": [
        "At this stage, culling is done, we can appreciate that `polars`'s SQL/functional-style API is different from Pandas, but it is very powerful and efficient."
      ],
      "metadata": {
        "id": "ItBEF5DFCCyq"
      }
    },
    {
      "cell_type": "markdown",
      "source": [
        "The next step is geohashing the POIs, that is, we want to convert the latitude-longitude positions of the POIs into a grid-based geohash representation, which will form the basis for our network's embeddings."
      ],
      "metadata": {
        "id": "HxS9E5bBCCyq"
      }
    },
    {
      "cell_type": "code",
      "source": [
        "import geohash2 as gh\n",
        "\n",
        "pois = rs.read_csv(\n",
        "    \"/content/drive/MyDrive/dataset_TIST2015/dataset_TIST2015_POIs.txt\",\n",
        "    has_header=False,\n",
        "    low_memory=True,\n",
        "    separator=\"\\t\",\n",
        ")\n",
        "pois.columns = [\"poi\", \"lat\", \"long\", \"category\", \"country\"]\n",
        "pois = pois.drop(\"category\").drop(\"country\")"
      ],
      "metadata": {
        "execution": {
          "iopub.status.busy": "2024-05-12T17:18:00.174715Z",
          "iopub.execute_input": "2024-05-12T17:18:00.175077Z",
          "iopub.status.idle": "2024-05-12T17:18:01.319600Z",
          "shell.execute_reply.started": "2024-05-12T17:18:00.175050Z",
          "shell.execute_reply": "2024-05-12T17:18:01.318631Z"
        },
        "trusted": true,
        "id": "5tSt9gYqCCyq"
      },
      "execution_count": 25,
      "outputs": []
    },
    {
      "cell_type": "code",
      "source": [
        "pois = (\n",
        "    pois.lazy()\n",
        "    .filter(rs.col(\"poi\").is_in(frequent_pois))\n",
        "    .select(\n",
        "        [\n",
        "            rs.col(\"poi\"),\n",
        "            rs.struct(\n",
        "                [\n",
        "                    rs.col(\"lat\").cast(rs.Float32),\n",
        "                    rs.col(\"long\").cast(rs.Float32),\n",
        "                ]\n",
        "            )\n",
        "            .alias(\"location\")\n",
        "            .map_elements(\n",
        "                lambda s: gh.encode(s[\"lat\"], s[\"long\"], precision=6),\n",
        "                return_dtype=rs.String,\n",
        "            )\n",
        "            .alias(\"geohash\"),\n",
        "        ]\n",
        "    )\n",
        "    .collect()\n",
        ")\n",
        "poi_geo_dict = dict(zip(pois[\"poi\"], pois[\"geohash\"]))"
      ],
      "metadata": {
        "execution": {
          "iopub.status.busy": "2024-05-12T17:18:01.321836Z",
          "iopub.execute_input": "2024-05-12T17:18:01.322687Z",
          "iopub.status.idle": "2024-05-12T17:18:01.597070Z",
          "shell.execute_reply.started": "2024-05-12T17:18:01.322647Z",
          "shell.execute_reply": "2024-05-12T17:18:01.595862Z"
        },
        "trusted": true,
        "id": "fa3YSEGrCCyq"
      },
      "execution_count": 26,
      "outputs": []
    },
    {
      "cell_type": "code",
      "source": [
        "# for each row in final_data, add the geohash of the pois by hitting the poi_geo_dict\n",
        "\n",
        "final_data = final_data.with_columns(\n",
        "    [\n",
        "        rs.col(\"pois\")\n",
        "        .map_elements(\n",
        "            lambda s: [poi_geo_dict[s] for s in s],\n",
        "            return_dtype=rs.List(rs.String),\n",
        "        )\n",
        "        .alias(\"geohashes\")\n",
        "    ]\n",
        ")"
      ],
      "metadata": {
        "execution": {
          "iopub.status.busy": "2024-05-12T17:18:01.598605Z",
          "iopub.execute_input": "2024-05-12T17:18:01.598983Z",
          "iopub.status.idle": "2024-05-12T17:18:02.170923Z",
          "shell.execute_reply.started": "2024-05-12T17:18:01.598957Z",
          "shell.execute_reply": "2024-05-12T17:18:02.169900Z"
        },
        "trusted": true,
        "id": "y1GevNOtCCyq"
      },
      "execution_count": 27,
      "outputs": []
    },
    {
      "cell_type": "code",
      "source": [
        "final_data[\"dates\"][79].to_list()  # check out a temporal sequence"
      ],
      "metadata": {
        "execution": {
          "iopub.status.busy": "2024-05-12T17:18:02.173973Z",
          "iopub.execute_input": "2024-05-12T17:18:02.174390Z",
          "iopub.status.idle": "2024-05-12T17:18:02.182127Z",
          "shell.execute_reply.started": "2024-05-12T17:18:02.174356Z",
          "shell.execute_reply": "2024-05-12T17:18:02.180999Z"
        },
        "trusted": true,
        "colab": {
          "base_uri": "https://localhost:8080/"
        },
        "id": "qaXNXfVfCCyq",
        "outputId": "0b887ed4-111b-40f0-a2bf-c4b4182c9e11"
      },
      "execution_count": 28,
      "outputs": [
        {
          "output_type": "execute_result",
          "data": {
            "text/plain": [
              "['Thu Jun 07 11:16:06 +0000 2012',\n",
              " 'Thu Jun 07 12:35:24 +0000 2012',\n",
              " 'Fri Jan 04 08:57:06 +0000 2013']"
            ]
          },
          "metadata": {},
          "execution_count": 28
        }
      ]
    },
    {
      "cell_type": "code",
      "source": [
        "final_data[\"TZs\"][79].to_list()  # ... and the corresponding timezones"
      ],
      "metadata": {
        "execution": {
          "iopub.status.busy": "2024-05-12T17:18:02.184032Z",
          "iopub.execute_input": "2024-05-12T17:18:02.184619Z",
          "iopub.status.idle": "2024-05-12T17:18:02.191487Z",
          "shell.execute_reply.started": "2024-05-12T17:18:02.184588Z",
          "shell.execute_reply": "2024-05-12T17:18:02.190500Z"
        },
        "trusted": true,
        "colab": {
          "base_uri": "https://localhost:8080/"
        },
        "id": "BenJc82OCCyq",
        "outputId": "99eded94-a474-4d59-fd21-46dcffe1226a"
      },
      "execution_count": 29,
      "outputs": [
        {
          "output_type": "execute_result",
          "data": {
            "text/plain": [
              "[540, 540, 540]"
            ]
          },
          "metadata": {},
          "execution_count": 29
        }
      ]
    },
    {
      "cell_type": "markdown",
      "source": [
        "The work *might* seem over, however, we still have timezones to account for, we want to normalize everything according to GMT, so we convert the timestamps accordingly."
      ],
      "metadata": {
        "id": "Vkv4I9FhCCyq"
      }
    },
    {
      "cell_type": "code",
      "source": [
        "import datetime\n",
        "\n",
        "\n",
        "def UTC_to_local(utc, tz):\n",
        "\n",
        "    date = datetime.datetime.strptime(utc, \"%a %b %d %H:%M:%S %z %Y\")\n",
        "    date = date.replace(tzinfo=datetime.timezone.utc)\n",
        "\n",
        "    # shift by tz offset\n",
        "    date = date.astimezone(datetime.timezone(datetime.timedelta(minutes=tz)))\n",
        "\n",
        "    date_s = datetime.datetime.strftime(date, \"%Y-%m-%d %H:%M:%S\")\n",
        "    return date_s\n",
        "\n",
        "\n",
        "def to_UNIX_time(date):\n",
        "    return datetime.datetime.strptime(\n",
        "        date, \"%Y-%m-%d %H:%M:%S\"\n",
        "    ).timestamp()  # we use UNIX time as a key for sorting the POIs in our polars query"
      ],
      "metadata": {
        "execution": {
          "iopub.status.busy": "2024-05-12T17:18:02.192847Z",
          "iopub.execute_input": "2024-05-12T17:18:02.193152Z",
          "iopub.status.idle": "2024-05-12T17:18:02.204933Z",
          "shell.execute_reply.started": "2024-05-12T17:18:02.193129Z",
          "shell.execute_reply": "2024-05-12T17:18:02.204002Z"
        },
        "trusted": true,
        "id": "ufyhRTJMCCyq"
      },
      "execution_count": 30,
      "outputs": []
    },
    {
      "cell_type": "code",
      "source": [
        "UTC_to_local(\"Mon May 21 15:53:01 +0000 2012\", -420)  # example of usage"
      ],
      "metadata": {
        "execution": {
          "iopub.status.busy": "2024-05-12T17:18:02.206440Z",
          "iopub.execute_input": "2024-05-12T17:18:02.206754Z",
          "iopub.status.idle": "2024-05-12T17:18:02.222110Z",
          "shell.execute_reply.started": "2024-05-12T17:18:02.206727Z",
          "shell.execute_reply": "2024-05-12T17:18:02.221175Z"
        },
        "trusted": true,
        "colab": {
          "base_uri": "https://localhost:8080/",
          "height": 35
        },
        "id": "P1n-YGXLCCyq",
        "outputId": "5ce84d30-d8e0-4000-c653-56b8b4032095"
      },
      "execution_count": 31,
      "outputs": [
        {
          "output_type": "execute_result",
          "data": {
            "text/plain": [
              "'2012-05-21 08:53:01'"
            ],
            "application/vnd.google.colaboratory.intrinsic+json": {
              "type": "string"
            }
          },
          "metadata": {},
          "execution_count": 31
        }
      ]
    },
    {
      "cell_type": "code",
      "source": [
        "final_data = final_data.with_columns(\n",
        "    [\n",
        "        rs.struct([rs.col(\"dates\"), rs.col(\"TZs\")])\n",
        "        .alias(\"times\")\n",
        "        .map_elements(\n",
        "            lambda struct: [\n",
        "                UTC_to_local(date, tz)\n",
        "                for date, tz in zip(struct[\"dates\"], struct[\"TZs\"])\n",
        "            ],\n",
        "            return_dtype=rs.List(rs.String),\n",
        "        )\n",
        "    ]\n",
        ")  # This performs timezone conversion"
      ],
      "metadata": {
        "execution": {
          "iopub.status.busy": "2024-05-12T17:18:02.223253Z",
          "iopub.execute_input": "2024-05-12T17:18:02.223852Z",
          "iopub.status.idle": "2024-05-12T17:18:08.520959Z",
          "shell.execute_reply.started": "2024-05-12T17:18:02.223821Z",
          "shell.execute_reply": "2024-05-12T17:18:08.519893Z"
        },
        "trusted": true,
        "id": "-QJbyPkeCCyq"
      },
      "execution_count": 32,
      "outputs": []
    },
    {
      "cell_type": "code",
      "source": [
        "final_sorted = final_data.select(  # sort the times\n",
        "    [\n",
        "        rs.col(\"user\"),\n",
        "        rs.struct(\n",
        "            [\n",
        "                rs.col(\"pois\"),\n",
        "                rs.col(\"times\"),\n",
        "            ]\n",
        "        ).map_elements(\n",
        "            lambda struct: [\n",
        "                poi\n",
        "                for poi, _ in sorted(\n",
        "                    zip(  # here we sort the POIs struct by UNIX timestamps of the GMT times\n",
        "                        struct[\"pois\"], [to_UNIX_time(date) for date in struct[\"times\"]]\n",
        "                    ),\n",
        "                    key=lambda s: s[1],\n",
        "                )\n",
        "            ],\n",
        "            return_dtype=rs.List(rs.String),\n",
        "        ),\n",
        "        rs.struct(\n",
        "            [\n",
        "                rs.col(\"geohashes\"),\n",
        "                rs.col(\"times\"),\n",
        "            ]\n",
        "        ).map_elements(\n",
        "            lambda struct: [\n",
        "                geo\n",
        "                for geo, _ in sorted(\n",
        "                    zip(\n",
        "                        struct[\"geohashes\"],  # same thing goes on for geohashes\n",
        "                        [to_UNIX_time(date) for date in struct[\"times\"]],\n",
        "                    ),\n",
        "                    key=lambda s: s[1],\n",
        "                )\n",
        "            ],\n",
        "            return_dtype=rs.List(rs.String),\n",
        "        ),\n",
        "        rs.col(\"times\")\n",
        "        .map_elements(\n",
        "            lambda dates: sorted(dates, key=to_UNIX_time),\n",
        "            return_dtype=rs.List(rs.String),\n",
        "        )\n",
        "        .alias(\"times_sorted\"),\n",
        "        rs.col(\"n_checkins\"),\n",
        "    ]\n",
        ")\n",
        "\n",
        "# P.S, admittedly, it would have been more efficient to encode the geohashes *after* sorting the POIs,\n",
        "# so that we could save on the sorting of the geohashes. Tough luck, you can't win 'em all."
      ],
      "metadata": {
        "execution": {
          "iopub.status.busy": "2024-05-12T17:18:08.522207Z",
          "iopub.execute_input": "2024-05-12T17:18:08.523541Z",
          "iopub.status.idle": "2024-05-12T17:18:33.031224Z",
          "shell.execute_reply.started": "2024-05-12T17:18:08.523508Z",
          "shell.execute_reply": "2024-05-12T17:18:33.030091Z"
        },
        "trusted": true,
        "id": "mI9bmD3UCCyt"
      },
      "execution_count": 33,
      "outputs": []
    },
    {
      "cell_type": "code",
      "source": [
        "final_sorted"
      ],
      "metadata": {
        "execution": {
          "iopub.status.busy": "2024-05-12T17:18:33.035660Z",
          "iopub.execute_input": "2024-05-12T17:18:33.036029Z",
          "iopub.status.idle": "2024-05-12T17:18:33.045341Z",
          "shell.execute_reply.started": "2024-05-12T17:18:33.035999Z",
          "shell.execute_reply": "2024-05-12T17:18:33.044302Z"
        },
        "trusted": true,
        "colab": {
          "base_uri": "https://localhost:8080/",
          "height": 443
        },
        "id": "8I9t4dirCCyt",
        "outputId": "5d899d33-7817-4ca3-923a-0d4db027c0dc"
      },
      "execution_count": 34,
      "outputs": [
        {
          "output_type": "execute_result",
          "data": {
            "text/plain": [
              "shape: (19_862, 5)\n",
              "┌────────┬──────────────────────────────┬────────────────────────┬────────────────────┬────────────┐\n",
              "│ user   ┆ pois                         ┆ geohashes              ┆ times_sorted       ┆ n_checkins │\n",
              "│ ---    ┆ ---                          ┆ ---                    ┆ ---                ┆ ---        │\n",
              "│ i64    ┆ list[str]                    ┆ list[str]              ┆ list[str]          ┆ u32        │\n",
              "╞════════╪══════════════════════════════╪════════════════════════╪════════════════════╪════════════╡\n",
              "│ 135934 ┆ [\"4d6cdd3c1dfca35d169b3fe0\", ┆ [\"wecnvb\", \"dpz2kr\"]   ┆ [\"2012-04-29       ┆ 2          │\n",
              "│        ┆ \"…                           ┆                        ┆ 09:54:11\", \"2013-… ┆            │\n",
              "│ 10501  ┆ [\"4459d2f1f964a520d7321fe3\", ┆ [\"dr5r2p\", \"dr5ru7\", … ┆ [\"2012-11-09       ┆ 15         │\n",
              "│        ┆ \"…                           ┆ \"6gycfp…               ┆ 21:44:43\", \"2012-… ┆            │\n",
              "│ 11939  ┆ [\"4bb56b39ef159c741cc774f7\", ┆ [\"w22rrv\", \"w29mxn\",   ┆ [\"2012-07-12       ┆ 3          │\n",
              "│        ┆ \"…                           ┆ \"w29mxe\"]              ┆ 14:37:36\", \"2012-… ┆            │\n",
              "│ 28332  ┆ [\"4ade0e30f964a520466f21e3\"] ┆ [\"gcw2kc\"]             ┆ [\"2013-04-16       ┆ 1          │\n",
              "│        ┆                              ┆                        ┆ 16:50:42\"]         ┆            │\n",
              "│ 3683   ┆ [\"4b3df351f964a520819725e3\", ┆ [\"w4rqqk\", \"w4rqmh\", … ┆ [\"2013-04-08       ┆ 4          │\n",
              "│        ┆ \"…                           ┆ \"w4rtc2…               ┆ 10:29:41\", \"2013-… ┆            │\n",
              "│ …      ┆ …                            ┆ …                      ┆ …                  ┆ …          │\n",
              "│ 266857 ┆ [\"4cdf853effcf3704ae951a82\", ┆ [\"swsxjh\", \"sxk9hq\"]   ┆ [\"2013-06-01       ┆ 2          │\n",
              "│        ┆ \"…                           ┆                        ┆ 13:59:59\", \"2013-… ┆            │\n",
              "│ 47699  ┆ [\"4aa76d20f964a520d24c20e3\", ┆ [\"dhvr1v\", \"dr5x0z\", … ┆ [\"2012-04-07       ┆ 14         │\n",
              "│        ┆ \"…                           ┆ \"dngy1t…               ┆ 09:58:52\", \"2012-… ┆            │\n",
              "│ 231481 ┆ [\"4aeff0e3f964a52060da21e3\", ┆ [\"u17062\", \"u173zx\", … ┆ [\"2012-04-11       ┆ 13         │\n",
              "│        ┆ \"…                           ┆ \"u178k6…               ┆ 17:52:15\", \"2012-… ┆            │\n",
              "│ 45871  ┆ [\"4b058884f964a52057cb22e3\", ┆ [\"u0ndc2\", \"u0nd9h\"]   ┆ [\"2013-04-25       ┆ 2          │\n",
              "│        ┆ \"…                           ┆                        ┆ 10:15:18\", \"2013-… ┆            │\n",
              "│ 233172 ┆ [\"4b7dc726f964a52006d42fe3\", ┆ [\"xnu1tv\", \"xnu1tv\", … ┆ [\"2013-01-10       ┆ 7          │\n",
              "│        ┆ \"…                           ┆ \"xn76ur…               ┆ 09:22:03\", \"2013-… ┆            │\n",
              "└────────┴──────────────────────────────┴────────────────────────┴────────────────────┴────────────┘"
            ],
            "text/html": [
              "<div><style>\n",
              ".dataframe > thead > tr,\n",
              ".dataframe > tbody > tr {\n",
              "  text-align: right;\n",
              "  white-space: pre-wrap;\n",
              "}\n",
              "</style>\n",
              "<small>shape: (19_862, 5)</small><table border=\"1\" class=\"dataframe\"><thead><tr><th>user</th><th>pois</th><th>geohashes</th><th>times_sorted</th><th>n_checkins</th></tr><tr><td>i64</td><td>list[str]</td><td>list[str]</td><td>list[str]</td><td>u32</td></tr></thead><tbody><tr><td>135934</td><td>[&quot;4d6cdd3c1dfca35d169b3fe0&quot;, &quot;4acbafc4f964a520fbc420e3&quot;]</td><td>[&quot;wecnvb&quot;, &quot;dpz2kr&quot;]</td><td>[&quot;2012-04-29 09:54:11&quot;, &quot;2013-08-12 19:40:59&quot;]</td><td>2</td></tr><tr><td>10501</td><td>[&quot;4459d2f1f964a520d7321fe3&quot;, &quot;4a88af3ef964a520600720e3&quot;, … &quot;4b12abfcf964a520118c23e3&quot;]</td><td>[&quot;dr5r2p&quot;, &quot;dr5ru7&quot;, … &quot;6gycfp&quot;]</td><td>[&quot;2012-11-09 21:44:43&quot;, &quot;2012-11-10 15:08:48&quot;, … &quot;2013-01-14 08:42:03&quot;]</td><td>15</td></tr><tr><td>11939</td><td>[&quot;4bb56b39ef159c741cc774f7&quot;, &quot;4b6e00b5f964a52095a22ce3&quot;, &quot;4cfa59162d80a143bd0244d8&quot;]</td><td>[&quot;w22rrv&quot;, &quot;w29mxn&quot;, &quot;w29mxe&quot;]</td><td>[&quot;2012-07-12 14:37:36&quot;, &quot;2012-07-12 19:40:02&quot;, &quot;2012-07-12 23:18:44&quot;]</td><td>3</td></tr><tr><td>28332</td><td>[&quot;4ade0e30f964a520466f21e3&quot;]</td><td>[&quot;gcw2kc&quot;]</td><td>[&quot;2013-04-16 16:50:42&quot;]</td><td>1</td></tr><tr><td>3683</td><td>[&quot;4b3df351f964a520819725e3&quot;, &quot;4cf6211464e3721ef15a1fc8&quot;, … &quot;4b6e2853f964a52081ae2ce3&quot;]</td><td>[&quot;w4rqqk&quot;, &quot;w4rqmh&quot;, … &quot;w4rtc2&quot;]</td><td>[&quot;2013-04-08 10:29:41&quot;, &quot;2013-04-08 14:18:11&quot;, … &quot;2013-08-25 11:27:14&quot;]</td><td>4</td></tr><tr><td>&hellip;</td><td>&hellip;</td><td>&hellip;</td><td>&hellip;</td><td>&hellip;</td></tr><tr><td>266857</td><td>[&quot;4cdf853effcf3704ae951a82&quot;, &quot;4e2176d652b1f82ffb9e6853&quot;]</td><td>[&quot;swsxjh&quot;, &quot;sxk9hq&quot;]</td><td>[&quot;2013-06-01 13:59:59&quot;, &quot;2013-09-05 15:58:56&quot;]</td><td>2</td></tr><tr><td>47699</td><td>[&quot;4aa76d20f964a520d24c20e3&quot;, &quot;43a52546f964a520532c1fe3&quot;, … &quot;4ad5300af964a520480221e3&quot;]</td><td>[&quot;dhvr1v&quot;, &quot;dr5x0z&quot;, … &quot;dngy1t&quot;]</td><td>[&quot;2012-04-07 09:58:52&quot;, &quot;2012-04-07 13:43:27&quot;, … &quot;2013-05-04 13:57:03&quot;]</td><td>14</td></tr><tr><td>231481</td><td>[&quot;4aeff0e3f964a52060da21e3&quot;, &quot;4a688ba1f964a52088ca1fe3&quot;, … &quot;4a7856a9f964a5206be51fe3&quot;]</td><td>[&quot;u17062&quot;, &quot;u173zx&quot;, … &quot;u178k6&quot;]</td><td>[&quot;2012-04-11 17:52:15&quot;, &quot;2012-06-08 14:36:25&quot;, … &quot;2013-08-26 11:11:48&quot;]</td><td>13</td></tr><tr><td>45871</td><td>[&quot;4b058884f964a52057cb22e3&quot;, &quot;4b05887cf964a520eec822e3&quot;]</td><td>[&quot;u0ndc2&quot;, &quot;u0nd9h&quot;]</td><td>[&quot;2013-04-25 10:15:18&quot;, &quot;2013-04-25 12:23:05&quot;]</td><td>2</td></tr><tr><td>233172</td><td>[&quot;4b7dc726f964a52006d42fe3&quot;, &quot;4b3a9f23f964a5205b6b25e3&quot;, … &quot;4be4f932d4f7c9b61df92420&quot;]</td><td>[&quot;xnu1tv&quot;, &quot;xnu1tv&quot;, … &quot;xn76ur&quot;]</td><td>[&quot;2013-01-10 09:22:03&quot;, &quot;2013-01-10 09:22:14&quot;, … &quot;2013-07-14 18:23:37&quot;]</td><td>7</td></tr></tbody></table></div>"
            ]
          },
          "metadata": {},
          "execution_count": 34
        }
      ]
    },
    {
      "cell_type": "markdown",
      "source": [
        "we now need to obtain a dataframe containing: each POI, it's geohash, and a set of all the check-ins it appears in\n",
        "this is just one `polars` query away!"
      ],
      "metadata": {
        "id": "w-uFPvXPCCyt"
      }
    },
    {
      "cell_type": "code",
      "source": [
        "pois_checkins = final_sorted.explode([\"pois\", \"geohashes\"]).drop(\"n_checkins\")\n",
        "\n",
        "pois_checkins = (\n",
        "    pois_checkins.with_columns(\n",
        "        [\n",
        "            rs.col(\"geohashes\").map_elements(lambda s: s[:4], rs.String).alias(\"g4\"),\n",
        "        ]\n",
        "    )\n",
        "    .drop(\"geohashes\")\n",
        "    .group_by([\"pois\", \"g4\"])\n",
        "    .agg([rs.col(\"times_sorted\").flatten().alias(\"checkin_times\")])\n",
        ")"
      ],
      "metadata": {
        "execution": {
          "iopub.status.busy": "2024-05-12T17:18:33.046986Z",
          "iopub.execute_input": "2024-05-12T17:18:33.047616Z",
          "iopub.status.idle": "2024-05-12T17:18:33.678728Z",
          "shell.execute_reply.started": "2024-05-12T17:18:33.047583Z",
          "shell.execute_reply": "2024-05-12T17:18:33.677717Z"
        },
        "trusted": true,
        "id": "_nS1s8GECCyt"
      },
      "execution_count": 35,
      "outputs": []
    },
    {
      "cell_type": "code",
      "source": [
        "pois_checkins  # with this we can *efficiently* build our POI-POI spatial-temporal graphs"
      ],
      "metadata": {
        "execution": {
          "iopub.status.busy": "2024-05-12T17:18:33.680539Z",
          "iopub.execute_input": "2024-05-12T17:18:33.681250Z",
          "iopub.status.idle": "2024-05-12T17:18:33.689142Z",
          "shell.execute_reply.started": "2024-05-12T17:18:33.681201Z",
          "shell.execute_reply": "2024-05-12T17:18:33.688082Z"
        },
        "trusted": true,
        "colab": {
          "base_uri": "https://localhost:8080/",
          "height": 443
        },
        "id": "U-2qN1sPCCyt",
        "outputId": "7c38f248-bdba-4f3a-dedc-8741aaafff65"
      },
      "execution_count": 36,
      "outputs": [
        {
          "output_type": "execute_result",
          "data": {
            "text/plain": [
              "shape: (4_455, 3)\n",
              "┌──────────────────────────┬──────┬─────────────────────────────────┐\n",
              "│ pois                     ┆ g4   ┆ checkin_times                   │\n",
              "│ ---                      ┆ ---  ┆ ---                             │\n",
              "│ str                      ┆ str  ┆ list[str]                       │\n",
              "╞══════════════════════════╪══════╪═════════════════════════════════╡\n",
              "│ 4d84f7a71923530cb1f6a1d0 ┆ w5wc ┆ [\"2012-05-04 14:32:17\", \"2012-… │\n",
              "│ 4ac518f4f964a520daae20e3 ┆ gcpv ┆ [\"2012-06-15 11:09:10\", \"2012-… │\n",
              "│ 4b5ab7bff964a520eed128e3 ┆ xn77 ┆ [\"2012-04-10 15:34:32\", \"2012-… │\n",
              "│ 4b05871cf964a520978022e3 ┆ 69y7 ┆ [\"2012-11-22 01:01:34\", \"2013-… │\n",
              "│ 4613c5bef964a52041451fe3 ┆ dr5r ┆ [\"2012-08-09 07:19:47\", \"2012-… │\n",
              "│ …                        ┆ …    ┆ …                               │\n",
              "│ 4bd9a47d67b49c7453962214 ┆ sxk9 ┆ [\"2013-03-16 15:02:15\", \"2013-… │\n",
              "│ 4b3c92e8f964a520428525e3 ┆ 6gyc ┆ [\"2012-04-13 22:13:08\", \"2012-… │\n",
              "│ 4bd1bb4e462cb71342b3da07 ┆ sxk9 ┆ [\"2012-05-27 18:05:59\", \"2012-… │\n",
              "│ 4b877ab0f964a52068c031e3 ┆ u09t ┆ [\"2012-10-25 10:12:00\", \"2012-… │\n",
              "│ 4c5364f5728920a1bb6ffe80 ┆ xnu1 ┆ [\"2013-03-19 19:01:46\", \"2013-… │\n",
              "└──────────────────────────┴──────┴─────────────────────────────────┘"
            ],
            "text/html": [
              "<div><style>\n",
              ".dataframe > thead > tr,\n",
              ".dataframe > tbody > tr {\n",
              "  text-align: right;\n",
              "  white-space: pre-wrap;\n",
              "}\n",
              "</style>\n",
              "<small>shape: (4_455, 3)</small><table border=\"1\" class=\"dataframe\"><thead><tr><th>pois</th><th>g4</th><th>checkin_times</th></tr><tr><td>str</td><td>str</td><td>list[str]</td></tr></thead><tbody><tr><td>&quot;4d84f7a71923530cb1f6a1d0&quot;</td><td>&quot;w5wc&quot;</td><td>[&quot;2012-05-04 14:32:17&quot;, &quot;2012-05-13 15:45:33&quot;, … &quot;2013-04-25 19:29:50&quot;]</td></tr><tr><td>&quot;4ac518f4f964a520daae20e3&quot;</td><td>&quot;gcpv&quot;</td><td>[&quot;2012-06-15 11:09:10&quot;, &quot;2012-11-21 21:48:57&quot;, … &quot;2013-02-26 10:38:17&quot;]</td></tr><tr><td>&quot;4b5ab7bff964a520eed128e3&quot;</td><td>&quot;xn77&quot;</td><td>[&quot;2012-04-10 15:34:32&quot;, &quot;2012-04-10 16:06:53&quot;, … &quot;2012-05-13 19:30:35&quot;]</td></tr><tr><td>&quot;4b05871cf964a520978022e3&quot;</td><td>&quot;69y7&quot;</td><td>[&quot;2012-11-22 01:01:34&quot;, &quot;2013-01-28 20:03:51&quot;, … &quot;2013-08-23 09:02:37&quot;]</td></tr><tr><td>&quot;4613c5bef964a52041451fe3&quot;</td><td>&quot;dr5r&quot;</td><td>[&quot;2012-08-09 07:19:47&quot;, &quot;2012-08-10 05:31:05&quot;, … &quot;2013-01-16 13:37:31&quot;]</td></tr><tr><td>&hellip;</td><td>&hellip;</td><td>&hellip;</td></tr><tr><td>&quot;4bd9a47d67b49c7453962214&quot;</td><td>&quot;sxk9&quot;</td><td>[&quot;2013-03-16 15:02:15&quot;, &quot;2013-03-20 15:58:03&quot;, … &quot;2013-09-04 21:02:51&quot;]</td></tr><tr><td>&quot;4b3c92e8f964a520428525e3&quot;</td><td>&quot;6gyc&quot;</td><td>[&quot;2012-04-13 22:13:08&quot;, &quot;2012-04-14 11:25:52&quot;, … &quot;2012-12-23 11:32:54&quot;]</td></tr><tr><td>&quot;4bd1bb4e462cb71342b3da07&quot;</td><td>&quot;sxk9&quot;</td><td>[&quot;2012-05-27 18:05:59&quot;, &quot;2012-06-17 17:16:54&quot;, … &quot;2013-09-01 02:15:19&quot;]</td></tr><tr><td>&quot;4b877ab0f964a52068c031e3&quot;</td><td>&quot;u09t&quot;</td><td>[&quot;2012-10-25 10:12:00&quot;, &quot;2012-10-26 08:29:37&quot;, … &quot;2012-10-31 19:13:51&quot;]</td></tr><tr><td>&quot;4c5364f5728920a1bb6ffe80&quot;</td><td>&quot;xnu1&quot;</td><td>[&quot;2013-03-19 19:01:46&quot;, &quot;2013-05-17 08:24:23&quot;, … &quot;2013-03-24 14:13:00&quot;]</td></tr></tbody></table></div>"
            ]
          },
          "metadata": {},
          "execution_count": 36
        }
      ]
    },
    {
      "cell_type": "code",
      "source": [
        "def UTC_to_weekslot(utc: str) -> int:\n",
        "    \"\"\"UTC_to_weekslot converts a UTC timestamp to a weekslot.\n",
        "\n",
        "    Parameters\n",
        "    ----------\n",
        "    utc : str\n",
        "        A string representing a UTC timestamp.\n",
        "\n",
        "    Returns\n",
        "    -------\n",
        "    int\n",
        "        A weekslot in the range [0, 56).\n",
        "    \"\"\"\n",
        "\n",
        "    date = datetime.datetime.strptime(utc, \"%Y-%m-%d %H:%M:%S\")\n",
        "    week = date.weekday()\n",
        "    hour = date.hour\n",
        "\n",
        "    return week * 8 + hour // 3"
      ],
      "metadata": {
        "execution": {
          "iopub.status.busy": "2024-05-12T17:18:33.690305Z",
          "iopub.execute_input": "2024-05-12T17:18:33.691028Z",
          "iopub.status.idle": "2024-05-12T17:18:33.702976Z",
          "shell.execute_reply.started": "2024-05-12T17:18:33.691004Z",
          "shell.execute_reply": "2024-05-12T17:18:33.701995Z"
        },
        "trusted": true,
        "id": "XY2TcDbXCCyt"
      },
      "execution_count": 37,
      "outputs": []
    },
    {
      "cell_type": "markdown",
      "source": [
        "Next, we want to encode all of our inputs for our neural networks, this could *probably* be done\n",
        "with polars magic, but it's too delicate and we prefer classic for-looping."
      ],
      "metadata": {
        "id": "8fkRkLFgCCyt"
      }
    },
    {
      "cell_type": "code",
      "source": [
        "encoder_dict = {\n",
        "    \"users\": LabelEncoder(),\n",
        "    \"pois\": LabelEncoder(),\n",
        "    \"g2\": LabelEncoder(),\n",
        "    \"g3\": LabelEncoder(),\n",
        "    \"g4\": LabelEncoder(),\n",
        "    \"g5\": LabelEncoder(),\n",
        "    \"g6\": LabelEncoder(),\n",
        "}\n",
        "\n",
        "encoded_data = {\n",
        "    \"users\": [],\n",
        "    \"pois\": [],\n",
        "    \"g2\": [],\n",
        "    \"g3\": [],\n",
        "    \"g4\": [],\n",
        "    \"g5\": [],\n",
        "    \"g6\": [],\n",
        "}\n",
        "\n",
        "unique_data = {\n",
        "    \"users\": set(),\n",
        "    \"pois\": set(),\n",
        "    \"g2\": set(),\n",
        "    \"g3\": set(),\n",
        "    \"g4\": set(),\n",
        "    \"g5\": set(),\n",
        "    \"g6\": set(),\n",
        "}\n",
        "\n",
        "# quick and dirty encoding:\n",
        "# 1. put every unique symbol in a list\n",
        "# 2. fit the respective encoder\n",
        "# 3. transform the lists\n",
        "\n",
        "for i, row in enumerate(final_sorted.iter_rows()):\n",
        "\n",
        "    user, pois, geohashes, times_sorted, n_checkins = row\n",
        "\n",
        "    g2 = [geo[:2] for geo in geohashes]\n",
        "    g3 = [geo[:3] for geo in geohashes]\n",
        "    g4 = [geo[:4] for geo in geohashes]\n",
        "    g5 = [geo[:5] for geo in geohashes]\n",
        "    g6 = [geo[:6] for geo in geohashes]  # redundant, but I like symmetry\n",
        "\n",
        "    unique_data[\"users\"].add(user)\n",
        "    unique_data[\"pois\"].update(pois)\n",
        "    unique_data[\"g2\"].update(g2)\n",
        "    unique_data[\"g3\"].update(g3)\n",
        "    unique_data[\"g4\"].update(g4)\n",
        "    unique_data[\"g5\"].update(g5)\n",
        "    unique_data[\"g6\"].update(g6)\n",
        "\n",
        "for property, enc, data in zip(\n",
        "    encoder_dict.keys(), encoder_dict.values(), unique_data.values()\n",
        "):\n",
        "    enc.fit(list(data))\n",
        "    encoder_dict[property] = enc"
      ],
      "metadata": {
        "execution": {
          "iopub.status.busy": "2024-05-12T17:18:33.704221Z",
          "iopub.execute_input": "2024-05-12T17:18:33.704998Z",
          "iopub.status.idle": "2024-05-12T17:18:34.088484Z",
          "shell.execute_reply.started": "2024-05-12T17:18:33.704965Z",
          "shell.execute_reply": "2024-05-12T17:18:34.087664Z"
        },
        "trusted": true,
        "id": "ItDfQyVUCCyt"
      },
      "execution_count": 38,
      "outputs": []
    },
    {
      "cell_type": "code",
      "source": [
        "# this could be optimized, right now it takes a while, at least we have a nice progress bar to look at\n",
        "\n",
        "ds_size = len(final_sorted)\n",
        "\n",
        "for i, row in tqdm(enumerate(final_sorted.iter_rows()), total=ds_size):\n",
        "\n",
        "    user, pois, geohashes, times_sorted, n_checkins = row\n",
        "\n",
        "    g2 = [geo[:2] for geo in geohashes]\n",
        "    g3 = [geo[:3] for geo in geohashes]\n",
        "    g4 = [geo[:4] for geo in geohashes]\n",
        "    g5 = [geo[:5] for geo in geohashes]\n",
        "    g6 = [geo[:6] for geo in geohashes]\n",
        "\n",
        "    encoded_data[\"users\"].append(encoder_dict[\"users\"].transform([user])[0])\n",
        "    encoded_data[\"pois\"].append(encoder_dict[\"pois\"].transform(pois))\n",
        "    encoded_data[\"g2\"].append(encoder_dict[\"g2\"].transform(g2))\n",
        "    encoded_data[\"g3\"].append(encoder_dict[\"g3\"].transform(g3))\n",
        "    encoded_data[\"g4\"].append(encoder_dict[\"g4\"].transform(g4))\n",
        "    encoded_data[\"g5\"].append(encoder_dict[\"g5\"].transform(g5))\n",
        "    encoded_data[\"g6\"].append(encoder_dict[\"g6\"].transform(g6))\n",
        "\n",
        "    # sum 1 to all values to avoid 0s\n",
        "    encoded_data[\"users\"][-1] += 1\n",
        "    encoded_data[\"pois\"][-1] += 1\n",
        "    encoded_data[\"g2\"][-1] += 1\n",
        "    encoded_data[\"g3\"][-1] += 1\n",
        "    encoded_data[\"g4\"][-1] += 1\n",
        "    encoded_data[\"g5\"][-1] += 1\n",
        "    encoded_data[\"g6\"][-1] += 1"
      ],
      "metadata": {
        "execution": {
          "iopub.status.busy": "2024-05-12T17:18:34.089730Z",
          "iopub.execute_input": "2024-05-12T17:18:34.089994Z",
          "iopub.status.idle": "2024-05-12T17:22:58.097446Z",
          "shell.execute_reply.started": "2024-05-12T17:18:34.089972Z",
          "shell.execute_reply": "2024-05-12T17:22:58.096536Z"
        },
        "trusted": true,
        "colab": {
          "base_uri": "https://localhost:8080/"
        },
        "id": "Il4AnsMUCCyt",
        "outputId": "ec5b8df5-66fb-4963-857f-2522e471e082"
      },
      "execution_count": 39,
      "outputs": [
        {
          "output_type": "stream",
          "name": "stderr",
          "text": [
            "100%|██████████| 19862/19862 [02:43<00:00, 121.29it/s]\n"
          ]
        }
      ]
    },
    {
      "cell_type": "code",
      "source": [
        "# check that we left space for the padding token\n",
        "min((arr.min() for arr in encoded_data[\"pois\"]))"
      ],
      "metadata": {
        "execution": {
          "iopub.status.busy": "2024-05-12T17:22:58.098663Z",
          "iopub.execute_input": "2024-05-12T17:22:58.098951Z",
          "iopub.status.idle": "2024-05-12T17:22:58.158205Z",
          "shell.execute_reply.started": "2024-05-12T17:22:58.098927Z",
          "shell.execute_reply": "2024-05-12T17:22:58.157305Z"
        },
        "trusted": true,
        "colab": {
          "base_uri": "https://localhost:8080/"
        },
        "id": "nN6GpNCFCCyu",
        "outputId": "ee31eff1-602a-4706-c8a8-87357039e673"
      },
      "execution_count": 40,
      "outputs": [
        {
          "output_type": "execute_result",
          "data": {
            "text/plain": [
              "1"
            ]
          },
          "metadata": {},
          "execution_count": 40
        }
      ]
    },
    {
      "cell_type": "code",
      "source": [
        "pois_checkins"
      ],
      "metadata": {
        "execution": {
          "iopub.status.busy": "2024-05-12T17:22:58.159379Z",
          "iopub.execute_input": "2024-05-12T17:22:58.159644Z",
          "iopub.status.idle": "2024-05-12T17:22:58.172245Z",
          "shell.execute_reply.started": "2024-05-12T17:22:58.159621Z",
          "shell.execute_reply": "2024-05-12T17:22:58.170940Z"
        },
        "trusted": true,
        "colab": {
          "base_uri": "https://localhost:8080/",
          "height": 443
        },
        "id": "enab_ljUCCyu",
        "outputId": "a5108bea-9b64-4adb-e2b8-0b144d787d09"
      },
      "execution_count": 41,
      "outputs": [
        {
          "output_type": "execute_result",
          "data": {
            "text/plain": [
              "shape: (4_455, 3)\n",
              "┌──────────────────────────┬──────┬─────────────────────────────────┐\n",
              "│ pois                     ┆ g4   ┆ checkin_times                   │\n",
              "│ ---                      ┆ ---  ┆ ---                             │\n",
              "│ str                      ┆ str  ┆ list[str]                       │\n",
              "╞══════════════════════════╪══════╪═════════════════════════════════╡\n",
              "│ 4d84f7a71923530cb1f6a1d0 ┆ w5wc ┆ [\"2012-05-04 14:32:17\", \"2012-… │\n",
              "│ 4ac518f4f964a520daae20e3 ┆ gcpv ┆ [\"2012-06-15 11:09:10\", \"2012-… │\n",
              "│ 4b5ab7bff964a520eed128e3 ┆ xn77 ┆ [\"2012-04-10 15:34:32\", \"2012-… │\n",
              "│ 4b05871cf964a520978022e3 ┆ 69y7 ┆ [\"2012-11-22 01:01:34\", \"2013-… │\n",
              "│ 4613c5bef964a52041451fe3 ┆ dr5r ┆ [\"2012-08-09 07:19:47\", \"2012-… │\n",
              "│ …                        ┆ …    ┆ …                               │\n",
              "│ 4bd9a47d67b49c7453962214 ┆ sxk9 ┆ [\"2013-03-16 15:02:15\", \"2013-… │\n",
              "│ 4b3c92e8f964a520428525e3 ┆ 6gyc ┆ [\"2012-04-13 22:13:08\", \"2012-… │\n",
              "│ 4bd1bb4e462cb71342b3da07 ┆ sxk9 ┆ [\"2012-05-27 18:05:59\", \"2012-… │\n",
              "│ 4b877ab0f964a52068c031e3 ┆ u09t ┆ [\"2012-10-25 10:12:00\", \"2012-… │\n",
              "│ 4c5364f5728920a1bb6ffe80 ┆ xnu1 ┆ [\"2013-03-19 19:01:46\", \"2013-… │\n",
              "└──────────────────────────┴──────┴─────────────────────────────────┘"
            ],
            "text/html": [
              "<div><style>\n",
              ".dataframe > thead > tr,\n",
              ".dataframe > tbody > tr {\n",
              "  text-align: right;\n",
              "  white-space: pre-wrap;\n",
              "}\n",
              "</style>\n",
              "<small>shape: (4_455, 3)</small><table border=\"1\" class=\"dataframe\"><thead><tr><th>pois</th><th>g4</th><th>checkin_times</th></tr><tr><td>str</td><td>str</td><td>list[str]</td></tr></thead><tbody><tr><td>&quot;4d84f7a71923530cb1f6a1d0&quot;</td><td>&quot;w5wc&quot;</td><td>[&quot;2012-05-04 14:32:17&quot;, &quot;2012-05-13 15:45:33&quot;, … &quot;2013-04-25 19:29:50&quot;]</td></tr><tr><td>&quot;4ac518f4f964a520daae20e3&quot;</td><td>&quot;gcpv&quot;</td><td>[&quot;2012-06-15 11:09:10&quot;, &quot;2012-11-21 21:48:57&quot;, … &quot;2013-02-26 10:38:17&quot;]</td></tr><tr><td>&quot;4b5ab7bff964a520eed128e3&quot;</td><td>&quot;xn77&quot;</td><td>[&quot;2012-04-10 15:34:32&quot;, &quot;2012-04-10 16:06:53&quot;, … &quot;2012-05-13 19:30:35&quot;]</td></tr><tr><td>&quot;4b05871cf964a520978022e3&quot;</td><td>&quot;69y7&quot;</td><td>[&quot;2012-11-22 01:01:34&quot;, &quot;2013-01-28 20:03:51&quot;, … &quot;2013-08-23 09:02:37&quot;]</td></tr><tr><td>&quot;4613c5bef964a52041451fe3&quot;</td><td>&quot;dr5r&quot;</td><td>[&quot;2012-08-09 07:19:47&quot;, &quot;2012-08-10 05:31:05&quot;, … &quot;2013-01-16 13:37:31&quot;]</td></tr><tr><td>&hellip;</td><td>&hellip;</td><td>&hellip;</td></tr><tr><td>&quot;4bd9a47d67b49c7453962214&quot;</td><td>&quot;sxk9&quot;</td><td>[&quot;2013-03-16 15:02:15&quot;, &quot;2013-03-20 15:58:03&quot;, … &quot;2013-09-04 21:02:51&quot;]</td></tr><tr><td>&quot;4b3c92e8f964a520428525e3&quot;</td><td>&quot;6gyc&quot;</td><td>[&quot;2012-04-13 22:13:08&quot;, &quot;2012-04-14 11:25:52&quot;, … &quot;2012-12-23 11:32:54&quot;]</td></tr><tr><td>&quot;4bd1bb4e462cb71342b3da07&quot;</td><td>&quot;sxk9&quot;</td><td>[&quot;2012-05-27 18:05:59&quot;, &quot;2012-06-17 17:16:54&quot;, … &quot;2013-09-01 02:15:19&quot;]</td></tr><tr><td>&quot;4b877ab0f964a52068c031e3&quot;</td><td>&quot;u09t&quot;</td><td>[&quot;2012-10-25 10:12:00&quot;, &quot;2012-10-26 08:29:37&quot;, … &quot;2012-10-31 19:13:51&quot;]</td></tr><tr><td>&quot;4c5364f5728920a1bb6ffe80&quot;</td><td>&quot;xnu1&quot;</td><td>[&quot;2013-03-19 19:01:46&quot;, &quot;2013-05-17 08:24:23&quot;, … &quot;2013-03-24 14:13:00&quot;]</td></tr></tbody></table></div>"
            ]
          },
          "metadata": {},
          "execution_count": 41
        }
      ]
    },
    {
      "cell_type": "code",
      "source": [
        "# we also encode the graph dataframe so we can build the graphs\n",
        "\n",
        "pois_checkins = (\n",
        "    pois_checkins.lazy()\n",
        "    .with_columns(\n",
        "        [\n",
        "            rs.col(\"pois\").map_elements(\n",
        "                lambda s: encoder_dict[\"pois\"].transform([s])[0] + 1, rs.Int64\n",
        "            ),\n",
        "            rs.col(\"g4\").map_elements(\n",
        "                lambda s: encoder_dict[\"g4\"].transform([s])[0] + 1, rs.Int64\n",
        "            ),  # apply utc_to_weekslot to each timestamp in the list\n",
        "            rs.col(\"checkin_times\").map_elements(\n",
        "                lambda s: [UTC_to_weekslot(date) for date in s], rs.List(rs.Int64)\n",
        "            ),\n",
        "        ]\n",
        "    )\n",
        "    .sort(\"pois\")\n",
        "    .collect()\n",
        ")"
      ],
      "metadata": {
        "execution": {
          "iopub.status.busy": "2024-05-12T17:22:58.175049Z",
          "iopub.execute_input": "2024-05-12T17:22:58.175390Z",
          "iopub.status.idle": "2024-05-12T17:24:05.319129Z",
          "shell.execute_reply.started": "2024-05-12T17:22:58.175357Z",
          "shell.execute_reply": "2024-05-12T17:24:05.318286Z"
        },
        "trusted": true,
        "id": "qyEXUwAcCCyu"
      },
      "execution_count": 42,
      "outputs": []
    },
    {
      "cell_type": "code",
      "source": [
        "# add fictitious POI 0 to the graph, with nonexistent geohash and no timeslot, so we get a 0 row and column for the padding token\n",
        "fake_datapoint = rs.DataFrame(\n",
        "    {\n",
        "        \"pois\": [0],\n",
        "        \"g4\": [pois_checkins[\"g4\"].max() + 42],\n",
        "        \"checkin_times\": [[43]],\n",
        "    }\n",
        ")\n",
        "# this is a lot of work since polars dataframes are immutable by default, we have to run a query to change the 43 into an empty list\n",
        "# we NEED the 43 otherwise polars won't infer the datatype of the list\n",
        "\n",
        "fake_datapoint = fake_datapoint.with_columns(\n",
        "    [rs.col(\"checkin_times\").map_elements(lambda s: [], rs.List(rs.Int64))]\n",
        ")\n",
        "\n",
        "pois_checkins = fake_datapoint.vstack(pois_checkins)"
      ],
      "metadata": {
        "execution": {
          "iopub.status.busy": "2024-05-12T17:24:05.320204Z",
          "iopub.execute_input": "2024-05-12T17:24:05.320557Z",
          "iopub.status.idle": "2024-05-12T17:24:05.942800Z",
          "shell.execute_reply.started": "2024-05-12T17:24:05.320531Z",
          "shell.execute_reply": "2024-05-12T17:24:05.940593Z"
        },
        "trusted": true,
        "id": "w1-P4fDgCCyu"
      },
      "execution_count": 43,
      "outputs": []
    },
    {
      "cell_type": "code",
      "source": [
        "spatial_row = np.array(pois_checkins[\"g4\"].to_list()).reshape(-1, 1)"
      ],
      "metadata": {
        "execution": {
          "iopub.status.busy": "2024-05-12T17:24:05.943611Z",
          "iopub.status.idle": "2024-05-12T17:24:05.943968Z",
          "shell.execute_reply.started": "2024-05-12T17:24:05.943793Z",
          "shell.execute_reply": "2024-05-12T17:24:05.943808Z"
        },
        "trusted": true,
        "id": "i4zaRXGPCCyu"
      },
      "execution_count": 44,
      "outputs": []
    },
    {
      "cell_type": "code",
      "source": [
        "# outer product using equality\n",
        "spatial_graph = (spatial_row == spatial_row.T).astype(np.int32)\n",
        "spatial_graph[0, 0] = (\n",
        "    0  # the fake g4 is still equal to itself, we suppress this equality\n",
        ")\n",
        "spatial_graph = torch.tensor(spatial_graph)"
      ],
      "metadata": {
        "execution": {
          "iopub.status.busy": "2024-05-12T17:24:05.945592Z",
          "iopub.status.idle": "2024-05-12T17:24:05.945908Z",
          "shell.execute_reply.started": "2024-05-12T17:24:05.945754Z",
          "shell.execute_reply": "2024-05-12T17:24:05.945767Z"
        },
        "trusted": true,
        "id": "rAL2xYaSCCyu"
      },
      "execution_count": 45,
      "outputs": []
    },
    {
      "cell_type": "code",
      "source": [
        "temporal_row = pois_checkins[\"checkin_times\"].to_list()"
      ],
      "metadata": {
        "execution": {
          "iopub.status.busy": "2024-05-12T17:24:05.947573Z",
          "iopub.status.idle": "2024-05-12T17:24:05.947885Z",
          "shell.execute_reply.started": "2024-05-12T17:24:05.947733Z",
          "shell.execute_reply": "2024-05-12T17:24:05.947745Z"
        },
        "trusted": true,
        "id": "O5Glb5TaCCyu"
      },
      "execution_count": 46,
      "outputs": []
    },
    {
      "cell_type": "code",
      "source": [
        "temporal_graph = np.zeros((spatial_row.shape[0], spatial_row.shape[0]))"
      ],
      "metadata": {
        "execution": {
          "iopub.status.busy": "2024-05-12T17:24:05.948862Z",
          "iopub.status.idle": "2024-05-12T17:24:05.949163Z",
          "shell.execute_reply.started": "2024-05-12T17:24:05.949010Z",
          "shell.execute_reply": "2024-05-12T17:24:05.949023Z"
        },
        "trusted": true,
        "id": "EKaTa7VNCCyu"
      },
      "execution_count": 47,
      "outputs": []
    },
    {
      "cell_type": "code",
      "source": [
        "temporal_sets = [np.array(list(set(row))) for row in temporal_row]"
      ],
      "metadata": {
        "execution": {
          "iopub.status.busy": "2024-05-12T17:24:05.950134Z",
          "iopub.status.idle": "2024-05-12T17:24:05.950472Z",
          "shell.execute_reply.started": "2024-05-12T17:24:05.950304Z",
          "shell.execute_reply": "2024-05-12T17:24:05.950318Z"
        },
        "trusted": true,
        "id": "sWGavlW5CCyu"
      },
      "execution_count": 48,
      "outputs": []
    },
    {
      "cell_type": "code",
      "source": [
        "time_sets = torch.zeros((len(temporal_sets), 56), dtype=torch.int8)\n",
        "\n",
        "for i, r in enumerate(temporal_row):\n",
        "    indices = torch.tensor(r, dtype=torch.long)\n",
        "    time_sets[i, indices] = 1"
      ],
      "metadata": {
        "execution": {
          "iopub.status.busy": "2024-05-12T17:24:05.951598Z",
          "iopub.status.idle": "2024-05-12T17:24:05.951933Z",
          "shell.execute_reply.started": "2024-05-12T17:24:05.951769Z",
          "shell.execute_reply": "2024-05-12T17:24:05.951783Z"
        },
        "trusted": true,
        "id": "IAWEvt1mCCyu"
      },
      "execution_count": 49,
      "outputs": []
    },
    {
      "cell_type": "code",
      "source": [
        "time_sets.shape"
      ],
      "metadata": {
        "execution": {
          "iopub.status.busy": "2024-05-12T17:24:05.953273Z",
          "iopub.status.idle": "2024-05-12T17:24:05.953611Z",
          "shell.execute_reply.started": "2024-05-12T17:24:05.953450Z",
          "shell.execute_reply": "2024-05-12T17:24:05.953464Z"
        },
        "trusted": true,
        "colab": {
          "base_uri": "https://localhost:8080/"
        },
        "id": "wGjJgRWaCCyu",
        "outputId": "bc0fc92c-39ec-45c9-f5dc-54f36097dc8b"
      },
      "execution_count": 50,
      "outputs": [
        {
          "output_type": "execute_result",
          "data": {
            "text/plain": [
              "torch.Size([4456, 56])"
            ]
          },
          "metadata": {},
          "execution_count": 50
        }
      ]
    },
    {
      "cell_type": "code",
      "source": [
        "# AND outer product\n",
        "\n",
        "intersection = time_sets @ time_sets.T\n",
        "union = time_sets.unsqueeze(1) | time_sets.unsqueeze(0)\n",
        "union = union.sum(dim=2)\n",
        "iou = intersection / union"
      ],
      "metadata": {
        "execution": {
          "iopub.status.busy": "2024-05-12T17:24:05.954704Z",
          "iopub.status.idle": "2024-05-12T17:24:05.955047Z",
          "shell.execute_reply.started": "2024-05-12T17:24:05.954878Z",
          "shell.execute_reply": "2024-05-12T17:24:05.954893Z"
        },
        "trusted": true,
        "id": "Ym-XXavSCCyu"
      },
      "execution_count": 51,
      "outputs": []
    },
    {
      "cell_type": "code",
      "source": [
        "temporal_graph = iou >= 0.9\n",
        "# cast to int\n",
        "temporal_graph = temporal_graph.int()"
      ],
      "metadata": {
        "execution": {
          "iopub.status.busy": "2024-05-12T17:24:05.956260Z",
          "iopub.status.idle": "2024-05-12T17:24:05.956602Z",
          "shell.execute_reply.started": "2024-05-12T17:24:05.956440Z",
          "shell.execute_reply": "2024-05-12T17:24:05.956454Z"
        },
        "trusted": true,
        "id": "uXE6xSDoCCyu"
      },
      "execution_count": 52,
      "outputs": []
    },
    {
      "cell_type": "code",
      "source": [
        "temporal_graph[0, :].sum()"
      ],
      "metadata": {
        "execution": {
          "iopub.status.busy": "2024-05-12T17:24:05.958162Z",
          "iopub.status.idle": "2024-05-12T17:24:05.958505Z",
          "shell.execute_reply.started": "2024-05-12T17:24:05.958345Z",
          "shell.execute_reply": "2024-05-12T17:24:05.958359Z"
        },
        "trusted": true,
        "colab": {
          "base_uri": "https://localhost:8080/"
        },
        "id": "F_e6VXbgCCyu",
        "outputId": "ff44a789-398a-4bb0-8460-20746ac64550"
      },
      "execution_count": 53,
      "outputs": [
        {
          "output_type": "execute_result",
          "data": {
            "text/plain": [
              "tensor(0)"
            ]
          },
          "metadata": {},
          "execution_count": 53
        }
      ]
    },
    {
      "cell_type": "markdown",
      "source": [
        "We print information about the sparsity of the graphs, we note that\n",
        "the sparsity of the graphs is similar to that of the paper."
      ],
      "metadata": {
        "id": "NeCUaMGtCCyu"
      }
    },
    {
      "cell_type": "code",
      "source": [
        "temporal_density = (\n",
        "    temporal_graph.sum() / (temporal_graph.shape[0] * temporal_graph.shape[1])\n",
        ").item()\n",
        "spatial_density = (\n",
        "    spatial_graph.sum() / (spatial_graph.shape[0] * spatial_graph.shape[1])\n",
        ").item()\n",
        "\n",
        "print(f\"Temporal sparsity: {(1 - temporal_density) * 100:.2f}%\")\n",
        "\n",
        "print(f\"Spatial sparsity: {(1 - spatial_density) * 100:.2f}%\")"
      ],
      "metadata": {
        "execution": {
          "iopub.status.busy": "2024-05-12T17:24:05.960356Z",
          "iopub.status.idle": "2024-05-12T17:24:05.960817Z",
          "shell.execute_reply.started": "2024-05-12T17:24:05.960570Z",
          "shell.execute_reply": "2024-05-12T17:24:05.960589Z"
        },
        "trusted": true,
        "colab": {
          "base_uri": "https://localhost:8080/"
        },
        "id": "-xX2oUeoCCyu",
        "outputId": "93b90ca1-80e8-49e9-a70a-e025a94bd770"
      },
      "execution_count": 54,
      "outputs": [
        {
          "output_type": "stream",
          "name": "stdout",
          "text": [
            "Temporal sparsity: 97.05%\n",
            "Spatial sparsity: 96.99%\n"
          ]
        }
      ]
    },
    {
      "cell_type": "markdown",
      "source": [
        "## Metrics\n"
      ],
      "metadata": {
        "id": "-PEXknqyCCyu"
      }
    },
    {
      "cell_type": "markdown",
      "source": [
        "The paper utilizes metrics that check if the target is in the top-k recommendations, we implement them here."
      ],
      "metadata": {
        "id": "KxUt4jMGCCyu"
      }
    },
    {
      "cell_type": "code",
      "source": [
        "class AccuracyAtK(nn.Module):\n",
        "    def __init__(self, k: int):\n",
        "        \"\"\"__init__ initializes the AccuracyAtK module.\n",
        "\n",
        "        Accuracy@k is the proportion of correct predictions in the top-k elements.\n",
        "\n",
        "        Parameters\n",
        "        ----------\n",
        "        k : int\n",
        "            The number of top-k elements to consider.\n",
        "\n",
        "        \"\"\"\n",
        "        super().__init__()\n",
        "        self.k = k\n",
        "\n",
        "    def forward(self, logits: torch.Tensor, targets: torch.Tensor) -> torch.Tensor:\n",
        "        \"\"\"forward computes the accuracy at k between logits and targets.\n",
        "\n",
        "        Parameters\n",
        "        ----------\n",
        "        logits : torch.Tensor\n",
        "            Class probability, either (B, C) or (B, T, C)\n",
        "        targets : torch.Tensor\n",
        "            Ground truth class indices, either (B,) or (B, T)\n",
        "\n",
        "        Returns\n",
        "        -------\n",
        "        torch.Tensor\n",
        "            The accuracy at k, a scalar-tensor.\n",
        "        \"\"\"\n",
        "\n",
        "        # Gotta have at least one nasty python one-liner, in memory of the old\n",
        "        # programming lab 1 bachelor course\n",
        "        return (\n",
        "            (logits.topk(self.k, dim=-1)[1] == targets.unsqueeze(-1))\n",
        "            .any(dim=-1)\n",
        "            .float()\n",
        "            .mean()\n",
        "        )\n",
        "\n",
        "\n",
        "class MeanReciprocalRank(nn.Module):\n",
        "\n",
        "    def __init__(self):\n",
        "        \"\"\"__init__ initializes the MeanReciprocalRank module.\n",
        "\n",
        "        Mean reciprocal rank is the average of the reciprocal ranks of the top-k elements.\n",
        "\n",
        "        \"\"\"\n",
        "        super().__init__()\n",
        "\n",
        "    def forward(self, logits: torch.Tensor, targets: torch.Tensor) -> torch.Tensor:\n",
        "        \"\"\"forward computes the mean reciprocal rank between logits and targets.\n",
        "\n",
        "        Parameters\n",
        "        ----------\n",
        "        logits : torch.Tensor\n",
        "            Class probability\n",
        "        targets : torch.Tensor\n",
        "            Ground truth class indices\n",
        "\n",
        "        Returns\n",
        "        -------\n",
        "        torch.Tensor\n",
        "            The mean reciprocal rank, a scalar-tensor.\n",
        "        \"\"\"\n",
        "\n",
        "        _, indices = logits.topk(logits.shape[-1], dim=-1)\n",
        "        ranks = (indices == targets.unsqueeze(-1)).nonzero()[:, -1].float() + 1\n",
        "        return (1.0 / ranks).mean()"
      ],
      "metadata": {
        "execution": {
          "iopub.status.busy": "2024-05-12T17:24:05.962191Z",
          "iopub.status.idle": "2024-05-12T17:24:05.962666Z",
          "shell.execute_reply.started": "2024-05-12T17:24:05.962437Z",
          "shell.execute_reply": "2024-05-12T17:24:05.962456Z"
        },
        "trusted": true,
        "id": "4lW2sibnCCyv"
      },
      "execution_count": 55,
      "outputs": []
    },
    {
      "cell_type": "markdown",
      "source": [
        "## Dataset and Datamodule\n",
        "\n",
        "We then define a pytorch dataset and a custom collation function that allows us to dynamically\n",
        "pad sequences to the longest one in the batch (as opposed to the longest one in the dataset)\n",
        "as they are loaded during training, this gives us an edge in performance by dramatically reducing the\n",
        "sparsity of our inputs."
      ],
      "metadata": {
        "id": "y5gC9yrsCCyv"
      }
    },
    {
      "cell_type": "code",
      "source": [
        "from torch.utils.data import Dataset\n",
        "from torch.nn.utils.rnn import pad_sequence\n",
        "\n",
        "\n",
        "def rnn_collation_fn(batch):\n",
        "\n",
        "    users = []\n",
        "    pois = []\n",
        "    g2 = []\n",
        "    g3 = []\n",
        "    g4 = []\n",
        "    g5 = []\n",
        "    g6 = []\n",
        "\n",
        "    for user, poi, geo2, geo3, geo4, geo5, geo6 in batch:\n",
        "        users.append(user)\n",
        "        pois.append(poi)\n",
        "        g2.append(geo2)\n",
        "        g3.append(geo3)\n",
        "        g4.append(geo4)\n",
        "        g5.append(geo5)\n",
        "        g6.append(geo6)\n",
        "    seq = (\n",
        "        torch.tensor(users, dtype=torch.long),\n",
        "        pad_sequence(pois, batch_first=True, padding_value=0),\n",
        "        pad_sequence(g2, batch_first=True, padding_value=0),\n",
        "        pad_sequence(g3, batch_first=True, padding_value=0),\n",
        "        pad_sequence(g4, batch_first=True, padding_value=0),\n",
        "        pad_sequence(g5, batch_first=True, padding_value=0),\n",
        "        pad_sequence(g6, batch_first=True, padding_value=0),\n",
        "    )  # build a sequence\n",
        "\n",
        "    x = (\n",
        "        seq[0],\n",
        "        seq[1][:, :-1],\n",
        "        seq[2][:, :-1],\n",
        "        seq[3][:, :-1],\n",
        "        seq[4][:, :-1],\n",
        "        seq[5][:, :-1],\n",
        "        seq[6][:, :-1],\n",
        "    )  # omit the last one for sample\n",
        "\n",
        "    y = (\n",
        "        seq[0],\n",
        "        seq[1][:, 1:],\n",
        "        seq[2][:, 1:],\n",
        "        seq[3][:, 1:],\n",
        "        seq[4][:, 1:],\n",
        "        seq[5][:, 1:],\n",
        "        seq[6][:, 1:],\n",
        "    )  # omit the first one for ground truth\n",
        "\n",
        "    return x, y\n",
        "\n",
        "\n",
        "class CheckinDataset(Dataset):\n",
        "    def __init__(self, data):\n",
        "        self.data = data\n",
        "\n",
        "    def __len__(self):\n",
        "        return len(self.data[\"users\"])\n",
        "\n",
        "    def __getitem__(self, idx):\n",
        "\n",
        "        x = (\n",
        "            torch.tensor(encoded_data[\"users\"][idx], dtype=torch.long),\n",
        "            torch.tensor(encoded_data[\"pois\"][idx], dtype=torch.long),\n",
        "            torch.tensor(encoded_data[\"g2\"][idx], dtype=torch.long),\n",
        "            torch.tensor(encoded_data[\"g3\"][idx], dtype=torch.long),\n",
        "            torch.tensor(encoded_data[\"g4\"][idx], dtype=torch.long),\n",
        "            torch.tensor(encoded_data[\"g5\"][idx], dtype=torch.long),\n",
        "            torch.tensor(encoded_data[\"g6\"][idx], dtype=torch.long),\n",
        "        )\n",
        "\n",
        "        return x"
      ],
      "metadata": {
        "execution": {
          "iopub.status.busy": "2024-05-12T17:24:05.963957Z",
          "iopub.status.idle": "2024-05-12T17:24:05.964417Z",
          "shell.execute_reply.started": "2024-05-12T17:24:05.964169Z",
          "shell.execute_reply": "2024-05-12T17:24:05.964187Z"
        },
        "trusted": true,
        "id": "J0Q9II4HCCyv"
      },
      "execution_count": 56,
      "outputs": []
    },
    {
      "cell_type": "code",
      "source": [
        "class CheckinModule(pl.LightningDataModule):\n",
        "    def __init__(self, encoded_data, batch_size=32, workers=4):\n",
        "        super().__init__()\n",
        "        self.encoded_data = encoded_data\n",
        "        self.batch_size = batch_size\n",
        "        self.workers = workers\n",
        "\n",
        "    def setup(self, stage=None):\n",
        "        self.whole_dataset = CheckinDataset(self.encoded_data)\n",
        "\n",
        "        l = len(self.whole_dataset)\n",
        "\n",
        "        train_size = int(0.8 * l)\n",
        "        val_size = int(0.1 * l)\n",
        "        test_size = l - train_size - val_size\n",
        "\n",
        "        # generate train, val, test datasets by random split\n",
        "        self.train_dataset, self.val_dataset, self.test_dataset = (\n",
        "            torch.utils.data.random_split(\n",
        "                self.whole_dataset, [train_size, val_size, test_size]\n",
        "            )\n",
        "        )\n",
        "\n",
        "    def train_dataloader(self):\n",
        "        return torch.utils.data.DataLoader(\n",
        "            self.train_dataset,\n",
        "            batch_size=self.batch_size,\n",
        "            shuffle=True,\n",
        "            num_workers=self.workers,\n",
        "            collate_fn=rnn_collation_fn,\n",
        "        )\n",
        "\n",
        "    def val_dataloader(self):\n",
        "        return torch.utils.data.DataLoader(\n",
        "            self.val_dataset,\n",
        "            batch_size=self.batch_size,\n",
        "            shuffle=False,\n",
        "            num_workers=self.workers,\n",
        "            collate_fn=rnn_collation_fn,\n",
        "        )\n",
        "\n",
        "    def test_dataloader(self):\n",
        "        return torch.utils.data.DataLoader(\n",
        "            self.test_dataset,\n",
        "            batch_size=self.batch_size,\n",
        "            shuffle=False,\n",
        "            num_workers=self.workers,\n",
        "            collate_fn=rnn_collation_fn,\n",
        "        )\n",
        "\n",
        "    def save(self, whole_path, train_path, val_path, test_path):\n",
        "        torch.save(self.whole_dataset, whole_path)\n",
        "        torch.save(self.train_dataset, train_path)\n",
        "        torch.save(self.val_dataset, val_path)\n",
        "        torch.save(self.test_dataset, test_path)\n",
        "\n",
        "    @staticmethod  # load without instantiating\n",
        "    def load(whole_path, train_path, val_path, test_path):\n",
        "        whole_dataset = torch.load(whole_path)\n",
        "        train_dataset = torch.load(train_path)\n",
        "        val_dataset = torch.load(val_path)\n",
        "        test_dataset = torch.load(test_path)\n",
        "        return whole_dataset, train_dataset, val_dataset, test_dataset"
      ],
      "metadata": {
        "execution": {
          "iopub.status.busy": "2024-05-12T17:24:05.966199Z",
          "iopub.status.idle": "2024-05-12T17:24:05.966662Z",
          "shell.execute_reply.started": "2024-05-12T17:24:05.966434Z",
          "shell.execute_reply": "2024-05-12T17:24:05.966453Z"
        },
        "trusted": true,
        "id": "ncOgD2VxCCyv"
      },
      "execution_count": 57,
      "outputs": []
    },
    {
      "cell_type": "markdown",
      "source": [
        "## Baseline model: LSTM"
      ],
      "metadata": {
        "id": "G_STfUGVCCyv"
      }
    },
    {
      "cell_type": "code",
      "source": [
        "@dataclass\n",
        "class BaselineDimensions:\n",
        "    nuser: int\n",
        "    npoi: int\n",
        "    g2len: int\n",
        "    g3len: int\n",
        "    g4len: int\n",
        "    g5len: int\n",
        "    g6len: int\n",
        "\n",
        "\n",
        "# HMT_RN (Hierarchical Multi-Task Recurrent Network)\n",
        "class HMT_RN(pl.LightningModule):\n",
        "    def __init__(\n",
        "        self,\n",
        "        dimensions: BaselineDimensions,\n",
        "        embedding_dim,\n",
        "        lstm_hidden_dim,\n",
        "        dropout_rate=0.9,  # 0.9 is a lot, but the paper says so.\n",
        "    ):\n",
        "        super(HMT_RN, self).__init__()\n",
        "        self.embedding_dim = embedding_dim\n",
        "        self.hidden_dim = lstm_hidden_dim\n",
        "        self.dims = dimensions\n",
        "\n",
        "        # Embedding layers one for user, one for poi and one for each G@P\n",
        "        self.user_embedding = nn.Embedding(dims.nuser, embedding_dim, padding_idx=0)\n",
        "        self.poi_embedding = nn.Embedding(dimensions.npoi, embedding_dim, padding_idx=0)\n",
        "        self.g2_embed = nn.Embedding(dimensions.g2len, embedding_dim, padding_idx=0)\n",
        "        self.g3_embed = nn.Embedding(dimensions.g3len, embedding_dim, padding_idx=0)\n",
        "        self.g4_embed = nn.Embedding(dimensions.g4len, embedding_dim, padding_idx=0)\n",
        "        self.g5_embed = nn.Embedding(dimensions.g5len, embedding_dim, padding_idx=0)\n",
        "        self.g6_embed = nn.Embedding(dimensions.g6len, embedding_dim, padding_idx=0)\n",
        "\n",
        "        # Dropout layer for embeddings\n",
        "        self.e_drop = nn.Dropout(p=dropout_rate)\n",
        "\n",
        "        # LSTM layer\n",
        "        self.lstm = nn.LSTM(\n",
        "            input_size=embedding_dim, hidden_size=lstm_hidden_dim, batch_first=True\n",
        "        )\n",
        "\n",
        "        # Linear layers for prediction tasks\n",
        "        self.linear_poi = nn.Linear(lstm_hidden_dim + embedding_dim, dimensions.npoi)\n",
        "        self.linear_g2 = nn.Linear(lstm_hidden_dim + embedding_dim, dimensions.g2len)\n",
        "        self.linear_g3 = nn.Linear(lstm_hidden_dim + embedding_dim, dimensions.g3len)\n",
        "        self.linear_g4 = nn.Linear(lstm_hidden_dim + embedding_dim, dimensions.g4len)\n",
        "        self.linear_g5 = nn.Linear(lstm_hidden_dim + embedding_dim, dimensions.g5len)\n",
        "        self.linear_g6 = nn.Linear(lstm_hidden_dim + embedding_dim, dimensions.g6len)\n",
        "\n",
        "        self.criterion = nn.CrossEntropyLoss()\n",
        "\n",
        "        self.top1 = AccuracyAtK(1)\n",
        "        self.top5 = AccuracyAtK(5)\n",
        "        self.top10 = AccuracyAtK(10)\n",
        "        self.top20 = AccuracyAtK(20)\n",
        "        self.mrr = MeanReciprocalRank()\n",
        "\n",
        "        self.apply(self.init_weights)\n",
        "\n",
        "    def init_weights(self, w):\n",
        "\n",
        "        if type(w) == nn.Linear:\n",
        "            nn.init.kaiming_normal_(w.weight)\n",
        "            nn.init.constant_(w.bias, 0)\n",
        "        elif type(w) == nn.LSTM:\n",
        "            for name, param in w.named_parameters():\n",
        "                if \"bias\" in name:\n",
        "                    nn.init.constant_(param, 0)\n",
        "                elif \"weight\" in name:\n",
        "                    nn.init.kaiming_normal_(param)\n",
        "        elif type(w) == nn.Embedding:\n",
        "            nn.init.kaiming_normal_(w.weight)\n",
        "            nn.init.constant_(w.weight[0], 0)\n",
        "\n",
        "    def forward(self, batch):\n",
        "        \"\"\"forward passes the batch through the model.\n",
        "\n",
        "        Parameters\n",
        "        ----------\n",
        "        batch : `tuple[torch.Tensor]`\n",
        "            A tuple of tensors ordered as follows:\n",
        "            (users, poi, x_geoHash2, x_geoHash3, x_geoHash4, x_geoHash5, x_geoHash6)\n",
        "        \"\"\"\n",
        "\n",
        "        users, poi, x_geoHash2, x_geoHash3, x_geoHash4, x_geoHash5, x_geoHash6 = batch\n",
        "\n",
        "        B, T = poi.shape\n",
        "\n",
        "        # make it so  that users are tiled T times\n",
        "        users = users.repeat(T, 1).T\n",
        "\n",
        "        e_user = self.e_drop(self.user_embedding(users))\n",
        "        e_poi = self.e_drop(self.poi_embedding(poi))\n",
        "        e_gap2 = self.e_drop(self.g2_embed(x_geoHash2))\n",
        "        e_gap3 = self.e_drop(self.g3_embed(x_geoHash3))\n",
        "        e_gap4 = self.e_drop(self.g4_embed(x_geoHash4))\n",
        "        e_gap5 = self.e_drop(self.g5_embed(x_geoHash5))\n",
        "        e_gap6 = self.e_drop(self.g6_embed(x_geoHash6))\n",
        "\n",
        "        h_t, c_t = self.lstm(e_poi)\n",
        "\n",
        "        # dense layers\n",
        "        next_poi = self.linear_poi(torch.cat((h_t, e_user), dim=2))\n",
        "        next_g2 = self.linear_g2(torch.cat((h_t, e_gap2), dim=2))\n",
        "        next_g3 = self.linear_g3(torch.cat((h_t, e_gap3), dim=2))\n",
        "        next_g4 = self.linear_g4(torch.cat((h_t, e_gap4), dim=2))\n",
        "        next_g5 = self.linear_g5(torch.cat((h_t, e_gap5), dim=2))\n",
        "        next_g6 = self.linear_g6(torch.cat((h_t, e_gap6), dim=2))\n",
        "\n",
        "        return next_poi, next_g2, next_g3, next_g4, next_g5, next_g6\n",
        "\n",
        "    def training_step(self, batch, batch_idx):\n",
        "        x, y = batch\n",
        "        (\n",
        "            poi_pred,\n",
        "            gap2_pred,\n",
        "            gap3_pred,\n",
        "            gap4_pred,\n",
        "            gap5_pred,\n",
        "            gap6_pred,\n",
        "        ) = self(x)\n",
        "\n",
        "        loss_poi = self.criterion(\n",
        "            poi_pred.reshape(-1, self.dims.npoi), y[1].reshape(-1)\n",
        "        )\n",
        "        loss_gap2 = self.criterion(\n",
        "            gap2_pred.reshape(-1, self.dims.g2len), y[2].reshape(-1)\n",
        "        )\n",
        "        loss_gap3 = self.criterion(\n",
        "            gap3_pred.reshape(-1, self.dims.g3len), y[3].reshape(-1)\n",
        "        )\n",
        "        loss_gap4 = self.criterion(\n",
        "            gap4_pred.reshape(-1, self.dims.g4len), y[4].reshape(-1)\n",
        "        )\n",
        "        loss_gap5 = self.criterion(\n",
        "            gap5_pred.reshape(-1, self.dims.g5len), y[5].reshape(-1)\n",
        "        )\n",
        "        loss_gap6 = self.criterion(\n",
        "            gap6_pred.reshape(-1, self.dims.g6len), y[6].reshape(-1)\n",
        "        )\n",
        "\n",
        "        loss = (\n",
        "            loss_poi + loss_gap2 + loss_gap3 + loss_gap4 + loss_gap5 + loss_gap6\n",
        "        ) / 6\n",
        "        self.log(\"train/loss\", loss)\n",
        "        self.log(\"train/loss_gap2\", loss_gap2)\n",
        "        self.log(\"train/loss_gap3\", loss_gap3)\n",
        "        self.log(\"train/loss_gap4\", loss_gap4)\n",
        "        self.log(\"train/loss_gap5\", loss_gap5)\n",
        "        self.log(\"train/loss_gap6\", loss_gap6)\n",
        "        self.log(\"train/loss_poi\", loss_poi)\n",
        "\n",
        "        return {\"loss\": loss}\n",
        "\n",
        "    def validation_step(self, batch, batch_idx):\n",
        "        x, y = batch\n",
        "        (\n",
        "            poi_pred,\n",
        "            gap2_pred,\n",
        "            gap3_pred,\n",
        "            gap4_pred,\n",
        "            gap5_pred,\n",
        "            gap6_pred,\n",
        "        ) = self(x)\n",
        "\n",
        "        loss_poi = self.criterion(\n",
        "            poi_pred.reshape(-1, self.dims.npoi), y[1].reshape(-1)\n",
        "        )\n",
        "        loss_gap2 = self.criterion(\n",
        "            gap2_pred.reshape(-1, self.dims.g2len), y[2].reshape(-1)\n",
        "        )\n",
        "        loss_gap3 = self.criterion(\n",
        "            gap3_pred.reshape(-1, self.dims.g3len), y[3].reshape(-1)\n",
        "        )\n",
        "        loss_gap4 = self.criterion(\n",
        "            gap4_pred.reshape(-1, self.dims.g4len), y[4].reshape(-1)\n",
        "        )\n",
        "        loss_gap5 = self.criterion(\n",
        "            gap5_pred.reshape(-1, self.dims.g5len), y[5].reshape(-1)\n",
        "        )\n",
        "        loss_gap6 = self.criterion(\n",
        "            gap6_pred.reshape(-1, self.dims.g6len), y[6].reshape(-1)\n",
        "        )\n",
        "\n",
        "        loss = (\n",
        "            loss_poi + loss_gap2 + loss_gap3 + loss_gap4 + loss_gap5 + loss_gap6\n",
        "        ) / 6\n",
        "\n",
        "        top1_acc = self.top1(poi_pred, y[1])\n",
        "        top5_acc = self.top5(poi_pred, y[1])\n",
        "        top10_acc = self.top10(poi_pred, y[1])\n",
        "        top20_acc = self.top20(poi_pred, y[1])\n",
        "        mrr = self.mrr(poi_pred, y[1])\n",
        "\n",
        "        self.log(\"val/loss\", loss)\n",
        "        self.log(\"val/loss_gap2\", loss_gap2)\n",
        "        self.log(\"val/loss_gap3\", loss_gap3)\n",
        "        self.log(\"val/loss_gap4\", loss_gap4)\n",
        "        self.log(\"val/loss_gap5\", loss_gap5)\n",
        "        self.log(\"val/loss_gap6\", loss_gap6)\n",
        "        self.log(\"val/loss_poi\", loss_poi)\n",
        "\n",
        "        # log \"leaderboard\" metrics\n",
        "        self.log(\"val/top1\", top1_acc)\n",
        "        self.log(\"val/top5\", top5_acc)\n",
        "        self.log(\"val/top10\", top10_acc)\n",
        "        self.log(\"val/top20\", top20_acc)\n",
        "        self.log(\"val/mrr\", mrr)\n",
        "\n",
        "        return loss\n",
        "    def test_step(self, batch, batch_idx):\n",
        "        x, y = batch\n",
        "        (\n",
        "            poi_pred,\n",
        "            gap2_pred,\n",
        "            gap3_pred,\n",
        "            gap4_pred,\n",
        "            gap5_pred,\n",
        "            gap6_pred,\n",
        "        ) = self(x)\n",
        "\n",
        "        loss_poi = self.criterion(\n",
        "            poi_pred.reshape(-1, self.dims.npoi), y[1].reshape(-1)\n",
        "        )\n",
        "        loss_gap2 = self.criterion(\n",
        "            gap2_pred.reshape(-1, self.dims.g2len), y[2].reshape(-1)\n",
        "        )\n",
        "        loss_gap3 = self.criterion(\n",
        "            gap3_pred.reshape(-1, self.dims.g3len), y[3].reshape(-1)\n",
        "        )\n",
        "        loss_gap4 = self.criterion(\n",
        "            gap4_pred.reshape(-1, self.dims.g4len), y[4].reshape(-1)\n",
        "        )\n",
        "        loss_gap5 = self.criterion(\n",
        "            gap5_pred.reshape(-1, self.dims.g5len), y[5].reshape(-1)\n",
        "        )\n",
        "        loss_gap6 = self.criterion(\n",
        "            gap6_pred.reshape(-1, self.dims.g6len), y[6].reshape(-1)\n",
        "        )\n",
        "\n",
        "        loss = (\n",
        "            loss_poi + loss_gap2 + loss_gap3 + loss_gap4 + loss_gap5 + loss_gap6\n",
        "        ) / 6\n",
        "\n",
        "        self.log(\"test/loss\", loss)\n",
        "        self.log(\"test/loss_gap2\", loss_gap2)\n",
        "        self.log(\"test/loss_gap3\", loss_gap3)\n",
        "        self.log(\"test/loss_gap4\", loss_gap4)\n",
        "        self.log(\"test/loss_gap5\", loss_gap5)\n",
        "        self.log(\"test/loss_gap6\", loss_gap6)\n",
        "        self.log(\"test/loss_poi\", loss_poi)\n",
        "\n",
        "        top1_acc = self.top1(poi_pred, y[1])\n",
        "        top5_acc = self.top5(poi_pred, y[1])\n",
        "        top10_acc = self.top10(poi_pred, y[1])\n",
        "        top20_acc = self.top20(poi_pred, y[1])\n",
        "        mrr = self.mrr(poi_pred, y[1])\n",
        "\n",
        "        # log \"leaderboard\" metrics\n",
        "        self.log(\"test/top1\", top1_acc)\n",
        "        self.log(\"test/top5\", top5_acc)\n",
        "        self.log(\"test/top10\", top10_acc)\n",
        "        self.log(\"test/top20\", top20_acc)\n",
        "        self.log(\"test/mrr\", mrr)\n",
        "\n",
        "        return {\"loss\": loss}\n",
        "\n",
        "\n",
        "    def configure_optimizers(self):\n",
        "        # Define optimizer and scheduler\n",
        "        optimizer = torch.optim.AdamW(self.parameters(), lr=1e-4, amsgrad=True)\n",
        "        return optimizer"
      ],
      "metadata": {
        "execution": {
          "iopub.status.busy": "2024-05-12T17:24:05.967942Z",
          "iopub.status.idle": "2024-05-12T17:24:05.968403Z",
          "shell.execute_reply.started": "2024-05-12T17:24:05.968154Z",
          "shell.execute_reply": "2024-05-12T17:24:05.968172Z"
        },
        "trusted": true,
        "id": "RcjMtxnFCCyv"
      },
      "execution_count": 74,
      "outputs": []
    },
    {
      "cell_type": "markdown",
      "source": [
        "## Graph Neural Network"
      ],
      "metadata": {
        "id": "aEkguqKVCCyv"
      }
    },
    {
      "cell_type": "code",
      "source": [
        "# GNN Components\n",
        "\n",
        "\n",
        "class attn_LSTM(pl.LightningModule):\n",
        "\n",
        "    def __init__(self, embedding_dim, hidden_dim):\n",
        "        super(attn_LSTM, self).__init__()\n",
        "        self.embedding_dim = embedding_dim\n",
        "        self.hidden_dim = hidden_dim\n",
        "        self.W = nn.Linear(embedding_dim, 4 * hidden_dim)\n",
        "        self.U = nn.Linear(hidden_dim, 4 * hidden_dim)\n",
        "\n",
        "        self.s_W = nn.Linear(embedding_dim, 4 * hidden_dim)\n",
        "        self.t_W = nn.Linear(embedding_dim, 4 * hidden_dim)\n",
        "\n",
        "    def forward(self, x, hidden, spatial, temporal, numTimeSteps):\n",
        "        h_t, c_t = hidden\n",
        "\n",
        "        previous_h_t = h_t\n",
        "        previous_c_t = c_t\n",
        "\n",
        "        allGates_preact = (\n",
        "            self.W(x) + self.U(previous_h_t) + self.s_W(spatial) + self.t_W(temporal)\n",
        "        )\n",
        "\n",
        "        input_g = allGates_preact[:, :, : self.hidden_dim].sigmoid()\n",
        "        forget_g = allGates_preact[\n",
        "            :, :, self.hidden_dim : 2 * self.hidden_dim\n",
        "        ].sigmoid()\n",
        "        output_g = allGates_preact[\n",
        "            :, :, 2 * self.hidden_dim : 3 * self.hidden_dim\n",
        "        ].sigmoid()\n",
        "        c_t_g = allGates_preact[:, :, 3 * self.hidden_dim :].tanh()\n",
        "\n",
        "        c_t = forget_g * previous_c_t + input_g * c_t_g\n",
        "        h_t = output_g * c_t.tanh()\n",
        "\n",
        "        batchSize = x.shape[0]\n",
        "        h_t = h_t.view(batchSize, numTimeSteps, self.hidden_dim)\n",
        "        c_t = c_t.view(batchSize, numTimeSteps, self.hidden_dim)\n",
        "\n",
        "        return h_t, c_t\n",
        "\n",
        "\n",
        "def get_neighbours(adj_matrix, poi):\n",
        "    neigh_indices_list = []\n",
        "    max_length = 0\n",
        "\n",
        "    for batch_poi in poi:\n",
        "        batch_indices = []\n",
        "        for single_poi in batch_poi:\n",
        "            poi_row = adj_matrix[single_poi]\n",
        "            neigh_indices = torch.where(poi_row == 1)[0]\n",
        "            batch_indices.append(neigh_indices)\n",
        "            max_length = max(max_length, len(neigh_indices))\n",
        "\n",
        "        neigh_indices_list.append(batch_indices)\n",
        "\n",
        "    padded_neigh_indices_list = []\n",
        "    for batch_indices in neigh_indices_list:\n",
        "        padded_batch_indices = pad_sequence(\n",
        "            batch_indices, batch_first=True, padding_value=0\n",
        "        )\n",
        "        padded_neigh_indices_list.append(padded_batch_indices)\n",
        "\n",
        "    padded_tensor = torch.stack(padded_neigh_indices_list)\n",
        "\n",
        "    return padded_tensor\n",
        "\n",
        "\n",
        "class GRNSelfAttention(torch.nn.Module):\n",
        "\n",
        "    def __init__(self, hidden_dim, n_heads):\n",
        "\n",
        "        super(GRNSelfAttention, self).__init__()\n",
        "\n",
        "        self.hidden_dim = hidden_dim\n",
        "        self.n_heads = n_heads\n",
        "\n",
        "        self.Wp = nn.Linear(hidden_dim, hidden_dim)  # embeddings to pre-concat\n",
        "        self.Wa = nn.Linear(2 * hidden_dim, hidden_dim)  # concatenation to pre-softmax\n",
        "\n",
        "        # total size = 3 * (hidden_dim) ** 2, quadratic in embedding size\n",
        "\n",
        "    def forward(self, poi, neighbors):\n",
        "        \"\"\"forward\n",
        "\n",
        "        Parameters\n",
        "        ----------\n",
        "        poi: torch.Tensor\n",
        "            A batched tensor of embedded POI vectors, (B x H) where H is the\n",
        "            embedding dimension\n",
        "        neighbors: torch.Tensor\n",
        "            A batched tensor of sequences of embedded POI vectors that are extracted\n",
        "            from an adjacency matrix (temporal or spatial neighbors of POI),\n",
        "            (B x N x H), where N is the number of neighbours of POI, B is the\n",
        "            batch size, H is the embedding dimension, and must be the same as POI\n",
        "\n",
        "        Returns\n",
        "        -------\n",
        "        tuple[torch.Tensor, torch.Tensor]\n",
        "          A tuple containing the self-attention weighted hadamard product of neighbour activations\n",
        "          in the first index, the attention weights in the second index.\n",
        "        \"\"\"\n",
        "        # assert len(poi.shape) == 2, f\"POI tensor must be 2D, got {poi.shape} instead\"\n",
        "        assert (\n",
        "            len(neighbors.shape) == 3\n",
        "        ), f\"Neighbour tensor must be 3D, got {neighbors.shape} instead\"\n",
        "\n",
        "        B, N, H = neighbors.shape\n",
        "\n",
        "        h_poi = self.Wp(poi)\n",
        "        h_n = self.Wp(neighbors)\n",
        "        h_cat = torch.cat([h_poi.expand(B, N, -1), h_n], dim=2)\n",
        "        h_att = F.leaky_relu(self.Wa(h_cat))\n",
        "\n",
        "        alpha = torch.nn.functional.softmax(h_att, dim=1)\n",
        "\n",
        "        p = torch.sum(alpha * h_n, dim=1)\n",
        "        return p, alpha"
      ],
      "metadata": {
        "execution": {
          "iopub.status.busy": "2024-05-12T17:24:05.970176Z",
          "iopub.status.idle": "2024-05-12T17:24:05.970671Z",
          "shell.execute_reply.started": "2024-05-12T17:24:05.970427Z",
          "shell.execute_reply": "2024-05-12T17:24:05.970447Z"
        },
        "trusted": true,
        "id": "BbiQDx04CCyv"
      },
      "execution_count": 75,
      "outputs": []
    },
    {
      "cell_type": "code",
      "source": [
        "# GRN (Graph Recurrent Network)\n",
        "class GRN(pl.LightningModule):\n",
        "\n",
        "    def __init__(\n",
        "        self,\n",
        "        dims: BaselineDimensions,\n",
        "        spatial_graph,\n",
        "        temporal_graph,\n",
        "        hidden_dim,\n",
        "        n_heads,\n",
        "        dropout_rate=0.9,\n",
        "        device=\"cpu\",\n",
        "    ):\n",
        "        super(GRN, self).__init__()\n",
        "        self.hidden_dim = hidden_dim\n",
        "        self.n_heads = n_heads\n",
        "        self.dims = dims\n",
        "\n",
        "        self.spatial_graph = spatial_graph.to(device)\n",
        "        self.temporal_graph = temporal_graph.to(device)\n",
        "\n",
        "        self.spatial_attn = GRNSelfAttention(hidden_dim, n_heads)\n",
        "        self.temporal_attn = GRNSelfAttention(hidden_dim, n_heads)\n",
        "\n",
        "        self.lstm = attn_LSTM(hidden_dim, hidden_dim)\n",
        "\n",
        "        self.dropout = nn.Dropout(dropout_rate)\n",
        "\n",
        "        self.user_embedding = nn.Embedding(dims.nuser, hidden_dim, padding_idx=0)\n",
        "        self.poi_embedding = nn.Embedding(dims.npoi, hidden_dim, padding_idx=0)\n",
        "        self.g2_embed = nn.Embedding(dims.g2len, hidden_dim, padding_idx=0)\n",
        "        self.g3_embed = nn.Embedding(dims.g3len, hidden_dim, padding_idx=0)\n",
        "        self.g4_embed = nn.Embedding(dims.g4len, hidden_dim, padding_idx=0)\n",
        "        self.g5_embed = nn.Embedding(dims.g5len, hidden_dim, padding_idx=0)\n",
        "        self.g6_embed = nn.Embedding(dims.g6len, hidden_dim, padding_idx=0)\n",
        "\n",
        "        self.linear_poi = nn.Linear(2 * hidden_dim, dims.npoi)\n",
        "        self.linear_g2 = nn.Linear(2 * hidden_dim, dims.g2len)\n",
        "        self.linear_g3 = nn.Linear(2 * hidden_dim, dims.g3len)\n",
        "        self.linear_g4 = nn.Linear(2 * hidden_dim, dims.g4len)\n",
        "        self.linear_g5 = nn.Linear(2 * hidden_dim, dims.g5len)\n",
        "        self.linear_g6 = nn.Linear(2 * hidden_dim, dims.g6len)\n",
        "\n",
        "        self.top1 = AccuracyAtK(1)\n",
        "        self.top5 = AccuracyAtK(5)\n",
        "        self.top10 = AccuracyAtK(10)\n",
        "        self.top20 = AccuracyAtK(20)\n",
        "        self.mrr = MeanReciprocalRank()\n",
        "\n",
        "        # extract indices from one-hot neighbor list\n",
        "        self.iota = torch.arange(self.dims.npoi, requires_grad=False, device=device)\n",
        "\n",
        "        self.criterion = nn.CrossEntropyLoss()\n",
        "\n",
        "        self.apply(self.init_weights)\n",
        "\n",
        "    def init_weights(self, w):\n",
        "        if type(w) == nn.Linear:\n",
        "            nn.init.kaiming_normal_(w.weight)\n",
        "            nn.init.constant_(w.bias, 0)\n",
        "        elif type(w) == nn.LSTM:\n",
        "            for name, param in w.named_parameters():\n",
        "                if \"bias\" in name:\n",
        "                    nn.init.constant_(param, 0)\n",
        "                elif \"weight\" in name:\n",
        "                    nn.init.kaiming_normal_(param)\n",
        "        elif type(w) == nn.Embedding:\n",
        "            nn.init.kaiming_normal_(w.weight)\n",
        "            nn.init.constant_(w.weight[0], 0)\n",
        "\n",
        "    def forward(self, x):\n",
        "\n",
        "        users, poi, x_geoHash2, x_geoHash3, x_geoHash4, x_geoHash5, x_geoHash6 = x\n",
        "\n",
        "        B, T = poi.shape\n",
        "\n",
        "        users = users.repeat(T, 1).T\n",
        "\n",
        "        neighbors_spatial = self.spatial_graph[poi]\n",
        "        neighbors_temporal = self.temporal_graph[poi]\n",
        "\n",
        "        e_user = self.dropout(self.user_embedding(users))\n",
        "        e_poi = self.dropout(self.poi_embedding(poi))\n",
        "        e_gap2 = self.dropout(self.g2_embed(x_geoHash2))\n",
        "        e_gap3 = self.dropout(self.g3_embed(x_geoHash3))\n",
        "        e_gap4 = self.dropout(self.g4_embed(x_geoHash4))\n",
        "        e_gap5 = self.dropout(self.g5_embed(x_geoHash5))\n",
        "        e_gap6 = self.dropout(self.g6_embed(x_geoHash6))\n",
        "\n",
        "        spatial_atts = torch.empty((B, T, self.hidden_dim), device=self.device)\n",
        "        temporal_atts = torch.empty((B, T, self.hidden_dim), device=self.device)\n",
        "\n",
        "        for b in range(B):\n",
        "            for t in range(T):\n",
        "\n",
        "                print(b, t)\n",
        "\n",
        "                spatial_neigh = neighbors_spatial[b, t] * self.iota\n",
        "                temporal_neigh = neighbors_temporal[b, t] * self.iota\n",
        "\n",
        "                spatial_neigh = spatial_neigh[spatial_neigh != 0]\n",
        "                temporal_neigh = temporal_neigh[temporal_neigh != 0]\n",
        "\n",
        "                spatial_neigh = spatial_neigh.unsqueeze(0)\n",
        "                temporal_neigh = temporal_neigh.unsqueeze(0)\n",
        "\n",
        "                e_spatial = self.dropout(self.poi_embedding(spatial_neigh))\n",
        "                e_temporal = self.dropout(self.poi_embedding(temporal_neigh))\n",
        "\n",
        "                curr_poi = e_poi[b, t].unsqueeze(0)\n",
        "\n",
        "                spatial_p, _ = self.spatial_attn(curr_poi, e_spatial)\n",
        "                temporal_p, _ = self.temporal_attn(curr_poi, e_temporal)\n",
        "\n",
        "                # we are not using the batch dimension, so we squeeze it\n",
        "                spatial_atts[b, t] = spatial_p.squeeze()\n",
        "                temporal_atts[b, t] = temporal_p.squeeze()\n",
        "\n",
        "        # zero-init LSTM states\n",
        "        h_t = torch.zeros(B, T, self.hidden_dim, device=self.device)\n",
        "        c_t = torch.zeros(B, T, self.hidden_dim, device=self.device)\n",
        "\n",
        "        h_t, c_t = self.lstm(e_poi, (h_t, c_t), spatial_atts, temporal_atts, T)\n",
        "\n",
        "        #Note:the prediction of the poi depends on the embedding o the user\n",
        "        next_poi = self.linear_poi(torch.cat((h_t, e_user), dim=2))\n",
        "        next_g2 = self.linear_g2(torch.cat((h_t, e_gap2), dim=2))\n",
        "        next_g3 = self.linear_g3(torch.cat((h_t, e_gap3), dim=2))\n",
        "        next_g4 = self.linear_g4(torch.cat((h_t, e_gap4), dim=2))\n",
        "        next_g5 = self.linear_g5(torch.cat((h_t, e_gap5), dim=2))\n",
        "        next_g6 = self.linear_g6(torch.cat((h_t, e_gap6), dim=2))\n",
        "\n",
        "        return next_poi, next_g2, next_g3, next_g4, next_g5, next_g6\n",
        "\n",
        "    def training_step(self, batch, batch_idx):\n",
        "        x, y = batch\n",
        "        (\n",
        "            poi_pred,\n",
        "            gap2_pred,\n",
        "            gap3_pred,\n",
        "            gap4_pred,\n",
        "            gap5_pred,\n",
        "            gap6_pred,\n",
        "        ) = self(x)\n",
        "\n",
        "        loss_poi = self.criterion(\n",
        "            poi_pred.reshape(-1, self.dims.npoi), y[1].reshape(-1)\n",
        "        )\n",
        "        loss_gap2 = self.criterion(\n",
        "            gap2_pred.reshape(-1, self.dims.g2len), y[2].reshape(-1)\n",
        "        )\n",
        "        loss_gap3 = self.criterion(\n",
        "            gap3_pred.reshape(-1, self.dims.g3len), y[3].reshape(-1)\n",
        "        )\n",
        "        loss_gap4 = self.criterion(\n",
        "            gap4_pred.reshape(-1, self.dims.g4len), y[4].reshape(-1)\n",
        "        )\n",
        "        loss_gap5 = self.criterion(\n",
        "            gap5_pred.reshape(-1, self.dims.g5len), y[5].reshape(-1)\n",
        "        )\n",
        "        loss_gap6 = self.criterion(\n",
        "            gap6_pred.reshape(-1, self.dims.g6len), y[6].reshape(-1)\n",
        "        )\n",
        "\n",
        "        loss = (\n",
        "            loss_poi + loss_gap2 + loss_gap3 + loss_gap4 + loss_gap5 + loss_gap6\n",
        "        ) / 6\n",
        "        self.log(\"train/loss\", loss)\n",
        "        self.log(\"train/loss_gap2\", loss_gap2)\n",
        "        self.log(\"train/loss_gap3\", loss_gap3)\n",
        "        self.log(\"train/loss_gap4\", loss_gap4)\n",
        "        self.log(\"train/loss_gap5\", loss_gap5)\n",
        "        self.log(\"train/loss_gap6\", loss_gap6)\n",
        "        self.log(\"train/loss_poi\", loss_poi)\n",
        "\n",
        "        return {\"loss\": loss}\n",
        "\n",
        "    def validation_step(self, batch, batch_idx):\n",
        "        x, y = batch\n",
        "        (\n",
        "            poi_pred,\n",
        "            gap2_pred,\n",
        "            gap3_pred,\n",
        "            gap4_pred,\n",
        "            gap5_pred,\n",
        "            gap6_pred,\n",
        "        ) = self(x)\n",
        "\n",
        "        loss_poi = self.criterion(\n",
        "            poi_pred.reshape(-1, self.dims.npoi), y[1].reshape(-1)\n",
        "        )\n",
        "        loss_gap2 = self.criterion(\n",
        "            gap2_pred.reshape(-1, self.dims.g2len), y[2].reshape(-1)\n",
        "        )\n",
        "        loss_gap3 = self.criterion(\n",
        "            gap3_pred.reshape(-1, self.dims.g3len), y[3].reshape(-1)\n",
        "        )\n",
        "        loss_gap4 = self.criterion(\n",
        "            gap4_pred.reshape(-1, self.dims.g4len), y[4].reshape(-1)\n",
        "        )\n",
        "        loss_gap5 = self.criterion(\n",
        "            gap5_pred.reshape(-1, self.dims.g5len), y[5].reshape(-1)\n",
        "        )\n",
        "        loss_gap6 = self.criterion(\n",
        "            gap6_pred.reshape(-1, self.dims.g6len), y[6].reshape(-1)\n",
        "        )\n",
        "\n",
        "        loss = (\n",
        "            loss_poi + loss_gap2 + loss_gap3 + loss_gap4 + loss_gap5 + loss_gap6\n",
        "        ) / 6\n",
        "\n",
        "        self.log(\"val/loss\", loss)\n",
        "        self.log(\"val/loss_gap2\", loss_gap2)\n",
        "        self.log(\"val/loss_gap3\", loss_gap3)\n",
        "        self.log(\"val/loss_gap4\", loss_gap4)\n",
        "        self.log(\"val/loss_gap5\", loss_gap5)\n",
        "        self.log(\"val/loss_gap6\", loss_gap6)\n",
        "        self.log(\"val/loss_poi\", loss_poi)\n",
        "\n",
        "        top1_acc = self.top1(poi_pred, y[1])\n",
        "        top5_acc = self.top5(poi_pred, y[1])\n",
        "        top10_acc = self.top10(poi_pred, y[1])\n",
        "        top20_acc = self.top20(poi_pred, y[1])\n",
        "        mrr = self.mrr(poi_pred, y[1])\n",
        "\n",
        "        # log \"leaderboard\" metrics\n",
        "        self.log(\"val/top1\", top1_acc)\n",
        "        self.log(\"val/top5\", top5_acc)\n",
        "        self.log(\"val/top10\", top10_acc)\n",
        "        self.log(\"val/top20\", top20_acc)\n",
        "        self.log(\"val/mrr\", mrr)\n",
        "\n",
        "\n",
        "        return loss\n",
        "    def test_step(self, batch, batch_idx):\n",
        "        x, y = batch\n",
        "        (\n",
        "            poi_pred,\n",
        "            gap2_pred,\n",
        "            gap3_pred,\n",
        "            gap4_pred,\n",
        "            gap5_pred,\n",
        "            gap6_pred,\n",
        "        ) = self(x)\n",
        "\n",
        "        loss_poi = self.criterion(\n",
        "            poi_pred.reshape(-1, self.dims.npoi), y[1].reshape(-1)\n",
        "        )\n",
        "        loss_gap2 = self.criterion(\n",
        "            gap2_pred.reshape(-1, self.dims.g2len), y[2].reshape(-1)\n",
        "        )\n",
        "        loss_gap3 = self.criterion(\n",
        "            gap3_pred.reshape(-1, self.dims.g3len), y[3].reshape(-1)\n",
        "        )\n",
        "        loss_gap4 = self.criterion(\n",
        "            gap4_pred.reshape(-1, self.dims.g4len), y[4].reshape(-1)\n",
        "        )\n",
        "        loss_gap5 = self.criterion(\n",
        "            gap5_pred.reshape(-1, self.dims.g5len), y[5].reshape(-1)\n",
        "        )\n",
        "        loss_gap6 = self.criterion(\n",
        "            gap6_pred.reshape(-1, self.dims.g6len), y[6].reshape(-1)\n",
        "        )\n",
        "\n",
        "        loss = (\n",
        "            loss_poi + loss_gap2 + loss_gap3 + loss_gap4 + loss_gap5 + loss_gap6\n",
        "        ) / 6\n",
        "\n",
        "        self.log(\"test/loss\", loss)\n",
        "        self.log(\"test/loss_gap2\", loss_gap2)\n",
        "        self.log(\"test/loss_gap3\", loss_gap3)\n",
        "        self.log(\"test/loss_gap4\", loss_gap4)\n",
        "        self.log(\"test/loss_gap5\", loss_gap5)\n",
        "        self.log(\"test/loss_gap6\", loss_gap6)\n",
        "        self.log(\"test/loss_poi\", loss_poi)\n",
        "\n",
        "        top1_acc = self.top1(poi_pred, y[1])\n",
        "        top5_acc = self.top5(poi_pred, y[1])\n",
        "        top10_acc = self.top10(poi_pred, y[1])\n",
        "        top20_acc = self.top20(poi_pred, y[1])\n",
        "        mrr = self.mrr(poi_pred, y[1])\n",
        "\n",
        "        # log \"leaderboard\" metrics\n",
        "        self.log(\"test/top1\", top1_acc)\n",
        "        self.log(\"test/top5\", top5_acc)\n",
        "        self.log(\"test/top10\", top10_acc)\n",
        "        self.log(\"test/top20\", top20_acc)\n",
        "        self.log(\"test/mrr\", mrr)\n",
        "\n",
        "        return {\"loss\": loss}\n",
        "\n",
        "    def configure_optimizers(self):\n",
        "        # Define optimizer and scheduler\n",
        "        optimizer = torch.optim.AdamW(self.parameters(), lr=1e-4, amsgrad=True)\n",
        "        return optimizer"
      ],
      "metadata": {
        "execution": {
          "iopub.status.busy": "2024-05-12T17:24:05.972508Z",
          "iopub.status.idle": "2024-05-12T17:24:05.972959Z",
          "shell.execute_reply.started": "2024-05-12T17:24:05.972722Z",
          "shell.execute_reply": "2024-05-12T17:24:05.972741Z"
        },
        "trusted": true,
        "id": "lpnLqpOSCCyv"
      },
      "execution_count": 76,
      "outputs": []
    },
    {
      "cell_type": "markdown",
      "source": [
        "## Training Loops"
      ],
      "metadata": {
        "id": "kRG9Fg0sCCyw"
      }
    },
    {
      "cell_type": "code",
      "source": [
        "n_users = encoder_dict[\"users\"].classes_.shape[0]\n",
        "n_pois = encoder_dict[\"pois\"].classes_.shape[0]\n",
        "n_g2 = encoder_dict[\"g2\"].classes_.shape[0]\n",
        "n_g3 = encoder_dict[\"g3\"].classes_.shape[0]\n",
        "n_g4 = encoder_dict[\"g4\"].classes_.shape[0]\n",
        "n_g5 = encoder_dict[\"g5\"].classes_.shape[0]\n",
        "n_g6 = encoder_dict[\"g6\"].classes_.shape[0]\n",
        "\n",
        "\n",
        "# account for the padding token\n",
        "dims = BaselineDimensions(\n",
        "    n_users + 1, n_pois + 1, n_g2 + 1, n_g3 + 1, n_g4 + 1, n_g5 + 1, n_g6 + 1\n",
        ")\n",
        "\n",
        "device = torch.device(\"cuda\" if torch.cuda.is_available() else \"cpu\")"
      ],
      "metadata": {
        "execution": {
          "iopub.status.busy": "2024-05-12T17:24:05.974293Z",
          "iopub.status.idle": "2024-05-12T17:24:05.974729Z",
          "shell.execute_reply.started": "2024-05-12T17:24:05.974505Z",
          "shell.execute_reply": "2024-05-12T17:24:05.974523Z"
        },
        "trusted": true,
        "id": "4B3gEpRhCCyw"
      },
      "execution_count": 77,
      "outputs": []
    },
    {
      "cell_type": "code",
      "source": [
        "from lightning.pytorch.loggers import WandbLogger\n",
        "from lightning.pytorch import Trainer\n",
        "\n",
        "TRAIN_BASELINE = True\n",
        "\n",
        "wandb.finish()\n",
        "torch.cuda.empty_cache()\n",
        "# cargo-cult like stuff that is supposed to make you faster\n",
        "torch.set_float32_matmul_precision(\"medium\")\n",
        "torch.backends.cudnn.benchmark = True\n",
        "\n",
        "ds = CheckinModule(encoded_data, batch_size=32, workers=4)\n",
        "\n",
        "wandb.init(project=\"trovailpoi\")\n",
        "\n",
        "classifier_baseline = HMT_RN(dims, embedding_dim=1024, lstm_hidden_dim=1024)\n",
        "wandb_logger = WandbLogger(project=\"trovailpoi\")\n",
        "trainer = Trainer(\n",
        "    max_epochs=10,\n",
        "    accelerator=\"auto\",\n",
        "    devices=[0],\n",
        "    log_every_n_steps=10,\n",
        "    logger=wandb_logger,\n",
        "    strategy=\"auto\",\n",
        "    callbacks=[\n",
        "        torchpl.callbacks.LearningRateMonitor(logging_interval=\"step\"),\n",
        "        torchpl.callbacks.ModelCheckpoint(\n",
        "            monitor=\"val/loss\",\n",
        "            mode=\"min\",\n",
        "            save_top_k=1,\n",
        "            save_last=True,\n",
        "            filename=\"best_model\",\n",
        "        ),\n",
        "        torchpl.callbacks.EarlyStopping(\n",
        "            monitor=\"val/loss\", patience=3, min_delta=0.0005, mode=\"min\"\n",
        "        ),\n",
        "    ],\n",
        ")\n",
        "\n",
        "if TRAIN_BASELINE:\n",
        "    trainer.fit(model=classifier_baseline, datamodule=ds)\n",
        "wandb.finish()"
      ],
      "metadata": {
        "execution": {
          "iopub.status.busy": "2024-05-12T17:24:05.976446Z",
          "iopub.status.idle": "2024-05-12T17:24:05.976757Z",
          "shell.execute_reply.started": "2024-05-12T17:24:05.976604Z",
          "shell.execute_reply": "2024-05-12T17:24:05.976617Z"
        },
        "trusted": true,
        "colab": {
          "base_uri": "https://localhost:8080/",
          "height": 1000,
          "referenced_widgets": [
            "fb646ce9b1a349f6b4ad8a2a3af5bd1e",
            "23c9017b099a43e99ce10d26fd9f54d0",
            "849ab56b5ed441009e955aa896b6ce22",
            "39ee39836c244d6cab7db53bb9faea62",
            "ba7deaa122a048dcafc3b0a48c23bb1e",
            "ffaa7bb42bde464e93537d3d260e0edc",
            "4540e73ec9ab4a46b649cae0d5c9afca",
            "c5bdaf2fcc8349998ea77ab1ce80001e",
            "b202e4f8dc844ae282b297113fd17edf",
            "6656c807ac6d4585beec91cd3f6d9624",
            "fc4d7c3653cc471aaa44892aa3a59802",
            "a4ab209f2463426fa998cee2a1e40e7f",
            "ae42c3b0f3404b67bd0f8cd72ab525ec",
            "299bdfcf70f04eb58c2b52c5ef5e84e3",
            "5922b45a308c4ddc9eda7541d54b97b4",
            "c8165d1ddf5b4540973760c577c91a58",
            "5a310faf587f4a93b62129c55ee30a5c",
            "dcc559fb7cb84892836e4133b21d018e",
            "c8179094b684483aa855df1acb06fb54",
            "4694b8ce86374a16bb966518b57d1111",
            "f8e7bd4868a84aa99b3ae0943b9e2043",
            "d5e2e463fbb84417ace2c7e415c70159",
            "03d356af8db547deaacbedb4461d53dc",
            "275683ebe91d418b9c3b0bcb29ca7dfa",
            "9a208e522c8c4407ab946f01ae54fa81",
            "57b61781948246dfb790184e075df669",
            "ee2d504578e847578d08b89ef57cadc2",
            "684963c545174069a58faa42fd4776c7",
            "06d27894aa19484296c2519c5772fa9f",
            "c7f0e4a99471452fa4955c721d7d072c",
            "c9e289074d2d4a878f4b2e654f29fbe0",
            "e355d3b2685544adb111820354f1d898",
            "035c7b7d6d3f4f2ba18bb105cbf75f83",
            "587565a96d93491484fa72066bbe34dc",
            "03465e11e8d14479b76144af6a031a4f",
            "b38fd9b0cefc4a42b9a6a94dc7b4bfbe",
            "9db698082a1a475caa9a21b8022a4721",
            "df4b4876a8714116b3882287a63ffad9",
            "60557390e5564ea0b3eeaed48ea045cb",
            "bd38cf1416d94729a69ecdda437afd43",
            "d6a426663d4441f482bc7c6f7eb94395",
            "11155393c4af4cd88055d54aedd02b3c",
            "c2d7945a654347f0bdae1fb9d0bc8c8b",
            "cb75c276e4f44c86abd0a1252f9dd70a",
            "a20481d9ef464ee7ab810aaa2e7b2813",
            "572bb74e2f454c34b3179d40cac9d87d",
            "0aa799f5f9ec46b795b7271ad7756d19",
            "f58adf598d4f439aa01df23a2e42f7f7",
            "b8347227362c43dba258cbf2aa4f6114",
            "b4e6a94e632f4e319777175ff203e38f",
            "cc6f96383edb4fd3bf6ed23374079750",
            "c73421cc979e4ddcac839b4b05aba5ee",
            "03759999793c49a3aa59de38ea5e2d73",
            "df6c7ba21c414ad0811a8b8fca8bc6a1",
            "72051a2fb3eb472287758412f59f19ec",
            "cb095fe679ce4e5dafdf2e3966a6f93b",
            "e130c3d76c194b4d9e94c45cb9a839c8",
            "1be78034b7594d43b9b15569a8aa4ab1",
            "6b3d5ddde12947579d12463fbe7e70f9",
            "67ddd24949ab4dab923c45f3a2e9d907",
            "2819a06e9cd840a3ac7defdae50e120d",
            "59deb841409f4ddc9a66ff32b197f911",
            "3186f387ac1440ff890b42c50cf0be03",
            "fdd7abedfca44d7ea8f1cd542774a28b",
            "9f957877f24b4b56a5a0be07bb86c050",
            "eaebfce755fc4c2d9cf1ec4b4af8e691",
            "c2fccea032bc4c09a422498ad9369f7b",
            "cc19acd1ade34a23b00811b8093d6d49",
            "68327419e08240daa56f2c6e50cca133",
            "679f86dd3bc84bd981534dc8b26b073a",
            "8e62d628f1864501846527b0e9519814",
            "12a4b5a6868e41099bd437aa8d7aab08",
            "93aff04e6a83495cb72b000994e333cf",
            "865a27b009f44c7382cdd4b4830a71a8",
            "f599d8eea0944cb88523942da0ebaf1b",
            "2425e83ebad54c7b8291e37577aa9113",
            "51e5687abb344df6b23fb24f0a156726",
            "6ae9bdb6c6f74690a587a5623a8c3a3b",
            "3bcc000f7f48489aaf6efa03a93acff1",
            "baffb046be0b4905803094a835c57c58",
            "441c665127064879a5f7184a9a7d3769",
            "86f7b9c993d8410bb3562ce252e7470c",
            "d680d68d69c748fb8d4f83861ddb7bc1",
            "65dbf2b386484a36abe87f2bd4f426d7",
            "238a9ddc399c4e90b10e97de15873ca4",
            "49fce3730adc4cd5835de19293aa892d",
            "2a6818f1fd44490391ae6d52c6ec22b5",
            "83cb87477d0c455bb778f8689a49e737",
            "13dc45dbc9c04d5288295e4f4070157e",
            "a328ebf2b4dc4ca69e4d96b967cc7642",
            "f979ad2ce61e4167a450243a3aab3c21",
            "9cca967eec784c03b0cfd93e1132a982",
            "2c054315a1c54c12a3cb036b2822f5b0",
            "6ca363ea33d34c928010a1f7b7de5504",
            "f0d8b3aebe8a48468c5cab818ac7f0ea",
            "6731898aa84540b8808ac97925039da2",
            "a6a749ce14cc46eaa8ec372eb4fe5a5e",
            "9680c33ce0fd45a1879635d75a94df75",
            "0e254043461c480594d4992093b05670",
            "94a4425919f34e988c94aa18dd3ee8c8",
            "170984fe055f4de39b897d3829bc4bfe",
            "212a38a92b0b483f8ad90da86f922a1e",
            "2d905db3741d4c1285e2dac9d24446c2",
            "411bc1c926104e42be2e23f9ccf216d9",
            "38b4a5e40eb546bd9d2006acaa303c34",
            "ab4f339d592f415ab5da4f6bc1c3d5be",
            "6278f1c2cd444326836a90f3ef3de52d",
            "adff96449ffe4358995420ac03c9cabf",
            "a0310ed76ea54a198befc9100c5b9915",
            "7054fd959413408cb141454188caa2db",
            "a8a0cab694ff4f3195261cac1c6dea29",
            "df3e2e3e4b0b46069a4c27a9ed1c7836",
            "c0851da8db8c4eb9a3ed1e0dbab6fa64",
            "12fb7fffc99e453db5f3acc3837fb938",
            "4acc29df03f94fb9ad6c35a29270bde5",
            "6d3611a2f6cd4038b7b4d4e406a49362",
            "a6c252f41aa84d3db45ae5ad51519497",
            "1c443ab37d1d4069a6375de946c96361",
            "88ce9030d97a4458b7acab2ebfc2aa23",
            "d23d44a4246f440e984fba58e7afd73a",
            "b6be2518b855446d99775748b8683cd9",
            "d8bf72888be348e08d335b8b7bd67033",
            "d582fdef653f48c0a4a9b101e523ef84",
            "71a88542745c40cca56316fac6e824f0",
            "922feb7c13a1482c82d37b0c2ed9acd7",
            "29f59a77e76a446eb9a436c5b417666a",
            "c8ff862bbc57429d95428f17b3196e07",
            "ab436497788943bda5d8d5f5cc68d3a5",
            "e0413811794f4271bc0ef3d78c99d49e",
            "784fad221a9e4f9e86527a242cb1c5bf",
            "75ea5d9e559c4a58adcece6b6c2da05d",
            "6332fd87f1154724946b29dd06e0aef9",
            "9974a975dc8a4f029b5623296ecc603d",
            "3c02898e3bc84c4097640bac915732ab",
            "3dbea929ac36440b8486703bab3447a8",
            "5b796f57523f46b78d52e066634595b6",
            "e27b7a8ef9ee4b1c95bc5d53dc4be8d9",
            "dd557cabe5b64b728f2d24c339268254",
            "4a708e1d9499492692a8040bef21d930",
            "b97a7e42b5c44400aea38b047972265b"
          ]
        },
        "id": "ZJsxdOY5CCyw",
        "outputId": "4a3210cd-bbea-47bb-ba2d-1f52eab5852c"
      },
      "execution_count": 78,
      "outputs": [
        {
          "output_type": "display_data",
          "data": {
            "text/plain": [
              "<IPython.core.display.HTML object>"
            ],
            "text/html": [
              "Tracking run with wandb version 0.17.0"
            ]
          },
          "metadata": {}
        },
        {
          "output_type": "display_data",
          "data": {
            "text/plain": [
              "<IPython.core.display.HTML object>"
            ],
            "text/html": [
              "Run data is saved locally in <code>/content/wandb/run-20240515_074157-dnpotgxc</code>"
            ]
          },
          "metadata": {}
        },
        {
          "output_type": "display_data",
          "data": {
            "text/plain": [
              "<IPython.core.display.HTML object>"
            ],
            "text/html": [
              "Syncing run <strong><a href='https://wandb.ai/poi-dl-airo/trovailpoi/runs/dnpotgxc' target=\"_blank\">valiant-durian-209</a></strong> to <a href='https://wandb.ai/poi-dl-airo/trovailpoi' target=\"_blank\">Weights & Biases</a> (<a href='https://wandb.me/run' target=\"_blank\">docs</a>)<br/>"
            ]
          },
          "metadata": {}
        },
        {
          "output_type": "display_data",
          "data": {
            "text/plain": [
              "<IPython.core.display.HTML object>"
            ],
            "text/html": [
              " View project at <a href='https://wandb.ai/poi-dl-airo/trovailpoi' target=\"_blank\">https://wandb.ai/poi-dl-airo/trovailpoi</a>"
            ]
          },
          "metadata": {}
        },
        {
          "output_type": "display_data",
          "data": {
            "text/plain": [
              "<IPython.core.display.HTML object>"
            ],
            "text/html": [
              " View run at <a href='https://wandb.ai/poi-dl-airo/trovailpoi/runs/dnpotgxc' target=\"_blank\">https://wandb.ai/poi-dl-airo/trovailpoi/runs/dnpotgxc</a>"
            ]
          },
          "metadata": {}
        },
        {
          "output_type": "stream",
          "name": "stderr",
          "text": [
            "INFO: GPU available: True (cuda), used: True\n",
            "INFO:lightning.pytorch.utilities.rank_zero:GPU available: True (cuda), used: True\n",
            "INFO: TPU available: False, using: 0 TPU cores\n",
            "INFO:lightning.pytorch.utilities.rank_zero:TPU available: False, using: 0 TPU cores\n",
            "INFO: IPU available: False, using: 0 IPUs\n",
            "INFO:lightning.pytorch.utilities.rank_zero:IPU available: False, using: 0 IPUs\n",
            "INFO: HPU available: False, using: 0 HPUs\n",
            "INFO:lightning.pytorch.utilities.rank_zero:HPU available: False, using: 0 HPUs\n",
            "/usr/local/lib/python3.10/dist-packages/lightning/pytorch/loggers/wandb.py:396: There is a wandb run already in progress and newly created instances of `WandbLogger` will reuse this run. If this is not desired, call `wandb.finish()` before instantiating `WandbLogger`.\n",
            "INFO: LOCAL_RANK: 0 - CUDA_VISIBLE_DEVICES: [0]\n",
            "INFO:lightning.pytorch.accelerators.cuda:LOCAL_RANK: 0 - CUDA_VISIBLE_DEVICES: [0]\n",
            "INFO: \n",
            "   | Name           | Type               | Params\n",
            "-------------------------------------------------------\n",
            "0  | user_embedding | Embedding          | 20.3 M\n",
            "1  | poi_embedding  | Embedding          | 4.6 M \n",
            "2  | g2_embed       | Embedding          | 114 K \n",
            "3  | g3_embed       | Embedding          | 287 K \n",
            "4  | g4_embed       | Embedding          | 561 K \n",
            "5  | g5_embed       | Embedding          | 1.4 M \n",
            "6  | g6_embed       | Embedding          | 2.8 M \n",
            "7  | e_drop         | Dropout            | 0     \n",
            "8  | lstm           | LSTM               | 8.4 M \n",
            "9  | linear_poi     | Linear             | 9.1 M \n",
            "10 | linear_g2      | Linear             | 229 K \n",
            "11 | linear_g3      | Linear             | 575 K \n",
            "12 | linear_g4      | Linear             | 1.1 M \n",
            "13 | linear_g5      | Linear             | 2.8 M \n",
            "14 | linear_g6      | Linear             | 5.7 M \n",
            "15 | criterion      | CrossEntropyLoss   | 0     \n",
            "16 | top1           | AccuracyAtK        | 0     \n",
            "17 | top5           | AccuracyAtK        | 0     \n",
            "18 | top10          | AccuracyAtK        | 0     \n",
            "19 | top20          | AccuracyAtK        | 0     \n",
            "20 | mrr            | MeanReciprocalRank | 0     \n",
            "-------------------------------------------------------\n",
            "58.0 M    Trainable params\n",
            "0         Non-trainable params\n",
            "58.0 M    Total params\n",
            "231.868   Total estimated model params size (MB)\n",
            "INFO:lightning.pytorch.callbacks.model_summary:\n",
            "   | Name           | Type               | Params\n",
            "-------------------------------------------------------\n",
            "0  | user_embedding | Embedding          | 20.3 M\n",
            "1  | poi_embedding  | Embedding          | 4.6 M \n",
            "2  | g2_embed       | Embedding          | 114 K \n",
            "3  | g3_embed       | Embedding          | 287 K \n",
            "4  | g4_embed       | Embedding          | 561 K \n",
            "5  | g5_embed       | Embedding          | 1.4 M \n",
            "6  | g6_embed       | Embedding          | 2.8 M \n",
            "7  | e_drop         | Dropout            | 0     \n",
            "8  | lstm           | LSTM               | 8.4 M \n",
            "9  | linear_poi     | Linear             | 9.1 M \n",
            "10 | linear_g2      | Linear             | 229 K \n",
            "11 | linear_g3      | Linear             | 575 K \n",
            "12 | linear_g4      | Linear             | 1.1 M \n",
            "13 | linear_g5      | Linear             | 2.8 M \n",
            "14 | linear_g6      | Linear             | 5.7 M \n",
            "15 | criterion      | CrossEntropyLoss   | 0     \n",
            "16 | top1           | AccuracyAtK        | 0     \n",
            "17 | top5           | AccuracyAtK        | 0     \n",
            "18 | top10          | AccuracyAtK        | 0     \n",
            "19 | top20          | AccuracyAtK        | 0     \n",
            "20 | mrr            | MeanReciprocalRank | 0     \n",
            "-------------------------------------------------------\n",
            "58.0 M    Trainable params\n",
            "0         Non-trainable params\n",
            "58.0 M    Total params\n",
            "231.868   Total estimated model params size (MB)\n"
          ]
        },
        {
          "output_type": "display_data",
          "data": {
            "text/plain": [
              "Sanity Checking: |          | 0/? [00:00<?, ?it/s]"
            ],
            "application/vnd.jupyter.widget-view+json": {
              "version_major": 2,
              "version_minor": 0,
              "model_id": "fb646ce9b1a349f6b4ad8a2a3af5bd1e"
            }
          },
          "metadata": {}
        },
        {
          "output_type": "stream",
          "name": "stderr",
          "text": [
            "/usr/lib/python3.10/multiprocessing/popen_fork.py:66: RuntimeWarning: os.fork() was called. os.fork() is incompatible with multithreaded code, and JAX is multithreaded, so this will likely lead to a deadlock.\n",
            "  self.pid = os.fork()\n"
          ]
        },
        {
          "output_type": "display_data",
          "data": {
            "text/plain": [
              "Training: |          | 0/? [00:00<?, ?it/s]"
            ],
            "application/vnd.jupyter.widget-view+json": {
              "version_major": 2,
              "version_minor": 0,
              "model_id": "a4ab209f2463426fa998cee2a1e40e7f"
            }
          },
          "metadata": {}
        },
        {
          "output_type": "display_data",
          "data": {
            "text/plain": [
              "Validation: |          | 0/? [00:00<?, ?it/s]"
            ],
            "application/vnd.jupyter.widget-view+json": {
              "version_major": 2,
              "version_minor": 0,
              "model_id": "03d356af8db547deaacbedb4461d53dc"
            }
          },
          "metadata": {}
        },
        {
          "output_type": "display_data",
          "data": {
            "text/plain": [
              "Validation: |          | 0/? [00:00<?, ?it/s]"
            ],
            "application/vnd.jupyter.widget-view+json": {
              "version_major": 2,
              "version_minor": 0,
              "model_id": "587565a96d93491484fa72066bbe34dc"
            }
          },
          "metadata": {}
        },
        {
          "output_type": "display_data",
          "data": {
            "text/plain": [
              "Validation: |          | 0/? [00:00<?, ?it/s]"
            ],
            "application/vnd.jupyter.widget-view+json": {
              "version_major": 2,
              "version_minor": 0,
              "model_id": "a20481d9ef464ee7ab810aaa2e7b2813"
            }
          },
          "metadata": {}
        },
        {
          "output_type": "display_data",
          "data": {
            "text/plain": [
              "Validation: |          | 0/? [00:00<?, ?it/s]"
            ],
            "application/vnd.jupyter.widget-view+json": {
              "version_major": 2,
              "version_minor": 0,
              "model_id": "cb095fe679ce4e5dafdf2e3966a6f93b"
            }
          },
          "metadata": {}
        },
        {
          "output_type": "display_data",
          "data": {
            "text/plain": [
              "Validation: |          | 0/? [00:00<?, ?it/s]"
            ],
            "application/vnd.jupyter.widget-view+json": {
              "version_major": 2,
              "version_minor": 0,
              "model_id": "c2fccea032bc4c09a422498ad9369f7b"
            }
          },
          "metadata": {}
        },
        {
          "output_type": "display_data",
          "data": {
            "text/plain": [
              "Validation: |          | 0/? [00:00<?, ?it/s]"
            ],
            "application/vnd.jupyter.widget-view+json": {
              "version_major": 2,
              "version_minor": 0,
              "model_id": "6ae9bdb6c6f74690a587a5623a8c3a3b"
            }
          },
          "metadata": {}
        },
        {
          "output_type": "display_data",
          "data": {
            "text/plain": [
              "Validation: |          | 0/? [00:00<?, ?it/s]"
            ],
            "application/vnd.jupyter.widget-view+json": {
              "version_major": 2,
              "version_minor": 0,
              "model_id": "13dc45dbc9c04d5288295e4f4070157e"
            }
          },
          "metadata": {}
        },
        {
          "output_type": "display_data",
          "data": {
            "text/plain": [
              "Validation: |          | 0/? [00:00<?, ?it/s]"
            ],
            "application/vnd.jupyter.widget-view+json": {
              "version_major": 2,
              "version_minor": 0,
              "model_id": "94a4425919f34e988c94aa18dd3ee8c8"
            }
          },
          "metadata": {}
        },
        {
          "output_type": "display_data",
          "data": {
            "text/plain": [
              "Validation: |          | 0/? [00:00<?, ?it/s]"
            ],
            "application/vnd.jupyter.widget-view+json": {
              "version_major": 2,
              "version_minor": 0,
              "model_id": "a8a0cab694ff4f3195261cac1c6dea29"
            }
          },
          "metadata": {}
        },
        {
          "output_type": "display_data",
          "data": {
            "text/plain": [
              "Validation: |          | 0/? [00:00<?, ?it/s]"
            ],
            "application/vnd.jupyter.widget-view+json": {
              "version_major": 2,
              "version_minor": 0,
              "model_id": "d8bf72888be348e08d335b8b7bd67033"
            }
          },
          "metadata": {}
        },
        {
          "output_type": "stream",
          "name": "stderr",
          "text": [
            "INFO: `Trainer.fit` stopped: `max_epochs=10` reached.\n",
            "INFO:lightning.pytorch.utilities.rank_zero:`Trainer.fit` stopped: `max_epochs=10` reached.\n"
          ]
        },
        {
          "output_type": "display_data",
          "data": {
            "text/plain": [
              "VBox(children=(Label(value='0.002 MB of 0.002 MB uploaded\\r'), FloatProgress(value=1.0, max=1.0)))"
            ],
            "application/vnd.jupyter.widget-view+json": {
              "version_major": 2,
              "version_minor": 0,
              "model_id": "9974a975dc8a4f029b5623296ecc603d"
            }
          },
          "metadata": {}
        },
        {
          "output_type": "display_data",
          "data": {
            "text/plain": [
              "<IPython.core.display.HTML object>"
            ],
            "text/html": [
              "<style>\n",
              "    table.wandb td:nth-child(1) { padding: 0 10px; text-align: left ; width: auto;} td:nth-child(2) {text-align: left ; width: 100%}\n",
              "    .wandb-row { display: flex; flex-direction: row; flex-wrap: wrap; justify-content: flex-start; width: 100% }\n",
              "    .wandb-col { display: flex; flex-direction: column; flex-basis: 100%; flex: 1; padding: 10px; }\n",
              "    </style>\n",
              "<div class=\"wandb-row\"><div class=\"wandb-col\"><h3>Run history:</h3><br/><table class=\"wandb\"><tr><td>epoch</td><td>▁▁▁▁▂▂▂▂▃▃▃▃▃▃▃▃▄▄▄▄▅▅▅▅▆▆▆▆▆▆▆▆▇▇▇▇████</td></tr><tr><td>lr-AdamW</td><td>▁▁▁▁▁▁▁▁▁▁▁▁▁▁▁▁▁▁▁▁▁▁▁▁▁▁▁▁▁▁▁▁▁▁▁▁▁▁▁▁</td></tr><tr><td>train/loss</td><td>█▄▄▄▅▄▃▅▄▄▃▃▃▃▃▃▃▅▄▄▂▂▁▃▃▃▄▂▄▁▃▂▃▃▂▄▂▃▃▃</td></tr><tr><td>train/loss_gap2</td><td>█▅▅▃▄▃▂▄▄▃▂▂▃▂▂▂▂▃▂▂▂▁▁▂▂▂▂▁▃▁▂▂▂▂▁▂▂▂▂▂</td></tr><tr><td>train/loss_gap3</td><td>█▅▅▄▅▄▃▅▄▃▂▃▃▃▃▃▃▄▃▃▂▂▁▂▃▃▃▂▃▁▂▂▂▂▁▃▂▂▃▂</td></tr><tr><td>train/loss_gap4</td><td>█▄▅▄▅▄▃▅▄▄▃▃▃▃▂▃▃▅▃▄▂▂▁▂▃▃▃▂▃▁▃▂▂▂▁▃▂▂▃▂</td></tr><tr><td>train/loss_gap5</td><td>█▄▅▄▅▄▃▅▅▄▄▃▄▄▃▃▄▅▄▅▃▂▁▃▄▃▄▂▄▁▄▃▃▃▂▄▃▃▄▃</td></tr><tr><td>train/loss_gap6</td><td>█▄▄▄▅▄▃▅▄▄▄▃▃▄▃▃▄▅▄▅▃▃▁▃▃▄▄▂▄▁▄▃▃▃▂▄▃▃▄▃</td></tr><tr><td>train/loss_poi</td><td>█▄▄▄▅▅▃▅▅▄▄▄▃▄▃▄▄▅▅▅▃▃▁▄▄▄▅▂▄▁▅▃▄▄▂▄▃▃▅▃</td></tr><tr><td>trainer/global_step</td><td>▁▁▁▂▂▂▂▂▂▃▃▃▃▃▄▄▄▄▄▄▅▅▅▅▅▅▆▆▆▆▆▇▇▇▇▇▇███</td></tr><tr><td>val/loss</td><td>█▆▄▄▃▃▂▂▁▁</td></tr><tr><td>val/loss_gap2</td><td>█▄▃▂▂▁▁▁▁▁</td></tr><tr><td>val/loss_gap3</td><td>█▅▄▃▃▂▂▁▁▁</td></tr><tr><td>val/loss_gap4</td><td>█▆▅▄▃▂▂▂▁▁</td></tr><tr><td>val/loss_gap5</td><td>█▆▅▄▄▃▂▂▁▁</td></tr><tr><td>val/loss_gap6</td><td>█▆▅▄▄▃▃▂▁▁</td></tr><tr><td>val/loss_poi</td><td>█▆▅▄▄▃▂▂▁▁</td></tr><tr><td>val/mrr</td><td>▁▃▄▄▅▅▆▇▇█</td></tr><tr><td>val/top1</td><td>▁▆▇▇▇▇▇███</td></tr><tr><td>val/top10</td><td>▁▂▂▃▃▄▆▇██</td></tr><tr><td>val/top20</td><td>▁▂▂▂▃▃▅▇██</td></tr><tr><td>val/top5</td><td>▁▃▃▃▅▅▆▇██</td></tr></table><br/></div><div class=\"wandb-col\"><h3>Run summary:</h3><br/><table class=\"wandb\"><tr><td>epoch</td><td>9</td></tr><tr><td>lr-AdamW</td><td>0.0001</td></tr><tr><td>train/loss</td><td>1.54228</td></tr><tr><td>train/loss_gap2</td><td>0.56976</td></tr><tr><td>train/loss_gap3</td><td>0.92082</td></tr><tr><td>train/loss_gap4</td><td>1.18657</td></tr><tr><td>train/loss_gap5</td><td>1.76243</td></tr><tr><td>train/loss_gap6</td><td>2.24559</td></tr><tr><td>train/loss_poi</td><td>2.56853</td></tr><tr><td>trainer/global_step</td><td>4969</td></tr><tr><td>val/loss</td><td>1.29936</td></tr><tr><td>val/loss_gap2</td><td>0.39539</td></tr><tr><td>val/loss_gap3</td><td>0.61456</td></tr><tr><td>val/loss_gap4</td><td>0.88173</td></tr><tr><td>val/loss_gap5</td><td>1.49841</td></tr><tr><td>val/loss_gap6</td><td>2.0262</td></tr><tr><td>val/loss_poi</td><td>2.37987</td></tr><tr><td>val/mrr</td><td>0.71769</td></tr><tr><td>val/top1</td><td>0.70975</td></tr><tr><td>val/top10</td><td>0.73104</td></tr><tr><td>val/top20</td><td>0.74432</td></tr><tr><td>val/top5</td><td>0.72144</td></tr></table><br/></div></div>"
            ]
          },
          "metadata": {}
        },
        {
          "output_type": "display_data",
          "data": {
            "text/plain": [
              "<IPython.core.display.HTML object>"
            ],
            "text/html": [
              " View run <strong style=\"color:#cdcd00\">valiant-durian-209</strong> at: <a href='https://wandb.ai/poi-dl-airo/trovailpoi/runs/dnpotgxc' target=\"_blank\">https://wandb.ai/poi-dl-airo/trovailpoi/runs/dnpotgxc</a><br/> View project at: <a href='https://wandb.ai/poi-dl-airo/trovailpoi' target=\"_blank\">https://wandb.ai/poi-dl-airo/trovailpoi</a><br/>Synced 5 W&B file(s), 0 media file(s), 0 artifact file(s) and 0 other file(s)"
            ]
          },
          "metadata": {}
        },
        {
          "output_type": "display_data",
          "data": {
            "text/plain": [
              "<IPython.core.display.HTML object>"
            ],
            "text/html": [
              "Find logs at: <code>./wandb/run-20240515_074157-dnpotgxc/logs</code>"
            ]
          },
          "metadata": {}
        }
      ]
    },
    {
      "cell_type": "code",
      "source": [
        "TRAIN_GNN = False\n",
        "\n",
        "batch_size = 60\n",
        "wandb.finish()\n",
        "torch.cuda.empty_cache()\n",
        "# cargo-cult like stuff that is supposed to make you faster\n",
        "torch.set_float32_matmul_precision(\"medium\")\n",
        "torch.backends.cudnn.benchmark = True\n",
        "\n",
        "wandb.init(project=\"trovailpoi\")\n",
        "\n",
        "classifier_gnn = GRN(\n",
        "    dims,\n",
        "    spatial_graph,\n",
        "    temporal_graph,\n",
        "    hidden_dim=1024,\n",
        "    n_heads=1,\n",
        "    dropout_rate=0.9,\n",
        "    device=device,\n",
        ")\n",
        "wandb_logger = WandbLogger(project=\"trovailpoi\")\n",
        "trainer = Trainer(\n",
        "    max_epochs=40,\n",
        "    accelerator=\"auto\",\n",
        "    devices=[0],\n",
        "    log_every_n_steps=10,\n",
        "    logger=wandb_logger,\n",
        "    strategy=\"auto\",\n",
        "    callbacks=[\n",
        "        torchpl.callbacks.LearningRateMonitor(logging_interval=\"step\"),\n",
        "        torchpl.callbacks.ModelCheckpoint(\n",
        "            monitor=\"val/loss\",\n",
        "            mode=\"min\",\n",
        "            save_top_k=1,\n",
        "            save_last=True,\n",
        "            filename=\"best_model\",\n",
        "        ),\n",
        "        torchpl.callbacks.EarlyStopping(\n",
        "            monitor=\"val/loss\", patience=3, min_delta=0.0005, mode=\"min\"\n",
        "        ),\n",
        "    ],\n",
        ")\n",
        "\n",
        "if TRAIN_GNN:\n",
        "    trainer.fit(model=classifier_gnn, datamodule=ds)\n",
        "wandb.finish()"
      ],
      "metadata": {
        "execution": {
          "iopub.status.busy": "2024-05-12T17:24:05.977696Z",
          "iopub.status.idle": "2024-05-12T17:24:05.978051Z",
          "shell.execute_reply.started": "2024-05-12T17:24:05.977878Z",
          "shell.execute_reply": "2024-05-12T17:24:05.977893Z"
        },
        "trusted": true,
        "colab": {
          "base_uri": "https://localhost:8080/",
          "height": 312,
          "referenced_widgets": [
            "6826e33995e445d890d87e00f9afe01b",
            "ecc225ac58544c4693470a44cc6a31b8",
            "d2070870e4a1447fbd60cec033432da4",
            "d203553967d54151b65cdfee727d0e8d",
            "a6f3b28ada4b4549be1ba3f27e7848dd",
            "2bd61cf304b841449e417c8067409141",
            "26864c49980c41b7ba6a83f9e241fde6",
            "f644b17561e54cdc98c97e26e66b64be"
          ]
        },
        "id": "ZltK8HPhCCyw",
        "outputId": "25fd819f-7568-4f9d-bbdf-c911446969fd"
      },
      "execution_count": 79,
      "outputs": [
        {
          "output_type": "display_data",
          "data": {
            "text/plain": [
              "<IPython.core.display.HTML object>"
            ],
            "text/html": [
              "Tracking run with wandb version 0.17.0"
            ]
          },
          "metadata": {}
        },
        {
          "output_type": "display_data",
          "data": {
            "text/plain": [
              "<IPython.core.display.HTML object>"
            ],
            "text/html": [
              "Run data is saved locally in <code>/content/wandb/run-20240515_074608-vz2kvie9</code>"
            ]
          },
          "metadata": {}
        },
        {
          "output_type": "display_data",
          "data": {
            "text/plain": [
              "<IPython.core.display.HTML object>"
            ],
            "text/html": [
              "Syncing run <strong><a href='https://wandb.ai/poi-dl-airo/trovailpoi/runs/vz2kvie9' target=\"_blank\">ethereal-shape-210</a></strong> to <a href='https://wandb.ai/poi-dl-airo/trovailpoi' target=\"_blank\">Weights & Biases</a> (<a href='https://wandb.me/run' target=\"_blank\">docs</a>)<br/>"
            ]
          },
          "metadata": {}
        },
        {
          "output_type": "display_data",
          "data": {
            "text/plain": [
              "<IPython.core.display.HTML object>"
            ],
            "text/html": [
              " View project at <a href='https://wandb.ai/poi-dl-airo/trovailpoi' target=\"_blank\">https://wandb.ai/poi-dl-airo/trovailpoi</a>"
            ]
          },
          "metadata": {}
        },
        {
          "output_type": "display_data",
          "data": {
            "text/plain": [
              "<IPython.core.display.HTML object>"
            ],
            "text/html": [
              " View run at <a href='https://wandb.ai/poi-dl-airo/trovailpoi/runs/vz2kvie9' target=\"_blank\">https://wandb.ai/poi-dl-airo/trovailpoi/runs/vz2kvie9</a>"
            ]
          },
          "metadata": {}
        },
        {
          "output_type": "stream",
          "name": "stderr",
          "text": [
            "INFO: GPU available: True (cuda), used: True\n",
            "INFO:lightning.pytorch.utilities.rank_zero:GPU available: True (cuda), used: True\n",
            "INFO: TPU available: False, using: 0 TPU cores\n",
            "INFO:lightning.pytorch.utilities.rank_zero:TPU available: False, using: 0 TPU cores\n",
            "INFO: IPU available: False, using: 0 IPUs\n",
            "INFO:lightning.pytorch.utilities.rank_zero:IPU available: False, using: 0 IPUs\n",
            "INFO: HPU available: False, using: 0 HPUs\n",
            "INFO:lightning.pytorch.utilities.rank_zero:HPU available: False, using: 0 HPUs\n"
          ]
        },
        {
          "output_type": "display_data",
          "data": {
            "text/plain": [
              "VBox(children=(Label(value='0.012 MB of 0.012 MB uploaded\\r'), FloatProgress(value=1.0, max=1.0)))"
            ],
            "application/vnd.jupyter.widget-view+json": {
              "version_major": 2,
              "version_minor": 0,
              "model_id": "6826e33995e445d890d87e00f9afe01b"
            }
          },
          "metadata": {}
        },
        {
          "output_type": "display_data",
          "data": {
            "text/plain": [
              "<IPython.core.display.HTML object>"
            ],
            "text/html": [
              " View run <strong style=\"color:#cdcd00\">ethereal-shape-210</strong> at: <a href='https://wandb.ai/poi-dl-airo/trovailpoi/runs/vz2kvie9' target=\"_blank\">https://wandb.ai/poi-dl-airo/trovailpoi/runs/vz2kvie9</a><br/> View project at: <a href='https://wandb.ai/poi-dl-airo/trovailpoi' target=\"_blank\">https://wandb.ai/poi-dl-airo/trovailpoi</a><br/>Synced 4 W&B file(s), 0 media file(s), 0 artifact file(s) and 0 other file(s)"
            ]
          },
          "metadata": {}
        },
        {
          "output_type": "display_data",
          "data": {
            "text/plain": [
              "<IPython.core.display.HTML object>"
            ],
            "text/html": [
              "Find logs at: <code>./wandb/run-20240515_074608-vz2kvie9/logs</code>"
            ]
          },
          "metadata": {}
        }
      ]
    },
    {
      "cell_type": "code",
      "source": [
        "checkpoint_path=\"/content/trovailpoi/dnpotgxc/checkpoints/best_model.ckpt\"\n",
        "# Load the trained model from the checkpoint\n",
        "trained_model = HMT_RN.load_from_checkpoint(\n",
        "    checkpoint_path,\n",
        "    dimensions=dims,\n",
        "    embedding_dim=1024,  # Example embedding dimension\n",
        "    lstm_hidden_dim=1024,  # Example LSTM hidden dimension\n",
        "    dropout_rate=0.9  # Example dropout rate\n",
        ")\n",
        "\n",
        "# Create a test dataloader\n",
        "# Assuming you have a method `test_dataloader` in your data module\n",
        "test_loader = ds.test_dataloader()  # Replace `ds` with your actual data module instance\n",
        "\n",
        "# Instantiate the trainer\n",
        "trainer = Trainer(accelerator=\"auto\", devices=[0])\n",
        "\n",
        "# Test the model\n",
        "results = trainer.test(trained_model, test_loader)\n",
        "\n",
        "# Print the test results\n",
        "print(results)"
      ],
      "metadata": {
        "colab": {
          "base_uri": "https://localhost:8080/",
          "height": 601,
          "referenced_widgets": [
            "ba37f8d6eeb64774ab6ae0a15d96da4e",
            "5858154d8ecc4b87bd10dbfd4f30728a",
            "d095dd19794d4cfabd86b9f0e2bbb72c",
            "12d0389891394aa9b00c8582d36a1ed0",
            "95c612873e1f47039f401bb323d4794f",
            "fbb91fd5ae834375890a46c7f44b2b76",
            "53434ca655ab4985a05d2b324b0e2f1b",
            "29929fe904b44a9682ee3a614f3fda23",
            "6385da398013454dbcb22f429e9ef17b",
            "485016baeaa3406e9d64041b84715bd9",
            "777d841131c14b2fbc973517aea107d7"
          ]
        },
        "id": "abzS8kwAKPPu",
        "outputId": "834a411d-b0cd-4903-e04c-8b9db8ed5f7b"
      },
      "execution_count": 81,
      "outputs": [
        {
          "output_type": "stream",
          "name": "stderr",
          "text": [
            "INFO: GPU available: True (cuda), used: True\n",
            "INFO:lightning.pytorch.utilities.rank_zero:GPU available: True (cuda), used: True\n",
            "INFO: TPU available: False, using: 0 TPU cores\n",
            "INFO:lightning.pytorch.utilities.rank_zero:TPU available: False, using: 0 TPU cores\n",
            "INFO: IPU available: False, using: 0 IPUs\n",
            "INFO:lightning.pytorch.utilities.rank_zero:IPU available: False, using: 0 IPUs\n",
            "INFO: HPU available: False, using: 0 HPUs\n",
            "INFO:lightning.pytorch.utilities.rank_zero:HPU available: False, using: 0 HPUs\n",
            "WARNING: Missing logger folder: /content/lightning_logs\n",
            "WARNING:lightning.pytorch.loggers.tensorboard:Missing logger folder: /content/lightning_logs\n",
            "INFO: LOCAL_RANK: 0 - CUDA_VISIBLE_DEVICES: [0]\n",
            "INFO:lightning.pytorch.accelerators.cuda:LOCAL_RANK: 0 - CUDA_VISIBLE_DEVICES: [0]\n",
            "/usr/lib/python3.10/multiprocessing/popen_fork.py:66: RuntimeWarning: os.fork() was called. os.fork() is incompatible with multithreaded code, and JAX is multithreaded, so this will likely lead to a deadlock.\n",
            "  self.pid = os.fork()\n"
          ]
        },
        {
          "output_type": "display_data",
          "data": {
            "text/plain": [
              "Testing: |          | 0/? [00:00<?, ?it/s]"
            ],
            "application/vnd.jupyter.widget-view+json": {
              "version_major": 2,
              "version_minor": 0,
              "model_id": "ba37f8d6eeb64774ab6ae0a15d96da4e"
            }
          },
          "metadata": {}
        },
        {
          "output_type": "display_data",
          "data": {
            "text/plain": [
              "┏━━━━━━━━━━━━━━━━━━━━━━━━━━━┳━━━━━━━━━━━━━━━━━━━━━━━━━━━┓\n",
              "┃\u001b[1m \u001b[0m\u001b[1m       Test metric       \u001b[0m\u001b[1m \u001b[0m┃\u001b[1m \u001b[0m\u001b[1m      DataLoader 0       \u001b[0m\u001b[1m \u001b[0m┃\n",
              "┡━━━━━━━━━━━━━━━━━━━━━━━━━━━╇━━━━━━━━━━━━━━━━━━━━━━━━━━━┩\n",
              "│\u001b[36m \u001b[0m\u001b[36m        test/loss        \u001b[0m\u001b[36m \u001b[0m│\u001b[35m \u001b[0m\u001b[35m   1.3686010837554932    \u001b[0m\u001b[35m \u001b[0m│\n",
              "│\u001b[36m \u001b[0m\u001b[36m     test/loss_gap2      \u001b[0m\u001b[36m \u001b[0m│\u001b[35m \u001b[0m\u001b[35m   0.41747593879699707   \u001b[0m\u001b[35m \u001b[0m│\n",
              "│\u001b[36m \u001b[0m\u001b[36m     test/loss_gap3      \u001b[0m\u001b[36m \u001b[0m│\u001b[35m \u001b[0m\u001b[35m   0.6351560950279236    \u001b[0m\u001b[35m \u001b[0m│\n",
              "│\u001b[36m \u001b[0m\u001b[36m     test/loss_gap4      \u001b[0m\u001b[36m \u001b[0m│\u001b[35m \u001b[0m\u001b[35m   0.9218786954879761    \u001b[0m\u001b[35m \u001b[0m│\n",
              "│\u001b[36m \u001b[0m\u001b[36m     test/loss_gap5      \u001b[0m\u001b[36m \u001b[0m│\u001b[35m \u001b[0m\u001b[35m    1.586342692375183    \u001b[0m\u001b[35m \u001b[0m│\n",
              "│\u001b[36m \u001b[0m\u001b[36m     test/loss_gap6      \u001b[0m\u001b[36m \u001b[0m│\u001b[35m \u001b[0m\u001b[35m    2.142220973968506    \u001b[0m\u001b[35m \u001b[0m│\n",
              "│\u001b[36m \u001b[0m\u001b[36m      test/loss_poi      \u001b[0m\u001b[36m \u001b[0m│\u001b[35m \u001b[0m\u001b[35m   2.5085294246673584    \u001b[0m\u001b[35m \u001b[0m│\n",
              "│\u001b[36m \u001b[0m\u001b[36m        test/mrr         \u001b[0m\u001b[36m \u001b[0m│\u001b[35m \u001b[0m\u001b[35m   0.7015239596366882    \u001b[0m\u001b[35m \u001b[0m│\n",
              "│\u001b[36m \u001b[0m\u001b[36m        test/top1        \u001b[0m\u001b[36m \u001b[0m│\u001b[35m \u001b[0m\u001b[35m   0.6932862997055054    \u001b[0m\u001b[35m \u001b[0m│\n",
              "│\u001b[36m \u001b[0m\u001b[36m       test/top10        \u001b[0m\u001b[36m \u001b[0m│\u001b[35m \u001b[0m\u001b[35m    0.716318666934967    \u001b[0m\u001b[35m \u001b[0m│\n",
              "│\u001b[36m \u001b[0m\u001b[36m       test/top20        \u001b[0m\u001b[36m \u001b[0m│\u001b[35m \u001b[0m\u001b[35m   0.7304448485374451    \u001b[0m\u001b[35m \u001b[0m│\n",
              "│\u001b[36m \u001b[0m\u001b[36m        test/top5        \u001b[0m\u001b[36m \u001b[0m│\u001b[35m \u001b[0m\u001b[35m   0.7058032751083374    \u001b[0m\u001b[35m \u001b[0m│\n",
              "└───────────────────────────┴───────────────────────────┘\n"
            ],
            "text/html": [
              "<pre style=\"white-space:pre;overflow-x:auto;line-height:normal;font-family:Menlo,'DejaVu Sans Mono',consolas,'Courier New',monospace\">┏━━━━━━━━━━━━━━━━━━━━━━━━━━━┳━━━━━━━━━━━━━━━━━━━━━━━━━━━┓\n",
              "┃<span style=\"font-weight: bold\">        Test metric        </span>┃<span style=\"font-weight: bold\">       DataLoader 0        </span>┃\n",
              "┡━━━━━━━━━━━━━━━━━━━━━━━━━━━╇━━━━━━━━━━━━━━━━━━━━━━━━━━━┩\n",
              "│<span style=\"color: #008080; text-decoration-color: #008080\">         test/loss         </span>│<span style=\"color: #800080; text-decoration-color: #800080\">    1.3686010837554932     </span>│\n",
              "│<span style=\"color: #008080; text-decoration-color: #008080\">      test/loss_gap2       </span>│<span style=\"color: #800080; text-decoration-color: #800080\">    0.41747593879699707    </span>│\n",
              "│<span style=\"color: #008080; text-decoration-color: #008080\">      test/loss_gap3       </span>│<span style=\"color: #800080; text-decoration-color: #800080\">    0.6351560950279236     </span>│\n",
              "│<span style=\"color: #008080; text-decoration-color: #008080\">      test/loss_gap4       </span>│<span style=\"color: #800080; text-decoration-color: #800080\">    0.9218786954879761     </span>│\n",
              "│<span style=\"color: #008080; text-decoration-color: #008080\">      test/loss_gap5       </span>│<span style=\"color: #800080; text-decoration-color: #800080\">     1.586342692375183     </span>│\n",
              "│<span style=\"color: #008080; text-decoration-color: #008080\">      test/loss_gap6       </span>│<span style=\"color: #800080; text-decoration-color: #800080\">     2.142220973968506     </span>│\n",
              "│<span style=\"color: #008080; text-decoration-color: #008080\">       test/loss_poi       </span>│<span style=\"color: #800080; text-decoration-color: #800080\">    2.5085294246673584     </span>│\n",
              "│<span style=\"color: #008080; text-decoration-color: #008080\">         test/mrr          </span>│<span style=\"color: #800080; text-decoration-color: #800080\">    0.7015239596366882     </span>│\n",
              "│<span style=\"color: #008080; text-decoration-color: #008080\">         test/top1         </span>│<span style=\"color: #800080; text-decoration-color: #800080\">    0.6932862997055054     </span>│\n",
              "│<span style=\"color: #008080; text-decoration-color: #008080\">        test/top10         </span>│<span style=\"color: #800080; text-decoration-color: #800080\">     0.716318666934967     </span>│\n",
              "│<span style=\"color: #008080; text-decoration-color: #008080\">        test/top20         </span>│<span style=\"color: #800080; text-decoration-color: #800080\">    0.7304448485374451     </span>│\n",
              "│<span style=\"color: #008080; text-decoration-color: #008080\">         test/top5         </span>│<span style=\"color: #800080; text-decoration-color: #800080\">    0.7058032751083374     </span>│\n",
              "└───────────────────────────┴───────────────────────────┘\n",
              "</pre>\n"
            ]
          },
          "metadata": {}
        },
        {
          "output_type": "stream",
          "name": "stdout",
          "text": [
            "[{'test/loss': 1.3686010837554932, 'test/loss_gap2': 0.41747593879699707, 'test/loss_gap3': 0.6351560950279236, 'test/loss_gap4': 0.9218786954879761, 'test/loss_gap5': 1.586342692375183, 'test/loss_gap6': 2.142220973968506, 'test/loss_poi': 2.5085294246673584, 'test/top1': 0.6932862997055054, 'test/top5': 0.7058032751083374, 'test/top10': 0.716318666934967, 'test/top20': 0.7304448485374451, 'test/mrr': 0.7015239596366882}]\n"
          ]
        }
      ]
    },
    {
      "cell_type": "markdown",
      "source": [
        "## Scrapbook for Experimentation\n",
        "\n",
        "Ignore all code below, it's just for quick prototyping"
      ],
      "metadata": {
        "id": "ik7z0iyRCCyw"
      }
    }
  ]
}