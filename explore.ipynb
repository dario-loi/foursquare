{
 "cells": [
  {
   "cell_type": "markdown",
   "metadata": {},
   "source": [
    "# Foursquare dataset next-POI Recommendation System"
   ]
  },
  {
   "cell_type": "markdown",
   "metadata": {},
   "source": [
    "First off we import all the necessary libraries:"
   ]
  },
  {
   "cell_type": "code",
   "execution_count": 58,
   "metadata": {},
   "outputs": [],
   "source": [
    "import polars as rs\n",
    "import torch\n",
    "import torch.nn as nn\n",
    "import torch.nn.functional as F\n",
    "import lightning as pl\n",
    "import lightning.pytorch as torchpl\n",
    "from tqdm import tqdm\n",
    "import numpy as np\n",
    "from sklearn.preprocessing import LabelEncoder\n",
    "from dataclasses import dataclass"
   ]
  },
  {
   "cell_type": "markdown",
   "metadata": {},
   "source": [
    "Next, we load the data, we utilize `polars` since it is much more efficient than `pandas` and can handle large datasets with ease."
   ]
  },
  {
   "cell_type": "code",
   "execution_count": 4,
   "metadata": {},
   "outputs": [],
   "source": [
    "columns = [\"user\", \"poi\", \"date\", \"TZ\"]\n",
    "data = rs.read_csv(\n",
    "    \"dataset_TIST2015/dataset_TIST2015_Checkins.txt\",\n",
    "    has_header=False,\n",
    "    low_memory=True,\n",
    "    separator=\"\\t\",\n",
    ")\n",
    "data.columns = columns"
   ]
  },
  {
   "cell_type": "code",
   "execution_count": 5,
   "metadata": {},
   "outputs": [
    {
     "data": {
      "text/html": [
       "<div><style>\n",
       ".dataframe > thead > tr,\n",
       ".dataframe > tbody > tr {\n",
       "  text-align: right;\n",
       "  white-space: pre-wrap;\n",
       "}\n",
       "</style>\n",
       "<small>shape: (33_263_633, 4)</small><table border=\"1\" class=\"dataframe\"><thead><tr><th>user</th><th>poi</th><th>date</th><th>TZ</th></tr><tr><td>i64</td><td>str</td><td>str</td><td>i64</td></tr></thead><tbody><tr><td>50756</td><td>&quot;4f5e3a72e4b053fd6a4313f6&quot;</td><td>&quot;Tue Apr 03 18:00:06 +0000 2012&quot;</td><td>240</td></tr><tr><td>190571</td><td>&quot;4b4b87b5f964a5204a9f26e3&quot;</td><td>&quot;Tue Apr 03 18:00:07 +0000 2012&quot;</td><td>180</td></tr><tr><td>221021</td><td>&quot;4a85b1b3f964a520eefe1fe3&quot;</td><td>&quot;Tue Apr 03 18:00:08 +0000 2012&quot;</td><td>-240</td></tr><tr><td>66981</td><td>&quot;4b4606f2f964a520751426e3&quot;</td><td>&quot;Tue Apr 03 18:00:08 +0000 2012&quot;</td><td>-300</td></tr><tr><td>21010</td><td>&quot;4c2b4e8a9a559c74832f0de2&quot;</td><td>&quot;Tue Apr 03 18:00:09 +0000 2012&quot;</td><td>240</td></tr><tr><td>&hellip;</td><td>&hellip;</td><td>&hellip;</td><td>&hellip;</td></tr><tr><td>16349</td><td>&quot;4c957755c8a1bfb7e89024f3&quot;</td><td>&quot;Mon Sep 16 23:24:11 +0000 2013&quot;</td><td>-240</td></tr><tr><td>256757</td><td>&quot;4c8bbb6d9ef0224bd2d6667b&quot;</td><td>&quot;Mon Sep 16 23:24:13 +0000 2013&quot;</td><td>-180</td></tr><tr><td>66425</td><td>&quot;513e82a5e4b0ed4f0f3bcf2d&quot;</td><td>&quot;Mon Sep 16 23:24:14 +0000 2013&quot;</td><td>-180</td></tr><tr><td>1830</td><td>&quot;4b447865f964a5204cf525e3&quot;</td><td>&quot;Mon Sep 16 23:24:14 +0000 2013&quot;</td><td>120</td></tr><tr><td>22704</td><td>&quot;50df4ee5e4b0c48b5a1c2968&quot;</td><td>&quot;Mon Sep 16 23:24:15 +0000 2013&quot;</td><td>180</td></tr></tbody></table></div>"
      ],
      "text/plain": [
       "shape: (33_263_633, 4)\n",
       "┌────────┬──────────────────────────┬────────────────────────────────┬──────┐\n",
       "│ user   ┆ poi                      ┆ date                           ┆ TZ   │\n",
       "│ ---    ┆ ---                      ┆ ---                            ┆ ---  │\n",
       "│ i64    ┆ str                      ┆ str                            ┆ i64  │\n",
       "╞════════╪══════════════════════════╪════════════════════════════════╪══════╡\n",
       "│ 50756  ┆ 4f5e3a72e4b053fd6a4313f6 ┆ Tue Apr 03 18:00:06 +0000 2012 ┆ 240  │\n",
       "│ 190571 ┆ 4b4b87b5f964a5204a9f26e3 ┆ Tue Apr 03 18:00:07 +0000 2012 ┆ 180  │\n",
       "│ 221021 ┆ 4a85b1b3f964a520eefe1fe3 ┆ Tue Apr 03 18:00:08 +0000 2012 ┆ -240 │\n",
       "│ 66981  ┆ 4b4606f2f964a520751426e3 ┆ Tue Apr 03 18:00:08 +0000 2012 ┆ -300 │\n",
       "│ 21010  ┆ 4c2b4e8a9a559c74832f0de2 ┆ Tue Apr 03 18:00:09 +0000 2012 ┆ 240  │\n",
       "│ …      ┆ …                        ┆ …                              ┆ …    │\n",
       "│ 16349  ┆ 4c957755c8a1bfb7e89024f3 ┆ Mon Sep 16 23:24:11 +0000 2013 ┆ -240 │\n",
       "│ 256757 ┆ 4c8bbb6d9ef0224bd2d6667b ┆ Mon Sep 16 23:24:13 +0000 2013 ┆ -180 │\n",
       "│ 66425  ┆ 513e82a5e4b0ed4f0f3bcf2d ┆ Mon Sep 16 23:24:14 +0000 2013 ┆ -180 │\n",
       "│ 1830   ┆ 4b447865f964a5204cf525e3 ┆ Mon Sep 16 23:24:14 +0000 2013 ┆ 120  │\n",
       "│ 22704  ┆ 50df4ee5e4b0c48b5a1c2968 ┆ Mon Sep 16 23:24:15 +0000 2013 ┆ 180  │\n",
       "└────────┴──────────────────────────┴────────────────────────────────┴──────┘"
      ]
     },
     "execution_count": 5,
     "metadata": {},
     "output_type": "execute_result"
    }
   ],
   "source": [
    "data"
   ]
  },
  {
   "cell_type": "markdown",
   "metadata": {},
   "source": [
    "Differently from what suggested by the professor, we utilize the full TIST2015 dataset, which has a far greater scale compared to the reduced NY one. However, by following the pruning steps detailed in the paper (http://dx.doi.org/10.1145/3477495.3531989, section 5.1), we obtain sequences that are much smaller in size, resulting in a dataset that is usable on Google Colab's free tier (as required by the assignment)."
   ]
  },
  {
   "cell_type": "code",
   "execution_count": 6,
   "metadata": {},
   "outputs": [],
   "source": [
    "data_users = (\n",
    "    data.lazy()\n",
    "    .group_by(\"user\")\n",
    "    .agg(\n",
    "        [\n",
    "            rs.col(\"poi\").n_unique().alias(\"n_pois\"),\n",
    "            rs.col(\"poi\").count().alias(\"n_checkins\"),\n",
    "            # turn the rest into a list\n",
    "            rs.col(\"poi\").alias(\"pois\"),\n",
    "            rs.col(\"date\").alias(\"dates\"),\n",
    "            rs.col(\"TZ\").alias(\"TZs\"),\n",
    "        ]\n",
    "    )\n",
    ").collect()"
   ]
  },
  {
   "cell_type": "code",
   "execution_count": 7,
   "metadata": {},
   "outputs": [
    {
     "data": {
      "text/html": [
       "<div><style>\n",
       ".dataframe > thead > tr,\n",
       ".dataframe > tbody > tr {\n",
       "  text-align: right;\n",
       "  white-space: pre-wrap;\n",
       "}\n",
       "</style>\n",
       "<small>shape: (9, 7)</small><table border=\"1\" class=\"dataframe\"><thead><tr><th>statistic</th><th>user</th><th>n_pois</th><th>n_checkins</th><th>pois</th><th>dates</th><th>TZs</th></tr><tr><td>str</td><td>f64</td><td>f64</td><td>f64</td><td>f64</td><td>f64</td><td>f64</td></tr></thead><tbody><tr><td>&quot;count&quot;</td><td>266909.0</td><td>266909.0</td><td>266909.0</td><td>266909.0</td><td>266909.0</td><td>266909.0</td></tr><tr><td>&quot;null_count&quot;</td><td>0.0</td><td>0.0</td><td>0.0</td><td>0.0</td><td>0.0</td><td>0.0</td></tr><tr><td>&quot;mean&quot;</td><td>133455.0</td><td>56.477459</td><td>124.62537</td><td>null</td><td>null</td><td>null</td></tr><tr><td>&quot;std&quot;</td><td>77050.135837</td><td>45.968603</td><td>140.692138</td><td>null</td><td>null</td><td>null</td></tr><tr><td>&quot;min&quot;</td><td>1.0</td><td>1.0</td><td>1.0</td><td>null</td><td>null</td><td>null</td></tr><tr><td>&quot;25%&quot;</td><td>66728.0</td><td>30.0</td><td>61.0</td><td>null</td><td>null</td><td>null</td></tr><tr><td>&quot;50%&quot;</td><td>133455.0</td><td>49.0</td><td>93.0</td><td>null</td><td>null</td><td>null</td></tr><tr><td>&quot;75%&quot;</td><td>200182.0</td><td>71.0</td><td>148.0</td><td>null</td><td>null</td><td>null</td></tr><tr><td>&quot;max&quot;</td><td>266909.0</td><td>1246.0</td><td>5430.0</td><td>null</td><td>null</td><td>null</td></tr></tbody></table></div>"
      ],
      "text/plain": [
       "shape: (9, 7)\n",
       "┌────────────┬──────────────┬───────────┬────────────┬──────────┬──────────┬──────────┐\n",
       "│ statistic  ┆ user         ┆ n_pois    ┆ n_checkins ┆ pois     ┆ dates    ┆ TZs      │\n",
       "│ ---        ┆ ---          ┆ ---       ┆ ---        ┆ ---      ┆ ---      ┆ ---      │\n",
       "│ str        ┆ f64          ┆ f64       ┆ f64        ┆ f64      ┆ f64      ┆ f64      │\n",
       "╞════════════╪══════════════╪═══════════╪════════════╪══════════╪══════════╪══════════╡\n",
       "│ count      ┆ 266909.0     ┆ 266909.0  ┆ 266909.0   ┆ 266909.0 ┆ 266909.0 ┆ 266909.0 │\n",
       "│ null_count ┆ 0.0          ┆ 0.0       ┆ 0.0        ┆ 0.0      ┆ 0.0      ┆ 0.0      │\n",
       "│ mean       ┆ 133455.0     ┆ 56.477459 ┆ 124.62537  ┆ null     ┆ null     ┆ null     │\n",
       "│ std        ┆ 77050.135837 ┆ 45.968603 ┆ 140.692138 ┆ null     ┆ null     ┆ null     │\n",
       "│ min        ┆ 1.0          ┆ 1.0       ┆ 1.0        ┆ null     ┆ null     ┆ null     │\n",
       "│ 25%        ┆ 66728.0      ┆ 30.0      ┆ 61.0       ┆ null     ┆ null     ┆ null     │\n",
       "│ 50%        ┆ 133455.0     ┆ 49.0      ┆ 93.0       ┆ null     ┆ null     ┆ null     │\n",
       "│ 75%        ┆ 200182.0     ┆ 71.0      ┆ 148.0      ┆ null     ┆ null     ┆ null     │\n",
       "│ max        ┆ 266909.0     ┆ 1246.0    ┆ 5430.0     ┆ null     ┆ null     ┆ null     │\n",
       "└────────────┴──────────────┴───────────┴────────────┴──────────┴──────────┴──────────┘"
      ]
     },
     "execution_count": 7,
     "metadata": {},
     "output_type": "execute_result"
    }
   ],
   "source": [
    "data_users.describe()"
   ]
  },
  {
   "cell_type": "markdown",
   "metadata": {},
   "source": [
    "## Data Preprocessing"
   ]
  },
  {
   "cell_type": "code",
   "execution_count": 8,
   "metadata": {},
   "outputs": [],
   "source": [
    "data_culled = data_users.filter(\n",
    "    (rs.col(\"n_checkins\") > 20) & (rs.col(\"n_checkins\") < 50)\n",
    ").drop_nulls()"
   ]
  },
  {
   "cell_type": "markdown",
   "metadata": {},
   "source": [
    "Since the original dataset is huge, we delete it and call the python garbage collector to free up memory. We then proceed with the second pruning step (frequency-based pruning) as detailed in the paper."
   ]
  },
  {
   "cell_type": "code",
   "execution_count": 9,
   "metadata": {},
   "outputs": [
    {
     "data": {
      "text/plain": [
       "0"
      ]
     },
     "execution_count": 9,
     "metadata": {},
     "output_type": "execute_result"
    }
   ],
   "source": [
    "del data\n",
    "del data_users\n",
    "\n",
    "import gc\n",
    "\n",
    "gc.collect()"
   ]
  },
  {
   "cell_type": "code",
   "execution_count": 10,
   "metadata": {},
   "outputs": [],
   "source": [
    "# extract unique elements from each lists in data_culled[\"pois\"]\n",
    "out = data_culled.with_columns(\n",
    "    [\n",
    "        rs.col(\"pois\").list.unique(),\n",
    "        rs.col(\"pois\").list.unique().list.len().alias(\"n_unique_pois\"),\n",
    "    ]\n",
    ")"
   ]
  },
  {
   "cell_type": "code",
   "execution_count": 11,
   "metadata": {},
   "outputs": [
    {
     "data": {
      "text/html": [
       "<div><style>\n",
       ".dataframe > thead > tr,\n",
       ".dataframe > tbody > tr {\n",
       "  text-align: right;\n",
       "  white-space: pre-wrap;\n",
       "}\n",
       "</style>\n",
       "<small>shape: (21_697, 7)</small><table border=\"1\" class=\"dataframe\"><thead><tr><th>user</th><th>n_pois</th><th>n_checkins</th><th>pois</th><th>dates</th><th>TZs</th><th>n_unique_pois</th></tr><tr><td>i64</td><td>u32</td><td>u32</td><td>list[str]</td><td>list[str]</td><td>list[i64]</td><td>u32</td></tr></thead><tbody><tr><td>228150</td><td>30</td><td>46</td><td>[&quot;4ac0fa3df964a520449520e3&quot;, &quot;4a80aab7f964a520def51fe3&quot;, … &quot;4c08e0a1bbc676b09a2a47d5&quot;]</td><td>[&quot;Sat Apr 14 20:54:33 +0000 2012&quot;, &quot;Wed Apr 25 22:25:08 +0000 2012&quot;, … &quot;Sat Aug 31 19:53:21 +0000 2013&quot;]</td><td>[-300, -300, … -300]</td><td>30</td></tr><tr><td>255812</td><td>25</td><td>38</td><td>[&quot;4bae2c85f964a520a98d3be3&quot;, &quot;4e4fc1bf8877402b06c775fb&quot;, … &quot;4b058707f964a520307c22e3&quot;]</td><td>[&quot;Sat Apr 07 19:45:54 +0000 2012&quot;, &quot;Sat Apr 07 19:52:31 +0000 2012&quot;, … &quot;Sun Jun 16 16:47:52 +0000 2013&quot;]</td><td>[-300, -300, … -300]</td><td>25</td></tr><tr><td>232026</td><td>30</td><td>44</td><td>[&quot;4b694d6ff964a5203c9e2be3&quot;, &quot;4f68714ce4b01977701c8758&quot;, … &quot;4f63da9fe4b0dc771f7af760&quot;]</td><td>[&quot;Sat Apr 28 23:40:46 +0000 2012&quot;, &quot;Sat May 19 18:37:49 +0000 2012&quot;, … &quot;Sun Nov 18 14:58:41 +0000 2012&quot;]</td><td>[-180, -180, … -120]</td><td>30</td></tr><tr><td>5678</td><td>21</td><td>23</td><td>[&quot;4fdb0fdee4b0fb17898c1073&quot;, &quot;4ba286c6f964a5201f0138e3&quot;, … &quot;4cdd4782df986ea8d785d416&quot;]</td><td>[&quot;Tue Jul 24 15:38:54 +0000 2012&quot;, &quot;Thu Aug 09 08:52:53 +0000 2012&quot;, … &quot;Fri Aug 30 22:58:27 +0000 2013&quot;]</td><td>[-240, -240, … -240]</td><td>21</td></tr><tr><td>91802</td><td>24</td><td>26</td><td>[&quot;4bba08c898c7ef3be1973202&quot;, &quot;4b788451f964a52097d32ee3&quot;, … &quot;500721e9e4b06d6fcf6c6e95&quot;]</td><td>[&quot;Sat Mar 02 14:04:14 +0000 2013&quot;, &quot;Sat Mar 02 14:04:48 +0000 2013&quot;, … &quot;Thu Mar 14 16:22:26 +0000 2013&quot;]</td><td>[-180, -180, … -180]</td><td>24</td></tr><tr><td>&hellip;</td><td>&hellip;</td><td>&hellip;</td><td>&hellip;</td><td>&hellip;</td><td>&hellip;</td><td>&hellip;</td></tr><tr><td>30582</td><td>24</td><td>28</td><td>[&quot;50076321e4b0d5e2f527a27a&quot;, &quot;4ea93b3f61af654198a8b9d3&quot;, … &quot;4bc1fffcf8219c74b811b410&quot;]</td><td>[&quot;Sat Aug 18 19:48:06 +0000 2012&quot;, &quot;Sat Aug 18 22:33:27 +0000 2012&quot;, … &quot;Sat Sep 14 17:13:05 +0000 2013&quot;]</td><td>[-240, -240, … -180]</td><td>24</td></tr><tr><td>78314</td><td>13</td><td>29</td><td>[&quot;40e0b100f964a5206c051fe3&quot;, &quot;4bbf7417006dc9b669a0fc3f&quot;, … &quot;4ba553b1f964a5201dfb38e3&quot;]</td><td>[&quot;Tue Dec 18 01:19:53 +0000 2012&quot;, &quot;Fri Jan 04 20:01:45 +0000 2013&quot;, … &quot;Sun Sep 15 03:43:14 +0000 2013&quot;]</td><td>[-300, -300, … -240]</td><td>13</td></tr><tr><td>227893</td><td>37</td><td>45</td><td>[&quot;4bfc815eda7120a1c7354afd&quot;, &quot;4a63be12f964a520aec51fe3&quot;, … &quot;4da0d31f63b5a35d99e2da19&quot;]</td><td>[&quot;Wed Apr 04 18:06:13 +0000 2012&quot;, &quot;Tue Apr 17 13:25:25 +0000 2012&quot;, … &quot;Mon Aug 12 22:39:53 +0000 2013&quot;]</td><td>[-240, -240, … -240]</td><td>37</td></tr><tr><td>138405</td><td>26</td><td>28</td><td>[&quot;444999c5f964a52076321fe3&quot;, &quot;49bc22ebf964a5201a541fe3&quot;, … &quot;4aab0694f964a520985820e3&quot;]</td><td>[&quot;Thu Apr 04 00:02:34 +0000 2013&quot;, &quot;Thu Apr 04 00:18:04 +0000 2013&quot;, … &quot;Thu Aug 08 14:06:55 +0000 2013&quot;]</td><td>[-180, -180, … -180]</td><td>26</td></tr><tr><td>216014</td><td>17</td><td>24</td><td>[&quot;4e4fa7eae4cdc76dc9b36fad&quot;, &quot;4adcdad7f964a520705721e3&quot;, … &quot;4c6274c5edb29c743bb929a7&quot;]</td><td>[&quot;Thu Apr 12 09:04:36 +0000 2012&quot;, &quot;Fri Apr 13 08:05:05 +0000 2012&quot;, … &quot;Mon Apr 08 12:33:43 +0000 2013&quot;]</td><td>[120, 120, … 120]</td><td>17</td></tr></tbody></table></div>"
      ],
      "text/plain": [
       "shape: (21_697, 7)\n",
       "┌────────┬────────┬────────────┬─────────────────┬────────────────┬────────────────┬───────────────┐\n",
       "│ user   ┆ n_pois ┆ n_checkins ┆ pois            ┆ dates          ┆ TZs            ┆ n_unique_pois │\n",
       "│ ---    ┆ ---    ┆ ---        ┆ ---             ┆ ---            ┆ ---            ┆ ---           │\n",
       "│ i64    ┆ u32    ┆ u32        ┆ list[str]       ┆ list[str]      ┆ list[i64]      ┆ u32           │\n",
       "╞════════╪════════╪════════════╪═════════════════╪════════════════╪════════════════╪═══════════════╡\n",
       "│ 228150 ┆ 30     ┆ 46         ┆ [\"4ac0fa3df964a ┆ [\"Sat Apr 14   ┆ [-300, -300, … ┆ 30            │\n",
       "│        ┆        ┆            ┆ 520449520e3\",   ┆ 20:54:33 +0000 ┆ -300]          ┆               │\n",
       "│        ┆        ┆            ┆ \"…              ┆ 20…            ┆                ┆               │\n",
       "│ 255812 ┆ 25     ┆ 38         ┆ [\"4bae2c85f964a ┆ [\"Sat Apr 07   ┆ [-300, -300, … ┆ 25            │\n",
       "│        ┆        ┆            ┆ 520a98d3be3\",   ┆ 19:45:54 +0000 ┆ -300]          ┆               │\n",
       "│        ┆        ┆            ┆ \"…              ┆ 20…            ┆                ┆               │\n",
       "│ 232026 ┆ 30     ┆ 44         ┆ [\"4b694d6ff964a ┆ [\"Sat Apr 28   ┆ [-180, -180, … ┆ 30            │\n",
       "│        ┆        ┆            ┆ 5203c9e2be3\",   ┆ 23:40:46 +0000 ┆ -120]          ┆               │\n",
       "│        ┆        ┆            ┆ \"…              ┆ 20…            ┆                ┆               │\n",
       "│ 5678   ┆ 21     ┆ 23         ┆ [\"4fdb0fdee4b0f ┆ [\"Tue Jul 24   ┆ [-240, -240, … ┆ 21            │\n",
       "│        ┆        ┆            ┆ b17898c1073\",   ┆ 15:38:54 +0000 ┆ -240]          ┆               │\n",
       "│        ┆        ┆            ┆ \"…              ┆ 20…            ┆                ┆               │\n",
       "│ 91802  ┆ 24     ┆ 26         ┆ [\"4bba08c898c7e ┆ [\"Sat Mar 02   ┆ [-180, -180, … ┆ 24            │\n",
       "│        ┆        ┆            ┆ f3be1973202\",   ┆ 14:04:14 +0000 ┆ -180]          ┆               │\n",
       "│        ┆        ┆            ┆ \"…              ┆ 20…            ┆                ┆               │\n",
       "│ …      ┆ …      ┆ …          ┆ …               ┆ …              ┆ …              ┆ …             │\n",
       "│ 30582  ┆ 24     ┆ 28         ┆ [\"50076321e4b0d ┆ [\"Sat Aug 18   ┆ [-240, -240, … ┆ 24            │\n",
       "│        ┆        ┆            ┆ 5e2f527a27a\",   ┆ 19:48:06 +0000 ┆ -180]          ┆               │\n",
       "│        ┆        ┆            ┆ \"…              ┆ 20…            ┆                ┆               │\n",
       "│ 78314  ┆ 13     ┆ 29         ┆ [\"40e0b100f964a ┆ [\"Tue Dec 18   ┆ [-300, -300, … ┆ 13            │\n",
       "│        ┆        ┆            ┆ 5206c051fe3\",   ┆ 01:19:53 +0000 ┆ -240]          ┆               │\n",
       "│        ┆        ┆            ┆ \"…              ┆ 20…            ┆                ┆               │\n",
       "│ 227893 ┆ 37     ┆ 45         ┆ [\"4bfc815eda712 ┆ [\"Wed Apr 04   ┆ [-240, -240, … ┆ 37            │\n",
       "│        ┆        ┆            ┆ 0a1c7354afd\",   ┆ 18:06:13 +0000 ┆ -240]          ┆               │\n",
       "│        ┆        ┆            ┆ \"…              ┆ 20…            ┆                ┆               │\n",
       "│ 138405 ┆ 26     ┆ 28         ┆ [\"444999c5f964a ┆ [\"Thu Apr 04   ┆ [-180, -180, … ┆ 26            │\n",
       "│        ┆        ┆            ┆ 52076321fe3\",   ┆ 00:02:34 +0000 ┆ -180]          ┆               │\n",
       "│        ┆        ┆            ┆ \"…              ┆ 20…            ┆                ┆               │\n",
       "│ 216014 ┆ 17     ┆ 24         ┆ [\"4e4fa7eae4cdc ┆ [\"Thu Apr 12   ┆ [120, 120, …   ┆ 17            │\n",
       "│        ┆        ┆            ┆ 76dc9b36fad\",   ┆ 09:04:36 +0000 ┆ 120]           ┆               │\n",
       "│        ┆        ┆            ┆ \"…              ┆ 20…            ┆                ┆               │\n",
       "└────────┴────────┴────────────┴─────────────────┴────────────────┴────────────────┴───────────────┘"
      ]
     },
     "execution_count": 11,
     "metadata": {},
     "output_type": "execute_result"
    }
   ],
   "source": [
    "out"
   ]
  },
  {
   "cell_type": "code",
   "execution_count": 12,
   "metadata": {},
   "outputs": [
    {
     "data": {
      "text/plain": [
       "30"
      ]
     },
     "execution_count": 12,
     "metadata": {},
     "output_type": "execute_result"
    }
   ],
   "source": [
    "l = out[\"pois\"][0].to_list()\n",
    "len(set(l))  # print number of unique POIs in first sequence"
   ]
  },
  {
   "cell_type": "code",
   "execution_count": 13,
   "metadata": {},
   "outputs": [
    {
     "data": {
      "text/plain": [
       "46"
      ]
     },
     "execution_count": 13,
     "metadata": {},
     "output_type": "execute_result"
    }
   ],
   "source": [
    "l2 = data_culled[\"pois\"][0].to_list()\n",
    "len(l2)  # print sequence length of first user"
   ]
  },
  {
   "cell_type": "code",
   "execution_count": 14,
   "metadata": {},
   "outputs": [
    {
     "data": {
      "text/plain": [
       "30"
      ]
     },
     "execution_count": 14,
     "metadata": {},
     "output_type": "execute_result"
    }
   ],
   "source": [
    "len(set(l2))  # confirm that the two match"
   ]
  },
  {
   "cell_type": "code",
   "execution_count": 15,
   "metadata": {},
   "outputs": [],
   "source": [
    "# run a Polars query to obtain all the frequent POIs, the ones expected to survive the filtering\n",
    "unique_pois = out[\"pois\"]\n",
    "frequent_pois = unique_pois.list.explode().value_counts().filter(rs.col(\"count\") >= 10)"
   ]
  },
  {
   "cell_type": "code",
   "execution_count": 16,
   "metadata": {},
   "outputs": [
    {
     "data": {
      "text/html": [
       "<div><style>\n",
       ".dataframe > thead > tr,\n",
       ".dataframe > tbody > tr {\n",
       "  text-align: right;\n",
       "  white-space: pre-wrap;\n",
       "}\n",
       "</style>\n",
       "<small>shape: (4_455, 2)</small><table border=\"1\" class=\"dataframe\"><thead><tr><th>pois</th><th>count</th></tr><tr><td>str</td><td>u32</td></tr></thead><tbody><tr><td>&quot;4b92005ef964a520ebe233e3&quot;</td><td>14</td></tr><tr><td>&quot;4ccec1f6ee23a14391d92da8&quot;</td><td>10</td></tr><tr><td>&quot;4b5dc322f964a5205f6a29e3&quot;</td><td>16</td></tr><tr><td>&quot;4b0587fcf964a520eeaa22e3&quot;</td><td>11</td></tr><tr><td>&quot;4d9c7fd7b0fccbffd8d834cf&quot;</td><td>25</td></tr><tr><td>&hellip;</td><td>&hellip;</td></tr><tr><td>&quot;4ca1c143542b224b0bcd10a0&quot;</td><td>131</td></tr><tr><td>&quot;44014894f964a5201d301fe3&quot;</td><td>19</td></tr><tr><td>&quot;4b15507bf964a520a7b023e3&quot;</td><td>73</td></tr><tr><td>&quot;5000582fe4b07988e18344b5&quot;</td><td>21</td></tr><tr><td>&quot;4bd380c0b221c9b6b4f5d9d0&quot;</td><td>10</td></tr></tbody></table></div>"
      ],
      "text/plain": [
       "shape: (4_455, 2)\n",
       "┌──────────────────────────┬───────┐\n",
       "│ pois                     ┆ count │\n",
       "│ ---                      ┆ ---   │\n",
       "│ str                      ┆ u32   │\n",
       "╞══════════════════════════╪═══════╡\n",
       "│ 4b92005ef964a520ebe233e3 ┆ 14    │\n",
       "│ 4ccec1f6ee23a14391d92da8 ┆ 10    │\n",
       "│ 4b5dc322f964a5205f6a29e3 ┆ 16    │\n",
       "│ 4b0587fcf964a520eeaa22e3 ┆ 11    │\n",
       "│ 4d9c7fd7b0fccbffd8d834cf ┆ 25    │\n",
       "│ …                        ┆ …     │\n",
       "│ 4ca1c143542b224b0bcd10a0 ┆ 131   │\n",
       "│ 44014894f964a5201d301fe3 ┆ 19    │\n",
       "│ 4b15507bf964a520a7b023e3 ┆ 73    │\n",
       "│ 5000582fe4b07988e18344b5 ┆ 21    │\n",
       "│ 4bd380c0b221c9b6b4f5d9d0 ┆ 10    │\n",
       "└──────────────────────────┴───────┘"
      ]
     },
     "execution_count": 16,
     "metadata": {},
     "output_type": "execute_result"
    }
   ],
   "source": [
    "frequent_pois"
   ]
  },
  {
   "cell_type": "code",
   "execution_count": 17,
   "metadata": {},
   "outputs": [],
   "source": [
    "frequent_pois = frequent_pois[\"pois\"]\n",
    "frequent_pois = set(frequent_pois.to_list())"
   ]
  },
  {
   "cell_type": "code",
   "execution_count": 18,
   "metadata": {},
   "outputs": [
    {
     "data": {
      "text/html": [
       "<div><style>\n",
       ".dataframe > thead > tr,\n",
       ".dataframe > tbody > tr {\n",
       "  text-align: right;\n",
       "  white-space: pre-wrap;\n",
       "}\n",
       "</style>\n",
       "<small>shape: (21_697, 6)</small><table border=\"1\" class=\"dataframe\"><thead><tr><th>user</th><th>n_pois</th><th>n_checkins</th><th>pois</th><th>dates</th><th>TZs</th></tr><tr><td>i64</td><td>u32</td><td>u32</td><td>list[str]</td><td>list[str]</td><td>list[i64]</td></tr></thead><tbody><tr><td>228150</td><td>30</td><td>46</td><td>[&quot;49cbc9f5f964a52018591fe3&quot;, &quot;4b41143af964a520acc025e3&quot;, … &quot;4b67290df964a520953e2be3&quot;]</td><td>[&quot;Sat Apr 14 20:54:33 +0000 2012&quot;, &quot;Wed Apr 25 22:25:08 +0000 2012&quot;, … &quot;Sat Aug 31 19:53:21 +0000 2013&quot;]</td><td>[-300, -300, … -300]</td></tr><tr><td>255812</td><td>25</td><td>38</td><td>[&quot;4ca95b6dae1eef3bd0f33247&quot;, &quot;4de4fda7b3ad5eaa5aaeb7f0&quot;, … &quot;51619b8be4b07ee81b5f0d10&quot;]</td><td>[&quot;Sat Apr 07 19:45:54 +0000 2012&quot;, &quot;Sat Apr 07 19:52:31 +0000 2012&quot;, … &quot;Sun Jun 16 16:47:52 +0000 2013&quot;]</td><td>[-300, -300, … -300]</td></tr><tr><td>232026</td><td>30</td><td>44</td><td>[&quot;4d5f0a9c9f67f04d0ace67fb&quot;, &quot;4bd6230e6f649521526870ec&quot;, … &quot;4c3ddcfb7d00d13aaccd3a50&quot;]</td><td>[&quot;Sat Apr 28 23:40:46 +0000 2012&quot;, &quot;Sat May 19 18:37:49 +0000 2012&quot;, … &quot;Sun Nov 18 14:58:41 +0000 2012&quot;]</td><td>[-180, -180, … -120]</td></tr><tr><td>5678</td><td>21</td><td>23</td><td>[&quot;500ad0f8e4b0ca8f7be9d0ff&quot;, &quot;4bf81a008d30d13a4f1c0018&quot;, … &quot;4c6bf59399b9236af82ce1c9&quot;]</td><td>[&quot;Tue Jul 24 15:38:54 +0000 2012&quot;, &quot;Thu Aug 09 08:52:53 +0000 2012&quot;, … &quot;Fri Aug 30 22:58:27 +0000 2013&quot;]</td><td>[-240, -240, … -240]</td></tr><tr><td>91802</td><td>24</td><td>26</td><td>[&quot;50abca92e4b0146313c60ffc&quot;, &quot;4b870115f964a520ebaa31e3&quot;, … &quot;4bba08c898c7ef3be1973202&quot;]</td><td>[&quot;Sat Mar 02 14:04:14 +0000 2013&quot;, &quot;Sat Mar 02 14:04:48 +0000 2013&quot;, … &quot;Thu Mar 14 16:22:26 +0000 2013&quot;]</td><td>[-180, -180, … -180]</td></tr><tr><td>&hellip;</td><td>&hellip;</td><td>&hellip;</td><td>&hellip;</td><td>&hellip;</td><td>&hellip;</td></tr><tr><td>30582</td><td>24</td><td>28</td><td>[&quot;4b6f27adf964a520c5e02ce3&quot;, &quot;501c4a5de4b03fc9220d980b&quot;, … &quot;4bd5c1b94e32d13a8c60c180&quot;]</td><td>[&quot;Sat Aug 18 19:48:06 +0000 2012&quot;, &quot;Sat Aug 18 22:33:27 +0000 2012&quot;, … &quot;Sat Sep 14 17:13:05 +0000 2013&quot;]</td><td>[-240, -240, … -180]</td></tr><tr><td>78314</td><td>13</td><td>29</td><td>[&quot;4ba553b1f964a5201dfb38e3&quot;, &quot;4b08658df964a520e30a23e3&quot;, … &quot;4db53a3cf7b121c29f59ab7d&quot;]</td><td>[&quot;Tue Dec 18 01:19:53 +0000 2012&quot;, &quot;Fri Jan 04 20:01:45 +0000 2013&quot;, … &quot;Sun Sep 15 03:43:14 +0000 2013&quot;]</td><td>[-300, -300, … -240]</td></tr><tr><td>227893</td><td>37</td><td>45</td><td>[&quot;4b98f18ef964a520b05735e3&quot;, &quot;4b98f18ef964a520b05735e3&quot;, … &quot;4b52459ff964a5200d7427e3&quot;]</td><td>[&quot;Wed Apr 04 18:06:13 +0000 2012&quot;, &quot;Tue Apr 17 13:25:25 +0000 2012&quot;, … &quot;Mon Aug 12 22:39:53 +0000 2013&quot;]</td><td>[-240, -240, … -240]</td></tr><tr><td>138405</td><td>26</td><td>28</td><td>[&quot;4e42b1e4b0fb09b608717ae8&quot;, &quot;4ba7b75cf964a5207bac39e3&quot;, … &quot;4c730ff5376da0937935a8c6&quot;]</td><td>[&quot;Thu Apr 04 00:02:34 +0000 2013&quot;, &quot;Thu Apr 04 00:18:04 +0000 2013&quot;, … &quot;Thu Aug 08 14:06:55 +0000 2013&quot;]</td><td>[-180, -180, … -180]</td></tr><tr><td>216014</td><td>17</td><td>24</td><td>[&quot;4b5ac833f964a52066d428e3&quot;, &quot;4d89f5da99c2a1cd9bc285d7&quot;, … &quot;4becfa523372c92821121114&quot;]</td><td>[&quot;Thu Apr 12 09:04:36 +0000 2012&quot;, &quot;Fri Apr 13 08:05:05 +0000 2012&quot;, … &quot;Mon Apr 08 12:33:43 +0000 2013&quot;]</td><td>[120, 120, … 120]</td></tr></tbody></table></div>"
      ],
      "text/plain": [
       "shape: (21_697, 6)\n",
       "┌────────┬────────┬────────────┬──────────────────────┬──────────────────────┬─────────────────────┐\n",
       "│ user   ┆ n_pois ┆ n_checkins ┆ pois                 ┆ dates                ┆ TZs                 │\n",
       "│ ---    ┆ ---    ┆ ---        ┆ ---                  ┆ ---                  ┆ ---                 │\n",
       "│ i64    ┆ u32    ┆ u32        ┆ list[str]            ┆ list[str]            ┆ list[i64]           │\n",
       "╞════════╪════════╪════════════╪══════════════════════╪══════════════════════╪═════════════════════╡\n",
       "│ 228150 ┆ 30     ┆ 46         ┆ [\"49cbc9f5f964a52018 ┆ [\"Sat Apr 14         ┆ [-300, -300, …      │\n",
       "│        ┆        ┆            ┆ 591fe3\", \"…          ┆ 20:54:33 +0000 20…   ┆ -300]               │\n",
       "│ 255812 ┆ 25     ┆ 38         ┆ [\"4ca95b6dae1eef3bd0 ┆ [\"Sat Apr 07         ┆ [-300, -300, …      │\n",
       "│        ┆        ┆            ┆ f33247\", \"…          ┆ 19:45:54 +0000 20…   ┆ -300]               │\n",
       "│ 232026 ┆ 30     ┆ 44         ┆ [\"4d5f0a9c9f67f04d0a ┆ [\"Sat Apr 28         ┆ [-180, -180, …      │\n",
       "│        ┆        ┆            ┆ ce67fb\", \"…          ┆ 23:40:46 +0000 20…   ┆ -120]               │\n",
       "│ 5678   ┆ 21     ┆ 23         ┆ [\"500ad0f8e4b0ca8f7b ┆ [\"Tue Jul 24         ┆ [-240, -240, …      │\n",
       "│        ┆        ┆            ┆ e9d0ff\", \"…          ┆ 15:38:54 +0000 20…   ┆ -240]               │\n",
       "│ 91802  ┆ 24     ┆ 26         ┆ [\"50abca92e4b0146313 ┆ [\"Sat Mar 02         ┆ [-180, -180, …      │\n",
       "│        ┆        ┆            ┆ c60ffc\", \"…          ┆ 14:04:14 +0000 20…   ┆ -180]               │\n",
       "│ …      ┆ …      ┆ …          ┆ …                    ┆ …                    ┆ …                   │\n",
       "│ 30582  ┆ 24     ┆ 28         ┆ [\"4b6f27adf964a520c5 ┆ [\"Sat Aug 18         ┆ [-240, -240, …      │\n",
       "│        ┆        ┆            ┆ e02ce3\", \"…          ┆ 19:48:06 +0000 20…   ┆ -180]               │\n",
       "│ 78314  ┆ 13     ┆ 29         ┆ [\"4ba553b1f964a5201d ┆ [\"Tue Dec 18         ┆ [-300, -300, …      │\n",
       "│        ┆        ┆            ┆ fb38e3\", \"…          ┆ 01:19:53 +0000 20…   ┆ -240]               │\n",
       "│ 227893 ┆ 37     ┆ 45         ┆ [\"4b98f18ef964a520b0 ┆ [\"Wed Apr 04         ┆ [-240, -240, …      │\n",
       "│        ┆        ┆            ┆ 5735e3\", \"…          ┆ 18:06:13 +0000 20…   ┆ -240]               │\n",
       "│ 138405 ┆ 26     ┆ 28         ┆ [\"4e42b1e4b0fb09b608 ┆ [\"Thu Apr 04         ┆ [-180, -180, …      │\n",
       "│        ┆        ┆            ┆ 717ae8\", \"…          ┆ 00:02:34 +0000 20…   ┆ -180]               │\n",
       "│ 216014 ┆ 17     ┆ 24         ┆ [\"4b5ac833f964a52066 ┆ [\"Thu Apr 12         ┆ [120, 120, … 120]   │\n",
       "│        ┆        ┆            ┆ d428e3\", \"…          ┆ 09:04:36 +0000 20…   ┆                     │\n",
       "└────────┴────────┴────────────┴──────────────────────┴──────────────────────┴─────────────────────┘"
      ]
     },
     "execution_count": 18,
     "metadata": {},
     "output_type": "execute_result"
    }
   ],
   "source": [
    "data_culled"
   ]
  },
  {
   "cell_type": "code",
   "execution_count": 19,
   "metadata": {},
   "outputs": [],
   "source": [
    "data_culled = data_culled.with_columns(\n",
    "    [\n",
    "        rs.col(\"pois\")\n",
    "        .list.eval(\n",
    "            rs.element().is_in(frequent_pois),\n",
    "        )\n",
    "        .alias(\"is_frequent\")\n",
    "    ]\n",
    ")  # prep mask"
   ]
  },
  {
   "cell_type": "code",
   "execution_count": 20,
   "metadata": {},
   "outputs": [],
   "source": [
    "final_data = (\n",
    "    data_culled.lazy()\n",
    "    .with_row_index()\n",
    "    .explode(\n",
    "        [\n",
    "            \"pois\",\n",
    "            \"dates\",\n",
    "            \"TZs\",\n",
    "            \"is_frequent\",\n",
    "        ]\n",
    "    )\n",
    "    .group_by(\"user\")\n",
    "    .agg(\n",
    "        [\n",
    "            rs.col(\"pois\").filter(rs.col(\"is_frequent\")).alias(\"pois\"),\n",
    "            rs.col(\"dates\").filter(rs.col(\"is_frequent\")).alias(\"dates\"),\n",
    "            rs.col(\"TZs\").filter(rs.col(\"is_frequent\")).alias(\"TZs\"),\n",
    "            rs.col(\"pois\").filter(rs.col(\"is_frequent\")).n_unique().alias(\"n_pois\"),\n",
    "            rs.col(\"pois\").filter(rs.col(\"is_frequent\")).count().alias(\"n_checkins\"),\n",
    "        ]\n",
    "    )\n",
    "    .filter(rs.col(\"n_checkins\") > 0)\n",
    "    .filter(rs.col(\"n_pois\") > 0)\n",
    "    .collect()\n",
    ")  # filter out infrequent pois and users with no pois"
   ]
  },
  {
   "cell_type": "code",
   "execution_count": 21,
   "metadata": {},
   "outputs": [
    {
     "data": {
      "text/html": [
       "<div><style>\n",
       ".dataframe > thead > tr,\n",
       ".dataframe > tbody > tr {\n",
       "  text-align: right;\n",
       "  white-space: pre-wrap;\n",
       "}\n",
       "</style>\n",
       "<small>shape: (9, 7)</small><table border=\"1\" class=\"dataframe\"><thead><tr><th>statistic</th><th>user</th><th>pois</th><th>dates</th><th>TZs</th><th>n_pois</th><th>n_checkins</th></tr><tr><td>str</td><td>f64</td><td>f64</td><td>f64</td><td>f64</td><td>f64</td><td>f64</td></tr></thead><tbody><tr><td>&quot;count&quot;</td><td>19862.0</td><td>19862.0</td><td>19862.0</td><td>19862.0</td><td>19862.0</td><td>19862.0</td></tr><tr><td>&quot;null_count&quot;</td><td>0.0</td><td>0.0</td><td>0.0</td><td>0.0</td><td>0.0</td><td>0.0</td></tr><tr><td>&quot;mean&quot;</td><td>156852.822274</td><td>null</td><td>null</td><td>null</td><td>6.123452</td><td>8.831437</td></tr><tr><td>&quot;std&quot;</td><td>76314.892884</td><td>null</td><td>null</td><td>null</td><td>4.609024</td><td>6.877662</td></tr><tr><td>&quot;min&quot;</td><td>49.0</td><td>null</td><td>null</td><td>null</td><td>1.0</td><td>1.0</td></tr><tr><td>&quot;25%&quot;</td><td>95613.0</td><td>null</td><td>null</td><td>null</td><td>3.0</td><td>4.0</td></tr><tr><td>&quot;50%&quot;</td><td>167846.0</td><td>null</td><td>null</td><td>null</td><td>5.0</td><td>7.0</td></tr><tr><td>&quot;75%&quot;</td><td>224576.0</td><td>null</td><td>null</td><td>null</td><td>8.0</td><td>12.0</td></tr><tr><td>&quot;max&quot;</td><td>266909.0</td><td>null</td><td>null</td><td>null</td><td>32.0</td><td>46.0</td></tr></tbody></table></div>"
      ],
      "text/plain": [
       "shape: (9, 7)\n",
       "┌────────────┬───────────────┬─────────┬─────────┬─────────┬──────────┬────────────┐\n",
       "│ statistic  ┆ user          ┆ pois    ┆ dates   ┆ TZs     ┆ n_pois   ┆ n_checkins │\n",
       "│ ---        ┆ ---           ┆ ---     ┆ ---     ┆ ---     ┆ ---      ┆ ---        │\n",
       "│ str        ┆ f64           ┆ f64     ┆ f64     ┆ f64     ┆ f64      ┆ f64        │\n",
       "╞════════════╪═══════════════╪═════════╪═════════╪═════════╪══════════╪════════════╡\n",
       "│ count      ┆ 19862.0       ┆ 19862.0 ┆ 19862.0 ┆ 19862.0 ┆ 19862.0  ┆ 19862.0    │\n",
       "│ null_count ┆ 0.0           ┆ 0.0     ┆ 0.0     ┆ 0.0     ┆ 0.0      ┆ 0.0        │\n",
       "│ mean       ┆ 156852.822274 ┆ null    ┆ null    ┆ null    ┆ 6.123452 ┆ 8.831437   │\n",
       "│ std        ┆ 76314.892884  ┆ null    ┆ null    ┆ null    ┆ 4.609024 ┆ 6.877662   │\n",
       "│ min        ┆ 49.0          ┆ null    ┆ null    ┆ null    ┆ 1.0      ┆ 1.0        │\n",
       "│ 25%        ┆ 95613.0       ┆ null    ┆ null    ┆ null    ┆ 3.0      ┆ 4.0        │\n",
       "│ 50%        ┆ 167846.0      ┆ null    ┆ null    ┆ null    ┆ 5.0      ┆ 7.0        │\n",
       "│ 75%        ┆ 224576.0      ┆ null    ┆ null    ┆ null    ┆ 8.0      ┆ 12.0       │\n",
       "│ max        ┆ 266909.0      ┆ null    ┆ null    ┆ null    ┆ 32.0     ┆ 46.0       │\n",
       "└────────────┴───────────────┴─────────┴─────────┴─────────┴──────────┴────────────┘"
      ]
     },
     "execution_count": 21,
     "metadata": {},
     "output_type": "execute_result"
    }
   ],
   "source": [
    "final_data.describe()"
   ]
  },
  {
   "cell_type": "markdown",
   "metadata": {},
   "source": [
    "At this stage, culling is done, we can appreciate that `polars`'s SQL/functional-style API is different from Pandas, but it is very powerful and efficient."
   ]
  },
  {
   "cell_type": "markdown",
   "metadata": {},
   "source": [
    "The next step is geohashing the POIs, that is, we want to convert the latitude-longitude positions of the POIs into a grid-based geohash representation, which will form the basis for our network's embeddings."
   ]
  },
  {
   "cell_type": "code",
   "execution_count": 22,
   "metadata": {},
   "outputs": [],
   "source": [
    "import geohash2 as gh\n",
    "\n",
    "pois = rs.read_csv(\n",
    "    \"dataset_TIST2015/dataset_TIST2015_POIs.txt\",\n",
    "    has_header=False,\n",
    "    low_memory=True,\n",
    "    separator=\"\\t\",\n",
    ")\n",
    "pois.columns = [\"poi\", \"lat\", \"long\", \"category\", \"country\"]\n",
    "pois = pois.drop(\"category\").drop(\"country\")"
   ]
  },
  {
   "cell_type": "code",
   "execution_count": 23,
   "metadata": {},
   "outputs": [],
   "source": [
    "pois = (\n",
    "    pois.lazy()\n",
    "    .filter(rs.col(\"poi\").is_in(frequent_pois))\n",
    "    .select(\n",
    "        [\n",
    "            rs.col(\"poi\"),\n",
    "            rs.struct(\n",
    "                [\n",
    "                    rs.col(\"lat\").cast(rs.Float32),\n",
    "                    rs.col(\"long\").cast(rs.Float32),\n",
    "                ]\n",
    "            )\n",
    "            .alias(\"location\")\n",
    "            .map_elements(\n",
    "                lambda s: gh.encode(s[\"lat\"], s[\"long\"], precision=6),\n",
    "                return_dtype=rs.String,\n",
    "            )\n",
    "            .alias(\"geohash\"),\n",
    "        ]\n",
    "    )\n",
    "    .collect()\n",
    ")\n",
    "poi_geo_dict = dict(zip(pois[\"poi\"], pois[\"geohash\"]))"
   ]
  },
  {
   "cell_type": "code",
   "execution_count": 24,
   "metadata": {},
   "outputs": [],
   "source": [
    "# for each row in final_data, add the geohash of the pois by hitting the poi_geo_dict\n",
    "\n",
    "final_data = final_data.with_columns(\n",
    "    [\n",
    "        rs.col(\"pois\")\n",
    "        .map_elements(\n",
    "            lambda s: [poi_geo_dict[s] for s in s],\n",
    "            return_dtype=rs.List(rs.String),\n",
    "        )\n",
    "        .alias(\"geohashes\")\n",
    "    ]\n",
    ")"
   ]
  },
  {
   "cell_type": "code",
   "execution_count": 25,
   "metadata": {},
   "outputs": [
    {
     "data": {
      "text/plain": [
       "['Sat Dec 08 09:23:13 +0000 2012',\n",
       " 'Thu May 02 23:03:58 +0000 2013',\n",
       " 'Sun Jun 16 22:42:00 +0000 2013']"
      ]
     },
     "execution_count": 25,
     "metadata": {},
     "output_type": "execute_result"
    }
   ],
   "source": [
    "final_data[\"dates\"][79].to_list()  # check out a temporal sequence"
   ]
  },
  {
   "cell_type": "code",
   "execution_count": 26,
   "metadata": {},
   "outputs": [
    {
     "data": {
      "text/plain": [
       "[-180, -240, -240]"
      ]
     },
     "execution_count": 26,
     "metadata": {},
     "output_type": "execute_result"
    }
   ],
   "source": [
    "final_data[\"TZs\"][79].to_list()  # ... and the corresponding timezones"
   ]
  },
  {
   "cell_type": "markdown",
   "metadata": {},
   "source": [
    "The work *might* seem over, however, we still have timezones to account for, we want to normalize everything according to GMT, so we convert the timestamps accordingly."
   ]
  },
  {
   "cell_type": "code",
   "execution_count": 27,
   "metadata": {},
   "outputs": [],
   "source": [
    "import datetime\n",
    "\n",
    "\n",
    "def UTC_to_local(utc, tz):\n",
    "\n",
    "    date = datetime.datetime.strptime(utc, \"%a %b %d %H:%M:%S %z %Y\")\n",
    "    date = date.replace(tzinfo=datetime.timezone.utc)\n",
    "\n",
    "    # shift by tz offset\n",
    "    date = date.astimezone(datetime.timezone(datetime.timedelta(minutes=tz)))\n",
    "\n",
    "    date_s = datetime.datetime.strftime(date, \"%Y-%m-%d %H:%M:%S\")\n",
    "    return date_s\n",
    "\n",
    "\n",
    "def to_UNIX_time(date):\n",
    "    return datetime.datetime.strptime(\n",
    "        date, \"%Y-%m-%d %H:%M:%S\"\n",
    "    ).timestamp()  # we use UNIX time as a key for sorting the POIs in our polars query"
   ]
  },
  {
   "cell_type": "code",
   "execution_count": 28,
   "metadata": {},
   "outputs": [
    {
     "data": {
      "text/plain": [
       "'2012-05-21 08:53:01'"
      ]
     },
     "execution_count": 28,
     "metadata": {},
     "output_type": "execute_result"
    }
   ],
   "source": [
    "UTC_to_local(\"Mon May 21 15:53:01 +0000 2012\", -420)  # example of usage"
   ]
  },
  {
   "cell_type": "code",
   "execution_count": 29,
   "metadata": {},
   "outputs": [],
   "source": [
    "final_data = final_data.with_columns(\n",
    "    [\n",
    "        rs.struct([rs.col(\"dates\"), rs.col(\"TZs\")])\n",
    "        .alias(\"times\")\n",
    "        .map_elements(\n",
    "            lambda struct: [\n",
    "                UTC_to_local(date, tz)\n",
    "                for date, tz in zip(struct[\"dates\"], struct[\"TZs\"])\n",
    "            ],\n",
    "            return_dtype=rs.List(rs.String),\n",
    "        )\n",
    "    ]\n",
    ")  # This performs timezone conversion"
   ]
  },
  {
   "cell_type": "code",
   "execution_count": 30,
   "metadata": {},
   "outputs": [],
   "source": [
    "final_sorted = final_data.select(  # sort the times\n",
    "    [\n",
    "        rs.col(\"user\"),\n",
    "        rs.struct(\n",
    "            [\n",
    "                rs.col(\"pois\"),\n",
    "                rs.col(\"times\"),\n",
    "            ]\n",
    "        ).map_elements(\n",
    "            lambda struct: [\n",
    "                poi\n",
    "                for poi, _ in sorted(\n",
    "                    zip(  # here we sort the POIs struct by UNIX timestamps of the GMT times\n",
    "                        struct[\"pois\"], [to_UNIX_time(date) for date in struct[\"times\"]]\n",
    "                    ),\n",
    "                    key=lambda s: s[1],\n",
    "                )\n",
    "            ],\n",
    "            return_dtype=rs.List(rs.String),\n",
    "        ),\n",
    "        rs.struct(\n",
    "            [\n",
    "                rs.col(\"geohashes\"),\n",
    "                rs.col(\"times\"),\n",
    "            ]\n",
    "        ).map_elements(\n",
    "            lambda struct: [\n",
    "                geo\n",
    "                for geo, _ in sorted(\n",
    "                    zip(\n",
    "                        struct[\"geohashes\"],  # same thing goes on for geohashes\n",
    "                        [to_UNIX_time(date) for date in struct[\"times\"]],\n",
    "                    ),\n",
    "                    key=lambda s: s[1],\n",
    "                )\n",
    "            ],\n",
    "            return_dtype=rs.List(rs.String),\n",
    "        ),\n",
    "        rs.col(\"times\")\n",
    "        .map_elements(\n",
    "            lambda dates: sorted(dates, key=to_UNIX_time),\n",
    "            return_dtype=rs.List(rs.String),\n",
    "        )\n",
    "        .alias(\"times_sorted\"),\n",
    "        rs.col(\"n_checkins\"),\n",
    "    ]\n",
    ")\n",
    "\n",
    "# P.S, admittedly, it would have been more efficient to encode the geohashes *after* sorting the POIs,\n",
    "# so that we could save on the sorting of the geohashes. Tough luck, you can't win 'em all."
   ]
  },
  {
   "cell_type": "code",
   "execution_count": 31,
   "metadata": {},
   "outputs": [
    {
     "data": {
      "text/html": [
       "<div><style>\n",
       ".dataframe > thead > tr,\n",
       ".dataframe > tbody > tr {\n",
       "  text-align: right;\n",
       "  white-space: pre-wrap;\n",
       "}\n",
       "</style>\n",
       "<small>shape: (19_862, 5)</small><table border=\"1\" class=\"dataframe\"><thead><tr><th>user</th><th>pois</th><th>geohashes</th><th>times_sorted</th><th>n_checkins</th></tr><tr><td>i64</td><td>list[str]</td><td>list[str]</td><td>list[str]</td><td>u32</td></tr></thead><tbody><tr><td>247249</td><td>[&quot;4b6fec73f964a5202b002de3&quot;, &quot;4be139c2c1732d7f797c5b9a&quot;, … &quot;4bd171a4caff95213ca8d0f0&quot;]</td><td>[&quot;sxk9st&quot;, &quot;sxk9kp&quot;, … &quot;sxk97k&quot;]</td><td>[&quot;2012-12-22 14:10:04&quot;, &quot;2013-01-06 16:43:04&quot;, … &quot;2013-07-29 10:27:00&quot;]</td><td>22</td></tr><tr><td>130772</td><td>[&quot;49e36665f964a52078621fe3&quot;, &quot;40b28c80f964a5204eff1ee3&quot;, … &quot;3fd66200f964a520bbf11ee3&quot;]</td><td>[&quot;dqcjq6&quot;, &quot;dp3wt7&quot;, … &quot;dqcjrk&quot;]</td><td>[&quot;2012-05-05 13:25:31&quot;, &quot;2012-05-25 17:39:22&quot;, … &quot;2012-06-10 00:25:10&quot;]</td><td>7</td></tr><tr><td>243075</td><td>[&quot;4d15d1a285fc6dcb88b7a24e&quot;, &quot;4c45dd45429a0f47a8ba4a1e&quot;, … &quot;4c77eeb293ef236a3978aa0f&quot;]</td><td>[&quot;sxk91r&quot;, &quot;sxk9hq&quot;, … &quot;sxk9kp&quot;]</td><td>[&quot;2012-11-11 17:03:51&quot;, &quot;2013-02-14 08:40:20&quot;, … &quot;2013-05-30 16:10:53&quot;]</td><td>7</td></tr><tr><td>34281</td><td>[&quot;4c0e115bc700c9b6ce42a3dd&quot;, &quot;4c45ed693f0276b051c051e7&quot;, … &quot;5121dd01e4b09c4652a6f9fc&quot;]</td><td>[&quot;sxp75h&quot;, &quot;swxp7w&quot;, … &quot;sz3fg4&quot;]</td><td>[&quot;2012-05-19 11:27:26&quot;, &quot;2012-07-22 13:58:29&quot;, … &quot;2013-05-10 22:45:25&quot;]</td><td>11</td></tr><tr><td>27966</td><td>[&quot;4bcc3184b6c49c74c04b9391&quot;, &quot;4b5fa00af964a52048c529e3&quot;, … &quot;4bea97446295c9b6138c8608&quot;]</td><td>[&quot;w2q2xr&quot;, &quot;w2q2xp&quot;, … &quot;w949bf&quot;]</td><td>[&quot;2012-04-28 14:45:19&quot;, &quot;2012-04-28 19:49:13&quot;, … &quot;2012-12-15 16:04:57&quot;]</td><td>5</td></tr><tr><td>&hellip;</td><td>&hellip;</td><td>&hellip;</td><td>&hellip;</td><td>&hellip;</td></tr><tr><td>144050</td><td>[&quot;4ea0717bdab4b59126c1a08c&quot;, &quot;4ca95b6dae1eef3bd0f33247&quot;, … &quot;4b15503df964a5202eb023e3&quot;]</td><td>[&quot;9g3w3r&quot;, &quot;9g6ht2&quot;, … &quot;9mudn4&quot;]</td><td>[&quot;2012-07-24 06:15:09&quot;, &quot;2012-11-09 15:04:50&quot;, … &quot;2013-07-14 14:23:43&quot;]</td><td>8</td></tr><tr><td>260908</td><td>[&quot;4c6e4cddd5c3a1cdcfe9c72b&quot;, &quot;4b7d1431f964a52007ae2fe3&quot;, … &quot;4c6fe7a6fa49a1cde13ba4e3&quot;]</td><td>[&quot;w283d2&quot;, &quot;w2834w&quot;, … &quot;w29mxn&quot;]</td><td>[&quot;2012-05-27 11:03:18&quot;, &quot;2012-05-27 11:55:49&quot;, … &quot;2012-11-06 22:47:58&quot;]</td><td>11</td></tr><tr><td>205837</td><td>[&quot;4bd5ddf3637ba5939a2ef770&quot;, &quot;4b77523af964a520cd912ee3&quot;, … &quot;4b12abfcf964a520118c23e3&quot;]</td><td>[&quot;7nxpke&quot;, &quot;7jswx8&quot;, … &quot;6gycfp&quot;]</td><td>[&quot;2012-12-18 02:02:24&quot;, &quot;2012-12-18 07:54:46&quot;, … &quot;2013-01-31 05:19:40&quot;]</td><td>9</td></tr><tr><td>36772</td><td>[&quot;4cace5f3ae1eef3bc1fc3447&quot;, &quot;4b5ec87ff964a520909829e3&quot;, … &quot;4b723eeef964a5206d752de3&quot;]</td><td>[&quot;7h2ww2&quot;, &quot;7h2y8j&quot;, … &quot;6gycc7&quot;]</td><td>[&quot;2012-04-27 15:26:52&quot;, &quot;2012-04-28 14:08:35&quot;, … &quot;2013-03-30 12:56:18&quot;]</td><td>4</td></tr><tr><td>174183</td><td>[&quot;4a0e150df964a520c7751fe3&quot;]</td><td>[&quot;9q5f6c&quot;]</td><td>[&quot;2012-05-11 11:59:04&quot;]</td><td>1</td></tr></tbody></table></div>"
      ],
      "text/plain": [
       "shape: (19_862, 5)\n",
       "┌────────┬──────────────────────────────┬────────────────────────┬────────────────────┬────────────┐\n",
       "│ user   ┆ pois                         ┆ geohashes              ┆ times_sorted       ┆ n_checkins │\n",
       "│ ---    ┆ ---                          ┆ ---                    ┆ ---                ┆ ---        │\n",
       "│ i64    ┆ list[str]                    ┆ list[str]              ┆ list[str]          ┆ u32        │\n",
       "╞════════╪══════════════════════════════╪════════════════════════╪════════════════════╪════════════╡\n",
       "│ 247249 ┆ [\"4b6fec73f964a5202b002de3\", ┆ [\"sxk9st\", \"sxk9kp\", … ┆ [\"2012-12-22       ┆ 22         │\n",
       "│        ┆ \"…                           ┆ \"sxk97k…               ┆ 14:10:04\", \"2013-… ┆            │\n",
       "│ 130772 ┆ [\"49e36665f964a52078621fe3\", ┆ [\"dqcjq6\", \"dp3wt7\", … ┆ [\"2012-05-05       ┆ 7          │\n",
       "│        ┆ \"…                           ┆ \"dqcjrk…               ┆ 13:25:31\", \"2012-… ┆            │\n",
       "│ 243075 ┆ [\"4d15d1a285fc6dcb88b7a24e\", ┆ [\"sxk91r\", \"sxk9hq\", … ┆ [\"2012-11-11       ┆ 7          │\n",
       "│        ┆ \"…                           ┆ \"sxk9kp…               ┆ 17:03:51\", \"2013-… ┆            │\n",
       "│ 34281  ┆ [\"4c0e115bc700c9b6ce42a3dd\", ┆ [\"sxp75h\", \"swxp7w\", … ┆ [\"2012-05-19       ┆ 11         │\n",
       "│        ┆ \"…                           ┆ \"sz3fg4…               ┆ 11:27:26\", \"2012-… ┆            │\n",
       "│ 27966  ┆ [\"4bcc3184b6c49c74c04b9391\", ┆ [\"w2q2xr\", \"w2q2xp\", … ┆ [\"2012-04-28       ┆ 5          │\n",
       "│        ┆ \"…                           ┆ \"w949bf…               ┆ 14:45:19\", \"2012-… ┆            │\n",
       "│ …      ┆ …                            ┆ …                      ┆ …                  ┆ …          │\n",
       "│ 144050 ┆ [\"4ea0717bdab4b59126c1a08c\", ┆ [\"9g3w3r\", \"9g6ht2\", … ┆ [\"2012-07-24       ┆ 8          │\n",
       "│        ┆ \"…                           ┆ \"9mudn4…               ┆ 06:15:09\", \"2012-… ┆            │\n",
       "│ 260908 ┆ [\"4c6e4cddd5c3a1cdcfe9c72b\", ┆ [\"w283d2\", \"w2834w\", … ┆ [\"2012-05-27       ┆ 11         │\n",
       "│        ┆ \"…                           ┆ \"w29mxn…               ┆ 11:03:18\", \"2012-… ┆            │\n",
       "│ 205837 ┆ [\"4bd5ddf3637ba5939a2ef770\", ┆ [\"7nxpke\", \"7jswx8\", … ┆ [\"2012-12-18       ┆ 9          │\n",
       "│        ┆ \"…                           ┆ \"6gycfp…               ┆ 02:02:24\", \"2012-… ┆            │\n",
       "│ 36772  ┆ [\"4cace5f3ae1eef3bc1fc3447\", ┆ [\"7h2ww2\", \"7h2y8j\", … ┆ [\"2012-04-27       ┆ 4          │\n",
       "│        ┆ \"…                           ┆ \"6gycc7…               ┆ 15:26:52\", \"2012-… ┆            │\n",
       "│ 174183 ┆ [\"4a0e150df964a520c7751fe3\"] ┆ [\"9q5f6c\"]             ┆ [\"2012-05-11       ┆ 1          │\n",
       "│        ┆                              ┆                        ┆ 11:59:04\"]         ┆            │\n",
       "└────────┴──────────────────────────────┴────────────────────────┴────────────────────┴────────────┘"
      ]
     },
     "execution_count": 31,
     "metadata": {},
     "output_type": "execute_result"
    }
   ],
   "source": [
    "final_sorted"
   ]
  },
  {
   "cell_type": "markdown",
   "metadata": {},
   "source": [
    "we now need to obtain a dataframe containing: each POI, it's geohash, and a set of all the check-ins it appears in\n",
    "this is just one `polars` query away!"
   ]
  },
  {
   "cell_type": "code",
   "execution_count": 32,
   "metadata": {},
   "outputs": [],
   "source": [
    "pois_checkins = final_sorted.explode([\"pois\", \"geohashes\"]).drop(\"n_checkins\")\n",
    "\n",
    "pois_checkins = (\n",
    "    pois_checkins.with_columns(\n",
    "        [\n",
    "            rs.col(\"geohashes\").map_elements(lambda s: s[:4], rs.String).alias(\"g4\"),\n",
    "        ]\n",
    "    )\n",
    "    .drop(\"geohashes\")\n",
    "    .group_by([\"pois\", \"g4\"])\n",
    "    .agg([rs.col(\"times_sorted\").flatten().alias(\"checkin_times\")])\n",
    ")"
   ]
  },
  {
   "cell_type": "code",
   "execution_count": 33,
   "metadata": {},
   "outputs": [
    {
     "data": {
      "text/html": [
       "<div><style>\n",
       ".dataframe > thead > tr,\n",
       ".dataframe > tbody > tr {\n",
       "  text-align: right;\n",
       "  white-space: pre-wrap;\n",
       "}\n",
       "</style>\n",
       "<small>shape: (4_455, 3)</small><table border=\"1\" class=\"dataframe\"><thead><tr><th>pois</th><th>g4</th><th>checkin_times</th></tr><tr><td>str</td><td>str</td><td>list[str]</td></tr></thead><tbody><tr><td>&quot;4e5e2d8e1838f7255271dd55&quot;</td><td>&quot;75cn&quot;</td><td>[&quot;2012-04-21 10:17:24&quot;, &quot;2012-04-21 16:34:07&quot;, … &quot;2013-08-16 17:16:13&quot;]</td></tr><tr><td>&quot;49fe6d4ef964a520a16f1fe3&quot;</td><td>&quot;9q5c&quot;</td><td>[&quot;2012-05-04 09:42:37&quot;, &quot;2012-05-26 16:19:53&quot;, … &quot;2013-09-16 20:35:13&quot;]</td></tr><tr><td>&quot;44cf0ff8f964a5201c361fe3&quot;</td><td>&quot;drt2&quot;</td><td>[&quot;2012-04-09 10:53:27&quot;, &quot;2012-04-10 19:14:49&quot;, … &quot;2013-04-24 05:01:44&quot;]</td></tr><tr><td>&quot;4d8394e899b78cfaab11a41f&quot;</td><td>&quot;swgs&quot;</td><td>[&quot;2012-09-14 18:33:06&quot;, &quot;2012-11-20 23:34:32&quot;, … &quot;2013-09-15 11:59:42&quot;]</td></tr><tr><td>&quot;4baa8948f964a52095723ae3&quot;</td><td>&quot;swxp&quot;</td><td>[&quot;2012-07-08 11:54:13&quot;, &quot;2012-07-30 05:42:59&quot;, … &quot;2013-09-02 07:46:58&quot;]</td></tr><tr><td>&hellip;</td><td>&hellip;</td><td>&hellip;</td></tr><tr><td>&quot;4ef058520e61196dc8dd2abe&quot;</td><td>&quot;sxk3&quot;</td><td>[&quot;2012-11-24 09:12:16&quot;, &quot;2012-11-24 11:52:37&quot;, … &quot;2012-11-27 19:02:13&quot;]</td></tr><tr><td>&quot;447bf8f1f964a520ec331fe3&quot;</td><td>&quot;dr5r&quot;</td><td>[&quot;2012-04-24 12:47:41&quot;, &quot;2012-06-17 15:53:36&quot;, … &quot;2013-05-17 07:04:50&quot;]</td></tr><tr><td>&quot;4b46b71ff964a520452726e3&quot;</td><td>&quot;de30&quot;</td><td>[&quot;2012-05-01 11:32:48&quot;, &quot;2012-05-06 12:23:37&quot;, … &quot;2013-06-02 17:41:26&quot;]</td></tr><tr><td>&quot;4a88af3ef964a520600720e3&quot;</td><td>&quot;dr5r&quot;</td><td>[&quot;2012-11-09 21:44:43&quot;, &quot;2012-11-10 15:08:48&quot;, … &quot;2013-05-08 09:23:10&quot;]</td></tr><tr><td>&quot;4ad4c000f964a520dceb20e3&quot;</td><td>&quot;9v1z&quot;</td><td>[&quot;2012-04-12 18:46:26&quot;, &quot;2012-05-31 14:49:54&quot;, … &quot;2012-08-20 08:33:36&quot;]</td></tr></tbody></table></div>"
      ],
      "text/plain": [
       "shape: (4_455, 3)\n",
       "┌──────────────────────────┬──────┬─────────────────────────────────┐\n",
       "│ pois                     ┆ g4   ┆ checkin_times                   │\n",
       "│ ---                      ┆ ---  ┆ ---                             │\n",
       "│ str                      ┆ str  ┆ list[str]                       │\n",
       "╞══════════════════════════╪══════╪═════════════════════════════════╡\n",
       "│ 4e5e2d8e1838f7255271dd55 ┆ 75cn ┆ [\"2012-04-21 10:17:24\", \"2012-… │\n",
       "│ 49fe6d4ef964a520a16f1fe3 ┆ 9q5c ┆ [\"2012-05-04 09:42:37\", \"2012-… │\n",
       "│ 44cf0ff8f964a5201c361fe3 ┆ drt2 ┆ [\"2012-04-09 10:53:27\", \"2012-… │\n",
       "│ 4d8394e899b78cfaab11a41f ┆ swgs ┆ [\"2012-09-14 18:33:06\", \"2012-… │\n",
       "│ 4baa8948f964a52095723ae3 ┆ swxp ┆ [\"2012-07-08 11:54:13\", \"2012-… │\n",
       "│ …                        ┆ …    ┆ …                               │\n",
       "│ 4ef058520e61196dc8dd2abe ┆ sxk3 ┆ [\"2012-11-24 09:12:16\", \"2012-… │\n",
       "│ 447bf8f1f964a520ec331fe3 ┆ dr5r ┆ [\"2012-04-24 12:47:41\", \"2012-… │\n",
       "│ 4b46b71ff964a520452726e3 ┆ de30 ┆ [\"2012-05-01 11:32:48\", \"2012-… │\n",
       "│ 4a88af3ef964a520600720e3 ┆ dr5r ┆ [\"2012-11-09 21:44:43\", \"2012-… │\n",
       "│ 4ad4c000f964a520dceb20e3 ┆ 9v1z ┆ [\"2012-04-12 18:46:26\", \"2012-… │\n",
       "└──────────────────────────┴──────┴─────────────────────────────────┘"
      ]
     },
     "execution_count": 33,
     "metadata": {},
     "output_type": "execute_result"
    }
   ],
   "source": [
    "pois_checkins  # with this we can *efficiently* build our POI-POI spatial-temporal graphs"
   ]
  },
  {
   "cell_type": "code",
   "execution_count": 34,
   "metadata": {},
   "outputs": [],
   "source": [
    "def UTC_to_weekslot(utc: str) -> int:\n",
    "    \"\"\"UTC_to_weekslot converts a UTC timestamp to a weekslot.\n",
    "\n",
    "    Parameters\n",
    "    ----------\n",
    "    utc : str\n",
    "        A string representing a UTC timestamp.\n",
    "\n",
    "    Returns\n",
    "    -------\n",
    "    int\n",
    "        A weekslot in the range [0, 56).\n",
    "    \"\"\"\n",
    "\n",
    "    date = datetime.datetime.strptime(utc, \"%Y-%m-%d %H:%M:%S\")\n",
    "    week = date.weekday()\n",
    "    hour = date.hour\n",
    "\n",
    "    return week * 8 + hour // 3"
   ]
  },
  {
   "cell_type": "markdown",
   "metadata": {},
   "source": [
    "Next, we want to encode all of our inputs for our neural networks, this could *probably* be done \n",
    "with polars magic, but it's too delicate and we prefer classic for-looping."
   ]
  },
  {
   "cell_type": "code",
   "execution_count": 35,
   "metadata": {},
   "outputs": [],
   "source": [
    "encoder_dict = {\n",
    "    \"users\": LabelEncoder(),\n",
    "    \"pois\": LabelEncoder(),\n",
    "    \"g2\": LabelEncoder(),\n",
    "    \"g3\": LabelEncoder(),\n",
    "    \"g4\": LabelEncoder(),\n",
    "    \"g5\": LabelEncoder(),\n",
    "    \"g6\": LabelEncoder(),\n",
    "}\n",
    "\n",
    "encoded_data = {\n",
    "    \"users\": [],\n",
    "    \"pois\": [],\n",
    "    \"g2\": [],\n",
    "    \"g3\": [],\n",
    "    \"g4\": [],\n",
    "    \"g5\": [],\n",
    "    \"g6\": [],\n",
    "}\n",
    "\n",
    "unique_data = {\n",
    "    \"users\": set(),\n",
    "    \"pois\": set(),\n",
    "    \"g2\": set(),\n",
    "    \"g3\": set(),\n",
    "    \"g4\": set(),\n",
    "    \"g5\": set(),\n",
    "    \"g6\": set(),\n",
    "}\n",
    "\n",
    "# quick and dirty encoding:\n",
    "# 1. put every unique symbol in a list\n",
    "# 2. fit the respective encoder\n",
    "# 3. transform the lists\n",
    "\n",
    "for i, row in enumerate(final_sorted.iter_rows()):\n",
    "\n",
    "    user, pois, geohashes, times_sorted, n_checkins = row\n",
    "\n",
    "    g2 = [geo[:2] for geo in geohashes]\n",
    "    g3 = [geo[:3] for geo in geohashes]\n",
    "    g4 = [geo[:4] for geo in geohashes]\n",
    "    g5 = [geo[:5] for geo in geohashes]\n",
    "    g6 = [geo[:6] for geo in geohashes]  # redundant, but I like symmetry\n",
    "\n",
    "    unique_data[\"users\"].add(user)\n",
    "    unique_data[\"pois\"].update(pois)\n",
    "    unique_data[\"g2\"].update(g2)\n",
    "    unique_data[\"g3\"].update(g3)\n",
    "    unique_data[\"g4\"].update(g4)\n",
    "    unique_data[\"g5\"].update(g5)\n",
    "    unique_data[\"g6\"].update(g6)\n",
    "\n",
    "for property, enc, data in zip(\n",
    "    encoder_dict.keys(), encoder_dict.values(), unique_data.values()\n",
    "):\n",
    "    enc.fit(list(data))\n",
    "    encoder_dict[property] = enc"
   ]
  },
  {
   "cell_type": "code",
   "execution_count": 36,
   "metadata": {},
   "outputs": [
    {
     "name": "stderr",
     "output_type": "stream",
     "text": [
      "100%|██████████| 19862/19862 [03:02<00:00, 108.59it/s]\n"
     ]
    }
   ],
   "source": [
    "# this could be optimized, right now it takes a while, at least we have a nice progress bar to look at\n",
    "\n",
    "ds_size = len(final_sorted)\n",
    "\n",
    "for i, row in tqdm(enumerate(final_sorted.iter_rows()), total=ds_size):\n",
    "\n",
    "    user, pois, geohashes, times_sorted, n_checkins = row\n",
    "\n",
    "    g2 = [geo[:2] for geo in geohashes]\n",
    "    g3 = [geo[:3] for geo in geohashes]\n",
    "    g4 = [geo[:4] for geo in geohashes]\n",
    "    g5 = [geo[:5] for geo in geohashes]\n",
    "    g6 = [geo[:6] for geo in geohashes]\n",
    "\n",
    "    encoded_data[\"users\"].append(encoder_dict[\"users\"].transform([user])[0])\n",
    "    encoded_data[\"pois\"].append(encoder_dict[\"pois\"].transform(pois))\n",
    "    encoded_data[\"g2\"].append(encoder_dict[\"g2\"].transform(g2))\n",
    "    encoded_data[\"g3\"].append(encoder_dict[\"g3\"].transform(g3))\n",
    "    encoded_data[\"g4\"].append(encoder_dict[\"g4\"].transform(g4))\n",
    "    encoded_data[\"g5\"].append(encoder_dict[\"g5\"].transform(g5))\n",
    "    encoded_data[\"g6\"].append(encoder_dict[\"g6\"].transform(g6))\n",
    "\n",
    "    # sum 1 to all values to avoid 0s\n",
    "    encoded_data[\"users\"][-1] += 1\n",
    "    encoded_data[\"pois\"][-1] += 1\n",
    "    encoded_data[\"g2\"][-1] += 1\n",
    "    encoded_data[\"g3\"][-1] += 1\n",
    "    encoded_data[\"g4\"][-1] += 1\n",
    "    encoded_data[\"g5\"][-1] += 1\n",
    "    encoded_data[\"g6\"][-1] += 1"
   ]
  },
  {
   "cell_type": "code",
   "execution_count": 37,
   "metadata": {},
   "outputs": [
    {
     "data": {
      "text/plain": [
       "1"
      ]
     },
     "execution_count": 37,
     "metadata": {},
     "output_type": "execute_result"
    }
   ],
   "source": [
    "# check that we left space for the padding token\n",
    "min((arr.min() for arr in encoded_data[\"pois\"]))"
   ]
  },
  {
   "cell_type": "code",
   "execution_count": 38,
   "metadata": {},
   "outputs": [
    {
     "data": {
      "text/html": [
       "<div><style>\n",
       ".dataframe > thead > tr,\n",
       ".dataframe > tbody > tr {\n",
       "  text-align: right;\n",
       "  white-space: pre-wrap;\n",
       "}\n",
       "</style>\n",
       "<small>shape: (4_455, 3)</small><table border=\"1\" class=\"dataframe\"><thead><tr><th>pois</th><th>g4</th><th>checkin_times</th></tr><tr><td>str</td><td>str</td><td>list[str]</td></tr></thead><tbody><tr><td>&quot;4e5e2d8e1838f7255271dd55&quot;</td><td>&quot;75cn&quot;</td><td>[&quot;2012-04-21 10:17:24&quot;, &quot;2012-04-21 16:34:07&quot;, … &quot;2013-08-16 17:16:13&quot;]</td></tr><tr><td>&quot;49fe6d4ef964a520a16f1fe3&quot;</td><td>&quot;9q5c&quot;</td><td>[&quot;2012-05-04 09:42:37&quot;, &quot;2012-05-26 16:19:53&quot;, … &quot;2013-09-16 20:35:13&quot;]</td></tr><tr><td>&quot;44cf0ff8f964a5201c361fe3&quot;</td><td>&quot;drt2&quot;</td><td>[&quot;2012-04-09 10:53:27&quot;, &quot;2012-04-10 19:14:49&quot;, … &quot;2013-04-24 05:01:44&quot;]</td></tr><tr><td>&quot;4d8394e899b78cfaab11a41f&quot;</td><td>&quot;swgs&quot;</td><td>[&quot;2012-09-14 18:33:06&quot;, &quot;2012-11-20 23:34:32&quot;, … &quot;2013-09-15 11:59:42&quot;]</td></tr><tr><td>&quot;4baa8948f964a52095723ae3&quot;</td><td>&quot;swxp&quot;</td><td>[&quot;2012-07-08 11:54:13&quot;, &quot;2012-07-30 05:42:59&quot;, … &quot;2013-09-02 07:46:58&quot;]</td></tr><tr><td>&hellip;</td><td>&hellip;</td><td>&hellip;</td></tr><tr><td>&quot;4ef058520e61196dc8dd2abe&quot;</td><td>&quot;sxk3&quot;</td><td>[&quot;2012-11-24 09:12:16&quot;, &quot;2012-11-24 11:52:37&quot;, … &quot;2012-11-27 19:02:13&quot;]</td></tr><tr><td>&quot;447bf8f1f964a520ec331fe3&quot;</td><td>&quot;dr5r&quot;</td><td>[&quot;2012-04-24 12:47:41&quot;, &quot;2012-06-17 15:53:36&quot;, … &quot;2013-05-17 07:04:50&quot;]</td></tr><tr><td>&quot;4b46b71ff964a520452726e3&quot;</td><td>&quot;de30&quot;</td><td>[&quot;2012-05-01 11:32:48&quot;, &quot;2012-05-06 12:23:37&quot;, … &quot;2013-06-02 17:41:26&quot;]</td></tr><tr><td>&quot;4a88af3ef964a520600720e3&quot;</td><td>&quot;dr5r&quot;</td><td>[&quot;2012-11-09 21:44:43&quot;, &quot;2012-11-10 15:08:48&quot;, … &quot;2013-05-08 09:23:10&quot;]</td></tr><tr><td>&quot;4ad4c000f964a520dceb20e3&quot;</td><td>&quot;9v1z&quot;</td><td>[&quot;2012-04-12 18:46:26&quot;, &quot;2012-05-31 14:49:54&quot;, … &quot;2012-08-20 08:33:36&quot;]</td></tr></tbody></table></div>"
      ],
      "text/plain": [
       "shape: (4_455, 3)\n",
       "┌──────────────────────────┬──────┬─────────────────────────────────┐\n",
       "│ pois                     ┆ g4   ┆ checkin_times                   │\n",
       "│ ---                      ┆ ---  ┆ ---                             │\n",
       "│ str                      ┆ str  ┆ list[str]                       │\n",
       "╞══════════════════════════╪══════╪═════════════════════════════════╡\n",
       "│ 4e5e2d8e1838f7255271dd55 ┆ 75cn ┆ [\"2012-04-21 10:17:24\", \"2012-… │\n",
       "│ 49fe6d4ef964a520a16f1fe3 ┆ 9q5c ┆ [\"2012-05-04 09:42:37\", \"2012-… │\n",
       "│ 44cf0ff8f964a5201c361fe3 ┆ drt2 ┆ [\"2012-04-09 10:53:27\", \"2012-… │\n",
       "│ 4d8394e899b78cfaab11a41f ┆ swgs ┆ [\"2012-09-14 18:33:06\", \"2012-… │\n",
       "│ 4baa8948f964a52095723ae3 ┆ swxp ┆ [\"2012-07-08 11:54:13\", \"2012-… │\n",
       "│ …                        ┆ …    ┆ …                               │\n",
       "│ 4ef058520e61196dc8dd2abe ┆ sxk3 ┆ [\"2012-11-24 09:12:16\", \"2012-… │\n",
       "│ 447bf8f1f964a520ec331fe3 ┆ dr5r ┆ [\"2012-04-24 12:47:41\", \"2012-… │\n",
       "│ 4b46b71ff964a520452726e3 ┆ de30 ┆ [\"2012-05-01 11:32:48\", \"2012-… │\n",
       "│ 4a88af3ef964a520600720e3 ┆ dr5r ┆ [\"2012-11-09 21:44:43\", \"2012-… │\n",
       "│ 4ad4c000f964a520dceb20e3 ┆ 9v1z ┆ [\"2012-04-12 18:46:26\", \"2012-… │\n",
       "└──────────────────────────┴──────┴─────────────────────────────────┘"
      ]
     },
     "execution_count": 38,
     "metadata": {},
     "output_type": "execute_result"
    }
   ],
   "source": [
    "pois_checkins"
   ]
  },
  {
   "cell_type": "code",
   "execution_count": 39,
   "metadata": {},
   "outputs": [],
   "source": [
    "# we also encode the graph dataframe so we can build the graphs\n",
    "\n",
    "pois_checkins = (\n",
    "    pois_checkins.lazy()\n",
    "    .with_columns(\n",
    "        [\n",
    "            rs.col(\"pois\").map_elements(\n",
    "                lambda s: encoder_dict[\"pois\"].transform([s])[0] + 1, rs.Int64\n",
    "            ),\n",
    "            rs.col(\"g4\").map_elements(\n",
    "                lambda s: encoder_dict[\"g4\"].transform([s])[0] + 1, rs.Int64\n",
    "            ),  # apply utc_to_weekslot to each timestamp in the list\n",
    "            rs.col(\"checkin_times\").map_elements(\n",
    "                lambda s: [UTC_to_weekslot(date) for date in s], rs.List(rs.Int64)\n",
    "            ),\n",
    "        ]\n",
    "    )\n",
    "    .sort(\"pois\")\n",
    "    .collect()\n",
    ")"
   ]
  },
  {
   "cell_type": "code",
   "execution_count": 40,
   "metadata": {},
   "outputs": [],
   "source": [
    "# add fictitious POI 0 to the graph, with nonexistent geohash and no timeslot, so we get a 0 row and column for the padding token\n",
    "fake_datapoint = rs.DataFrame(\n",
    "    {\n",
    "        \"pois\": [0],\n",
    "        \"g4\": [pois_checkins[\"g4\"].max() + 42],\n",
    "        \"checkin_times\": [[43]],\n",
    "    }\n",
    ")\n",
    "# this is a lot of work since polars dataframes are immutable by default, we have to run a query to change the 43 into an empty list\n",
    "# we NEED the 43 otherwise polars won't infer the datatype of the list\n",
    "\n",
    "fake_datapoint = fake_datapoint.with_columns(\n",
    "    [rs.col(\"checkin_times\").map_elements(lambda s: [], rs.List(rs.Int64))]\n",
    ")\n",
    "\n",
    "pois_checkins = fake_datapoint.vstack(pois_checkins)"
   ]
  },
  {
   "cell_type": "code",
   "execution_count": 41,
   "metadata": {},
   "outputs": [],
   "source": [
    "spatial_row = np.array(pois_checkins[\"g4\"].to_list()).reshape(-1, 1)"
   ]
  },
  {
   "cell_type": "code",
   "execution_count": 42,
   "metadata": {},
   "outputs": [],
   "source": [
    "# outer product using equality\n",
    "spatial_graph = (spatial_row == spatial_row.T).astype(np.int32)\n",
    "spatial_graph[0, 0] = (\n",
    "    0  # the fake g4 is still equal to itself, we suppress this equality\n",
    ")"
   ]
  },
  {
   "cell_type": "code",
   "execution_count": 43,
   "metadata": {},
   "outputs": [],
   "source": [
    "temporal_row = pois_checkins[\"checkin_times\"].to_list()"
   ]
  },
  {
   "cell_type": "code",
   "execution_count": 44,
   "metadata": {},
   "outputs": [],
   "source": [
    "temporal_graph = np.zeros((spatial_row.shape[0], spatial_row.shape[0]))"
   ]
  },
  {
   "cell_type": "code",
   "execution_count": 45,
   "metadata": {},
   "outputs": [],
   "source": [
    "temporal_sets = [np.array(list(set(row))) for row in temporal_row]"
   ]
  },
  {
   "cell_type": "code",
   "execution_count": 46,
   "metadata": {},
   "outputs": [],
   "source": [
    "time_sets = torch.zeros((len(temporal_sets), 56), dtype=torch.int8)\n",
    "\n",
    "for i, r in enumerate(temporal_row):\n",
    "    indices = torch.tensor(r, dtype=torch.long)\n",
    "    time_sets[i, indices] = 1"
   ]
  },
  {
   "cell_type": "code",
   "execution_count": 47,
   "metadata": {},
   "outputs": [
    {
     "data": {
      "text/plain": [
       "torch.Size([4456, 56])"
      ]
     },
     "execution_count": 47,
     "metadata": {},
     "output_type": "execute_result"
    }
   ],
   "source": [
    "time_sets.shape"
   ]
  },
  {
   "cell_type": "code",
   "execution_count": 48,
   "metadata": {},
   "outputs": [],
   "source": [
    "# AND outer product\n",
    "\n",
    "intersection = time_sets @ time_sets.T\n",
    "union = time_sets.unsqueeze(1) | time_sets.unsqueeze(0)\n",
    "union = union.sum(dim=2)\n",
    "iou = intersection / union"
   ]
  },
  {
   "cell_type": "code",
   "execution_count": 49,
   "metadata": {},
   "outputs": [],
   "source": [
    "temporal_graph = iou >= 0.9\n",
    "# cast to int\n",
    "temporal_graph = temporal_graph.int()"
   ]
  },
  {
   "cell_type": "code",
   "execution_count": 50,
   "metadata": {},
   "outputs": [
    {
     "data": {
      "text/plain": [
       "tensor(0)"
      ]
     },
     "execution_count": 50,
     "metadata": {},
     "output_type": "execute_result"
    }
   ],
   "source": [
    "temporal_graph[0, :].sum()"
   ]
  },
  {
   "cell_type": "markdown",
   "metadata": {},
   "source": [
    "We print information about the sparsity of the graphs, we note that \n",
    "the sparsity of the graphs is similar to that of the paper."
   ]
  },
  {
   "cell_type": "code",
   "execution_count": 51,
   "metadata": {},
   "outputs": [
    {
     "name": "stdout",
     "output_type": "stream",
     "text": [
      "Temporal sparsity: 97.05%\n",
      "Spatial sparsity: 96.99%\n"
     ]
    }
   ],
   "source": [
    "temporal_density = (\n",
    "    temporal_graph.sum() / (temporal_graph.shape[0] * temporal_graph.shape[1])\n",
    ").item()\n",
    "spatial_density = (\n",
    "    spatial_graph.sum() / (spatial_graph.shape[0] * spatial_graph.shape[1])\n",
    ").item()\n",
    "\n",
    "print(f\"Temporal sparsity: {(1 - temporal_density) * 100:.2f}%\")\n",
    "\n",
    "print(f\"Spatial sparsity: {(1 - spatial_density) * 100:.2f}%\")"
   ]
  },
  {
   "cell_type": "markdown",
   "metadata": {},
   "source": [
    "## Dataset and Datamodule\n",
    "\n",
    "We then define a pytorch dataset and a custom collation function that allows us to dynamically\n",
    "pad sequences to the longest one in the batch (as opposed to the longest one in the dataset)\n",
    "as they are loaded during training, this gives us an edge in performance by dramatically reducing the \n",
    "sparsity of our inputs."
   ]
  },
  {
   "cell_type": "code",
   "execution_count": 52,
   "metadata": {},
   "outputs": [],
   "source": [
    "from torch.utils.data import Dataset\n",
    "from torch.nn.utils.rnn import pad_sequence\n",
    "\n",
    "\n",
    "def rnn_collation_fn(batch):\n",
    "\n",
    "    users = []\n",
    "    pois = []\n",
    "    g2 = []\n",
    "    g3 = []\n",
    "    g4 = []\n",
    "    g5 = []\n",
    "    g6 = []\n",
    "\n",
    "    for user, poi, geo2, geo3, geo4, geo5, geo6 in batch:\n",
    "        users.append(user)\n",
    "        pois.append(poi)\n",
    "        g2.append(geo2)\n",
    "        g3.append(geo3)\n",
    "        g4.append(geo4)\n",
    "        g5.append(geo5)\n",
    "        g6.append(geo6)\n",
    "    seq = (\n",
    "        users,\n",
    "        pad_sequence(pois, batch_first=True, padding_value=0),\n",
    "        pad_sequence(g2, batch_first=True, padding_value=0),\n",
    "        pad_sequence(g3, batch_first=True, padding_value=0),\n",
    "        pad_sequence(g4, batch_first=True, padding_value=0),\n",
    "        pad_sequence(g5, batch_first=True, padding_value=0),\n",
    "        pad_sequence(g6, batch_first=True, padding_value=0),\n",
    "    )  # build a sequence\n",
    "\n",
    "    x = (\n",
    "        seq[0],\n",
    "        seq[1][:, :-1],\n",
    "        seq[2][:, :-1],\n",
    "        seq[3][:, :-1],\n",
    "        seq[4][:, :-1],\n",
    "        seq[5][:, :-1],\n",
    "        seq[6][:, :-1],\n",
    "    )  # omit the last one for sample\n",
    "\n",
    "    y = (\n",
    "        seq[0],\n",
    "        seq[1][:, 1:],\n",
    "        seq[2][:, 1:],\n",
    "        seq[3][:, 1:],\n",
    "        seq[4][:, 1:],\n",
    "        seq[5][:, 1:],\n",
    "        seq[6][:, 1:],\n",
    "    )  # omit the first one for ground truth\n",
    "\n",
    "    return x, y\n",
    "\n",
    "\n",
    "class CheckinDataset(Dataset):\n",
    "    def __init__(self, data):\n",
    "        self.data = data\n",
    "\n",
    "    def __len__(self):\n",
    "        return len(self.data[\"users\"])\n",
    "\n",
    "    def __getitem__(self, idx):\n",
    "\n",
    "        x = (\n",
    "            torch.tensor(encoded_data[\"users\"][idx], dtype=torch.long),\n",
    "            torch.tensor(encoded_data[\"pois\"][idx], dtype=torch.long),\n",
    "            torch.tensor(encoded_data[\"g2\"][idx], dtype=torch.long),\n",
    "            torch.tensor(encoded_data[\"g3\"][idx], dtype=torch.long),\n",
    "            torch.tensor(encoded_data[\"g4\"][idx], dtype=torch.long),\n",
    "            torch.tensor(encoded_data[\"g5\"][idx], dtype=torch.long),\n",
    "            torch.tensor(encoded_data[\"g6\"][idx], dtype=torch.long),\n",
    "        )\n",
    "\n",
    "        return x"
   ]
  },
  {
   "cell_type": "code",
   "execution_count": 53,
   "metadata": {},
   "outputs": [],
   "source": [
    "class CheckinModule(pl.LightningDataModule):\n",
    "    def __init__(self, encoded_data, batch_size=32, workers=4):\n",
    "        super().__init__()\n",
    "        self.encoded_data = encoded_data\n",
    "        self.batch_size = batch_size\n",
    "        self.workers = workers\n",
    "\n",
    "    def setup(self, stage=None):\n",
    "        self.whole_dataset = CheckinDataset(self.encoded_data)\n",
    "\n",
    "        l = len(self.whole_dataset)\n",
    "\n",
    "        train_size = int(0.8 * l)\n",
    "        val_size = int(0.1 * l)\n",
    "        test_size = l - train_size - val_size\n",
    "\n",
    "        # generate train, val, test datasets by random split\n",
    "        self.train_dataset, self.val_dataset, self.test_dataset = (\n",
    "            torch.utils.data.random_split(\n",
    "                self.whole_dataset, [train_size, val_size, test_size]\n",
    "            )\n",
    "        )\n",
    "\n",
    "    def train_dataloader(self):\n",
    "        return torch.utils.data.DataLoader(\n",
    "            self.train_dataset,\n",
    "            batch_size=self.batch_size,\n",
    "            shuffle=True,\n",
    "            num_workers=self.workers,\n",
    "            collate_fn=rnn_collation_fn,\n",
    "        )\n",
    "\n",
    "    def val_dataloader(self):\n",
    "        return torch.utils.data.DataLoader(\n",
    "            self.val_dataset,\n",
    "            batch_size=self.batch_size,\n",
    "            shuffle=False,\n",
    "            num_workers=self.workers,\n",
    "            collate_fn=rnn_collation_fn,\n",
    "        )\n",
    "\n",
    "    def test_dataloader(self):\n",
    "        return torch.utils.data.DataLoader(\n",
    "            self.test_dataset,\n",
    "            batch_size=self.batch_size,\n",
    "            shuffle=False,\n",
    "            num_workers=self.workers,\n",
    "            collate_fn=rnn_collation_fn,\n",
    "        )\n",
    "\n",
    "    def save(self, whole_path, train_path, val_path, test_path):\n",
    "        torch.save(self.whole_dataset, whole_path)\n",
    "        torch.save(self.train_dataset, train_path)\n",
    "        torch.save(self.val_dataset, val_path)\n",
    "        torch.save(self.test_dataset, test_path)\n",
    "\n",
    "    @staticmethod  # load without instantiating\n",
    "    def load(whole_path, train_path, val_path, test_path):\n",
    "        whole_dataset = torch.load(whole_path)\n",
    "        train_dataset = torch.load(train_path)\n",
    "        val_dataset = torch.load(val_path)\n",
    "        test_dataset = torch.load(test_path)\n",
    "        return whole_dataset, train_dataset, val_dataset, test_dataset"
   ]
  },
  {
   "cell_type": "markdown",
   "metadata": {},
   "source": [
    "## Baseline model: LSTM"
   ]
  },
  {
   "cell_type": "code",
   "execution_count": null,
   "metadata": {},
   "outputs": [],
   "source": []
  },
  {
   "cell_type": "markdown",
   "metadata": {},
   "source": [
    "## Scrapbook for Experimentation\n",
    "\n",
    "Ignore all code below, it's just for quick prototyping"
   ]
  }
 ],
 "metadata": {
  "kernelspec": {
   "display_name": ".env",
   "language": "python",
   "name": "python3"
  },
  "language_info": {
   "codemirror_mode": {
    "name": "ipython",
    "version": 3
   },
   "file_extension": ".py",
   "mimetype": "text/x-python",
   "name": "python",
   "nbconvert_exporter": "python",
   "pygments_lexer": "ipython3",
   "version": "3.12.3"
  }
 },
 "nbformat": 4,
 "nbformat_minor": 2
}
