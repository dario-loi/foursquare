{
 "cells": [
  {
   "cell_type": "code",
   "execution_count": 1,
   "metadata": {},
   "outputs": [],
   "source": [
    "import polars as rs"
   ]
  },
  {
   "cell_type": "code",
   "execution_count": 2,
   "metadata": {},
   "outputs": [],
   "source": [
    "columns = [\"user\", \"poi\", \"date\", \"TZ\"]"
   ]
  },
  {
   "cell_type": "code",
   "execution_count": 3,
   "metadata": {},
   "outputs": [],
   "source": [
    "data = rs.read_csv(\n",
    "    \"dataset_TIST2015/dataset_TIST2015_Checkins.txt\",\n",
    "    has_header=False,\n",
    "    low_memory=True,\n",
    "    separator=\"\\t\",\n",
    ")"
   ]
  },
  {
   "cell_type": "code",
   "execution_count": 4,
   "metadata": {},
   "outputs": [],
   "source": [
    "data.columns = columns"
   ]
  },
  {
   "cell_type": "code",
   "execution_count": 5,
   "metadata": {},
   "outputs": [
    {
     "data": {
      "text/html": [
       "<div><style>\n",
       ".dataframe > thead > tr,\n",
       ".dataframe > tbody > tr {\n",
       "  text-align: right;\n",
       "  white-space: pre-wrap;\n",
       "}\n",
       "</style>\n",
       "<small>shape: (33_263_633, 4)</small><table border=\"1\" class=\"dataframe\"><thead><tr><th>user</th><th>poi</th><th>date</th><th>TZ</th></tr><tr><td>i64</td><td>str</td><td>str</td><td>i64</td></tr></thead><tbody><tr><td>50756</td><td>&quot;4f5e3a72e4b053…</td><td>&quot;Tue Apr 03 18:…</td><td>240</td></tr><tr><td>190571</td><td>&quot;4b4b87b5f964a5…</td><td>&quot;Tue Apr 03 18:…</td><td>180</td></tr><tr><td>221021</td><td>&quot;4a85b1b3f964a5…</td><td>&quot;Tue Apr 03 18:…</td><td>-240</td></tr><tr><td>66981</td><td>&quot;4b4606f2f964a5…</td><td>&quot;Tue Apr 03 18:…</td><td>-300</td></tr><tr><td>21010</td><td>&quot;4c2b4e8a9a559c…</td><td>&quot;Tue Apr 03 18:…</td><td>240</td></tr><tr><td>&hellip;</td><td>&hellip;</td><td>&hellip;</td><td>&hellip;</td></tr><tr><td>16349</td><td>&quot;4c957755c8a1bf…</td><td>&quot;Mon Sep 16 23:…</td><td>-240</td></tr><tr><td>256757</td><td>&quot;4c8bbb6d9ef022…</td><td>&quot;Mon Sep 16 23:…</td><td>-180</td></tr><tr><td>66425</td><td>&quot;513e82a5e4b0ed…</td><td>&quot;Mon Sep 16 23:…</td><td>-180</td></tr><tr><td>1830</td><td>&quot;4b447865f964a5…</td><td>&quot;Mon Sep 16 23:…</td><td>120</td></tr><tr><td>22704</td><td>&quot;50df4ee5e4b0c4…</td><td>&quot;Mon Sep 16 23:…</td><td>180</td></tr></tbody></table></div>"
      ],
      "text/plain": [
       "shape: (33_263_633, 4)\n",
       "┌────────┬──────────────────────────┬────────────────────────────────┬──────┐\n",
       "│ user   ┆ poi                      ┆ date                           ┆ TZ   │\n",
       "│ ---    ┆ ---                      ┆ ---                            ┆ ---  │\n",
       "│ i64    ┆ str                      ┆ str                            ┆ i64  │\n",
       "╞════════╪══════════════════════════╪════════════════════════════════╪══════╡\n",
       "│ 50756  ┆ 4f5e3a72e4b053fd6a4313f6 ┆ Tue Apr 03 18:00:06 +0000 2012 ┆ 240  │\n",
       "│ 190571 ┆ 4b4b87b5f964a5204a9f26e3 ┆ Tue Apr 03 18:00:07 +0000 2012 ┆ 180  │\n",
       "│ 221021 ┆ 4a85b1b3f964a520eefe1fe3 ┆ Tue Apr 03 18:00:08 +0000 2012 ┆ -240 │\n",
       "│ 66981  ┆ 4b4606f2f964a520751426e3 ┆ Tue Apr 03 18:00:08 +0000 2012 ┆ -300 │\n",
       "│ 21010  ┆ 4c2b4e8a9a559c74832f0de2 ┆ Tue Apr 03 18:00:09 +0000 2012 ┆ 240  │\n",
       "│ …      ┆ …                        ┆ …                              ┆ …    │\n",
       "│ 16349  ┆ 4c957755c8a1bfb7e89024f3 ┆ Mon Sep 16 23:24:11 +0000 2013 ┆ -240 │\n",
       "│ 256757 ┆ 4c8bbb6d9ef0224bd2d6667b ┆ Mon Sep 16 23:24:13 +0000 2013 ┆ -180 │\n",
       "│ 66425  ┆ 513e82a5e4b0ed4f0f3bcf2d ┆ Mon Sep 16 23:24:14 +0000 2013 ┆ -180 │\n",
       "│ 1830   ┆ 4b447865f964a5204cf525e3 ┆ Mon Sep 16 23:24:14 +0000 2013 ┆ 120  │\n",
       "│ 22704  ┆ 50df4ee5e4b0c48b5a1c2968 ┆ Mon Sep 16 23:24:15 +0000 2013 ┆ 180  │\n",
       "└────────┴──────────────────────────┴────────────────────────────────┴──────┘"
      ]
     },
     "execution_count": 5,
     "metadata": {},
     "output_type": "execute_result"
    }
   ],
   "source": [
    "data"
   ]
  },
  {
   "cell_type": "code",
   "execution_count": 6,
   "metadata": {},
   "outputs": [],
   "source": [
    "data_users = (\n",
    "    data.lazy()\n",
    "    .group_by(\"user\")\n",
    "    .agg(\n",
    "        [\n",
    "            rs.col(\"poi\").n_unique().alias(\"n_pois\"),\n",
    "            rs.col(\"poi\").count().alias(\"n_checkins\"),\n",
    "            # turn the rest into a list\n",
    "            rs.col(\"poi\").alias(\"pois\"),\n",
    "            rs.col(\"date\").alias(\"dates\"),\n",
    "            rs.col(\"TZ\").alias(\"TZs\"),\n",
    "        ]\n",
    "    )\n",
    ").collect()"
   ]
  },
  {
   "cell_type": "code",
   "execution_count": 7,
   "metadata": {},
   "outputs": [
    {
     "data": {
      "text/html": [
       "<div><style>\n",
       ".dataframe > thead > tr,\n",
       ".dataframe > tbody > tr {\n",
       "  text-align: right;\n",
       "  white-space: pre-wrap;\n",
       "}\n",
       "</style>\n",
       "<small>shape: (9, 7)</small><table border=\"1\" class=\"dataframe\"><thead><tr><th>statistic</th><th>user</th><th>n_pois</th><th>n_checkins</th><th>pois</th><th>dates</th><th>TZs</th></tr><tr><td>str</td><td>f64</td><td>f64</td><td>f64</td><td>f64</td><td>f64</td><td>f64</td></tr></thead><tbody><tr><td>&quot;count&quot;</td><td>266909.0</td><td>266909.0</td><td>266909.0</td><td>266909.0</td><td>266909.0</td><td>266909.0</td></tr><tr><td>&quot;null_count&quot;</td><td>0.0</td><td>0.0</td><td>0.0</td><td>0.0</td><td>0.0</td><td>0.0</td></tr><tr><td>&quot;mean&quot;</td><td>133455.0</td><td>56.477459</td><td>124.62537</td><td>null</td><td>null</td><td>null</td></tr><tr><td>&quot;std&quot;</td><td>77050.135837</td><td>45.968603</td><td>140.692138</td><td>null</td><td>null</td><td>null</td></tr><tr><td>&quot;min&quot;</td><td>1.0</td><td>1.0</td><td>1.0</td><td>null</td><td>null</td><td>null</td></tr><tr><td>&quot;25%&quot;</td><td>66728.0</td><td>30.0</td><td>61.0</td><td>null</td><td>null</td><td>null</td></tr><tr><td>&quot;50%&quot;</td><td>133455.0</td><td>49.0</td><td>93.0</td><td>null</td><td>null</td><td>null</td></tr><tr><td>&quot;75%&quot;</td><td>200182.0</td><td>71.0</td><td>148.0</td><td>null</td><td>null</td><td>null</td></tr><tr><td>&quot;max&quot;</td><td>266909.0</td><td>1246.0</td><td>5430.0</td><td>null</td><td>null</td><td>null</td></tr></tbody></table></div>"
      ],
      "text/plain": [
       "shape: (9, 7)\n",
       "┌────────────┬──────────────┬───────────┬────────────┬──────────┬──────────┬──────────┐\n",
       "│ statistic  ┆ user         ┆ n_pois    ┆ n_checkins ┆ pois     ┆ dates    ┆ TZs      │\n",
       "│ ---        ┆ ---          ┆ ---       ┆ ---        ┆ ---      ┆ ---      ┆ ---      │\n",
       "│ str        ┆ f64          ┆ f64       ┆ f64        ┆ f64      ┆ f64      ┆ f64      │\n",
       "╞════════════╪══════════════╪═══════════╪════════════╪══════════╪══════════╪══════════╡\n",
       "│ count      ┆ 266909.0     ┆ 266909.0  ┆ 266909.0   ┆ 266909.0 ┆ 266909.0 ┆ 266909.0 │\n",
       "│ null_count ┆ 0.0          ┆ 0.0       ┆ 0.0        ┆ 0.0      ┆ 0.0      ┆ 0.0      │\n",
       "│ mean       ┆ 133455.0     ┆ 56.477459 ┆ 124.62537  ┆ null     ┆ null     ┆ null     │\n",
       "│ std        ┆ 77050.135837 ┆ 45.968603 ┆ 140.692138 ┆ null     ┆ null     ┆ null     │\n",
       "│ min        ┆ 1.0          ┆ 1.0       ┆ 1.0        ┆ null     ┆ null     ┆ null     │\n",
       "│ 25%        ┆ 66728.0      ┆ 30.0      ┆ 61.0       ┆ null     ┆ null     ┆ null     │\n",
       "│ 50%        ┆ 133455.0     ┆ 49.0      ┆ 93.0       ┆ null     ┆ null     ┆ null     │\n",
       "│ 75%        ┆ 200182.0     ┆ 71.0      ┆ 148.0      ┆ null     ┆ null     ┆ null     │\n",
       "│ max        ┆ 266909.0     ┆ 1246.0    ┆ 5430.0     ┆ null     ┆ null     ┆ null     │\n",
       "└────────────┴──────────────┴───────────┴────────────┴──────────┴──────────┴──────────┘"
      ]
     },
     "execution_count": 7,
     "metadata": {},
     "output_type": "execute_result"
    }
   ],
   "source": [
    "data_users.describe()"
   ]
  },
  {
   "cell_type": "code",
   "execution_count": 8,
   "metadata": {},
   "outputs": [],
   "source": [
    "data_culled = data_users.filter(\n",
    "    (rs.col(\"n_checkins\") > 20) & (rs.col(\"n_checkins\") < 50)\n",
    ").drop_nulls()"
   ]
  },
  {
   "cell_type": "code",
   "execution_count": 9,
   "metadata": {},
   "outputs": [
    {
     "data": {
      "text/plain": [
       "142"
      ]
     },
     "execution_count": 9,
     "metadata": {},
     "output_type": "execute_result"
    }
   ],
   "source": [
    "del data\n",
    "del data_users\n",
    "\n",
    "import gc\n",
    "\n",
    "gc.collect()"
   ]
  },
  {
   "cell_type": "code",
   "execution_count": null,
   "metadata": {},
   "outputs": [],
   "source": []
  },
  {
   "cell_type": "code",
   "execution_count": 10,
   "metadata": {},
   "outputs": [],
   "source": [
    "# extract unique elements from each lists in data_culled[\"pois\"]\n",
    "out = data_culled.with_columns(\n",
    "    [\n",
    "        rs.col(\"pois\").list.unique(),\n",
    "        rs.col(\"pois\").list.unique().list.len().alias(\"n_unique_pois\"),\n",
    "    ]\n",
    ")"
   ]
  },
  {
   "cell_type": "code",
   "execution_count": 11,
   "metadata": {},
   "outputs": [
    {
     "data": {
      "text/html": [
       "<div><style>\n",
       ".dataframe > thead > tr,\n",
       ".dataframe > tbody > tr {\n",
       "  text-align: right;\n",
       "  white-space: pre-wrap;\n",
       "}\n",
       "</style>\n",
       "<small>shape: (21_697, 6)</small><table border=\"1\" class=\"dataframe\"><thead><tr><th>user</th><th>n_pois</th><th>n_checkins</th><th>pois</th><th>dates</th><th>TZs</th></tr><tr><td>i64</td><td>u32</td><td>u32</td><td>list[str]</td><td>list[str]</td><td>list[i64]</td></tr></thead><tbody><tr><td>250774</td><td>25</td><td>26</td><td>[&quot;501655d7e4b0c79e4914ad13&quot;, &quot;4d596f261d4a8cfaaf6b8ced&quot;, … &quot;4c3efdc08d99b713a3021b06&quot;]</td><td>[&quot;Tue Nov 27 21:12:14 +0000 2012&quot;, &quot;Sun Dec 09 10:22:54 +0000 2012&quot;, … &quot;Sat Aug 17 11:46:58 +0000 2013&quot;]</td><td>[120, 120, … 180]</td></tr><tr><td>248598</td><td>30</td><td>46</td><td>[&quot;4e38456dd164374eb68f388c&quot;, &quot;4d0d1f5e1f6bf04d1c9d7b31&quot;, … &quot;4e9f06d19a52cd825d216b31&quot;]</td><td>[&quot;Sat Apr 07 14:07:10 +0000 2012&quot;, &quot;Sun Apr 08 12:31:15 +0000 2012&quot;, … &quot;Tue Jul 02 13:55:38 +0000 2013&quot;]</td><td>[180, 180, … 180]</td></tr><tr><td>236736</td><td>31</td><td>39</td><td>[&quot;4b8a9821f964a520187432e3&quot;, &quot;4c42710b3735be9ac71d1aa4&quot;, … &quot;4bf2c93620960f47bba66e2f&quot;]</td><td>[&quot;Sat Dec 29 20:57:43 +0000 2012&quot;, &quot;Sat Dec 29 23:47:48 +0000 2012&quot;, … &quot;Wed Sep 04 14:06:49 +0000 2013&quot;]</td><td>[-300, -300, … -240]</td></tr><tr><td>61240</td><td>24</td><td>25</td><td>[&quot;4f4f47f3e4b066791aaa6380&quot;, &quot;4e2463e7b0fbdf9ba7c6d470&quot;, … &quot;51a32447498ea34bef99f9f4&quot;]</td><td>[&quot;Tue Feb 19 07:55:08 +0000 2013&quot;, &quot;Mon Mar 04 09:14:47 +0000 2013&quot;, … &quot;Sat Aug 10 21:22:48 +0000 2013&quot;]</td><td>[120, 120, … 180]</td></tr><tr><td>46160</td><td>24</td><td>26</td><td>[&quot;4e58ea2a18388cd5cb9b6be5&quot;, &quot;4daa809493a04642f081ebf4&quot;, … &quot;509d066ae4b057cac320cf6a&quot;]</td><td>[&quot;Sat Jun 30 20:27:11 +0000 2012&quot;, &quot;Sat Jun 30 23:44:46 +0000 2012&quot;, … &quot;Mon Apr 22 18:06:33 +0000 2013&quot;]</td><td>[-360, -360, … -360]</td></tr><tr><td>&hellip;</td><td>&hellip;</td><td>&hellip;</td><td>&hellip;</td><td>&hellip;</td><td>&hellip;</td></tr><tr><td>75855</td><td>34</td><td>39</td><td>[&quot;4c10bacbb93cc9b66c2357e0&quot;, &quot;4e69c76dd22d0e4cf5c0138f&quot;, … &quot;4ebaaafb6c25faf0a4f28a04&quot;]</td><td>[&quot;Sun Apr 08 05:21:17 +0000 2012&quot;, &quot;Sun Apr 08 05:22:01 +0000 2012&quot;, … &quot;Mon Aug 26 10:43:43 +0000 2013&quot;]</td><td>[330, 330, … 330]</td></tr><tr><td>108915</td><td>35</td><td>42</td><td>[&quot;4bf7409c5efe2d7f51c56834&quot;, &quot;4283ee00f964a52089221fe3&quot;, … &quot;49baa706f964a52091531fe3&quot;]</td><td>[&quot;Sat Apr 21 03:11:51 +0000 2012&quot;, &quot;Sun May 13 00:35:53 +0000 2012&quot;, … &quot;Sat Aug 31 02:35:30 +0000 2013&quot;]</td><td>[-420, -420, … -420]</td></tr><tr><td>150951</td><td>31</td><td>41</td><td>[&quot;4b99c918f964a520b49135e3&quot;, &quot;4c91d3fb0c209c74684734ff&quot;, … &quot;4e780b81c65b409c469c314f&quot;]</td><td>[&quot;Thu Apr 12 07:53:28 +0000 2012&quot;, &quot;Thu Apr 19 11:13:08 +0000 2012&quot;, … &quot;Tue Apr 02 22:52:23 +0000 2013&quot;]</td><td>[420, 420, … 420]</td></tr><tr><td>131149</td><td>21</td><td>31</td><td>[&quot;4b59181cf964a5203f7c28e3&quot;, &quot;4c6dc621f338236a05bb081b&quot;, … &quot;4b59181cf964a5203f7c28e3&quot;]</td><td>[&quot;Fri Apr 13 13:40:39 +0000 2012&quot;, &quot;Fri Apr 13 14:05:26 +0000 2012&quot;, … &quot;Thu Jul 04 22:35:56 +0000 2013&quot;]</td><td>[-300, -300, … -300]</td></tr><tr><td>194964</td><td>34</td><td>47</td><td>[&quot;4b7ac5ebf964a5200d3c2fe3&quot;, &quot;4bfecea868c7a5935cb83f44&quot;, … &quot;4e2332d422717a5245dce6ba&quot;]</td><td>[&quot;Mon Oct 08 10:11:24 +0000 2012&quot;, &quot;Mon Oct 08 12:30:53 +0000 2012&quot;, … &quot;Sat Jun 01 12:04:10 +0000 2013&quot;]</td><td>[180, 180, … 180]</td></tr></tbody></table></div>"
      ],
      "text/plain": [
       "shape: (21_697, 6)\n",
       "┌────────┬────────┬────────────┬─────────────────────────┬────────────────┬────────────────────────┐\n",
       "│ user   ┆ n_pois ┆ n_checkins ┆ pois                    ┆ dates          ┆ TZs                    │\n",
       "│ ---    ┆ ---    ┆ ---        ┆ ---                     ┆ ---            ┆ ---                    │\n",
       "│ i64    ┆ u32    ┆ u32        ┆ list[str]               ┆ list[str]      ┆ list[i64]              │\n",
       "╞════════╪════════╪════════════╪═════════════════════════╪════════════════╪════════════════════════╡\n",
       "│ 250774 ┆ 25     ┆ 26         ┆ [\"501655d7e4b0c79e4914a ┆ [\"Tue Nov 27   ┆ [120, 120, … 180]      │\n",
       "│        ┆        ┆            ┆ d13\", \"4d…              ┆ 21:12:14 +0000 ┆                        │\n",
       "│        ┆        ┆            ┆                         ┆ 2012…          ┆                        │\n",
       "│ 248598 ┆ 30     ┆ 46         ┆ [\"4e38456dd164374eb68f3 ┆ [\"Sat Apr 07   ┆ [180, 180, … 180]      │\n",
       "│        ┆        ┆            ┆ 88c\", \"4d…              ┆ 14:07:10 +0000 ┆                        │\n",
       "│        ┆        ┆            ┆                         ┆ 2012…          ┆                        │\n",
       "│ 236736 ┆ 31     ┆ 39         ┆ [\"4b8a9821f964a52018743 ┆ [\"Sat Dec 29   ┆ [-300, -300, … -240]   │\n",
       "│        ┆        ┆            ┆ 2e3\", \"4c…              ┆ 20:57:43 +0000 ┆                        │\n",
       "│        ┆        ┆            ┆                         ┆ 2012…          ┆                        │\n",
       "│ 61240  ┆ 24     ┆ 25         ┆ [\"4f4f47f3e4b066791aaa6 ┆ [\"Tue Feb 19   ┆ [120, 120, … 180]      │\n",
       "│        ┆        ┆            ┆ 380\", \"4e…              ┆ 07:55:08 +0000 ┆                        │\n",
       "│        ┆        ┆            ┆                         ┆ 2013…          ┆                        │\n",
       "│ 46160  ┆ 24     ┆ 26         ┆ [\"4e58ea2a18388cd5cb9b6 ┆ [\"Sat Jun 30   ┆ [-360, -360, … -360]   │\n",
       "│        ┆        ┆            ┆ be5\", \"4d…              ┆ 20:27:11 +0000 ┆                        │\n",
       "│        ┆        ┆            ┆                         ┆ 2012…          ┆                        │\n",
       "│ …      ┆ …      ┆ …          ┆ …                       ┆ …              ┆ …                      │\n",
       "│ 75855  ┆ 34     ┆ 39         ┆ [\"4c10bacbb93cc9b66c235 ┆ [\"Sun Apr 08   ┆ [330, 330, … 330]      │\n",
       "│        ┆        ┆            ┆ 7e0\", \"4e…              ┆ 05:21:17 +0000 ┆                        │\n",
       "│        ┆        ┆            ┆                         ┆ 2012…          ┆                        │\n",
       "│ 108915 ┆ 35     ┆ 42         ┆ [\"4bf7409c5efe2d7f51c56 ┆ [\"Sat Apr 21   ┆ [-420, -420, … -420]   │\n",
       "│        ┆        ┆            ┆ 834\", \"42…              ┆ 03:11:51 +0000 ┆                        │\n",
       "│        ┆        ┆            ┆                         ┆ 2012…          ┆                        │\n",
       "│ 150951 ┆ 31     ┆ 41         ┆ [\"4b99c918f964a520b4913 ┆ [\"Thu Apr 12   ┆ [420, 420, … 420]      │\n",
       "│        ┆        ┆            ┆ 5e3\", \"4c…              ┆ 07:53:28 +0000 ┆                        │\n",
       "│        ┆        ┆            ┆                         ┆ 2012…          ┆                        │\n",
       "│ 131149 ┆ 21     ┆ 31         ┆ [\"4b59181cf964a5203f7c2 ┆ [\"Fri Apr 13   ┆ [-300, -300, … -300]   │\n",
       "│        ┆        ┆            ┆ 8e3\", \"4c…              ┆ 13:40:39 +0000 ┆                        │\n",
       "│        ┆        ┆            ┆                         ┆ 2012…          ┆                        │\n",
       "│ 194964 ┆ 34     ┆ 47         ┆ [\"4b7ac5ebf964a5200d3c2 ┆ [\"Mon Oct 08   ┆ [180, 180, … 180]      │\n",
       "│        ┆        ┆            ┆ fe3\", \"4b…              ┆ 10:11:24 +0000 ┆                        │\n",
       "│        ┆        ┆            ┆                         ┆ 2012…          ┆                        │\n",
       "└────────┴────────┴────────────┴─────────────────────────┴────────────────┴────────────────────────┘"
      ]
     },
     "execution_count": 11,
     "metadata": {},
     "output_type": "execute_result"
    }
   ],
   "source": [
    "data_culled"
   ]
  },
  {
   "cell_type": "code",
   "execution_count": 12,
   "metadata": {},
   "outputs": [
    {
     "data": {
      "text/html": [
       "<div><style>\n",
       ".dataframe > thead > tr,\n",
       ".dataframe > tbody > tr {\n",
       "  text-align: right;\n",
       "  white-space: pre-wrap;\n",
       "}\n",
       "</style>\n",
       "<small>shape: (21_697, 7)</small><table border=\"1\" class=\"dataframe\"><thead><tr><th>user</th><th>n_pois</th><th>n_checkins</th><th>pois</th><th>dates</th><th>TZs</th><th>n_unique_pois</th></tr><tr><td>i64</td><td>u32</td><td>u32</td><td>list[str]</td><td>list[str]</td><td>list[i64]</td><td>u32</td></tr></thead><tbody><tr><td>250774</td><td>25</td><td>26</td><td>[&quot;4e14bced7d8b4c0d631165d5&quot;, &quot;4d889ba5b799a35df5c88463&quot;, … &quot;515e9ae3e4b0e31714095179&quot;]</td><td>[&quot;Tue Nov 27 21:12:14 +0000 2012&quot;, &quot;Sun Dec 09 10:22:54 +0000 2012&quot;, … &quot;Sat Aug 17 11:46:58 +0000 2013&quot;]</td><td>[120, 120, … 180]</td><td>25</td></tr><tr><td>248598</td><td>30</td><td>46</td><td>[&quot;4f7130abe4b0c719b22f91e6&quot;, &quot;4cbc6313adcd5481dc122ea2&quot;, … &quot;51399fffe4b0b84240654717&quot;]</td><td>[&quot;Sat Apr 07 14:07:10 +0000 2012&quot;, &quot;Sun Apr 08 12:31:15 +0000 2012&quot;, … &quot;Tue Jul 02 13:55:38 +0000 2013&quot;]</td><td>[180, 180, … 180]</td><td>30</td></tr><tr><td>236736</td><td>31</td><td>39</td><td>[&quot;4b494bdaf964a520bb6c26e3&quot;, &quot;4bc910e9511f95215e1badc7&quot;, … &quot;4bc73ba38b7c9c74e50236cf&quot;]</td><td>[&quot;Sat Dec 29 20:57:43 +0000 2012&quot;, &quot;Sat Dec 29 23:47:48 +0000 2012&quot;, … &quot;Wed Sep 04 14:06:49 +0000 2013&quot;]</td><td>[-300, -300, … -240]</td><td>31</td></tr><tr><td>61240</td><td>24</td><td>25</td><td>[&quot;4b6d43b6f964a520386e2ce3&quot;, &quot;4b744f96f964a52053d42de3&quot;, … &quot;4b60500bf964a5200edf29e3&quot;]</td><td>[&quot;Tue Feb 19 07:55:08 +0000 2013&quot;, &quot;Mon Mar 04 09:14:47 +0000 2013&quot;, … &quot;Sat Aug 10 21:22:48 +0000 2013&quot;]</td><td>[120, 120, … 180]</td><td>24</td></tr><tr><td>46160</td><td>24</td><td>26</td><td>[&quot;4daa809493a04642f081ebf4&quot;, &quot;4cc31383be40a35d6dbc754c&quot;, … &quot;4d279c2655a8b60c6956c5c0&quot;]</td><td>[&quot;Sat Jun 30 20:27:11 +0000 2012&quot;, &quot;Sat Jun 30 23:44:46 +0000 2012&quot;, … &quot;Mon Apr 22 18:06:33 +0000 2013&quot;]</td><td>[-360, -360, … -360]</td><td>24</td></tr><tr><td>&hellip;</td><td>&hellip;</td><td>&hellip;</td><td>&hellip;</td><td>&hellip;</td><td>&hellip;</td><td>&hellip;</td></tr><tr><td>75855</td><td>34</td><td>39</td><td>[&quot;4b913c94f964a5202fac33e3&quot;, &quot;4c10bacbb93cc9b66c2357e0&quot;, … &quot;4dc3c68efa76d685cdb51d65&quot;]</td><td>[&quot;Sun Apr 08 05:21:17 +0000 2012&quot;, &quot;Sun Apr 08 05:22:01 +0000 2012&quot;, … &quot;Mon Aug 26 10:43:43 +0000 2013&quot;]</td><td>[330, 330, … 330]</td><td>34</td></tr><tr><td>108915</td><td>35</td><td>42</td><td>[&quot;40a2ba80f964a5200ef31ee3&quot;, &quot;4a332eb4f964a520109b1fe3&quot;, … &quot;4cc639ce8062468878fa402f&quot;]</td><td>[&quot;Sat Apr 21 03:11:51 +0000 2012&quot;, &quot;Sun May 13 00:35:53 +0000 2012&quot;, … &quot;Sat Aug 31 02:35:30 +0000 2013&quot;]</td><td>[-420, -420, … -420]</td><td>35</td></tr><tr><td>150951</td><td>31</td><td>41</td><td>[&quot;4e510e7fd22daf51d28bedfb&quot;, &quot;4bdbe47663c5c9b65ef02968&quot;, … &quot;4bb92f18cf2fc9b6b157a002&quot;]</td><td>[&quot;Thu Apr 12 07:53:28 +0000 2012&quot;, &quot;Thu Apr 19 11:13:08 +0000 2012&quot;, … &quot;Tue Apr 02 22:52:23 +0000 2013&quot;]</td><td>[420, 420, … 420]</td><td>31</td></tr><tr><td>131149</td><td>21</td><td>31</td><td>[&quot;4b0586fff964a5203c7a22e3&quot;, &quot;4f0b63cae4b000dd786ce8a8&quot;, … &quot;4ea01c546da1f94e5c1c791f&quot;]</td><td>[&quot;Fri Apr 13 13:40:39 +0000 2012&quot;, &quot;Fri Apr 13 14:05:26 +0000 2012&quot;, … &quot;Thu Jul 04 22:35:56 +0000 2013&quot;]</td><td>[-300, -300, … -300]</td><td>21</td></tr><tr><td>194964</td><td>34</td><td>47</td><td>[&quot;4eb7f69929c212fb6d74e190&quot;, &quot;4e36b564d1649e45e3de06a2&quot;, … &quot;5024d9b2e4b095b2f21d77ca&quot;]</td><td>[&quot;Mon Oct 08 10:11:24 +0000 2012&quot;, &quot;Mon Oct 08 12:30:53 +0000 2012&quot;, … &quot;Sat Jun 01 12:04:10 +0000 2013&quot;]</td><td>[180, 180, … 180]</td><td>34</td></tr></tbody></table></div>"
      ],
      "text/plain": [
       "shape: (21_697, 7)\n",
       "┌────────┬────────┬────────────┬─────────────────┬────────────────┬────────────────┬───────────────┐\n",
       "│ user   ┆ n_pois ┆ n_checkins ┆ pois            ┆ dates          ┆ TZs            ┆ n_unique_pois │\n",
       "│ ---    ┆ ---    ┆ ---        ┆ ---             ┆ ---            ┆ ---            ┆ ---           │\n",
       "│ i64    ┆ u32    ┆ u32        ┆ list[str]       ┆ list[str]      ┆ list[i64]      ┆ u32           │\n",
       "╞════════╪════════╪════════════╪═════════════════╪════════════════╪════════════════╪═══════════════╡\n",
       "│ 250774 ┆ 25     ┆ 26         ┆ [\"4e14bced7d8b4 ┆ [\"Tue Nov 27   ┆ [120, 120, …   ┆ 25            │\n",
       "│        ┆        ┆            ┆ c0d631165d5\",   ┆ 21:12:14 +0000 ┆ 180]           ┆               │\n",
       "│        ┆        ┆            ┆ \"4d…            ┆ 2012…          ┆                ┆               │\n",
       "│ 248598 ┆ 30     ┆ 46         ┆ [\"4f7130abe4b0c ┆ [\"Sat Apr 07   ┆ [180, 180, …   ┆ 30            │\n",
       "│        ┆        ┆            ┆ 719b22f91e6\",   ┆ 14:07:10 +0000 ┆ 180]           ┆               │\n",
       "│        ┆        ┆            ┆ \"4c…            ┆ 2012…          ┆                ┆               │\n",
       "│ 236736 ┆ 31     ┆ 39         ┆ [\"4b494bdaf964a ┆ [\"Sat Dec 29   ┆ [-300, -300, … ┆ 31            │\n",
       "│        ┆        ┆            ┆ 520bb6c26e3\",   ┆ 20:57:43 +0000 ┆ -240]          ┆               │\n",
       "│        ┆        ┆            ┆ \"4b…            ┆ 2012…          ┆                ┆               │\n",
       "│ 61240  ┆ 24     ┆ 25         ┆ [\"4b6d43b6f964a ┆ [\"Tue Feb 19   ┆ [120, 120, …   ┆ 24            │\n",
       "│        ┆        ┆            ┆ 520386e2ce3\",   ┆ 07:55:08 +0000 ┆ 180]           ┆               │\n",
       "│        ┆        ┆            ┆ \"4b…            ┆ 2013…          ┆                ┆               │\n",
       "│ 46160  ┆ 24     ┆ 26         ┆ [\"4daa809493a04 ┆ [\"Sat Jun 30   ┆ [-360, -360, … ┆ 24            │\n",
       "│        ┆        ┆            ┆ 642f081ebf4\",   ┆ 20:27:11 +0000 ┆ -360]          ┆               │\n",
       "│        ┆        ┆            ┆ \"4c…            ┆ 2012…          ┆                ┆               │\n",
       "│ …      ┆ …      ┆ …          ┆ …               ┆ …              ┆ …              ┆ …             │\n",
       "│ 75855  ┆ 34     ┆ 39         ┆ [\"4b913c94f964a ┆ [\"Sun Apr 08   ┆ [330, 330, …   ┆ 34            │\n",
       "│        ┆        ┆            ┆ 5202fac33e3\",   ┆ 05:21:17 +0000 ┆ 330]           ┆               │\n",
       "│        ┆        ┆            ┆ \"4c…            ┆ 2012…          ┆                ┆               │\n",
       "│ 108915 ┆ 35     ┆ 42         ┆ [\"40a2ba80f964a ┆ [\"Sat Apr 21   ┆ [-420, -420, … ┆ 35            │\n",
       "│        ┆        ┆            ┆ 5200ef31ee3\",   ┆ 03:11:51 +0000 ┆ -420]          ┆               │\n",
       "│        ┆        ┆            ┆ \"4a…            ┆ 2012…          ┆                ┆               │\n",
       "│ 150951 ┆ 31     ┆ 41         ┆ [\"4e510e7fd22da ┆ [\"Thu Apr 12   ┆ [420, 420, …   ┆ 31            │\n",
       "│        ┆        ┆            ┆ f51d28bedfb\",   ┆ 07:53:28 +0000 ┆ 420]           ┆               │\n",
       "│        ┆        ┆            ┆ \"4b…            ┆ 2012…          ┆                ┆               │\n",
       "│ 131149 ┆ 21     ┆ 31         ┆ [\"4b0586fff964a ┆ [\"Fri Apr 13   ┆ [-300, -300, … ┆ 21            │\n",
       "│        ┆        ┆            ┆ 5203c7a22e3\",   ┆ 13:40:39 +0000 ┆ -300]          ┆               │\n",
       "│        ┆        ┆            ┆ \"4f…            ┆ 2012…          ┆                ┆               │\n",
       "│ 194964 ┆ 34     ┆ 47         ┆ [\"4eb7f69929c21 ┆ [\"Mon Oct 08   ┆ [180, 180, …   ┆ 34            │\n",
       "│        ┆        ┆            ┆ 2fb6d74e190\",   ┆ 10:11:24 +0000 ┆ 180]           ┆               │\n",
       "│        ┆        ┆            ┆ \"4e…            ┆ 2012…          ┆                ┆               │\n",
       "└────────┴────────┴────────────┴─────────────────┴────────────────┴────────────────┴───────────────┘"
      ]
     },
     "execution_count": 12,
     "metadata": {},
     "output_type": "execute_result"
    }
   ],
   "source": [
    "out"
   ]
  },
  {
   "cell_type": "code",
   "execution_count": 13,
   "metadata": {},
   "outputs": [],
   "source": [
    "l = out[\"pois\"][0].to_list()"
   ]
  },
  {
   "cell_type": "code",
   "execution_count": 14,
   "metadata": {},
   "outputs": [
    {
     "data": {
      "text/plain": [
       "25"
      ]
     },
     "execution_count": 14,
     "metadata": {},
     "output_type": "execute_result"
    }
   ],
   "source": [
    "len(set(l))"
   ]
  },
  {
   "cell_type": "code",
   "execution_count": 15,
   "metadata": {},
   "outputs": [],
   "source": [
    "l2 = data_culled[\"pois\"][0].to_list()"
   ]
  },
  {
   "cell_type": "code",
   "execution_count": 16,
   "metadata": {},
   "outputs": [
    {
     "data": {
      "text/plain": [
       "26"
      ]
     },
     "execution_count": 16,
     "metadata": {},
     "output_type": "execute_result"
    }
   ],
   "source": [
    "len(l2)"
   ]
  },
  {
   "cell_type": "code",
   "execution_count": 17,
   "metadata": {},
   "outputs": [
    {
     "data": {
      "text/plain": [
       "25"
      ]
     },
     "execution_count": 17,
     "metadata": {},
     "output_type": "execute_result"
    }
   ],
   "source": [
    "len(set(l2))"
   ]
  },
  {
   "cell_type": "code",
   "execution_count": 18,
   "metadata": {},
   "outputs": [
    {
     "data": {
      "text/html": [
       "<div><style>\n",
       ".dataframe > thead > tr,\n",
       ".dataframe > tbody > tr {\n",
       "  text-align: right;\n",
       "  white-space: pre-wrap;\n",
       "}\n",
       "</style>\n",
       "<small>shape: (21_697, 7)</small><table border=\"1\" class=\"dataframe\"><thead><tr><th>user</th><th>n_pois</th><th>n_checkins</th><th>pois</th><th>dates</th><th>TZs</th><th>n_unique_pois</th></tr><tr><td>i64</td><td>u32</td><td>u32</td><td>list[str]</td><td>list[str]</td><td>list[i64]</td><td>u32</td></tr></thead><tbody><tr><td>250774</td><td>25</td><td>26</td><td>[&quot;4e14bced7d8b4c0d631165d5&quot;, &quot;4d889ba5b799a35df5c88463&quot;, … &quot;515e9ae3e4b0e31714095179&quot;]</td><td>[&quot;Tue Nov 27 21:12:14 +0000 2012&quot;, &quot;Sun Dec 09 10:22:54 +0000 2012&quot;, … &quot;Sat Aug 17 11:46:58 +0000 2013&quot;]</td><td>[120, 120, … 180]</td><td>25</td></tr><tr><td>248598</td><td>30</td><td>46</td><td>[&quot;4f7130abe4b0c719b22f91e6&quot;, &quot;4cbc6313adcd5481dc122ea2&quot;, … &quot;51399fffe4b0b84240654717&quot;]</td><td>[&quot;Sat Apr 07 14:07:10 +0000 2012&quot;, &quot;Sun Apr 08 12:31:15 +0000 2012&quot;, … &quot;Tue Jul 02 13:55:38 +0000 2013&quot;]</td><td>[180, 180, … 180]</td><td>30</td></tr><tr><td>236736</td><td>31</td><td>39</td><td>[&quot;4b494bdaf964a520bb6c26e3&quot;, &quot;4bc910e9511f95215e1badc7&quot;, … &quot;4bc73ba38b7c9c74e50236cf&quot;]</td><td>[&quot;Sat Dec 29 20:57:43 +0000 2012&quot;, &quot;Sat Dec 29 23:47:48 +0000 2012&quot;, … &quot;Wed Sep 04 14:06:49 +0000 2013&quot;]</td><td>[-300, -300, … -240]</td><td>31</td></tr><tr><td>61240</td><td>24</td><td>25</td><td>[&quot;4b6d43b6f964a520386e2ce3&quot;, &quot;4b744f96f964a52053d42de3&quot;, … &quot;4b60500bf964a5200edf29e3&quot;]</td><td>[&quot;Tue Feb 19 07:55:08 +0000 2013&quot;, &quot;Mon Mar 04 09:14:47 +0000 2013&quot;, … &quot;Sat Aug 10 21:22:48 +0000 2013&quot;]</td><td>[120, 120, … 180]</td><td>24</td></tr><tr><td>46160</td><td>24</td><td>26</td><td>[&quot;4daa809493a04642f081ebf4&quot;, &quot;4cc31383be40a35d6dbc754c&quot;, … &quot;4d279c2655a8b60c6956c5c0&quot;]</td><td>[&quot;Sat Jun 30 20:27:11 +0000 2012&quot;, &quot;Sat Jun 30 23:44:46 +0000 2012&quot;, … &quot;Mon Apr 22 18:06:33 +0000 2013&quot;]</td><td>[-360, -360, … -360]</td><td>24</td></tr><tr><td>&hellip;</td><td>&hellip;</td><td>&hellip;</td><td>&hellip;</td><td>&hellip;</td><td>&hellip;</td><td>&hellip;</td></tr><tr><td>75855</td><td>34</td><td>39</td><td>[&quot;4b913c94f964a5202fac33e3&quot;, &quot;4c10bacbb93cc9b66c2357e0&quot;, … &quot;4dc3c68efa76d685cdb51d65&quot;]</td><td>[&quot;Sun Apr 08 05:21:17 +0000 2012&quot;, &quot;Sun Apr 08 05:22:01 +0000 2012&quot;, … &quot;Mon Aug 26 10:43:43 +0000 2013&quot;]</td><td>[330, 330, … 330]</td><td>34</td></tr><tr><td>108915</td><td>35</td><td>42</td><td>[&quot;40a2ba80f964a5200ef31ee3&quot;, &quot;4a332eb4f964a520109b1fe3&quot;, … &quot;4cc639ce8062468878fa402f&quot;]</td><td>[&quot;Sat Apr 21 03:11:51 +0000 2012&quot;, &quot;Sun May 13 00:35:53 +0000 2012&quot;, … &quot;Sat Aug 31 02:35:30 +0000 2013&quot;]</td><td>[-420, -420, … -420]</td><td>35</td></tr><tr><td>150951</td><td>31</td><td>41</td><td>[&quot;4e510e7fd22daf51d28bedfb&quot;, &quot;4bdbe47663c5c9b65ef02968&quot;, … &quot;4bb92f18cf2fc9b6b157a002&quot;]</td><td>[&quot;Thu Apr 12 07:53:28 +0000 2012&quot;, &quot;Thu Apr 19 11:13:08 +0000 2012&quot;, … &quot;Tue Apr 02 22:52:23 +0000 2013&quot;]</td><td>[420, 420, … 420]</td><td>31</td></tr><tr><td>131149</td><td>21</td><td>31</td><td>[&quot;4b0586fff964a5203c7a22e3&quot;, &quot;4f0b63cae4b000dd786ce8a8&quot;, … &quot;4ea01c546da1f94e5c1c791f&quot;]</td><td>[&quot;Fri Apr 13 13:40:39 +0000 2012&quot;, &quot;Fri Apr 13 14:05:26 +0000 2012&quot;, … &quot;Thu Jul 04 22:35:56 +0000 2013&quot;]</td><td>[-300, -300, … -300]</td><td>21</td></tr><tr><td>194964</td><td>34</td><td>47</td><td>[&quot;4eb7f69929c212fb6d74e190&quot;, &quot;4e36b564d1649e45e3de06a2&quot;, … &quot;5024d9b2e4b095b2f21d77ca&quot;]</td><td>[&quot;Mon Oct 08 10:11:24 +0000 2012&quot;, &quot;Mon Oct 08 12:30:53 +0000 2012&quot;, … &quot;Sat Jun 01 12:04:10 +0000 2013&quot;]</td><td>[180, 180, … 180]</td><td>34</td></tr></tbody></table></div>"
      ],
      "text/plain": [
       "shape: (21_697, 7)\n",
       "┌────────┬────────┬────────────┬─────────────────┬────────────────┬────────────────┬───────────────┐\n",
       "│ user   ┆ n_pois ┆ n_checkins ┆ pois            ┆ dates          ┆ TZs            ┆ n_unique_pois │\n",
       "│ ---    ┆ ---    ┆ ---        ┆ ---             ┆ ---            ┆ ---            ┆ ---           │\n",
       "│ i64    ┆ u32    ┆ u32        ┆ list[str]       ┆ list[str]      ┆ list[i64]      ┆ u32           │\n",
       "╞════════╪════════╪════════════╪═════════════════╪════════════════╪════════════════╪═══════════════╡\n",
       "│ 250774 ┆ 25     ┆ 26         ┆ [\"4e14bced7d8b4 ┆ [\"Tue Nov 27   ┆ [120, 120, …   ┆ 25            │\n",
       "│        ┆        ┆            ┆ c0d631165d5\",   ┆ 21:12:14 +0000 ┆ 180]           ┆               │\n",
       "│        ┆        ┆            ┆ \"4d…            ┆ 2012…          ┆                ┆               │\n",
       "│ 248598 ┆ 30     ┆ 46         ┆ [\"4f7130abe4b0c ┆ [\"Sat Apr 07   ┆ [180, 180, …   ┆ 30            │\n",
       "│        ┆        ┆            ┆ 719b22f91e6\",   ┆ 14:07:10 +0000 ┆ 180]           ┆               │\n",
       "│        ┆        ┆            ┆ \"4c…            ┆ 2012…          ┆                ┆               │\n",
       "│ 236736 ┆ 31     ┆ 39         ┆ [\"4b494bdaf964a ┆ [\"Sat Dec 29   ┆ [-300, -300, … ┆ 31            │\n",
       "│        ┆        ┆            ┆ 520bb6c26e3\",   ┆ 20:57:43 +0000 ┆ -240]          ┆               │\n",
       "│        ┆        ┆            ┆ \"4b…            ┆ 2012…          ┆                ┆               │\n",
       "│ 61240  ┆ 24     ┆ 25         ┆ [\"4b6d43b6f964a ┆ [\"Tue Feb 19   ┆ [120, 120, …   ┆ 24            │\n",
       "│        ┆        ┆            ┆ 520386e2ce3\",   ┆ 07:55:08 +0000 ┆ 180]           ┆               │\n",
       "│        ┆        ┆            ┆ \"4b…            ┆ 2013…          ┆                ┆               │\n",
       "│ 46160  ┆ 24     ┆ 26         ┆ [\"4daa809493a04 ┆ [\"Sat Jun 30   ┆ [-360, -360, … ┆ 24            │\n",
       "│        ┆        ┆            ┆ 642f081ebf4\",   ┆ 20:27:11 +0000 ┆ -360]          ┆               │\n",
       "│        ┆        ┆            ┆ \"4c…            ┆ 2012…          ┆                ┆               │\n",
       "│ …      ┆ …      ┆ …          ┆ …               ┆ …              ┆ …              ┆ …             │\n",
       "│ 75855  ┆ 34     ┆ 39         ┆ [\"4b913c94f964a ┆ [\"Sun Apr 08   ┆ [330, 330, …   ┆ 34            │\n",
       "│        ┆        ┆            ┆ 5202fac33e3\",   ┆ 05:21:17 +0000 ┆ 330]           ┆               │\n",
       "│        ┆        ┆            ┆ \"4c…            ┆ 2012…          ┆                ┆               │\n",
       "│ 108915 ┆ 35     ┆ 42         ┆ [\"40a2ba80f964a ┆ [\"Sat Apr 21   ┆ [-420, -420, … ┆ 35            │\n",
       "│        ┆        ┆            ┆ 5200ef31ee3\",   ┆ 03:11:51 +0000 ┆ -420]          ┆               │\n",
       "│        ┆        ┆            ┆ \"4a…            ┆ 2012…          ┆                ┆               │\n",
       "│ 150951 ┆ 31     ┆ 41         ┆ [\"4e510e7fd22da ┆ [\"Thu Apr 12   ┆ [420, 420, …   ┆ 31            │\n",
       "│        ┆        ┆            ┆ f51d28bedfb\",   ┆ 07:53:28 +0000 ┆ 420]           ┆               │\n",
       "│        ┆        ┆            ┆ \"4b…            ┆ 2012…          ┆                ┆               │\n",
       "│ 131149 ┆ 21     ┆ 31         ┆ [\"4b0586fff964a ┆ [\"Fri Apr 13   ┆ [-300, -300, … ┆ 21            │\n",
       "│        ┆        ┆            ┆ 5203c7a22e3\",   ┆ 13:40:39 +0000 ┆ -300]          ┆               │\n",
       "│        ┆        ┆            ┆ \"4f…            ┆ 2012…          ┆                ┆               │\n",
       "│ 194964 ┆ 34     ┆ 47         ┆ [\"4eb7f69929c21 ┆ [\"Mon Oct 08   ┆ [180, 180, …   ┆ 34            │\n",
       "│        ┆        ┆            ┆ 2fb6d74e190\",   ┆ 10:11:24 +0000 ┆ 180]           ┆               │\n",
       "│        ┆        ┆            ┆ \"4e…            ┆ 2012…          ┆                ┆               │\n",
       "└────────┴────────┴────────────┴─────────────────┴────────────────┴────────────────┴───────────────┘"
      ]
     },
     "execution_count": 18,
     "metadata": {},
     "output_type": "execute_result"
    }
   ],
   "source": [
    "out"
   ]
  },
  {
   "cell_type": "code",
   "execution_count": 19,
   "metadata": {},
   "outputs": [],
   "source": [
    "unique_pois = out[\"pois\"]"
   ]
  },
  {
   "cell_type": "code",
   "execution_count": 20,
   "metadata": {},
   "outputs": [],
   "source": [
    "frequent_pois = unique_pois.list.explode().value_counts().filter(rs.col(\"count\") >= 10)"
   ]
  },
  {
   "cell_type": "code",
   "execution_count": 21,
   "metadata": {},
   "outputs": [
    {
     "data": {
      "text/html": [
       "<div><style>\n",
       ".dataframe > thead > tr,\n",
       ".dataframe > tbody > tr {\n",
       "  text-align: right;\n",
       "  white-space: pre-wrap;\n",
       "}\n",
       "</style>\n",
       "<small>shape: (4_455, 2)</small><table border=\"1\" class=\"dataframe\"><thead><tr><th>pois</th><th>count</th></tr><tr><td>str</td><td>u32</td></tr></thead><tbody><tr><td>&quot;4b424ed8f964a5…</td><td>10</td></tr><tr><td>&quot;4beff54cc8d920…</td><td>12</td></tr><tr><td>&quot;4b937e60f964a5…</td><td>10</td></tr><tr><td>&quot;4d445fdbbbb1a1…</td><td>12</td></tr><tr><td>&quot;4c60459cb6f3be…</td><td>36</td></tr><tr><td>&hellip;</td><td>&hellip;</td></tr><tr><td>&quot;4b1d716ef964a5…</td><td>15</td></tr><tr><td>&quot;4f6a3a10d5fbee…</td><td>10</td></tr><tr><td>&quot;44cf0ff8f964a5…</td><td>14</td></tr><tr><td>&quot;4eb6607f108137…</td><td>30</td></tr><tr><td>&quot;4b05866ff964a5…</td><td>12</td></tr></tbody></table></div>"
      ],
      "text/plain": [
       "shape: (4_455, 2)\n",
       "┌──────────────────────────┬───────┐\n",
       "│ pois                     ┆ count │\n",
       "│ ---                      ┆ ---   │\n",
       "│ str                      ┆ u32   │\n",
       "╞══════════════════════════╪═══════╡\n",
       "│ 4b424ed8f964a52045d125e3 ┆ 10    │\n",
       "│ 4beff54cc8d920a160429430 ┆ 12    │\n",
       "│ 4b937e60f964a520e34534e3 ┆ 10    │\n",
       "│ 4d445fdbbbb1a143cdc94572 ┆ 12    │\n",
       "│ 4c60459cb6f3be9a2adf5e73 ┆ 36    │\n",
       "│ …                        ┆ …     │\n",
       "│ 4b1d716ef964a5209d1024e3 ┆ 15    │\n",
       "│ 4f6a3a10d5fbee32e616cac6 ┆ 10    │\n",
       "│ 44cf0ff8f964a5201c361fe3 ┆ 14    │\n",
       "│ 4eb6607f1081376a2c48ded6 ┆ 30    │\n",
       "│ 4b05866ff964a520296222e3 ┆ 12    │\n",
       "└──────────────────────────┴───────┘"
      ]
     },
     "execution_count": 21,
     "metadata": {},
     "output_type": "execute_result"
    }
   ],
   "source": [
    "frequent_pois"
   ]
  },
  {
   "cell_type": "code",
   "execution_count": 22,
   "metadata": {},
   "outputs": [],
   "source": [
    "frequent_pois = frequent_pois[\"pois\"]\n",
    "frequent_pois = set(frequent_pois.to_list())"
   ]
  },
  {
   "cell_type": "code",
   "execution_count": 23,
   "metadata": {},
   "outputs": [
    {
     "data": {
      "text/html": [
       "<div><style>\n",
       ".dataframe > thead > tr,\n",
       ".dataframe > tbody > tr {\n",
       "  text-align: right;\n",
       "  white-space: pre-wrap;\n",
       "}\n",
       "</style>\n",
       "<small>shape: (21_697, 6)</small><table border=\"1\" class=\"dataframe\"><thead><tr><th>user</th><th>n_pois</th><th>n_checkins</th><th>pois</th><th>dates</th><th>TZs</th></tr><tr><td>i64</td><td>u32</td><td>u32</td><td>list[str]</td><td>list[str]</td><td>list[i64]</td></tr></thead><tbody><tr><td>250774</td><td>25</td><td>26</td><td>[&quot;501655d7e4b0c79e4914ad13&quot;, &quot;4d596f261d4a8cfaaf6b8ced&quot;, … &quot;4c3efdc08d99b713a3021b06&quot;]</td><td>[&quot;Tue Nov 27 21:12:14 +0000 2012&quot;, &quot;Sun Dec 09 10:22:54 +0000 2012&quot;, … &quot;Sat Aug 17 11:46:58 +0000 2013&quot;]</td><td>[120, 120, … 180]</td></tr><tr><td>248598</td><td>30</td><td>46</td><td>[&quot;4e38456dd164374eb68f388c&quot;, &quot;4d0d1f5e1f6bf04d1c9d7b31&quot;, … &quot;4e9f06d19a52cd825d216b31&quot;]</td><td>[&quot;Sat Apr 07 14:07:10 +0000 2012&quot;, &quot;Sun Apr 08 12:31:15 +0000 2012&quot;, … &quot;Tue Jul 02 13:55:38 +0000 2013&quot;]</td><td>[180, 180, … 180]</td></tr><tr><td>236736</td><td>31</td><td>39</td><td>[&quot;4b8a9821f964a520187432e3&quot;, &quot;4c42710b3735be9ac71d1aa4&quot;, … &quot;4bf2c93620960f47bba66e2f&quot;]</td><td>[&quot;Sat Dec 29 20:57:43 +0000 2012&quot;, &quot;Sat Dec 29 23:47:48 +0000 2012&quot;, … &quot;Wed Sep 04 14:06:49 +0000 2013&quot;]</td><td>[-300, -300, … -240]</td></tr><tr><td>61240</td><td>24</td><td>25</td><td>[&quot;4f4f47f3e4b066791aaa6380&quot;, &quot;4e2463e7b0fbdf9ba7c6d470&quot;, … &quot;51a32447498ea34bef99f9f4&quot;]</td><td>[&quot;Tue Feb 19 07:55:08 +0000 2013&quot;, &quot;Mon Mar 04 09:14:47 +0000 2013&quot;, … &quot;Sat Aug 10 21:22:48 +0000 2013&quot;]</td><td>[120, 120, … 180]</td></tr><tr><td>46160</td><td>24</td><td>26</td><td>[&quot;4e58ea2a18388cd5cb9b6be5&quot;, &quot;4daa809493a04642f081ebf4&quot;, … &quot;509d066ae4b057cac320cf6a&quot;]</td><td>[&quot;Sat Jun 30 20:27:11 +0000 2012&quot;, &quot;Sat Jun 30 23:44:46 +0000 2012&quot;, … &quot;Mon Apr 22 18:06:33 +0000 2013&quot;]</td><td>[-360, -360, … -360]</td></tr><tr><td>&hellip;</td><td>&hellip;</td><td>&hellip;</td><td>&hellip;</td><td>&hellip;</td><td>&hellip;</td></tr><tr><td>75855</td><td>34</td><td>39</td><td>[&quot;4c10bacbb93cc9b66c2357e0&quot;, &quot;4e69c76dd22d0e4cf5c0138f&quot;, … &quot;4ebaaafb6c25faf0a4f28a04&quot;]</td><td>[&quot;Sun Apr 08 05:21:17 +0000 2012&quot;, &quot;Sun Apr 08 05:22:01 +0000 2012&quot;, … &quot;Mon Aug 26 10:43:43 +0000 2013&quot;]</td><td>[330, 330, … 330]</td></tr><tr><td>108915</td><td>35</td><td>42</td><td>[&quot;4bf7409c5efe2d7f51c56834&quot;, &quot;4283ee00f964a52089221fe3&quot;, … &quot;49baa706f964a52091531fe3&quot;]</td><td>[&quot;Sat Apr 21 03:11:51 +0000 2012&quot;, &quot;Sun May 13 00:35:53 +0000 2012&quot;, … &quot;Sat Aug 31 02:35:30 +0000 2013&quot;]</td><td>[-420, -420, … -420]</td></tr><tr><td>150951</td><td>31</td><td>41</td><td>[&quot;4b99c918f964a520b49135e3&quot;, &quot;4c91d3fb0c209c74684734ff&quot;, … &quot;4e780b81c65b409c469c314f&quot;]</td><td>[&quot;Thu Apr 12 07:53:28 +0000 2012&quot;, &quot;Thu Apr 19 11:13:08 +0000 2012&quot;, … &quot;Tue Apr 02 22:52:23 +0000 2013&quot;]</td><td>[420, 420, … 420]</td></tr><tr><td>131149</td><td>21</td><td>31</td><td>[&quot;4b59181cf964a5203f7c28e3&quot;, &quot;4c6dc621f338236a05bb081b&quot;, … &quot;4b59181cf964a5203f7c28e3&quot;]</td><td>[&quot;Fri Apr 13 13:40:39 +0000 2012&quot;, &quot;Fri Apr 13 14:05:26 +0000 2012&quot;, … &quot;Thu Jul 04 22:35:56 +0000 2013&quot;]</td><td>[-300, -300, … -300]</td></tr><tr><td>194964</td><td>34</td><td>47</td><td>[&quot;4b7ac5ebf964a5200d3c2fe3&quot;, &quot;4bfecea868c7a5935cb83f44&quot;, … &quot;4e2332d422717a5245dce6ba&quot;]</td><td>[&quot;Mon Oct 08 10:11:24 +0000 2012&quot;, &quot;Mon Oct 08 12:30:53 +0000 2012&quot;, … &quot;Sat Jun 01 12:04:10 +0000 2013&quot;]</td><td>[180, 180, … 180]</td></tr></tbody></table></div>"
      ],
      "text/plain": [
       "shape: (21_697, 6)\n",
       "┌────────┬────────┬────────────┬─────────────────────────┬────────────────┬────────────────────────┐\n",
       "│ user   ┆ n_pois ┆ n_checkins ┆ pois                    ┆ dates          ┆ TZs                    │\n",
       "│ ---    ┆ ---    ┆ ---        ┆ ---                     ┆ ---            ┆ ---                    │\n",
       "│ i64    ┆ u32    ┆ u32        ┆ list[str]               ┆ list[str]      ┆ list[i64]              │\n",
       "╞════════╪════════╪════════════╪═════════════════════════╪════════════════╪════════════════════════╡\n",
       "│ 250774 ┆ 25     ┆ 26         ┆ [\"501655d7e4b0c79e4914a ┆ [\"Tue Nov 27   ┆ [120, 120, … 180]      │\n",
       "│        ┆        ┆            ┆ d13\", \"4d…              ┆ 21:12:14 +0000 ┆                        │\n",
       "│        ┆        ┆            ┆                         ┆ 2012…          ┆                        │\n",
       "│ 248598 ┆ 30     ┆ 46         ┆ [\"4e38456dd164374eb68f3 ┆ [\"Sat Apr 07   ┆ [180, 180, … 180]      │\n",
       "│        ┆        ┆            ┆ 88c\", \"4d…              ┆ 14:07:10 +0000 ┆                        │\n",
       "│        ┆        ┆            ┆                         ┆ 2012…          ┆                        │\n",
       "│ 236736 ┆ 31     ┆ 39         ┆ [\"4b8a9821f964a52018743 ┆ [\"Sat Dec 29   ┆ [-300, -300, … -240]   │\n",
       "│        ┆        ┆            ┆ 2e3\", \"4c…              ┆ 20:57:43 +0000 ┆                        │\n",
       "│        ┆        ┆            ┆                         ┆ 2012…          ┆                        │\n",
       "│ 61240  ┆ 24     ┆ 25         ┆ [\"4f4f47f3e4b066791aaa6 ┆ [\"Tue Feb 19   ┆ [120, 120, … 180]      │\n",
       "│        ┆        ┆            ┆ 380\", \"4e…              ┆ 07:55:08 +0000 ┆                        │\n",
       "│        ┆        ┆            ┆                         ┆ 2013…          ┆                        │\n",
       "│ 46160  ┆ 24     ┆ 26         ┆ [\"4e58ea2a18388cd5cb9b6 ┆ [\"Sat Jun 30   ┆ [-360, -360, … -360]   │\n",
       "│        ┆        ┆            ┆ be5\", \"4d…              ┆ 20:27:11 +0000 ┆                        │\n",
       "│        ┆        ┆            ┆                         ┆ 2012…          ┆                        │\n",
       "│ …      ┆ …      ┆ …          ┆ …                       ┆ …              ┆ …                      │\n",
       "│ 75855  ┆ 34     ┆ 39         ┆ [\"4c10bacbb93cc9b66c235 ┆ [\"Sun Apr 08   ┆ [330, 330, … 330]      │\n",
       "│        ┆        ┆            ┆ 7e0\", \"4e…              ┆ 05:21:17 +0000 ┆                        │\n",
       "│        ┆        ┆            ┆                         ┆ 2012…          ┆                        │\n",
       "│ 108915 ┆ 35     ┆ 42         ┆ [\"4bf7409c5efe2d7f51c56 ┆ [\"Sat Apr 21   ┆ [-420, -420, … -420]   │\n",
       "│        ┆        ┆            ┆ 834\", \"42…              ┆ 03:11:51 +0000 ┆                        │\n",
       "│        ┆        ┆            ┆                         ┆ 2012…          ┆                        │\n",
       "│ 150951 ┆ 31     ┆ 41         ┆ [\"4b99c918f964a520b4913 ┆ [\"Thu Apr 12   ┆ [420, 420, … 420]      │\n",
       "│        ┆        ┆            ┆ 5e3\", \"4c…              ┆ 07:53:28 +0000 ┆                        │\n",
       "│        ┆        ┆            ┆                         ┆ 2012…          ┆                        │\n",
       "│ 131149 ┆ 21     ┆ 31         ┆ [\"4b59181cf964a5203f7c2 ┆ [\"Fri Apr 13   ┆ [-300, -300, … -300]   │\n",
       "│        ┆        ┆            ┆ 8e3\", \"4c…              ┆ 13:40:39 +0000 ┆                        │\n",
       "│        ┆        ┆            ┆                         ┆ 2012…          ┆                        │\n",
       "│ 194964 ┆ 34     ┆ 47         ┆ [\"4b7ac5ebf964a5200d3c2 ┆ [\"Mon Oct 08   ┆ [180, 180, … 180]      │\n",
       "│        ┆        ┆            ┆ fe3\", \"4b…              ┆ 10:11:24 +0000 ┆                        │\n",
       "│        ┆        ┆            ┆                         ┆ 2012…          ┆                        │\n",
       "└────────┴────────┴────────────┴─────────────────────────┴────────────────┴────────────────────────┘"
      ]
     },
     "execution_count": 23,
     "metadata": {},
     "output_type": "execute_result"
    }
   ],
   "source": [
    "data_culled"
   ]
  },
  {
   "cell_type": "code",
   "execution_count": 24,
   "metadata": {},
   "outputs": [],
   "source": [
    "data_culled = data_culled.with_columns(\n",
    "    [\n",
    "        rs.col(\"pois\")\n",
    "        .list.eval(\n",
    "            rs.element().is_in(frequent_pois),\n",
    "        )\n",
    "        .alias(\"is_frequent\")\n",
    "    ]\n",
    ")  # prep mask"
   ]
  },
  {
   "cell_type": "code",
   "execution_count": 25,
   "metadata": {},
   "outputs": [],
   "source": [
    "final_data = (\n",
    "    data_culled.lazy()\n",
    "    .with_row_index()\n",
    "    .explode(\n",
    "        [\n",
    "            \"pois\",\n",
    "            \"dates\",\n",
    "            \"TZs\",\n",
    "            \"is_frequent\",\n",
    "        ]\n",
    "    )\n",
    "    .group_by(\"index\")\n",
    "    .agg(\n",
    "        [\n",
    "            rs.col(\"pois\").filter(rs.col(\"is_frequent\")).alias(\"pois\"),\n",
    "            rs.col(\"dates\").filter(rs.col(\"is_frequent\")).alias(\"dates\"),\n",
    "            rs.col(\"TZs\").filter(rs.col(\"is_frequent\")).alias(\"TZs\"),\n",
    "            rs.col(\"pois\").filter(rs.col(\"is_frequent\")).n_unique().alias(\"n_pois\"),\n",
    "            rs.col(\"pois\").filter(rs.col(\"is_frequent\")).count().alias(\"n_checkins\"),\n",
    "        ]\n",
    "    )\n",
    "    .filter(rs.col(\"n_checkins\") > 0)\n",
    "    .filter(rs.col(\"n_pois\") > 0)\n",
    "    .collect()\n",
    ")  # filter out infrequent pois and users with no pois"
   ]
  },
  {
   "cell_type": "code",
   "execution_count": 26,
   "metadata": {},
   "outputs": [
    {
     "data": {
      "text/html": [
       "<div><style>\n",
       ".dataframe > thead > tr,\n",
       ".dataframe > tbody > tr {\n",
       "  text-align: right;\n",
       "  white-space: pre-wrap;\n",
       "}\n",
       "</style>\n",
       "<small>shape: (9, 7)</small><table border=\"1\" class=\"dataframe\"><thead><tr><th>statistic</th><th>index</th><th>pois</th><th>dates</th><th>TZs</th><th>n_pois</th><th>n_checkins</th></tr><tr><td>str</td><td>f64</td><td>f64</td><td>f64</td><td>f64</td><td>f64</td><td>f64</td></tr></thead><tbody><tr><td>&quot;count&quot;</td><td>19862.0</td><td>19862.0</td><td>19862.0</td><td>19862.0</td><td>19862.0</td><td>19862.0</td></tr><tr><td>&quot;null_count&quot;</td><td>0.0</td><td>0.0</td><td>0.0</td><td>0.0</td><td>0.0</td><td>0.0</td></tr><tr><td>&quot;mean&quot;</td><td>10859.864012</td><td>null</td><td>null</td><td>null</td><td>6.123452</td><td>8.831437</td></tr><tr><td>&quot;std&quot;</td><td>6265.413406</td><td>null</td><td>null</td><td>null</td><td>4.609024</td><td>6.877662</td></tr><tr><td>&quot;min&quot;</td><td>0.0</td><td>null</td><td>null</td><td>null</td><td>1.0</td><td>1.0</td></tr><tr><td>&quot;25%&quot;</td><td>5441.0</td><td>null</td><td>null</td><td>null</td><td>3.0</td><td>4.0</td></tr><tr><td>&quot;50%&quot;</td><td>10861.0</td><td>null</td><td>null</td><td>null</td><td>5.0</td><td>7.0</td></tr><tr><td>&quot;75%&quot;</td><td>16276.0</td><td>null</td><td>null</td><td>null</td><td>8.0</td><td>12.0</td></tr><tr><td>&quot;max&quot;</td><td>21696.0</td><td>null</td><td>null</td><td>null</td><td>32.0</td><td>46.0</td></tr></tbody></table></div>"
      ],
      "text/plain": [
       "shape: (9, 7)\n",
       "┌────────────┬──────────────┬─────────┬─────────┬─────────┬──────────┬────────────┐\n",
       "│ statistic  ┆ index        ┆ pois    ┆ dates   ┆ TZs     ┆ n_pois   ┆ n_checkins │\n",
       "│ ---        ┆ ---          ┆ ---     ┆ ---     ┆ ---     ┆ ---      ┆ ---        │\n",
       "│ str        ┆ f64          ┆ f64     ┆ f64     ┆ f64     ┆ f64      ┆ f64        │\n",
       "╞════════════╪══════════════╪═════════╪═════════╪═════════╪══════════╪════════════╡\n",
       "│ count      ┆ 19862.0      ┆ 19862.0 ┆ 19862.0 ┆ 19862.0 ┆ 19862.0  ┆ 19862.0    │\n",
       "│ null_count ┆ 0.0          ┆ 0.0     ┆ 0.0     ┆ 0.0     ┆ 0.0      ┆ 0.0        │\n",
       "│ mean       ┆ 10859.864012 ┆ null    ┆ null    ┆ null    ┆ 6.123452 ┆ 8.831437   │\n",
       "│ std        ┆ 6265.413406  ┆ null    ┆ null    ┆ null    ┆ 4.609024 ┆ 6.877662   │\n",
       "│ min        ┆ 0.0          ┆ null    ┆ null    ┆ null    ┆ 1.0      ┆ 1.0        │\n",
       "│ 25%        ┆ 5441.0       ┆ null    ┆ null    ┆ null    ┆ 3.0      ┆ 4.0        │\n",
       "│ 50%        ┆ 10861.0      ┆ null    ┆ null    ┆ null    ┆ 5.0      ┆ 7.0        │\n",
       "│ 75%        ┆ 16276.0      ┆ null    ┆ null    ┆ null    ┆ 8.0      ┆ 12.0       │\n",
       "│ max        ┆ 21696.0      ┆ null    ┆ null    ┆ null    ┆ 32.0     ┆ 46.0       │\n",
       "└────────────┴──────────────┴─────────┴─────────┴─────────┴──────────┴────────────┘"
      ]
     },
     "execution_count": 26,
     "metadata": {},
     "output_type": "execute_result"
    }
   ],
   "source": [
    "final_data.describe()"
   ]
  },
  {
   "cell_type": "code",
   "execution_count": 27,
   "metadata": {},
   "outputs": [],
   "source": [
    "import geohash2 as gh\n",
    "\n",
    "pois = rs.read_csv(\n",
    "    \"dataset_TIST2015/dataset_TIST2015_POIs.txt\",\n",
    "    has_header=False,\n",
    "    low_memory=True,\n",
    "    separator=\"\\t\",\n",
    ")\n",
    "pois.columns = [\"poi\", \"lat\", \"long\", \"category\", \"country\"]\n",
    "pois = pois.drop(\"category\").drop(\"country\")"
   ]
  },
  {
   "cell_type": "code",
   "execution_count": 28,
   "metadata": {},
   "outputs": [],
   "source": [
    "pois = (\n",
    "    pois.lazy()\n",
    "    .filter(rs.col(\"poi\").is_in(frequent_pois))\n",
    "    .select(\n",
    "        [\n",
    "            rs.col(\"poi\"),\n",
    "            rs.struct(\n",
    "                [\n",
    "                    rs.col(\"lat\").cast(rs.Float32),\n",
    "                    rs.col(\"long\").cast(rs.Float32),\n",
    "                ]\n",
    "            )\n",
    "            .alias(\"location\")\n",
    "            .map_elements(\n",
    "                lambda s: gh.encode(s[\"lat\"], s[\"long\"], precision=6),\n",
    "                return_dtype=rs.String,\n",
    "            )\n",
    "            .alias(\"geohash\"),\n",
    "        ]\n",
    "    )\n",
    "    .collect()\n",
    ")"
   ]
  },
  {
   "cell_type": "code",
   "execution_count": 29,
   "metadata": {},
   "outputs": [],
   "source": [
    "poi_geo_dict = dict(zip(pois[\"poi\"], pois[\"geohash\"]))"
   ]
  },
  {
   "cell_type": "code",
   "execution_count": 30,
   "metadata": {},
   "outputs": [
    {
     "name": "stderr",
     "output_type": "stream",
     "text": [
      "/tmp/ipykernel_89916/3027446639.py:4: MapWithoutReturnDtypeWarning: Calling `map_elements` without specifying `return_dtype` can lead to unpredictable results. Specify `return_dtype` to silence this warning.\n",
      "  final_data = final_data.with_columns(\n"
     ]
    }
   ],
   "source": [
    "# for each row in final_data, add the geohash of the pois\n",
    "\n",
    "\n",
    "final_data = final_data.with_columns(\n",
    "    [\n",
    "        rs.col(\"pois\")\n",
    "        .map_elements(\n",
    "            lambda s: [poi_geo_dict[s] for s in s],\n",
    "        )\n",
    "        .alias(\"geohashes\")\n",
    "    ]\n",
    ")"
   ]
  },
  {
   "cell_type": "code",
   "execution_count": 31,
   "metadata": {},
   "outputs": [
    {
     "data": {
      "text/plain": [
       "['Tue May 29 18:14:16 +0000 2012',\n",
       " 'Sat Sep 15 15:45:35 +0000 2012',\n",
       " 'Sat Sep 15 22:23:37 +0000 2012',\n",
       " 'Sun Nov 11 18:52:19 +0000 2012',\n",
       " 'Fri Apr 05 13:21:20 +0000 2013',\n",
       " 'Sat Apr 06 21:05:16 +0000 2013',\n",
       " 'Sun Apr 07 13:54:32 +0000 2013']"
      ]
     },
     "execution_count": 31,
     "metadata": {},
     "output_type": "execute_result"
    }
   ],
   "source": [
    "final_data[\"dates\"][79].to_list()"
   ]
  },
  {
   "cell_type": "code",
   "execution_count": 32,
   "metadata": {},
   "outputs": [
    {
     "data": {
      "text/plain": [
       "[120, -240, -420, -480, -420, -240, -240]"
      ]
     },
     "execution_count": 32,
     "metadata": {},
     "output_type": "execute_result"
    }
   ],
   "source": [
    "final_data[\"TZs\"][79].to_list()"
   ]
  },
  {
   "cell_type": "code",
   "execution_count": 104,
   "metadata": {},
   "outputs": [],
   "source": [
    "import datetime\n",
    "\n",
    "\n",
    "def UTC_to_local(utc, tz):\n",
    "\n",
    "    date = datetime.datetime.strptime(utc, \"%a %b %d %H:%M:%S %z %Y\")\n",
    "    date = date.replace(tzinfo=datetime.timezone.utc)\n",
    "\n",
    "    # shift by tz offset\n",
    "\n",
    "    date = date.astimezone(datetime.timezone(datetime.timedelta(minutes=tz)))\n",
    "\n",
    "    date_s = datetime.datetime.strftime(date, \"%Y-%m-%d %H:%M:%S\")\n",
    "    return date_s"
   ]
  },
  {
   "cell_type": "code",
   "execution_count": 105,
   "metadata": {},
   "outputs": [
    {
     "data": {
      "text/plain": [
       "'2012-05-21 08:53:01'"
      ]
     },
     "execution_count": 105,
     "metadata": {},
     "output_type": "execute_result"
    }
   ],
   "source": [
    "UTC_to_local(\"Mon May 21 15:53:01 +0000 2012\", -420)"
   ]
  },
  {
   "cell_type": "code",
   "execution_count": 106,
   "metadata": {},
   "outputs": [],
   "source": [
    "# get 5 rows of data\n",
    "final_data_subset = final_data.head(100)"
   ]
  },
  {
   "cell_type": "code",
   "execution_count": 107,
   "metadata": {},
   "outputs": [
    {
     "name": "stderr",
     "output_type": "stream",
     "text": [
      "/tmp/ipykernel_89916/1065629302.py:1: MapWithoutReturnDtypeWarning: Calling `map_elements` without specifying `return_dtype` can lead to unpredictable results. Specify `return_dtype` to silence this warning.\n",
      "  final_data_subset = final_data_subset.with_columns(\n"
     ]
    }
   ],
   "source": [
    "final_data_subset = final_data_subset.with_columns(\n",
    "    [\n",
    "        rs.struct([rs.col(\"dates\"), rs.col(\"TZs\")])\n",
    "        .alias(\"times\")\n",
    "        .map_elements(\n",
    "            lambda struct: [\n",
    "                UTC_to_local(date, tz)\n",
    "                for date, tz in zip(struct[\"dates\"], struct[\"TZs\"])\n",
    "            ]\n",
    "        )\n",
    "    ]\n",
    ")"
   ]
  },
  {
   "cell_type": "code",
   "execution_count": 108,
   "metadata": {},
   "outputs": [],
   "source": [
    "def to_UNIX_time(date):\n",
    "    return datetime.datetime.strptime(date, \"%Y-%m-%d %H:%M:%S\").timestamp()"
   ]
  },
  {
   "cell_type": "code",
   "execution_count": 109,
   "metadata": {},
   "outputs": [
    {
     "name": "stderr",
     "output_type": "stream",
     "text": [
      "sys:1: MapWithoutReturnDtypeWarning: Calling `map_elements` without specifying `return_dtype` can lead to unpredictable results. Specify `return_dtype` to silence this warning.\n",
      "sys:1: MapWithoutReturnDtypeWarning: Calling `map_elements` without specifying `return_dtype` can lead to unpredictable results. Specify `return_dtype` to silence this warning.\n",
      "sys:1: MapWithoutReturnDtypeWarning: Calling `map_elements` without specifying `return_dtype` can lead to unpredictable results. Specify `return_dtype` to silence this warning.\n"
     ]
    }
   ],
   "source": [
    "final_sorted_sub = final_data_subset.select(\n",
    "    [\n",
    "        rs.struct(\n",
    "            [\n",
    "                rs.col(\"pois\"),\n",
    "                rs.col(\"times\"),\n",
    "            ]\n",
    "        ).map_elements(\n",
    "            lambda struct: [\n",
    "                poi\n",
    "                for poi, _ in sorted(\n",
    "                    zip(\n",
    "                        struct[\"pois\"], [to_UNIX_time(date) for date in struct[\"times\"]]\n",
    "                    ),\n",
    "                    key=lambda s: s[1],\n",
    "                )\n",
    "            ]\n",
    "        ),\n",
    "        rs.struct(\n",
    "            [\n",
    "                rs.col(\"geohashes\"),\n",
    "                rs.col(\"times\"),\n",
    "            ]\n",
    "        ).map_elements(\n",
    "            lambda struct: [\n",
    "                geo\n",
    "                for geo, _ in sorted(\n",
    "                    zip(\n",
    "                        struct[\"geohashes\"],\n",
    "                        [to_UNIX_time(date) for date in struct[\"times\"]],\n",
    "                    ),\n",
    "                    key=lambda s: s[1],\n",
    "                )\n",
    "            ]\n",
    "        ),\n",
    "        rs.col(\"times\")\n",
    "        .map_elements(lambda dates: sorted(dates, key=to_UNIX_time))\n",
    "        .alias(\"times_sorted\"),\n",
    "        rs.col(\"n_checkins\"),\n",
    "    ]\n",
    ")"
   ]
  },
  {
   "cell_type": "code",
   "execution_count": 110,
   "metadata": {},
   "outputs": [
    {
     "data": {
      "text/html": [
       "<div><style>\n",
       ".dataframe > thead > tr,\n",
       ".dataframe > tbody > tr {\n",
       "  text-align: right;\n",
       "  white-space: pre-wrap;\n",
       "}\n",
       "</style>\n",
       "<small>shape: (100, 4)</small><table border=\"1\" class=\"dataframe\"><thead><tr><th>pois</th><th>geohashes</th><th>times_sorted</th><th>n_checkins</th></tr><tr><td>list[str]</td><td>list[str]</td><td>list[str]</td><td>u32</td></tr></thead><tbody><tr><td>[&quot;4d596f261d4a8cfaaf6b8ced&quot;, &quot;4b7d2213f964a520b5af2fe3&quot;, … &quot;4c3efdc08d99b713a3021b06&quot;]</td><td>[&quot;swtcfe&quot;, &quot;swtcuz&quot;, … &quot;sxp75b&quot;]</td><td>[&quot;2012-12-09 12:22:54&quot;, &quot;2013-02-12 19:00:02&quot;, … &quot;2013-08-17 14:46:58&quot;]</td><td>11</td></tr><tr><td>[&quot;4e385f6ee4cdedd4a1bb5f14&quot;, &quot;4ba6c3d0f964a520466e39e3&quot;, … &quot;4c1a83c5b306c928abba60b7&quot;]</td><td>[&quot;swg3cg&quot;, &quot;swvswm&quot;, … &quot;swg6ek&quot;]</td><td>[&quot;2012-04-14 14:06:36&quot;, &quot;2013-03-09 02:00:53&quot;, … &quot;2013-06-07 15:00:37&quot;]</td><td>6</td></tr><tr><td>[&quot;4ac7abecf964a520fab820e3&quot;, &quot;4ac7abecf964a520fab820e3&quot;]</td><td>[&quot;drkqd0&quot;, &quot;drkqd0&quot;]</td><td>[&quot;2013-03-26 16:05:30&quot;, &quot;2013-04-04 12:12:51&quot;]</td><td>2</td></tr><tr><td>[&quot;4e2463e7b0fbdf9ba7c6d470&quot;, &quot;4b6d43b6f964a520386e2ce3&quot;, … &quot;4d603e079f67f04d7f8b76fb&quot;]</td><td>[&quot;sxk973&quot;, &quot;sxk974&quot;, … &quot;sxjdq3&quot;]</td><td>[&quot;2013-03-04 11:14:47&quot;, &quot;2013-03-04 12:53:06&quot;, … &quot;2013-08-10 21:51:45&quot;]</td><td>14</td></tr><tr><td>[&quot;4ad4bff8f964a52011ea20e3&quot;, &quot;4ad4bff8f964a52011ea20e3&quot;]</td><td>[&quot;dp4dme&quot;, &quot;dp4dme&quot;]</td><td>[&quot;2012-05-26 22:46:34&quot;, &quot;2012-05-27 12:31:48&quot;]</td><td>2</td></tr><tr><td>&hellip;</td><td>&hellip;</td><td>&hellip;</td><td>&hellip;</td></tr><tr><td>[&quot;4ac518d2f964a52026a720e3&quot;, &quot;4ac518d2f964a5203ca720e3&quot;, … &quot;4b0f7b68f964a5209d6223e3&quot;]</td><td>[&quot;gcpvh0&quot;, &quot;gcpvjf&quot;, … &quot;u1hg6s&quot;]</td><td>[&quot;2012-06-01 15:55:06&quot;, &quot;2012-06-03 13:18:40&quot;, … &quot;2012-11-05 11:35:53&quot;]</td><td>6</td></tr><tr><td>[&quot;4bb16585f964a520d3903ce3&quot;, &quot;4bb16585f964a520d3903ce3&quot;, … &quot;4adcda92f964a520f14b21e3&quot;]</td><td>[&quot;9q5fpx&quot;, &quot;9q5fpx&quot;, … &quot;u336yr&quot;]</td><td>[&quot;2012-11-01 21:29:59&quot;, &quot;2012-11-12 23:04:41&quot;, … &quot;2013-05-22 08:32:35&quot;]</td><td>7</td></tr><tr><td>[&quot;4b2d0e1af964a52037cd24e3&quot;, &quot;4b081ff6f964a520500423e3&quot;, … &quot;4f106d06e4b0d59e1ee52310&quot;]</td><td>[&quot;6gycd7&quot;, &quot;6gycfm&quot;, … &quot;6gycc9&quot;]</td><td>[&quot;2012-04-17 08:10:12&quot;, &quot;2012-04-17 10:09:40&quot;, … &quot;2013-05-23 17:05:32&quot;]</td><td>21</td></tr><tr><td>[&quot;4b779d4af964a52016a42ee3&quot;, &quot;4b56a01ff964a520011728e3&quot;, … &quot;4b56a01ff964a520011728e3&quot;]</td><td>[&quot;xn0x2d&quot;, &quot;xn0mk5&quot;, … &quot;xn0mk5&quot;]</td><td>[&quot;2013-01-03 13:04:28&quot;, &quot;2013-01-26 18:01:33&quot;, … &quot;2013-09-06 18:40:46&quot;]</td><td>10</td></tr><tr><td>[&quot;4b554e5ef964a52047e127e3&quot;, &quot;4b4479a4f964a5205ef525e3&quot;, … &quot;4b57f2ecf964a520044728e3&quot;]</td><td>[&quot;qqguyb&quot;, &quot;qqgv5h&quot;, … &quot;qquhbw&quot;]</td><td>[&quot;2013-02-03 13:53:47&quot;, &quot;2013-06-19 13:58:19&quot;, … &quot;2013-09-07 00:42:17&quot;]</td><td>6</td></tr></tbody></table></div>"
      ],
      "text/plain": [
       "shape: (100, 4)\n",
       "┌──────────────────────────────┬────────────────────────┬─────────────────────────┬────────────┐\n",
       "│ pois                         ┆ geohashes              ┆ times_sorted            ┆ n_checkins │\n",
       "│ ---                          ┆ ---                    ┆ ---                     ┆ ---        │\n",
       "│ list[str]                    ┆ list[str]              ┆ list[str]               ┆ u32        │\n",
       "╞══════════════════════════════╪════════════════════════╪═════════════════════════╪════════════╡\n",
       "│ [\"4d596f261d4a8cfaaf6b8ced\", ┆ [\"swtcfe\", \"swtcuz\", … ┆ [\"2012-12-09 12:22:54\", ┆ 11         │\n",
       "│ \"4b…                         ┆ \"sxp75b\"]              ┆ \"2013-02…               ┆            │\n",
       "│ [\"4e385f6ee4cdedd4a1bb5f14\", ┆ [\"swg3cg\", \"swvswm\", … ┆ [\"2012-04-14 14:06:36\", ┆ 6          │\n",
       "│ \"4b…                         ┆ \"swg6ek\"]              ┆ \"2013-03…               ┆            │\n",
       "│ [\"4ac7abecf964a520fab820e3\", ┆ [\"drkqd0\", \"drkqd0\"]   ┆ [\"2013-03-26 16:05:30\", ┆ 2          │\n",
       "│ \"4a…                         ┆                        ┆ \"2013-04…               ┆            │\n",
       "│ [\"4e2463e7b0fbdf9ba7c6d470\", ┆ [\"sxk973\", \"sxk974\", … ┆ [\"2013-03-04 11:14:47\", ┆ 14         │\n",
       "│ \"4b…                         ┆ \"sxjdq3\"]              ┆ \"2013-03…               ┆            │\n",
       "│ [\"4ad4bff8f964a52011ea20e3\", ┆ [\"dp4dme\", \"dp4dme\"]   ┆ [\"2012-05-26 22:46:34\", ┆ 2          │\n",
       "│ \"4a…                         ┆                        ┆ \"2012-05…               ┆            │\n",
       "│ …                            ┆ …                      ┆ …                       ┆ …          │\n",
       "│ [\"4ac518d2f964a52026a720e3\", ┆ [\"gcpvh0\", \"gcpvjf\", … ┆ [\"2012-06-01 15:55:06\", ┆ 6          │\n",
       "│ \"4a…                         ┆ \"u1hg6s\"]              ┆ \"2012-06…               ┆            │\n",
       "│ [\"4bb16585f964a520d3903ce3\", ┆ [\"9q5fpx\", \"9q5fpx\", … ┆ [\"2012-11-01 21:29:59\", ┆ 7          │\n",
       "│ \"4b…                         ┆ \"u336yr\"]              ┆ \"2012-11…               ┆            │\n",
       "│ [\"4b2d0e1af964a52037cd24e3\", ┆ [\"6gycd7\", \"6gycfm\", … ┆ [\"2012-04-17 08:10:12\", ┆ 21         │\n",
       "│ \"4b…                         ┆ \"6gycc9\"]              ┆ \"2012-04…               ┆            │\n",
       "│ [\"4b779d4af964a52016a42ee3\", ┆ [\"xn0x2d\", \"xn0mk5\", … ┆ [\"2013-01-03 13:04:28\", ┆ 10         │\n",
       "│ \"4b…                         ┆ \"xn0mk5\"]              ┆ \"2013-01…               ┆            │\n",
       "│ [\"4b554e5ef964a52047e127e3\", ┆ [\"qqguyb\", \"qqgv5h\", … ┆ [\"2013-02-03 13:53:47\", ┆ 6          │\n",
       "│ \"4b…                         ┆ \"qquhbw\"]              ┆ \"2013-06…               ┆            │\n",
       "└──────────────────────────────┴────────────────────────┴─────────────────────────┴────────────┘"
      ]
     },
     "execution_count": 110,
     "metadata": {},
     "output_type": "execute_result"
    }
   ],
   "source": [
    "final_sorted_sub"
   ]
  },
  {
   "cell_type": "code",
   "execution_count": 111,
   "metadata": {},
   "outputs": [
    {
     "data": {
      "text/plain": [
       "(['2012-09-15 12:03:22',\n",
       "  '2012-09-15 11:35:10',\n",
       "  '2012-11-01 09:29:59',\n",
       "  '2012-11-01 11:55:25',\n",
       "  '2012-11-05 09:36:56',\n",
       "  '2012-11-20 16:52:12'],\n",
       " ['9q8vzp', 'wy9vj3', 'dr5r80', 'drt3pb', 'dhwfxm', 'dr5r2p'])"
      ]
     },
     "execution_count": 111,
     "metadata": {},
     "output_type": "execute_result"
    }
   ],
   "source": [
    "final_data_subset[\"times\"][43].to_list(), final_sorted_sub[\"geohashes\"][43].to_list()"
   ]
  },
  {
   "cell_type": "code",
   "execution_count": 113,
   "metadata": {},
   "outputs": [
    {
     "data": {
      "text/plain": [
       "(['2012-09-15 11:35:10',\n",
       "  '2012-09-15 12:03:22',\n",
       "  '2012-11-01 09:29:59',\n",
       "  '2012-11-01 11:55:25',\n",
       "  '2012-11-05 09:36:56',\n",
       "  '2012-11-20 16:52:12'],\n",
       " ['9q8vzp', 'wy9vj3', 'dr5r80', 'drt3pb', 'dhwfxm', 'dr5r2p'])"
      ]
     },
     "execution_count": 113,
     "metadata": {},
     "output_type": "execute_result"
    }
   ],
   "source": [
    "final_sorted_sub[\"times_sorted\"][43].to_list(), final_sorted_sub[\"geohashes\"][\n",
    "    43\n",
    "].to_list()"
   ]
  },
  {
   "cell_type": "code",
   "execution_count": 74,
   "metadata": {},
   "outputs": [],
   "source": [
    "def is_sorted_dates(dates):\n",
    "    return dates == sorted(dates, key=to_UNIX_time)"
   ]
  },
  {
   "cell_type": "code",
   "execution_count": 84,
   "metadata": {},
   "outputs": [
    {
     "name": "stdout",
     "output_type": "stream",
     "text": [
      "43\n",
      "[1347703402.0, 1347701710.0, 1351758599.0, 1351767325.0, 1352104616.0, 1353426732.0]\n"
     ]
    }
   ],
   "source": [
    "for i in range(100):\n",
    "    if not is_sorted_dates(final_data_subset[\"times\"][i].to_list()):\n",
    "        print(i)\n",
    "        print(list(map(to_UNIX_time, final_data_subset[\"times\"][i].to_list())))"
   ]
  },
  {
   "cell_type": "code",
   "execution_count": 116,
   "metadata": {},
   "outputs": [],
   "source": [
    "# import excel\n",
    "import openpyxl"
   ]
  },
  {
   "cell_type": "code",
   "execution_count": 117,
   "metadata": {},
   "outputs": [],
   "source": [
    "file = \"dataset_TIST2015/elenco_studenti_training.xlsx\""
   ]
  },
  {
   "cell_type": "code",
   "execution_count": 118,
   "metadata": {},
   "outputs": [],
   "source": [
    "wb = openpyxl.load_workbook(file)"
   ]
  },
  {
   "cell_type": "code",
   "execution_count": 122,
   "metadata": {},
   "outputs": [],
   "source": [
    "import openpyxl\n",
    "\n",
    "\n",
    "def reverse_names_in_excel(filename, sheet_name, column):\n",
    "    # Load the Excel workbook\n",
    "    wb = openpyxl.load_workbook(filename)\n",
    "\n",
    "    # Select the active worksheet\n",
    "    sheet = wb[sheet_name]\n",
    "\n",
    "    # Iterate over the rows in the specified column, starting from the second row\n",
    "    for row in range(1, sheet.max_row + 1):\n",
    "        # Get the name from the specified column\n",
    "        name = sheet[column + str(row)].value\n",
    "\n",
    "        # Split the name into parts\n",
    "        parts = name.split()\n",
    "\n",
    "        # Reverse the parts and join them back together\n",
    "        reversed_name = \" \".join(parts[::-1])\n",
    "\n",
    "        # Update the cell with the reversed name\n",
    "        sheet[column + str(row)].value = reversed_name\n",
    "\n",
    "    # Save the modified workbook\n",
    "    wb.save(filename)\n",
    "\n",
    "\n",
    "# Example usage:\n",
    "filename = \"dataset_TIST2015/elenco_studenti_training.xlsx\"\n",
    "reverse_names_in_excel(filename, \"Foglio1\", \"A\")"
   ]
  },
  {
   "cell_type": "code",
   "execution_count": null,
   "metadata": {},
   "outputs": [],
   "source": []
  }
 ],
 "metadata": {
  "kernelspec": {
   "display_name": ".env",
   "language": "python",
   "name": "python3"
  },
  "language_info": {
   "codemirror_mode": {
    "name": "ipython",
    "version": 3
   },
   "file_extension": ".py",
   "mimetype": "text/x-python",
   "name": "python",
   "nbconvert_exporter": "python",
   "pygments_lexer": "ipython3",
   "version": "3.11.8"
  }
 },
 "nbformat": 4,
 "nbformat_minor": 2
}
