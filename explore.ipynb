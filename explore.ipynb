{
 "cells": [
  {
   "cell_type": "markdown",
   "metadata": {},
   "source": [
    "# Foursquare dataset next-POI Recommendation System"
   ]
  },
  {
   "cell_type": "markdown",
   "metadata": {},
   "source": [
    "First off we import all the necessary libraries:"
   ]
  },
  {
   "cell_type": "code",
   "execution_count": 1,
   "metadata": {},
   "outputs": [],
   "source": [
    "import polars as rs\n",
    "import torch\n",
    "import torch.nn as nn\n",
    "import torch.nn.functional as F\n",
    "import lightning as pl\n",
    "import lightning.pytorch as torchpl\n",
    "from tqdm import tqdm\n",
    "import numpy as np\n",
    "from sklearn.preprocessing import LabelEncoder\n",
    "from dataclasses import dataclass\n",
    "import wandb"
   ]
  },
  {
   "cell_type": "code",
   "execution_count": null,
   "metadata": {},
   "outputs": [],
   "source": [
    "import os\n",
    "\n",
    "# define WANDB_NOTEBOOK_NAME\n",
    "os.environ[\"WANDB_NOTEBOOK_NAME\"] = \"dario_nb\""
   ]
  },
  {
   "cell_type": "code",
   "execution_count": 2,
   "metadata": {},
   "outputs": [],
   "source": [
    "import gc\n",
    "\n",
    "gc.collect()\n",
    "# clean CUDA memory\n",
    "torch.cuda.empty_cache()\n",
    "\n",
    "# sometimes jupyter notebook does not release memory, we leave this here so a run-all\n",
    "# can *sometimes* fix leaks"
   ]
  },
  {
   "cell_type": "markdown",
   "metadata": {},
   "source": [
    "Next, we load the data, we utilize `polars` since it is much more efficient than `pandas` and can handle large datasets with ease."
   ]
  },
  {
   "cell_type": "code",
   "execution_count": 3,
   "metadata": {},
   "outputs": [],
   "source": [
    "columns = [\"user\", \"poi\", \"date\", \"TZ\"]\n",
    "data = rs.read_csv(\n",
    "    \"dataset_TIST2015/dataset_TIST2015_Checkins.txt\",\n",
    "    has_header=False,\n",
    "    low_memory=True,\n",
    "    separator=\"\\t\",\n",
    ")\n",
    "data.columns = columns"
   ]
  },
  {
   "cell_type": "code",
   "execution_count": 4,
   "metadata": {},
   "outputs": [
    {
     "data": {
      "text/html": [
       "<div><style>\n",
       ".dataframe > thead > tr,\n",
       ".dataframe > tbody > tr {\n",
       "  text-align: right;\n",
       "  white-space: pre-wrap;\n",
       "}\n",
       "</style>\n",
       "<small>shape: (33_263_633, 4)</small><table border=\"1\" class=\"dataframe\"><thead><tr><th>user</th><th>poi</th><th>date</th><th>TZ</th></tr><tr><td>i64</td><td>str</td><td>str</td><td>i64</td></tr></thead><tbody><tr><td>50756</td><td>&quot;4f5e3a72e4b053fd6a4313f6&quot;</td><td>&quot;Tue Apr 03 18:00:06 +0000 2012&quot;</td><td>240</td></tr><tr><td>190571</td><td>&quot;4b4b87b5f964a5204a9f26e3&quot;</td><td>&quot;Tue Apr 03 18:00:07 +0000 2012&quot;</td><td>180</td></tr><tr><td>221021</td><td>&quot;4a85b1b3f964a520eefe1fe3&quot;</td><td>&quot;Tue Apr 03 18:00:08 +0000 2012&quot;</td><td>-240</td></tr><tr><td>66981</td><td>&quot;4b4606f2f964a520751426e3&quot;</td><td>&quot;Tue Apr 03 18:00:08 +0000 2012&quot;</td><td>-300</td></tr><tr><td>21010</td><td>&quot;4c2b4e8a9a559c74832f0de2&quot;</td><td>&quot;Tue Apr 03 18:00:09 +0000 2012&quot;</td><td>240</td></tr><tr><td>&hellip;</td><td>&hellip;</td><td>&hellip;</td><td>&hellip;</td></tr><tr><td>16349</td><td>&quot;4c957755c8a1bfb7e89024f3&quot;</td><td>&quot;Mon Sep 16 23:24:11 +0000 2013&quot;</td><td>-240</td></tr><tr><td>256757</td><td>&quot;4c8bbb6d9ef0224bd2d6667b&quot;</td><td>&quot;Mon Sep 16 23:24:13 +0000 2013&quot;</td><td>-180</td></tr><tr><td>66425</td><td>&quot;513e82a5e4b0ed4f0f3bcf2d&quot;</td><td>&quot;Mon Sep 16 23:24:14 +0000 2013&quot;</td><td>-180</td></tr><tr><td>1830</td><td>&quot;4b447865f964a5204cf525e3&quot;</td><td>&quot;Mon Sep 16 23:24:14 +0000 2013&quot;</td><td>120</td></tr><tr><td>22704</td><td>&quot;50df4ee5e4b0c48b5a1c2968&quot;</td><td>&quot;Mon Sep 16 23:24:15 +0000 2013&quot;</td><td>180</td></tr></tbody></table></div>"
      ],
      "text/plain": [
       "shape: (33_263_633, 4)\n",
       "┌────────┬──────────────────────────┬────────────────────────────────┬──────┐\n",
       "│ user   ┆ poi                      ┆ date                           ┆ TZ   │\n",
       "│ ---    ┆ ---                      ┆ ---                            ┆ ---  │\n",
       "│ i64    ┆ str                      ┆ str                            ┆ i64  │\n",
       "╞════════╪══════════════════════════╪════════════════════════════════╪══════╡\n",
       "│ 50756  ┆ 4f5e3a72e4b053fd6a4313f6 ┆ Tue Apr 03 18:00:06 +0000 2012 ┆ 240  │\n",
       "│ 190571 ┆ 4b4b87b5f964a5204a9f26e3 ┆ Tue Apr 03 18:00:07 +0000 2012 ┆ 180  │\n",
       "│ 221021 ┆ 4a85b1b3f964a520eefe1fe3 ┆ Tue Apr 03 18:00:08 +0000 2012 ┆ -240 │\n",
       "│ 66981  ┆ 4b4606f2f964a520751426e3 ┆ Tue Apr 03 18:00:08 +0000 2012 ┆ -300 │\n",
       "│ 21010  ┆ 4c2b4e8a9a559c74832f0de2 ┆ Tue Apr 03 18:00:09 +0000 2012 ┆ 240  │\n",
       "│ …      ┆ …                        ┆ …                              ┆ …    │\n",
       "│ 16349  ┆ 4c957755c8a1bfb7e89024f3 ┆ Mon Sep 16 23:24:11 +0000 2013 ┆ -240 │\n",
       "│ 256757 ┆ 4c8bbb6d9ef0224bd2d6667b ┆ Mon Sep 16 23:24:13 +0000 2013 ┆ -180 │\n",
       "│ 66425  ┆ 513e82a5e4b0ed4f0f3bcf2d ┆ Mon Sep 16 23:24:14 +0000 2013 ┆ -180 │\n",
       "│ 1830   ┆ 4b447865f964a5204cf525e3 ┆ Mon Sep 16 23:24:14 +0000 2013 ┆ 120  │\n",
       "│ 22704  ┆ 50df4ee5e4b0c48b5a1c2968 ┆ Mon Sep 16 23:24:15 +0000 2013 ┆ 180  │\n",
       "└────────┴──────────────────────────┴────────────────────────────────┴──────┘"
      ]
     },
     "execution_count": 4,
     "metadata": {},
     "output_type": "execute_result"
    }
   ],
   "source": [
    "data"
   ]
  },
  {
   "cell_type": "markdown",
   "metadata": {},
   "source": [
    "Differently from what suggested by the professor, we utilize the full TIST2015 dataset, which has a far greater scale compared to the reduced NY one. However, by following the pruning steps detailed in the paper (http://dx.doi.org/10.1145/3477495.3531989, section 5.1), we obtain sequences that are much smaller in size, resulting in a dataset that is usable on Google Colab's free tier (as required by the assignment)."
   ]
  },
  {
   "cell_type": "code",
   "execution_count": 5,
   "metadata": {},
   "outputs": [],
   "source": [
    "data_users = (\n",
    "    data.lazy()\n",
    "    .group_by(\"user\")\n",
    "    .agg(\n",
    "        [\n",
    "            rs.col(\"poi\").n_unique().alias(\"n_pois\"),\n",
    "            rs.col(\"poi\").count().alias(\"n_checkins\"),\n",
    "            # turn the rest into a list\n",
    "            rs.col(\"poi\").alias(\"pois\"),\n",
    "            rs.col(\"date\").alias(\"dates\"),\n",
    "            rs.col(\"TZ\").alias(\"TZs\"),\n",
    "        ]\n",
    "    )\n",
    ").collect()"
   ]
  },
  {
   "cell_type": "code",
   "execution_count": 6,
   "metadata": {},
   "outputs": [
    {
     "data": {
      "text/html": [
       "<div><style>\n",
       ".dataframe > thead > tr,\n",
       ".dataframe > tbody > tr {\n",
       "  text-align: right;\n",
       "  white-space: pre-wrap;\n",
       "}\n",
       "</style>\n",
       "<small>shape: (9, 7)</small><table border=\"1\" class=\"dataframe\"><thead><tr><th>statistic</th><th>user</th><th>n_pois</th><th>n_checkins</th><th>pois</th><th>dates</th><th>TZs</th></tr><tr><td>str</td><td>f64</td><td>f64</td><td>f64</td><td>f64</td><td>f64</td><td>f64</td></tr></thead><tbody><tr><td>&quot;count&quot;</td><td>266909.0</td><td>266909.0</td><td>266909.0</td><td>266909.0</td><td>266909.0</td><td>266909.0</td></tr><tr><td>&quot;null_count&quot;</td><td>0.0</td><td>0.0</td><td>0.0</td><td>0.0</td><td>0.0</td><td>0.0</td></tr><tr><td>&quot;mean&quot;</td><td>133455.0</td><td>56.477459</td><td>124.62537</td><td>null</td><td>null</td><td>null</td></tr><tr><td>&quot;std&quot;</td><td>77050.135837</td><td>45.968603</td><td>140.692138</td><td>null</td><td>null</td><td>null</td></tr><tr><td>&quot;min&quot;</td><td>1.0</td><td>1.0</td><td>1.0</td><td>null</td><td>null</td><td>null</td></tr><tr><td>&quot;25%&quot;</td><td>66728.0</td><td>30.0</td><td>61.0</td><td>null</td><td>null</td><td>null</td></tr><tr><td>&quot;50%&quot;</td><td>133455.0</td><td>49.0</td><td>93.0</td><td>null</td><td>null</td><td>null</td></tr><tr><td>&quot;75%&quot;</td><td>200182.0</td><td>71.0</td><td>148.0</td><td>null</td><td>null</td><td>null</td></tr><tr><td>&quot;max&quot;</td><td>266909.0</td><td>1246.0</td><td>5430.0</td><td>null</td><td>null</td><td>null</td></tr></tbody></table></div>"
      ],
      "text/plain": [
       "shape: (9, 7)\n",
       "┌────────────┬──────────────┬───────────┬────────────┬──────────┬──────────┬──────────┐\n",
       "│ statistic  ┆ user         ┆ n_pois    ┆ n_checkins ┆ pois     ┆ dates    ┆ TZs      │\n",
       "│ ---        ┆ ---          ┆ ---       ┆ ---        ┆ ---      ┆ ---      ┆ ---      │\n",
       "│ str        ┆ f64          ┆ f64       ┆ f64        ┆ f64      ┆ f64      ┆ f64      │\n",
       "╞════════════╪══════════════╪═══════════╪════════════╪══════════╪══════════╪══════════╡\n",
       "│ count      ┆ 266909.0     ┆ 266909.0  ┆ 266909.0   ┆ 266909.0 ┆ 266909.0 ┆ 266909.0 │\n",
       "│ null_count ┆ 0.0          ┆ 0.0       ┆ 0.0        ┆ 0.0      ┆ 0.0      ┆ 0.0      │\n",
       "│ mean       ┆ 133455.0     ┆ 56.477459 ┆ 124.62537  ┆ null     ┆ null     ┆ null     │\n",
       "│ std        ┆ 77050.135837 ┆ 45.968603 ┆ 140.692138 ┆ null     ┆ null     ┆ null     │\n",
       "│ min        ┆ 1.0          ┆ 1.0       ┆ 1.0        ┆ null     ┆ null     ┆ null     │\n",
       "│ 25%        ┆ 66728.0      ┆ 30.0      ┆ 61.0       ┆ null     ┆ null     ┆ null     │\n",
       "│ 50%        ┆ 133455.0     ┆ 49.0      ┆ 93.0       ┆ null     ┆ null     ┆ null     │\n",
       "│ 75%        ┆ 200182.0     ┆ 71.0      ┆ 148.0      ┆ null     ┆ null     ┆ null     │\n",
       "│ max        ┆ 266909.0     ┆ 1246.0    ┆ 5430.0     ┆ null     ┆ null     ┆ null     │\n",
       "└────────────┴──────────────┴───────────┴────────────┴──────────┴──────────┴──────────┘"
      ]
     },
     "execution_count": 6,
     "metadata": {},
     "output_type": "execute_result"
    }
   ],
   "source": [
    "data_users.describe()"
   ]
  },
  {
   "cell_type": "markdown",
   "metadata": {},
   "source": [
    "## Data Preprocessing"
   ]
  },
  {
   "cell_type": "code",
   "execution_count": 7,
   "metadata": {},
   "outputs": [],
   "source": [
    "data_culled = data_users.filter(\n",
    "    (rs.col(\"n_checkins\") > 20) & (rs.col(\"n_checkins\") < 50)\n",
    ").drop_nulls()"
   ]
  },
  {
   "cell_type": "markdown",
   "metadata": {},
   "source": [
    "Since the original dataset is huge, we delete it and call the python garbage collector to free up memory. We then proceed with the second pruning step (frequency-based pruning) as detailed in the paper."
   ]
  },
  {
   "cell_type": "code",
   "execution_count": 8,
   "metadata": {},
   "outputs": [
    {
     "data": {
      "text/plain": [
       "0"
      ]
     },
     "execution_count": 8,
     "metadata": {},
     "output_type": "execute_result"
    }
   ],
   "source": [
    "del data\n",
    "del data_users\n",
    "\n",
    "import gc\n",
    "\n",
    "gc.collect()"
   ]
  },
  {
   "cell_type": "code",
   "execution_count": 9,
   "metadata": {},
   "outputs": [],
   "source": [
    "# extract unique elements from each lists in data_culled[\"pois\"]\n",
    "out = data_culled.with_columns(\n",
    "    [\n",
    "        rs.col(\"pois\").list.unique(),\n",
    "        rs.col(\"pois\").list.unique().list.len().alias(\"n_unique_pois\"),\n",
    "    ]\n",
    ")"
   ]
  },
  {
   "cell_type": "code",
   "execution_count": 10,
   "metadata": {},
   "outputs": [
    {
     "data": {
      "text/html": [
       "<div><style>\n",
       ".dataframe > thead > tr,\n",
       ".dataframe > tbody > tr {\n",
       "  text-align: right;\n",
       "  white-space: pre-wrap;\n",
       "}\n",
       "</style>\n",
       "<small>shape: (21_697, 7)</small><table border=\"1\" class=\"dataframe\"><thead><tr><th>user</th><th>n_pois</th><th>n_checkins</th><th>pois</th><th>dates</th><th>TZs</th><th>n_unique_pois</th></tr><tr><td>i64</td><td>u32</td><td>u32</td><td>list[str]</td><td>list[str]</td><td>list[i64]</td><td>u32</td></tr></thead><tbody><tr><td>257050</td><td>33</td><td>40</td><td>[&quot;4da1b341540ea1cd78c36cde&quot;, &quot;4bc74b9b8b7c9c748b2836cf&quot;, … &quot;4f527df9e4b0b589381ab0df&quot;]</td><td>[&quot;Sat May 19 18:15:09 +0000 2012&quot;, &quot;Sat Jun 16 19:55:18 +0000 2012&quot;, … &quot;Sun Mar 31 23:55:17 +0000 2013&quot;]</td><td>[120, 120, … -240]</td><td>33</td></tr><tr><td>195206</td><td>20</td><td>24</td><td>[&quot;4f98dec4e4b0eee8ce1f733f&quot;, &quot;4e60d88062e13e3bcded9e7a&quot;, … &quot;4ca5c1fb14c33704b09db83b&quot;]</td><td>[&quot;Wed Dec 05 01:10:16 +0000 2012&quot;, &quot;Wed Dec 05 09:22:11 +0000 2012&quot;, … &quot;Sat Sep 07 13:36:06 +0000 2013&quot;]</td><td>[480, 480, … 480]</td><td>20</td></tr><tr><td>249708</td><td>23</td><td>27</td><td>[&quot;4e6f565145dd49e0f1bac72a&quot;, &quot;4b9f0445f964a5202e1037e3&quot;, … &quot;4c62b770ec94a59302e429ca&quot;]</td><td>[&quot;Mon May 28 14:26:24 +0000 2012&quot;, &quot;Wed May 30 05:14:44 +0000 2012&quot;, … &quot;Thu Jan 03 03:05:54 +0000 2013&quot;]</td><td>[330, 330, … -300]</td><td>23</td></tr><tr><td>210069</td><td>28</td><td>30</td><td>[&quot;4b6cf112f964a5203b5f2ce3&quot;, &quot;4d6b2c0192f6b60c57ed9de0&quot;, … &quot;4b73785bf964a52022b02de3&quot;]</td><td>[&quot;Fri May 11 04:13:48 +0000 2012&quot;, &quot;Fri May 11 04:26:31 +0000 2012&quot;, … &quot;Mon Nov 12 07:25:48 +0000 2012&quot;]</td><td>[540, 540, … 540]</td><td>28</td></tr><tr><td>226116</td><td>19</td><td>43</td><td>[&quot;4b49cb0ff964a520b67326e3&quot;, &quot;4bfb9c8565fbc9b6f493916c&quot;, … &quot;4dbd41eb0cb691071cb5d467&quot;]</td><td>[&quot;Tue Dec 18 14:56:54 +0000 2012&quot;, &quot;Wed Jan 02 09:48:05 +0000 2013&quot;, … &quot;Tue Sep 10 16:10:12 +0000 2013&quot;]</td><td>[120, 120, … 180]</td><td>19</td></tr><tr><td>&hellip;</td><td>&hellip;</td><td>&hellip;</td><td>&hellip;</td><td>&hellip;</td><td>&hellip;</td><td>&hellip;</td></tr><tr><td>225889</td><td>25</td><td>27</td><td>[&quot;4ef8f437be7bb4784eea4e29&quot;, &quot;4bf1c4a052bda5933af2b1b7&quot;, … &quot;4fd673cae4b0edb666931132&quot;]</td><td>[&quot;Thu Jun 07 00:08:28 +0000 2012&quot;, &quot;Mon Jun 11 18:31:08 +0000 2012&quot;, … &quot;Fri Jul 06 06:57:51 +0000 2012&quot;]</td><td>[-300, -300, … -300]</td><td>25</td></tr><tr><td>105437</td><td>27</td><td>38</td><td>[&quot;4fa292a6e4b099a8ddb9e714&quot;, &quot;4c8250a3dc018cfa5eaecd6c&quot;, … &quot;4b613d84f964a520d50d2ae3&quot;]</td><td>[&quot;Sun Apr 08 12:30:59 +0000 2012&quot;, &quot;Sun Apr 08 13:56:04 +0000 2012&quot;, … &quot;Sun Jan 27 07:18:07 +0000 2013&quot;]</td><td>[420, 420, … 420]</td><td>27</td></tr><tr><td>125698</td><td>20</td><td>23</td><td>[&quot;4ba7ad4cf964a520dca839e3&quot;, &quot;4bd5c60b9649ce7276a7511d&quot;, … &quot;4c9cffcb542b224b56d1e59f&quot;]</td><td>[&quot;Fri Apr 20 02:23:20 +0000 2012&quot;, &quot;Sat May 19 21:05:02 +0000 2012&quot;, … &quot;Sun Aug 12 17:08:22 +0000 2012&quot;]</td><td>[-240, -240, … -300]</td><td>20</td></tr><tr><td>234166</td><td>36</td><td>45</td><td>[&quot;4e0dbf4fb0fb59de67cefcd1&quot;, &quot;4d725bb427ddb60c2d9ecc1b&quot;, … &quot;4b83992ef964a520dd0a31e3&quot;]</td><td>[&quot;Wed Apr 04 05:11:22 +0000 2012&quot;, &quot;Sun Apr 15 09:05:42 +0000 2012&quot;, … &quot;Sat Jul 20 17:26:47 +0000 2013&quot;]</td><td>[180, 180, … 180]</td><td>36</td></tr><tr><td>38889</td><td>40</td><td>44</td><td>[&quot;4ed94f4d5c5c96a2fcec6920&quot;, &quot;4dc5bf2718387d1bd546becb&quot;, … &quot;4e371883fa7606f143f7d26c&quot;]</td><td>[&quot;Sun Jun 03 20:54:55 +0000 2012&quot;, &quot;Sun Jun 03 22:32:52 +0000 2012&quot;, … &quot;Tue Sep 03 19:53:16 +0000 2013&quot;]</td><td>[-300, -300, … -300]</td><td>40</td></tr></tbody></table></div>"
      ],
      "text/plain": [
       "shape: (21_697, 7)\n",
       "┌────────┬────────┬────────────┬─────────────────┬────────────────┬────────────────┬───────────────┐\n",
       "│ user   ┆ n_pois ┆ n_checkins ┆ pois            ┆ dates          ┆ TZs            ┆ n_unique_pois │\n",
       "│ ---    ┆ ---    ┆ ---        ┆ ---             ┆ ---            ┆ ---            ┆ ---           │\n",
       "│ i64    ┆ u32    ┆ u32        ┆ list[str]       ┆ list[str]      ┆ list[i64]      ┆ u32           │\n",
       "╞════════╪════════╪════════════╪═════════════════╪════════════════╪════════════════╪═══════════════╡\n",
       "│ 257050 ┆ 33     ┆ 40         ┆ [\"4da1b341540ea ┆ [\"Sat May 19   ┆ [120, 120, …   ┆ 33            │\n",
       "│        ┆        ┆            ┆ 1cd78c36cde\",   ┆ 18:15:09 +0000 ┆ -240]          ┆               │\n",
       "│        ┆        ┆            ┆ \"…              ┆ 20…            ┆                ┆               │\n",
       "│ 195206 ┆ 20     ┆ 24         ┆ [\"4f98dec4e4b0e ┆ [\"Wed Dec 05   ┆ [480, 480, …   ┆ 20            │\n",
       "│        ┆        ┆            ┆ ee8ce1f733f\",   ┆ 01:10:16 +0000 ┆ 480]           ┆               │\n",
       "│        ┆        ┆            ┆ \"…              ┆ 20…            ┆                ┆               │\n",
       "│ 249708 ┆ 23     ┆ 27         ┆ [\"4e6f565145dd4 ┆ [\"Mon May 28   ┆ [330, 330, …   ┆ 23            │\n",
       "│        ┆        ┆            ┆ 9e0f1bac72a\",   ┆ 14:26:24 +0000 ┆ -300]          ┆               │\n",
       "│        ┆        ┆            ┆ \"…              ┆ 20…            ┆                ┆               │\n",
       "│ 210069 ┆ 28     ┆ 30         ┆ [\"4b6cf112f964a ┆ [\"Fri May 11   ┆ [540, 540, …   ┆ 28            │\n",
       "│        ┆        ┆            ┆ 5203b5f2ce3\",   ┆ 04:13:48 +0000 ┆ 540]           ┆               │\n",
       "│        ┆        ┆            ┆ \"…              ┆ 20…            ┆                ┆               │\n",
       "│ 226116 ┆ 19     ┆ 43         ┆ [\"4b49cb0ff964a ┆ [\"Tue Dec 18   ┆ [120, 120, …   ┆ 19            │\n",
       "│        ┆        ┆            ┆ 520b67326e3\",   ┆ 14:56:54 +0000 ┆ 180]           ┆               │\n",
       "│        ┆        ┆            ┆ \"…              ┆ 20…            ┆                ┆               │\n",
       "│ …      ┆ …      ┆ …          ┆ …               ┆ …              ┆ …              ┆ …             │\n",
       "│ 225889 ┆ 25     ┆ 27         ┆ [\"4ef8f437be7bb ┆ [\"Thu Jun 07   ┆ [-300, -300, … ┆ 25            │\n",
       "│        ┆        ┆            ┆ 4784eea4e29\",   ┆ 00:08:28 +0000 ┆ -300]          ┆               │\n",
       "│        ┆        ┆            ┆ \"…              ┆ 20…            ┆                ┆               │\n",
       "│ 105437 ┆ 27     ┆ 38         ┆ [\"4fa292a6e4b09 ┆ [\"Sun Apr 08   ┆ [420, 420, …   ┆ 27            │\n",
       "│        ┆        ┆            ┆ 9a8ddb9e714\",   ┆ 12:30:59 +0000 ┆ 420]           ┆               │\n",
       "│        ┆        ┆            ┆ \"…              ┆ 20…            ┆                ┆               │\n",
       "│ 125698 ┆ 20     ┆ 23         ┆ [\"4ba7ad4cf964a ┆ [\"Fri Apr 20   ┆ [-240, -240, … ┆ 20            │\n",
       "│        ┆        ┆            ┆ 520dca839e3\",   ┆ 02:23:20 +0000 ┆ -300]          ┆               │\n",
       "│        ┆        ┆            ┆ \"…              ┆ 20…            ┆                ┆               │\n",
       "│ 234166 ┆ 36     ┆ 45         ┆ [\"4e0dbf4fb0fb5 ┆ [\"Wed Apr 04   ┆ [180, 180, …   ┆ 36            │\n",
       "│        ┆        ┆            ┆ 9de67cefcd1\",   ┆ 05:11:22 +0000 ┆ 180]           ┆               │\n",
       "│        ┆        ┆            ┆ \"…              ┆ 20…            ┆                ┆               │\n",
       "│ 38889  ┆ 40     ┆ 44         ┆ [\"4ed94f4d5c5c9 ┆ [\"Sun Jun 03   ┆ [-300, -300, … ┆ 40            │\n",
       "│        ┆        ┆            ┆ 6a2fcec6920\",   ┆ 20:54:55 +0000 ┆ -300]          ┆               │\n",
       "│        ┆        ┆            ┆ \"…              ┆ 20…            ┆                ┆               │\n",
       "└────────┴────────┴────────────┴─────────────────┴────────────────┴────────────────┴───────────────┘"
      ]
     },
     "execution_count": 10,
     "metadata": {},
     "output_type": "execute_result"
    }
   ],
   "source": [
    "out"
   ]
  },
  {
   "cell_type": "code",
   "execution_count": 11,
   "metadata": {},
   "outputs": [
    {
     "data": {
      "text/plain": [
       "33"
      ]
     },
     "execution_count": 11,
     "metadata": {},
     "output_type": "execute_result"
    }
   ],
   "source": [
    "l = out[\"pois\"][0].to_list()\n",
    "len(set(l))  # print number of unique POIs in first sequence"
   ]
  },
  {
   "cell_type": "code",
   "execution_count": 12,
   "metadata": {},
   "outputs": [
    {
     "data": {
      "text/plain": [
       "40"
      ]
     },
     "execution_count": 12,
     "metadata": {},
     "output_type": "execute_result"
    }
   ],
   "source": [
    "l2 = data_culled[\"pois\"][0].to_list()\n",
    "len(l2)  # print sequence length of first user"
   ]
  },
  {
   "cell_type": "code",
   "execution_count": 13,
   "metadata": {},
   "outputs": [
    {
     "data": {
      "text/plain": [
       "33"
      ]
     },
     "execution_count": 13,
     "metadata": {},
     "output_type": "execute_result"
    }
   ],
   "source": [
    "len(set(l2))  # confirm that the two match"
   ]
  },
  {
   "cell_type": "code",
   "execution_count": 14,
   "metadata": {},
   "outputs": [],
   "source": [
    "# run a Polars query to obtain all the frequent POIs, the ones expected to survive the filtering\n",
    "unique_pois = out[\"pois\"]\n",
    "frequent_pois = unique_pois.list.explode().value_counts().filter(rs.col(\"count\") >= 10)"
   ]
  },
  {
   "cell_type": "code",
   "execution_count": 15,
   "metadata": {},
   "outputs": [
    {
     "data": {
      "text/html": [
       "<div><style>\n",
       ".dataframe > thead > tr,\n",
       ".dataframe > tbody > tr {\n",
       "  text-align: right;\n",
       "  white-space: pre-wrap;\n",
       "}\n",
       "</style>\n",
       "<small>shape: (4_455, 2)</small><table border=\"1\" class=\"dataframe\"><thead><tr><th>pois</th><th>count</th></tr><tr><td>str</td><td>u32</td></tr></thead><tbody><tr><td>&quot;4e5e3644814d9e0233e0151e&quot;</td><td>16</td></tr><tr><td>&quot;4b2ae76ff964a520d6b124e3&quot;</td><td>11</td></tr><tr><td>&quot;4b52966cf964a520328327e3&quot;</td><td>18</td></tr><tr><td>&quot;4c25a376a852c9283e54e56c&quot;</td><td>17</td></tr><tr><td>&quot;4c30658a16adc928711bbf9c&quot;</td><td>44</td></tr><tr><td>&hellip;</td><td>&hellip;</td></tr><tr><td>&quot;4a65d6a4f964a520a1c71fe3&quot;</td><td>100</td></tr><tr><td>&quot;4b67e81bf964a520bb602be3&quot;</td><td>78</td></tr><tr><td>&quot;4bae2c85f964a520a98d3be3&quot;</td><td>17</td></tr><tr><td>&quot;4a8f5881f964a520021520e3&quot;</td><td>14</td></tr><tr><td>&quot;4b8baecef964a520d8a632e3&quot;</td><td>27</td></tr></tbody></table></div>"
      ],
      "text/plain": [
       "shape: (4_455, 2)\n",
       "┌──────────────────────────┬───────┐\n",
       "│ pois                     ┆ count │\n",
       "│ ---                      ┆ ---   │\n",
       "│ str                      ┆ u32   │\n",
       "╞══════════════════════════╪═══════╡\n",
       "│ 4e5e3644814d9e0233e0151e ┆ 16    │\n",
       "│ 4b2ae76ff964a520d6b124e3 ┆ 11    │\n",
       "│ 4b52966cf964a520328327e3 ┆ 18    │\n",
       "│ 4c25a376a852c9283e54e56c ┆ 17    │\n",
       "│ 4c30658a16adc928711bbf9c ┆ 44    │\n",
       "│ …                        ┆ …     │\n",
       "│ 4a65d6a4f964a520a1c71fe3 ┆ 100   │\n",
       "│ 4b67e81bf964a520bb602be3 ┆ 78    │\n",
       "│ 4bae2c85f964a520a98d3be3 ┆ 17    │\n",
       "│ 4a8f5881f964a520021520e3 ┆ 14    │\n",
       "│ 4b8baecef964a520d8a632e3 ┆ 27    │\n",
       "└──────────────────────────┴───────┘"
      ]
     },
     "execution_count": 15,
     "metadata": {},
     "output_type": "execute_result"
    }
   ],
   "source": [
    "frequent_pois"
   ]
  },
  {
   "cell_type": "code",
   "execution_count": 16,
   "metadata": {},
   "outputs": [],
   "source": [
    "frequent_pois = frequent_pois[\"pois\"]\n",
    "frequent_pois = set(frequent_pois.to_list())"
   ]
  },
  {
   "cell_type": "code",
   "execution_count": 17,
   "metadata": {},
   "outputs": [
    {
     "data": {
      "text/html": [
       "<div><style>\n",
       ".dataframe > thead > tr,\n",
       ".dataframe > tbody > tr {\n",
       "  text-align: right;\n",
       "  white-space: pre-wrap;\n",
       "}\n",
       "</style>\n",
       "<small>shape: (21_697, 6)</small><table border=\"1\" class=\"dataframe\"><thead><tr><th>user</th><th>n_pois</th><th>n_checkins</th><th>pois</th><th>dates</th><th>TZs</th></tr><tr><td>i64</td><td>u32</td><td>u32</td><td>list[str]</td><td>list[str]</td><td>list[i64]</td></tr></thead><tbody><tr><td>257050</td><td>33</td><td>40</td><td>[&quot;4da1a9e0c6e96ea8a6e2c45d&quot;, &quot;4c473713417b20a160d5dca9&quot;, … &quot;4b3d350ff964a520469025e3&quot;]</td><td>[&quot;Sat May 19 18:15:09 +0000 2012&quot;, &quot;Sat Jun 16 19:55:18 +0000 2012&quot;, … &quot;Sun Mar 31 23:55:17 +0000 2013&quot;]</td><td>[120, 120, … -240]</td></tr><tr><td>195206</td><td>20</td><td>24</td><td>[&quot;4e60d88062e13e3bcded9e7a&quot;, &quot;503dfc8ce4b0a5c85898cfd9&quot;, … &quot;50cb5f14e4b029bc9c97f4fc&quot;]</td><td>[&quot;Wed Dec 05 01:10:16 +0000 2012&quot;, &quot;Wed Dec 05 09:22:11 +0000 2012&quot;, … &quot;Sat Sep 07 13:36:06 +0000 2013&quot;]</td><td>[480, 480, … 480]</td></tr><tr><td>249708</td><td>23</td><td>27</td><td>[&quot;4f4dd4e1e4b0393387511980&quot;, &quot;4b55d511f964a520fef127e3&quot;, … &quot;4d58d7fc7e22370425e6a973&quot;]</td><td>[&quot;Mon May 28 14:26:24 +0000 2012&quot;, &quot;Wed May 30 05:14:44 +0000 2012&quot;, … &quot;Thu Jan 03 03:05:54 +0000 2013&quot;]</td><td>[330, 330, … -300]</td></tr><tr><td>210069</td><td>28</td><td>30</td><td>[&quot;4b52c581f964a520c28727e3&quot;, &quot;4b5ea776f964a520119529e3&quot;, … &quot;4eedf73ee3002155941114e8&quot;]</td><td>[&quot;Fri May 11 04:13:48 +0000 2012&quot;, &quot;Fri May 11 04:26:31 +0000 2012&quot;, … &quot;Mon Nov 12 07:25:48 +0000 2012&quot;]</td><td>[540, 540, … 540]</td></tr><tr><td>226116</td><td>19</td><td>43</td><td>[&quot;4d0783af0e49721ecb8a807f&quot;, &quot;4d0783af0e49721ecb8a807f&quot;, … &quot;4d412a994acd236a1360f7a9&quot;]</td><td>[&quot;Tue Dec 18 14:56:54 +0000 2012&quot;, &quot;Wed Jan 02 09:48:05 +0000 2013&quot;, … &quot;Tue Sep 10 16:10:12 +0000 2013&quot;]</td><td>[120, 120, … 180]</td></tr><tr><td>&hellip;</td><td>&hellip;</td><td>&hellip;</td><td>&hellip;</td><td>&hellip;</td><td>&hellip;</td></tr><tr><td>225889</td><td>25</td><td>27</td><td>[&quot;4b936956f964a5200e4334e3&quot;, &quot;4a36fbcbf964a5201b9e1fe3&quot;, … &quot;4f4016a2e4b0f7b458b21252&quot;]</td><td>[&quot;Thu Jun 07 00:08:28 +0000 2012&quot;, &quot;Mon Jun 11 18:31:08 +0000 2012&quot;, … &quot;Fri Jul 06 06:57:51 +0000 2012&quot;]</td><td>[-300, -300, … -300]</td></tr><tr><td>105437</td><td>27</td><td>38</td><td>[&quot;4baa0e9cf964a52034473ae3&quot;, &quot;4b9a639df964a52017b135e3&quot;, … &quot;4b4479a4f964a5205ef525e3&quot;]</td><td>[&quot;Sun Apr 08 12:30:59 +0000 2012&quot;, &quot;Sun Apr 08 13:56:04 +0000 2012&quot;, … &quot;Sun Jan 27 07:18:07 +0000 2013&quot;]</td><td>[420, 420, … 420]</td></tr><tr><td>125698</td><td>20</td><td>23</td><td>[&quot;4cb0dc48c5e6a1cd2c10d9f6&quot;, &quot;3fd66200f964a52000ee1ee3&quot;, … &quot;4b81c860f964a520c6bd30e3&quot;]</td><td>[&quot;Fri Apr 20 02:23:20 +0000 2012&quot;, &quot;Sat May 19 21:05:02 +0000 2012&quot;, … &quot;Sun Aug 12 17:08:22 +0000 2012&quot;]</td><td>[-240, -240, … -300]</td></tr><tr><td>234166</td><td>36</td><td>45</td><td>[&quot;4cefee2113aea143975d769f&quot;, &quot;4bb8423c98c7ef3b92fe3002&quot;, … &quot;4b83992ef964a520dd0a31e3&quot;]</td><td>[&quot;Wed Apr 04 05:11:22 +0000 2012&quot;, &quot;Sun Apr 15 09:05:42 +0000 2012&quot;, … &quot;Sat Jul 20 17:26:47 +0000 2013&quot;]</td><td>[180, 180, … 180]</td></tr><tr><td>38889</td><td>40</td><td>44</td><td>[&quot;4bac30c8f964a5201fea3ae3&quot;, &quot;4c5e12552815c928b1dbb667&quot;, … &quot;4bad0510f964a52031253be3&quot;]</td><td>[&quot;Sun Jun 03 20:54:55 +0000 2012&quot;, &quot;Sun Jun 03 22:32:52 +0000 2012&quot;, … &quot;Tue Sep 03 19:53:16 +0000 2013&quot;]</td><td>[-300, -300, … -300]</td></tr></tbody></table></div>"
      ],
      "text/plain": [
       "shape: (21_697, 6)\n",
       "┌────────┬────────┬────────────┬──────────────────────┬──────────────────────┬─────────────────────┐\n",
       "│ user   ┆ n_pois ┆ n_checkins ┆ pois                 ┆ dates                ┆ TZs                 │\n",
       "│ ---    ┆ ---    ┆ ---        ┆ ---                  ┆ ---                  ┆ ---                 │\n",
       "│ i64    ┆ u32    ┆ u32        ┆ list[str]            ┆ list[str]            ┆ list[i64]           │\n",
       "╞════════╪════════╪════════════╪══════════════════════╪══════════════════════╪═════════════════════╡\n",
       "│ 257050 ┆ 33     ┆ 40         ┆ [\"4da1a9e0c6e96ea8a6 ┆ [\"Sat May 19         ┆ [120, 120, … -240]  │\n",
       "│        ┆        ┆            ┆ e2c45d\", \"…          ┆ 18:15:09 +0000 20…   ┆                     │\n",
       "│ 195206 ┆ 20     ┆ 24         ┆ [\"4e60d88062e13e3bcd ┆ [\"Wed Dec 05         ┆ [480, 480, … 480]   │\n",
       "│        ┆        ┆            ┆ ed9e7a\", \"…          ┆ 01:10:16 +0000 20…   ┆                     │\n",
       "│ 249708 ┆ 23     ┆ 27         ┆ [\"4f4dd4e1e4b0393387 ┆ [\"Mon May 28         ┆ [330, 330, … -300]  │\n",
       "│        ┆        ┆            ┆ 511980\", \"…          ┆ 14:26:24 +0000 20…   ┆                     │\n",
       "│ 210069 ┆ 28     ┆ 30         ┆ [\"4b52c581f964a520c2 ┆ [\"Fri May 11         ┆ [540, 540, … 540]   │\n",
       "│        ┆        ┆            ┆ 8727e3\", \"…          ┆ 04:13:48 +0000 20…   ┆                     │\n",
       "│ 226116 ┆ 19     ┆ 43         ┆ [\"4d0783af0e49721ecb ┆ [\"Tue Dec 18         ┆ [120, 120, … 180]   │\n",
       "│        ┆        ┆            ┆ 8a807f\", \"…          ┆ 14:56:54 +0000 20…   ┆                     │\n",
       "│ …      ┆ …      ┆ …          ┆ …                    ┆ …                    ┆ …                   │\n",
       "│ 225889 ┆ 25     ┆ 27         ┆ [\"4b936956f964a5200e ┆ [\"Thu Jun 07         ┆ [-300, -300, …      │\n",
       "│        ┆        ┆            ┆ 4334e3\", \"…          ┆ 00:08:28 +0000 20…   ┆ -300]               │\n",
       "│ 105437 ┆ 27     ┆ 38         ┆ [\"4baa0e9cf964a52034 ┆ [\"Sun Apr 08         ┆ [420, 420, … 420]   │\n",
       "│        ┆        ┆            ┆ 473ae3\", \"…          ┆ 12:30:59 +0000 20…   ┆                     │\n",
       "│ 125698 ┆ 20     ┆ 23         ┆ [\"4cb0dc48c5e6a1cd2c ┆ [\"Fri Apr 20         ┆ [-240, -240, …      │\n",
       "│        ┆        ┆            ┆ 10d9f6\", \"…          ┆ 02:23:20 +0000 20…   ┆ -300]               │\n",
       "│ 234166 ┆ 36     ┆ 45         ┆ [\"4cefee2113aea14397 ┆ [\"Wed Apr 04         ┆ [180, 180, … 180]   │\n",
       "│        ┆        ┆            ┆ 5d769f\", \"…          ┆ 05:11:22 +0000 20…   ┆                     │\n",
       "│ 38889  ┆ 40     ┆ 44         ┆ [\"4bac30c8f964a5201f ┆ [\"Sun Jun 03         ┆ [-300, -300, …      │\n",
       "│        ┆        ┆            ┆ ea3ae3\", \"…          ┆ 20:54:55 +0000 20…   ┆ -300]               │\n",
       "└────────┴────────┴────────────┴──────────────────────┴──────────────────────┴─────────────────────┘"
      ]
     },
     "execution_count": 17,
     "metadata": {},
     "output_type": "execute_result"
    }
   ],
   "source": [
    "data_culled"
   ]
  },
  {
   "cell_type": "code",
   "execution_count": 18,
   "metadata": {},
   "outputs": [],
   "source": [
    "data_culled = data_culled.with_columns(\n",
    "    [\n",
    "        rs.col(\"pois\")\n",
    "        .list.eval(\n",
    "            rs.element().is_in(frequent_pois),\n",
    "        )\n",
    "        .alias(\"is_frequent\")\n",
    "    ]\n",
    ")  # prep mask"
   ]
  },
  {
   "cell_type": "code",
   "execution_count": 19,
   "metadata": {},
   "outputs": [],
   "source": [
    "final_data = (\n",
    "    data_culled.lazy()\n",
    "    .with_row_index()\n",
    "    .explode(\n",
    "        [\n",
    "            \"pois\",\n",
    "            \"dates\",\n",
    "            \"TZs\",\n",
    "            \"is_frequent\",\n",
    "        ]\n",
    "    )\n",
    "    .group_by(\"user\")\n",
    "    .agg(\n",
    "        [\n",
    "            rs.col(\"pois\").filter(rs.col(\"is_frequent\")).alias(\"pois\"),\n",
    "            rs.col(\"dates\").filter(rs.col(\"is_frequent\")).alias(\"dates\"),\n",
    "            rs.col(\"TZs\").filter(rs.col(\"is_frequent\")).alias(\"TZs\"),\n",
    "            rs.col(\"pois\").filter(rs.col(\"is_frequent\")).n_unique().alias(\"n_pois\"),\n",
    "            rs.col(\"pois\").filter(rs.col(\"is_frequent\")).count().alias(\"n_checkins\"),\n",
    "        ]\n",
    "    )\n",
    "    .filter(rs.col(\"n_checkins\") > 0)\n",
    "    .filter(rs.col(\"n_pois\") > 0)\n",
    "    .collect()\n",
    ")  # filter out infrequent pois and users with no pois"
   ]
  },
  {
   "cell_type": "code",
   "execution_count": 20,
   "metadata": {},
   "outputs": [
    {
     "data": {
      "text/html": [
       "<div><style>\n",
       ".dataframe > thead > tr,\n",
       ".dataframe > tbody > tr {\n",
       "  text-align: right;\n",
       "  white-space: pre-wrap;\n",
       "}\n",
       "</style>\n",
       "<small>shape: (9, 7)</small><table border=\"1\" class=\"dataframe\"><thead><tr><th>statistic</th><th>user</th><th>pois</th><th>dates</th><th>TZs</th><th>n_pois</th><th>n_checkins</th></tr><tr><td>str</td><td>f64</td><td>f64</td><td>f64</td><td>f64</td><td>f64</td><td>f64</td></tr></thead><tbody><tr><td>&quot;count&quot;</td><td>19862.0</td><td>19862.0</td><td>19862.0</td><td>19862.0</td><td>19862.0</td><td>19862.0</td></tr><tr><td>&quot;null_count&quot;</td><td>0.0</td><td>0.0</td><td>0.0</td><td>0.0</td><td>0.0</td><td>0.0</td></tr><tr><td>&quot;mean&quot;</td><td>156852.822274</td><td>null</td><td>null</td><td>null</td><td>6.123452</td><td>8.831437</td></tr><tr><td>&quot;std&quot;</td><td>76314.892884</td><td>null</td><td>null</td><td>null</td><td>4.609024</td><td>6.877662</td></tr><tr><td>&quot;min&quot;</td><td>49.0</td><td>null</td><td>null</td><td>null</td><td>1.0</td><td>1.0</td></tr><tr><td>&quot;25%&quot;</td><td>95613.0</td><td>null</td><td>null</td><td>null</td><td>3.0</td><td>4.0</td></tr><tr><td>&quot;50%&quot;</td><td>167846.0</td><td>null</td><td>null</td><td>null</td><td>5.0</td><td>7.0</td></tr><tr><td>&quot;75%&quot;</td><td>224576.0</td><td>null</td><td>null</td><td>null</td><td>8.0</td><td>12.0</td></tr><tr><td>&quot;max&quot;</td><td>266909.0</td><td>null</td><td>null</td><td>null</td><td>32.0</td><td>46.0</td></tr></tbody></table></div>"
      ],
      "text/plain": [
       "shape: (9, 7)\n",
       "┌────────────┬───────────────┬─────────┬─────────┬─────────┬──────────┬────────────┐\n",
       "│ statistic  ┆ user          ┆ pois    ┆ dates   ┆ TZs     ┆ n_pois   ┆ n_checkins │\n",
       "│ ---        ┆ ---           ┆ ---     ┆ ---     ┆ ---     ┆ ---      ┆ ---        │\n",
       "│ str        ┆ f64           ┆ f64     ┆ f64     ┆ f64     ┆ f64      ┆ f64        │\n",
       "╞════════════╪═══════════════╪═════════╪═════════╪═════════╪══════════╪════════════╡\n",
       "│ count      ┆ 19862.0       ┆ 19862.0 ┆ 19862.0 ┆ 19862.0 ┆ 19862.0  ┆ 19862.0    │\n",
       "│ null_count ┆ 0.0           ┆ 0.0     ┆ 0.0     ┆ 0.0     ┆ 0.0      ┆ 0.0        │\n",
       "│ mean       ┆ 156852.822274 ┆ null    ┆ null    ┆ null    ┆ 6.123452 ┆ 8.831437   │\n",
       "│ std        ┆ 76314.892884  ┆ null    ┆ null    ┆ null    ┆ 4.609024 ┆ 6.877662   │\n",
       "│ min        ┆ 49.0          ┆ null    ┆ null    ┆ null    ┆ 1.0      ┆ 1.0        │\n",
       "│ 25%        ┆ 95613.0       ┆ null    ┆ null    ┆ null    ┆ 3.0      ┆ 4.0        │\n",
       "│ 50%        ┆ 167846.0      ┆ null    ┆ null    ┆ null    ┆ 5.0      ┆ 7.0        │\n",
       "│ 75%        ┆ 224576.0      ┆ null    ┆ null    ┆ null    ┆ 8.0      ┆ 12.0       │\n",
       "│ max        ┆ 266909.0      ┆ null    ┆ null    ┆ null    ┆ 32.0     ┆ 46.0       │\n",
       "└────────────┴───────────────┴─────────┴─────────┴─────────┴──────────┴────────────┘"
      ]
     },
     "execution_count": 20,
     "metadata": {},
     "output_type": "execute_result"
    }
   ],
   "source": [
    "final_data.describe()"
   ]
  },
  {
   "cell_type": "markdown",
   "metadata": {},
   "source": [
    "At this stage, culling is done, we can appreciate that `polars`'s SQL/functional-style API is different from Pandas, but it is very powerful and efficient."
   ]
  },
  {
   "cell_type": "markdown",
   "metadata": {},
   "source": [
    "The next step is geohashing the POIs, that is, we want to convert the latitude-longitude positions of the POIs into a grid-based geohash representation, which will form the basis for our network's embeddings."
   ]
  },
  {
   "cell_type": "code",
   "execution_count": 21,
   "metadata": {},
   "outputs": [],
   "source": [
    "import geohash2 as gh\n",
    "\n",
    "pois = rs.read_csv(\n",
    "    \"dataset_TIST2015/dataset_TIST2015_POIs.txt\",\n",
    "    has_header=False,\n",
    "    low_memory=True,\n",
    "    separator=\"\\t\",\n",
    ")\n",
    "pois.columns = [\"poi\", \"lat\", \"long\", \"category\", \"country\"]\n",
    "pois = pois.drop(\"category\").drop(\"country\")"
   ]
  },
  {
   "cell_type": "code",
   "execution_count": 22,
   "metadata": {},
   "outputs": [],
   "source": [
    "pois = (\n",
    "    pois.lazy()\n",
    "    .filter(rs.col(\"poi\").is_in(frequent_pois))\n",
    "    .select(\n",
    "        [\n",
    "            rs.col(\"poi\"),\n",
    "            rs.struct(\n",
    "                [\n",
    "                    rs.col(\"lat\").cast(rs.Float32),\n",
    "                    rs.col(\"long\").cast(rs.Float32),\n",
    "                ]\n",
    "            )\n",
    "            .alias(\"location\")\n",
    "            .map_elements(\n",
    "                lambda s: gh.encode(s[\"lat\"], s[\"long\"], precision=6),\n",
    "                return_dtype=rs.String,\n",
    "            )\n",
    "            .alias(\"geohash\"),\n",
    "        ]\n",
    "    )\n",
    "    .collect()\n",
    ")\n",
    "poi_geo_dict = dict(zip(pois[\"poi\"], pois[\"geohash\"]))"
   ]
  },
  {
   "cell_type": "code",
   "execution_count": 23,
   "metadata": {},
   "outputs": [],
   "source": [
    "# for each row in final_data, add the geohash of the pois by hitting the poi_geo_dict\n",
    "\n",
    "final_data = final_data.with_columns(\n",
    "    [\n",
    "        rs.col(\"pois\")\n",
    "        .map_elements(\n",
    "            lambda s: [poi_geo_dict[s] for s in s],\n",
    "            return_dtype=rs.List(rs.String),\n",
    "        )\n",
    "        .alias(\"geohashes\")\n",
    "    ]\n",
    ")"
   ]
  },
  {
   "cell_type": "code",
   "execution_count": 24,
   "metadata": {},
   "outputs": [
    {
     "data": {
      "text/plain": [
       "['Sat Sep 15 18:08:37 +0000 2012',\n",
       " 'Thu Jan 03 00:46:51 +0000 2013',\n",
       " 'Tue Apr 02 01:22:47 +0000 2013',\n",
       " 'Sat Apr 06 02:22:27 +0000 2013',\n",
       " 'Sun Aug 04 23:48:22 +0000 2013']"
      ]
     },
     "execution_count": 24,
     "metadata": {},
     "output_type": "execute_result"
    }
   ],
   "source": [
    "final_data[\"dates\"][79].to_list()  # check out a temporal sequence"
   ]
  },
  {
   "cell_type": "code",
   "execution_count": 25,
   "metadata": {},
   "outputs": [
    {
     "data": {
      "text/plain": [
       "[-300, -360, -360, -360, -300]"
      ]
     },
     "execution_count": 25,
     "metadata": {},
     "output_type": "execute_result"
    }
   ],
   "source": [
    "final_data[\"TZs\"][79].to_list()  # ... and the corresponding timezones"
   ]
  },
  {
   "cell_type": "markdown",
   "metadata": {},
   "source": [
    "The work *might* seem over, however, we still have timezones to account for, we want to normalize everything according to GMT, so we convert the timestamps accordingly."
   ]
  },
  {
   "cell_type": "code",
   "execution_count": 26,
   "metadata": {},
   "outputs": [],
   "source": [
    "import datetime\n",
    "\n",
    "\n",
    "def UTC_to_local(utc, tz):\n",
    "\n",
    "    date = datetime.datetime.strptime(utc, \"%a %b %d %H:%M:%S %z %Y\")\n",
    "    date = date.replace(tzinfo=datetime.timezone.utc)\n",
    "\n",
    "    # shift by tz offset\n",
    "    date = date.astimezone(datetime.timezone(datetime.timedelta(minutes=tz)))\n",
    "\n",
    "    date_s = datetime.datetime.strftime(date, \"%Y-%m-%d %H:%M:%S\")\n",
    "    return date_s\n",
    "\n",
    "\n",
    "def to_UNIX_time(date):\n",
    "    return datetime.datetime.strptime(\n",
    "        date, \"%Y-%m-%d %H:%M:%S\"\n",
    "    ).timestamp()  # we use UNIX time as a key for sorting the POIs in our polars query"
   ]
  },
  {
   "cell_type": "code",
   "execution_count": 27,
   "metadata": {},
   "outputs": [
    {
     "data": {
      "text/plain": [
       "'2012-05-21 08:53:01'"
      ]
     },
     "execution_count": 27,
     "metadata": {},
     "output_type": "execute_result"
    }
   ],
   "source": [
    "UTC_to_local(\"Mon May 21 15:53:01 +0000 2012\", -420)  # example of usage"
   ]
  },
  {
   "cell_type": "code",
   "execution_count": 28,
   "metadata": {},
   "outputs": [],
   "source": [
    "final_data = final_data.with_columns(\n",
    "    [\n",
    "        rs.struct([rs.col(\"dates\"), rs.col(\"TZs\")])\n",
    "        .alias(\"times\")\n",
    "        .map_elements(\n",
    "            lambda struct: [\n",
    "                UTC_to_local(date, tz)\n",
    "                for date, tz in zip(struct[\"dates\"], struct[\"TZs\"])\n",
    "            ],\n",
    "            return_dtype=rs.List(rs.String),\n",
    "        )\n",
    "    ]\n",
    ")  # This performs timezone conversion"
   ]
  },
  {
   "cell_type": "code",
   "execution_count": 29,
   "metadata": {},
   "outputs": [],
   "source": [
    "final_sorted = final_data.select(  # sort the times\n",
    "    [\n",
    "        rs.col(\"user\"),\n",
    "        rs.struct(\n",
    "            [\n",
    "                rs.col(\"pois\"),\n",
    "                rs.col(\"times\"),\n",
    "            ]\n",
    "        ).map_elements(\n",
    "            lambda struct: [\n",
    "                poi\n",
    "                for poi, _ in sorted(\n",
    "                    zip(  # here we sort the POIs struct by UNIX timestamps of the GMT times\n",
    "                        struct[\"pois\"], [to_UNIX_time(date) for date in struct[\"times\"]]\n",
    "                    ),\n",
    "                    key=lambda s: s[1],\n",
    "                )\n",
    "            ],\n",
    "            return_dtype=rs.List(rs.String),\n",
    "        ),\n",
    "        rs.struct(\n",
    "            [\n",
    "                rs.col(\"geohashes\"),\n",
    "                rs.col(\"times\"),\n",
    "            ]\n",
    "        ).map_elements(\n",
    "            lambda struct: [\n",
    "                geo\n",
    "                for geo, _ in sorted(\n",
    "                    zip(\n",
    "                        struct[\"geohashes\"],  # same thing goes on for geohashes\n",
    "                        [to_UNIX_time(date) for date in struct[\"times\"]],\n",
    "                    ),\n",
    "                    key=lambda s: s[1],\n",
    "                )\n",
    "            ],\n",
    "            return_dtype=rs.List(rs.String),\n",
    "        ),\n",
    "        rs.col(\"times\")\n",
    "        .map_elements(\n",
    "            lambda dates: sorted(dates, key=to_UNIX_time),\n",
    "            return_dtype=rs.List(rs.String),\n",
    "        )\n",
    "        .alias(\"times_sorted\"),\n",
    "        rs.col(\"n_checkins\"),\n",
    "    ]\n",
    ")\n",
    "\n",
    "# P.S, admittedly, it would have been more efficient to encode the geohashes *after* sorting the POIs,\n",
    "# so that we could save on the sorting of the geohashes. Tough luck, you can't win 'em all."
   ]
  },
  {
   "cell_type": "code",
   "execution_count": 30,
   "metadata": {},
   "outputs": [
    {
     "data": {
      "text/html": [
       "<div><style>\n",
       ".dataframe > thead > tr,\n",
       ".dataframe > tbody > tr {\n",
       "  text-align: right;\n",
       "  white-space: pre-wrap;\n",
       "}\n",
       "</style>\n",
       "<small>shape: (19_862, 5)</small><table border=\"1\" class=\"dataframe\"><thead><tr><th>user</th><th>pois</th><th>geohashes</th><th>times_sorted</th><th>n_checkins</th></tr><tr><td>i64</td><td>list[str]</td><td>list[str]</td><td>list[str]</td><td>u32</td></tr></thead><tbody><tr><td>224681</td><td>[&quot;49c2fff9f964a5204d561fe3&quot;, &quot;44d17cecf964a5202b361fe3&quot;, … &quot;4a469855f964a5202aa91fe3&quot;]</td><td>[&quot;dqcjpr&quot;, &quot;dqcjnb&quot;, … &quot;dqcjqc&quot;]</td><td>[&quot;2012-04-16 16:10:05&quot;, &quot;2012-07-03 09:44:34&quot;, … &quot;2013-06-23 11:13:06&quot;]</td><td>8</td></tr><tr><td>146176</td><td>[&quot;4b924f49f964a5206af133e3&quot;, &quot;4bac260bf964a5204de73ae3&quot;, … &quot;4bd7df7d5cf276b0342c9c00&quot;]</td><td>[&quot;w281w9&quot;, &quot;w30dy9&quot;, … &quot;w28678&quot;]</td><td>[&quot;2012-10-12 19:44:55&quot;, &quot;2013-01-02 21:25:30&quot;, … &quot;2013-01-26 17:15:53&quot;]</td><td>6</td></tr><tr><td>59972</td><td>[&quot;4e5a143618388cd5cbac0130&quot;, &quot;4ca1c5fdd3c2b60cd31de8bc&quot;, … &quot;50c9e22ae4b0fe058fc7d378&quot;]</td><td>[&quot;qqguf7&quot;, &quot;qqgu6z&quot;, … &quot;qqgudg&quot;]</td><td>[&quot;2012-05-27 19:12:54&quot;, &quot;2012-06-11 13:35:26&quot;, … &quot;2013-08-26 14:30:04&quot;]</td><td>16</td></tr><tr><td>261037</td><td>[&quot;4b5823adf964a520fa4b28e3&quot;, &quot;4b6180a5f964a520e2152ae3&quot;, … &quot;4e5c49741850ca78f0812408&quot;]</td><td>[&quot;xn0m80&quot;, &quot;xn0me7&quot;, … &quot;xn76st&quot;]</td><td>[&quot;2012-06-10 12:12:28&quot;, &quot;2012-06-10 19:09:18&quot;, … &quot;2013-04-30 15:49:59&quot;]</td><td>5</td></tr><tr><td>154367</td><td>[&quot;474d8bbdf964a520a54c1fe3&quot;, &quot;4aa76d20f964a520d24c20e3&quot;, … &quot;411c0480f964a5201a0c1fe3&quot;]</td><td>[&quot;drt2zj&quot;, &quot;dhvr1v&quot;, … &quot;dr46zg&quot;]</td><td>[&quot;2012-09-09 19:34:25&quot;, &quot;2012-10-24 19:11:09&quot;, … &quot;2013-05-19 08:47:05&quot;]</td><td>34</td></tr><tr><td>&hellip;</td><td>&hellip;</td><td>&hellip;</td><td>&hellip;</td><td>&hellip;</td></tr><tr><td>259399</td><td>[&quot;4b53e2b4f964a520f9ad27e3&quot;, &quot;4bf269b79f93952137b03098&quot;, … &quot;42323100f964a5200b201fe3&quot;]</td><td>[&quot;qqu8b8&quot;, &quot;qqgvp2&quot;, … &quot;9v6kpv&quot;]</td><td>[&quot;2012-05-12 16:10:31&quot;, &quot;2012-06-21 19:53:29&quot;, … &quot;2013-03-11 03:29:10&quot;]</td><td>11</td></tr><tr><td>89845</td><td>[&quot;4b565926f964a5209b0c28e3&quot;, &quot;4b565926f964a5209b0c28e3&quot;, … &quot;4b2af373f964a520beb224e3&quot;]</td><td>[&quot;xn77fd&quot;, &quot;xn77fd&quot;, … &quot;xn76um&quot;]</td><td>[&quot;2012-11-26 12:11:36&quot;, &quot;2012-12-10 08:58:40&quot;, … &quot;2013-08-14 16:17:07&quot;]</td><td>5</td></tr><tr><td>89693</td><td>[&quot;41059b00f964a520850b1fe3&quot;, &quot;4541114bf964a520433c1fe3&quot;, … &quot;4541114bf964a520433c1fe3&quot;]</td><td>[&quot;9q8vzp&quot;, &quot;9mudjn&quot;, … &quot;9mudjn&quot;]</td><td>[&quot;2012-06-03 16:59:24&quot;, &quot;2012-06-03 19:53:48&quot;, … &quot;2013-01-25 10:51:40&quot;]</td><td>4</td></tr><tr><td>222305</td><td>[&quot;4b7821b6f964a52063b72ee3&quot;, &quot;4bb3345942959c74d79d212c&quot;, … &quot;4af833a6f964a5205a0b22e3&quot;]</td><td>[&quot;ucftpm&quot;, &quot;ucfv0j&quot;, … &quot;w4rtus&quot;]</td><td>[&quot;2012-04-17 14:33:04&quot;, &quot;2012-04-22 11:56:10&quot;, … &quot;2013-08-25 08:32:43&quot;]</td><td>9</td></tr><tr><td>200862</td><td>[&quot;4c0e115bc700c9b6ce42a3dd&quot;, &quot;4b684c69f964a5204f702be3&quot;, … &quot;4ad83e6ff964a520eb1021e3&quot;]</td><td>[&quot;sxp75h&quot;, &quot;sxk9s8&quot;, … &quot;sxk3pg&quot;]</td><td>[&quot;2013-02-05 11:25:32&quot;, &quot;2013-02-06 13:36:54&quot;, … &quot;2013-07-05 13:30:12&quot;]</td><td>11</td></tr></tbody></table></div>"
      ],
      "text/plain": [
       "shape: (19_862, 5)\n",
       "┌────────┬──────────────────────────────┬────────────────────────┬────────────────────┬────────────┐\n",
       "│ user   ┆ pois                         ┆ geohashes              ┆ times_sorted       ┆ n_checkins │\n",
       "│ ---    ┆ ---                          ┆ ---                    ┆ ---                ┆ ---        │\n",
       "│ i64    ┆ list[str]                    ┆ list[str]              ┆ list[str]          ┆ u32        │\n",
       "╞════════╪══════════════════════════════╪════════════════════════╪════════════════════╪════════════╡\n",
       "│ 224681 ┆ [\"49c2fff9f964a5204d561fe3\", ┆ [\"dqcjpr\", \"dqcjnb\", … ┆ [\"2012-04-16       ┆ 8          │\n",
       "│        ┆ \"…                           ┆ \"dqcjqc…               ┆ 16:10:05\", \"2012-… ┆            │\n",
       "│ 146176 ┆ [\"4b924f49f964a5206af133e3\", ┆ [\"w281w9\", \"w30dy9\", … ┆ [\"2012-10-12       ┆ 6          │\n",
       "│        ┆ \"…                           ┆ \"w28678…               ┆ 19:44:55\", \"2013-… ┆            │\n",
       "│ 59972  ┆ [\"4e5a143618388cd5cbac0130\", ┆ [\"qqguf7\", \"qqgu6z\", … ┆ [\"2012-05-27       ┆ 16         │\n",
       "│        ┆ \"…                           ┆ \"qqgudg…               ┆ 19:12:54\", \"2012-… ┆            │\n",
       "│ 261037 ┆ [\"4b5823adf964a520fa4b28e3\", ┆ [\"xn0m80\", \"xn0me7\", … ┆ [\"2012-06-10       ┆ 5          │\n",
       "│        ┆ \"…                           ┆ \"xn76st…               ┆ 12:12:28\", \"2012-… ┆            │\n",
       "│ 154367 ┆ [\"474d8bbdf964a520a54c1fe3\", ┆ [\"drt2zj\", \"dhvr1v\", … ┆ [\"2012-09-09       ┆ 34         │\n",
       "│        ┆ \"…                           ┆ \"dr46zg…               ┆ 19:34:25\", \"2012-… ┆            │\n",
       "│ …      ┆ …                            ┆ …                      ┆ …                  ┆ …          │\n",
       "│ 259399 ┆ [\"4b53e2b4f964a520f9ad27e3\", ┆ [\"qqu8b8\", \"qqgvp2\", … ┆ [\"2012-05-12       ┆ 11         │\n",
       "│        ┆ \"…                           ┆ \"9v6kpv…               ┆ 16:10:31\", \"2012-… ┆            │\n",
       "│ 89845  ┆ [\"4b565926f964a5209b0c28e3\", ┆ [\"xn77fd\", \"xn77fd\", … ┆ [\"2012-11-26       ┆ 5          │\n",
       "│        ┆ \"…                           ┆ \"xn76um…               ┆ 12:11:36\", \"2012-… ┆            │\n",
       "│ 89693  ┆ [\"41059b00f964a520850b1fe3\", ┆ [\"9q8vzp\", \"9mudjn\", … ┆ [\"2012-06-03       ┆ 4          │\n",
       "│        ┆ \"…                           ┆ \"9mudjn…               ┆ 16:59:24\", \"2012-… ┆            │\n",
       "│ 222305 ┆ [\"4b7821b6f964a52063b72ee3\", ┆ [\"ucftpm\", \"ucfv0j\", … ┆ [\"2012-04-17       ┆ 9          │\n",
       "│        ┆ \"…                           ┆ \"w4rtus…               ┆ 14:33:04\", \"2012-… ┆            │\n",
       "│ 200862 ┆ [\"4c0e115bc700c9b6ce42a3dd\", ┆ [\"sxp75h\", \"sxk9s8\", … ┆ [\"2013-02-05       ┆ 11         │\n",
       "│        ┆ \"…                           ┆ \"sxk3pg…               ┆ 11:25:32\", \"2013-… ┆            │\n",
       "└────────┴──────────────────────────────┴────────────────────────┴────────────────────┴────────────┘"
      ]
     },
     "execution_count": 30,
     "metadata": {},
     "output_type": "execute_result"
    }
   ],
   "source": [
    "final_sorted"
   ]
  },
  {
   "cell_type": "markdown",
   "metadata": {},
   "source": [
    "we now need to obtain a dataframe containing: each POI, it's geohash, and a set of all the check-ins it appears in\n",
    "this is just one `polars` query away!"
   ]
  },
  {
   "cell_type": "code",
   "execution_count": 31,
   "metadata": {},
   "outputs": [],
   "source": [
    "pois_checkins = final_sorted.explode([\"pois\", \"geohashes\"]).drop(\"n_checkins\")\n",
    "\n",
    "pois_checkins = (\n",
    "    pois_checkins.with_columns(\n",
    "        [\n",
    "            rs.col(\"geohashes\").map_elements(lambda s: s[:4], rs.String).alias(\"g4\"),\n",
    "        ]\n",
    "    )\n",
    "    .drop(\"geohashes\")\n",
    "    .group_by([\"pois\", \"g4\"])\n",
    "    .agg([rs.col(\"times_sorted\").flatten().alias(\"checkin_times\")])\n",
    ")"
   ]
  },
  {
   "cell_type": "code",
   "execution_count": 32,
   "metadata": {},
   "outputs": [
    {
     "data": {
      "text/html": [
       "<div><style>\n",
       ".dataframe > thead > tr,\n",
       ".dataframe > tbody > tr {\n",
       "  text-align: right;\n",
       "  white-space: pre-wrap;\n",
       "}\n",
       "</style>\n",
       "<small>shape: (4_455, 3)</small><table border=\"1\" class=\"dataframe\"><thead><tr><th>pois</th><th>g4</th><th>checkin_times</th></tr><tr><td>str</td><td>str</td><td>list[str]</td></tr></thead><tbody><tr><td>&quot;4b7fd336f964a520733f30e3&quot;</td><td>&quot;sxk9&quot;</td><td>[&quot;2012-10-16 12:46:22&quot;, &quot;2012-10-16 12:54:51&quot;, … &quot;2013-08-27 17:23:14&quot;]</td></tr><tr><td>&quot;4e58e6a9d164da2b275a8135&quot;</td><td>&quot;syg4&quot;</td><td>[&quot;2012-10-22 14:56:32&quot;, &quot;2012-10-23 19:11:11&quot;, … &quot;2013-05-23 18:31:44&quot;]</td></tr><tr><td>&quot;4ae9e965f964a5208db721e3&quot;</td><td>&quot;dnru&quot;</td><td>[&quot;2012-04-15 16:54:57&quot;, &quot;2012-04-22 15:52:18&quot;, … &quot;2013-08-06 11:47:25&quot;]</td></tr><tr><td>&quot;4d15ec39816af04d325846c2&quot;</td><td>&quot;sxk9&quot;</td><td>[&quot;2012-12-01 19:42:45&quot;, &quot;2012-12-01 19:43:49&quot;, … &quot;2013-08-27 12:53:39&quot;]</td></tr><tr><td>&quot;4bab4206f964a520129c3ae3&quot;</td><td>&quot;srbj&quot;</td><td>[&quot;2012-05-12 15:08:26&quot;, &quot;2012-05-13 19:16:40&quot;, … &quot;2012-06-08 15:11:22&quot;]</td></tr><tr><td>&hellip;</td><td>&hellip;</td><td>&hellip;</td></tr><tr><td>&quot;4f3a6a34a17c224158ecd541&quot;</td><td>&quot;u173&quot;</td><td>[&quot;2012-08-05 17:09:50&quot;, &quot;2012-09-05 20:32:36&quot;, … &quot;2013-03-17 16:08:43&quot;]</td></tr><tr><td>&quot;4b5a79a1f964a52058c728e3&quot;</td><td>&quot;xn77&quot;</td><td>[&quot;2012-05-07 18:12:17&quot;, &quot;2012-05-08 19:53:36&quot;, … &quot;2013-07-24 16:25:03&quot;]</td></tr><tr><td>&quot;4ad4bffef964a520f5ea20e3&quot;</td><td>&quot;9v1z&quot;</td><td>[&quot;2012-06-08 10:09:30&quot;, &quot;2012-06-09 11:44:10&quot;, … &quot;2012-05-19 11:04:02&quot;]</td></tr><tr><td>&quot;4b0b740ef964a5209e3123e3&quot;</td><td>&quot;9tsk&quot;</td><td>[&quot;2012-04-11 07:53:58&quot;, &quot;2013-01-05 15:41:17&quot;, … &quot;2013-08-02 21:36:58&quot;]</td></tr><tr><td>&quot;4b582883f964a520794c28e3&quot;</td><td>&quot;sxk9&quot;</td><td>[&quot;2013-02-02 17:51:21&quot;, &quot;2013-02-03 15:10:33&quot;, … &quot;2013-07-12 12:35:01&quot;]</td></tr></tbody></table></div>"
      ],
      "text/plain": [
       "shape: (4_455, 3)\n",
       "┌──────────────────────────┬──────┬─────────────────────────────────┐\n",
       "│ pois                     ┆ g4   ┆ checkin_times                   │\n",
       "│ ---                      ┆ ---  ┆ ---                             │\n",
       "│ str                      ┆ str  ┆ list[str]                       │\n",
       "╞══════════════════════════╪══════╪═════════════════════════════════╡\n",
       "│ 4b7fd336f964a520733f30e3 ┆ sxk9 ┆ [\"2012-10-16 12:46:22\", \"2012-… │\n",
       "│ 4e58e6a9d164da2b275a8135 ┆ syg4 ┆ [\"2012-10-22 14:56:32\", \"2012-… │\n",
       "│ 4ae9e965f964a5208db721e3 ┆ dnru ┆ [\"2012-04-15 16:54:57\", \"2012-… │\n",
       "│ 4d15ec39816af04d325846c2 ┆ sxk9 ┆ [\"2012-12-01 19:42:45\", \"2012-… │\n",
       "│ 4bab4206f964a520129c3ae3 ┆ srbj ┆ [\"2012-05-12 15:08:26\", \"2012-… │\n",
       "│ …                        ┆ …    ┆ …                               │\n",
       "│ 4f3a6a34a17c224158ecd541 ┆ u173 ┆ [\"2012-08-05 17:09:50\", \"2012-… │\n",
       "│ 4b5a79a1f964a52058c728e3 ┆ xn77 ┆ [\"2012-05-07 18:12:17\", \"2012-… │\n",
       "│ 4ad4bffef964a520f5ea20e3 ┆ 9v1z ┆ [\"2012-06-08 10:09:30\", \"2012-… │\n",
       "│ 4b0b740ef964a5209e3123e3 ┆ 9tsk ┆ [\"2012-04-11 07:53:58\", \"2013-… │\n",
       "│ 4b582883f964a520794c28e3 ┆ sxk9 ┆ [\"2013-02-02 17:51:21\", \"2013-… │\n",
       "└──────────────────────────┴──────┴─────────────────────────────────┘"
      ]
     },
     "execution_count": 32,
     "metadata": {},
     "output_type": "execute_result"
    }
   ],
   "source": [
    "pois_checkins  # with this we can *efficiently* build our POI-POI spatial-temporal graphs"
   ]
  },
  {
   "cell_type": "code",
   "execution_count": 33,
   "metadata": {},
   "outputs": [],
   "source": [
    "def UTC_to_weekslot(utc: str) -> int:\n",
    "    \"\"\"UTC_to_weekslot converts a UTC timestamp to a weekslot.\n",
    "\n",
    "    Parameters\n",
    "    ----------\n",
    "    utc : str\n",
    "        A string representing a UTC timestamp.\n",
    "\n",
    "    Returns\n",
    "    -------\n",
    "    int\n",
    "        A weekslot in the range [0, 56).\n",
    "    \"\"\"\n",
    "\n",
    "    date = datetime.datetime.strptime(utc, \"%Y-%m-%d %H:%M:%S\")\n",
    "    week = date.weekday()\n",
    "    hour = date.hour\n",
    "\n",
    "    return week * 8 + hour // 3"
   ]
  },
  {
   "cell_type": "markdown",
   "metadata": {},
   "source": [
    "Next, we want to encode all of our inputs for our neural networks, this could *probably* be done \n",
    "with polars magic, but it's too delicate and we prefer classic for-looping."
   ]
  },
  {
   "cell_type": "code",
   "execution_count": 34,
   "metadata": {},
   "outputs": [],
   "source": [
    "encoder_dict = {\n",
    "    \"users\": LabelEncoder(),\n",
    "    \"pois\": LabelEncoder(),\n",
    "    \"g2\": LabelEncoder(),\n",
    "    \"g3\": LabelEncoder(),\n",
    "    \"g4\": LabelEncoder(),\n",
    "    \"g5\": LabelEncoder(),\n",
    "    \"g6\": LabelEncoder(),\n",
    "}\n",
    "\n",
    "encoded_data = {\n",
    "    \"users\": [],\n",
    "    \"pois\": [],\n",
    "    \"g2\": [],\n",
    "    \"g3\": [],\n",
    "    \"g4\": [],\n",
    "    \"g5\": [],\n",
    "    \"g6\": [],\n",
    "}\n",
    "\n",
    "unique_data = {\n",
    "    \"users\": set(),\n",
    "    \"pois\": set(),\n",
    "    \"g2\": set(),\n",
    "    \"g3\": set(),\n",
    "    \"g4\": set(),\n",
    "    \"g5\": set(),\n",
    "    \"g6\": set(),\n",
    "}\n",
    "\n",
    "# quick and dirty encoding:\n",
    "# 1. put every unique symbol in a list\n",
    "# 2. fit the respective encoder\n",
    "# 3. transform the lists\n",
    "\n",
    "for i, row in enumerate(final_sorted.iter_rows()):\n",
    "\n",
    "    user, pois, geohashes, times_sorted, n_checkins = row\n",
    "\n",
    "    g2 = [geo[:2] for geo in geohashes]\n",
    "    g3 = [geo[:3] for geo in geohashes]\n",
    "    g4 = [geo[:4] for geo in geohashes]\n",
    "    g5 = [geo[:5] for geo in geohashes]\n",
    "    g6 = [geo[:6] for geo in geohashes]  # redundant, but I like symmetry\n",
    "\n",
    "    unique_data[\"users\"].add(user)\n",
    "    unique_data[\"pois\"].update(pois)\n",
    "    unique_data[\"g2\"].update(g2)\n",
    "    unique_data[\"g3\"].update(g3)\n",
    "    unique_data[\"g4\"].update(g4)\n",
    "    unique_data[\"g5\"].update(g5)\n",
    "    unique_data[\"g6\"].update(g6)\n",
    "\n",
    "for property, enc, data in zip(\n",
    "    encoder_dict.keys(), encoder_dict.values(), unique_data.values()\n",
    "):\n",
    "    enc.fit(list(data))\n",
    "    encoder_dict[property] = enc"
   ]
  },
  {
   "cell_type": "code",
   "execution_count": 35,
   "metadata": {},
   "outputs": [
    {
     "name": "stderr",
     "output_type": "stream",
     "text": [
      "100%|██████████| 19862/19862 [02:56<00:00, 112.76it/s]\n"
     ]
    }
   ],
   "source": [
    "# this could be optimized, right now it takes a while, at least we have a nice progress bar to look at\n",
    "\n",
    "ds_size = len(final_sorted)\n",
    "\n",
    "for i, row in tqdm(enumerate(final_sorted.iter_rows()), total=ds_size):\n",
    "\n",
    "    user, pois, geohashes, times_sorted, n_checkins = row\n",
    "\n",
    "    g2 = [geo[:2] for geo in geohashes]\n",
    "    g3 = [geo[:3] for geo in geohashes]\n",
    "    g4 = [geo[:4] for geo in geohashes]\n",
    "    g5 = [geo[:5] for geo in geohashes]\n",
    "    g6 = [geo[:6] for geo in geohashes]\n",
    "\n",
    "    encoded_data[\"users\"].append(encoder_dict[\"users\"].transform([user])[0])\n",
    "    encoded_data[\"pois\"].append(encoder_dict[\"pois\"].transform(pois))\n",
    "    encoded_data[\"g2\"].append(encoder_dict[\"g2\"].transform(g2))\n",
    "    encoded_data[\"g3\"].append(encoder_dict[\"g3\"].transform(g3))\n",
    "    encoded_data[\"g4\"].append(encoder_dict[\"g4\"].transform(g4))\n",
    "    encoded_data[\"g5\"].append(encoder_dict[\"g5\"].transform(g5))\n",
    "    encoded_data[\"g6\"].append(encoder_dict[\"g6\"].transform(g6))\n",
    "\n",
    "    # sum 1 to all values to avoid 0s\n",
    "    encoded_data[\"users\"][-1] += 1\n",
    "    encoded_data[\"pois\"][-1] += 1\n",
    "    encoded_data[\"g2\"][-1] += 1\n",
    "    encoded_data[\"g3\"][-1] += 1\n",
    "    encoded_data[\"g4\"][-1] += 1\n",
    "    encoded_data[\"g5\"][-1] += 1\n",
    "    encoded_data[\"g6\"][-1] += 1"
   ]
  },
  {
   "cell_type": "code",
   "execution_count": 36,
   "metadata": {},
   "outputs": [
    {
     "data": {
      "text/plain": [
       "1"
      ]
     },
     "execution_count": 36,
     "metadata": {},
     "output_type": "execute_result"
    }
   ],
   "source": [
    "# check that we left space for the padding token\n",
    "min((arr.min() for arr in encoded_data[\"pois\"]))"
   ]
  },
  {
   "cell_type": "code",
   "execution_count": 37,
   "metadata": {},
   "outputs": [
    {
     "data": {
      "text/html": [
       "<div><style>\n",
       ".dataframe > thead > tr,\n",
       ".dataframe > tbody > tr {\n",
       "  text-align: right;\n",
       "  white-space: pre-wrap;\n",
       "}\n",
       "</style>\n",
       "<small>shape: (4_455, 3)</small><table border=\"1\" class=\"dataframe\"><thead><tr><th>pois</th><th>g4</th><th>checkin_times</th></tr><tr><td>str</td><td>str</td><td>list[str]</td></tr></thead><tbody><tr><td>&quot;4b7fd336f964a520733f30e3&quot;</td><td>&quot;sxk9&quot;</td><td>[&quot;2012-10-16 12:46:22&quot;, &quot;2012-10-16 12:54:51&quot;, … &quot;2013-08-27 17:23:14&quot;]</td></tr><tr><td>&quot;4e58e6a9d164da2b275a8135&quot;</td><td>&quot;syg4&quot;</td><td>[&quot;2012-10-22 14:56:32&quot;, &quot;2012-10-23 19:11:11&quot;, … &quot;2013-05-23 18:31:44&quot;]</td></tr><tr><td>&quot;4ae9e965f964a5208db721e3&quot;</td><td>&quot;dnru&quot;</td><td>[&quot;2012-04-15 16:54:57&quot;, &quot;2012-04-22 15:52:18&quot;, … &quot;2013-08-06 11:47:25&quot;]</td></tr><tr><td>&quot;4d15ec39816af04d325846c2&quot;</td><td>&quot;sxk9&quot;</td><td>[&quot;2012-12-01 19:42:45&quot;, &quot;2012-12-01 19:43:49&quot;, … &quot;2013-08-27 12:53:39&quot;]</td></tr><tr><td>&quot;4bab4206f964a520129c3ae3&quot;</td><td>&quot;srbj&quot;</td><td>[&quot;2012-05-12 15:08:26&quot;, &quot;2012-05-13 19:16:40&quot;, … &quot;2012-06-08 15:11:22&quot;]</td></tr><tr><td>&hellip;</td><td>&hellip;</td><td>&hellip;</td></tr><tr><td>&quot;4f3a6a34a17c224158ecd541&quot;</td><td>&quot;u173&quot;</td><td>[&quot;2012-08-05 17:09:50&quot;, &quot;2012-09-05 20:32:36&quot;, … &quot;2013-03-17 16:08:43&quot;]</td></tr><tr><td>&quot;4b5a79a1f964a52058c728e3&quot;</td><td>&quot;xn77&quot;</td><td>[&quot;2012-05-07 18:12:17&quot;, &quot;2012-05-08 19:53:36&quot;, … &quot;2013-07-24 16:25:03&quot;]</td></tr><tr><td>&quot;4ad4bffef964a520f5ea20e3&quot;</td><td>&quot;9v1z&quot;</td><td>[&quot;2012-06-08 10:09:30&quot;, &quot;2012-06-09 11:44:10&quot;, … &quot;2012-05-19 11:04:02&quot;]</td></tr><tr><td>&quot;4b0b740ef964a5209e3123e3&quot;</td><td>&quot;9tsk&quot;</td><td>[&quot;2012-04-11 07:53:58&quot;, &quot;2013-01-05 15:41:17&quot;, … &quot;2013-08-02 21:36:58&quot;]</td></tr><tr><td>&quot;4b582883f964a520794c28e3&quot;</td><td>&quot;sxk9&quot;</td><td>[&quot;2013-02-02 17:51:21&quot;, &quot;2013-02-03 15:10:33&quot;, … &quot;2013-07-12 12:35:01&quot;]</td></tr></tbody></table></div>"
      ],
      "text/plain": [
       "shape: (4_455, 3)\n",
       "┌──────────────────────────┬──────┬─────────────────────────────────┐\n",
       "│ pois                     ┆ g4   ┆ checkin_times                   │\n",
       "│ ---                      ┆ ---  ┆ ---                             │\n",
       "│ str                      ┆ str  ┆ list[str]                       │\n",
       "╞══════════════════════════╪══════╪═════════════════════════════════╡\n",
       "│ 4b7fd336f964a520733f30e3 ┆ sxk9 ┆ [\"2012-10-16 12:46:22\", \"2012-… │\n",
       "│ 4e58e6a9d164da2b275a8135 ┆ syg4 ┆ [\"2012-10-22 14:56:32\", \"2012-… │\n",
       "│ 4ae9e965f964a5208db721e3 ┆ dnru ┆ [\"2012-04-15 16:54:57\", \"2012-… │\n",
       "│ 4d15ec39816af04d325846c2 ┆ sxk9 ┆ [\"2012-12-01 19:42:45\", \"2012-… │\n",
       "│ 4bab4206f964a520129c3ae3 ┆ srbj ┆ [\"2012-05-12 15:08:26\", \"2012-… │\n",
       "│ …                        ┆ …    ┆ …                               │\n",
       "│ 4f3a6a34a17c224158ecd541 ┆ u173 ┆ [\"2012-08-05 17:09:50\", \"2012-… │\n",
       "│ 4b5a79a1f964a52058c728e3 ┆ xn77 ┆ [\"2012-05-07 18:12:17\", \"2012-… │\n",
       "│ 4ad4bffef964a520f5ea20e3 ┆ 9v1z ┆ [\"2012-06-08 10:09:30\", \"2012-… │\n",
       "│ 4b0b740ef964a5209e3123e3 ┆ 9tsk ┆ [\"2012-04-11 07:53:58\", \"2013-… │\n",
       "│ 4b582883f964a520794c28e3 ┆ sxk9 ┆ [\"2013-02-02 17:51:21\", \"2013-… │\n",
       "└──────────────────────────┴──────┴─────────────────────────────────┘"
      ]
     },
     "execution_count": 37,
     "metadata": {},
     "output_type": "execute_result"
    }
   ],
   "source": [
    "pois_checkins"
   ]
  },
  {
   "cell_type": "code",
   "execution_count": 38,
   "metadata": {},
   "outputs": [],
   "source": [
    "# we also encode the graph dataframe so we can build the graphs\n",
    "\n",
    "pois_checkins = (\n",
    "    pois_checkins.lazy()\n",
    "    .with_columns(\n",
    "        [\n",
    "            rs.col(\"pois\").map_elements(\n",
    "                lambda s: encoder_dict[\"pois\"].transform([s])[0] + 1, rs.Int64\n",
    "            ),\n",
    "            rs.col(\"g4\").map_elements(\n",
    "                lambda s: encoder_dict[\"g4\"].transform([s])[0] + 1, rs.Int64\n",
    "            ),  # apply utc_to_weekslot to each timestamp in the list\n",
    "            rs.col(\"checkin_times\").map_elements(\n",
    "                lambda s: [UTC_to_weekslot(date) for date in s], rs.List(rs.Int64)\n",
    "            ),\n",
    "        ]\n",
    "    )\n",
    "    .sort(\"pois\")\n",
    "    .collect()\n",
    ")"
   ]
  },
  {
   "cell_type": "code",
   "execution_count": 39,
   "metadata": {},
   "outputs": [],
   "source": [
    "# add fictitious POI 0 to the graph, with nonexistent geohash and no timeslot, so we get a 0 row and column for the padding token\n",
    "fake_datapoint = rs.DataFrame(\n",
    "    {\n",
    "        \"pois\": [0],\n",
    "        \"g4\": [pois_checkins[\"g4\"].max() + 42],\n",
    "        \"checkin_times\": [[43]],\n",
    "    }\n",
    ")\n",
    "# this is a lot of work since polars dataframes are immutable by default, we have to run a query to change the 43 into an empty list\n",
    "# we NEED the 43 otherwise polars won't infer the datatype of the list\n",
    "\n",
    "fake_datapoint = fake_datapoint.with_columns(\n",
    "    [rs.col(\"checkin_times\").map_elements(lambda s: [], rs.List(rs.Int64))]\n",
    ")\n",
    "\n",
    "pois_checkins = fake_datapoint.vstack(pois_checkins)"
   ]
  },
  {
   "cell_type": "code",
   "execution_count": 40,
   "metadata": {},
   "outputs": [],
   "source": [
    "spatial_row = np.array(pois_checkins[\"g4\"].to_list()).reshape(-1, 1)"
   ]
  },
  {
   "cell_type": "code",
   "execution_count": 41,
   "metadata": {},
   "outputs": [],
   "source": [
    "# outer product using equality\n",
    "spatial_graph = (spatial_row == spatial_row.T).astype(np.int32)\n",
    "spatial_graph[0, 0] = (\n",
    "    0  # the fake g4 is still equal to itself, we suppress this equality\n",
    ")"
   ]
  },
  {
   "cell_type": "code",
   "execution_count": 42,
   "metadata": {},
   "outputs": [],
   "source": [
    "temporal_row = pois_checkins[\"checkin_times\"].to_list()"
   ]
  },
  {
   "cell_type": "code",
   "execution_count": 43,
   "metadata": {},
   "outputs": [],
   "source": [
    "temporal_graph = np.zeros((spatial_row.shape[0], spatial_row.shape[0]))"
   ]
  },
  {
   "cell_type": "code",
   "execution_count": 44,
   "metadata": {},
   "outputs": [],
   "source": [
    "temporal_sets = [np.array(list(set(row))) for row in temporal_row]"
   ]
  },
  {
   "cell_type": "code",
   "execution_count": 45,
   "metadata": {},
   "outputs": [],
   "source": [
    "time_sets = torch.zeros((len(temporal_sets), 56), dtype=torch.int8)\n",
    "\n",
    "for i, r in enumerate(temporal_row):\n",
    "    indices = torch.tensor(r, dtype=torch.long)\n",
    "    time_sets[i, indices] = 1"
   ]
  },
  {
   "cell_type": "code",
   "execution_count": 46,
   "metadata": {},
   "outputs": [
    {
     "data": {
      "text/plain": [
       "torch.Size([4456, 56])"
      ]
     },
     "execution_count": 46,
     "metadata": {},
     "output_type": "execute_result"
    }
   ],
   "source": [
    "time_sets.shape"
   ]
  },
  {
   "cell_type": "code",
   "execution_count": 47,
   "metadata": {},
   "outputs": [],
   "source": [
    "# AND outer product\n",
    "\n",
    "intersection = time_sets @ time_sets.T\n",
    "union = time_sets.unsqueeze(1) | time_sets.unsqueeze(0)\n",
    "union = union.sum(dim=2)\n",
    "iou = intersection / union"
   ]
  },
  {
   "cell_type": "code",
   "execution_count": 48,
   "metadata": {},
   "outputs": [],
   "source": [
    "temporal_graph = iou >= 0.9\n",
    "# cast to int\n",
    "temporal_graph = temporal_graph.int()"
   ]
  },
  {
   "cell_type": "code",
   "execution_count": 49,
   "metadata": {},
   "outputs": [
    {
     "data": {
      "text/plain": [
       "tensor(0)"
      ]
     },
     "execution_count": 49,
     "metadata": {},
     "output_type": "execute_result"
    }
   ],
   "source": [
    "temporal_graph[0, :].sum()"
   ]
  },
  {
   "cell_type": "markdown",
   "metadata": {},
   "source": [
    "We print information about the sparsity of the graphs, we note that \n",
    "the sparsity of the graphs is similar to that of the paper."
   ]
  },
  {
   "cell_type": "code",
   "execution_count": 50,
   "metadata": {},
   "outputs": [
    {
     "name": "stdout",
     "output_type": "stream",
     "text": [
      "Temporal sparsity: 97.05%\n",
      "Spatial sparsity: 96.99%\n"
     ]
    }
   ],
   "source": [
    "temporal_density = (\n",
    "    temporal_graph.sum() / (temporal_graph.shape[0] * temporal_graph.shape[1])\n",
    ").item()\n",
    "spatial_density = (\n",
    "    spatial_graph.sum() / (spatial_graph.shape[0] * spatial_graph.shape[1])\n",
    ").item()\n",
    "\n",
    "print(f\"Temporal sparsity: {(1 - temporal_density) * 100:.2f}%\")\n",
    "\n",
    "print(f\"Spatial sparsity: {(1 - spatial_density) * 100:.2f}%\")"
   ]
  },
  {
   "cell_type": "markdown",
   "metadata": {},
   "source": [
    "## Dataset and Datamodule\n",
    "\n",
    "We then define a pytorch dataset and a custom collation function that allows us to dynamically\n",
    "pad sequences to the longest one in the batch (as opposed to the longest one in the dataset)\n",
    "as they are loaded during training, this gives us an edge in performance by dramatically reducing the \n",
    "sparsity of our inputs."
   ]
  },
  {
   "cell_type": "code",
   "execution_count": 51,
   "metadata": {},
   "outputs": [],
   "source": [
    "from torch.utils.data import Dataset\n",
    "from torch.nn.utils.rnn import pad_sequence\n",
    "\n",
    "\n",
    "def rnn_collation_fn(batch):\n",
    "\n",
    "    users = []\n",
    "    pois = []\n",
    "    g2 = []\n",
    "    g3 = []\n",
    "    g4 = []\n",
    "    g5 = []\n",
    "    g6 = []\n",
    "\n",
    "    for user, poi, geo2, geo3, geo4, geo5, geo6 in batch:\n",
    "        users.append(user)\n",
    "        pois.append(poi)\n",
    "        g2.append(geo2)\n",
    "        g3.append(geo3)\n",
    "        g4.append(geo4)\n",
    "        g5.append(geo5)\n",
    "        g6.append(geo6)\n",
    "    seq = (\n",
    "        torch.tensor(users, dtype=torch.long),\n",
    "        pad_sequence(pois, batch_first=True, padding_value=0),\n",
    "        pad_sequence(g2, batch_first=True, padding_value=0),\n",
    "        pad_sequence(g3, batch_first=True, padding_value=0),\n",
    "        pad_sequence(g4, batch_first=True, padding_value=0),\n",
    "        pad_sequence(g5, batch_first=True, padding_value=0),\n",
    "        pad_sequence(g6, batch_first=True, padding_value=0),\n",
    "    )  # build a sequence\n",
    "\n",
    "    x = (\n",
    "        seq[0],\n",
    "        seq[1][:, :-1],\n",
    "        seq[2][:, :-1],\n",
    "        seq[3][:, :-1],\n",
    "        seq[4][:, :-1],\n",
    "        seq[5][:, :-1],\n",
    "        seq[6][:, :-1],\n",
    "    )  # omit the last one for sample\n",
    "\n",
    "    y = (\n",
    "        seq[0],\n",
    "        seq[1][:, 1:],\n",
    "        seq[2][:, 1:],\n",
    "        seq[3][:, 1:],\n",
    "        seq[4][:, 1:],\n",
    "        seq[5][:, 1:],\n",
    "        seq[6][:, 1:],\n",
    "    )  # omit the first one for ground truth\n",
    "\n",
    "    return x, y\n",
    "\n",
    "\n",
    "class CheckinDataset(Dataset):\n",
    "    def __init__(self, data):\n",
    "        self.data = data\n",
    "\n",
    "    def __len__(self):\n",
    "        return len(self.data[\"users\"])\n",
    "\n",
    "    def __getitem__(self, idx):\n",
    "\n",
    "        x = (\n",
    "            torch.tensor(encoded_data[\"users\"][idx], dtype=torch.long),\n",
    "            torch.tensor(encoded_data[\"pois\"][idx], dtype=torch.long),\n",
    "            torch.tensor(encoded_data[\"g2\"][idx], dtype=torch.long),\n",
    "            torch.tensor(encoded_data[\"g3\"][idx], dtype=torch.long),\n",
    "            torch.tensor(encoded_data[\"g4\"][idx], dtype=torch.long),\n",
    "            torch.tensor(encoded_data[\"g5\"][idx], dtype=torch.long),\n",
    "            torch.tensor(encoded_data[\"g6\"][idx], dtype=torch.long),\n",
    "        )\n",
    "\n",
    "        return x"
   ]
  },
  {
   "cell_type": "code",
   "execution_count": 52,
   "metadata": {},
   "outputs": [],
   "source": [
    "class CheckinModule(pl.LightningDataModule):\n",
    "    def __init__(self, encoded_data, batch_size=32, workers=4):\n",
    "        super().__init__()\n",
    "        self.encoded_data = encoded_data\n",
    "        self.batch_size = batch_size\n",
    "        self.workers = workers\n",
    "\n",
    "    def setup(self, stage=None):\n",
    "        self.whole_dataset = CheckinDataset(self.encoded_data)\n",
    "\n",
    "        l = len(self.whole_dataset)\n",
    "\n",
    "        train_size = int(0.8 * l)\n",
    "        val_size = int(0.1 * l)\n",
    "        test_size = l - train_size - val_size\n",
    "\n",
    "        # generate train, val, test datasets by random split\n",
    "        self.train_dataset, self.val_dataset, self.test_dataset = (\n",
    "            torch.utils.data.random_split(\n",
    "                self.whole_dataset, [train_size, val_size, test_size]\n",
    "            )\n",
    "        )\n",
    "\n",
    "    def train_dataloader(self):\n",
    "        return torch.utils.data.DataLoader(\n",
    "            self.train_dataset,\n",
    "            batch_size=self.batch_size,\n",
    "            shuffle=True,\n",
    "            num_workers=self.workers,\n",
    "            collate_fn=rnn_collation_fn,\n",
    "        )\n",
    "\n",
    "    def val_dataloader(self):\n",
    "        return torch.utils.data.DataLoader(\n",
    "            self.val_dataset,\n",
    "            batch_size=self.batch_size,\n",
    "            shuffle=False,\n",
    "            num_workers=self.workers,\n",
    "            collate_fn=rnn_collation_fn,\n",
    "        )\n",
    "\n",
    "    def test_dataloader(self):\n",
    "        return torch.utils.data.DataLoader(\n",
    "            self.test_dataset,\n",
    "            batch_size=self.batch_size,\n",
    "            shuffle=False,\n",
    "            num_workers=self.workers,\n",
    "            collate_fn=rnn_collation_fn,\n",
    "        )\n",
    "\n",
    "    def save(self, whole_path, train_path, val_path, test_path):\n",
    "        torch.save(self.whole_dataset, whole_path)\n",
    "        torch.save(self.train_dataset, train_path)\n",
    "        torch.save(self.val_dataset, val_path)\n",
    "        torch.save(self.test_dataset, test_path)\n",
    "\n",
    "    @staticmethod  # load without instantiating\n",
    "    def load(whole_path, train_path, val_path, test_path):\n",
    "        whole_dataset = torch.load(whole_path)\n",
    "        train_dataset = torch.load(train_path)\n",
    "        val_dataset = torch.load(val_path)\n",
    "        test_dataset = torch.load(test_path)\n",
    "        return whole_dataset, train_dataset, val_dataset, test_dataset"
   ]
  },
  {
   "cell_type": "markdown",
   "metadata": {},
   "source": [
    "## Baseline model: LSTM"
   ]
  },
  {
   "cell_type": "code",
   "execution_count": 53,
   "metadata": {},
   "outputs": [],
   "source": [
    "@dataclass\n",
    "class BaselineDimensions:\n",
    "    nuser: int\n",
    "    npoi: int\n",
    "    g2len: int\n",
    "    g3len: int\n",
    "    g4len: int\n",
    "    g5len: int\n",
    "    g6len: int\n",
    "\n",
    "\n",
    "class HMT_RN(pl.LightningModule):\n",
    "    def __init__(\n",
    "        self,\n",
    "        dimensions: BaselineDimensions,\n",
    "        embedding_dim,\n",
    "        lstm_hidden_dim,\n",
    "        dropout_rate=0.2,  # 0.9 is a lot, but the paper says so.\n",
    "    ):\n",
    "        super(HMT_RN, self).__init__()\n",
    "        self.embedding_dim = embedding_dim\n",
    "        self.hidden_dim = lstm_hidden_dim\n",
    "        self.dims = dimensions\n",
    "\n",
    "        # Embedding layers one for user, one for poi and one for each G@P\n",
    "        self.user_embedding = nn.Embedding(\n",
    "            dimensions.nuser, embedding_dim, padding_idx=0\n",
    "        )\n",
    "        self.poi_embedding = nn.Embedding(dimensions.npoi, embedding_dim, padding_idx=0)\n",
    "        self.g2_embed = nn.Embedding(dimensions.g2len, embedding_dim, padding_idx=0)\n",
    "        self.g3_embed = nn.Embedding(dimensions.g3len, embedding_dim, padding_idx=0)\n",
    "        self.g4_embed = nn.Embedding(dimensions.g4len, embedding_dim, padding_idx=0)\n",
    "        self.g5_embed = nn.Embedding(dimensions.g5len, embedding_dim, padding_idx=0)\n",
    "        self.g6_embed = nn.Embedding(dimensions.g6len, embedding_dim, padding_idx=0)\n",
    "\n",
    "        # Dropout layer for embeddings\n",
    "        self.e_drop = nn.Dropout(p=dropout_rate)\n",
    "\n",
    "        # LSTM layer\n",
    "        self.lstm = nn.LSTM(\n",
    "            input_size=embedding_dim, hidden_size=lstm_hidden_dim, batch_first=True\n",
    "        )\n",
    "\n",
    "        # Linear layers for prediction tasks\n",
    "        self.linear_poi = nn.Linear(lstm_hidden_dim + embedding_dim, dimensions.npoi)\n",
    "        self.linear_g2 = nn.Linear(lstm_hidden_dim + embedding_dim, dimensions.g2len)\n",
    "        self.linear_g3 = nn.Linear(lstm_hidden_dim + embedding_dim, dimensions.g3len)\n",
    "        self.linear_g4 = nn.Linear(lstm_hidden_dim + embedding_dim, dimensions.g4len)\n",
    "        self.linear_g5 = nn.Linear(lstm_hidden_dim + embedding_dim, dimensions.g5len)\n",
    "        self.linear_g6 = nn.Linear(lstm_hidden_dim + embedding_dim, dimensions.g6len)\n",
    "\n",
    "        self.criterion = nn.CrossEntropyLoss()\n",
    "        self.apply(self.init_weights)\n",
    "\n",
    "    def init_weights(self, w):\n",
    "\n",
    "        if type(w) == nn.Linear:\n",
    "            nn.init.kaiming_normal_(w.weight)\n",
    "            nn.init.constant_(w.bias, 0)\n",
    "        elif type(w) == nn.LSTM:\n",
    "            for name, param in w.named_parameters():\n",
    "                if \"bias\" in name:\n",
    "                    nn.init.constant_(param, 0)\n",
    "                elif \"weight\" in name:\n",
    "                    nn.init.kaiming_normal_(param)\n",
    "        elif type(w) == nn.Embedding:\n",
    "            nn.init.kaiming_normal_(w.weight)\n",
    "            nn.init.constant_(w.weight[0], 0)\n",
    "\n",
    "    def forward(self, batch):\n",
    "        \"\"\"forward passes the batch through the model.\n",
    "\n",
    "        Parameters\n",
    "        ----------\n",
    "        batch : `tuple[torch.Tensor]`\n",
    "            A tuple of tensors ordered as follows:\n",
    "            (users, poi, x_geoHash2, x_geoHash3, x_geoHash4, x_geoHash5, x_geoHash6)\n",
    "        \"\"\"\n",
    "\n",
    "        users, poi, x_geoHash2, x_geoHash3, x_geoHash4, x_geoHash5, x_geoHash6 = batch\n",
    "\n",
    "        B, T = poi.shape\n",
    "\n",
    "        # make it so  that users are tiled T times\n",
    "        users = users.repeat(T, 1).T\n",
    "\n",
    "        e_user = self.e_drop(self.user_embedding(users))\n",
    "        e_poi = self.e_drop(self.poi_embedding(poi))\n",
    "        e_gap2 = self.e_drop(self.g2_embed(x_geoHash2))\n",
    "        e_gap3 = self.e_drop(self.g3_embed(x_geoHash3))\n",
    "        e_gap4 = self.e_drop(self.g4_embed(x_geoHash4))\n",
    "        e_gap5 = self.e_drop(self.g5_embed(x_geoHash5))\n",
    "        e_gap6 = self.e_drop(self.g6_embed(x_geoHash6))\n",
    "\n",
    "        h_t, c_t = self.lstm(e_poi)\n",
    "\n",
    "        # dense layers\n",
    "        next_poi = self.linear_poi(torch.cat((h_t, e_poi), dim=2))\n",
    "        next_g2 = self.linear_g2(torch.cat((h_t, e_gap2), dim=2))\n",
    "        next_g3 = self.linear_g3(torch.cat((h_t, e_gap3), dim=2))\n",
    "        next_g4 = self.linear_g4(torch.cat((h_t, e_gap4), dim=2))\n",
    "        next_g5 = self.linear_g5(torch.cat((h_t, e_gap5), dim=2))\n",
    "        next_g6 = self.linear_g6(torch.cat((h_t, e_gap6), dim=2))\n",
    "\n",
    "        return next_poi, next_g2, next_g3, next_g4, next_g5, next_g6\n",
    "\n",
    "    def training_step(self, batch, batch_idx):\n",
    "        x, y = batch\n",
    "        (\n",
    "            poi_pred,\n",
    "            gap2_pred,\n",
    "            gap3_pred,\n",
    "            gap4_pred,\n",
    "            gap5_pred,\n",
    "            gap6_pred,\n",
    "        ) = self(x)\n",
    "\n",
    "        loss_poi = self.criterion(\n",
    "            poi_pred.reshape(-1, self.dims.npoi), y[1].reshape(-1)\n",
    "        )\n",
    "        loss_gap2 = self.criterion(\n",
    "            gap2_pred.reshape(-1, self.dims.g2len), y[2].reshape(-1)\n",
    "        )\n",
    "        loss_gap3 = self.criterion(\n",
    "            gap3_pred.reshape(-1, self.dims.g3len), y[3].reshape(-1)\n",
    "        )\n",
    "        loss_gap4 = self.criterion(\n",
    "            gap4_pred.reshape(-1, self.dims.g4len), y[4].reshape(-1)\n",
    "        )\n",
    "        loss_gap5 = self.criterion(\n",
    "            gap5_pred.reshape(-1, self.dims.g5len), y[5].reshape(-1)\n",
    "        )\n",
    "        loss_gap6 = self.criterion(\n",
    "            gap6_pred.reshape(-1, self.dims.g6len), y[6].reshape(-1)\n",
    "        )\n",
    "\n",
    "        loss = (\n",
    "            loss_poi + loss_gap2 + loss_gap3 + loss_gap4 + loss_gap5 + loss_gap6\n",
    "        ) / 6\n",
    "        self.log(\"train/loss\", loss)\n",
    "        self.log(\"train/loss_gap2\", loss_gap2)\n",
    "        self.log(\"train/loss_gap3\", loss_gap3)\n",
    "        self.log(\"train/loss_gap4\", loss_gap4)\n",
    "        self.log(\"train/loss_gap5\", loss_gap5)\n",
    "        self.log(\"train/loss_gap6\", loss_gap6)\n",
    "        self.log(\"train/loss_poi\", loss_poi)\n",
    "\n",
    "        return {\"loss\": loss}\n",
    "\n",
    "    def validation_step(self, batch, batch_idx):\n",
    "        x, y = batch\n",
    "        (\n",
    "            poi_pred,\n",
    "            gap2_pred,\n",
    "            gap3_pred,\n",
    "            gap4_pred,\n",
    "            gap5_pred,\n",
    "            gap6_pred,\n",
    "        ) = self(x)\n",
    "\n",
    "        loss_poi = self.criterion(\n",
    "            poi_pred.reshape(-1, self.dims.npoi), y[1].reshape(-1)\n",
    "        )\n",
    "        loss_gap2 = self.criterion(\n",
    "            gap2_pred.reshape(-1, self.dims.g2len), y[2].reshape(-1)\n",
    "        )\n",
    "        loss_gap3 = self.criterion(\n",
    "            gap3_pred.reshape(-1, self.dims.g3len), y[3].reshape(-1)\n",
    "        )\n",
    "        loss_gap4 = self.criterion(\n",
    "            gap4_pred.reshape(-1, self.dims.g4len), y[4].reshape(-1)\n",
    "        )\n",
    "        loss_gap5 = self.criterion(\n",
    "            gap5_pred.reshape(-1, self.dims.g5len), y[5].reshape(-1)\n",
    "        )\n",
    "        loss_gap6 = self.criterion(\n",
    "            gap6_pred.reshape(-1, self.dims.g6len), y[6].reshape(-1)\n",
    "        )\n",
    "\n",
    "        loss = (\n",
    "            loss_poi + loss_gap2 + loss_gap3 + loss_gap4 + loss_gap5 + loss_gap6\n",
    "        ) / 6\n",
    "\n",
    "        self.log(\"val/loss\", loss)\n",
    "        self.log(\"val/loss_gap2\", loss_gap2)\n",
    "        self.log(\"val/loss_gap3\", loss_gap3)\n",
    "        self.log(\"val/loss_gap4\", loss_gap4)\n",
    "        self.log(\"val/loss_gap5\", loss_gap5)\n",
    "        self.log(\"val/loss_gap6\", loss_gap6)\n",
    "        self.log(\"val/loss_poi\", loss_poi)\n",
    "\n",
    "        return loss\n",
    "\n",
    "    def configure_optimizers(self):\n",
    "        # Define optimizer and scheduler\n",
    "        optimizer = torch.optim.AdamW(self.parameters(), lr=1e-4, amsgrad=True)\n",
    "        return optimizer"
   ]
  },
  {
   "cell_type": "code",
   "execution_count": 54,
   "metadata": {},
   "outputs": [],
   "source": [
    "n_users = encoder_dict[\"users\"].classes_.shape[0]\n",
    "n_pois = encoder_dict[\"pois\"].classes_.shape[0]\n",
    "n_g2 = encoder_dict[\"g2\"].classes_.shape[0]\n",
    "n_g3 = encoder_dict[\"g3\"].classes_.shape[0]\n",
    "n_g4 = encoder_dict[\"g4\"].classes_.shape[0]\n",
    "n_g5 = encoder_dict[\"g5\"].classes_.shape[0]\n",
    "n_g6 = encoder_dict[\"g6\"].classes_.shape[0]\n",
    "\n",
    "\n",
    "# account for the padding token\n",
    "dims = BaselineDimensions(\n",
    "    n_users + 1, n_pois + 1, n_g2 + 1, n_g3 + 1, n_g4 + 1, n_g5 + 1, n_g6 + 1\n",
    ")"
   ]
  },
  {
   "cell_type": "code",
   "execution_count": 55,
   "metadata": {},
   "outputs": [],
   "source": [
    "wandb.finish()"
   ]
  },
  {
   "cell_type": "code",
   "execution_count": 56,
   "metadata": {},
   "outputs": [
    {
     "name": "stderr",
     "output_type": "stream",
     "text": [
      "Failed to detect the name of this notebook, you can set it manually with the WANDB_NOTEBOOK_NAME environment variable to enable code saving.\n",
      "\u001b[34m\u001b[1mwandb\u001b[0m: Currently logged in as: \u001b[33mloi-1940849\u001b[0m (\u001b[33mpoi-dl-airo\u001b[0m). Use \u001b[1m`wandb login --relogin`\u001b[0m to force relogin\n"
     ]
    },
    {
     "data": {
      "text/html": [
       "Tracking run with wandb version 0.16.6"
      ],
      "text/plain": [
       "<IPython.core.display.HTML object>"
      ]
     },
     "metadata": {},
     "output_type": "display_data"
    },
    {
     "data": {
      "text/html": [
       "Run data is saved locally in <code>/home/dario/foursquare/wandb/run-20240507_171434-2zftttc0</code>"
      ],
      "text/plain": [
       "<IPython.core.display.HTML object>"
      ]
     },
     "metadata": {},
     "output_type": "display_data"
    },
    {
     "data": {
      "text/html": [
       "Syncing run <strong><a href='https://wandb.ai/poi-dl-airo/trovailpoi/runs/2zftttc0' target=\"_blank\">deft-flower-147</a></strong> to <a href='https://wandb.ai/poi-dl-airo/trovailpoi' target=\"_blank\">Weights & Biases</a> (<a href='https://wandb.me/run' target=\"_blank\">docs</a>)<br/>"
      ],
      "text/plain": [
       "<IPython.core.display.HTML object>"
      ]
     },
     "metadata": {},
     "output_type": "display_data"
    },
    {
     "data": {
      "text/html": [
       " View project at <a href='https://wandb.ai/poi-dl-airo/trovailpoi' target=\"_blank\">https://wandb.ai/poi-dl-airo/trovailpoi</a>"
      ],
      "text/plain": [
       "<IPython.core.display.HTML object>"
      ]
     },
     "metadata": {},
     "output_type": "display_data"
    },
    {
     "data": {
      "text/html": [
       " View run at <a href='https://wandb.ai/poi-dl-airo/trovailpoi/runs/2zftttc0' target=\"_blank\">https://wandb.ai/poi-dl-airo/trovailpoi/runs/2zftttc0</a>"
      ],
      "text/plain": [
       "<IPython.core.display.HTML object>"
      ]
     },
     "metadata": {},
     "output_type": "display_data"
    },
    {
     "name": "stderr",
     "output_type": "stream",
     "text": [
      "GPU available: True (cuda), used: True\n",
      "TPU available: False, using: 0 TPU cores\n",
      "IPU available: False, using: 0 IPUs\n",
      "HPU available: False, using: 0 HPUs\n",
      "/home/dario/foursquare/.venv/lib/python3.12/site-packages/lightning/pytorch/loggers/wandb.py:396: There is a wandb run already in progress and newly created instances of `WandbLogger` will reuse this run. If this is not desired, call `wandb.finish()` before instantiating `WandbLogger`.\n",
      "LOCAL_RANK: 0 - CUDA_VISIBLE_DEVICES: [0]\n",
      "\n",
      "   | Name           | Type             | Params\n",
      "-----------------------------------------------------\n",
      "0  | user_embedding | Embedding        | 20.3 M\n",
      "1  | poi_embedding  | Embedding        | 4.6 M \n",
      "2  | g2_embed       | Embedding        | 114 K \n",
      "3  | g3_embed       | Embedding        | 287 K \n",
      "4  | g4_embed       | Embedding        | 561 K \n",
      "5  | g5_embed       | Embedding        | 1.4 M \n",
      "6  | g6_embed       | Embedding        | 2.8 M \n",
      "7  | e_drop         | Dropout          | 0     \n",
      "8  | lstm           | LSTM             | 8.4 M \n",
      "9  | linear_poi     | Linear           | 9.1 M \n",
      "10 | linear_g2      | Linear           | 229 K \n",
      "11 | linear_g3      | Linear           | 575 K \n",
      "12 | linear_g4      | Linear           | 1.1 M \n",
      "13 | linear_g5      | Linear           | 2.8 M \n",
      "14 | linear_g6      | Linear           | 5.7 M \n",
      "15 | criterion      | CrossEntropyLoss | 0     \n",
      "-----------------------------------------------------\n",
      "58.0 M    Trainable params\n",
      "0         Non-trainable params\n",
      "58.0 M    Total params\n",
      "231.868   Total estimated model params size (MB)\n"
     ]
    },
    {
     "data": {
      "application/vnd.jupyter.widget-view+json": {
       "model_id": "46dce8e3eae94d99a33e4c1b9aa655b6",
       "version_major": 2,
       "version_minor": 0
      },
      "text/plain": [
       "Sanity Checking: |          | 0/? [00:00<?, ?it/s]"
      ]
     },
     "metadata": {},
     "output_type": "display_data"
    },
    {
     "data": {
      "application/vnd.jupyter.widget-view+json": {
       "model_id": "6da34e89be114e8c8d5810ad64fb92eb",
       "version_major": 2,
       "version_minor": 0
      },
      "text/plain": [
       "Training: |          | 0/? [00:00<?, ?it/s]"
      ]
     },
     "metadata": {},
     "output_type": "display_data"
    },
    {
     "data": {
      "application/vnd.jupyter.widget-view+json": {
       "model_id": "3ce69a679bac4e31a704f387451dbb05",
       "version_major": 2,
       "version_minor": 0
      },
      "text/plain": [
       "Validation: |          | 0/? [00:00<?, ?it/s]"
      ]
     },
     "metadata": {},
     "output_type": "display_data"
    },
    {
     "data": {
      "application/vnd.jupyter.widget-view+json": {
       "model_id": "cb2a0b95cdd34801acf1a1ade6a24d1e",
       "version_major": 2,
       "version_minor": 0
      },
      "text/plain": [
       "Validation: |          | 0/? [00:00<?, ?it/s]"
      ]
     },
     "metadata": {},
     "output_type": "display_data"
    },
    {
     "data": {
      "application/vnd.jupyter.widget-view+json": {
       "model_id": "99462f4171a94f58bde79842040073ca",
       "version_major": 2,
       "version_minor": 0
      },
      "text/plain": [
       "Validation: |          | 0/? [00:00<?, ?it/s]"
      ]
     },
     "metadata": {},
     "output_type": "display_data"
    },
    {
     "data": {
      "application/vnd.jupyter.widget-view+json": {
       "model_id": "228bacc14fbd4a58a58a64112b8ca52a",
       "version_major": 2,
       "version_minor": 0
      },
      "text/plain": [
       "Validation: |          | 0/? [00:00<?, ?it/s]"
      ]
     },
     "metadata": {},
     "output_type": "display_data"
    },
    {
     "data": {
      "application/vnd.jupyter.widget-view+json": {
       "model_id": "172ff7a1ae0840ea90bc941357f7dec8",
       "version_major": 2,
       "version_minor": 0
      },
      "text/plain": [
       "Validation: |          | 0/? [00:00<?, ?it/s]"
      ]
     },
     "metadata": {},
     "output_type": "display_data"
    },
    {
     "data": {
      "application/vnd.jupyter.widget-view+json": {
       "model_id": "f3a6c4445346431eaf440d67e23f6666",
       "version_major": 2,
       "version_minor": 0
      },
      "text/plain": [
       "Validation: |          | 0/? [00:00<?, ?it/s]"
      ]
     },
     "metadata": {},
     "output_type": "display_data"
    },
    {
     "data": {
      "application/vnd.jupyter.widget-view+json": {
       "model_id": "7ad18a16302a4693a3f9ff81837711b2",
       "version_major": 2,
       "version_minor": 0
      },
      "text/plain": [
       "Validation: |          | 0/? [00:00<?, ?it/s]"
      ]
     },
     "metadata": {},
     "output_type": "display_data"
    },
    {
     "data": {
      "application/vnd.jupyter.widget-view+json": {
       "model_id": "76784081fbc84666aaf7e44e42c04177",
       "version_major": 2,
       "version_minor": 0
      },
      "text/plain": [
       "Validation: |          | 0/? [00:00<?, ?it/s]"
      ]
     },
     "metadata": {},
     "output_type": "display_data"
    },
    {
     "data": {
      "application/vnd.jupyter.widget-view+json": {
       "model_id": "c9e7669afb764e419397165d08527aec",
       "version_major": 2,
       "version_minor": 0
      },
      "text/plain": [
       "Validation: |          | 0/? [00:00<?, ?it/s]"
      ]
     },
     "metadata": {},
     "output_type": "display_data"
    },
    {
     "data": {
      "application/vnd.jupyter.widget-view+json": {
       "model_id": "906e8e076b0c4f4ca021a013cbffcb2a",
       "version_major": 2,
       "version_minor": 0
      },
      "text/plain": [
       "Validation: |          | 0/? [00:00<?, ?it/s]"
      ]
     },
     "metadata": {},
     "output_type": "display_data"
    },
    {
     "data": {
      "application/vnd.jupyter.widget-view+json": {
       "model_id": "151be9e5a6a740f3a73f67b75dfa91ee",
       "version_major": 2,
       "version_minor": 0
      },
      "text/plain": [
       "Validation: |          | 0/? [00:00<?, ?it/s]"
      ]
     },
     "metadata": {},
     "output_type": "display_data"
    },
    {
     "data": {
      "application/vnd.jupyter.widget-view+json": {
       "model_id": "1f7e07a805654162b5d2cad8dbe64138",
       "version_major": 2,
       "version_minor": 0
      },
      "text/plain": [
       "Validation: |          | 0/? [00:00<?, ?it/s]"
      ]
     },
     "metadata": {},
     "output_type": "display_data"
    },
    {
     "data": {
      "application/vnd.jupyter.widget-view+json": {
       "model_id": "d39f12ac00d849cbbe18af99945fbae0",
       "version_major": 2,
       "version_minor": 0
      },
      "text/plain": [
       "Validation: |          | 0/? [00:00<?, ?it/s]"
      ]
     },
     "metadata": {},
     "output_type": "display_data"
    },
    {
     "data": {
      "application/vnd.jupyter.widget-view+json": {
       "model_id": "4d1cfc300ca94452a1f9868dab594ef0",
       "version_major": 2,
       "version_minor": 0
      },
      "text/plain": [
       "Validation: |          | 0/? [00:00<?, ?it/s]"
      ]
     },
     "metadata": {},
     "output_type": "display_data"
    },
    {
     "data": {
      "application/vnd.jupyter.widget-view+json": {
       "model_id": "7b26b90237c54376a0808c4e54a4e92f",
       "version_major": 2,
       "version_minor": 0
      },
      "text/plain": [
       "Validation: |          | 0/? [00:00<?, ?it/s]"
      ]
     },
     "metadata": {},
     "output_type": "display_data"
    },
    {
     "data": {
      "application/vnd.jupyter.widget-view+json": {
       "model_id": "3e854f7c716c470ead67686e14306cd8",
       "version_major": 2,
       "version_minor": 0
      },
      "text/plain": [
       "Validation: |          | 0/? [00:00<?, ?it/s]"
      ]
     },
     "metadata": {},
     "output_type": "display_data"
    },
    {
     "data": {
      "application/vnd.jupyter.widget-view+json": {
       "model_id": "e9a0ad195f9649ddb4ebcb2f4d3965b2",
       "version_major": 2,
       "version_minor": 0
      },
      "text/plain": [
       "Validation: |          | 0/? [00:00<?, ?it/s]"
      ]
     },
     "metadata": {},
     "output_type": "display_data"
    },
    {
     "data": {
      "application/vnd.jupyter.widget-view+json": {
       "model_id": "4f167f1f78fd4afa924624d3c472470f",
       "version_major": 2,
       "version_minor": 0
      },
      "text/plain": [
       "Validation: |          | 0/? [00:00<?, ?it/s]"
      ]
     },
     "metadata": {},
     "output_type": "display_data"
    },
    {
     "data": {
      "application/vnd.jupyter.widget-view+json": {
       "model_id": "0a8e40dd943b4ad3b2a05aeeb7260b48",
       "version_major": 2,
       "version_minor": 0
      },
      "text/plain": [
       "Validation: |          | 0/? [00:00<?, ?it/s]"
      ]
     },
     "metadata": {},
     "output_type": "display_data"
    },
    {
     "data": {
      "application/vnd.jupyter.widget-view+json": {
       "model_id": "6ef255f256354c4d805609e305b17065",
       "version_major": 2,
       "version_minor": 0
      },
      "text/plain": [
       "Validation: |          | 0/? [00:00<?, ?it/s]"
      ]
     },
     "metadata": {},
     "output_type": "display_data"
    },
    {
     "data": {
      "application/vnd.jupyter.widget-view+json": {
       "model_id": "2d45b839c16e4f9ab24c79cf756c38f1",
       "version_major": 2,
       "version_minor": 0
      },
      "text/plain": [
       "Validation: |          | 0/? [00:00<?, ?it/s]"
      ]
     },
     "metadata": {},
     "output_type": "display_data"
    },
    {
     "data": {
      "application/vnd.jupyter.widget-view+json": {
       "model_id": "52c24f188b1d4a1fbc80095269a90966",
       "version_major": 2,
       "version_minor": 0
      },
      "text/plain": [
       "Validation: |          | 0/? [00:00<?, ?it/s]"
      ]
     },
     "metadata": {},
     "output_type": "display_data"
    },
    {
     "data": {
      "application/vnd.jupyter.widget-view+json": {
       "model_id": "7fdd0bde04764aed89b4630fbaa0b3fa",
       "version_major": 2,
       "version_minor": 0
      },
      "text/plain": [
       "Validation: |          | 0/? [00:00<?, ?it/s]"
      ]
     },
     "metadata": {},
     "output_type": "display_data"
    },
    {
     "data": {
      "application/vnd.jupyter.widget-view+json": {
       "model_id": "f74841538fe14a288507bc1b3fa30b71",
       "version_major": 2,
       "version_minor": 0
      },
      "text/plain": [
       "Validation: |          | 0/? [00:00<?, ?it/s]"
      ]
     },
     "metadata": {},
     "output_type": "display_data"
    },
    {
     "data": {
      "application/vnd.jupyter.widget-view+json": {
       "model_id": "b724900a70984d6f91088025a1569aff",
       "version_major": 2,
       "version_minor": 0
      },
      "text/plain": [
       "Validation: |          | 0/? [00:00<?, ?it/s]"
      ]
     },
     "metadata": {},
     "output_type": "display_data"
    },
    {
     "data": {
      "application/vnd.jupyter.widget-view+json": {
       "model_id": "ee2244fce0c14301999fa0ae4c160098",
       "version_major": 2,
       "version_minor": 0
      },
      "text/plain": [
       "Validation: |          | 0/? [00:00<?, ?it/s]"
      ]
     },
     "metadata": {},
     "output_type": "display_data"
    },
    {
     "data": {
      "application/vnd.jupyter.widget-view+json": {
       "model_id": "d02e5d0e40cd4572ba4393125d603ca0",
       "version_major": 2,
       "version_minor": 0
      },
      "text/plain": [
       "Validation: |          | 0/? [00:00<?, ?it/s]"
      ]
     },
     "metadata": {},
     "output_type": "display_data"
    },
    {
     "data": {
      "application/vnd.jupyter.widget-view+json": {
       "model_id": "ec178da6a93d4269b32d59ed1144db47",
       "version_major": 2,
       "version_minor": 0
      },
      "text/plain": [
       "Validation: |          | 0/? [00:00<?, ?it/s]"
      ]
     },
     "metadata": {},
     "output_type": "display_data"
    },
    {
     "data": {
      "application/vnd.jupyter.widget-view+json": {
       "model_id": "a2e1b94d0d194e91942a2d6a7435e1b0",
       "version_major": 2,
       "version_minor": 0
      },
      "text/plain": [
       "Validation: |          | 0/? [00:00<?, ?it/s]"
      ]
     },
     "metadata": {},
     "output_type": "display_data"
    },
    {
     "data": {
      "application/vnd.jupyter.widget-view+json": {
       "model_id": "0d76a44114f14c9bbc8cf393a64107a6",
       "version_major": 2,
       "version_minor": 0
      },
      "text/plain": [
       "Validation: |          | 0/? [00:00<?, ?it/s]"
      ]
     },
     "metadata": {},
     "output_type": "display_data"
    },
    {
     "data": {
      "application/vnd.jupyter.widget-view+json": {
       "model_id": "d5de36331ae842d78b8f3840c9c7d61e",
       "version_major": 2,
       "version_minor": 0
      },
      "text/plain": [
       "Validation: |          | 0/? [00:00<?, ?it/s]"
      ]
     },
     "metadata": {},
     "output_type": "display_data"
    },
    {
     "data": {
      "application/vnd.jupyter.widget-view+json": {
       "model_id": "4effa1f1d3e6426dbeaffb73ef99dcdd",
       "version_major": 2,
       "version_minor": 0
      },
      "text/plain": [
       "Validation: |          | 0/? [00:00<?, ?it/s]"
      ]
     },
     "metadata": {},
     "output_type": "display_data"
    },
    {
     "data": {
      "application/vnd.jupyter.widget-view+json": {
       "model_id": "8a91abb4a0d84ecd93f7098197e7c478",
       "version_major": 2,
       "version_minor": 0
      },
      "text/plain": [
       "Validation: |          | 0/? [00:00<?, ?it/s]"
      ]
     },
     "metadata": {},
     "output_type": "display_data"
    },
    {
     "data": {
      "application/vnd.jupyter.widget-view+json": {
       "model_id": "166fa80a6f8e4bf4882d3b367736f878",
       "version_major": 2,
       "version_minor": 0
      },
      "text/plain": [
       "Validation: |          | 0/? [00:00<?, ?it/s]"
      ]
     },
     "metadata": {},
     "output_type": "display_data"
    },
    {
     "data": {
      "application/vnd.jupyter.widget-view+json": {
       "model_id": "d622654cdb1b4f0ea12617eb31c01773",
       "version_major": 2,
       "version_minor": 0
      },
      "text/plain": [
       "Validation: |          | 0/? [00:00<?, ?it/s]"
      ]
     },
     "metadata": {},
     "output_type": "display_data"
    },
    {
     "data": {
      "application/vnd.jupyter.widget-view+json": {
       "model_id": "32ccc56b015742309039c3df5ab711c1",
       "version_major": 2,
       "version_minor": 0
      },
      "text/plain": [
       "Validation: |          | 0/? [00:00<?, ?it/s]"
      ]
     },
     "metadata": {},
     "output_type": "display_data"
    },
    {
     "data": {
      "application/vnd.jupyter.widget-view+json": {
       "model_id": "a59089173650456aa4a95dc5e39abc28",
       "version_major": 2,
       "version_minor": 0
      },
      "text/plain": [
       "Validation: |          | 0/? [00:00<?, ?it/s]"
      ]
     },
     "metadata": {},
     "output_type": "display_data"
    },
    {
     "data": {
      "application/vnd.jupyter.widget-view+json": {
       "model_id": "bf24a1de466c45f28f4fbb443b265c08",
       "version_major": 2,
       "version_minor": 0
      },
      "text/plain": [
       "Validation: |          | 0/? [00:00<?, ?it/s]"
      ]
     },
     "metadata": {},
     "output_type": "display_data"
    },
    {
     "data": {
      "application/vnd.jupyter.widget-view+json": {
       "model_id": "ec0df71bd23b49cba31e5471ac01ce94",
       "version_major": 2,
       "version_minor": 0
      },
      "text/plain": [
       "Validation: |          | 0/? [00:00<?, ?it/s]"
      ]
     },
     "metadata": {},
     "output_type": "display_data"
    },
    {
     "data": {
      "application/vnd.jupyter.widget-view+json": {
       "model_id": "0eebf1fc2b5248b3a7ceed5d18c3f8c7",
       "version_major": 2,
       "version_minor": 0
      },
      "text/plain": [
       "Validation: |          | 0/? [00:00<?, ?it/s]"
      ]
     },
     "metadata": {},
     "output_type": "display_data"
    },
    {
     "data": {
      "application/vnd.jupyter.widget-view+json": {
       "model_id": "2cb9b3526e1447a2ba8b8fa515115520",
       "version_major": 2,
       "version_minor": 0
      },
      "text/plain": [
       "Validation: |          | 0/? [00:00<?, ?it/s]"
      ]
     },
     "metadata": {},
     "output_type": "display_data"
    },
    {
     "data": {
      "application/vnd.jupyter.widget-view+json": {
       "model_id": "7a3fdef8306c4087b1946b8379b241f4",
       "version_major": 2,
       "version_minor": 0
      },
      "text/plain": [
       "VBox(children=(Label(value='0.002 MB of 0.002 MB uploaded\\r'), FloatProgress(value=1.0, max=1.0)))"
      ]
     },
     "metadata": {},
     "output_type": "display_data"
    },
    {
     "data": {
      "text/html": [
       "<style>\n",
       "    table.wandb td:nth-child(1) { padding: 0 10px; text-align: left ; width: auto;} td:nth-child(2) {text-align: left ; width: 100%}\n",
       "    .wandb-row { display: flex; flex-direction: row; flex-wrap: wrap; justify-content: flex-start; width: 100% }\n",
       "    .wandb-col { display: flex; flex-direction: column; flex-basis: 100%; flex: 1; padding: 10px; }\n",
       "    </style>\n",
       "<div class=\"wandb-row\"><div class=\"wandb-col\"><h3>Run history:</h3><br/><table class=\"wandb\"><tr><td>epoch</td><td>▁▁▁▂▂▂▂▂▂▃▃▃▃▃▃▄▄▄▄▄▅▅▅▅▅▅▆▆▆▆▆▇▇▇▇▇▇▇██</td></tr><tr><td>lr-AdamW</td><td>▁▁▁▁▁▁▁▁▁▁▁▁▁▁▁▁▁▁▁▁▁▁▁▁▁▁▁▁▁▁▁▁▁▁▁▁▁▁▁▁</td></tr><tr><td>train/loss</td><td>▆█▇▃▅▅▄▂▄▅▁▃▃▃▂▄▃▃▂▃▄▁▃▂▂▄▁▂▃▃▄▂▂▁▁▂▂▂▄▃</td></tr><tr><td>train/loss_gap2</td><td>█▆▄▂▄▃▃▂▄▃▁▂▂▂▂▄▂▂▃▃▄▁▂▃▂▅▁▂▄▃▄▃▃▂▂▂▂▂▅▂</td></tr><tr><td>train/loss_gap3</td><td>█▇▆▃▅▄▃▂▄▃▁▃▂▂▂▄▃▃▃▃▅▁▂▃▂▅▁▃▄▃▄▃▃▂▂▂▂▂▄▃</td></tr><tr><td>train/loss_gap4</td><td>▇██▃▅▄▄▂▄▄▁▃▂▂▂▄▂▃▃▃▅▁▃▃▃▅▁▂▄▃▄▃▃▂▂▂▃▂▅▃</td></tr><tr><td>train/loss_gap5</td><td>▅█▇▄▅▄▄▂▃▄▁▃▂▂▁▄▂▃▂▃▃▁▃▂▂▄▁▂▃▃▃▂▂▁▁▂▂▂▄▃</td></tr><tr><td>train/loss_gap6</td><td>▄█▇▄▅▅▄▂▄▅▁▃▃▃▁▄▂▃▂▃▃▁▂▂▂▄▁▂▃▂▃▂▂▁▁▂▂▂▄▃</td></tr><tr><td>train/loss_poi</td><td>▄█▇▃▄▅▄▂▄▆▁▃▃▄▂▄▃▃▂▃▄▂▃▂▃▄▁▂▃▃▃▃▂▂▁▂▂▂▅▃</td></tr><tr><td>trainer/global_step</td><td>▁▁▁▁▂▂▂▂▂▃▃▃▃▃▃▄▄▄▄▄▅▅▅▅▅▅▆▆▆▆▆▇▇▇▇▇▇███</td></tr><tr><td>val/loss</td><td>█▆▅▄▃▃▃▂▂▂▂▂▂▁▁▁▁▁▁▁▁▁▁▁▁▁▁▁▁▁▁▁▁▁▁▁▁▁▁▁</td></tr><tr><td>val/loss_gap2</td><td>█▄▂▂▂▁▁▁▁▁▁▁▁▁▁▁▁▁▁▁▁▁▁▁▁▁▁▁▁▁▁▂▂▂▂▂▂▂▂▂</td></tr><tr><td>val/loss_gap3</td><td>█▅▃▂▂▂▁▁▁▁▁▁▁▁▁▁▁▁▁▁▁▁▁▁▁▁▁▁▁▁▁▁▁▁▁▁▁▁▁▂</td></tr><tr><td>val/loss_gap4</td><td>█▅▄▃▂▂▂▂▁▁▁▁▁▁▁▁▁▁▁▁▁▁▁▁▁▁▁▁▁▁▁▁▁▁▁▁▁▁▁▁</td></tr><tr><td>val/loss_gap5</td><td>█▆▅▄▃▃▂▂▂▂▂▁▁▁▁▁▁▁▁▁▁▁▁▁▁▁▁▁▁▁▁▁▁▁▁▁▁▁▁▁</td></tr><tr><td>val/loss_gap6</td><td>█▇▆▅▅▄▄▃▃▃▂▂▂▂▂▂▁▁▁▁▁▁▁▁▁▁▁▁▁▁▁▁▁▁▁▁▁▁▁▁</td></tr><tr><td>val/loss_poi</td><td>█▇▆▆▅▅▄▄▄▄▄▃▃▃▃▃▃▂▂▂▂▂▂▂▂▂▂▂▁▁▁▁▁▁▁▁▁▁▁▁</td></tr></table><br/></div><div class=\"wandb-col\"><h3>Run summary:</h3><br/><table class=\"wandb\"><tr><td>epoch</td><td>40</td></tr><tr><td>lr-AdamW</td><td>0.0001</td></tr><tr><td>train/loss</td><td>0.6859</td></tr><tr><td>train/loss_gap2</td><td>0.1784</td></tr><tr><td>train/loss_gap3</td><td>0.25995</td></tr><tr><td>train/loss_gap4</td><td>0.4324</td></tr><tr><td>train/loss_gap5</td><td>0.78455</td></tr><tr><td>train/loss_gap6</td><td>1.04183</td></tr><tr><td>train/loss_poi</td><td>1.41824</td></tr><tr><td>trainer/global_step</td><td>20376</td></tr><tr><td>val/loss</td><td>1.03938</td></tr><tr><td>val/loss_gap2</td><td>0.43381</td></tr><tr><td>val/loss_gap3</td><td>0.58508</td></tr><tr><td>val/loss_gap4</td><td>0.75377</td></tr><tr><td>val/loss_gap5</td><td>1.13682</td></tr><tr><td>val/loss_gap6</td><td>1.46917</td></tr><tr><td>val/loss_poi</td><td>1.85759</td></tr></table><br/></div></div>"
      ],
      "text/plain": [
       "<IPython.core.display.HTML object>"
      ]
     },
     "metadata": {},
     "output_type": "display_data"
    },
    {
     "data": {
      "text/html": [
       " View run <strong style=\"color:#cdcd00\">deft-flower-147</strong> at: <a href='https://wandb.ai/poi-dl-airo/trovailpoi/runs/2zftttc0' target=\"_blank\">https://wandb.ai/poi-dl-airo/trovailpoi/runs/2zftttc0</a><br/> View project at: <a href='https://wandb.ai/poi-dl-airo/trovailpoi' target=\"_blank\">https://wandb.ai/poi-dl-airo/trovailpoi</a><br/>Synced 5 W&B file(s), 0 media file(s), 0 artifact file(s) and 0 other file(s)"
      ],
      "text/plain": [
       "<IPython.core.display.HTML object>"
      ]
     },
     "metadata": {},
     "output_type": "display_data"
    },
    {
     "data": {
      "text/html": [
       "Find logs at: <code>./wandb/run-20240507_171434-2zftttc0/logs</code>"
      ],
      "text/plain": [
       "<IPython.core.display.HTML object>"
      ]
     },
     "metadata": {},
     "output_type": "display_data"
    }
   ],
   "source": [
    "from lightning.pytorch.loggers import WandbLogger\n",
    "from lightning.pytorch import Trainer\n",
    "\n",
    "\n",
    "batch_size = 60\n",
    "wandb.finish()\n",
    "torch.cuda.empty_cache()\n",
    "# cargo-cult like stuff that is supposed to make you faster\n",
    "torch.set_float32_matmul_precision(\"medium\")\n",
    "torch.backends.cudnn.benchmark = True\n",
    "\n",
    "ds = CheckinModule(encoded_data, batch_size=32, workers=4)\n",
    "\n",
    "wandb.init(project=\"trovailpoi\")\n",
    "\n",
    "classifier = HMT_RN(dims, embedding_dim=1024, lstm_hidden_dim=1024)\n",
    "wandb_logger = WandbLogger(project=\"trovailpoi\")\n",
    "trainer = Trainer(\n",
    "    max_epochs=200,\n",
    "    accelerator=\"auto\",\n",
    "    devices=[0],\n",
    "    log_every_n_steps=10,\n",
    "    logger=wandb_logger,\n",
    "    strategy=\"auto\",\n",
    "    callbacks=[\n",
    "        torchpl.callbacks.LearningRateMonitor(logging_interval=\"step\"),\n",
    "        torchpl.callbacks.ModelCheckpoint(\n",
    "            monitor=\"val/loss\",\n",
    "            mode=\"min\",\n",
    "            save_top_k=1,\n",
    "            save_last=True,\n",
    "            filename=\"best_model\",\n",
    "        ),\n",
    "        torchpl.callbacks.EarlyStopping(monitor=\"val/loss\", patience=10, mode=\"min\"),\n",
    "    ],\n",
    ")\n",
    "\n",
    "trainer.fit(model=classifier, datamodule=ds)\n",
    "wandb.finish()"
   ]
  },
  {
   "cell_type": "markdown",
   "metadata": {},
   "source": [
    "## Scrapbook for Experimentation\n",
    "\n",
    "Ignore all code below, it's just for quick prototyping"
   ]
  }
 ],
 "metadata": {
  "kernelspec": {
   "display_name": ".env",
   "language": "python",
   "name": "python3"
  },
  "language_info": {
   "codemirror_mode": {
    "name": "ipython",
    "version": 3
   },
   "file_extension": ".py",
   "mimetype": "text/x-python",
   "name": "python",
   "nbconvert_exporter": "python",
   "pygments_lexer": "ipython3",
   "version": "3.12.3"
  }
 },
 "nbformat": 4,
 "nbformat_minor": 2
}
